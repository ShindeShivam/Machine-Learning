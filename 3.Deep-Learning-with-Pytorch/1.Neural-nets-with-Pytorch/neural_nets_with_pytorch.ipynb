{
 "cells": [
  {
   "cell_type": "markdown",
   "id": "d9e63ee1-de20-46b2-9ef1-a7c43d53d615",
   "metadata": {},
   "source": [
    "##  PyTorch Fundamentals"
   ]
  },
  {
   "cell_type": "markdown",
   "id": "9750591c-0cea-45c6-ac42-e625876428dd",
   "metadata": {},
   "source": [
    "### PyTorch Tensors"
   ]
  },
  {
   "cell_type": "code",
   "execution_count": 4,
   "id": "62ce59ba-6336-4739-a877-86cfe37e280a",
   "metadata": {},
   "outputs": [
    {
     "data": {
      "text/plain": [
       "tensor([[1., 7., 3.],\n",
       "        [4., 5., 6.]])"
      ]
     },
     "execution_count": 4,
     "metadata": {},
     "output_type": "execute_result"
    }
   ],
   "source": [
    "import torch\n",
    "\n",
    "X = torch.tensor([[1.0, 7.0, 3.0],[4.0, 5.0, 6.0]])\n",
    "X"
   ]
  },
  {
   "cell_type": "code",
   "execution_count": 5,
   "id": "1448e474-5193-4ab7-a0cb-345e360c9172",
   "metadata": {},
   "outputs": [
    {
     "data": {
      "text/plain": [
       "torch.Size([2, 3])"
      ]
     },
     "execution_count": 5,
     "metadata": {},
     "output_type": "execute_result"
    }
   ],
   "source": [
    "X.shape"
   ]
  },
  {
   "cell_type": "code",
   "execution_count": 6,
   "id": "e4e12a9b-0734-4128-b5b0-3c605f5b5159",
   "metadata": {},
   "outputs": [
    {
     "data": {
      "text/plain": [
       "torch.float32"
      ]
     },
     "execution_count": 6,
     "metadata": {},
     "output_type": "execute_result"
    }
   ],
   "source": [
    "X.dtype"
   ]
  },
  {
   "cell_type": "code",
   "execution_count": 7,
   "id": "42a80dbd-6e0a-462b-b7ec-bcd5062bb719",
   "metadata": {},
   "outputs": [
    {
     "data": {
      "text/plain": [
       "tensor(3.)"
      ]
     },
     "execution_count": 7,
     "metadata": {},
     "output_type": "execute_result"
    }
   ],
   "source": [
    "X[0, 2]"
   ]
  },
  {
   "cell_type": "code",
   "execution_count": 8,
   "id": "5d9f2141-3da3-4e1e-9043-44ec66891b53",
   "metadata": {},
   "outputs": [
    {
     "data": {
      "text/plain": [
       "tensor([3., 6.])"
      ]
     },
     "execution_count": 8,
     "metadata": {},
     "output_type": "execute_result"
    }
   ],
   "source": [
    "X[:, 2]"
   ]
  },
  {
   "cell_type": "code",
   "execution_count": 9,
   "id": "fa5d9127-9683-41aa-ab53-fba429b124bf",
   "metadata": {},
   "outputs": [
    {
     "data": {
      "text/plain": [
       "tensor([[20., 80., 40.],\n",
       "        [50., 60., 70.]])"
      ]
     },
     "execution_count": 9,
     "metadata": {},
     "output_type": "execute_result"
    }
   ],
   "source": [
    "10 * (X + 1)"
   ]
  },
  {
   "cell_type": "code",
   "execution_count": 10,
   "id": "ec47ff32-fb30-4eb6-bde0-39e1af9d4763",
   "metadata": {},
   "outputs": [
    {
     "data": {
      "text/plain": [
       "tensor([[   2.7183, 1096.6332,   20.0855],\n",
       "        [  54.5982,  148.4132,  403.4288]])"
      ]
     },
     "execution_count": 10,
     "metadata": {},
     "output_type": "execute_result"
    }
   ],
   "source": [
    "X.exp()"
   ]
  },
  {
   "cell_type": "code",
   "execution_count": 11,
   "id": "efac4d8d-b9b7-41b7-9904-ebefcd7d815b",
   "metadata": {},
   "outputs": [
    {
     "data": {
      "text/plain": [
       "tensor(4.3333)"
      ]
     },
     "execution_count": 11,
     "metadata": {},
     "output_type": "execute_result"
    }
   ],
   "source": [
    "X.mean()"
   ]
  },
  {
   "cell_type": "code",
   "execution_count": 12,
   "id": "74e43d09-a059-4f3f-9d4d-c83e9bb87ea3",
   "metadata": {},
   "outputs": [
    {
     "data": {
      "text/plain": [
       "torch.return_types.max(\n",
       "values=tensor([4., 7., 6.]),\n",
       "indices=tensor([1, 0, 1]))"
      ]
     },
     "execution_count": 12,
     "metadata": {},
     "output_type": "execute_result"
    }
   ],
   "source": [
    "X.max(0)  "
   ]
  },
  {
   "cell_type": "code",
   "execution_count": 13,
   "id": "edf2d962-f984-47f2-8b88-e04d56260d58",
   "metadata": {},
   "outputs": [
    {
     "data": {
      "text/plain": [
       "tensor([[1., 4.],\n",
       "        [7., 5.],\n",
       "        [3., 6.]])"
      ]
     },
     "execution_count": 13,
     "metadata": {},
     "output_type": "execute_result"
    }
   ],
   "source": [
    "X.T"
   ]
  },
  {
   "cell_type": "code",
   "execution_count": 14,
   "id": "2752a0d4-7fcf-4522-b570-601b801a6b38",
   "metadata": {},
   "outputs": [
    {
     "data": {
      "text/plain": [
       "torch.Size([3, 2])"
      ]
     },
     "execution_count": 14,
     "metadata": {},
     "output_type": "execute_result"
    }
   ],
   "source": [
    "X.T.shape"
   ]
  },
  {
   "cell_type": "code",
   "execution_count": 15,
   "id": "1de2409d-cbee-42f9-98ba-f898e89e7ca2",
   "metadata": {},
   "outputs": [
    {
     "data": {
      "text/plain": [
       "tensor([[59., 57.],\n",
       "        [57., 77.]])"
      ]
     },
     "execution_count": 15,
     "metadata": {},
     "output_type": "execute_result"
    }
   ],
   "source": [
    "X @ X.T"
   ]
  },
  {
   "cell_type": "code",
   "execution_count": 16,
   "id": "84c3e3b0-aae2-4081-ac40-8d701de61b5d",
   "metadata": {},
   "outputs": [
    {
     "data": {
      "text/plain": [
       "array([[1., 7., 3.],\n",
       "       [4., 5., 6.]], dtype=float32)"
      ]
     },
     "execution_count": 16,
     "metadata": {},
     "output_type": "execute_result"
    }
   ],
   "source": [
    "import numpy as np\n",
    "\n",
    "X.numpy()"
   ]
  },
  {
   "cell_type": "code",
   "execution_count": 17,
   "id": "9ed92ac5-e72b-40bb-b070-b71c4d7a5cdf",
   "metadata": {},
   "outputs": [
    {
     "data": {
      "text/plain": [
       "array([[1., 7., 3.],\n",
       "       [4., 5., 6.]])"
      ]
     },
     "execution_count": 17,
     "metadata": {},
     "output_type": "execute_result"
    }
   ],
   "source": [
    "np.array([[1.0, 7.0, 3.0],[4.0, 5.0, 6.0]])"
   ]
  },
  {
   "cell_type": "code",
   "execution_count": 18,
   "id": "772f3da2-1f58-4a64-a3ba-205fab3f2a22",
   "metadata": {},
   "outputs": [
    {
     "data": {
      "text/plain": [
       "tensor([[1., 7., 3.],\n",
       "        [4., 5., 6.]], dtype=torch.float64)"
      ]
     },
     "execution_count": 18,
     "metadata": {},
     "output_type": "execute_result"
    }
   ],
   "source": [
    "torch.tensor(np.array([[1.0, 7.0, 3.0],[4.0, 5.0, 6.0]]))"
   ]
  },
  {
   "cell_type": "code",
   "execution_count": 19,
   "id": "581a70e2-9c2b-4fa6-9eae-1484e2b0a16f",
   "metadata": {},
   "outputs": [
    {
     "data": {
      "text/plain": [
       "tensor([[1., 7., 3.],\n",
       "        [4., 5., 6.]])"
      ]
     },
     "execution_count": 19,
     "metadata": {},
     "output_type": "execute_result"
    }
   ],
   "source": [
    "torch.tensor(np.array([[1.0, 7.0, 3.0],[4.0, 5.0, 6.0]]),dtype =torch.float32)"
   ]
  },
  {
   "cell_type": "code",
   "execution_count": 20,
   "id": "ffb1727d-2f32-444c-aa9a-13e88235663b",
   "metadata": {},
   "outputs": [
    {
     "data": {
      "text/plain": [
       "tensor([[1., 7., 3.],\n",
       "        [4., 5., 6.]])"
      ]
     },
     "execution_count": 20,
     "metadata": {},
     "output_type": "execute_result"
    }
   ],
   "source": [
    "torch.FloatTensor(np.array([[1.0, 7.0, 3.0],[4.0, 5.0, 6.0]]))"
   ]
  },
  {
   "cell_type": "code",
   "execution_count": 21,
   "id": "59c04a4f-9489-480f-adb7-90b0f4c706aa",
   "metadata": {},
   "outputs": [
    {
     "data": {
      "text/plain": [
       "tensor([[ 1., 33.,  3.],\n",
       "        [ 4.,  5.,  6.]], dtype=torch.float64)"
      ]
     },
     "execution_count": 21,
     "metadata": {},
     "output_type": "execute_result"
    }
   ],
   "source": [
    "X2_np = np.array([[1.0, 7.0, 3.0],[4.0, 5.0, 6.0]])\n",
    "X2 = torch.from_numpy(X2_np)\n",
    "X2_np[0,1] = 33\n",
    "X2"
   ]
  },
  {
   "cell_type": "code",
   "execution_count": 22,
   "id": "c12832f6-af4f-4829-8c3d-849ebb9b7f98",
   "metadata": {},
   "outputs": [
    {
     "data": {
      "text/plain": [
       "tensor([[  1., -44.,   3.],\n",
       "        [  4., -44.,   6.]])"
      ]
     },
     "execution_count": 22,
     "metadata": {},
     "output_type": "execute_result"
    }
   ],
   "source": [
    "X[:,1] = -44\n",
    "X"
   ]
  },
  {
   "cell_type": "code",
   "execution_count": 23,
   "id": "582c2fcf-2e1a-4ab5-863b-1d94a27a7750",
   "metadata": {},
   "outputs": [
    {
     "data": {
      "text/plain": [
       "tensor([[1., 0., 3.],\n",
       "        [4., 0., 6.]])"
      ]
     },
     "execution_count": 23,
     "metadata": {},
     "output_type": "execute_result"
    }
   ],
   "source": [
    "X.relu()"
   ]
  },
  {
   "cell_type": "markdown",
   "id": "004829b4-7fa3-4cbd-b4c5-9849c1e1c011",
   "metadata": {},
   "source": [
    "## Hardward Acceleration"
   ]
  },
  {
   "cell_type": "code",
   "execution_count": 25,
   "id": "c9d253c3-84e6-4e54-ac35-2b0986fd3055",
   "metadata": {},
   "outputs": [],
   "source": [
    "if torch.cuda.is_available():\n",
    "    device = \"cuda\"\n",
    "elif torch.backends.mps.is_available():\n",
    "    device = \"mps\"\n",
    "else:\n",
    "    device = \"cpu\""
   ]
  },
  {
   "cell_type": "code",
   "execution_count": 26,
   "id": "0a51e0f8-7f5f-4519-bb96-85398d5f06b3",
   "metadata": {},
   "outputs": [
    {
     "data": {
      "text/plain": [
       "'mps'"
      ]
     },
     "execution_count": 26,
     "metadata": {},
     "output_type": "execute_result"
    }
   ],
   "source": [
    "device"
   ]
  },
  {
   "cell_type": "code",
   "execution_count": 27,
   "id": "7809b23a-6bd6-4250-b9c7-325a99636f6b",
   "metadata": {},
   "outputs": [
    {
     "data": {
      "text/plain": [
       "device(type='mps', index=0)"
      ]
     },
     "execution_count": 27,
     "metadata": {},
     "output_type": "execute_result"
    }
   ],
   "source": [
    "# First CPU → then GPU\n",
    "M = torch.tensor([[1.0, 7.0, 3.0],[4.0, 5.0, 6.0]])\n",
    "M = M.to(device)\n",
    "M.device"
   ]
  },
  {
   "cell_type": "code",
   "execution_count": 28,
   "id": "2a42a93e-fa4d-46b3-bd2e-4f38d671d5f5",
   "metadata": {},
   "outputs": [
    {
     "data": {
      "text/plain": [
       "device(type='mps', index=0)"
      ]
     },
     "execution_count": 28,
     "metadata": {},
     "output_type": "execute_result"
    }
   ],
   "source": [
    "# Direct GPU\n",
    "M = torch.tensor([[1.0, 7.0, 3.0],[4.0, 5.0, 6.0]], device=device)\n",
    "M.device"
   ]
  },
  {
   "cell_type": "code",
   "execution_count": 29,
   "id": "8dfe7f04-c6c4-4cb7-8f35-f83343f9cf55",
   "metadata": {},
   "outputs": [
    {
     "data": {
      "text/plain": [
       "tensor([[59., 57.],\n",
       "        [57., 77.]], device='mps:0')"
      ]
     },
     "execution_count": 29,
     "metadata": {},
     "output_type": "execute_result"
    }
   ],
   "source": [
    "R = M @ M.T\n",
    "R"
   ]
  },
  {
   "cell_type": "code",
   "execution_count": 30,
   "id": "cdc24785-8a84-4c69-9839-a4d207cc9d5a",
   "metadata": {},
   "outputs": [
    {
     "name": "stdout",
     "output_type": "stream",
     "text": [
      "11.2 ms ± 387 μs per loop (mean ± std. dev. of 7 runs, 100 loops each)\n",
      "10.6 ms ± 130 μs per loop (mean ± std. dev. of 7 runs, 1,000 loops each)\n"
     ]
    }
   ],
   "source": [
    "M = torch.rand((2000,2000))\n",
    "M @ M.T # warmup\n",
    "%timeit M @ M.T\n",
    "\n",
    "M = M.to(device)\n",
    "M @ M.T # warmup\n",
    "%timeit M @ M.T"
   ]
  },
  {
   "cell_type": "markdown",
   "id": "f18226ce-05a6-48a5-91d7-32bd2b1c5a0c",
   "metadata": {},
   "source": [
    "## Autograd"
   ]
  },
  {
   "cell_type": "code",
   "execution_count": 32,
   "id": "eb857f3b-9470-44a0-9230-28d77ae54d4b",
   "metadata": {},
   "outputs": [
    {
     "data": {
      "text/plain": [
       "tensor(16., grad_fn=<PowBackward0>)"
      ]
     },
     "execution_count": 32,
     "metadata": {},
     "output_type": "execute_result"
    }
   ],
   "source": [
    "X = torch.tensor(4.0, requires_grad = True)\n",
    "f = X ** 2\n",
    "f"
   ]
  },
  {
   "cell_type": "code",
   "execution_count": 33,
   "id": "a12ca336-426c-44bb-abe2-d7b9593bc8f4",
   "metadata": {},
   "outputs": [
    {
     "data": {
      "text/plain": [
       "tensor(8.)"
      ]
     },
     "execution_count": 33,
     "metadata": {},
     "output_type": "execute_result"
    }
   ],
   "source": [
    "f.backward()\n",
    "X.grad"
   ]
  },
  {
   "cell_type": "code",
   "execution_count": 34,
   "id": "296b0e46-bba2-4251-9952-fecdf2f02236",
   "metadata": {},
   "outputs": [],
   "source": [
    "learning_rate = 0.1\n",
    "with torch.no_grad():\n",
    "    X -= learning_rate * X.grad"
   ]
  },
  {
   "cell_type": "code",
   "execution_count": 35,
   "id": "fedff63f-9554-4528-9779-3f0488ff09c8",
   "metadata": {},
   "outputs": [
    {
     "data": {
      "text/plain": [
       "tensor(3.2000, requires_grad=True)"
      ]
     },
     "execution_count": 35,
     "metadata": {},
     "output_type": "execute_result"
    }
   ],
   "source": [
    "X"
   ]
  },
  {
   "cell_type": "code",
   "execution_count": 36,
   "id": "7a32c68e-f1d6-4a55-b0c0-2814803ecb90",
   "metadata": {},
   "outputs": [
    {
     "data": {
      "text/plain": [
       "tensor(2.4000)"
      ]
     },
     "execution_count": 36,
     "metadata": {},
     "output_type": "execute_result"
    }
   ],
   "source": [
    "X_detached = X.detach()\n",
    "X_detached -= learning_rate * X.grad\n",
    "X_detached"
   ]
  },
  {
   "cell_type": "code",
   "execution_count": 37,
   "id": "040a8f48-34c3-4203-b783-e2bd30848a06",
   "metadata": {},
   "outputs": [
    {
     "data": {
      "text/plain": [
       "tensor(0.)"
      ]
     },
     "execution_count": 37,
     "metadata": {},
     "output_type": "execute_result"
    }
   ],
   "source": [
    "X.grad.zero_()   # resets gradients not value"
   ]
  },
  {
   "cell_type": "code",
   "execution_count": 38,
   "id": "04d9e42d-1b88-4e42-a9b6-8505d027fa89",
   "metadata": {},
   "outputs": [
    {
     "data": {
      "text/plain": [
       "tensor(2.4000, requires_grad=True)"
      ]
     },
     "execution_count": 38,
     "metadata": {},
     "output_type": "execute_result"
    }
   ],
   "source": [
    "X"
   ]
  },
  {
   "cell_type": "code",
   "execution_count": 39,
   "id": "ac420e0e-24b9-4bc5-9249-60d08da876ba",
   "metadata": {},
   "outputs": [
    {
     "name": "stdout",
     "output_type": "stream",
     "text": [
      "tensor(3.9200, requires_grad=True)\n",
      "tensor(3.8416, requires_grad=True)\n",
      "tensor(3.7648, requires_grad=True)\n",
      "tensor(3.6895, requires_grad=True)\n",
      "tensor(3.6157, requires_grad=True)\n",
      "tensor(3.5434, requires_grad=True)\n",
      "tensor(3.4725, requires_grad=True)\n",
      "tensor(3.4031, requires_grad=True)\n",
      "tensor(3.3350, requires_grad=True)\n",
      "tensor(3.2683, requires_grad=True)\n",
      "tensor(3.2029, requires_grad=True)\n",
      "tensor(3.1389, requires_grad=True)\n",
      "tensor(3.0761, requires_grad=True)\n",
      "tensor(3.0146, requires_grad=True)\n",
      "tensor(2.9543, requires_grad=True)\n",
      "tensor(2.8952, requires_grad=True)\n",
      "tensor(2.8373, requires_grad=True)\n",
      "tensor(2.7805, requires_grad=True)\n",
      "tensor(2.7249, requires_grad=True)\n",
      "tensor(2.6704, requires_grad=True)\n",
      "tensor(2.6170, requires_grad=True)\n",
      "tensor(2.5647, requires_grad=True)\n",
      "tensor(2.5134, requires_grad=True)\n",
      "tensor(2.4631, requires_grad=True)\n",
      "tensor(2.4139, requires_grad=True)\n",
      "tensor(2.3656, requires_grad=True)\n",
      "tensor(2.3183, requires_grad=True)\n",
      "tensor(2.2719, requires_grad=True)\n",
      "tensor(2.2265, requires_grad=True)\n",
      "tensor(2.1819, requires_grad=True)\n",
      "tensor(2.1383, requires_grad=True)\n",
      "tensor(2.0955, requires_grad=True)\n",
      "tensor(2.0536, requires_grad=True)\n",
      "tensor(2.0125, requires_grad=True)\n",
      "tensor(1.9723, requires_grad=True)\n",
      "tensor(1.9329, requires_grad=True)\n",
      "tensor(1.8942, requires_grad=True)\n",
      "tensor(1.8563, requires_grad=True)\n",
      "tensor(1.8192, requires_grad=True)\n",
      "tensor(1.7828, requires_grad=True)\n",
      "tensor(1.7471, requires_grad=True)\n",
      "tensor(1.7122, requires_grad=True)\n",
      "tensor(1.6780, requires_grad=True)\n",
      "tensor(1.6444, requires_grad=True)\n",
      "tensor(1.6115, requires_grad=True)\n",
      "tensor(1.5793, requires_grad=True)\n",
      "tensor(1.5477, requires_grad=True)\n",
      "tensor(1.5167, requires_grad=True)\n",
      "tensor(1.4864, requires_grad=True)\n",
      "tensor(1.4567, requires_grad=True)\n"
     ]
    }
   ],
   "source": [
    "learning_rate = 0.01\n",
    "x = torch.tensor(4.0,requires_grad = True)\n",
    "for iterations in range(50):\n",
    "    f = x ** 2  # forward pass\n",
    "    f.backward() # backward pass\n",
    "    with torch.no_grad():\n",
    "        x -= learning_rate * x.grad # gradient descent step\n",
    "    x.grad.zero_()\n",
    "    print(x )\n",
    "    "
   ]
  },
  {
   "cell_type": "markdown",
   "id": "fae0d1d3-08e8-4936-90da-1547245630a1",
   "metadata": {},
   "source": [
    "## Implementation of Linear Regression"
   ]
  },
  {
   "cell_type": "code",
   "execution_count": 41,
   "id": "677b4235-a5f4-499b-920a-01c514331f0c",
   "metadata": {},
   "outputs": [],
   "source": [
    "from sklearn.datasets import fetch_california_housing\n",
    "from sklearn.model_selection import train_test_split\n",
    "\n",
    "housing = fetch_california_housing()\n",
    "X_train_full, X_test, y_train_full, y_test = train_test_split(housing.data,\n",
    "                                                        housing.target, random_state=42)\n",
    "X_train, X_valid, y_train, y_valid = train_test_split(X_train_full,y_train_full,\n",
    "                                                     random_state=42)"
   ]
  },
  {
   "cell_type": "code",
   "execution_count": 42,
   "id": "7da286da-c88c-4570-9650-466b69f403e3",
   "metadata": {},
   "outputs": [
    {
     "data": {
      "text/plain": [
       "dtype('float64')"
      ]
     },
     "execution_count": 42,
     "metadata": {},
     "output_type": "execute_result"
    }
   ],
   "source": [
    "X_train.dtype"
   ]
  },
  {
   "cell_type": "code",
   "execution_count": 43,
   "id": "36972468-8fd3-4cce-adbe-2ba28217f57a",
   "metadata": {},
   "outputs": [],
   "source": [
    "X_train = torch.FloatTensor(X_train)\n",
    "X_valid = torch.FloatTensor(X_valid)\n",
    "X_test = torch.FloatTensor(X_test)"
   ]
  },
  {
   "cell_type": "code",
   "execution_count": 44,
   "id": "ac1dd1b2-e2c8-45b7-a3b1-d7e17ea87894",
   "metadata": {},
   "outputs": [
    {
     "data": {
      "text/plain": [
       "torch.Size([11610, 8])"
      ]
     },
     "execution_count": 44,
     "metadata": {},
     "output_type": "execute_result"
    }
   ],
   "source": [
    "X_train.shape"
   ]
  },
  {
   "cell_type": "code",
   "execution_count": 45,
   "id": "fd045fcb-e1f9-439c-8104-7cd37fdf2e1c",
   "metadata": {},
   "outputs": [
    {
     "data": {
      "text/plain": [
       "torch.float32"
      ]
     },
     "execution_count": 45,
     "metadata": {},
     "output_type": "execute_result"
    }
   ],
   "source": [
    "X_train.dtype"
   ]
  },
  {
   "cell_type": "code",
   "execution_count": 46,
   "id": "08dd49b9-0498-47d1-998e-a7c0cc9c77c0",
   "metadata": {
    "scrolled": true
   },
   "outputs": [
    {
     "data": {
      "text/plain": [
       "tensor([[ 3.5214e+00,  1.5000e+01,  3.0499e+00,  1.1065e+00,  1.4470e+03,\n",
       "          1.6060e+00,  3.7630e+01, -1.2243e+02],\n",
       "        [ 5.3275e+00,  5.0000e+00,  6.4901e+00,  9.9105e-01,  3.4640e+03,\n",
       "          3.4433e+00,  3.3690e+01, -1.1739e+02],\n",
       "        [ 3.1000e+00,  2.9000e+01,  7.5424e+00,  1.5915e+00,  1.3280e+03,\n",
       "          2.2508e+00,  3.8440e+01, -1.2298e+02],\n",
       "        [ 7.1736e+00,  1.2000e+01,  6.2890e+00,  9.9744e-01,  1.0540e+03,\n",
       "          2.6957e+00,  3.3550e+01, -1.1770e+02]])"
      ]
     },
     "execution_count": 46,
     "metadata": {},
     "output_type": "execute_result"
    }
   ],
   "source": [
    "X_train[:4]"
   ]
  },
  {
   "cell_type": "code",
   "execution_count": 47,
   "id": "3d49b394-0c59-4b12-b142-c74d0027e3e5",
   "metadata": {},
   "outputs": [],
   "source": [
    "means = X_train.mean(dim=0, keepdims=True)    # row vector\n",
    "std = X_train.std(dim=0, keepdims=True)"
   ]
  },
  {
   "cell_type": "code",
   "execution_count": 48,
   "id": "fb2747dd-76d6-42bd-a91a-f8b405874640",
   "metadata": {},
   "outputs": [
    {
     "data": {
      "text/plain": [
       "tensor([[-0.1940, -1.0778, -0.9433,  0.0149,  0.0207, -0.5729,  0.9292, -1.4221],\n",
       "        [ 0.7520, -1.8688,  0.4055, -0.2333,  1.8614,  0.2052, -0.9165,  1.0966],\n",
       "        [-0.4147,  0.0297,  0.8181,  1.0567, -0.0879, -0.2998,  1.3087, -1.6970],\n",
       "        [ 1.7188, -1.3151,  0.3266, -0.2195, -0.3379, -0.1115, -0.9821,  0.9417]])"
      ]
     },
     "execution_count": 48,
     "metadata": {},
     "output_type": "execute_result"
    }
   ],
   "source": [
    "X_train = (X_train - means) / std\n",
    "X_valid = (X_valid - means) / std\n",
    "X_test = (X_test - means) / std\n",
    "X_train[:4]"
   ]
  },
  {
   "cell_type": "code",
   "execution_count": 49,
   "id": "95cedb50-b586-4b73-b268-38f250bcb130",
   "metadata": {},
   "outputs": [
    {
     "data": {
      "text/plain": [
       "torch.Size([1, 2, 2])"
      ]
     },
     "execution_count": 49,
     "metadata": {},
     "output_type": "execute_result"
    }
   ],
   "source": [
    "a = torch.tensor([[[1,2],[3,4]]])\n",
    "a.shape"
   ]
  },
  {
   "cell_type": "code",
   "execution_count": 50,
   "id": "30947db9-6035-44ba-9f09-469368d5ff11",
   "metadata": {},
   "outputs": [],
   "source": [
    "a = a.view(-1,1)  # column vector"
   ]
  },
  {
   "cell_type": "code",
   "execution_count": 51,
   "id": "9c075e05-2d9c-46c2-ade9-7ad8629b45d9",
   "metadata": {},
   "outputs": [
    {
     "data": {
      "text/plain": [
       "tensor([[1],\n",
       "        [2],\n",
       "        [3],\n",
       "        [4]])"
      ]
     },
     "execution_count": 51,
     "metadata": {},
     "output_type": "execute_result"
    }
   ],
   "source": [
    "a"
   ]
  },
  {
   "cell_type": "code",
   "execution_count": 52,
   "id": "111d8bf7-1660-4ae3-b3cf-8d630a8c6f02",
   "metadata": {},
   "outputs": [
    {
     "data": {
      "text/plain": [
       "torch.Size([4, 1])"
      ]
     },
     "execution_count": 52,
     "metadata": {},
     "output_type": "execute_result"
    }
   ],
   "source": [
    "a.shape"
   ]
  },
  {
   "cell_type": "code",
   "execution_count": 53,
   "id": "2558e7be-8aa8-40a8-b8b2-02c41eac728c",
   "metadata": {},
   "outputs": [
    {
     "data": {
      "text/plain": [
       "torch.Size([11610, 1])"
      ]
     },
     "execution_count": 53,
     "metadata": {},
     "output_type": "execute_result"
    }
   ],
   "source": [
    "y_train = torch.FloatTensor(y_train).view(-1,1)\n",
    "y_valid = torch.FloatTensor(y_valid).view(-1,1)\n",
    "y_test = torch.FloatTensor(y_test).view(-1,1)\n",
    "y_train.shape"
   ]
  },
  {
   "cell_type": "code",
   "execution_count": 54,
   "id": "b3b33d74-ea63-4605-900d-2c1244ac3e82",
   "metadata": {},
   "outputs": [],
   "source": [
    "torch.manual_seed(42)\n",
    "n_features = X_train.shape[1]\n",
    "w = torch.randn((n_features,1),requires_grad=True)\n",
    "b = torch.tensor(0., requires_grad=True)"
   ]
  },
  {
   "cell_type": "code",
   "execution_count": 55,
   "id": "88ee6e7e-d6d0-4de0-8085-ae3bff0d2aaa",
   "metadata": {},
   "outputs": [
    {
     "data": {
      "text/plain": [
       "tensor([[ 0.3367],\n",
       "        [ 0.1288],\n",
       "        [ 0.2345],\n",
       "        [ 0.2303],\n",
       "        [-1.1229],\n",
       "        [-0.1863],\n",
       "        [ 2.2082],\n",
       "        [-0.6380]], requires_grad=True)"
      ]
     },
     "execution_count": 55,
     "metadata": {},
     "output_type": "execute_result"
    }
   ],
   "source": [
    "w"
   ]
  },
  {
   "cell_type": "code",
   "execution_count": 56,
   "id": "b7efbc0d-6b71-4bbc-ae0d-921078e689df",
   "metadata": {},
   "outputs": [
    {
     "data": {
      "text/plain": [
       "tensor(0., requires_grad=True)"
      ]
     },
     "execution_count": 56,
     "metadata": {},
     "output_type": "execute_result"
    }
   ],
   "source": [
    "b"
   ]
  },
  {
   "cell_type": "code",
   "execution_count": 57,
   "id": "0714d11b-8d7b-4782-865c-f3ef6238aa0a",
   "metadata": {},
   "outputs": [
    {
     "name": "stdout",
     "output_type": "stream",
     "text": [
      "Epoch:1/20, Loss : 16.158458709716797\n",
      "Epoch:2/20, Loss : 4.87937593460083\n",
      "Epoch:3/20, Loss : 2.255227565765381\n",
      "Epoch:4/20, Loss : 1.330764651298523\n",
      "Epoch:5/20, Loss : 0.9680710434913635\n",
      "Epoch:6/20, Loss : 0.8142688870429993\n",
      "Epoch:7/20, Loss : 0.7417054176330566\n",
      "Epoch:8/20, Loss : 0.702070951461792\n",
      "Epoch:9/20, Loss : 0.6765925288200378\n",
      "Epoch:10/20, Loss : 0.65779709815979\n",
      "Epoch:11/20, Loss : 0.6426157355308533\n",
      "Epoch:12/20, Loss : 0.6297228336334229\n",
      "Epoch:13/20, Loss : 0.6184946298599243\n",
      "Epoch:14/20, Loss : 0.6085972189903259\n",
      "Epoch:15/20, Loss : 0.5998220443725586\n",
      "Epoch:16/20, Loss : 0.5920190215110779\n",
      "Epoch:17/20, Loss : 0.5850694179534912\n",
      "Epoch:18/20, Loss : 0.5788736343383789\n",
      "Epoch:19/20, Loss : 0.5733456015586853\n",
      "Epoch:20/20, Loss : 0.5684102773666382\n"
     ]
    }
   ],
   "source": [
    "learning_rate = 0.4\n",
    "n_epochs = 20\n",
    "for epoch in range(n_epochs):\n",
    "    y_pred = X_train @ w + b\n",
    "    loss = ((y_pred-y_train)**2).mean()\n",
    "    loss.backward()\n",
    "    with torch.no_grad():\n",
    "        b -= learning_rate * b.grad\n",
    "        w -= learning_rate * w.grad\n",
    "        b.grad.zero_()\n",
    "        w.grad.zero_()\n",
    "    print(f\"Epoch:{epoch+1}/{n_epochs}, Loss : {loss.item()}\")\n",
    "        "
   ]
  },
  {
   "cell_type": "code",
   "execution_count": 58,
   "id": "85c0ea08-ed99-4977-839e-4c2bf1db6830",
   "metadata": {},
   "outputs": [
    {
     "data": {
      "text/plain": [
       "tensor([[0.4770],\n",
       "        [0.4580],\n",
       "        [5.0000]])"
      ]
     },
     "execution_count": 58,
     "metadata": {},
     "output_type": "execute_result"
    }
   ],
   "source": [
    "y_test[:3]"
   ]
  },
  {
   "cell_type": "code",
   "execution_count": 59,
   "id": "9c668906-a5f0-4575-a125-681f696b7b93",
   "metadata": {},
   "outputs": [],
   "source": [
    "X_new = X_test[:3]\n",
    "with torch.no_grad():\n",
    "    y_pred = X_new @ w + b"
   ]
  },
  {
   "cell_type": "code",
   "execution_count": 60,
   "id": "b7a6fccb-3627-4678-a967-938c39f7508a",
   "metadata": {},
   "outputs": [
    {
     "data": {
      "text/plain": [
       "tensor([[0.8916],\n",
       "        [1.6480],\n",
       "        [2.6577]])"
      ]
     },
     "execution_count": 60,
     "metadata": {},
     "output_type": "execute_result"
    }
   ],
   "source": [
    "y_pred"
   ]
  }
 ],
 "metadata": {
  "kernelspec": {
   "display_name": "Python [conda env:base] *",
   "language": "python",
   "name": "conda-base-py"
  },
  "language_info": {
   "codemirror_mode": {
    "name": "ipython",
    "version": 3
   },
   "file_extension": ".py",
   "mimetype": "text/x-python",
   "name": "python",
   "nbconvert_exporter": "python",
   "pygments_lexer": "ipython3",
   "version": "3.12.2"
  }
 },
 "nbformat": 4,
 "nbformat_minor": 5
}
