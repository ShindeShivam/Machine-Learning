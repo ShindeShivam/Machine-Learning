{
 "cells": [
  {
   "cell_type": "markdown",
   "id": "bfefa91c-2132-459c-a9d0-71e62c920181",
   "metadata": {},
   "source": [
    "# Training and Visualizing Decision Tree"
   ]
  },
  {
   "cell_type": "code",
   "execution_count": null,
   "id": "e9f743c4-ce37-4142-b576-6621c31ecd84",
   "metadata": {},
   "outputs": [],
   "source": [
    "from sklearn.datasets import load_iris\n",
    "from sklearn.tree import DecisionTreeClassifier\n",
    "\n",
    "iris= load_iris(as_frame=True)\n",
    "X=iris.data[[\"petal length (cm)\",\"petal width (cm)\"]].values\n",
    "y=iris.target\n",
    "\n",
    "tree_clf=DecisionTreeClassifier(max_depth=2,random_state=42)\n",
    "tree_clf.fit(X,y)"
   ]
  },
  {
   "cell_type": "code",
   "execution_count": null,
   "id": "20c09c30-361e-472c-9b39-0090f4175555",
   "metadata": {},
   "outputs": [],
   "source": [
    "tree_clf.predict([[5.5,1.7]])"
   ]
  },
  {
   "cell_type": "code",
   "execution_count": null,
   "id": "8adfa769-2d5c-490e-8d24-b144bc1cc625",
   "metadata": {},
   "outputs": [],
   "source": [
    "from sklearn.tree import export_graphviz\n",
    "import matplotlib.pyplot as plt\n",
    "import numpy as np\n",
    "export_graphviz(\n",
    "    tree_clf,\n",
    "    out_file=\"iris_tree_clf.dot\",\n",
    "    feature_names=[\"petal length (cm)\",\"petal width (cm)\"],\n",
    "    class_names=iris.target_names,\n",
    "    rounded=True,\n",
    "    filled=True\n",
    ")"
   ]
  },
  {
   "cell_type": "code",
   "execution_count": null,
   "id": "a4cc95d6-1303-4038-9f57-e558a272b539",
   "metadata": {},
   "outputs": [],
   "source": [
    "from graphviz import Source\n",
    "\n",
    "Source.from_file(\"iris_tree_clf.dot\")"
   ]
  },
  {
   "cell_type": "markdown",
   "id": "2edc4ef2-5568-4c3e-8ac0-da4fcb1fab8a",
   "metadata": {},
   "source": [
    "# Estimating Class Probabilities"
   ]
  },
  {
   "cell_type": "code",
   "execution_count": null,
   "id": "d0017c9b-db7f-420f-a525-155076c2c092",
   "metadata": {},
   "outputs": [],
   "source": [
    "tree_clf.predict_proba([[5.4,1.2]]).round(2)"
   ]
  },
  {
   "cell_type": "code",
   "execution_count": null,
   "id": "b6acd296-c11f-4dec-ba91-5a13bcdb6011",
   "metadata": {},
   "outputs": [],
   "source": [
    "tree_clf.predict([[5.4,1.2]]).round(2)"
   ]
  },
  {
   "cell_type": "markdown",
   "id": "728142ef-19e4-48e0-b466-c34c38b77677",
   "metadata": {},
   "source": [
    "# Regularization Hyperparameters"
   ]
  },
  {
   "cell_type": "code",
   "execution_count": null,
   "id": "42bff987-72ea-4461-a7e4-2a9d222ecdf8",
   "metadata": {},
   "outputs": [],
   "source": [
    "from sklearn.datasets import make_moons\n",
    "\n",
    "X_moons,y_moons=make_moons(n_samples=150,noise=0.2,random_state=42)\n",
    "\n",
    "tree_clf1=DecisionTreeClassifier(random_state=42)\n",
    "tree_clf2=DecisionTreeClassifier(min_samples_leaf=5,random_state=42)\n",
    "tree_clf1.fit(X_moons,y_moons)\n",
    "tree_clf2.fit(X_moons,y_moons)"
   ]
  },
  {
   "cell_type": "code",
   "execution_count": null,
   "id": "a359c586-cd94-48bb-beaf-827fc7b350de",
   "metadata": {},
   "outputs": [],
   "source": [
    "X_moons_test,y_moons_test=make_moons(n_samples=1000,noise=0.2,random_state=43)"
   ]
  },
  {
   "cell_type": "code",
   "execution_count": null,
   "id": "88cd786c-3ce8-45b6-9d53-6adb1fac603b",
   "metadata": {},
   "outputs": [],
   "source": [
    "tree_clf1.score(X_moons_test,y_moons_test)"
   ]
  },
  {
   "cell_type": "code",
   "execution_count": null,
   "id": "5381d6be-28b5-44dc-ac90-76c9ba84b450",
   "metadata": {},
   "outputs": [],
   "source": [
    "tree_clf2.score(X_moons_test,y_moons_test)"
   ]
  },
  {
   "cell_type": "markdown",
   "id": "86cd55d8-f1b7-4736-b1cc-b5cd4580c0f3",
   "metadata": {},
   "source": [
    "# Regression"
   ]
  },
  {
   "cell_type": "code",
   "execution_count": null,
   "id": "c476208a-56b5-4400-81d5-ce74d4b2ccbf",
   "metadata": {},
   "outputs": [],
   "source": [
    "from sklearn.tree import DecisionTreeRegressor\n",
    "\n",
    "np.random.seed(42)\n",
    "\n",
    "X=np.random.rand(300,1)-0.5\n",
    "y=X**2+0.03*np.random.randn(300,1)\n"
   ]
  },
  {
   "cell_type": "code",
   "execution_count": null,
   "id": "bdf71c11-c1b1-4332-a8f4-b7bcb8e23551",
   "metadata": {},
   "outputs": [],
   "source": [
    "tree_reg=DecisionTreeRegressor(max_depth=2,random_state=42)\n",
    "tree_reg.fit(X,y)"
   ]
  },
  {
   "cell_type": "code",
   "execution_count": null,
   "id": "57cd52ae-97af-4c44-b232-0625ae79acd2",
   "metadata": {},
   "outputs": [],
   "source": [
    "export_graphviz(\n",
    "    tree_reg,\n",
    "    out_file=\"tree_reg.dot\",\n",
    "    feature_names=[\"x1\"],\n",
    "    rounded=True,\n",
    "    filled=True\n",
    ")"
   ]
  },
  {
   "cell_type": "code",
   "execution_count": null,
   "id": "7f1df2e7-1d36-4815-94f2-588ae153288d",
   "metadata": {},
   "outputs": [],
   "source": [
    "Source.from_file(\"tree_reg.dot\")"
   ]
  },
  {
   "cell_type": "code",
   "execution_count": null,
   "id": "5c17bf7f-132f-4ddb-be1a-040cda9d6563",
   "metadata": {},
   "outputs": [],
   "source": [
    "tree_reg2=DecisionTreeRegressor(max_depth=3,random_state=3)\n",
    "tree_reg2.fit(X,y)"
   ]
  },
  {
   "cell_type": "code",
   "execution_count": null,
   "id": "a3eb2403-be39-4c36-8870-516fe9666fa7",
   "metadata": {},
   "outputs": [],
   "source": [
    "export_graphviz(\n",
    "    tree_reg2,\n",
    "    out_file=\"tree_reg2.dot\",\n",
    "    feature_names=[\"x1\"],\n",
    "    rounded=True,\n",
    "    filled=True\n",
    ")"
   ]
  },
  {
   "cell_type": "code",
   "execution_count": null,
   "id": "18e6488b-c887-4040-a297-15927af583c7",
   "metadata": {},
   "outputs": [],
   "source": [
    "Source.from_file(\"tree_reg2.dot\")"
   ]
  },
  {
   "cell_type": "code",
   "execution_count": null,
   "id": "79b2be60-e9bb-4db6-814b-36a19dd6e9f6",
   "metadata": {},
   "outputs": [],
   "source": []
  }
 ],
 "metadata": {
  "kernelspec": {
   "display_name": "Python [conda env:base] *",
   "language": "python",
   "name": "conda-base-py"
  },
  "language_info": {
   "codemirror_mode": {
    "name": "ipython",
    "version": 3
   },
   "file_extension": ".py",
   "mimetype": "text/x-python",
   "name": "python",
   "nbconvert_exporter": "python",
   "pygments_lexer": "ipython3",
   "version": "3.12.2"
  }
 },
 "nbformat": 4,
 "nbformat_minor": 5
}
