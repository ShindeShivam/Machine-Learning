{
 "cells": [
  {
   "cell_type": "markdown",
   "id": "7c390f25-2f16-4f24-9d8b-dfb217ae5a26",
   "metadata": {},
   "source": [
    "# Using Tensorflow as Numpy"
   ]
  },
  {
   "cell_type": "markdown",
   "id": "6974e4cd-dffc-445d-bd26-adb8c1f7cd0c",
   "metadata": {},
   "source": [
    "## Tensors and Operations"
   ]
  },
  {
   "cell_type": "markdown",
   "id": "b869194d-8719-43d3-b05c-67e4190f248f",
   "metadata": {},
   "source": [
    "#### Tensors"
   ]
  },
  {
   "cell_type": "code",
   "execution_count": 4,
   "id": "9bd1342f-0d09-4684-84ac-4a75b941ea4c",
   "metadata": {},
   "outputs": [
    {
     "data": {
      "text/plain": [
       "<tf.Tensor: shape=(2, 3), dtype=int32, numpy=\n",
       "array([[1, 2, 3],\n",
       "       [4, 5, 6]], dtype=int32)>"
      ]
     },
     "execution_count": 4,
     "metadata": {},
     "output_type": "execute_result"
    }
   ],
   "source": [
    "import tensorflow as tf\n",
    "\n",
    "t=tf.constant([[1,2,3],[4,5,6]])\n",
    "t"
   ]
  },
  {
   "cell_type": "code",
   "execution_count": 5,
   "id": "cf9d68e5-a207-4ea0-b8b3-c856a2abcc59",
   "metadata": {},
   "outputs": [
    {
     "data": {
      "text/plain": [
       "TensorShape([2, 3])"
      ]
     },
     "execution_count": 5,
     "metadata": {},
     "output_type": "execute_result"
    }
   ],
   "source": [
    "t.shape"
   ]
  },
  {
   "cell_type": "code",
   "execution_count": 6,
   "id": "55e08d7b-b225-4c03-b8c3-bc203a88b1e2",
   "metadata": {},
   "outputs": [
    {
     "data": {
      "text/plain": [
       "tf.int32"
      ]
     },
     "execution_count": 6,
     "metadata": {},
     "output_type": "execute_result"
    }
   ],
   "source": [
    "t.dtype"
   ]
  },
  {
   "cell_type": "code",
   "execution_count": 7,
   "id": "055eb2d8-a311-4923-ad73-a47c253ceda5",
   "metadata": {},
   "outputs": [
    {
     "data": {
      "text/plain": [
       "array([[1, 2, 3],\n",
       "       [4, 5, 6]], dtype=int32)"
      ]
     },
     "execution_count": 7,
     "metadata": {},
     "output_type": "execute_result"
    }
   ],
   "source": [
    "t.numpy()"
   ]
  },
  {
   "cell_type": "code",
   "execution_count": 8,
   "id": "9ce62d85-d673-4a49-8208-b2b9fd37a55c",
   "metadata": {},
   "outputs": [
    {
     "data": {
      "text/plain": [
       "<tf.Tensor: shape=(2, 2), dtype=int32, numpy=\n",
       "array([[1, 2],\n",
       "       [4, 5]], dtype=int32)>"
      ]
     },
     "execution_count": 8,
     "metadata": {},
     "output_type": "execute_result"
    }
   ],
   "source": [
    "t[:,:2]"
   ]
  },
  {
   "cell_type": "code",
   "execution_count": 9,
   "id": "f644c2c2-0d40-4574-a32a-b597e6128f76",
   "metadata": {},
   "outputs": [
    {
     "data": {
      "text/plain": [
       "<tf.Tensor: shape=(2, 1), dtype=int32, numpy=\n",
       "array([[3],\n",
       "       [6]], dtype=int32)>"
      ]
     },
     "execution_count": 9,
     "metadata": {},
     "output_type": "execute_result"
    }
   ],
   "source": [
    "t[...,2,tf.newaxis]"
   ]
  },
  {
   "cell_type": "markdown",
   "id": "42aeec47-89e0-4260-a324-30c770ded9c9",
   "metadata": {},
   "source": [
    "#### ops"
   ]
  },
  {
   "cell_type": "code",
   "execution_count": 11,
   "id": "1c3a973a-6e9e-4d50-af9a-894635bfcf05",
   "metadata": {},
   "outputs": [
    {
     "data": {
      "text/plain": [
       "<tf.Tensor: shape=(2, 3), dtype=int32, numpy=\n",
       "array([[11, 12, 13],\n",
       "       [14, 15, 16]], dtype=int32)>"
      ]
     },
     "execution_count": 11,
     "metadata": {},
     "output_type": "execute_result"
    }
   ],
   "source": [
    "t+10"
   ]
  },
  {
   "cell_type": "code",
   "execution_count": 12,
   "id": "d285d868-3f59-444e-92d7-0500292f3856",
   "metadata": {},
   "outputs": [
    {
     "data": {
      "text/plain": [
       "<tf.Tensor: shape=(2, 3), dtype=int32, numpy=\n",
       "array([[ 1,  4,  9],\n",
       "       [16, 25, 36]], dtype=int32)>"
      ]
     },
     "execution_count": 12,
     "metadata": {},
     "output_type": "execute_result"
    }
   ],
   "source": [
    "tf.square(t)"
   ]
  },
  {
   "cell_type": "code",
   "execution_count": 13,
   "id": "2543919d-baf4-4848-a078-3e93f79c821d",
   "metadata": {},
   "outputs": [
    {
     "data": {
      "text/plain": [
       "<tf.Tensor: shape=(2, 2), dtype=int32, numpy=\n",
       "array([[14, 32],\n",
       "       [32, 77]], dtype=int32)>"
      ]
     },
     "execution_count": 13,
     "metadata": {},
     "output_type": "execute_result"
    }
   ],
   "source": [
    "t @ tf.transpose(t)"
   ]
  },
  {
   "cell_type": "code",
   "execution_count": 14,
   "id": "11e50143-1df6-4ca2-9540-0bbc93e3cc8d",
   "metadata": {},
   "outputs": [
    {
     "data": {
      "text/plain": [
       "<tf.Tensor: shape=(), dtype=int32, numpy=3>"
      ]
     },
     "execution_count": 14,
     "metadata": {},
     "output_type": "execute_result"
    }
   ],
   "source": [
    "tf.constant(3)"
   ]
  },
  {
   "cell_type": "markdown",
   "id": "bc1a4fc2-04be-4d86-9884-22c3af0dd83a",
   "metadata": {},
   "source": [
    "#### Keras low level API"
   ]
  },
  {
   "cell_type": "code",
   "execution_count": 16,
   "id": "48251cfe-0baa-4654-a061-47c0b6a2459d",
   "metadata": {},
   "outputs": [
    {
     "data": {
      "text/plain": [
       "<tf.Tensor: shape=(3, 2), dtype=int32, numpy=\n",
       "array([[11, 26],\n",
       "       [14, 35],\n",
       "       [19, 46]], dtype=int32)>"
      ]
     },
     "execution_count": 16,
     "metadata": {},
     "output_type": "execute_result"
    }
   ],
   "source": [
    "K=tf.keras.backend\n",
    "\n",
    "K.square(K.transpose(t)) + 10"
   ]
  },
  {
   "cell_type": "code",
   "execution_count": 17,
   "id": "65322703-83ba-4cb4-8e16-90215e1b69a8",
   "metadata": {},
   "outputs": [
    {
     "data": {
      "text/plain": [
       "<tf.Tensor: shape=(3, 2), dtype=int32, numpy=\n",
       "array([[11, 26],\n",
       "       [14, 35],\n",
       "       [19, 46]], dtype=int32)>"
      ]
     },
     "execution_count": 17,
     "metadata": {},
     "output_type": "execute_result"
    }
   ],
   "source": [
    "tf.square(tf.transpose(t)) + 10"
   ]
  },
  {
   "cell_type": "markdown",
   "id": "d912b409-5657-46b5-a280-455cf1ef1c17",
   "metadata": {},
   "source": [
    "#### Tensors and Numpy"
   ]
  },
  {
   "cell_type": "code",
   "execution_count": 19,
   "id": "bca7e316-1d0c-40d4-9dc0-35b0af273bc3",
   "metadata": {},
   "outputs": [
    {
     "data": {
      "text/plain": [
       "<tf.Tensor: shape=(), dtype=int32, numpy=7>"
      ]
     },
     "execution_count": 19,
     "metadata": {},
     "output_type": "execute_result"
    }
   ],
   "source": [
    "tf.reduce_sum([1,2,4])\n"
   ]
  },
  {
   "cell_type": "code",
   "execution_count": 20,
   "id": "9c500b3a-739a-4560-85d2-899e8b10ce7f",
   "metadata": {},
   "outputs": [
    {
     "data": {
      "text/plain": [
       "<tf.Tensor: shape=(4,), dtype=float32, numpy=array([1., 2., 3., 4.], dtype=float32)>"
      ]
     },
     "execution_count": 20,
     "metadata": {},
     "output_type": "execute_result"
    }
   ],
   "source": [
    "import numpy as np\n",
    "\n",
    "a=np.array([1.,2.,3.,4.])\n",
    "tf.constant(a,dtype=tf.float32)"
   ]
  },
  {
   "cell_type": "code",
   "execution_count": 21,
   "id": "40654a85-de58-4c0d-b1ff-553c782587c9",
   "metadata": {},
   "outputs": [
    {
     "data": {
      "text/plain": [
       "array([[1, 2, 3],\n",
       "       [4, 5, 6]], dtype=int32)"
      ]
     },
     "execution_count": 21,
     "metadata": {},
     "output_type": "execute_result"
    }
   ],
   "source": [
    "np.array(t)"
   ]
  },
  {
   "cell_type": "code",
   "execution_count": 22,
   "id": "a350f6f1-fa71-4364-888b-3f20a2152a58",
   "metadata": {},
   "outputs": [
    {
     "data": {
      "text/plain": [
       "<tf.Tensor: shape=(4,), dtype=float64, numpy=array([ 1.,  4.,  9., 16.])>"
      ]
     },
     "execution_count": 22,
     "metadata": {},
     "output_type": "execute_result"
    }
   ],
   "source": [
    "tf.square(a)"
   ]
  },
  {
   "cell_type": "code",
   "execution_count": 23,
   "id": "8050b611-7b6b-4dad-8f3b-62156ae80b56",
   "metadata": {},
   "outputs": [
    {
     "data": {
      "text/plain": [
       "array([[ 1,  4,  9],\n",
       "       [16, 25, 36]], dtype=int32)"
      ]
     },
     "execution_count": 23,
     "metadata": {},
     "output_type": "execute_result"
    }
   ],
   "source": [
    "np.square(t)"
   ]
  },
  {
   "cell_type": "markdown",
   "id": "4acd4a76-b07e-4232-a68d-d077e7d8fc63",
   "metadata": {},
   "source": [
    "#### Type conversions"
   ]
  },
  {
   "cell_type": "code",
   "execution_count": 25,
   "id": "cacfe4d3-820f-4e4d-afdb-7d11e795d12e",
   "metadata": {},
   "outputs": [
    {
     "name": "stdout",
     "output_type": "stream",
     "text": [
      "cannot compute AddV2 as input #1(zero-based) was expected to be a float tensor but is a int32 tensor [Op:AddV2] name: \n"
     ]
    }
   ],
   "source": [
    "try:\n",
    "    tf.constant(2.0)+tf.constant(10)\n",
    "except tf.errors.InvalidArgumentError as ex:\n",
    "    print(ex)\n",
    "\n"
   ]
  },
  {
   "cell_type": "code",
   "execution_count": 26,
   "id": "daafc8f5-9894-4b1d-92e3-dbaed2e22e5c",
   "metadata": {},
   "outputs": [
    {
     "name": "stdout",
     "output_type": "stream",
     "text": [
      "cannot compute AddV2 as input #1(zero-based) was expected to be a float tensor but is a double tensor [Op:AddV2] name: \n"
     ]
    }
   ],
   "source": [
    "try:\n",
    "    tf.constant(2.0) +tf.constant(10.0,dtype=tf.float64)\n",
    "except tf.errors.InvalidArgumentError as ex:\n",
    "    print(ex)"
   ]
  },
  {
   "cell_type": "code",
   "execution_count": 27,
   "id": "af0a887c-b80c-4f55-8b0d-661c7daa018c",
   "metadata": {},
   "outputs": [
    {
     "data": {
      "text/plain": [
       "<tf.Tensor: shape=(), dtype=float32, numpy=35.0>"
      ]
     },
     "execution_count": 27,
     "metadata": {},
     "output_type": "execute_result"
    }
   ],
   "source": [
    "t2=tf.constant(30,dtype=tf.float64)\n",
    "\n",
    "tf.constant(5.0)+ tf.cast(t2,tf.float32)"
   ]
  },
  {
   "cell_type": "markdown",
   "id": "c4eac357-6545-49db-a0bf-ec26fd591741",
   "metadata": {},
   "source": [
    "#### Variables"
   ]
  },
  {
   "cell_type": "code",
   "execution_count": 29,
   "id": "015de7cc-d8c0-4f06-84ee-18072f5efa15",
   "metadata": {},
   "outputs": [
    {
     "data": {
      "text/plain": [
       "<tf.Variable 'Variable:0' shape=(2, 3) dtype=int32, numpy=\n",
       "array([[1, 2, 3],\n",
       "       [4, 5, 6]], dtype=int32)>"
      ]
     },
     "execution_count": 29,
     "metadata": {},
     "output_type": "execute_result"
    }
   ],
   "source": [
    "v=tf.Variable([[1,2,3],[4,5,6]])\n",
    "v"
   ]
  },
  {
   "cell_type": "code",
   "execution_count": 30,
   "id": "19de6b2c-6668-4be3-8731-f638eb70b9ff",
   "metadata": {},
   "outputs": [
    {
     "data": {
      "text/plain": [
       "<tf.Variable 'UnreadVariable' shape=(2, 3) dtype=int32, numpy=\n",
       "array([[ 2,  4,  6],\n",
       "       [ 8, 10, 12]], dtype=int32)>"
      ]
     },
     "execution_count": 30,
     "metadata": {},
     "output_type": "execute_result"
    }
   ],
   "source": [
    "v.assign(v*2)"
   ]
  },
  {
   "cell_type": "code",
   "execution_count": 31,
   "id": "7ea89a43-c303-4923-8b7e-a712c7a8cf24",
   "metadata": {},
   "outputs": [
    {
     "data": {
      "text/plain": [
       "<tf.Variable 'UnreadVariable' shape=(2, 3) dtype=int32, numpy=\n",
       "array([[ 2,  4, 33],\n",
       "       [ 8, 10, 12]], dtype=int32)>"
      ]
     },
     "execution_count": 31,
     "metadata": {},
     "output_type": "execute_result"
    }
   ],
   "source": [
    "v[0,2].assign(33)"
   ]
  },
  {
   "cell_type": "code",
   "execution_count": 32,
   "id": "ea960c51-cb5e-4650-b8a5-4693a780f378",
   "metadata": {},
   "outputs": [
    {
     "data": {
      "text/plain": [
       "<tf.Variable 'UnreadVariable' shape=(2, 3) dtype=int32, numpy=\n",
       "array([[ 2,  4,  0],\n",
       "       [ 8, 10,  9]], dtype=int32)>"
      ]
     },
     "execution_count": 32,
     "metadata": {},
     "output_type": "execute_result"
    }
   ],
   "source": [
    "v[:,2].assign([0,9])"
   ]
  },
  {
   "cell_type": "code",
   "execution_count": 33,
   "id": "1e9a278e-c2f8-4a0d-843e-16e466f72fc3",
   "metadata": {},
   "outputs": [
    {
     "data": {
      "text/plain": [
       "<tf.Variable 'UnreadVariable' shape=(2, 3) dtype=int32, numpy=\n",
       "array([[200,   4,   0],\n",
       "       [  8,  10, 200]], dtype=int32)>"
      ]
     },
     "execution_count": 33,
     "metadata": {},
     "output_type": "execute_result"
    }
   ],
   "source": [
    "v.scatter_nd_update(\n",
    "    indices=[[0,0],[1,2]],updates=[200,200]\n",
    ")"
   ]
  },
  {
   "cell_type": "code",
   "execution_count": 34,
   "id": "e9c04aa2-b764-4b27-93fb-03615d2991a8",
   "metadata": {},
   "outputs": [
    {
     "data": {
      "text/plain": [
       "<tf.Variable 'UnreadVariable' shape=(2, 3) dtype=int32, numpy=\n",
       "array([[2, 2, 2],\n",
       "       [1, 1, 1]], dtype=int32)>"
      ]
     },
     "execution_count": 34,
     "metadata": {},
     "output_type": "execute_result"
    }
   ],
   "source": [
    "sparse_delta=tf.IndexedSlices(values=[[1,1,1],[2,2,2]],\n",
    "                             indices=[1,0])\n",
    "v.scatter_update(sparse_delta)\n"
   ]
  },
  {
   "cell_type": "code",
   "execution_count": 35,
   "id": "fb1e3ee3-5027-4b0b-8e46-757ddd6f2665",
   "metadata": {},
   "outputs": [
    {
     "name": "stdout",
     "output_type": "stream",
     "text": [
      "'ResourceVariable' object does not support item assignment\n"
     ]
    }
   ],
   "source": [
    "try:\n",
    "    v[1]=[2,2,2]\n",
    "except TypeError as ex:\n",
    "    print(ex)"
   ]
  },
  {
   "cell_type": "markdown",
   "id": "bdfe1453-e45a-4a57-92b4-c9aabe5115c9",
   "metadata": {},
   "source": [
    "#### Strings"
   ]
  },
  {
   "cell_type": "code",
   "execution_count": 37,
   "id": "4e62e167-54dc-4146-92b7-bf88aa982b79",
   "metadata": {},
   "outputs": [
    {
     "data": {
      "text/plain": [
       "<tf.Tensor: shape=(), dtype=string, numpy=b'hello'>"
      ]
     },
     "execution_count": 37,
     "metadata": {},
     "output_type": "execute_result"
    }
   ],
   "source": [
    "tf.constant(b\"hello\")"
   ]
  },
  {
   "cell_type": "code",
   "execution_count": 38,
   "id": "a9ff1be9-ae4d-4b3a-bf50-624f5c3a7792",
   "metadata": {},
   "outputs": [
    {
     "data": {
      "text/plain": [
       "<tf.Tensor: shape=(), dtype=string, numpy=b'caf\\xc3\\xa9'>"
      ]
     },
     "execution_count": 38,
     "metadata": {},
     "output_type": "execute_result"
    }
   ],
   "source": [
    "tf.constant(\"café\")"
   ]
  },
  {
   "cell_type": "code",
   "execution_count": 39,
   "id": "2b970230-19c2-4138-ad5a-3543eacdaf83",
   "metadata": {},
   "outputs": [
    {
     "data": {
      "text/plain": [
       "<tf.Tensor: shape=(4,), dtype=int32, numpy=array([ 99,  97, 102, 233], dtype=int32)>"
      ]
     },
     "execution_count": 39,
     "metadata": {},
     "output_type": "execute_result"
    }
   ],
   "source": [
    "u=tf.constant([ord(c) for c in \"café\"])\n",
    "u"
   ]
  },
  {
   "cell_type": "code",
   "execution_count": 40,
   "id": "d14a1aef-8a6f-40e1-b46c-e8671b5fcfa2",
   "metadata": {},
   "outputs": [
    {
     "data": {
      "text/plain": [
       "<tf.Tensor: shape=(), dtype=int32, numpy=4>"
      ]
     },
     "execution_count": 40,
     "metadata": {},
     "output_type": "execute_result"
    }
   ],
   "source": [
    "b=tf.strings.unicode_encode(u,\"UTF-8\")\n",
    "tf.strings.length(b, unit=\"UTF8_CHAR\")"
   ]
  },
  {
   "cell_type": "code",
   "execution_count": 41,
   "id": "7de9e504-3233-459b-a090-b06ec38f78cc",
   "metadata": {},
   "outputs": [
    {
     "data": {
      "text/plain": [
       "<tf.Tensor: shape=(4,), dtype=int32, numpy=array([ 99,  97, 102, 233], dtype=int32)>"
      ]
     },
     "execution_count": 41,
     "metadata": {},
     "output_type": "execute_result"
    }
   ],
   "source": [
    "tf.strings.unicode_decode(b,\"UTF-8\")"
   ]
  },
  {
   "cell_type": "code",
   "execution_count": 42,
   "id": "55c966f5-0bbc-46d4-864d-00c0fcbfe5cf",
   "metadata": {},
   "outputs": [
    {
     "data": {
      "text/plain": [
       "<tf.Tensor: shape=(4,), dtype=int32, numpy=array([4, 6, 5, 3], dtype=int32)>"
      ]
     },
     "execution_count": 42,
     "metadata": {},
     "output_type": "execute_result"
    }
   ],
   "source": [
    "p=tf.constant([\"Café\", \"Coffee\", \"caffè\", \"चाय\"])\n",
    "tf.strings.length(p, unit=\"UTF8_CHAR\")"
   ]
  },
  {
   "cell_type": "code",
   "execution_count": 43,
   "id": "377effa4-aecf-4bf3-bd1a-ee157375b1fc",
   "metadata": {},
   "outputs": [
    {
     "data": {
      "text/plain": [
       "<tf.RaggedTensor [[67, 97, 102, 233], [67, 111, 102, 102, 101, 101],\n",
       " [99, 97, 102, 102, 232], [2330, 2366, 2351]]>"
      ]
     },
     "execution_count": 43,
     "metadata": {},
     "output_type": "execute_result"
    }
   ],
   "source": [
    "r=tf.strings.unicode_decode(p,\"UTF-8\")\n",
    "r"
   ]
  },
  {
   "cell_type": "markdown",
   "id": "57ed7ffc-5463-480f-8c4f-f2f2ad889353",
   "metadata": {},
   "source": [
    "#### Ragged Tensors"
   ]
  },
  {
   "cell_type": "code",
   "execution_count": 45,
   "id": "16bb786d-7beb-43cc-9cb4-f97fb90febc1",
   "metadata": {},
   "outputs": [
    {
     "data": {
      "text/plain": [
       "<tf.RaggedTensor [[2, 4, 5, 7], [6, 7], [], [7, 5, 2]]>"
      ]
     },
     "execution_count": 45,
     "metadata": {},
     "output_type": "execute_result"
    }
   ],
   "source": [
    "r=tf.ragged.constant([[2,4,5,7],[6,7],[],[7,5,2]])\n",
    "r"
   ]
  },
  {
   "cell_type": "code",
   "execution_count": 46,
   "id": "932c04d5-7ec3-4c53-adf0-84bdcfa68159",
   "metadata": {},
   "outputs": [
    {
     "data": {
      "text/plain": [
       "<tf.Tensor: shape=(4, 4), dtype=int32, numpy=\n",
       "array([[2, 4, 5, 7],\n",
       "       [6, 7, 0, 0],\n",
       "       [0, 0, 0, 0],\n",
       "       [7, 5, 2, 0]], dtype=int32)>"
      ]
     },
     "execution_count": 46,
     "metadata": {},
     "output_type": "execute_result"
    }
   ],
   "source": [
    "r.to_tensor()"
   ]
  },
  {
   "cell_type": "markdown",
   "id": "12add237-b203-4317-9d9a-41006976833e",
   "metadata": {},
   "source": [
    "# Customizing Models and Training Algorithms"
   ]
  },
  {
   "cell_type": "markdown",
   "id": "a5853fae-756a-4caa-b044-4ab119c9e18d",
   "metadata": {},
   "source": [
    "## Custom Loss Function"
   ]
  },
  {
   "cell_type": "code",
   "execution_count": 49,
   "id": "bde846af-32ac-46dc-80e2-0fadf9b29950",
   "metadata": {},
   "outputs": [],
   "source": [
    "def huber_fn(y_true,y_pred):\n",
    "    error=y_true - y_pred\n",
    "    is_small_error = tf.abs(error) < 1\n",
    "    square_loss= tf.square(error)/2\n",
    "    linear_loss= tf.abs(error) - 0.5\n",
    "    return tf.where(is_small_error,square_loss,linear_loss)"
   ]
  },
  {
   "cell_type": "code",
   "execution_count": 50,
   "id": "8c86c1ae-2748-4749-b7fe-4a6f5284abb7",
   "metadata": {},
   "outputs": [],
   "source": [
    "from sklearn.datasets import fetch_california_housing\n",
    "from sklearn.model_selection import train_test_split\n",
    "from sklearn.preprocessing import StandardScaler\n",
    "\n",
    "housing=fetch_california_housing()\n",
    "X_train_full,X_test,y_train_full,y_test=train_test_split(housing.data,housing.target.reshape(-1,1),\n",
    "                                                        random_state=42)\n",
    "X_train,X_valid,y_train,y_valid=train_test_split(X_train_full,y_train_full,random_state=42)\n",
    "\n",
    "input_shape=X_train.shape[1:]\n",
    "\n",
    "scaler=StandardScaler()\n",
    "X_train_scaled=scaler.fit_transform(X_train)\n",
    "X_valid_scaled=scaler.transform(X_valid)\n",
    "X_test_scaled=scaler.transform(X_test)\n",
    "\n",
    "tf.keras.utils.set_random_seed(42)\n",
    "\n",
    "model=tf.keras.Sequential([\n",
    "    tf.keras.layers.InputLayer(shape=input_shape),\n",
    "    tf.keras.layers.Dense(25,activation=\"relu\",kernel_initializer=\"he_normal\"),\n",
    "    tf.keras.layers.Dense(1)\n",
    "])\n"
   ]
  },
  {
   "cell_type": "code",
   "execution_count": 51,
   "id": "ca822c22-6746-4d1b-b73b-04e57c3cb697",
   "metadata": {},
   "outputs": [
    {
     "name": "stdout",
     "output_type": "stream",
     "text": [
      "Epoch 1/5\n",
      "\u001b[1m363/363\u001b[0m \u001b[32m━━━━━━━━━━━━━━━━━━━━\u001b[0m\u001b[37m\u001b[0m \u001b[1m1s\u001b[0m 675us/step - loss: 0.9556 - mae: 1.3617 - val_loss: 0.3932 - val_mae: 0.7026\n",
      "Epoch 2/5\n",
      "\u001b[1m363/363\u001b[0m \u001b[32m━━━━━━━━━━━━━━━━━━━━\u001b[0m\u001b[37m\u001b[0m \u001b[1m0s\u001b[0m 519us/step - loss: 0.2612 - mae: 0.5683 - val_loss: 0.2669 - val_mae: 0.5535\n",
      "Epoch 3/5\n",
      "\u001b[1m363/363\u001b[0m \u001b[32m━━━━━━━━━━━━━━━━━━━━\u001b[0m\u001b[37m\u001b[0m \u001b[1m0s\u001b[0m 516us/step - loss: 0.2177 - mae: 0.5095 - val_loss: 0.2225 - val_mae: 0.5021\n",
      "Epoch 4/5\n",
      "\u001b[1m363/363\u001b[0m \u001b[32m━━━━━━━━━━━━━━━━━━━━\u001b[0m\u001b[37m\u001b[0m \u001b[1m0s\u001b[0m 517us/step - loss: 0.2007 - mae: 0.4861 - val_loss: 0.1999 - val_mae: 0.4755\n",
      "Epoch 5/5\n",
      "\u001b[1m363/363\u001b[0m \u001b[32m━━━━━━━━━━━━━━━━━━━━\u001b[0m\u001b[37m\u001b[0m \u001b[1m0s\u001b[0m 522us/step - loss: 0.1912 - mae: 0.4724 - val_loss: 0.1843 - val_mae: 0.4573\n"
     ]
    },
    {
     "data": {
      "text/plain": [
       "<keras.src.callbacks.history.History at 0x307b32030>"
      ]
     },
     "execution_count": 51,
     "metadata": {},
     "output_type": "execute_result"
    }
   ],
   "source": [
    "model.compile(loss=huber_fn,\n",
    "             optimizer=\"nadam\",\n",
    "             metrics=[\"mae\"])\n",
    "\n",
    "model.fit(X_train_scaled,y_train,\n",
    "         epochs=5,\n",
    "         validation_data=(X_valid_scaled,y_valid))"
   ]
  },
  {
   "cell_type": "markdown",
   "id": "5e229787-0491-40d3-94f7-7b149a012fb9",
   "metadata": {},
   "source": [
    "## Storing and Loading Models With Custom Objects"
   ]
  },
  {
   "cell_type": "code",
   "execution_count": 53,
   "id": "fe68adb4-7c8d-420a-b3b1-9ccc372d6266",
   "metadata": {},
   "outputs": [],
   "source": [
    "model.save(\"my_custom_loss_fn_model.keras\")"
   ]
  },
  {
   "cell_type": "code",
   "execution_count": 54,
   "id": "77fbbeb1-9bd1-4aab-ba6a-5cfa87368d36",
   "metadata": {},
   "outputs": [],
   "source": [
    "model=tf.keras.models.load_model(\"my_custom_loss_fn_model.keras\",\n",
    "                                custom_objects={\"huber_fn\":huber_fn})"
   ]
  },
  {
   "cell_type": "code",
   "execution_count": 55,
   "id": "262eda7e-ba71-419b-873d-70ff789a297c",
   "metadata": {},
   "outputs": [
    {
     "name": "stdout",
     "output_type": "stream",
     "text": [
      "Epoch 1/4\n",
      "\u001b[1m363/363\u001b[0m \u001b[32m━━━━━━━━━━━━━━━━━━━━\u001b[0m\u001b[37m\u001b[0m \u001b[1m0s\u001b[0m 674us/step - loss: 0.1850 - mae: 0.4632 - val_loss: 0.1751 - val_mae: 0.4463\n",
      "Epoch 2/4\n",
      "\u001b[1m363/363\u001b[0m \u001b[32m━━━━━━━━━━━━━━━━━━━━\u001b[0m\u001b[37m\u001b[0m \u001b[1m0s\u001b[0m 520us/step - loss: 0.1809 - mae: 0.4572 - val_loss: 0.1696 - val_mae: 0.4393\n",
      "Epoch 3/4\n",
      "\u001b[1m363/363\u001b[0m \u001b[32m━━━━━━━━━━━━━━━━━━━━\u001b[0m\u001b[37m\u001b[0m \u001b[1m0s\u001b[0m 726us/step - loss: 0.1781 - mae: 0.4530 - val_loss: 0.1656 - val_mae: 0.4341\n",
      "Epoch 4/4\n",
      "\u001b[1m363/363\u001b[0m \u001b[32m━━━━━━━━━━━━━━━━━━━━\u001b[0m\u001b[37m\u001b[0m \u001b[1m0s\u001b[0m 518us/step - loss: 0.1759 - mae: 0.4496 - val_loss: 0.1622 - val_mae: 0.4296\n"
     ]
    },
    {
     "data": {
      "text/plain": [
       "<keras.src.callbacks.history.History at 0x17ee05880>"
      ]
     },
     "execution_count": 55,
     "metadata": {},
     "output_type": "execute_result"
    }
   ],
   "source": [
    "model.fit(X_train_scaled,y_train,\n",
    "         epochs=4,\n",
    "         validation_data=(X_valid_scaled,y_valid))"
   ]
  },
  {
   "cell_type": "code",
   "execution_count": 56,
   "id": "7d9adbe8-cdbb-4951-b835-1d7807602039",
   "metadata": {},
   "outputs": [],
   "source": [
    "def create_huber(threshold=1.0):\n",
    "    def huber_fn(y_true,y_pred):\n",
    "        error= y_true-y_pred\n",
    "        is_small_error= tf.abs(error)< threshold\n",
    "        squared_loss= tf.square(error)/2\n",
    "        linear_loss= threshold*tf.abs(error) - threshold**2 / 2\n",
    "        return tf.where(is_small_error,squared_loss,linear_loss)\n",
    "    return huber_fn"
   ]
  },
  {
   "cell_type": "code",
   "execution_count": 57,
   "id": "1f4b14f1-1420-4fa1-8d0b-7da5a669ccf4",
   "metadata": {},
   "outputs": [],
   "source": [
    "model.compile(loss=create_huber(1.8),optimizer=\"nadam\",metrics=[\"mae\"])"
   ]
  },
  {
   "cell_type": "code",
   "execution_count": 58,
   "id": "0a596583-81fa-4100-b1cb-73f548d6213a",
   "metadata": {},
   "outputs": [
    {
     "name": "stdout",
     "output_type": "stream",
     "text": [
      "Epoch 1/4\n",
      "\u001b[1m363/363\u001b[0m \u001b[32m━━━━━━━━━━━━━━━━━━━━\u001b[0m\u001b[37m\u001b[0m \u001b[1m1s\u001b[0m 673us/step - loss: 0.1940 - mae: 0.4490 - val_loss: 0.1835 - val_mae: 0.4323\n",
      "Epoch 2/4\n",
      "\u001b[1m363/363\u001b[0m \u001b[32m━━━━━━━━━━━━━━━━━━━━\u001b[0m\u001b[37m\u001b[0m \u001b[1m0s\u001b[0m 521us/step - loss: 0.1918 - mae: 0.4462 - val_loss: 0.1745 - val_mae: 0.4261\n",
      "Epoch 3/4\n",
      "\u001b[1m363/363\u001b[0m \u001b[32m━━━━━━━━━━━━━━━━━━━━\u001b[0m\u001b[37m\u001b[0m \u001b[1m0s\u001b[0m 520us/step - loss: 0.1904 - mae: 0.4443 - val_loss: 0.1795 - val_mae: 0.4286\n",
      "Epoch 4/4\n",
      "\u001b[1m363/363\u001b[0m \u001b[32m━━━━━━━━━━━━━━━━━━━━\u001b[0m\u001b[37m\u001b[0m \u001b[1m0s\u001b[0m 520us/step - loss: 0.1893 - mae: 0.4427 - val_loss: 0.1814 - val_mae: 0.4290\n"
     ]
    },
    {
     "data": {
      "text/plain": [
       "<keras.src.callbacks.history.History at 0x308a426f0>"
      ]
     },
     "execution_count": 58,
     "metadata": {},
     "output_type": "execute_result"
    }
   ],
   "source": [
    "model.fit(X_train_scaled,y_train,\n",
    "         epochs=4,\n",
    "         validation_data=(X_valid_scaled,y_valid))"
   ]
  },
  {
   "cell_type": "code",
   "execution_count": 59,
   "id": "10288058-f027-44f5-9532-a7134641b05c",
   "metadata": {},
   "outputs": [],
   "source": [
    "model.save(\"my_custom_loss_threshold_model.keras\")"
   ]
  },
  {
   "cell_type": "code",
   "execution_count": 60,
   "id": "44a0542e-02dd-4556-b62d-e701d0454283",
   "metadata": {},
   "outputs": [],
   "source": [
    "model=tf.keras.models.load_model(\"my_custom_loss_threshold_model.keras\",\n",
    "                                custom_objects={\"huber_fn\":create_huber(1.8)})"
   ]
  },
  {
   "cell_type": "code",
   "execution_count": 61,
   "id": "dd94470e-f0de-4812-8cf5-646306cead3c",
   "metadata": {},
   "outputs": [
    {
     "name": "stdout",
     "output_type": "stream",
     "text": [
      "Epoch 1/2\n",
      "\u001b[1m363/363\u001b[0m \u001b[32m━━━━━━━━━━━━━━━━━━━━\u001b[0m\u001b[37m\u001b[0m \u001b[1m0s\u001b[0m 677us/step - loss: 0.1881 - mae: 0.4410 - val_loss: 0.1730 - val_mae: 0.4231\n",
      "Epoch 2/2\n",
      "\u001b[1m363/363\u001b[0m \u001b[32m━━━━━━━━━━━━━━━━━━━━\u001b[0m\u001b[37m\u001b[0m \u001b[1m0s\u001b[0m 519us/step - loss: 0.1872 - mae: 0.4396 - val_loss: 0.1817 - val_mae: 0.4279\n"
     ]
    },
    {
     "data": {
      "text/plain": [
       "<keras.src.callbacks.history.History at 0x309c8b770>"
      ]
     },
     "execution_count": 61,
     "metadata": {},
     "output_type": "execute_result"
    }
   ],
   "source": [
    "model.fit(X_train_scaled,y_train,\n",
    "         epochs=2,\n",
    "         validation_data=(X_valid_scaled,y_valid))"
   ]
  },
  {
   "cell_type": "code",
   "execution_count": 62,
   "id": "f9b99c84-58c5-41d3-859b-581c87f4e602",
   "metadata": {},
   "outputs": [],
   "source": [
    "class HuberLoss(tf.keras.losses.Loss):\n",
    "    def __init__(self,threshold=1.0,**kwargs):\n",
    "        self.threshold=threshold\n",
    "        super().__init__(**kwargs)\n",
    "        \n",
    "    def call(self,y_true,y_pred):\n",
    "        error= y_true - y_pred\n",
    "        is_small_error= tf.abs(error) < self.threshold\n",
    "        square_loss= tf.square(error) /2\n",
    "        linear_loss= self.threshold * tf.abs(error) - self.threshold**2 / 2\n",
    "        return tf.where(is_small_error,square_loss,linear_loss)\n",
    "\n",
    "    def get_config(self):\n",
    "        base_config=super().get_config()\n",
    "        return {**base_config,\"threshold\":self.threshold}"
   ]
  },
  {
   "cell_type": "code",
   "execution_count": 63,
   "id": "5c717712-ead3-4eb8-8961-a374d94c76a8",
   "metadata": {},
   "outputs": [],
   "source": [
    "tf.keras.utils.set_random_seed(42)\n",
    "\n",
    "model=tf.keras.Sequential([\n",
    "    tf.keras.layers.InputLayer(shape=input_shape),\n",
    "    tf.keras.layers.Dense(30,activation=\"relu\",\n",
    "                         kernel_initializer=\"he_normal\"),\n",
    "    tf.keras.layers.Dense(1)\n",
    "])\n"
   ]
  },
  {
   "cell_type": "code",
   "execution_count": 64,
   "id": "7f5c7d8a-779c-496c-8e30-63545f631ed6",
   "metadata": {},
   "outputs": [],
   "source": [
    "model.compile(loss=HuberLoss(1.4),optimizer=\"nadam\",metrics=[\"mae\"])"
   ]
  },
  {
   "cell_type": "code",
   "execution_count": 65,
   "id": "1e6fdf65-8d02-40e0-a369-0e609124a16f",
   "metadata": {},
   "outputs": [
    {
     "name": "stdout",
     "output_type": "stream",
     "text": [
      "Epoch 1/3\n",
      "\u001b[1m363/363\u001b[0m \u001b[32m━━━━━━━━━━━━━━━━━━━━\u001b[0m\u001b[37m\u001b[0m \u001b[1m1s\u001b[0m 683us/step - loss: 0.9035 - mae: 1.1389 - val_loss: 0.4178 - val_mae: 0.6595\n",
      "Epoch 2/3\n",
      "\u001b[1m363/363\u001b[0m \u001b[32m━━━━━━━━━━━━━━━━━━━━\u001b[0m\u001b[37m\u001b[0m \u001b[1m0s\u001b[0m 522us/step - loss: 0.2919 - mae: 0.5737 - val_loss: 0.2988 - val_mae: 0.5456\n",
      "Epoch 3/3\n",
      "\u001b[1m363/363\u001b[0m \u001b[32m━━━━━━━━━━━━━━━━━━━━\u001b[0m\u001b[37m\u001b[0m \u001b[1m0s\u001b[0m 523us/step - loss: 0.2429 - mae: 0.5161 - val_loss: 0.2395 - val_mae: 0.4911\n"
     ]
    },
    {
     "data": {
      "text/plain": [
       "<keras.src.callbacks.history.History at 0x309e89430>"
      ]
     },
     "execution_count": 65,
     "metadata": {},
     "output_type": "execute_result"
    }
   ],
   "source": [
    "model.fit(X_train_scaled,y_train,\n",
    "         epochs=3,\n",
    "         validation_data=(X_valid_scaled,y_valid))"
   ]
  },
  {
   "cell_type": "code",
   "execution_count": 66,
   "id": "04e138c6-6833-4c52-9169-d68fc7991585",
   "metadata": {},
   "outputs": [],
   "source": [
    "model.save(\"my_custom_loss_threshold_class_model.keras\")"
   ]
  },
  {
   "cell_type": "code",
   "execution_count": 67,
   "id": "d68e4f4c-07b3-4420-9cf5-32ceb08fd8e7",
   "metadata": {},
   "outputs": [],
   "source": [
    "model=tf.keras.models.load_model(\"my_custom_loss_threshold_class_model.keras\",\n",
    "                                custom_objects={\"HuberLoss\":HuberLoss})"
   ]
  },
  {
   "cell_type": "code",
   "execution_count": 68,
   "id": "173961c5-362f-4c33-898f-7f528fcbddec",
   "metadata": {},
   "outputs": [
    {
     "name": "stdout",
     "output_type": "stream",
     "text": [
      "Epoch 1/3\n",
      "\u001b[1m363/363\u001b[0m \u001b[32m━━━━━━━━━━━━━━━━━━━━\u001b[0m\u001b[37m\u001b[0m \u001b[1m0s\u001b[0m 670us/step - loss: 0.2189 - mae: 0.4864 - val_loss: 0.2084 - val_mae: 0.4635\n",
      "Epoch 2/3\n",
      "\u001b[1m363/363\u001b[0m \u001b[32m━━━━━━━━━━━━━━━━━━━━\u001b[0m\u001b[37m\u001b[0m \u001b[1m0s\u001b[0m 526us/step - loss: 0.2063 - mae: 0.4703 - val_loss: 0.1820 - val_mae: 0.4415\n",
      "Epoch 3/3\n",
      "\u001b[1m363/363\u001b[0m \u001b[32m━━━━━━━━━━━━━━━━━━━━\u001b[0m\u001b[37m\u001b[0m \u001b[1m0s\u001b[0m 520us/step - loss: 0.1988 - mae: 0.4611 - val_loss: 0.1821 - val_mae: 0.4395\n"
     ]
    },
    {
     "data": {
      "text/plain": [
       "<keras.src.callbacks.history.History at 0x309edbb60>"
      ]
     },
     "execution_count": 68,
     "metadata": {},
     "output_type": "execute_result"
    }
   ],
   "source": [
    "model.fit(X_train_scaled,y_train,\n",
    "         epochs=3,\n",
    "          validation_data=(X_valid_scaled,y_valid)\n",
    "         )"
   ]
  },
  {
   "cell_type": "code",
   "execution_count": 69,
   "id": "5e89b955-d936-49c8-8cf9-95937bd79c0d",
   "metadata": {},
   "outputs": [
    {
     "data": {
      "text/plain": [
       "1.4"
      ]
     },
     "execution_count": 69,
     "metadata": {},
     "output_type": "execute_result"
    }
   ],
   "source": [
    "model.loss.threshold"
   ]
  },
  {
   "cell_type": "markdown",
   "id": "a5e8b20e-5565-4489-acf6-51bf2b2d2653",
   "metadata": {},
   "source": [
    "## Other Custom Functions"
   ]
  },
  {
   "cell_type": "code",
   "execution_count": 71,
   "id": "6f79c5ce-a1ee-409b-a788-ca12d9950b77",
   "metadata": {},
   "outputs": [],
   "source": [
    "def my_softplus(z):\n",
    "    return tf.math.log(1+tf.exp(z))\n",
    "\n",
    "def my_glorot_initializer(shape,dtype=tf.float32):\n",
    "    stddev= tf.sqrt(2 / (shape[0] + shape[1]))\n",
    "    \n",
    "    return tf.random.normal(shape,stddev=stddev,dtype=dtype)\n",
    "\n",
    "def my_l1_regu(weights):\n",
    "    return 0.01 * tf.reduce_sum(tf.abs(weights))\n",
    "\n",
    "def my_positive_weights(weights):\n",
    "    return tf.where(weights<0. ,tf.zeros_like(weights),weights)"
   ]
  },
  {
   "cell_type": "code",
   "execution_count": 72,
   "id": "f3fbec13-bb52-4963-9aeb-08db92e90b45",
   "metadata": {},
   "outputs": [],
   "source": [
    "class MyL1Regularizer(tf.keras.regularizers.Regularizer):\n",
    "    def __init__(self, factor):\n",
    "        self.factor = factor\n",
    "\n",
    "    def __call__(self, weights):\n",
    "        return self.factor * tf.reduce_sum(tf.abs(weights))\n",
    "\n",
    "    def get_config(self):\n",
    "        return {\"factor\": self.factor}\n"
   ]
  },
  {
   "cell_type": "code",
   "execution_count": 73,
   "id": "18770193-8732-48c8-bcf9-18f11260bb63",
   "metadata": {},
   "outputs": [],
   "source": [
    "class MyPositiveWeights(tf.keras.constraints.Constraint):\n",
    "    def __init__(self):\n",
    "        pass\n",
    "    def __call__(self,weights):\n",
    "        return tf.where(weights<0. ,tf.zeros_like(weights),weights)\n",
    "    def get_config(self):\n",
    "        return {}\n",
    "    "
   ]
  },
  {
   "cell_type": "code",
   "execution_count": 74,
   "id": "46f1faf0-1e4e-45d5-95a0-07e7e1123643",
   "metadata": {},
   "outputs": [
    {
     "data": {
      "text/html": [
       "<pre style=\"white-space:pre;overflow-x:auto;line-height:normal;font-family:Menlo,'DejaVu Sans Mono',consolas,'Courier New',monospace\"><span style=\"font-weight: bold\">Model: \"sequential_2\"</span>\n",
       "</pre>\n"
      ],
      "text/plain": [
       "\u001b[1mModel: \"sequential_2\"\u001b[0m\n"
      ]
     },
     "metadata": {},
     "output_type": "display_data"
    },
    {
     "data": {
      "text/html": [
       "<pre style=\"white-space:pre;overflow-x:auto;line-height:normal;font-family:Menlo,'DejaVu Sans Mono',consolas,'Courier New',monospace\">┏━━━━━━━━━━━━━━━━━━━━━━━━━━━━━━━━━┳━━━━━━━━━━━━━━━━━━━━━━━━┳━━━━━━━━━━━━━━━┓\n",
       "┃<span style=\"font-weight: bold\"> Layer (type)                    </span>┃<span style=\"font-weight: bold\"> Output Shape           </span>┃<span style=\"font-weight: bold\">       Param # </span>┃\n",
       "┡━━━━━━━━━━━━━━━━━━━━━━━━━━━━━━━━━╇━━━━━━━━━━━━━━━━━━━━━━━━╇━━━━━━━━━━━━━━━┩\n",
       "│ dense_4 (<span style=\"color: #0087ff; text-decoration-color: #0087ff\">Dense</span>)                 │ (<span style=\"color: #00d7ff; text-decoration-color: #00d7ff\">None</span>, <span style=\"color: #00af00; text-decoration-color: #00af00\">30</span>)             │           <span style=\"color: #00af00; text-decoration-color: #00af00\">270</span> │\n",
       "├─────────────────────────────────┼────────────────────────┼───────────────┤\n",
       "│ dense_5 (<span style=\"color: #0087ff; text-decoration-color: #0087ff\">Dense</span>)                 │ (<span style=\"color: #00d7ff; text-decoration-color: #00d7ff\">None</span>, <span style=\"color: #00af00; text-decoration-color: #00af00\">1</span>)              │            <span style=\"color: #00af00; text-decoration-color: #00af00\">31</span> │\n",
       "└─────────────────────────────────┴────────────────────────┴───────────────┘\n",
       "</pre>\n"
      ],
      "text/plain": [
       "┏━━━━━━━━━━━━━━━━━━━━━━━━━━━━━━━━━┳━━━━━━━━━━━━━━━━━━━━━━━━┳━━━━━━━━━━━━━━━┓\n",
       "┃\u001b[1m \u001b[0m\u001b[1mLayer (type)                   \u001b[0m\u001b[1m \u001b[0m┃\u001b[1m \u001b[0m\u001b[1mOutput Shape          \u001b[0m\u001b[1m \u001b[0m┃\u001b[1m \u001b[0m\u001b[1m      Param #\u001b[0m\u001b[1m \u001b[0m┃\n",
       "┡━━━━━━━━━━━━━━━━━━━━━━━━━━━━━━━━━╇━━━━━━━━━━━━━━━━━━━━━━━━╇━━━━━━━━━━━━━━━┩\n",
       "│ dense_4 (\u001b[38;5;33mDense\u001b[0m)                 │ (\u001b[38;5;45mNone\u001b[0m, \u001b[38;5;34m30\u001b[0m)             │           \u001b[38;5;34m270\u001b[0m │\n",
       "├─────────────────────────────────┼────────────────────────┼───────────────┤\n",
       "│ dense_5 (\u001b[38;5;33mDense\u001b[0m)                 │ (\u001b[38;5;45mNone\u001b[0m, \u001b[38;5;34m1\u001b[0m)              │            \u001b[38;5;34m31\u001b[0m │\n",
       "└─────────────────────────────────┴────────────────────────┴───────────────┘\n"
      ]
     },
     "metadata": {},
     "output_type": "display_data"
    },
    {
     "data": {
      "text/html": [
       "<pre style=\"white-space:pre;overflow-x:auto;line-height:normal;font-family:Menlo,'DejaVu Sans Mono',consolas,'Courier New',monospace\"><span style=\"font-weight: bold\"> Total params: </span><span style=\"color: #00af00; text-decoration-color: #00af00\">301</span> (1.18 KB)\n",
       "</pre>\n"
      ],
      "text/plain": [
       "\u001b[1m Total params: \u001b[0m\u001b[38;5;34m301\u001b[0m (1.18 KB)\n"
      ]
     },
     "metadata": {},
     "output_type": "display_data"
    },
    {
     "data": {
      "text/html": [
       "<pre style=\"white-space:pre;overflow-x:auto;line-height:normal;font-family:Menlo,'DejaVu Sans Mono',consolas,'Courier New',monospace\"><span style=\"font-weight: bold\"> Trainable params: </span><span style=\"color: #00af00; text-decoration-color: #00af00\">301</span> (1.18 KB)\n",
       "</pre>\n"
      ],
      "text/plain": [
       "\u001b[1m Trainable params: \u001b[0m\u001b[38;5;34m301\u001b[0m (1.18 KB)\n"
      ]
     },
     "metadata": {},
     "output_type": "display_data"
    },
    {
     "data": {
      "text/html": [
       "<pre style=\"white-space:pre;overflow-x:auto;line-height:normal;font-family:Menlo,'DejaVu Sans Mono',consolas,'Courier New',monospace\"><span style=\"font-weight: bold\"> Non-trainable params: </span><span style=\"color: #00af00; text-decoration-color: #00af00\">0</span> (0.00 B)\n",
       "</pre>\n"
      ],
      "text/plain": [
       "\u001b[1m Non-trainable params: \u001b[0m\u001b[38;5;34m0\u001b[0m (0.00 B)\n"
      ]
     },
     "metadata": {},
     "output_type": "display_data"
    }
   ],
   "source": [
    "tf.keras.utils.set_random_seed(42)\n",
    "\n",
    "model=tf.keras.Sequential([\n",
    "    tf.keras.layers.InputLayer(shape=input_shape),\n",
    "    tf.keras.layers.Dense(30,activation=my_softplus,\n",
    "                          kernel_initializer=my_glorot_initializer,\n",
    "                          kernel_regularizer=MyL1Regularizer(factor=0.01),\n",
    "                          kernel_constraint=MyPositiveWeights()\n",
    "                           ),\n",
    "                         \n",
    "    tf.keras.layers.Dense(1)\n",
    "])\n",
    "model.summary()"
   ]
  },
  {
   "cell_type": "code",
   "execution_count": 75,
   "id": "cb3a6f96-bbfb-4876-bdd6-78e8e7428721",
   "metadata": {},
   "outputs": [],
   "source": [
    "model.compile(loss=HuberLoss(1.2),optimizer=\"nadam\",metrics=[\"mae\"])"
   ]
  },
  {
   "cell_type": "code",
   "execution_count": 76,
   "id": "2588c205-07c0-452f-a8e7-1ff786881a54",
   "metadata": {},
   "outputs": [
    {
     "name": "stdout",
     "output_type": "stream",
     "text": [
      "Epoch 1/4\n",
      "\u001b[1m363/363\u001b[0m \u001b[32m━━━━━━━━━━━━━━━━━━━━\u001b[0m\u001b[37m\u001b[0m \u001b[1m1s\u001b[0m 705us/step - loss: 1.1080 - mae: 1.2316 - val_loss: inf - val_mae: inf\n",
      "Epoch 2/4\n",
      "\u001b[1m363/363\u001b[0m \u001b[32m━━━━━━━━━━━━━━━━━━━━\u001b[0m\u001b[37m\u001b[0m \u001b[1m0s\u001b[0m 539us/step - loss: 0.4222 - mae: 0.6201 - val_loss: inf - val_mae: inf\n",
      "Epoch 3/4\n",
      "\u001b[1m363/363\u001b[0m \u001b[32m━━━━━━━━━━━━━━━━━━━━\u001b[0m\u001b[37m\u001b[0m \u001b[1m0s\u001b[0m 543us/step - loss: 0.3799 - mae: 0.6103 - val_loss: inf - val_mae: inf\n",
      "Epoch 4/4\n",
      "\u001b[1m363/363\u001b[0m \u001b[32m━━━━━━━━━━━━━━━━━━━━\u001b[0m\u001b[37m\u001b[0m \u001b[1m0s\u001b[0m 536us/step - loss: 0.3623 - mae: 0.6105 - val_loss: 0.3385 - val_mae: 0.5923\n"
     ]
    }
   ],
   "source": [
    "history=model.fit(X_train_scaled,y_train,\n",
    "                 epochs=4,\n",
    "                 validation_data=(X_valid_scaled,y_valid))"
   ]
  },
  {
   "cell_type": "markdown",
   "id": "14f9946d-1a78-4455-8bf5-6020570fc984",
   "metadata": {},
   "source": [
    "## Custom Metrics"
   ]
  },
  {
   "cell_type": "code",
   "execution_count": 78,
   "id": "ea42ecfa-2479-47f0-9fde-853b831ea0c5",
   "metadata": {},
   "outputs": [],
   "source": [
    "tf.keras.utils.set_random_seed(42)\n",
    "model=tf.keras.Sequential([\n",
    "    tf.keras.layers.InputLayer(shape=input_shape),\n",
    "    tf.keras.layers.Dense(30,activation=\"relu\",\n",
    "                         kernel_initializer=\"he_normal\"),\n",
    "    tf.keras.layers.Dense(1)\n",
    "])"
   ]
  },
  {
   "cell_type": "code",
   "execution_count": 79,
   "id": "0948d3c6-19f4-4bc8-8ee6-adeb63c3d3a9",
   "metadata": {},
   "outputs": [],
   "source": [
    "model.compile(loss=\"mse\",optimizer=\"nadam\",metrics=[HuberLoss(2)])"
   ]
  },
  {
   "cell_type": "code",
   "execution_count": 80,
   "id": "a70de9a0-dd47-45d7-ae95-a626221c47c0",
   "metadata": {},
   "outputs": [
    {
     "name": "stdout",
     "output_type": "stream",
     "text": [
      "Epoch 1/3\n",
      "\u001b[1m363/363\u001b[0m \u001b[32m━━━━━━━━━━━━━━━━━━━━\u001b[0m\u001b[37m\u001b[0m \u001b[1m1s\u001b[0m 682us/step - huber_loss_2: 1.0788 - loss: 2.5942 - val_huber_loss_2: 0.5646 - val_loss: 21.3898\n",
      "Epoch 2/3\n",
      "\u001b[1m363/363\u001b[0m \u001b[32m━━━━━━━━━━━━━━━━━━━━\u001b[0m\u001b[37m\u001b[0m \u001b[1m0s\u001b[0m 519us/step - huber_loss_2: 0.3403 - loss: 0.7644 - val_huber_loss_2: 0.4281 - val_loss: 11.2129\n",
      "Epoch 3/3\n",
      "\u001b[1m363/363\u001b[0m \u001b[32m━━━━━━━━━━━━━━━━━━━━\u001b[0m\u001b[37m\u001b[0m \u001b[1m0s\u001b[0m 549us/step - huber_loss_2: 0.2803 - loss: 0.6047 - val_huber_loss_2: 0.3411 - val_loss: 5.6292\n"
     ]
    },
    {
     "data": {
      "text/plain": [
       "<keras.src.callbacks.history.History at 0x30a87bd70>"
      ]
     },
     "execution_count": 80,
     "metadata": {},
     "output_type": "execute_result"
    }
   ],
   "source": [
    "model.fit(X_train_scaled,y_train,\n",
    "         epochs=3,\n",
    "         validation_data=(X_valid_scaled,y_valid))"
   ]
  },
  {
   "cell_type": "code",
   "execution_count": 81,
   "id": "1d4f1680-31c1-401a-a51b-ecf4e8739d1c",
   "metadata": {},
   "outputs": [],
   "source": [
    "tf.keras.utils.set_random_seed(42)\n",
    "model=tf.keras.Sequential([\n",
    "    tf.keras.layers.InputLayer(shape=input_shape),\n",
    "    tf.keras.layers.Dense(30,activation=\"relu\",\n",
    "                         kernel_initializer=\"he_normal\"),\n",
    "    tf.keras.layers.Dense(1)\n",
    "])"
   ]
  },
  {
   "cell_type": "code",
   "execution_count": 82,
   "id": "f294aef1-4e96-479d-b1d6-a7fc1ba2c476",
   "metadata": {},
   "outputs": [],
   "source": [
    "model.compile(loss=\"mse\",optimizer=\"nadam\",metrics=[create_huber(2)])"
   ]
  },
  {
   "cell_type": "code",
   "execution_count": 83,
   "id": "e37613ec-8cf2-42f6-b064-efa44ec6a1b7",
   "metadata": {},
   "outputs": [
    {
     "name": "stdout",
     "output_type": "stream",
     "text": [
      "Epoch 1/3\n",
      "\u001b[1m363/363\u001b[0m \u001b[32m━━━━━━━━━━━━━━━━━━━━\u001b[0m\u001b[37m\u001b[0m \u001b[1m1s\u001b[0m 677us/step - huber_fn: 1.0788 - loss: 2.5942 - val_huber_fn: 0.5648 - val_loss: 21.3898\n",
      "Epoch 2/3\n",
      "\u001b[1m363/363\u001b[0m \u001b[32m━━━━━━━━━━━━━━━━━━━━\u001b[0m\u001b[37m\u001b[0m \u001b[1m0s\u001b[0m 517us/step - huber_fn: 0.3403 - loss: 0.7644 - val_huber_fn: 0.4283 - val_loss: 11.2129\n",
      "Epoch 3/3\n",
      "\u001b[1m363/363\u001b[0m \u001b[32m━━━━━━━━━━━━━━━━━━━━\u001b[0m\u001b[37m\u001b[0m \u001b[1m0s\u001b[0m 530us/step - huber_fn: 0.2803 - loss: 0.6047 - val_huber_fn: 0.3412 - val_loss: 5.6292\n"
     ]
    },
    {
     "data": {
      "text/plain": [
       "<keras.src.callbacks.history.History at 0x308dd1fd0>"
      ]
     },
     "execution_count": 83,
     "metadata": {},
     "output_type": "execute_result"
    }
   ],
   "source": [
    "model.fit(X_train_scaled,y_train,\n",
    "         epochs=3,\n",
    "         validation_data=(X_valid_scaled,y_valid))"
   ]
  },
  {
   "cell_type": "code",
   "execution_count": 84,
   "id": "fa5b500d-028f-4f2f-a39b-f21a998ba56c",
   "metadata": {},
   "outputs": [],
   "source": [
    "model.compile(loss=create_huber(2),optimizer=\"nadam\",metrics=[create_huber(2)])"
   ]
  },
  {
   "cell_type": "code",
   "execution_count": 85,
   "id": "4875207e-4b46-4f3a-bfc8-18b63f1fbb3e",
   "metadata": {},
   "outputs": [
    {
     "name": "stdout",
     "output_type": "stream",
     "text": [
      "Epoch 1/3\n",
      "\u001b[1m363/363\u001b[0m \u001b[32m━━━━━━━━━━━━━━━━━━━━\u001b[0m\u001b[37m\u001b[0m \u001b[1m1s\u001b[0m 684us/step - huber_fn: 0.2443 - loss: 0.2443 - val_huber_fn: 0.2984 - val_loss: 0.2984\n",
      "Epoch 2/3\n",
      "\u001b[1m363/363\u001b[0m \u001b[32m━━━━━━━━━━━━━━━━━━━━\u001b[0m\u001b[37m\u001b[0m \u001b[1m0s\u001b[0m 520us/step - huber_fn: 0.2206 - loss: 0.2206 - val_huber_fn: 0.2439 - val_loss: 0.2439\n",
      "Epoch 3/3\n",
      "\u001b[1m363/363\u001b[0m \u001b[32m━━━━━━━━━━━━━━━━━━━━\u001b[0m\u001b[37m\u001b[0m \u001b[1m0s\u001b[0m 519us/step - huber_fn: 0.2101 - loss: 0.2101 - val_huber_fn: 0.2090 - val_loss: 0.2090\n"
     ]
    },
    {
     "data": {
      "text/plain": [
       "<keras.src.callbacks.history.History at 0x30b892ea0>"
      ]
     },
     "execution_count": 85,
     "metadata": {},
     "output_type": "execute_result"
    }
   ],
   "source": [
    "model.fit(X_train_scaled,y_train,\n",
    "         epochs=3,\n",
    "         validation_data=(X_valid_scaled,y_valid))\n"
   ]
  },
  {
   "cell_type": "markdown",
   "id": "8d409af6-4e4d-4330-a3af-d582fd12be75",
   "metadata": {},
   "source": [
    "### Streaming Metrics"
   ]
  },
  {
   "cell_type": "code",
   "execution_count": 87,
   "id": "a9123c50-2148-4a06-806a-105a580de15e",
   "metadata": {},
   "outputs": [],
   "source": [
    "precision=tf.keras.metrics.Precision()"
   ]
  },
  {
   "cell_type": "code",
   "execution_count": 88,
   "id": "80249bbc-fbdc-410b-9eb3-00019c3f8621",
   "metadata": {},
   "outputs": [
    {
     "data": {
      "text/plain": [
       "<tf.Tensor: shape=(), dtype=float32, numpy=0.800000011920929>"
      ]
     },
     "execution_count": 88,
     "metadata": {},
     "output_type": "execute_result"
    }
   ],
   "source": [
    "precision([0, 1, 1, 1, 0, 1, 0, 1], [1, 1, 0, 1, 0, 1, 0, 1]) # precision = 4 / 5 = 0.8"
   ]
  },
  {
   "cell_type": "code",
   "execution_count": 89,
   "id": "526a16a4-1c38-445a-83e7-e66b4ae6b836",
   "metadata": {},
   "outputs": [
    {
     "data": {
      "text/plain": [
       "<tf.Tensor: shape=(), dtype=float32, numpy=0.5>"
      ]
     },
     "execution_count": 89,
     "metadata": {},
     "output_type": "execute_result"
    }
   ],
   "source": [
    "precision([0, 1, 0, 0, 1, 0, 1, 1], [1, 0, 1, 1, 0, 0, 0, 0]) #precision=0/3=0 "
   ]
  },
  {
   "cell_type": "code",
   "execution_count": 90,
   "id": "9cb32817-fd23-4c57-a48a-66f622a9e7ab",
   "metadata": {},
   "outputs": [
    {
     "data": {
      "text/plain": [
       "<tf.Tensor: shape=(), dtype=float32, numpy=0.5>"
      ]
     },
     "execution_count": 90,
     "metadata": {},
     "output_type": "execute_result"
    }
   ],
   "source": [
    "precision.result()   #Final result-> 4/(5+3)=0.5"
   ]
  },
  {
   "cell_type": "code",
   "execution_count": 91,
   "id": "1d88bb9d-8e8b-4170-a146-c1d73e5d77f1",
   "metadata": {},
   "outputs": [
    {
     "data": {
      "text/plain": [
       "[<Variable path=precision/true_positives, shape=(1,), dtype=float32, value=[4.]>,\n",
       " <Variable path=precision/false_positives, shape=(1,), dtype=float32, value=[4.]>]"
      ]
     },
     "execution_count": 91,
     "metadata": {},
     "output_type": "execute_result"
    }
   ],
   "source": [
    "precision.variables"
   ]
  },
  {
   "cell_type": "code",
   "execution_count": 92,
   "id": "558df2cf-f107-4d97-8e92-a6c54bba17bf",
   "metadata": {},
   "outputs": [],
   "source": [
    "precision.reset_state()"
   ]
  },
  {
   "cell_type": "code",
   "execution_count": 93,
   "id": "1793cf98-9211-47e5-8ae5-78fb10aa4362",
   "metadata": {},
   "outputs": [
    {
     "data": {
      "text/plain": [
       "<tf.Tensor: shape=(), dtype=float32, numpy=0.0>"
      ]
     },
     "execution_count": 93,
     "metadata": {},
     "output_type": "execute_result"
    }
   ],
   "source": [
    "precision.result()"
   ]
  },
  {
   "cell_type": "code",
   "execution_count": 94,
   "id": "e7933bd7-9134-4def-aedd-eb0f9f123dfc",
   "metadata": {},
   "outputs": [],
   "source": [
    "class HuberMetric(tf.keras.metrics.Metric):\n",
    "    def __init__(self,threshold=1.0,**kwargs):\n",
    "        super().__init__(**kwargs)\n",
    "        self.threshold=threshold\n",
    "        self.huber_fn=create_huber(threshold)\n",
    "        self.total=self.add_weight(name=\"total\",initializer=\"zeros\") #Ek TensorFlow variable banao jiska naam total ho aur shuru mein value 0.0 ho.\n",
    "        self.count=self.add_weight(name=\"count\",initializer=\"zeros\")\n",
    "\n",
    "    def update_state(self,y_true,y_pred,sample_weight=None):\n",
    "        sample_metrics=self.huber_fn(y_true,y_pred)\n",
    "        self.total.assign_add(tf.reduce_sum(sample_metrics))\n",
    "        self.count.assign_add(tf.cast(tf.size(y_true),tf.float32))\n",
    "\n",
    "    def result(self):\n",
    "        return self.total/self.count\n",
    "\n",
    "    def get_config(self):\n",
    "        base_config=super().get_config()\n",
    "        return {**base_config,\"threshold\":self.threshold}"
   ]
  },
  {
   "cell_type": "code",
   "execution_count": 95,
   "id": "a431f318-0e81-4442-8ec4-daf254464c38",
   "metadata": {},
   "outputs": [
    {
     "data": {
      "text/plain": [
       "<tf.Tensor: shape=(), dtype=float32, numpy=22.5>"
      ]
     },
     "execution_count": 95,
     "metadata": {},
     "output_type": "execute_result"
    }
   ],
   "source": [
    "m=HuberMetric(3.0)\n",
    "\n",
    "m(tf.constant([[3.]]),tf.constant([[12.]]))\n",
    "\n",
    "#error->12-3=9\n",
    "#9>3 so linear loss\n",
    "# total-> 3*9 - 3^2 /2 =22.5\n",
    "# count=1\n",
    "#result=22.5/1"
   ]
  },
  {
   "cell_type": "code",
   "execution_count": 96,
   "id": "e12a33e7-b4d7-4cdc-a031-fc4614268ab4",
   "metadata": {},
   "outputs": [
    {
     "data": {
      "text/plain": [
       "<tf.Tensor: shape=(), dtype=float32, numpy=10.166666984558105>"
      ]
     },
     "execution_count": 96,
     "metadata": {},
     "output_type": "execute_result"
    }
   ],
   "source": [
    "m(tf.constant([[2.],[3.]]),tf.constant([[1.],[7.]]))\n",
    "\n",
    "# total -> total + (|1-2|²)/2 + 3*|7-3|-3²/2= 22.5+8=30.5\n",
    "#Count -> count + 2 =1+2=3\n",
    "#result= 30.5/3=10.1666"
   ]
  },
  {
   "cell_type": "code",
   "execution_count": 97,
   "id": "56658734-e847-4417-b8ef-fccde0a7573c",
   "metadata": {},
   "outputs": [
    {
     "data": {
      "text/plain": [
       "<tf.Tensor: shape=(), dtype=float32, numpy=10.166666984558105>"
      ]
     },
     "execution_count": 97,
     "metadata": {},
     "output_type": "execute_result"
    }
   ],
   "source": [
    "m.result()"
   ]
  },
  {
   "cell_type": "code",
   "execution_count": 98,
   "id": "31aadddc-8f58-48f2-86a2-53a038f1a6e4",
   "metadata": {},
   "outputs": [
    {
     "data": {
      "text/plain": [
       "[<Variable path=huber_metric/total, shape=(), dtype=float32, value=30.5>,\n",
       " <Variable path=huber_metric/count, shape=(), dtype=float32, value=3.0>]"
      ]
     },
     "execution_count": 98,
     "metadata": {},
     "output_type": "execute_result"
    }
   ],
   "source": [
    "m.variables"
   ]
  },
  {
   "cell_type": "code",
   "execution_count": 99,
   "id": "b6f42af6-3921-447c-a596-db659a8e7e57",
   "metadata": {},
   "outputs": [],
   "source": [
    "m.reset_state()"
   ]
  },
  {
   "cell_type": "code",
   "execution_count": 100,
   "id": "43c6d158-7cad-4c03-9bb0-be4ce3ef6f86",
   "metadata": {},
   "outputs": [
    {
     "data": {
      "text/plain": [
       "[<Variable path=huber_metric/total, shape=(), dtype=float32, value=0.0>,\n",
       " <Variable path=huber_metric/count, shape=(), dtype=float32, value=0.0>]"
      ]
     },
     "execution_count": 100,
     "metadata": {},
     "output_type": "execute_result"
    }
   ],
   "source": [
    "m.variables"
   ]
  },
  {
   "cell_type": "code",
   "execution_count": 101,
   "id": "fe22d759-ecaf-4205-b1d8-1f0a75a3dc0b",
   "metadata": {},
   "outputs": [],
   "source": [
    "tf.keras.utils.set_random_seed(42)\n",
    "\n",
    "model=tf.keras.Sequential([\n",
    "    tf.keras.layers.InputLayer(shape=input_shape),\n",
    "    tf.keras.layers.Dense(30,activation=\"relu\",\n",
    "                         kernel_initializer=\"he_normal\"),\n",
    "    tf.keras.layers.Dense(1)\n",
    "])"
   ]
  },
  {
   "cell_type": "code",
   "execution_count": 102,
   "id": "133bad37-1bd8-4e24-8cf7-21638662e531",
   "metadata": {},
   "outputs": [],
   "source": [
    "model.compile(loss=HuberLoss(2),\n",
    "             optimizer=\"nadam\",\n",
    "             metrics=[HuberMetric(2)])"
   ]
  },
  {
   "cell_type": "code",
   "execution_count": 103,
   "id": "cd1002b0-7688-4bb5-a91b-20efeba6b35b",
   "metadata": {},
   "outputs": [
    {
     "name": "stdout",
     "output_type": "stream",
     "text": [
      "Epoch 1/4\n",
      "\u001b[1m363/363\u001b[0m \u001b[32m━━━━━━━━━━━━━━━━━━━━\u001b[0m\u001b[37m\u001b[0m \u001b[1m1s\u001b[0m 675us/step - huber_metric_1: 1.0512 - loss: 1.0512 - val_huber_metric_1: 0.5086 - val_loss: 0.5086\n",
      "Epoch 2/4\n",
      "\u001b[1m363/363\u001b[0m \u001b[32m━━━━━━━━━━━━━━━━━━━━\u001b[0m\u001b[37m\u001b[0m \u001b[1m0s\u001b[0m 518us/step - huber_metric_1: 0.3170 - loss: 0.3170 - val_huber_metric_1: 0.3527 - val_loss: 0.3527\n",
      "Epoch 3/4\n",
      "\u001b[1m363/363\u001b[0m \u001b[32m━━━━━━━━━━━━━━━━━━━━\u001b[0m\u001b[37m\u001b[0m \u001b[1m0s\u001b[0m 520us/step - huber_metric_1: 0.2612 - loss: 0.2612 - val_huber_metric_1: 0.2689 - val_loss: 0.2689\n",
      "Epoch 4/4\n",
      "\u001b[1m363/363\u001b[0m \u001b[32m━━━━━━━━━━━━━━━━━━━━\u001b[0m\u001b[37m\u001b[0m \u001b[1m0s\u001b[0m 516us/step - huber_metric_1: 0.2328 - loss: 0.2328 - val_huber_metric_1: 0.2207 - val_loss: 0.2207\n"
     ]
    },
    {
     "data": {
      "text/plain": [
       "<keras.src.callbacks.history.History at 0x30a942bd0>"
      ]
     },
     "execution_count": 103,
     "metadata": {},
     "output_type": "execute_result"
    }
   ],
   "source": [
    "model.fit(X_train_scaled,y_train,\n",
    "         epochs=4,\n",
    "         validation_data=(X_valid_scaled,y_valid))"
   ]
  },
  {
   "cell_type": "code",
   "execution_count": 104,
   "id": "03c663ef-0720-4719-9ffd-4a9ea7c07a87",
   "metadata": {},
   "outputs": [],
   "source": [
    "model.save(\"my_custom_huber_metric_model.keras\")"
   ]
  },
  {
   "cell_type": "code",
   "execution_count": 105,
   "id": "9cc4d166-d003-4205-88aa-28e1b43e3001",
   "metadata": {},
   "outputs": [],
   "source": [
    "model=tf.keras.models.load_model(\"my_custom_huber_metric_model.keras\",\n",
    "                                custom_objects={\"HuberLoss\":HuberLoss,\n",
    "                                               \"HuberMetric\":HuberMetric})"
   ]
  },
  {
   "cell_type": "code",
   "execution_count": 106,
   "id": "4ab98442-592f-48ef-84f3-b6d576a169d7",
   "metadata": {},
   "outputs": [
    {
     "name": "stdout",
     "output_type": "stream",
     "text": [
      "Epoch 1/3\n",
      "\u001b[1m363/363\u001b[0m \u001b[32m━━━━━━━━━━━━━━━━━━━━\u001b[0m\u001b[37m\u001b[0m \u001b[1m0s\u001b[0m 665us/step - huber_metric_1: 0.2178 - loss: 0.2178 - val_huber_metric_1: 0.1899 - val_loss: 0.1899\n",
      "Epoch 2/3\n",
      "\u001b[1m363/363\u001b[0m \u001b[32m━━━━━━━━━━━━━━━━━━━━\u001b[0m\u001b[37m\u001b[0m \u001b[1m0s\u001b[0m 511us/step - huber_metric_1: 0.2093 - loss: 0.2093 - val_huber_metric_1: 0.1996 - val_loss: 0.1996\n",
      "Epoch 3/3\n",
      "\u001b[1m363/363\u001b[0m \u001b[32m━━━━━━━━━━━━━━━━━━━━\u001b[0m\u001b[37m\u001b[0m \u001b[1m0s\u001b[0m 513us/step - huber_metric_1: 0.2036 - loss: 0.2036 - val_huber_metric_1: 0.2243 - val_loss: 0.2243\n"
     ]
    },
    {
     "data": {
      "text/plain": [
       "<keras.src.callbacks.history.History at 0x30a12e3c0>"
      ]
     },
     "execution_count": 106,
     "metadata": {},
     "output_type": "execute_result"
    }
   ],
   "source": [
    "model.fit(X_train_scaled,y_train,\n",
    "         epochs=3,\n",
    "         validation_data=(X_valid_scaled,y_valid))"
   ]
  },
  {
   "cell_type": "code",
   "execution_count": 107,
   "id": "b46cecd4-b1c5-47c5-b804-5d67f3868aa4",
   "metadata": {},
   "outputs": [],
   "source": [
    "class HuberMetric(tf.keras.metrics.Mean):\n",
    "    def __init__(self,threshold=1.0,name=\"HuberMetric\",dtype=None):\n",
    "        self.threshold=threshold\n",
    "        self.huber_fn=create_huber(threshold)\n",
    "        super().__init__(name=name,dtype=dtype)\n",
    "\n",
    "    def update_state(self,y_true,y_pred,sample_weight=None):\n",
    "        metric=self.huber_fn(y_true,y_pred)\n",
    "        super(HuberMetric,self).update_state(metric,sample_weight)\n",
    "\n",
    "    def get_config(self):\n",
    "        base_config=super().get_config()\n",
    "        return {**base_config,\"threshold\":self.threshold}"
   ]
  },
  {
   "cell_type": "code",
   "execution_count": 108,
   "id": "0422a774-e80d-4496-bdd0-ce325e0ea7a9",
   "metadata": {},
   "outputs": [],
   "source": [
    "tf.keras.utils.set_random_seed(42)\n",
    "\n",
    "model=tf.keras.Sequential([\n",
    "    tf.keras.layers.InputLayer(shape=input_shape),\n",
    "    tf.keras.layers.Dense(30,activation=\"relu\",\n",
    "                         kernel_initializer=\"he_normal\"),\n",
    "    tf.keras.layers.Dense(1)\n",
    "])"
   ]
  },
  {
   "cell_type": "code",
   "execution_count": 109,
   "id": "17af2193-7384-4d36-83d4-4b6e725f9d40",
   "metadata": {},
   "outputs": [],
   "source": [
    "model.compile(loss=HuberLoss(2),\n",
    "             optimizer=\"nadam\",\n",
    "                 weighted_metrics=[HuberMetric(2)])"
   ]
  },
  {
   "cell_type": "code",
   "execution_count": 110,
   "id": "d08a024e-d1dd-41d1-af04-6d6de3857212",
   "metadata": {},
   "outputs": [
    {
     "name": "stdout",
     "output_type": "stream",
     "text": [
      "Epoch 1/4\n",
      "\u001b[1m363/363\u001b[0m \u001b[32m━━━━━━━━━━━━━━━━━━━━\u001b[0m\u001b[37m\u001b[0m \u001b[1m1s\u001b[0m 687us/step - HuberMetric: 1.0599 - loss: 0.5274 - val_HuberMetric: 0.5222 - val_loss: 0.5222\n",
      "Epoch 2/4\n",
      "\u001b[1m363/363\u001b[0m \u001b[32m━━━━━━━━━━━━━━━━━━━━\u001b[0m\u001b[37m\u001b[0m \u001b[1m0s\u001b[0m 530us/step - HuberMetric: 0.3215 - loss: 0.1598 - val_HuberMetric: 0.3468 - val_loss: 0.3468\n",
      "Epoch 3/4\n",
      "\u001b[1m363/363\u001b[0m \u001b[32m━━━━━━━━━━━━━━━━━━━━\u001b[0m\u001b[37m\u001b[0m \u001b[1m0s\u001b[0m 523us/step - HuberMetric: 0.2647 - loss: 0.1316 - val_HuberMetric: 0.2743 - val_loss: 0.2743\n",
      "Epoch 4/4\n",
      "\u001b[1m363/363\u001b[0m \u001b[32m━━━━━━━━━━━━━━━━━━━━\u001b[0m\u001b[37m\u001b[0m \u001b[1m0s\u001b[0m 519us/step - HuberMetric: 0.2371 - loss: 0.1178 - val_HuberMetric: 0.2428 - val_loss: 0.2428\n"
     ]
    },
    {
     "data": {
      "text/plain": [
       "<keras.src.callbacks.history.History at 0x30ca73200>"
      ]
     },
     "execution_count": 110,
     "metadata": {},
     "output_type": "execute_result"
    }
   ],
   "source": [
    "np.random.seed(42)\n",
    "sample_weights=np.random.rand(len(y_train))\n",
    "model.fit(X_train_scaled,y_train,\n",
    "         epochs=4,\n",
    "         sample_weight=sample_weights,\n",
    "         validation_data=(X_valid_scaled,y_valid))"
   ]
  },
  {
   "cell_type": "code",
   "execution_count": 111,
   "id": "fb28b5fd-f04a-4dc2-882b-5b2692bce5fb",
   "metadata": {},
   "outputs": [],
   "source": [
    "model.save(\"my_custom_huber_metric_model_v2.keras\")"
   ]
  },
  {
   "cell_type": "code",
   "execution_count": 112,
   "id": "f0df4078-3111-42f4-9a91-61cc12fd9a01",
   "metadata": {},
   "outputs": [],
   "source": [
    "model=tf.keras.models.load_model(\"my_custom_huber_metric_model.keras\",\n",
    "                                custom_objects={\"HuberLoss\":HuberLoss,\n",
    "                                               \"HuberMetric\":HuberMetric})"
   ]
  },
  {
   "cell_type": "code",
   "execution_count": 113,
   "id": "5e37dbcd-a838-47d4-bcf2-bfd3873ad8da",
   "metadata": {},
   "outputs": [
    {
     "name": "stdout",
     "output_type": "stream",
     "text": [
      "Epoch 1/2\n",
      "\u001b[1m363/363\u001b[0m \u001b[32m━━━━━━━━━━━━━━━━━━━━\u001b[0m\u001b[37m\u001b[0m \u001b[1m0s\u001b[0m 393us/step - huber_metric_1: 0.2178 - loss: 0.2178 \n",
      "Epoch 2/2\n",
      "\u001b[1m363/363\u001b[0m \u001b[32m━━━━━━━━━━━━━━━━━━━━\u001b[0m\u001b[37m\u001b[0m \u001b[1m0s\u001b[0m 379us/step - huber_metric_1: 0.2093 - loss: 0.2093\n"
     ]
    },
    {
     "data": {
      "text/plain": [
       "<keras.src.callbacks.history.History at 0x30d11c0e0>"
      ]
     },
     "execution_count": 113,
     "metadata": {},
     "output_type": "execute_result"
    }
   ],
   "source": [
    "model.fit(X_train_scaled,y_train,\n",
    "         epochs=2)"
   ]
  },
  {
   "cell_type": "markdown",
   "id": "0e4a5129-ed6f-4da2-917c-f1c9f006eda7",
   "metadata": {},
   "source": [
    "## Custom Layers"
   ]
  },
  {
   "cell_type": "code",
   "execution_count": 115,
   "id": "507e98e6-fb43-41f0-b494-68e4288f180f",
   "metadata": {},
   "outputs": [],
   "source": [
    "exp_layer=tf.keras.layers.Lambda(lambda x:tf.exp(x))"
   ]
  },
  {
   "cell_type": "code",
   "execution_count": 116,
   "id": "6f6d7905-86a4-4b97-b8db-9b77ed59dc28",
   "metadata": {},
   "outputs": [
    {
     "data": {
      "text/plain": [
       "<tf.Tensor: shape=(3,), dtype=float32, numpy=array([1.3533528e-01, 2.0085537e+01, 1.4841316e+02], dtype=float32)>"
      ]
     },
     "execution_count": 116,
     "metadata": {},
     "output_type": "execute_result"
    }
   ],
   "source": [
    "exp_layer(tf.constant([-2.,3.,5.]))"
   ]
  },
  {
   "cell_type": "code",
   "execution_count": 117,
   "id": "33079661-a2ac-4f76-8f1d-7ba004bb65d0",
   "metadata": {},
   "outputs": [],
   "source": [
    "tf.keras.utils.set_random_seed(42)\n",
    "\n",
    "model=tf.keras.Sequential([\n",
    "    tf.keras.layers.InputLayer(shape=input_shape),\n",
    "    tf.keras.layers.Dense(30,activation=\"relu\"),\n",
    "    tf.keras.layers.Dense(1),\n",
    "    exp_layer\n",
    "])"
   ]
  },
  {
   "cell_type": "code",
   "execution_count": 118,
   "id": "0032a3c2-6026-46cd-99d7-3facf4946e57",
   "metadata": {},
   "outputs": [],
   "source": [
    "model.compile(loss=\"mse\",optimizer=\"sgd\",metrics=[HuberLoss(2.0)])"
   ]
  },
  {
   "cell_type": "code",
   "execution_count": 119,
   "id": "6c36900f-4e19-4686-8327-42b302783c57",
   "metadata": {},
   "outputs": [
    {
     "name": "stdout",
     "output_type": "stream",
     "text": [
      "Epoch 1/2\n",
      "\u001b[1m363/363\u001b[0m \u001b[32m━━━━━━━━━━━━━━━━━━━━\u001b[0m\u001b[37m\u001b[0m \u001b[1m0s\u001b[0m 354us/step - huber_loss_5: 0.5644 - loss: 1.2350 \n",
      "Epoch 2/2\n",
      "\u001b[1m363/363\u001b[0m \u001b[32m━━━━━━━━━━━━━━━━━━━━\u001b[0m\u001b[37m\u001b[0m \u001b[1m0s\u001b[0m 340us/step - huber_loss_5: 0.2871 - loss: 0.6130\n"
     ]
    },
    {
     "data": {
      "text/plain": [
       "<keras.src.callbacks.history.History at 0x30be849b0>"
      ]
     },
     "execution_count": 119,
     "metadata": {},
     "output_type": "execute_result"
    }
   ],
   "source": [
    "model.fit(X_train_scaled,y_train,\n",
    "         epochs=2)"
   ]
  },
  {
   "cell_type": "code",
   "execution_count": 120,
   "id": "7dbd6260-1687-4d26-ba00-7d86fd759994",
   "metadata": {},
   "outputs": [],
   "source": [
    "class MyDense(tf.keras.layers.Layer):\n",
    "    def __init__(self,units,activation=None,**kwargs):\n",
    "        super().__init__(**kwargs)\n",
    "        self.units=units\n",
    "        self.activation=tf.keras.activations.get(activation)\n",
    "\n",
    "    def build(self,batch_input_size):\n",
    "        self.kernel=self.add_weight(\n",
    "            name=\"kernel\",\n",
    "            initializer=\"he_normal\",\n",
    "            shape=[batch_input_size[-1],self.units]\n",
    "        )\n",
    "        self.bias=self.add_weight(\n",
    "            name=\"bias\",\n",
    "            shape=[self.units],\n",
    "            initializer=\"zeros\"\n",
    "        )\n",
    "        \n",
    "    def call(self,X):\n",
    "        return self.activation(X@self.kernel + self.bias)\n",
    "\n",
    "    def get_config(self):\n",
    "        base_config=super().get_config()\n",
    "        return {**base_config,\"units\":self.units,\n",
    "               \"activation\":tf.keras.activations.serialize(self.activation)} #Converts function to string name for saving\n"
   ]
  },
  {
   "cell_type": "code",
   "execution_count": 121,
   "id": "3913776a-62d7-4d1b-a0cc-acf64d4e4b52",
   "metadata": {},
   "outputs": [
    {
     "name": "stdout",
     "output_type": "stream",
     "text": [
      "Epoch 1/2\n",
      "\u001b[1m363/363\u001b[0m \u001b[32m━━━━━━━━━━━━━━━━━━━━\u001b[0m\u001b[37m\u001b[0m \u001b[1m0s\u001b[0m 608us/step - loss: 5.7265 - val_loss: 6.9255\n",
      "Epoch 2/2\n",
      "\u001b[1m363/363\u001b[0m \u001b[32m━━━━━━━━━━━━━━━━━━━━\u001b[0m\u001b[37m\u001b[0m \u001b[1m0s\u001b[0m 487us/step - loss: 0.9550 - val_loss: 2.6011\n"
     ]
    },
    {
     "data": {
      "text/plain": [
       "<keras.src.callbacks.history.History at 0x30a8bec30>"
      ]
     },
     "execution_count": 121,
     "metadata": {},
     "output_type": "execute_result"
    }
   ],
   "source": [
    "tf.keras.utils.set_random_seed(42)\n",
    "model = tf.keras.Sequential([\n",
    "    tf.keras.layers.InputLayer(shape=input_shape),\n",
    "    MyDense(30, activation=\"relu\"),\n",
    "    MyDense(1)\n",
    "])\n",
    "model.compile(loss=\"mse\", optimizer=\"nadam\")\n",
    "model.fit(X_train_scaled, y_train, epochs=2,\n",
    "          validation_data=(X_valid_scaled, y_valid))"
   ]
  },
  {
   "cell_type": "code",
   "execution_count": 122,
   "id": "28a88524-830b-4f39-b829-4cedb33b422c",
   "metadata": {},
   "outputs": [
    {
     "name": "stdout",
     "output_type": "stream",
     "text": [
      "\u001b[1m162/162\u001b[0m \u001b[32m━━━━━━━━━━━━━━━━━━━━\u001b[0m\u001b[37m\u001b[0m \u001b[1m0s\u001b[0m 312us/step - loss: 0.7227\n"
     ]
    },
    {
     "data": {
      "text/plain": [
       "0.7036542296409607"
      ]
     },
     "execution_count": 122,
     "metadata": {},
     "output_type": "execute_result"
    }
   ],
   "source": [
    "model.evaluate(X_test_scaled,y_test)"
   ]
  },
  {
   "cell_type": "code",
   "execution_count": 123,
   "id": "41520b43-c440-446c-9bd1-f1113b47e57a",
   "metadata": {},
   "outputs": [],
   "source": [
    "model.save(\"my_custom_layer_model.keras\")"
   ]
  },
  {
   "cell_type": "code",
   "execution_count": 124,
   "id": "4f51c587-23a0-4464-a527-a3c2f4fadb75",
   "metadata": {},
   "outputs": [],
   "source": [
    "model=tf.keras.models.load_model(\"my_custom_layer_model.keras\",\n",
    "                                custom_objects={\"MyDense\":MyDense})"
   ]
  },
  {
   "cell_type": "code",
   "execution_count": 125,
   "id": "ef2fa83a-280f-4416-89db-da6102b40039",
   "metadata": {},
   "outputs": [
    {
     "name": "stdout",
     "output_type": "stream",
     "text": [
      "Epoch 1/2\n",
      "\u001b[1m363/363\u001b[0m \u001b[32m━━━━━━━━━━━━━━━━━━━━\u001b[0m\u001b[37m\u001b[0m \u001b[1m0s\u001b[0m 373us/step - loss: 0.7034 \n",
      "Epoch 2/2\n",
      "\u001b[1m363/363\u001b[0m \u001b[32m━━━━━━━━━━━━━━━━━━━━\u001b[0m\u001b[37m\u001b[0m \u001b[1m0s\u001b[0m 360us/step - loss: 0.5803\n"
     ]
    },
    {
     "data": {
      "text/plain": [
       "<keras.src.callbacks.history.History at 0x30cc8cb60>"
      ]
     },
     "execution_count": 125,
     "metadata": {},
     "output_type": "execute_result"
    }
   ],
   "source": [
    "model.fit(X_train_scaled,y_train,\n",
    "         epochs=2)"
   ]
  },
  {
   "cell_type": "code",
   "execution_count": 126,
   "id": "8439ec42-b302-45aa-8e5c-a26f18b46229",
   "metadata": {},
   "outputs": [],
   "source": [
    "class MyMultilayer(tf.keras.layers.Layer):\n",
    "    def call(self,inputs):\n",
    "        input1,input2=inputs\n",
    "        added=input1+input2\n",
    "        multiplied=input1*input2\n",
    "        divided=input1/input2\n",
    "\n",
    "        return [added,multiplied,divided]"
   ]
  },
  {
   "cell_type": "code",
   "execution_count": 127,
   "id": "f81a3d4e-0861-4f7e-82af-c9e53996de9f",
   "metadata": {},
   "outputs": [
    {
     "data": {
      "text/plain": [
       "[<KerasTensor shape=(None, 3), dtype=float32, sparse=False, ragged=False, name=keras_tensor_50>,\n",
       " <KerasTensor shape=(None, 3), dtype=float32, sparse=False, ragged=False, name=keras_tensor_51>,\n",
       " <KerasTensor shape=(None, 3), dtype=float32, sparse=False, ragged=False, name=keras_tensor_52>]"
      ]
     },
     "execution_count": 127,
     "metadata": {},
     "output_type": "execute_result"
    }
   ],
   "source": [
    "input1=tf.keras.layers.Input(shape=[3])\n",
    "input2=tf.keras.layers.Input(shape=[3])\n",
    "\n",
    "MyMultilayer()((input1,input2))"
   ]
  },
  {
   "cell_type": "code",
   "execution_count": 128,
   "id": "46633a66-cd1c-4b56-808a-059a66c16739",
   "metadata": {},
   "outputs": [],
   "source": [
    "class MyGaussianNoise(tf.keras.layers.Layer):\n",
    "    def __init__(self,stddev,**kwargs):\n",
    "        super().__init__(**kwargs)\n",
    "        self.stddev=stddev\n",
    "\n",
    "    def call(self,X,training=None):\n",
    "        if training:\n",
    "            noise=tf.random.normal(tf.shape(X),stddev=self.stddev)\n",
    "            return X+noise\n",
    "        else:\n",
    "            return X\n",
    "        "
   ]
  },
  {
   "cell_type": "code",
   "execution_count": 129,
   "id": "c869909e-5db0-4899-b70f-5aeb402ba87a",
   "metadata": {},
   "outputs": [
    {
     "name": "stdout",
     "output_type": "stream",
     "text": [
      "Epoch 1/3\n",
      "\u001b[1m363/363\u001b[0m \u001b[32m━━━━━━━━━━━━━━━━━━━━\u001b[0m\u001b[37m\u001b[0m \u001b[1m1s\u001b[0m 672us/step - HuberMetric: 1.2976 - loss: 5.0938 - val_HuberMetric: 0.5893 - val_loss: 8.4476\n",
      "Epoch 2/3\n",
      "\u001b[1m363/363\u001b[0m \u001b[32m━━━━━━━━━━━━━━━━━━━━\u001b[0m\u001b[37m\u001b[0m \u001b[1m0s\u001b[0m 520us/step - HuberMetric: 0.5946 - loss: 1.6268 - val_HuberMetric: 0.4574 - val_loss: 3.1225\n",
      "Epoch 3/3\n",
      "\u001b[1m363/363\u001b[0m \u001b[32m━━━━━━━━━━━━━━━━━━━━\u001b[0m\u001b[37m\u001b[0m \u001b[1m0s\u001b[0m 519us/step - HuberMetric: 0.4911 - loss: 1.2658 - val_HuberMetric: 0.3873 - val_loss: 1.5090\n",
      "\u001b[1m162/162\u001b[0m \u001b[32m━━━━━━━━━━━━━━━━━━━━\u001b[0m\u001b[37m\u001b[0m \u001b[1m0s\u001b[0m 332us/step - HuberMetric: 0.3772 - loss: 0.9654\n"
     ]
    },
    {
     "data": {
      "text/plain": [
       "[0.9787654280662537, 0.37903374433517456]"
      ]
     },
     "execution_count": 129,
     "metadata": {},
     "output_type": "execute_result"
    }
   ],
   "source": [
    "tf.keras.utils.set_random_seed(42)\n",
    "\n",
    "model=tf.keras.Sequential([\n",
    "    tf.keras.layers.InputLayer(shape=input_shape),\n",
    "    MyGaussianNoise(stddev=1.0),\n",
    "    tf.keras.layers.Dense(20,activation=\"relu\",\n",
    "                         kernel_initializer=\"he_normal\"),\n",
    "    tf.keras.layers.Dense(1)\n",
    "])\n",
    "model.compile(loss=\"mse\",optimizer=\"nadam\",metrics=[HuberMetric(1)])\n",
    "model.fit(X_train_scaled,y_train,\n",
    "         epochs=3,\n",
    "         validation_data=(X_valid_scaled,y_valid))\n",
    "model.evaluate(X_test_scaled,y_test)"
   ]
  },
  {
   "cell_type": "markdown",
   "id": "3862b44d-61e5-41ea-89f5-34a4e8ec0523",
   "metadata": {},
   "source": [
    "## Custom Models"
   ]
  },
  {
   "cell_type": "code",
   "execution_count": 131,
   "id": "755bda95-454f-4322-a1f3-18590d2f390b",
   "metadata": {},
   "outputs": [],
   "source": [
    "class ResidualBlock(tf.keras.layers.Layer):\n",
    "    def __init__(self,n_layers,n_neurons,**kwargs):\n",
    "        super().__init__(**kwargs)\n",
    "        self.hidded=[tf.keras.layers.Dense(n_neurons,activation=\"relu\",\n",
    "                                          kernel_initializer=\"he_normal\")\n",
    "                    for _ in range(n_layers)]\n",
    "\n",
    "    def call(self,inputs):\n",
    "        Z=inputs\n",
    "        for layer in self.hidded:\n",
    "            Z=layer(Z)\n",
    "        return inputs+Z"
   ]
  },
  {
   "cell_type": "code",
   "execution_count": 132,
   "id": "2ec84645-cb22-4e0e-966c-8e50517baf3e",
   "metadata": {},
   "outputs": [],
   "source": [
    "class ResidualRegressor(tf.keras.Model):\n",
    "    def __init__(self,output_dim,**kwargs):\n",
    "        super().__init__(**kwargs)\n",
    "        self.output_dim=output_dim\n",
    "        self.hidden1=tf.keras.layers.Dense(30,activation=\"relu\",\n",
    "                                          kernel_initializer=\"he_normal\")\n",
    "        self.block1=ResidualBlock(2,30)\n",
    "        self.block2=ResidualBlock(2,30)\n",
    "        self.out=tf.keras.layers.Dense(output_dim)\n",
    "\n",
    "    def call(self,inputs):\n",
    "        Z=self.hidden1(inputs)\n",
    "        for _ in range(1+3):\n",
    "            Z=self.block1(Z)\n",
    "        Z=self.block2(Z)\n",
    "        return self.out(Z)\n",
    "\n",
    "    def get_config(self):\n",
    "        base_config=super().get_config()\n",
    "        return {**base_config,\"output_dim\":self.output_dim}\n",
    "    "
   ]
  },
  {
   "cell_type": "code",
   "execution_count": 133,
   "id": "8cb43134-a8ac-41c3-bf37-6c39d131c777",
   "metadata": {},
   "outputs": [
    {
     "name": "stdout",
     "output_type": "stream",
     "text": [
      "Epoch 1/3\n",
      "\u001b[1m363/363\u001b[0m \u001b[32m━━━━━━━━━━━━━━━━━━━━\u001b[0m\u001b[37m\u001b[0m \u001b[1m1s\u001b[0m 539us/step - HuberMetric: 4.6533 - loss: 123.5810    \n",
      "Epoch 2/3\n",
      "\u001b[1m363/363\u001b[0m \u001b[32m━━━━━━━━━━━━━━━━━━━━\u001b[0m\u001b[37m\u001b[0m \u001b[1m0s\u001b[0m 530us/step - HuberMetric: 0.5357 - loss: 1.5416\n",
      "Epoch 3/3\n",
      "\u001b[1m363/363\u001b[0m \u001b[32m━━━━━━━━━━━━━━━━━━━━\u001b[0m\u001b[37m\u001b[0m \u001b[1m0s\u001b[0m 529us/step - HuberMetric: 0.4112 - loss: 1.0556\n",
      "\u001b[1m162/162\u001b[0m \u001b[32m━━━━━━━━━━━━━━━━━━━━\u001b[0m\u001b[37m\u001b[0m \u001b[1m0s\u001b[0m 392us/step - HuberMetric: 0.3495 - loss: 0.8952\n"
     ]
    },
    {
     "data": {
      "text/plain": [
       "[0.9233353734016418, 0.3550209105014801]"
      ]
     },
     "execution_count": 133,
     "metadata": {},
     "output_type": "execute_result"
    }
   ],
   "source": [
    "tf.keras.utils.set_random_seed(42)\n",
    "\n",
    "model=ResidualRegressor(1)\n",
    "model.compile(loss=\"mse\",optimizer=\"nadam\",metrics=[HuberMetric(1)])\n",
    "history=model.fit(X_train_scaled,y_train,\n",
    "                 epochs=3)\n",
    "model.evaluate(X_test_scaled,y_test)"
   ]
  },
  {
   "cell_type": "code",
   "execution_count": 134,
   "id": "961f32f3-e85b-4f9e-beb3-e18b5c12749f",
   "metadata": {},
   "outputs": [],
   "source": [
    "model.save(\"my_custom_model.keras\")"
   ]
  },
  {
   "cell_type": "code",
   "execution_count": 135,
   "id": "ad1841f2-0fca-470c-b9cb-6592e478d460",
   "metadata": {},
   "outputs": [],
   "source": [
    "model=tf.keras.models.load_model(\"my_custom_model.keras\",\n",
    "                                custom_objects={\"ResidualRegressor\":ResidualRegressor,\n",
    "                                               \"HuberMetric\":HuberMetric})"
   ]
  },
  {
   "cell_type": "code",
   "execution_count": 136,
   "id": "7c62a089-14b8-4e77-b7bb-d7631a7f5e8d",
   "metadata": {},
   "outputs": [
    {
     "name": "stdout",
     "output_type": "stream",
     "text": [
      "Epoch 1/2\n",
      "\u001b[1m363/363\u001b[0m \u001b[32m━━━━━━━━━━━━━━━━━━━━\u001b[0m\u001b[37m\u001b[0m \u001b[1m1s\u001b[0m 557us/step - HuberMetric: 0.3643 - loss: 0.9670  \n",
      "Epoch 2/2\n",
      "\u001b[1m363/363\u001b[0m \u001b[32m━━━━━━━━━━━━━━━━━━━━\u001b[0m\u001b[37m\u001b[0m \u001b[1m0s\u001b[0m 549us/step - HuberMetric: 0.3556 - loss: 0.9675\n",
      "\u001b[1m162/162\u001b[0m \u001b[32m━━━━━━━━━━━━━━━━━━━━\u001b[0m\u001b[37m\u001b[0m \u001b[1m0s\u001b[0m 395us/step - HuberMetric: 0.3411 - loss: 0.9094\n"
     ]
    },
    {
     "data": {
      "text/plain": [
       "[1.007361888885498, 0.3495626747608185]"
      ]
     },
     "execution_count": 136,
     "metadata": {},
     "output_type": "execute_result"
    }
   ],
   "source": [
    "model.fit(X_train_scaled,y_train,epochs=2)\n",
    "model.evaluate(X_test_scaled,y_test)"
   ]
  },
  {
   "cell_type": "code",
   "execution_count": 137,
   "id": "f8c31fbf-f9e4-4c61-8e57-3da048f0cfe8",
   "metadata": {},
   "outputs": [],
   "source": [
    "tf.keras.utils.set_random_seed(42)\n",
    "\n",
    "block1=ResidualBlock(2,30)\n",
    "model=tf.keras.Sequential([\n",
    "    tf.keras.layers.Dense(30,activation=\"relu\",\n",
    "                         kernel_initializer=\"he_normal\"),\n",
    "    block1,\n",
    "    block1,\n",
    "    block1,\n",
    "    block1,\n",
    "    ResidualBlock(2,30),\n",
    "    tf.keras.layers.Dense(1)\n",
    "])"
   ]
  },
  {
   "cell_type": "code",
   "execution_count": 138,
   "id": "c88d11c3-3f3d-467c-adee-75c20355c280",
   "metadata": {},
   "outputs": [
    {
     "name": "stdout",
     "output_type": "stream",
     "text": [
      "Epoch 1/2\n",
      "\u001b[1m363/363\u001b[0m \u001b[32m━━━━━━━━━━━━━━━━━━━━\u001b[0m\u001b[37m\u001b[0m \u001b[1m1s\u001b[0m 522us/step - loss: 19.1188   \n",
      "Epoch 2/2\n",
      "\u001b[1m363/363\u001b[0m \u001b[32m━━━━━━━━━━━━━━━━━━━━\u001b[0m\u001b[37m\u001b[0m \u001b[1m0s\u001b[0m 512us/step - loss: 0.9171\n"
     ]
    },
    {
     "data": {
      "text/plain": [
       "<keras.src.callbacks.history.History at 0x30f3e3f50>"
      ]
     },
     "execution_count": 138,
     "metadata": {},
     "output_type": "execute_result"
    }
   ],
   "source": [
    "model.compile(loss=\"mse\",optimizer=\"nadam\")\n",
    "model.fit(X_train_scaled,y_train,epochs=2)"
   ]
  },
  {
   "cell_type": "code",
   "execution_count": 139,
   "id": "7c01fd17-c935-4140-84f0-e1ff3d665c37",
   "metadata": {},
   "outputs": [],
   "source": [
    "model=tf.keras.Sequential([\n",
    "    tf.keras.layers.Dense(20,activation=\"relu\",kernel_initializer=\"he_normal\"),\n",
    "    ResidualBlock(2,30),\n",
    "    ResidualRegressor(1)\n",
    "])"
   ]
  },
  {
   "cell_type": "markdown",
   "id": "08200e61-3616-48c0-9642-d32748d93088",
   "metadata": {},
   "source": [
    "## Losses Based on Models Internals"
   ]
  },
  {
   "cell_type": "code",
   "execution_count": 141,
   "id": "3f0052de-7abf-4a60-a6fe-2f6c228d3f22",
   "metadata": {},
   "outputs": [],
   "source": [
    "class ReconstructingRegressor(tf.keras.Model):\n",
    "    def __init__(self,out_dim,**kwargs):\n",
    "        super().__init__(**kwargs)\n",
    "        self.hidden=[tf.keras.layers.Dense(30,activation=\"relu\",kernel_initializer=\"he_normal\")\n",
    "                    for _ in range(5)]\n",
    "        self.out=tf.keras.layers.Dense(out_dim)\n",
    "\n",
    "    def build(self,batch_input_size):\n",
    "        n_inputs=batch_input_size[-1]\n",
    "        self.reconstruct=tf.keras.layers.Dense(n_inputs)\n",
    "\n",
    "    def call(self,inputs,training=None):\n",
    "\n",
    "        Z=inputs\n",
    "        for layer in self.hidden:\n",
    "            Z=layer(Z)\n",
    "\n",
    "        reconstruction=self.reconstruct(Z)\n",
    "        reconstruction_loss=tf.reduce_mean(tf.square(reconstruction-inputs))\n",
    "        self.add_loss(0.05*reconstruction_loss)\n",
    "        return self.out(Z)"
   ]
  },
  {
   "cell_type": "code",
   "execution_count": 142,
   "id": "d04059da-173f-44cc-8cf1-ddeaa13be8b6",
   "metadata": {},
   "outputs": [
    {
     "name": "stdout",
     "output_type": "stream",
     "text": [
      "Epoch 1/3\n",
      "\u001b[1m363/363\u001b[0m \u001b[32m━━━━━━━━━━━━━━━━━━━━\u001b[0m\u001b[37m\u001b[0m \u001b[1m1s\u001b[0m 504us/step - loss: 1.1051  \n",
      "Epoch 2/3\n",
      "\u001b[1m363/363\u001b[0m \u001b[32m━━━━━━━━━━━━━━━━━━━━\u001b[0m\u001b[37m\u001b[0m \u001b[1m0s\u001b[0m 498us/step - loss: 0.5082\n",
      "Epoch 3/3\n",
      "\u001b[1m363/363\u001b[0m \u001b[32m━━━━━━━━━━━━━━━━━━━━\u001b[0m\u001b[37m\u001b[0m \u001b[1m0s\u001b[0m 711us/step - loss: 0.4392\n"
     ]
    },
    {
     "data": {
      "text/plain": [
       "<keras.src.callbacks.history.History at 0x310a2e510>"
      ]
     },
     "execution_count": 142,
     "metadata": {},
     "output_type": "execute_result"
    }
   ],
   "source": [
    "tf.keras.utils.set_random_seed(42)\n",
    "\n",
    "model=ReconstructingRegressor(1)\n",
    "model.compile(loss=\"mse\",optimizer=\"nadam\")\n",
    "model.fit(X_train_scaled,y_train,\n",
    "         epochs=3)"
   ]
  },
  {
   "cell_type": "markdown",
   "id": "6aca9682-4d65-447e-a4a9-294bd0dd2c24",
   "metadata": {},
   "source": [
    "## Computing Gradients Using Auto-Diff"
   ]
  },
  {
   "cell_type": "code",
   "execution_count": 144,
   "id": "983d9966-3db9-4851-86bd-8244f85cea77",
   "metadata": {},
   "outputs": [],
   "source": [
    "def f(x,y):\n",
    "    return x*x*y+y+2.0\n",
    "\n",
    "def derivative(f,x,y,x_eps,y_eps):\n",
    "    return (f(x+x_eps,y+y_eps)-f(x,y))/(x_eps+y_eps)\n",
    "\n",
    "df_dx=derivative(f,3,4,0.00001,0)\n",
    "df_dy=derivative(f,3,4,0,0.00001)"
   ]
  },
  {
   "cell_type": "code",
   "execution_count": 145,
   "id": "730950ad-4041-42f9-8c3f-4a943b7a7c58",
   "metadata": {},
   "outputs": [
    {
     "data": {
      "text/plain": [
       "24.000039999805264"
      ]
     },
     "execution_count": 145,
     "metadata": {},
     "output_type": "execute_result"
    }
   ],
   "source": [
    "df_dx"
   ]
  },
  {
   "cell_type": "code",
   "execution_count": 146,
   "id": "66070922-2970-4d4d-95ad-0ddb9dbfc293",
   "metadata": {},
   "outputs": [
    {
     "data": {
      "text/plain": [
       "10.000000000331966"
      ]
     },
     "execution_count": 146,
     "metadata": {},
     "output_type": "execute_result"
    }
   ],
   "source": [
    "df_dy"
   ]
  },
  {
   "cell_type": "code",
   "execution_count": 147,
   "id": "769dd0e6-9cbc-4df8-8551-7506e8f2ee52",
   "metadata": {},
   "outputs": [],
   "source": [
    "w1,w2=tf.Variable(3.),tf.Variable(4.)\n",
    "with tf.GradientTape() as tape:\n",
    "    z=f(w1,w2)\n",
    "gradients = tape.gradient(z, [w1, w2])"
   ]
  },
  {
   "cell_type": "code",
   "execution_count": 148,
   "id": "b6959981-2d56-40c0-a434-5ae035d48465",
   "metadata": {},
   "outputs": [
    {
     "data": {
      "text/plain": [
       "[<tf.Tensor: shape=(), dtype=float32, numpy=24.0>,\n",
       " <tf.Tensor: shape=(), dtype=float32, numpy=10.0>]"
      ]
     },
     "execution_count": 148,
     "metadata": {},
     "output_type": "execute_result"
    }
   ],
   "source": [
    "gradients"
   ]
  },
  {
   "cell_type": "code",
   "execution_count": 149,
   "id": "a5b61286-022a-4684-b143-d5ff0397c17a",
   "metadata": {},
   "outputs": [
    {
     "name": "stdout",
     "output_type": "stream",
     "text": [
      "A non-persistent GradientTape can only be used to compute one set of gradients (or jacobians)\n"
     ]
    }
   ],
   "source": [
    "with tf.GradientTape() as tape:\n",
    "    z=f(w1,w2)\n",
    "dz_dw1=tape.gradient(z,w1)\n",
    "try:\n",
    "    dz_dw2=tape.gradient(z,w2)\n",
    "except RuntimeError as ex:\n",
    "    print(ex)"
   ]
  },
  {
   "cell_type": "code",
   "execution_count": 150,
   "id": "1ae03bc1-a94b-4c72-891c-6faa920b6d7f",
   "metadata": {},
   "outputs": [],
   "source": [
    "with tf.GradientTape(persistent=True) as tape:   \n",
    "    z=f(w1,w2)\n",
    "dz_dw1=tape.gradient(z,w1)\n",
    "dz_dw2=tape.gradient(z,w2)\n",
    "del tape\n"
   ]
  },
  {
   "cell_type": "code",
   "execution_count": 151,
   "id": "d1b93991-fe59-4037-a646-6b50ccdc600c",
   "metadata": {},
   "outputs": [
    {
     "data": {
      "text/plain": [
       "(<tf.Tensor: shape=(), dtype=float32, numpy=24.0>,\n",
       " <tf.Tensor: shape=(), dtype=float32, numpy=10.0>)"
      ]
     },
     "execution_count": 151,
     "metadata": {},
     "output_type": "execute_result"
    }
   ],
   "source": [
    "dz_dw1, dz_dw2"
   ]
  },
  {
   "cell_type": "code",
   "execution_count": 152,
   "id": "e6ed7a4a-b0fe-4a4d-af16-9fa3b1de8f4a",
   "metadata": {},
   "outputs": [],
   "source": [
    "c1,c2=tf.constant(3.),tf.constant(4.)\n",
    "with tf.GradientTape() as tape:\n",
    "    z=f(c1,c2)\n",
    "gradients=tape.gradient(z,[c1,c2])"
   ]
  },
  {
   "cell_type": "code",
   "execution_count": 153,
   "id": "79d00e75-1696-471f-842d-23467edb72b5",
   "metadata": {},
   "outputs": [
    {
     "data": {
      "text/plain": [
       "[None, None]"
      ]
     },
     "execution_count": 153,
     "metadata": {},
     "output_type": "execute_result"
    }
   ],
   "source": [
    "gradients"
   ]
  },
  {
   "cell_type": "code",
   "execution_count": 154,
   "id": "93193c51-e34a-497e-bbfd-c383c7e2ee75",
   "metadata": {},
   "outputs": [],
   "source": [
    "c1,c2=tf.constant(3.),tf.constant(4.)\n",
    "with tf.GradientTape() as tape:\n",
    "    tape.watch([c1,c2])\n",
    "    z=f(c1,c2)\n",
    "gradients=tape.gradient(z,[c1,c2])"
   ]
  },
  {
   "cell_type": "code",
   "execution_count": 155,
   "id": "ddcf805f-b1fb-4760-8cba-99f6ee856d12",
   "metadata": {},
   "outputs": [
    {
     "data": {
      "text/plain": [
       "[<tf.Tensor: shape=(), dtype=float32, numpy=24.0>,\n",
       " <tf.Tensor: shape=(), dtype=float32, numpy=10.0>]"
      ]
     },
     "execution_count": 155,
     "metadata": {},
     "output_type": "execute_result"
    }
   ],
   "source": [
    "gradients"
   ]
  },
  {
   "cell_type": "code",
   "execution_count": 156,
   "id": "94be576a-abf2-4cf4-8c7f-3442c409c7d6",
   "metadata": {},
   "outputs": [
    {
     "data": {
      "text/plain": [
       "[<tf.Tensor: shape=(), dtype=float32, numpy=126.0>,\n",
       " <tf.Tensor: shape=(), dtype=float32, numpy=30.0>]"
      ]
     },
     "execution_count": 156,
     "metadata": {},
     "output_type": "execute_result"
    }
   ],
   "source": [
    "with tf.GradientTape() as tape:\n",
    "    z1=f(w1,w2+2.)\n",
    "    z2=f(w1,w2+3.)\n",
    "    z3=f(w1,w2+4.)\n",
    "tape.gradient([z1,z2,z3],[w1,w2])"
   ]
  },
  {
   "cell_type": "code",
   "execution_count": 157,
   "id": "39db33a9-5748-4d39-8acb-21f7b9d002f0",
   "metadata": {},
   "outputs": [
    {
     "data": {
      "text/plain": [
       "[<tf.Tensor: shape=(), dtype=float32, numpy=126.0>,\n",
       " <tf.Tensor: shape=(), dtype=float32, numpy=30.0>]"
      ]
     },
     "execution_count": 157,
     "metadata": {},
     "output_type": "execute_result"
    }
   ],
   "source": [
    "with tf.GradientTape() as tape:\n",
    "    z1=f(w1,w2+2.)\n",
    "    z2=f(w1,w2+3.)\n",
    "    z3=f(w1,w2+4.)\n",
    "    z=z1,z2,z3\n",
    "tape.gradient(z,[w1,w2])\n",
    "    "
   ]
  },
  {
   "cell_type": "code",
   "execution_count": 158,
   "id": "02860a13-aa68-4523-a722-c2ab71148c29",
   "metadata": {},
   "outputs": [
    {
     "data": {
      "text/plain": [
       "[<tf.Tensor: shape=(), dtype=float32, numpy=126.0>,\n",
       " <tf.Tensor: shape=(), dtype=float32, numpy=30.0>]"
      ]
     },
     "execution_count": 158,
     "metadata": {},
     "output_type": "execute_result"
    }
   ],
   "source": [
    "with tf.GradientTape() as tape:\n",
    "    z1=f(w1,w2+2.)\n",
    "    z2=f(w1,w2+3.)\n",
    "    z3=f(w1,w2+4.)\n",
    "    output=tf.stack([z1,z2,z3])\n",
    "tape.gradient(output,[w1,w2])"
   ]
  },
  {
   "cell_type": "code",
   "execution_count": 159,
   "id": "5ad37b40-e331-42a7-9563-79eb613dfac1",
   "metadata": {},
   "outputs": [],
   "source": [
    "with tf.GradientTape(persistent=True) as hessian_tape:        # second order derivative\n",
    "    with tf.GradientTape() as jacobian_tape:                 #first order derivative\n",
    "        z=f(w1,w2)\n",
    "    jacobians=jacobian_tape.gradient(z,[w1,w2])\n",
    "hessians=[hessian_tape.gradient(jacobian,[w1,w2])\n",
    "                              for jacobian in jacobians]\n",
    "\n",
    "del hessian_tape"
   ]
  },
  {
   "cell_type": "code",
   "execution_count": 160,
   "id": "371718e0-85b9-4e65-a3ae-2882c93baf83",
   "metadata": {},
   "outputs": [
    {
     "data": {
      "text/plain": [
       "[<tf.Tensor: shape=(), dtype=float32, numpy=24.0>,\n",
       " <tf.Tensor: shape=(), dtype=float32, numpy=10.0>]"
      ]
     },
     "execution_count": 160,
     "metadata": {},
     "output_type": "execute_result"
    }
   ],
   "source": [
    "jacobians"
   ]
  },
  {
   "cell_type": "code",
   "execution_count": 161,
   "id": "2e8845ce-aad7-48a4-98d6-d255b07d4547",
   "metadata": {},
   "outputs": [
    {
     "data": {
      "text/plain": [
       "[[<tf.Tensor: shape=(), dtype=float32, numpy=8.0>,\n",
       "  <tf.Tensor: shape=(), dtype=float32, numpy=6.0>],\n",
       " [<tf.Tensor: shape=(), dtype=float32, numpy=6.0>, None]]"
      ]
     },
     "execution_count": 161,
     "metadata": {},
     "output_type": "execute_result"
    }
   ],
   "source": [
    "hessians"
   ]
  },
  {
   "cell_type": "code",
   "execution_count": 162,
   "id": "93771063-36a7-4c5e-a2b3-16e1f83be0bf",
   "metadata": {},
   "outputs": [],
   "source": [
    "def f(w1,w2):\n",
    "    return w1*w1*w2 + tf.stop_gradient(w2+2.0)\n",
    "\n",
    "with tf.GradientTape() as tape:\n",
    "    z=f(w1,w2)\n",
    "gradients=tape.gradient(z,[w1,w2])"
   ]
  },
  {
   "cell_type": "code",
   "execution_count": 163,
   "id": "019579c9-8360-4120-a3ce-7ac4011a7c9f",
   "metadata": {},
   "outputs": [
    {
     "data": {
      "text/plain": [
       "[<tf.Tensor: shape=(), dtype=float32, numpy=24.0>,\n",
       " <tf.Tensor: shape=(), dtype=float32, numpy=9.0>]"
      ]
     },
     "execution_count": 163,
     "metadata": {},
     "output_type": "execute_result"
    }
   ],
   "source": [
    "gradients"
   ]
  },
  {
   "cell_type": "markdown",
   "id": "9a580f38-0e11-4772-bbb5-66eef1da6856",
   "metadata": {},
   "source": [
    "## Custom Training Loops"
   ]
  },
  {
   "cell_type": "code",
   "execution_count": 165,
   "id": "05699fc1-7032-4761-ae61-0389ce33c551",
   "metadata": {},
   "outputs": [],
   "source": [
    "tf.keras.utils.set_random_seed(42)\n",
    "l2_reg=tf.keras.regularizers.l2(0.05)\n",
    "model=tf.keras.Sequential([\n",
    "    tf.keras.layers.Dense(30,activation=\"relu\",\n",
    "                         kernel_initializer=\"he_normal\",\n",
    "                         kernel_regularizer=l2_reg),\n",
    "    tf.keras.layers.Dense(1,kernel_regularizer=l2_reg)\n",
    "])"
   ]
  },
  {
   "cell_type": "code",
   "execution_count": 166,
   "id": "9182c3ec-b618-4925-93f8-189042204041",
   "metadata": {},
   "outputs": [],
   "source": [
    "def random_batch(X,y,batch_size=32):\n",
    "    idx=np.random.randint(len(X),size=batch_size)\n",
    "    return X[idx],y[idx]"
   ]
  },
  {
   "cell_type": "code",
   "execution_count": 167,
   "id": "77d85fba-77d4-4d4d-be12-4a4029ce1ca9",
   "metadata": {},
   "outputs": [],
   "source": [
    "tf.keras.utils.set_random_seed(42)\n",
    "\n",
    "n_epoch=5\n",
    "batch_size=32\n",
    "n_steps=len(X_train)//batch_size\n",
    "optimizer=tf.keras.optimizers.SGD(learning_rate=0.01)\n",
    "loss_fn=tf.keras.losses.MeanSquaredError()\n",
    "mean_loss=tf.keras.metrics.Mean()\n",
    "metrics=[tf.keras.metrics.MeanAbsoluteError()]"
   ]
  },
  {
   "cell_type": "code",
   "execution_count": 168,
   "id": "ef127459-59a0-42c2-a075-c87559c34ee8",
   "metadata": {},
   "outputs": [],
   "source": [
    "def print_status_bar(step,total,loss,metrics=None):\n",
    "    metrics=\" - \".join([f\"{m.name} : {m.result():.4f}\"\n",
    "                      for m in [loss]+(metrics or [])])\n",
    "    end=\"\" if step<total else \"\\n\"\n",
    "    print(f\"\\r{step}/{total}-\"+metrics,end=end)"
   ]
  },
  {
   "cell_type": "code",
   "execution_count": 169,
   "id": "8e7bd3ff-2826-43b0-82a4-79c5368963f5",
   "metadata": {},
   "outputs": [
    {
     "name": "stdout",
     "output_type": "stream",
     "text": [
      "Epoch:1/5\n",
      "362/362-mean : 4.1141 - mean_absolute_error : 0.7109\n",
      "Epoch:2/5\n",
      "362/362-mean : 2.0594 - mean_absolute_error : 0.5270\n",
      "Epoch:3/5\n",
      "362/362-mean : 1.2815 - mean_absolute_error : 0.4978\n",
      "Epoch:4/5\n",
      "362/362-mean : 0.9340 - mean_absolute_error : 0.4935\n",
      "Epoch:5/5\n",
      "362/362-mean : 0.7752 - mean_absolute_error : 0.4996\n"
     ]
    }
   ],
   "source": [
    "for epoch in range(1,n_epoch+1):\n",
    "    print(f\"Epoch:{epoch}/{n_epoch}\")\n",
    "    for step in range(1,n_steps+1):\n",
    "        X_batch,y_batch=random_batch(X_train_scaled,y_train)\n",
    "\n",
    "        # Forward pass and loss compute\n",
    "        with tf.GradientTape() as tape:                   \n",
    "            y_pred=model(X_batch,training=True)\n",
    "            main_loss=tf.reduce_mean(loss_fn(y_batch,y_pred))   \n",
    "            loss=tf.add_n([main_loss]+model.losses)\n",
    "            \n",
    "        #Backpropagation\n",
    "        gradients=tape.gradient(loss,model.trainable_variables)\n",
    "        clipped_gradients=[tf.clip_by_norm(g,1) for g in gradients] #Custom Clipping (manual)\n",
    "        optimizer.apply_gradients(zip(clipped_gradients,model.trainable_variables))\n",
    "\n",
    "        #Apply constraint if any\n",
    "        for variable in model.variables:\n",
    "            if variable.constraint is not None:\n",
    "                variable.assign(variable.constraint(variable))\n",
    "\n",
    "        mean_loss(loss)\n",
    "\n",
    "        for metric in metrics:\n",
    "            metric(y_batch,y_pred)\n",
    "\n",
    "        print_status_bar(step,n_steps,mean_loss,metrics)\n",
    "\n",
    "    for metric in [mean_loss]+metrics:\n",
    "        metric.reset_state()\n"
   ]
  },
  {
   "cell_type": "markdown",
   "id": "29088800-98a8-4ada-b14f-f2dc73e65373",
   "metadata": {},
   "source": [
    "# TensorFlow Functions and Graphs"
   ]
  },
  {
   "cell_type": "code",
   "execution_count": 171,
   "id": "1dd35b21-1e36-464c-bb67-34211715684b",
   "metadata": {},
   "outputs": [],
   "source": [
    "def cube(x):\n",
    "    return x**3"
   ]
  },
  {
   "cell_type": "code",
   "execution_count": 172,
   "id": "a190767f-9c87-4ee0-8c6b-0b5ba192dacc",
   "metadata": {},
   "outputs": [
    {
     "data": {
      "text/plain": [
       "8"
      ]
     },
     "execution_count": 172,
     "metadata": {},
     "output_type": "execute_result"
    }
   ],
   "source": [
    "cube(2)"
   ]
  },
  {
   "cell_type": "code",
   "execution_count": 173,
   "id": "774c7d08-4743-492a-bb51-bea5ad81bd52",
   "metadata": {},
   "outputs": [
    {
     "data": {
      "text/plain": [
       "<tf.Tensor: shape=(), dtype=float32, numpy=8.0>"
      ]
     },
     "execution_count": 173,
     "metadata": {},
     "output_type": "execute_result"
    }
   ],
   "source": [
    "cube(tf.constant(2.))      # Eager execution"
   ]
  },
  {
   "cell_type": "code",
   "execution_count": 174,
   "id": "5a5a44d9-26de-4021-854f-344b7b711492",
   "metadata": {},
   "outputs": [],
   "source": [
    "tf_cube=tf.function(cube)   # Graph execution"
   ]
  },
  {
   "cell_type": "code",
   "execution_count": 175,
   "id": "9947ca5b-ee40-4229-aa53-16c646026a30",
   "metadata": {},
   "outputs": [
    {
     "data": {
      "text/plain": [
       "<tensorflow.python.eager.polymorphic_function.polymorphic_function.Function at 0x311cd49e0>"
      ]
     },
     "execution_count": 175,
     "metadata": {},
     "output_type": "execute_result"
    }
   ],
   "source": [
    "tf_cube"
   ]
  },
  {
   "cell_type": "code",
   "execution_count": 176,
   "id": "d0cddb4c-c350-4ddd-930b-3e2a61d68b11",
   "metadata": {},
   "outputs": [
    {
     "data": {
      "text/plain": [
       "<tf.Tensor: shape=(), dtype=int32, numpy=8>"
      ]
     },
     "execution_count": 176,
     "metadata": {},
     "output_type": "execute_result"
    }
   ],
   "source": [
    "tf_cube(2)"
   ]
  },
  {
   "cell_type": "code",
   "execution_count": 177,
   "id": "970fc404-2a87-4443-944d-a928b32750ac",
   "metadata": {},
   "outputs": [
    {
     "data": {
      "text/plain": [
       "<tf.Tensor: shape=(), dtype=int32, numpy=64>"
      ]
     },
     "execution_count": 177,
     "metadata": {},
     "output_type": "execute_result"
    }
   ],
   "source": [
    "tf_cube(tf.constant(2))\n",
    "tf_cube(tf.constant(4))"
   ]
  },
  {
   "cell_type": "code",
   "execution_count": 178,
   "id": "e812daa1-0394-4a8d-968f-176f88f8cd50",
   "metadata": {},
   "outputs": [],
   "source": [
    "@tf.function\n",
    "def tf_cube(x):\n",
    "    return x ** 3\n"
   ]
  },
  {
   "cell_type": "code",
   "execution_count": 179,
   "id": "39f23438-2d1b-45ff-9328-758a20591a92",
   "metadata": {},
   "outputs": [
    {
     "data": {
      "text/plain": [
       "<tf.Tensor: shape=(), dtype=int32, numpy=8>"
      ]
     },
     "execution_count": 179,
     "metadata": {},
     "output_type": "execute_result"
    }
   ],
   "source": [
    "tf_cube(tf.constant(2))  "
   ]
  },
  {
   "cell_type": "code",
   "execution_count": 180,
   "id": "9fb6bd24-f453-406f-81c9-558961eb480f",
   "metadata": {},
   "outputs": [
    {
     "data": {
      "text/plain": [
       "8"
      ]
     },
     "execution_count": 180,
     "metadata": {},
     "output_type": "execute_result"
    }
   ],
   "source": [
    "tf_cube.python_function(2)"
   ]
  },
  {
   "cell_type": "code",
   "execution_count": 181,
   "id": "58b0ea7f-ac30-4b12-a2c4-e8e9faa7fa29",
   "metadata": {},
   "outputs": [
    {
     "name": "stdout",
     "output_type": "stream",
     "text": [
      "Tracing: Tensor(\"x:0\", shape=(), dtype=float32)\n",
      "tf.Tensor(9.0, shape=(), dtype=float32)\n",
      "tf.Tensor(16.0, shape=(), dtype=float32)\n",
      "tf.Tensor(25.0, shape=(), dtype=float32)\n"
     ]
    }
   ],
   "source": [
    "import tensorflow as tf\n",
    "\n",
    "@tf.function(input_signature=[tf.TensorSpec(shape=(), dtype=tf.float32)])\n",
    "def square(x):\n",
    "    print(\"Tracing:\", x)\n",
    "    return x ** 2\n",
    "\n",
    "a = tf.constant(3.0, dtype=tf.float32)\n",
    "b = tf.constant(4.0, dtype=tf.float32)\n",
    "c = tf.constant(5.0, dtype=tf.float32)\n",
    "\n",
    "print(square(a))\n",
    "print(square(b)) \n",
    "print(square(c))  \n"
   ]
  },
  {
   "cell_type": "markdown",
   "id": "91a13c7a-7b1a-4714-b7ed-2937ece94949",
   "metadata": {},
   "source": [
    "### TF Functions and Concrete Functions"
   ]
  },
  {
   "cell_type": "code",
   "execution_count": 183,
   "id": "c9a71c53-9ee2-4499-a109-6c843edd3614",
   "metadata": {},
   "outputs": [],
   "source": [
    "concrete_fn=tf_cube.get_concrete_function(tf.constant(2.0))"
   ]
  },
  {
   "cell_type": "code",
   "execution_count": 184,
   "id": "d45dc7d6-49af-4667-9b60-46620afd036c",
   "metadata": {},
   "outputs": [
    {
     "data": {
      "text/plain": [
       "<tf.Tensor: shape=(), dtype=float32, numpy=27.0>"
      ]
     },
     "execution_count": 184,
     "metadata": {},
     "output_type": "execute_result"
    }
   ],
   "source": [
    "concrete_fn(tf.constant(3.0))"
   ]
  },
  {
   "cell_type": "code",
   "execution_count": 185,
   "id": "c95000bf-8aff-4e1c-9b78-d10194f72b35",
   "metadata": {},
   "outputs": [
    {
     "data": {
      "text/plain": [
       "True"
      ]
     },
     "execution_count": 185,
     "metadata": {},
     "output_type": "execute_result"
    }
   ],
   "source": [
    "concrete_fn is tf_cube.get_concrete_function(tf.constant(4.0))"
   ]
  },
  {
   "cell_type": "code",
   "execution_count": 186,
   "id": "d645286b-9c44-44e1-8292-16b7fe12d4b7",
   "metadata": {},
   "outputs": [
    {
     "data": {
      "text/plain": [
       "False"
      ]
     },
     "execution_count": 186,
     "metadata": {},
     "output_type": "execute_result"
    }
   ],
   "source": [
    "concrete_fn is tf_cube.get_concrete_function(tf.constant(4))"
   ]
  },
  {
   "cell_type": "markdown",
   "id": "d2f5f560-2008-49e5-851e-d1eabde8d114",
   "metadata": {},
   "source": [
    "###  Exploring Function Defination and Graphs"
   ]
  },
  {
   "cell_type": "code",
   "execution_count": 188,
   "id": "02c9425a-4812-4113-a69b-7158997eeb2f",
   "metadata": {},
   "outputs": [
    {
     "data": {
      "text/plain": [
       "<tensorflow.python.framework.func_graph.FuncGraph at 0x312048a40>"
      ]
     },
     "execution_count": 188,
     "metadata": {},
     "output_type": "execute_result"
    }
   ],
   "source": [
    "concrete_fn.graph"
   ]
  },
  {
   "cell_type": "code",
   "execution_count": 189,
   "id": "504f7f60-30fc-4d36-a2ab-7c5cb684b8d0",
   "metadata": {},
   "outputs": [
    {
     "data": {
      "text/plain": [
       "[<tf.Operation 'x' type=Placeholder>,\n",
       " <tf.Operation 'pow/y' type=Const>,\n",
       " <tf.Operation 'pow' type=Pow>,\n",
       " <tf.Operation 'Identity' type=Identity>]"
      ]
     },
     "execution_count": 189,
     "metadata": {},
     "output_type": "execute_result"
    }
   ],
   "source": [
    "ops=concrete_fn.graph.get_operations()\n",
    "ops"
   ]
  },
  {
   "cell_type": "code",
   "execution_count": 190,
   "id": "fb95c067-5cb6-453a-aae6-98725e1cbc26",
   "metadata": {},
   "outputs": [
    {
     "data": {
      "text/plain": [
       "[<tf.Tensor 'x:0' shape=() dtype=float32>,\n",
       " <tf.Tensor 'pow/y:0' shape=() dtype=float32>]"
      ]
     },
     "execution_count": 190,
     "metadata": {},
     "output_type": "execute_result"
    }
   ],
   "source": [
    "pow_op=ops[2]\n",
    "list(pow_op.inputs)"
   ]
  },
  {
   "cell_type": "code",
   "execution_count": 191,
   "id": "37b459c8-c5d2-4fe4-9fc1-d601d4f640c0",
   "metadata": {},
   "outputs": [
    {
     "data": {
      "text/plain": [
       "[<tf.Tensor 'pow:0' shape=() dtype=float32>]"
      ]
     },
     "execution_count": 191,
     "metadata": {},
     "output_type": "execute_result"
    }
   ],
   "source": [
    "pow_op.outputs"
   ]
  },
  {
   "cell_type": "code",
   "execution_count": 192,
   "id": "5829337d-35de-453f-bc6d-e3112d385acc",
   "metadata": {},
   "outputs": [
    {
     "data": {
      "text/plain": [
       "<tf.Operation 'x' type=Placeholder>"
      ]
     },
     "execution_count": 192,
     "metadata": {},
     "output_type": "execute_result"
    }
   ],
   "source": [
    "concrete_fn.graph.get_operation_by_name('x')"
   ]
  },
  {
   "cell_type": "code",
   "execution_count": 193,
   "id": "f7b77401-73c2-49f0-8047-60e850d4a647",
   "metadata": {},
   "outputs": [
    {
     "data": {
      "text/plain": [
       "<tf.Tensor 'Identity:0' shape=() dtype=float32>"
      ]
     },
     "execution_count": 193,
     "metadata": {},
     "output_type": "execute_result"
    }
   ],
   "source": [
    "concrete_fn.graph.get_tensor_by_name('Identity:0')"
   ]
  },
  {
   "cell_type": "code",
   "execution_count": 194,
   "id": "8043719f-0e6c-446c-a085-fb8d46849595",
   "metadata": {},
   "outputs": [
    {
     "data": {
      "text/plain": [
       "name: \"__inference_tf_cube_570321\"\n",
       "input_arg {\n",
       "  name: \"x\"\n",
       "  type: DT_FLOAT\n",
       "}\n",
       "output_arg {\n",
       "  name: \"identity\"\n",
       "  type: DT_FLOAT\n",
       "}"
      ]
     },
     "execution_count": 194,
     "metadata": {},
     "output_type": "execute_result"
    }
   ],
   "source": [
    "concrete_fn.function_def.signature"
   ]
  },
  {
   "cell_type": "markdown",
   "id": "265c8967-8c5f-4e16-acef-bcba547eec09",
   "metadata": {},
   "source": [
    "### How TF Functions Trace Python Functions to Extract Their Computational Graph"
   ]
  },
  {
   "cell_type": "code",
   "execution_count": 196,
   "id": "48480e4d-2d4a-4743-af34-7ff5af5be0db",
   "metadata": {},
   "outputs": [],
   "source": [
    "@tf.function\n",
    "\n",
    "def tf_cube(x):\n",
    "    print(f\"x={x}\")\n",
    "    return x**2\n"
   ]
  },
  {
   "cell_type": "code",
   "execution_count": 197,
   "id": "9ddc68a3-8f99-4815-9362-dc22ade42e5e",
   "metadata": {},
   "outputs": [
    {
     "name": "stdout",
     "output_type": "stream",
     "text": [
      "x=Tensor(\"x:0\", shape=(), dtype=float32)\n"
     ]
    }
   ],
   "source": [
    "result=tf_cube(tf.constant(2.0))"
   ]
  },
  {
   "cell_type": "code",
   "execution_count": 198,
   "id": "a82fe7e3-c7f6-4c6e-bd4d-b6437e4c44ca",
   "metadata": {},
   "outputs": [
    {
     "data": {
      "text/plain": [
       "<tf.Tensor: shape=(), dtype=float32, numpy=4.0>"
      ]
     },
     "execution_count": 198,
     "metadata": {},
     "output_type": "execute_result"
    }
   ],
   "source": [
    "result"
   ]
  },
  {
   "cell_type": "code",
   "execution_count": 199,
   "id": "f624083e-7862-48ad-a081-fe2021444974",
   "metadata": {},
   "outputs": [
    {
     "name": "stdout",
     "output_type": "stream",
     "text": [
      "x=2.0\n"
     ]
    }
   ],
   "source": [
    "result=tf_cube(2.0)    # New trace"
   ]
  },
  {
   "cell_type": "code",
   "execution_count": 200,
   "id": "510a2b37-efa1-429f-925c-f1e017f931b7",
   "metadata": {},
   "outputs": [
    {
     "name": "stdout",
     "output_type": "stream",
     "text": [
      "x=3\n"
     ]
    }
   ],
   "source": [
    "result=tf_cube(3)      # New trace"
   ]
  },
  {
   "cell_type": "code",
   "execution_count": 201,
   "id": "af7b4ae2-4469-4d1e-a679-413c5ad105e0",
   "metadata": {},
   "outputs": [
    {
     "name": "stdout",
     "output_type": "stream",
     "text": [
      "x=Tensor(\"x:0\", shape=(), dtype=int32)\n"
     ]
    }
   ],
   "source": [
    "result=tf_cube(tf.constant(2))     # New trace"
   ]
  },
  {
   "cell_type": "code",
   "execution_count": 202,
   "id": "0c67851f-eda8-411c-b3f0-329f71ae2330",
   "metadata": {},
   "outputs": [],
   "source": [
    "result=tf_cube(tf.constant(4))     # used above graph ,no new trace"
   ]
  },
  {
   "cell_type": "code",
   "execution_count": 203,
   "id": "ec74669d-c589-4d0b-b25d-4cf49a4c319a",
   "metadata": {},
   "outputs": [
    {
     "name": "stdout",
     "output_type": "stream",
     "text": [
      "x=Tensor(\"x:0\", shape=(2,), dtype=int32)\n",
      "WARNING:tensorflow:5 out of the last 6 calls to <function tf_cube at 0x312043740> triggered tf.function retracing. Tracing is expensive and the excessive number of tracings could be due to (1) creating @tf.function repeatedly in a loop, (2) passing tensors with different shapes, (3) passing Python objects instead of tensors. For (1), please define your @tf.function outside of the loop. For (2), @tf.function has reduce_retracing=True option that can avoid unnecessary retracing. For (3), please refer to https://www.tensorflow.org/guide/function#controlling_retracing and https://www.tensorflow.org/api_docs/python/tf/function for  more details.\n"
     ]
    }
   ],
   "source": [
    "result=tf_cube(tf.constant([3,4]))   #   - shape changed - New trace"
   ]
  },
  {
   "cell_type": "code",
   "execution_count": 204,
   "id": "db7d8856-b0a9-4b31-87d6-f537a77cc650",
   "metadata": {},
   "outputs": [],
   "source": [
    "@tf.function(input_signature=[tf.TensorSpec([None,28,28],tf.float32)])\n",
    "def shrink(images):\n",
    "    print(\"Tracing\",images)\n",
    "    return images[:,::2,::2]\n",
    "    "
   ]
  },
  {
   "cell_type": "code",
   "execution_count": 205,
   "id": "0f906cd7-cd5f-4d37-80c9-62a2238bcded",
   "metadata": {},
   "outputs": [],
   "source": [
    "tf.keras.utils.set_random_seed(42)"
   ]
  },
  {
   "cell_type": "code",
   "execution_count": 206,
   "id": "bd0b8507-3d93-4fce-a7ea-b485f59831e7",
   "metadata": {},
   "outputs": [
    {
     "name": "stdout",
     "output_type": "stream",
     "text": [
      "Tracing Tensor(\"images:0\", shape=(None, 28, 28), dtype=float32)\n"
     ]
    }
   ],
   "source": [
    "img_batch1=tf.random.uniform(shape=[100,28,28])\n",
    "img_batch2=tf.random.uniform(shape=[50,28,28])\n",
    "\n",
    "preprocessed_images=shrink(img_batch1)\n",
    "preprocessed_images=shrink(img_batch2)\n"
   ]
  },
  {
   "cell_type": "code",
   "execution_count": 207,
   "id": "fffac365-39c0-4064-b821-81be60f09d9e",
   "metadata": {},
   "outputs": [
    {
     "name": "stdout",
     "output_type": "stream",
     "text": [
      "Binding inputs to tf.function failed due to `Can not cast TensorSpec(shape=(50, 30, 30), dtype=tf.float32, name=None) to TensorSpec(shape=(None, 28, 28), dtype=tf.float32, name=None)`. Received args: (<tf.Tensor: shape=(50, 30, 30), dtype=float32, numpy=\n",
      "array([[[7.41367817e-01, 6.28546238e-01, 1.73846483e-02, ...,\n",
      "         1.01655841e-01, 1.94088340e-01, 2.78967142e-01],\n",
      "        [3.95126343e-01, 1.22352123e-01, 3.84123683e-01, ...,\n",
      "         2.89542437e-01, 5.49117088e-01, 5.06234169e-02],\n",
      "        [1.92818403e-01, 4.54173088e-01, 2.18891740e-01, ...,\n",
      "         5.14430046e-01, 6.94438338e-01, 3.70806217e-01],\n",
      "        ...,\n",
      "        [9.27087307e-01, 4.80402470e-01, 3.87802839e-01, ...,\n",
      "         2.91818857e-01, 4.41177011e-01, 9.56274986e-01],\n",
      "        [8.18418503e-01, 6.40728354e-01, 4.89600539e-01, ...,\n",
      "         4.22110081e-01, 9.28475022e-01, 6.12375259e-01],\n",
      "        [3.44055891e-02, 7.23996878e-01, 8.62124801e-01, ...,\n",
      "         2.81303883e-01, 6.39876842e-01, 9.98726487e-01]],\n",
      "\n",
      "       [[1.44716501e-02, 7.84504414e-01, 3.34753036e-01, ...,\n",
      "         8.52783561e-01, 1.76961184e-01, 8.89199972e-01],\n",
      "        [5.37122488e-01, 1.59415483e-01, 7.95819402e-01, ...,\n",
      "         4.59012270e-01, 3.67576122e-01, 2.85530090e-03],\n",
      "        [5.36183834e-01, 5.87880731e-01, 9.38776731e-02, ...,\n",
      "         3.41154933e-01, 7.02764511e-01, 1.29018784e-01],\n",
      "        ...,\n",
      "        [3.98057222e-01, 4.05826330e-01, 3.30232382e-02, ...,\n",
      "         8.14321637e-01, 6.92506313e-01, 6.33631110e-01],\n",
      "        [6.80382729e-01, 8.23499799e-01, 8.67571831e-01, ...,\n",
      "         6.92308068e-01, 1.43814445e-01, 3.44868064e-01],\n",
      "        [8.33196998e-01, 1.28708482e-01, 8.55404258e-01, ...,\n",
      "         7.15634584e-01, 1.14723206e-01, 8.91273022e-02]],\n",
      "\n",
      "       [[4.94852901e-01, 5.88236928e-01, 3.24121594e-01, ...,\n",
      "         8.55781317e-01, 5.48894644e-01, 8.15747619e-01],\n",
      "        [1.31515503e-01, 2.05423355e-01, 8.35110545e-01, ...,\n",
      "         4.83951330e-01, 8.62612844e-01, 6.77159190e-01],\n",
      "        [8.51621985e-01, 6.64053440e-01, 4.84764695e-01, ...,\n",
      "         7.32976556e-01, 2.89414763e-01, 1.82900667e-01],\n",
      "        ...,\n",
      "        [6.60807729e-01, 1.71385646e-01, 8.28364372e-01, ...,\n",
      "         6.23412251e-01, 1.97163463e-01, 7.68446445e-01],\n",
      "        [6.21231556e-01, 8.63081574e-01, 6.75437570e-01, ...,\n",
      "         2.63837218e-01, 8.29311728e-01, 4.64315534e-01],\n",
      "        [3.54841471e-01, 6.37466908e-02, 5.08652925e-01, ...,\n",
      "         9.78181720e-01, 5.00088096e-01, 9.02528763e-02]],\n",
      "\n",
      "       ...,\n",
      "\n",
      "       [[9.13804293e-01, 7.76553392e-01, 6.06120706e-01, ...,\n",
      "         8.37314129e-02, 7.17530847e-01, 4.54620719e-01],\n",
      "        [1.30043745e-01, 9.77169633e-01, 9.51140046e-01, ...,\n",
      "         5.52762747e-02, 4.93220687e-01, 5.56310296e-01],\n",
      "        [4.89188671e-01, 8.43882561e-04, 5.52664280e-01, ...,\n",
      "         6.49476051e-02, 7.47580171e-01, 6.99772239e-01],\n",
      "        ...,\n",
      "        [4.03723717e-01, 2.27586508e-01, 3.65108132e-01, ...,\n",
      "         8.63265991e-03, 7.58444071e-02, 5.84508300e-01],\n",
      "        [7.68502116e-01, 4.33557153e-01, 2.23550320e-01, ...,\n",
      "         9.28594232e-01, 8.67556334e-01, 1.58511758e-01],\n",
      "        [4.66918945e-02, 7.10182667e-01, 7.91552067e-02, ...,\n",
      "         7.41991758e-01, 9.65887308e-01, 2.06098557e-02]],\n",
      "\n",
      "       [[7.75055289e-01, 4.81429577e-01, 6.06295943e-01, ...,\n",
      "         6.01306915e-01, 2.16912508e-01, 6.62827015e-01],\n",
      "        [4.51756835e-01, 6.31440163e-01, 7.92675376e-01, ...,\n",
      "         8.30354691e-01, 9.03328061e-01, 7.29581237e-01],\n",
      "        [5.89493990e-01, 5.40908933e-01, 2.81248569e-01, ...,\n",
      "         4.61504459e-01, 5.62599421e-01, 8.81237984e-02],\n",
      "        ...,\n",
      "        [3.56576085e-01, 7.55338430e-01, 5.53244352e-02, ...,\n",
      "         8.25747728e-01, 4.55883384e-01, 3.13871503e-01],\n",
      "        [8.31192851e-01, 9.83529329e-01, 4.83430624e-02, ...,\n",
      "         4.48027015e-01, 5.92692614e-01, 1.52804017e-01],\n",
      "        [1.69925570e-01, 6.81178689e-01, 5.77153683e-01, ...,\n",
      "         1.36416912e-01, 2.10581303e-01, 2.83353209e-01]],\n",
      "\n",
      "       [[7.95230150e-01, 2.28706717e-01, 3.58000278e-01, ...,\n",
      "         5.41195750e-01, 8.85700703e-01, 7.34402061e-01],\n",
      "        [8.00098896e-01, 5.87008834e-01, 5.57164073e-01, ...,\n",
      "         4.19217229e-01, 8.21711063e-01, 2.11551189e-01],\n",
      "        [5.46223044e-01, 6.05373383e-01, 2.29102492e-01, ...,\n",
      "         9.60267305e-01, 9.05504704e-01, 3.25046539e-01],\n",
      "        ...,\n",
      "        [3.02871108e-01, 9.73657250e-01, 1.15036488e-01, ...,\n",
      "         4.40687180e-01, 1.30716324e-01, 4.89492178e-01],\n",
      "        [7.98614621e-01, 3.31218719e-01, 3.24967384e-01, ...,\n",
      "         9.94301438e-01, 3.70367646e-01, 9.70917225e-01],\n",
      "        [7.98418522e-02, 9.13904309e-01, 1.56013846e-01, ...,\n",
      "         6.53645635e-01, 4.32693958e-01, 8.25989127e-01]]], dtype=float32)>,) and kwargs: {} for signature: (images: TensorSpec(shape=(None, 28, 28), dtype=tf.float32, name=None)).\n"
     ]
    }
   ],
   "source": [
    "img_batch3=tf.random.uniform(shape=[50,30,30])  \n",
    "\n",
    "try:\n",
    "    preprocessed_images=shrink(img_batch3)\n",
    "except TypeError as ex:\n",
    "    print(ex)"
   ]
  },
  {
   "cell_type": "markdown",
   "id": "d5150092-ec40-42bc-8c99-f99e999ffa65",
   "metadata": {},
   "source": [
    "### Using Autograph to Capture Control Flow"
   ]
  },
  {
   "cell_type": "code",
   "execution_count": 209,
   "id": "97fc7de0-573e-46ce-a44b-b2f76e35841c",
   "metadata": {},
   "outputs": [],
   "source": [
    "@tf.function\n",
    "def add_10(x):\n",
    "    for i in range(10):\n",
    "        x+=1\n",
    "    return x"
   ]
  },
  {
   "cell_type": "code",
   "execution_count": 210,
   "id": "d31b15e7-ff97-402a-bc60-a02ba772dca7",
   "metadata": {},
   "outputs": [
    {
     "data": {
      "text/plain": [
       "<tf.Tensor: shape=(), dtype=float32, numpy=12.0>"
      ]
     },
     "execution_count": 210,
     "metadata": {},
     "output_type": "execute_result"
    }
   ],
   "source": [
    "add_10(tf.constant(2.))"
   ]
  },
  {
   "cell_type": "code",
   "execution_count": 211,
   "id": "a2991156-90a0-41a4-9361-794f5c57d361",
   "metadata": {},
   "outputs": [
    {
     "data": {
      "text/plain": [
       "[<tf.Operation 'x' type=Placeholder>,\n",
       " <tf.Operation 'add/y' type=Const>,\n",
       " <tf.Operation 'add' type=AddV2>,\n",
       " <tf.Operation 'add_1/y' type=Const>,\n",
       " <tf.Operation 'add_1' type=AddV2>,\n",
       " <tf.Operation 'add_2/y' type=Const>,\n",
       " <tf.Operation 'add_2' type=AddV2>,\n",
       " <tf.Operation 'add_3/y' type=Const>,\n",
       " <tf.Operation 'add_3' type=AddV2>,\n",
       " <tf.Operation 'add_4/y' type=Const>,\n",
       " <tf.Operation 'add_4' type=AddV2>,\n",
       " <tf.Operation 'add_5/y' type=Const>,\n",
       " <tf.Operation 'add_5' type=AddV2>,\n",
       " <tf.Operation 'add_6/y' type=Const>,\n",
       " <tf.Operation 'add_6' type=AddV2>,\n",
       " <tf.Operation 'add_7/y' type=Const>,\n",
       " <tf.Operation 'add_7' type=AddV2>,\n",
       " <tf.Operation 'add_8/y' type=Const>,\n",
       " <tf.Operation 'add_8' type=AddV2>,\n",
       " <tf.Operation 'add_9/y' type=Const>,\n",
       " <tf.Operation 'add_9' type=AddV2>,\n",
       " <tf.Operation 'Identity' type=Identity>]"
      ]
     },
     "execution_count": 211,
     "metadata": {},
     "output_type": "execute_result"
    }
   ],
   "source": [
    "add_10.get_concrete_function(tf.constant(2.)).graph.get_operations()"
   ]
  },
  {
   "cell_type": "code",
   "execution_count": 212,
   "id": "e5a9dbc8-cf58-4786-9497-261432ec10c3",
   "metadata": {},
   "outputs": [],
   "source": [
    "@tf.function\n",
    "def add_10(x):\n",
    "    condition=lambda i,x:tf.less(i,10)\n",
    "    body=lambda i,x:(tf.add(i,1),tf.add(x,1))\n",
    "    final_i,final_x=tf.while_loop(condition,body,[tf.constant(0),x])\n",
    "    return final_x"
   ]
  },
  {
   "cell_type": "code",
   "execution_count": 213,
   "id": "0081d845-8297-4a79-92e2-d86d007612b8",
   "metadata": {},
   "outputs": [
    {
     "data": {
      "text/plain": [
       "<tf.Tensor: shape=(), dtype=float32, numpy=12.0>"
      ]
     },
     "execution_count": 213,
     "metadata": {},
     "output_type": "execute_result"
    }
   ],
   "source": [
    "add_10(tf.constant(2.))"
   ]
  },
  {
   "cell_type": "code",
   "execution_count": 214,
   "id": "ec7acb40-22df-41fc-b18c-840338036dcd",
   "metadata": {},
   "outputs": [
    {
     "data": {
      "text/plain": [
       "[<tf.Operation 'x' type=Placeholder>,\n",
       " <tf.Operation 'Const' type=Const>,\n",
       " <tf.Operation 'while/maximum_iterations' type=Const>,\n",
       " <tf.Operation 'while/loop_counter' type=Const>,\n",
       " <tf.Operation 'while' type=StatelessWhile>,\n",
       " <tf.Operation 'Identity' type=Identity>]"
      ]
     },
     "execution_count": 214,
     "metadata": {},
     "output_type": "execute_result"
    }
   ],
   "source": [
    "add_10.get_concrete_function(tf.constant(2.)).graph.get_operations()"
   ]
  },
  {
   "cell_type": "code",
   "execution_count": 215,
   "id": "6fa49179-4207-420e-8c00-c7c488619ade",
   "metadata": {},
   "outputs": [],
   "source": [
    "@tf.function\n",
    "def add_10(x):\n",
    "    for i in tf.range(10):\n",
    "        x=x+1\n",
    "    return x"
   ]
  },
  {
   "cell_type": "code",
   "execution_count": 216,
   "id": "029f0129-69c8-4c1f-8e70-c24f152a37a6",
   "metadata": {},
   "outputs": [
    {
     "data": {
      "text/plain": [
       "[<tf.Operation 'x' type=Placeholder>,\n",
       " <tf.Operation 'range/start' type=Const>,\n",
       " <tf.Operation 'range/limit' type=Const>,\n",
       " <tf.Operation 'range/delta' type=Const>,\n",
       " <tf.Operation 'range' type=Range>,\n",
       " <tf.Operation 'sub' type=Sub>,\n",
       " <tf.Operation 'floordiv' type=FloorDiv>,\n",
       " <tf.Operation 'mod' type=FloorMod>,\n",
       " <tf.Operation 'zeros_like' type=Const>,\n",
       " <tf.Operation 'NotEqual' type=NotEqual>,\n",
       " <tf.Operation 'Cast' type=Cast>,\n",
       " <tf.Operation 'add' type=AddV2>,\n",
       " <tf.Operation 'zeros_like_1' type=Const>,\n",
       " <tf.Operation 'Maximum' type=Maximum>,\n",
       " <tf.Operation 'while/maximum_iterations' type=Const>,\n",
       " <tf.Operation 'while/loop_counter' type=Const>,\n",
       " <tf.Operation 'while' type=StatelessWhile>,\n",
       " <tf.Operation 'Identity' type=Identity>]"
      ]
     },
     "execution_count": 216,
     "metadata": {},
     "output_type": "execute_result"
    }
   ],
   "source": [
    "add_10.get_concrete_function(tf.constant(2.)).graph.get_operations()"
   ]
  },
  {
   "cell_type": "markdown",
   "id": "39f94417-1963-4397-8043-9060bec1edd3",
   "metadata": {},
   "source": [
    "### Handling Variables and other Resources in TF functions"
   ]
  },
  {
   "cell_type": "code",
   "execution_count": 218,
   "id": "a513ae1b-4bb5-48eb-b502-0204b6a7c527",
   "metadata": {},
   "outputs": [
    {
     "data": {
      "text/plain": [
       "<tf.Tensor: shape=(), dtype=int32, numpy=2>"
      ]
     },
     "execution_count": 218,
     "metadata": {},
     "output_type": "execute_result"
    }
   ],
   "source": [
    "counter=tf.Variable(0)\n",
    "\n",
    "@tf.function\n",
    "def increment(counter,c=1):\n",
    "    return counter.assign_add(c)\n",
    "    \n",
    "increment(counter)\n",
    "increment(counter)"
   ]
  },
  {
   "cell_type": "code",
   "execution_count": 219,
   "id": "9090fabf-b15d-4aa3-bb76-ee204ed3e50f",
   "metadata": {},
   "outputs": [],
   "source": [
    "function_def=increment.get_concrete_function(counter).function_def"
   ]
  },
  {
   "cell_type": "code",
   "execution_count": 220,
   "id": "a6ab4dd8-f86e-4dfc-9e79-94938f0b70a3",
   "metadata": {},
   "outputs": [
    {
     "data": {
      "text/plain": [
       "name: \"counter\"\n",
       "type: DT_RESOURCE"
      ]
     },
     "execution_count": 220,
     "metadata": {},
     "output_type": "execute_result"
    }
   ],
   "source": [
    "function_def.signature.input_arg[0]"
   ]
  },
  {
   "cell_type": "code",
   "execution_count": 221,
   "id": "564d8d25-053a-4ccf-943e-f414bfab1d38",
   "metadata": {},
   "outputs": [
    {
     "data": {
      "text/plain": [
       "<tf.Tensor: shape=(), dtype=int32, numpy=2>"
      ]
     },
     "execution_count": 221,
     "metadata": {},
     "output_type": "execute_result"
    }
   ],
   "source": [
    "counter=tf.Variable(0)\n",
    "\n",
    "@tf.function\n",
    "def increment(c=1):\n",
    "    return counter.assign_add(c)\n",
    "\n",
    "increment()\n",
    "increment()"
   ]
  },
  {
   "cell_type": "code",
   "execution_count": 222,
   "id": "600f963d-b206-4f1a-959d-cf2748cc9a93",
   "metadata": {},
   "outputs": [],
   "source": [
    "function_def=increment.get_concrete_function().function_def"
   ]
  },
  {
   "cell_type": "code",
   "execution_count": 223,
   "id": "421bf933-68cf-432a-8729-51c71fecada8",
   "metadata": {},
   "outputs": [
    {
     "data": {
      "text/plain": [
       "name: \"assignaddvariableop_resource\"\n",
       "type: DT_RESOURCE"
      ]
     },
     "execution_count": 223,
     "metadata": {},
     "output_type": "execute_result"
    }
   ],
   "source": [
    "function_def.signature.input_arg[0]"
   ]
  },
  {
   "cell_type": "code",
   "execution_count": 224,
   "id": "fa210795-075d-49b6-8fb5-9c85f2ad0d07",
   "metadata": {},
   "outputs": [],
   "source": [
    "class Counter:\n",
    "    def __init__(self):\n",
    "        self.counter=tf.Variable(0)\n",
    "\n",
    "    @tf.function\n",
    "    def increment(self,c=1):\n",
    "        return self.counter.assign_add(c)\n",
    "        "
   ]
  },
  {
   "cell_type": "code",
   "execution_count": 225,
   "id": "af4da431-55e8-4bac-8526-e0e2e9076d9d",
   "metadata": {},
   "outputs": [
    {
     "data": {
      "text/plain": [
       "<tf.Tensor: shape=(), dtype=int32, numpy=2>"
      ]
     },
     "execution_count": 225,
     "metadata": {},
     "output_type": "execute_result"
    }
   ],
   "source": [
    "c=Counter()\n",
    "c.increment()\n",
    "c.increment()"
   ]
  },
  {
   "cell_type": "code",
   "execution_count": 226,
   "id": "1ef429b4-f900-4d5d-bb64-8c9ab9a745ff",
   "metadata": {},
   "outputs": [],
   "source": [
    "@tf.function\n",
    "def add_10(x):\n",
    "    for i in tf.range(10):\n",
    "        x+=1\n",
    "    return x\n"
   ]
  },
  {
   "cell_type": "code",
   "execution_count": 227,
   "id": "c1b5176e-5b96-46d9-a542-4fa590fe28a5",
   "metadata": {},
   "outputs": [
    {
     "name": "stdout",
     "output_type": "stream",
     "text": [
      "def tf__add(x):\n",
      "    with ag__.FunctionScope('add_10', 'fscope', ag__.ConversionOptions(recursive=True, user_requested=True, optional_features=(), internal_convert_user_code=True)) as fscope:\n",
      "        do_return = False\n",
      "        retval_ = ag__.UndefinedReturnValue()\n",
      "\n",
      "        def get_state():\n",
      "            return (x,)\n",
      "\n",
      "        def set_state(vars_):\n",
      "            nonlocal x\n",
      "            x, = vars_\n",
      "\n",
      "        def loop_body(itr):\n",
      "            nonlocal x\n",
      "            i = itr\n",
      "            x = ag__.ld(x)\n",
      "            x += 1\n",
      "        i = ag__.Undefined('i')\n",
      "        ag__.for_stmt(ag__.converted_call(ag__.ld(tf).range, (10,), None, fscope), None, loop_body, get_state, set_state, ('x',), {'iterate_names': 'i'})\n",
      "        try:\n",
      "            do_return = True\n",
      "            retval_ = ag__.ld(x)\n",
      "        except:\n",
      "            do_return = False\n",
      "            raise\n",
      "        return fscope.ret(retval_, do_return)\n",
      "\n"
     ]
    }
   ],
   "source": [
    "print(tf.autograph.to_code(add_10.python_function))"
   ]
  },
  {
   "cell_type": "code",
   "execution_count": 228,
   "id": "4aa09c52-26e5-4a34-90a1-c156126541aa",
   "metadata": {},
   "outputs": [],
   "source": [
    "def display_tf_code(func):\n",
    "    from IPython.display import display, Markdown\n",
    "    if hasattr(func, \"python_function\"):\n",
    "        func = func.python_function\n",
    "    code = tf.autograph.to_code(func)\n",
    "    display(Markdown(f'```python\\n{code}\\n```'))"
   ]
  },
  {
   "cell_type": "code",
   "execution_count": 229,
   "id": "b1b410d7-b39e-4ad1-ba5b-a884e44376d0",
   "metadata": {},
   "outputs": [
    {
     "data": {
      "text/markdown": [
       "```python\n",
       "def tf__add(x):\n",
       "    with ag__.FunctionScope('add_10', 'fscope', ag__.ConversionOptions(recursive=True, user_requested=True, optional_features=(), internal_convert_user_code=True)) as fscope:\n",
       "        do_return = False\n",
       "        retval_ = ag__.UndefinedReturnValue()\n",
       "\n",
       "        def get_state():\n",
       "            return (x,)\n",
       "\n",
       "        def set_state(vars_):\n",
       "            nonlocal x\n",
       "            x, = vars_\n",
       "\n",
       "        def loop_body(itr):\n",
       "            nonlocal x\n",
       "            i = itr\n",
       "            x = ag__.ld(x)\n",
       "            x += 1\n",
       "        i = ag__.Undefined('i')\n",
       "        ag__.for_stmt(ag__.converted_call(ag__.ld(tf).range, (10,), None, fscope), None, loop_body, get_state, set_state, ('x',), {'iterate_names': 'i'})\n",
       "        try:\n",
       "            do_return = True\n",
       "            retval_ = ag__.ld(x)\n",
       "        except:\n",
       "            do_return = False\n",
       "            raise\n",
       "        return fscope.ret(retval_, do_return)\n",
       "\n",
       "```"
      ],
      "text/plain": [
       "<IPython.core.display.Markdown object>"
      ]
     },
     "metadata": {},
     "output_type": "display_data"
    }
   ],
   "source": [
    "display_tf_code(add_10)"
   ]
  },
  {
   "cell_type": "markdown",
   "id": "3edeec6c-2a37-4c73-98a7-0c25433b9297",
   "metadata": {},
   "source": [
    "### Using TF function with tf.keras"
   ]
  },
  {
   "cell_type": "code",
   "execution_count": 231,
   "id": "ba045f22-ba65-4a14-9275-cf2ba8c0d47f",
   "metadata": {},
   "outputs": [],
   "source": [
    "#Custom loss function\n",
    "\n",
    "def my_mse(y_true,y_pred):\n",
    "    print(\"Tracing Loss my_mse()\")\n",
    "    return tf.reduce_mean(tf.square(y_pred-y_true))"
   ]
  },
  {
   "cell_type": "code",
   "execution_count": 232,
   "id": "b6042037-aab1-485a-8672-b6c7a43a9020",
   "metadata": {},
   "outputs": [],
   "source": [
    "#Custom metric function\n",
    "\n",
    "def my_mae(y_true,y_pred):\n",
    "    print(\"Tracing Metric my_mae()\")\n",
    "    return tf.reduce_mean(tf.abs(y_pred-y_true))"
   ]
  },
  {
   "cell_type": "code",
   "execution_count": 233,
   "id": "9dd92e5a-5d6a-4b8e-85b1-9fd33500c0e4",
   "metadata": {},
   "outputs": [],
   "source": [
    "tf.keras.utils.set_random_seed(42)"
   ]
  },
  {
   "cell_type": "code",
   "execution_count": 234,
   "id": "06626c8b-e28b-4dd5-a38a-2d2037aa9aac",
   "metadata": {},
   "outputs": [],
   "source": [
    "#Custom Layer\n",
    "\n",
    "class MyDense(tf.keras.layers.Layer):\n",
    "    def __init__(self,units,activation=None,**kwargs):\n",
    "        super().__init__(**kwargs)\n",
    "        self.units=units\n",
    "        self.activation=tf.keras.activations.get(activation)\n",
    "\n",
    "    def build(self,input_shape):\n",
    "        self.kernel=self.add_weight(name=\"kernel\",\n",
    "                                   shape=[input_shape[-1],self.units],\n",
    "                                   initializer=\"he_normal\",\n",
    "                                   trainable=True)\n",
    "        self.biases=self.add_weight(name=\"bias\",\n",
    "                                  shape=[self.units],\n",
    "                                  initializer=\"zeros\",\n",
    "                                  trainable=True)\n",
    "\n",
    "    def call(self,X):\n",
    "        print(\"Tracing MyDense.call()\")\n",
    "        return self.activation(X@self.kernel+self.biases)\n",
    "        "
   ]
  },
  {
   "cell_type": "code",
   "execution_count": 235,
   "id": "926c49c7-d0ae-467f-b93b-dbe33a9c4897",
   "metadata": {},
   "outputs": [],
   "source": [
    "tf.keras.utils.set_random_seed(42)"
   ]
  },
  {
   "cell_type": "code",
   "execution_count": 236,
   "id": "d8fa675c-3302-4be0-8119-f1a4e26e5a3d",
   "metadata": {},
   "outputs": [],
   "source": [
    "## Custom Model\n",
    "\n",
    "class MyModel(tf.keras.Model):\n",
    "    def __init__(self,**kwargs):\n",
    "        super().__init__(**kwargs)\n",
    "        self.hidden1=MyDense(30,activation=\"relu\")\n",
    "        self.hidden2=MyDense(30,activation=\"relu\")\n",
    "        self.output_=MyDense(1)\n",
    "\n",
    "    def call(self,input):\n",
    "        print(\"Tracing MyModel.call()\")\n",
    "        hidden1=self.hidden1(input)\n",
    "        hidden2=self.hidden2(hidden1)\n",
    "        concat=tf.keras.layers.concatenate([input,hidden2])\n",
    "        output=self.output_(concat)\n",
    "        return output"
   ]
  },
  {
   "cell_type": "code",
   "execution_count": 237,
   "id": "061774f3-a84b-4fa3-945b-c0006a220aae",
   "metadata": {},
   "outputs": [],
   "source": [
    "model=MyModel()"
   ]
  },
  {
   "cell_type": "code",
   "execution_count": 238,
   "id": "c705af7b-d042-4751-95cc-d458eff81622",
   "metadata": {},
   "outputs": [],
   "source": [
    "model.compile(loss=my_mse,optimizer=\"adam\",metrics=[my_mae])"
   ]
  },
  {
   "cell_type": "code",
   "execution_count": 239,
   "id": "2e4164e7-af41-4471-9e3c-d68bc1e1dcd8",
   "metadata": {},
   "outputs": [
    {
     "name": "stdout",
     "output_type": "stream",
     "text": [
      "Epoch 1/3\n",
      "Tracing MyModel.call()\n",
      "Tracing MyDense.call()\n",
      "Tracing MyDense.call()\n",
      "Tracing MyDense.call()\n",
      "Tracing MyModel.call()\n",
      "Tracing MyDense.call()\n",
      "Tracing MyDense.call()\n",
      "Tracing MyDense.call()\n",
      "Tracing Loss my_mse()\n",
      "Tracing Metric my_mae()\n",
      "Tracing MyModel.call()\n",
      "Tracing MyDense.call()\n",
      "Tracing MyDense.call()\n",
      "Tracing MyDense.call()\n",
      "Tracing Loss my_mse()\n",
      "Tracing Metric my_mae()\n",
      "Tracing MyModel.call()━━━━━━━━━━━━\u001b[0m\u001b[37m━━━━━━━\u001b[0m \u001b[1m0s\u001b[0m 400us/step - loss: 3.9819 - my_mae: 1.4569   \n",
      "Tracing MyDense.call()\n",
      "Tracing MyDense.call()\n",
      "Tracing MyDense.call()\n",
      "Tracing Loss my_mse()\n",
      "Tracing Metric my_mae()\n",
      "\u001b[1m363/363\u001b[0m \u001b[32m━━━━━━━━━━━━━━━━━━━━\u001b[0m\u001b[37m\u001b[0m \u001b[1m1s\u001b[0m 684us/step - loss: 3.3024 - my_mae: 1.2883 - val_loss: 0.6076 - val_my_mae: 0.5603\n",
      "Epoch 2/3\n",
      "\u001b[1m363/363\u001b[0m \u001b[32m━━━━━━━━━━━━━━━━━━━━\u001b[0m\u001b[37m\u001b[0m \u001b[1m0s\u001b[0m 550us/step - loss: 0.6214 - my_mae: 0.5698 - val_loss: 0.4603 - val_my_mae: 0.4899\n",
      "Epoch 3/3\n",
      "\u001b[1m363/363\u001b[0m \u001b[32m━━━━━━━━━━━━━━━━━━━━\u001b[0m\u001b[37m\u001b[0m \u001b[1m0s\u001b[0m 546us/step - loss: 0.5009 - my_mae: 0.5110 - val_loss: 0.4180 - val_my_mae: 0.4632\n"
     ]
    },
    {
     "data": {
      "text/plain": [
       "<keras.src.callbacks.history.History at 0x3120c49b0>"
      ]
     },
     "execution_count": 239,
     "metadata": {},
     "output_type": "execute_result"
    }
   ],
   "source": [
    "model.fit(X_train_scaled,y_train,\n",
    "         epochs=3,\n",
    "         validation_data=(X_valid_scaled,y_valid))"
   ]
  },
  {
   "cell_type": "code",
   "execution_count": 240,
   "id": "468122ff-b9c6-448a-a095-76fa21ac75dd",
   "metadata": {},
   "outputs": [],
   "source": [
    "tf.keras.utils.set_random_seed(42)"
   ]
  },
  {
   "cell_type": "code",
   "execution_count": 241,
   "id": "cc38dedc-d679-484e-b6a8-6550e2728bb7",
   "metadata": {},
   "outputs": [],
   "source": [
    "model=MyModel()"
   ]
  },
  {
   "cell_type": "code",
   "execution_count": 242,
   "id": "0184b974-042c-4854-8dfc-644e1429d21e",
   "metadata": {},
   "outputs": [],
   "source": [
    "model.compile(loss=my_mse,optimizer=\"adam\",metrics=[my_mae],run_eagerly=True)"
   ]
  },
  {
   "cell_type": "code",
   "execution_count": 243,
   "id": "c56ddc35-a193-40fe-988b-c56d4a265951",
   "metadata": {},
   "outputs": [
    {
     "name": "stdout",
     "output_type": "stream",
     "text": [
      "Epoch 1/3\n",
      "Tracing MyModel.call()\n",
      "Tracing MyDense.call()\n",
      "Tracing MyDense.call()\n",
      "Tracing MyDense.call()\n",
      "Tracing MyModel.call()\n",
      "Tracing MyDense.call()\n",
      "Tracing MyDense.call()\n",
      "Tracing MyDense.call()\n",
      "Tracing Loss my_mse()\n",
      "Tracing Metric my_mae()\n",
      "Tracing MyModel.call()━\u001b[0m\u001b[37m━━━━━━━━━━━━━━\u001b[0m \u001b[1m0s\u001b[0m 55ms/step - loss: 11.6385 - my_mae: 2.8594\n",
      "Tracing MyDense.call()\n",
      "Tracing MyDense.call()\n",
      "Tracing MyDense.call()\n",
      "Tracing Loss my_mse()\n",
      "Tracing Metric my_mae()\n",
      "Tracing MyModel.call()\n",
      "Tracing MyDense.call()\n",
      "Tracing MyDense.call()\n",
      "Tracing MyDense.call()\n",
      "Tracing Loss my_mse()\n",
      "Tracing Metric my_mae()\n",
      "Tracing MyModel.call()\n",
      "Tracing MyDense.call()\n",
      "Tracing MyDense.call()\n",
      "Tracing MyDense.call()\n",
      "Tracing Loss my_mse()\n",
      "Tracing Metric my_mae()\n",
      "Tracing MyModel.call()\n",
      "Tracing MyDense.call()\n",
      "Tracing MyDense.call()\n",
      "Tracing MyDense.call()\n",
      "Tracing Loss my_mse()\n",
      "Tracing Metric my_mae()\n",
      "Tracing MyModel.call()\n",
      "Tracing MyDense.call()\n",
      "Tracing MyDense.call()\n",
      "Tracing MyDense.call()\n",
      "Tracing Loss my_mse()\n",
      "Tracing Metric my_mae()\n",
      "\u001b[1m3/3\u001b[0m \u001b[32m━━━━━━━━━━━━━━━━━━━━\u001b[0m\u001b[37m\u001b[0m \u001b[1m0s\u001b[0m 32ms/step - loss: 10.9095 - my_mae: 2.7225 - val_loss: 8.0912 - val_my_mae: 2.3615\n",
      "Epoch 2/3\n",
      "Tracing MyModel.call()\n",
      "Tracing MyDense.call()\n",
      "Tracing MyDense.call()\n",
      "Tracing MyDense.call()\n",
      "Tracing Loss my_mse()\n",
      "Tracing Metric my_mae()\n",
      "Tracing MyModel.call()━\u001b[0m\u001b[37m━━━━━━━━━━━━━━\u001b[0m \u001b[1m0s\u001b[0m 18ms/step - loss: 10.1888 - my_mae: 2.6350\n",
      "Tracing MyDense.call()\n",
      "Tracing MyDense.call()\n",
      "Tracing MyDense.call()\n",
      "Tracing Loss my_mse()\n",
      "Tracing Metric my_mae()\n",
      "Tracing MyModel.call()\n",
      "Tracing MyDense.call()\n",
      "Tracing MyDense.call()\n",
      "Tracing MyDense.call()\n",
      "Tracing Loss my_mse()\n",
      "Tracing Metric my_mae()\n",
      "Tracing MyModel.call()\n",
      "Tracing MyDense.call()\n",
      "Tracing MyDense.call()\n",
      "Tracing MyDense.call()\n",
      "Tracing Loss my_mse()\n",
      "Tracing Metric my_mae()\n",
      "Tracing MyModel.call()\n",
      "Tracing MyDense.call()\n",
      "Tracing MyDense.call()\n",
      "Tracing MyDense.call()\n",
      "Tracing Loss my_mse()\n",
      "Tracing Metric my_mae()\n",
      "Tracing MyModel.call()\n",
      "Tracing MyDense.call()\n",
      "Tracing MyDense.call()\n",
      "Tracing MyDense.call()\n",
      "Tracing Loss my_mse()\n",
      "Tracing Metric my_mae()\n",
      "\u001b[1m3/3\u001b[0m \u001b[32m━━━━━━━━━━━━━━━━━━━━\u001b[0m\u001b[37m\u001b[0m \u001b[1m0s\u001b[0m 25ms/step - loss: 9.4259 - my_mae: 2.4943 - val_loss: 7.0595 - val_my_mae: 2.1527\n",
      "Epoch 3/3\n",
      "Tracing MyModel.call()\n",
      "Tracing MyDense.call()\n",
      "Tracing MyDense.call()\n",
      "Tracing MyDense.call()\n",
      "Tracing Loss my_mse()\n",
      "Tracing Metric my_mae()\n",
      "Tracing MyModel.call()━\u001b[0m\u001b[37m━━━━━━━━━━━━━━\u001b[0m \u001b[1m0s\u001b[0m 19ms/step - loss: 8.9656 - my_mae: 2.4245\n",
      "Tracing MyDense.call()\n",
      "Tracing MyDense.call()\n",
      "Tracing MyDense.call()\n",
      "Tracing Loss my_mse()\n",
      "Tracing Metric my_mae()\n",
      "Tracing MyModel.call()\n",
      "Tracing MyDense.call()\n",
      "Tracing MyDense.call()\n",
      "Tracing MyDense.call()\n",
      "Tracing Loss my_mse()\n",
      "Tracing Metric my_mae()\n",
      "Tracing MyModel.call()\n",
      "Tracing MyDense.call()\n",
      "Tracing MyDense.call()\n",
      "Tracing MyDense.call()\n",
      "Tracing Loss my_mse()\n",
      "Tracing Metric my_mae()\n",
      "Tracing MyModel.call()\n",
      "Tracing MyDense.call()\n",
      "Tracing MyDense.call()\n",
      "Tracing MyDense.call()\n",
      "Tracing Loss my_mse()\n",
      "Tracing Metric my_mae()\n",
      "Tracing MyModel.call()\n",
      "Tracing MyDense.call()\n",
      "Tracing MyDense.call()\n",
      "Tracing MyDense.call()\n",
      "Tracing Loss my_mse()\n",
      "Tracing Metric my_mae()\n",
      "\u001b[1m3/3\u001b[0m \u001b[32m━━━━━━━━━━━━━━━━━━━━\u001b[0m\u001b[37m\u001b[0m \u001b[1m0s\u001b[0m 25ms/step - loss: 8.1768 - my_mae: 2.2778 - val_loss: 6.1535 - val_my_mae: 1.9502\n"
     ]
    },
    {
     "data": {
      "text/plain": [
       "<keras.src.callbacks.history.History at 0x3122ce510>"
      ]
     },
     "execution_count": 243,
     "metadata": {},
     "output_type": "execute_result"
    }
   ],
   "source": [
    "model.fit(X_train_scaled[:70],y_train[:70],\n",
    "         epochs=3,\n",
    "         validation_data=(X_valid_scaled[:70],y_valid[:70]))"
   ]
  },
  {
   "cell_type": "code",
   "execution_count": null,
   "id": "697147fc-b159-4fee-8d93-6313e3d8d7ed",
   "metadata": {},
   "outputs": [],
   "source": []
  }
 ],
 "metadata": {
  "kernelspec": {
   "display_name": "Python [conda env:base] *",
   "language": "python",
   "name": "conda-base-py"
  },
  "language_info": {
   "codemirror_mode": {
    "name": "ipython",
    "version": 3
   },
   "file_extension": ".py",
   "mimetype": "text/x-python",
   "name": "python",
   "nbconvert_exporter": "python",
   "pygments_lexer": "ipython3",
   "version": "3.12.2"
  }
 },
 "nbformat": 4,
 "nbformat_minor": 5
}
