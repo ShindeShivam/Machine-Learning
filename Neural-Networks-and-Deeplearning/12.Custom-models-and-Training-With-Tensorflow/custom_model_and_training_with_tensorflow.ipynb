{
 "cells": [
  {
   "cell_type": "markdown",
   "id": "7c390f25-2f16-4f24-9d8b-dfb217ae5a26",
   "metadata": {},
   "source": [
    "# Using Tensorflow as Numpy"
   ]
  },
  {
   "cell_type": "markdown",
   "id": "6974e4cd-dffc-445d-bd26-adb8c1f7cd0c",
   "metadata": {},
   "source": [
    "## Tensors and Operations"
   ]
  },
  {
   "cell_type": "markdown",
   "id": "b869194d-8719-43d3-b05c-67e4190f248f",
   "metadata": {},
   "source": [
    "#### Tensors"
   ]
  },
  {
   "cell_type": "code",
   "execution_count": 5,
   "id": "9bd1342f-0d09-4684-84ac-4a75b941ea4c",
   "metadata": {},
   "outputs": [
    {
     "data": {
      "text/plain": [
       "<tf.Tensor: shape=(2, 3), dtype=int32, numpy=\n",
       "array([[1, 2, 3],\n",
       "       [4, 5, 6]], dtype=int32)>"
      ]
     },
     "execution_count": 5,
     "metadata": {},
     "output_type": "execute_result"
    }
   ],
   "source": [
    "import tensorflow as tf\n",
    "\n",
    "t=tf.constant([[1,2,3],[4,5,6]])\n",
    "t"
   ]
  },
  {
   "cell_type": "code",
   "execution_count": 6,
   "id": "cf9d68e5-a207-4ea0-b8b3-c856a2abcc59",
   "metadata": {},
   "outputs": [
    {
     "data": {
      "text/plain": [
       "TensorShape([2, 3])"
      ]
     },
     "execution_count": 6,
     "metadata": {},
     "output_type": "execute_result"
    }
   ],
   "source": [
    "t.shape"
   ]
  },
  {
   "cell_type": "code",
   "execution_count": 7,
   "id": "55e08d7b-b225-4c03-b8c3-bc203a88b1e2",
   "metadata": {},
   "outputs": [
    {
     "data": {
      "text/plain": [
       "tf.int32"
      ]
     },
     "execution_count": 7,
     "metadata": {},
     "output_type": "execute_result"
    }
   ],
   "source": [
    "t.dtype"
   ]
  },
  {
   "cell_type": "code",
   "execution_count": 8,
   "id": "055eb2d8-a311-4923-ad73-a47c253ceda5",
   "metadata": {},
   "outputs": [
    {
     "data": {
      "text/plain": [
       "array([[1, 2, 3],\n",
       "       [4, 5, 6]], dtype=int32)"
      ]
     },
     "execution_count": 8,
     "metadata": {},
     "output_type": "execute_result"
    }
   ],
   "source": [
    "t.numpy()"
   ]
  },
  {
   "cell_type": "code",
   "execution_count": 9,
   "id": "9ce62d85-d673-4a49-8208-b2b9fd37a55c",
   "metadata": {},
   "outputs": [
    {
     "data": {
      "text/plain": [
       "<tf.Tensor: shape=(2, 2), dtype=int32, numpy=\n",
       "array([[1, 2],\n",
       "       [4, 5]], dtype=int32)>"
      ]
     },
     "execution_count": 9,
     "metadata": {},
     "output_type": "execute_result"
    }
   ],
   "source": [
    "t[:,:2]"
   ]
  },
  {
   "cell_type": "code",
   "execution_count": 10,
   "id": "f644c2c2-0d40-4574-a32a-b597e6128f76",
   "metadata": {},
   "outputs": [
    {
     "data": {
      "text/plain": [
       "<tf.Tensor: shape=(2, 1), dtype=int32, numpy=\n",
       "array([[3],\n",
       "       [6]], dtype=int32)>"
      ]
     },
     "execution_count": 10,
     "metadata": {},
     "output_type": "execute_result"
    }
   ],
   "source": [
    "t[...,2,tf.newaxis]"
   ]
  },
  {
   "cell_type": "markdown",
   "id": "42aeec47-89e0-4260-a324-30c770ded9c9",
   "metadata": {},
   "source": [
    "#### ops"
   ]
  },
  {
   "cell_type": "code",
   "execution_count": 12,
   "id": "1c3a973a-6e9e-4d50-af9a-894635bfcf05",
   "metadata": {},
   "outputs": [
    {
     "data": {
      "text/plain": [
       "<tf.Tensor: shape=(2, 3), dtype=int32, numpy=\n",
       "array([[11, 12, 13],\n",
       "       [14, 15, 16]], dtype=int32)>"
      ]
     },
     "execution_count": 12,
     "metadata": {},
     "output_type": "execute_result"
    }
   ],
   "source": [
    "t+10"
   ]
  },
  {
   "cell_type": "code",
   "execution_count": 13,
   "id": "d285d868-3f59-444e-92d7-0500292f3856",
   "metadata": {},
   "outputs": [
    {
     "data": {
      "text/plain": [
       "<tf.Tensor: shape=(2, 3), dtype=int32, numpy=\n",
       "array([[ 1,  4,  9],\n",
       "       [16, 25, 36]], dtype=int32)>"
      ]
     },
     "execution_count": 13,
     "metadata": {},
     "output_type": "execute_result"
    }
   ],
   "source": [
    "tf.square(t)"
   ]
  },
  {
   "cell_type": "code",
   "execution_count": 14,
   "id": "2543919d-baf4-4848-a078-3e93f79c821d",
   "metadata": {},
   "outputs": [
    {
     "data": {
      "text/plain": [
       "<tf.Tensor: shape=(2, 2), dtype=int32, numpy=\n",
       "array([[14, 32],\n",
       "       [32, 77]], dtype=int32)>"
      ]
     },
     "execution_count": 14,
     "metadata": {},
     "output_type": "execute_result"
    }
   ],
   "source": [
    "t @ tf.transpose(t)"
   ]
  },
  {
   "cell_type": "code",
   "execution_count": 15,
   "id": "11e50143-1df6-4ca2-9540-0bbc93e3cc8d",
   "metadata": {},
   "outputs": [
    {
     "data": {
      "text/plain": [
       "<tf.Tensor: shape=(), dtype=int32, numpy=3>"
      ]
     },
     "execution_count": 15,
     "metadata": {},
     "output_type": "execute_result"
    }
   ],
   "source": [
    "tf.constant(3)"
   ]
  },
  {
   "cell_type": "markdown",
   "id": "bc1a4fc2-04be-4d86-9884-22c3af0dd83a",
   "metadata": {},
   "source": [
    "#### Keras low level API"
   ]
  },
  {
   "cell_type": "code",
   "execution_count": 17,
   "id": "48251cfe-0baa-4654-a061-47c0b6a2459d",
   "metadata": {},
   "outputs": [
    {
     "data": {
      "text/plain": [
       "<tf.Tensor: shape=(3, 2), dtype=int32, numpy=\n",
       "array([[11, 26],\n",
       "       [14, 35],\n",
       "       [19, 46]], dtype=int32)>"
      ]
     },
     "execution_count": 17,
     "metadata": {},
     "output_type": "execute_result"
    }
   ],
   "source": [
    "K=tf.keras.backend\n",
    "\n",
    "K.square(K.transpose(t)) + 10"
   ]
  },
  {
   "cell_type": "code",
   "execution_count": 18,
   "id": "65322703-83ba-4cb4-8e16-90215e1b69a8",
   "metadata": {},
   "outputs": [
    {
     "data": {
      "text/plain": [
       "<tf.Tensor: shape=(3, 2), dtype=int32, numpy=\n",
       "array([[11, 26],\n",
       "       [14, 35],\n",
       "       [19, 46]], dtype=int32)>"
      ]
     },
     "execution_count": 18,
     "metadata": {},
     "output_type": "execute_result"
    }
   ],
   "source": [
    "tf.square(tf.transpose(t)) + 10"
   ]
  },
  {
   "cell_type": "markdown",
   "id": "d912b409-5657-46b5-a280-455cf1ef1c17",
   "metadata": {},
   "source": [
    "#### Tensors and Numpy"
   ]
  },
  {
   "cell_type": "code",
   "execution_count": 20,
   "id": "bca7e316-1d0c-40d4-9dc0-35b0af273bc3",
   "metadata": {},
   "outputs": [
    {
     "data": {
      "text/plain": [
       "<tf.Tensor: shape=(), dtype=int32, numpy=7>"
      ]
     },
     "execution_count": 20,
     "metadata": {},
     "output_type": "execute_result"
    }
   ],
   "source": [
    "tf.reduce_sum([1,2,4])\n"
   ]
  },
  {
   "cell_type": "code",
   "execution_count": 21,
   "id": "9c500b3a-739a-4560-85d2-899e8b10ce7f",
   "metadata": {},
   "outputs": [
    {
     "data": {
      "text/plain": [
       "<tf.Tensor: shape=(4,), dtype=float32, numpy=array([1., 2., 3., 4.], dtype=float32)>"
      ]
     },
     "execution_count": 21,
     "metadata": {},
     "output_type": "execute_result"
    }
   ],
   "source": [
    "import numpy as np\n",
    "\n",
    "a=np.array([1.,2.,3.,4.])\n",
    "tf.constant(a,dtype=tf.float32)"
   ]
  },
  {
   "cell_type": "code",
   "execution_count": 22,
   "id": "40654a85-de58-4c0d-b1ff-553c782587c9",
   "metadata": {},
   "outputs": [
    {
     "data": {
      "text/plain": [
       "array([[1, 2, 3],\n",
       "       [4, 5, 6]], dtype=int32)"
      ]
     },
     "execution_count": 22,
     "metadata": {},
     "output_type": "execute_result"
    }
   ],
   "source": [
    "np.array(t)"
   ]
  },
  {
   "cell_type": "code",
   "execution_count": 23,
   "id": "a350f6f1-fa71-4364-888b-3f20a2152a58",
   "metadata": {},
   "outputs": [
    {
     "data": {
      "text/plain": [
       "<tf.Tensor: shape=(4,), dtype=float64, numpy=array([ 1.,  4.,  9., 16.])>"
      ]
     },
     "execution_count": 23,
     "metadata": {},
     "output_type": "execute_result"
    }
   ],
   "source": [
    "tf.square(a)"
   ]
  },
  {
   "cell_type": "code",
   "execution_count": 24,
   "id": "8050b611-7b6b-4dad-8f3b-62156ae80b56",
   "metadata": {},
   "outputs": [
    {
     "data": {
      "text/plain": [
       "array([[ 1,  4,  9],\n",
       "       [16, 25, 36]], dtype=int32)"
      ]
     },
     "execution_count": 24,
     "metadata": {},
     "output_type": "execute_result"
    }
   ],
   "source": [
    "np.square(t)"
   ]
  },
  {
   "cell_type": "markdown",
   "id": "4acd4a76-b07e-4232-a68d-d077e7d8fc63",
   "metadata": {},
   "source": [
    "#### Type conversions"
   ]
  },
  {
   "cell_type": "code",
   "execution_count": 26,
   "id": "cacfe4d3-820f-4e4d-afdb-7d11e795d12e",
   "metadata": {},
   "outputs": [
    {
     "name": "stdout",
     "output_type": "stream",
     "text": [
      "cannot compute AddV2 as input #1(zero-based) was expected to be a float tensor but is a int32 tensor [Op:AddV2] name: \n"
     ]
    }
   ],
   "source": [
    "try:\n",
    "    tf.constant(2.0)+tf.constant(10)\n",
    "except tf.errors.InvalidArgumentError as ex:\n",
    "    print(ex)\n",
    "\n"
   ]
  },
  {
   "cell_type": "code",
   "execution_count": 27,
   "id": "daafc8f5-9894-4b1d-92e3-dbaed2e22e5c",
   "metadata": {},
   "outputs": [
    {
     "name": "stdout",
     "output_type": "stream",
     "text": [
      "cannot compute AddV2 as input #1(zero-based) was expected to be a float tensor but is a double tensor [Op:AddV2] name: \n"
     ]
    }
   ],
   "source": [
    "try:\n",
    "    tf.constant(2.0) +tf.constant(10.0,dtype=tf.float64)\n",
    "except tf.errors.InvalidArgumentError as ex:\n",
    "    print(ex)"
   ]
  },
  {
   "cell_type": "code",
   "execution_count": 28,
   "id": "af0a887c-b80c-4f55-8b0d-661c7daa018c",
   "metadata": {},
   "outputs": [
    {
     "data": {
      "text/plain": [
       "<tf.Tensor: shape=(), dtype=float32, numpy=35.0>"
      ]
     },
     "execution_count": 28,
     "metadata": {},
     "output_type": "execute_result"
    }
   ],
   "source": [
    "t2=tf.constant(30,dtype=tf.float64)\n",
    "\n",
    "tf.constant(5.0)+ tf.cast(t2,tf.float32)"
   ]
  },
  {
   "cell_type": "markdown",
   "id": "c4eac357-6545-49db-a0bf-ec26fd591741",
   "metadata": {},
   "source": [
    "#### Variables"
   ]
  },
  {
   "cell_type": "code",
   "execution_count": 30,
   "id": "015de7cc-d8c0-4f06-84ee-18072f5efa15",
   "metadata": {},
   "outputs": [
    {
     "data": {
      "text/plain": [
       "<tf.Variable 'Variable:0' shape=(2, 3) dtype=int32, numpy=\n",
       "array([[1, 2, 3],\n",
       "       [4, 5, 6]], dtype=int32)>"
      ]
     },
     "execution_count": 30,
     "metadata": {},
     "output_type": "execute_result"
    }
   ],
   "source": [
    "v=tf.Variable([[1,2,3],[4,5,6]])\n",
    "v"
   ]
  },
  {
   "cell_type": "code",
   "execution_count": 31,
   "id": "19de6b2c-6668-4be3-8731-f638eb70b9ff",
   "metadata": {},
   "outputs": [
    {
     "data": {
      "text/plain": [
       "<tf.Variable 'UnreadVariable' shape=(2, 3) dtype=int32, numpy=\n",
       "array([[ 2,  4,  6],\n",
       "       [ 8, 10, 12]], dtype=int32)>"
      ]
     },
     "execution_count": 31,
     "metadata": {},
     "output_type": "execute_result"
    }
   ],
   "source": [
    "v.assign(v*2)"
   ]
  },
  {
   "cell_type": "code",
   "execution_count": 32,
   "id": "7ea89a43-c303-4923-8b7e-a712c7a8cf24",
   "metadata": {},
   "outputs": [
    {
     "data": {
      "text/plain": [
       "<tf.Variable 'UnreadVariable' shape=(2, 3) dtype=int32, numpy=\n",
       "array([[ 2,  4, 33],\n",
       "       [ 8, 10, 12]], dtype=int32)>"
      ]
     },
     "execution_count": 32,
     "metadata": {},
     "output_type": "execute_result"
    }
   ],
   "source": [
    "v[0,2].assign(33)"
   ]
  },
  {
   "cell_type": "code",
   "execution_count": 33,
   "id": "ea960c51-cb5e-4650-b8a5-4693a780f378",
   "metadata": {},
   "outputs": [
    {
     "data": {
      "text/plain": [
       "<tf.Variable 'UnreadVariable' shape=(2, 3) dtype=int32, numpy=\n",
       "array([[ 2,  4,  0],\n",
       "       [ 8, 10,  9]], dtype=int32)>"
      ]
     },
     "execution_count": 33,
     "metadata": {},
     "output_type": "execute_result"
    }
   ],
   "source": [
    "v[:,2].assign([0,9])"
   ]
  },
  {
   "cell_type": "code",
   "execution_count": 34,
   "id": "1e9a278e-c2f8-4a0d-843e-16e466f72fc3",
   "metadata": {},
   "outputs": [
    {
     "data": {
      "text/plain": [
       "<tf.Variable 'UnreadVariable' shape=(2, 3) dtype=int32, numpy=\n",
       "array([[200,   4,   0],\n",
       "       [  8,  10, 200]], dtype=int32)>"
      ]
     },
     "execution_count": 34,
     "metadata": {},
     "output_type": "execute_result"
    }
   ],
   "source": [
    "v.scatter_nd_update(\n",
    "    indices=[[0,0],[1,2]],updates=[200,200]\n",
    ")"
   ]
  },
  {
   "cell_type": "code",
   "execution_count": 35,
   "id": "e9c04aa2-b764-4b27-93fb-03615d2991a8",
   "metadata": {},
   "outputs": [
    {
     "data": {
      "text/plain": [
       "<tf.Variable 'UnreadVariable' shape=(2, 3) dtype=int32, numpy=\n",
       "array([[2, 2, 2],\n",
       "       [1, 1, 1]], dtype=int32)>"
      ]
     },
     "execution_count": 35,
     "metadata": {},
     "output_type": "execute_result"
    }
   ],
   "source": [
    "sparse_delta=tf.IndexedSlices(values=[[1,1,1],[2,2,2]],\n",
    "                             indices=[1,0])\n",
    "v.scatter_update(sparse_delta)\n"
   ]
  },
  {
   "cell_type": "code",
   "execution_count": 36,
   "id": "fb1e3ee3-5027-4b0b-8e46-757ddd6f2665",
   "metadata": {},
   "outputs": [
    {
     "name": "stdout",
     "output_type": "stream",
     "text": [
      "'ResourceVariable' object does not support item assignment\n"
     ]
    }
   ],
   "source": [
    "try:\n",
    "    v[1]=[2,2,2]\n",
    "except TypeError as ex:\n",
    "    print(ex)"
   ]
  },
  {
   "cell_type": "markdown",
   "id": "bdfe1453-e45a-4a57-92b4-c9aabe5115c9",
   "metadata": {},
   "source": [
    "#### Strings"
   ]
  },
  {
   "cell_type": "code",
   "execution_count": 38,
   "id": "4e62e167-54dc-4146-92b7-bf88aa982b79",
   "metadata": {},
   "outputs": [
    {
     "data": {
      "text/plain": [
       "<tf.Tensor: shape=(), dtype=string, numpy=b'hello'>"
      ]
     },
     "execution_count": 38,
     "metadata": {},
     "output_type": "execute_result"
    }
   ],
   "source": [
    "tf.constant(b\"hello\")"
   ]
  },
  {
   "cell_type": "code",
   "execution_count": 39,
   "id": "a9ff1be9-ae4d-4b3a-bf50-624f5c3a7792",
   "metadata": {},
   "outputs": [
    {
     "data": {
      "text/plain": [
       "<tf.Tensor: shape=(), dtype=string, numpy=b'caf\\xc3\\xa9'>"
      ]
     },
     "execution_count": 39,
     "metadata": {},
     "output_type": "execute_result"
    }
   ],
   "source": [
    "tf.constant(\"café\")"
   ]
  },
  {
   "cell_type": "code",
   "execution_count": 40,
   "id": "2b970230-19c2-4138-ad5a-3543eacdaf83",
   "metadata": {},
   "outputs": [
    {
     "data": {
      "text/plain": [
       "<tf.Tensor: shape=(4,), dtype=int32, numpy=array([ 99,  97, 102, 233], dtype=int32)>"
      ]
     },
     "execution_count": 40,
     "metadata": {},
     "output_type": "execute_result"
    }
   ],
   "source": [
    "u=tf.constant([ord(c) for c in \"café\"])\n",
    "u"
   ]
  },
  {
   "cell_type": "code",
   "execution_count": 41,
   "id": "d14a1aef-8a6f-40e1-b46c-e8671b5fcfa2",
   "metadata": {},
   "outputs": [
    {
     "data": {
      "text/plain": [
       "<tf.Tensor: shape=(), dtype=int32, numpy=4>"
      ]
     },
     "execution_count": 41,
     "metadata": {},
     "output_type": "execute_result"
    }
   ],
   "source": [
    "b=tf.strings.unicode_encode(u,\"UTF-8\")\n",
    "tf.strings.length(b, unit=\"UTF8_CHAR\")"
   ]
  },
  {
   "cell_type": "code",
   "execution_count": 42,
   "id": "7de9e504-3233-459b-a090-b06ec38f78cc",
   "metadata": {},
   "outputs": [
    {
     "data": {
      "text/plain": [
       "<tf.Tensor: shape=(4,), dtype=int32, numpy=array([ 99,  97, 102, 233], dtype=int32)>"
      ]
     },
     "execution_count": 42,
     "metadata": {},
     "output_type": "execute_result"
    }
   ],
   "source": [
    "tf.strings.unicode_decode(b,\"UTF-8\")"
   ]
  },
  {
   "cell_type": "code",
   "execution_count": 43,
   "id": "55c966f5-0bbc-46d4-864d-00c0fcbfe5cf",
   "metadata": {},
   "outputs": [
    {
     "data": {
      "text/plain": [
       "<tf.Tensor: shape=(4,), dtype=int32, numpy=array([4, 6, 5, 3], dtype=int32)>"
      ]
     },
     "execution_count": 43,
     "metadata": {},
     "output_type": "execute_result"
    }
   ],
   "source": [
    "p=tf.constant([\"Café\", \"Coffee\", \"caffè\", \"चाय\"])\n",
    "tf.strings.length(p, unit=\"UTF8_CHAR\")"
   ]
  },
  {
   "cell_type": "code",
   "execution_count": 44,
   "id": "377effa4-aecf-4bf3-bd1a-ee157375b1fc",
   "metadata": {},
   "outputs": [
    {
     "data": {
      "text/plain": [
       "<tf.RaggedTensor [[67, 97, 102, 233], [67, 111, 102, 102, 101, 101],\n",
       " [99, 97, 102, 102, 232], [2330, 2366, 2351]]>"
      ]
     },
     "execution_count": 44,
     "metadata": {},
     "output_type": "execute_result"
    }
   ],
   "source": [
    "r=tf.strings.unicode_decode(p,\"UTF-8\")\n",
    "r"
   ]
  },
  {
   "cell_type": "markdown",
   "id": "57ed7ffc-5463-480f-8c4f-f2f2ad889353",
   "metadata": {},
   "source": [
    "#### Ragged Tensors"
   ]
  },
  {
   "cell_type": "code",
   "execution_count": 46,
   "id": "16bb786d-7beb-43cc-9cb4-f97fb90febc1",
   "metadata": {},
   "outputs": [
    {
     "data": {
      "text/plain": [
       "<tf.RaggedTensor [[2, 4, 5, 7], [6, 7], [], [7, 5, 2]]>"
      ]
     },
     "execution_count": 46,
     "metadata": {},
     "output_type": "execute_result"
    }
   ],
   "source": [
    "r=tf.ragged.constant([[2,4,5,7],[6,7],[],[7,5,2]])\n",
    "r"
   ]
  },
  {
   "cell_type": "code",
   "execution_count": 47,
   "id": "932c04d5-7ec3-4c53-adf0-84bdcfa68159",
   "metadata": {},
   "outputs": [
    {
     "data": {
      "text/plain": [
       "<tf.Tensor: shape=(4, 4), dtype=int32, numpy=\n",
       "array([[2, 4, 5, 7],\n",
       "       [6, 7, 0, 0],\n",
       "       [0, 0, 0, 0],\n",
       "       [7, 5, 2, 0]], dtype=int32)>"
      ]
     },
     "execution_count": 47,
     "metadata": {},
     "output_type": "execute_result"
    }
   ],
   "source": [
    "r.to_tensor()"
   ]
  },
  {
   "cell_type": "markdown",
   "id": "12add237-b203-4317-9d9a-41006976833e",
   "metadata": {},
   "source": [
    "# Customizing Models and Training Algorithms"
   ]
  },
  {
   "cell_type": "markdown",
   "id": "a5853fae-756a-4caa-b044-4ab119c9e18d",
   "metadata": {},
   "source": [
    "## Custom Loss Function"
   ]
  },
  {
   "cell_type": "code",
   "execution_count": 50,
   "id": "bde846af-32ac-46dc-80e2-0fadf9b29950",
   "metadata": {},
   "outputs": [],
   "source": [
    "def huber_fn(y_true,y_pred):\n",
    "    error=y_true - y_pred\n",
    "    is_small_error = tf.abs(error) < 1\n",
    "    square_loss= tf.square(error)/2\n",
    "    linear_loss= tf.abs(error) - 0.5\n",
    "    return tf.where(is_small_error,square_loss,linear_loss)"
   ]
  },
  {
   "cell_type": "code",
   "execution_count": 51,
   "id": "8c86c1ae-2748-4749-b7fe-4a6f5284abb7",
   "metadata": {},
   "outputs": [],
   "source": [
    "from sklearn.datasets import fetch_california_housing\n",
    "from sklearn.model_selection import train_test_split\n",
    "from sklearn.preprocessing import StandardScaler\n",
    "\n",
    "housing=fetch_california_housing()\n",
    "X_train_full,X_test,y_train_full,y_test=train_test_split(housing.data,housing.target.reshape(-1,1),\n",
    "                                                        random_state=42)\n",
    "X_train,X_valid,y_train,y_valid=train_test_split(X_train_full,y_train_full,random_state=42)\n",
    "\n",
    "input_shape=X_train.shape[1:]\n",
    "\n",
    "scaler=StandardScaler()\n",
    "X_train_scaled=scaler.fit_transform(X_train)\n",
    "X_valid_scaled=scaler.transform(X_valid)\n",
    "X_test_scaled=scaler.transform(X_test)\n",
    "\n",
    "tf.keras.utils.set_random_seed(42)\n",
    "\n",
    "model=tf.keras.Sequential([\n",
    "    tf.keras.layers.InputLayer(shape=input_shape),\n",
    "    tf.keras.layers.Dense(25,activation=\"relu\",kernel_initializer=\"he_normal\"),\n",
    "    tf.keras.layers.Dense(1)\n",
    "])\n"
   ]
  },
  {
   "cell_type": "code",
   "execution_count": 52,
   "id": "ca822c22-6746-4d1b-b73b-04e57c3cb697",
   "metadata": {},
   "outputs": [
    {
     "name": "stdout",
     "output_type": "stream",
     "text": [
      "Epoch 1/5\n",
      "\u001b[1m363/363\u001b[0m \u001b[32m━━━━━━━━━━━━━━━━━━━━\u001b[0m\u001b[37m\u001b[0m \u001b[1m1s\u001b[0m 687us/step - loss: 0.9556 - mae: 1.3617 - val_loss: 0.3932 - val_mae: 0.7026\n",
      "Epoch 2/5\n",
      "\u001b[1m363/363\u001b[0m \u001b[32m━━━━━━━━━━━━━━━━━━━━\u001b[0m\u001b[37m\u001b[0m \u001b[1m0s\u001b[0m 520us/step - loss: 0.2612 - mae: 0.5683 - val_loss: 0.2669 - val_mae: 0.5535\n",
      "Epoch 3/5\n",
      "\u001b[1m363/363\u001b[0m \u001b[32m━━━━━━━━━━━━━━━━━━━━\u001b[0m\u001b[37m\u001b[0m \u001b[1m0s\u001b[0m 520us/step - loss: 0.2177 - mae: 0.5095 - val_loss: 0.2225 - val_mae: 0.5021\n",
      "Epoch 4/5\n",
      "\u001b[1m363/363\u001b[0m \u001b[32m━━━━━━━━━━━━━━━━━━━━\u001b[0m\u001b[37m\u001b[0m \u001b[1m0s\u001b[0m 517us/step - loss: 0.2007 - mae: 0.4861 - val_loss: 0.1999 - val_mae: 0.4755\n",
      "Epoch 5/5\n",
      "\u001b[1m363/363\u001b[0m \u001b[32m━━━━━━━━━━━━━━━━━━━━\u001b[0m\u001b[37m\u001b[0m \u001b[1m0s\u001b[0m 526us/step - loss: 0.1912 - mae: 0.4724 - val_loss: 0.1843 - val_mae: 0.4573\n"
     ]
    },
    {
     "data": {
      "text/plain": [
       "<keras.src.callbacks.history.History at 0x30088bda0>"
      ]
     },
     "execution_count": 52,
     "metadata": {},
     "output_type": "execute_result"
    }
   ],
   "source": [
    "model.compile(loss=huber_fn,\n",
    "             optimizer=\"nadam\",\n",
    "             metrics=[\"mae\"])\n",
    "\n",
    "model.fit(X_train_scaled,y_train,\n",
    "         epochs=5,\n",
    "         validation_data=(X_valid_scaled,y_valid))"
   ]
  },
  {
   "cell_type": "markdown",
   "id": "5e229787-0491-40d3-94f7-7b149a012fb9",
   "metadata": {},
   "source": [
    "## Storing and Loading Models With Custom Objects"
   ]
  },
  {
   "cell_type": "code",
   "execution_count": 54,
   "id": "fe68adb4-7c8d-420a-b3b1-9ccc372d6266",
   "metadata": {},
   "outputs": [],
   "source": [
    "model.save(\"my_custom_loss_fn_model.keras\")"
   ]
  },
  {
   "cell_type": "code",
   "execution_count": 55,
   "id": "77fbbeb1-9bd1-4aab-ba6a-5cfa87368d36",
   "metadata": {},
   "outputs": [],
   "source": [
    "model=tf.keras.models.load_model(\"my_custom_loss_fn_model.keras\",\n",
    "                                custom_objects={\"huber_fn\":huber_fn})"
   ]
  },
  {
   "cell_type": "code",
   "execution_count": 56,
   "id": "262eda7e-ba71-419b-873d-70ff789a297c",
   "metadata": {},
   "outputs": [
    {
     "name": "stdout",
     "output_type": "stream",
     "text": [
      "Epoch 1/4\n",
      "\u001b[1m363/363\u001b[0m \u001b[32m━━━━━━━━━━━━━━━━━━━━\u001b[0m\u001b[37m\u001b[0m \u001b[1m1s\u001b[0m 675us/step - loss: 0.1850 - mae: 0.4632 - val_loss: 0.1751 - val_mae: 0.4463\n",
      "Epoch 2/4\n",
      "\u001b[1m363/363\u001b[0m \u001b[32m━━━━━━━━━━━━━━━━━━━━\u001b[0m\u001b[37m\u001b[0m \u001b[1m0s\u001b[0m 523us/step - loss: 0.1809 - mae: 0.4572 - val_loss: 0.1696 - val_mae: 0.4393\n",
      "Epoch 3/4\n",
      "\u001b[1m363/363\u001b[0m \u001b[32m━━━━━━━━━━━━━━━━━━━━\u001b[0m\u001b[37m\u001b[0m \u001b[1m0s\u001b[0m 518us/step - loss: 0.1781 - mae: 0.4530 - val_loss: 0.1656 - val_mae: 0.4341\n",
      "Epoch 4/4\n",
      "\u001b[1m363/363\u001b[0m \u001b[32m━━━━━━━━━━━━━━━━━━━━\u001b[0m\u001b[37m\u001b[0m \u001b[1m0s\u001b[0m 520us/step - loss: 0.1759 - mae: 0.4496 - val_loss: 0.1622 - val_mae: 0.4296\n"
     ]
    },
    {
     "data": {
      "text/plain": [
       "<keras.src.callbacks.history.History at 0x3038b71d0>"
      ]
     },
     "execution_count": 56,
     "metadata": {},
     "output_type": "execute_result"
    }
   ],
   "source": [
    "model.fit(X_train_scaled,y_train,\n",
    "         epochs=4,\n",
    "         validation_data=(X_valid_scaled,y_valid))"
   ]
  },
  {
   "cell_type": "code",
   "execution_count": 57,
   "id": "7d9adbe8-cdbb-4951-b835-1d7807602039",
   "metadata": {},
   "outputs": [],
   "source": [
    "def create_huber(threshold=1.0):\n",
    "    def huber_fn(y_true,y_pred):\n",
    "        error= y_true-y_pred\n",
    "        is_small_error= tf.abs(error)< threshold\n",
    "        squared_loss= tf.square(error)/2\n",
    "        linear_loss= threshold*tf.abs(error) - threshold**2 / 2\n",
    "        return tf.where(is_small_error,squared_loss,linear_loss)\n",
    "    return huber_fn"
   ]
  },
  {
   "cell_type": "code",
   "execution_count": 58,
   "id": "1f4b14f1-1420-4fa1-8d0b-7da5a669ccf4",
   "metadata": {},
   "outputs": [],
   "source": [
    "model.compile(loss=create_huber(1.8),optimizer=\"nadam\",metrics=[\"mae\"])"
   ]
  },
  {
   "cell_type": "code",
   "execution_count": 59,
   "id": "0a596583-81fa-4100-b1cb-73f548d6213a",
   "metadata": {},
   "outputs": [
    {
     "name": "stdout",
     "output_type": "stream",
     "text": [
      "Epoch 1/4\n",
      "\u001b[1m363/363\u001b[0m \u001b[32m━━━━━━━━━━━━━━━━━━━━\u001b[0m\u001b[37m\u001b[0m \u001b[1m1s\u001b[0m 680us/step - loss: 0.1940 - mae: 0.4490 - val_loss: 0.1835 - val_mae: 0.4323\n",
      "Epoch 2/4\n",
      "\u001b[1m363/363\u001b[0m \u001b[32m━━━━━━━━━━━━━━━━━━━━\u001b[0m\u001b[37m\u001b[0m \u001b[1m0s\u001b[0m 522us/step - loss: 0.1918 - mae: 0.4462 - val_loss: 0.1745 - val_mae: 0.4261\n",
      "Epoch 3/4\n",
      "\u001b[1m363/363\u001b[0m \u001b[32m━━━━━━━━━━━━━━━━━━━━\u001b[0m\u001b[37m\u001b[0m \u001b[1m0s\u001b[0m 521us/step - loss: 0.1904 - mae: 0.4443 - val_loss: 0.1795 - val_mae: 0.4286\n",
      "Epoch 4/4\n",
      "\u001b[1m363/363\u001b[0m \u001b[32m━━━━━━━━━━━━━━━━━━━━\u001b[0m\u001b[37m\u001b[0m \u001b[1m0s\u001b[0m 549us/step - loss: 0.1893 - mae: 0.4427 - val_loss: 0.1814 - val_mae: 0.4290\n"
     ]
    },
    {
     "data": {
      "text/plain": [
       "<keras.src.callbacks.history.History at 0x3038b72c0>"
      ]
     },
     "execution_count": 59,
     "metadata": {},
     "output_type": "execute_result"
    }
   ],
   "source": [
    "model.fit(X_train_scaled,y_train,\n",
    "         epochs=4,\n",
    "         validation_data=(X_valid_scaled,y_valid))"
   ]
  },
  {
   "cell_type": "code",
   "execution_count": 60,
   "id": "10288058-f027-44f5-9532-a7134641b05c",
   "metadata": {},
   "outputs": [],
   "source": [
    "model.save(\"my_custom_loss_threshold_model.keras\")"
   ]
  },
  {
   "cell_type": "code",
   "execution_count": 61,
   "id": "44a0542e-02dd-4556-b62d-e701d0454283",
   "metadata": {},
   "outputs": [],
   "source": [
    "model=tf.keras.models.load_model(\"my_custom_loss_threshold_model.keras\",\n",
    "                                custom_objects={\"huber_fn\":create_huber(1.8)})"
   ]
  },
  {
   "cell_type": "code",
   "execution_count": 62,
   "id": "dd94470e-f0de-4812-8cf5-646306cead3c",
   "metadata": {},
   "outputs": [
    {
     "name": "stdout",
     "output_type": "stream",
     "text": [
      "Epoch 1/2\n",
      "\u001b[1m363/363\u001b[0m \u001b[32m━━━━━━━━━━━━━━━━━━━━\u001b[0m\u001b[37m\u001b[0m \u001b[1m0s\u001b[0m 673us/step - loss: 0.1881 - mae: 0.4410 - val_loss: 0.1730 - val_mae: 0.4231\n",
      "Epoch 2/2\n",
      "\u001b[1m363/363\u001b[0m \u001b[32m━━━━━━━━━━━━━━━━━━━━\u001b[0m\u001b[37m\u001b[0m \u001b[1m0s\u001b[0m 523us/step - loss: 0.1872 - mae: 0.4396 - val_loss: 0.1817 - val_mae: 0.4279\n"
     ]
    },
    {
     "data": {
      "text/plain": [
       "<keras.src.callbacks.history.History at 0x3031eb260>"
      ]
     },
     "execution_count": 62,
     "metadata": {},
     "output_type": "execute_result"
    }
   ],
   "source": [
    "model.fit(X_train_scaled,y_train,\n",
    "         epochs=2,\n",
    "         validation_data=(X_valid_scaled,y_valid))"
   ]
  },
  {
   "cell_type": "code",
   "execution_count": 63,
   "id": "f9b99c84-58c5-41d3-859b-581c87f4e602",
   "metadata": {},
   "outputs": [],
   "source": [
    "class HuberLoss(tf.keras.losses.Loss):\n",
    "    def __init__(self,threshold=1.0,**kwargs):\n",
    "        self.threshold=threshold\n",
    "        super().__init__(**kwargs)\n",
    "        \n",
    "    def call(self,y_true,y_pred):\n",
    "        error= y_true - y_pred\n",
    "        is_small_error= tf.abs(error) < self.threshold\n",
    "        square_loss= tf.square(error) /2\n",
    "        linear_loss= self.threshold * tf.abs(error) - self.threshold**2 / 2\n",
    "        return tf.where(is_small_error,square_loss,linear_loss)\n",
    "\n",
    "    def get_config(self):\n",
    "        base_config=super().get_config()\n",
    "        return {**base_config,\"threshold\":self.threshold}"
   ]
  },
  {
   "cell_type": "code",
   "execution_count": 64,
   "id": "5c717712-ead3-4eb8-8961-a374d94c76a8",
   "metadata": {},
   "outputs": [],
   "source": [
    "tf.keras.utils.set_random_seed(42)\n",
    "\n",
    "model=tf.keras.Sequential([\n",
    "    tf.keras.layers.InputLayer(shape=input_shape),\n",
    "    tf.keras.layers.Dense(30,activation=\"relu\",\n",
    "                         kernel_initializer=\"he_normal\"),\n",
    "    tf.keras.layers.Dense(1)\n",
    "])\n"
   ]
  },
  {
   "cell_type": "code",
   "execution_count": 65,
   "id": "7f5c7d8a-779c-496c-8e30-63545f631ed6",
   "metadata": {},
   "outputs": [],
   "source": [
    "model.compile(loss=HuberLoss(1.4),optimizer=\"nadam\",metrics=[\"mae\"])"
   ]
  },
  {
   "cell_type": "code",
   "execution_count": 66,
   "id": "1e6fdf65-8d02-40e0-a369-0e609124a16f",
   "metadata": {},
   "outputs": [
    {
     "name": "stdout",
     "output_type": "stream",
     "text": [
      "Epoch 1/3\n",
      "\u001b[1m363/363\u001b[0m \u001b[32m━━━━━━━━━━━━━━━━━━━━\u001b[0m\u001b[37m\u001b[0m \u001b[1m1s\u001b[0m 679us/step - loss: 0.9035 - mae: 1.1389 - val_loss: 0.4178 - val_mae: 0.6595\n",
      "Epoch 2/3\n",
      "\u001b[1m363/363\u001b[0m \u001b[32m━━━━━━━━━━━━━━━━━━━━\u001b[0m\u001b[37m\u001b[0m \u001b[1m0s\u001b[0m 518us/step - loss: 0.2919 - mae: 0.5737 - val_loss: 0.2988 - val_mae: 0.5456\n",
      "Epoch 3/3\n",
      "\u001b[1m363/363\u001b[0m \u001b[32m━━━━━━━━━━━━━━━━━━━━\u001b[0m\u001b[37m\u001b[0m \u001b[1m0s\u001b[0m 521us/step - loss: 0.2429 - mae: 0.5161 - val_loss: 0.2395 - val_mae: 0.4911\n"
     ]
    },
    {
     "data": {
      "text/plain": [
       "<keras.src.callbacks.history.History at 0x3031d99a0>"
      ]
     },
     "execution_count": 66,
     "metadata": {},
     "output_type": "execute_result"
    }
   ],
   "source": [
    "model.fit(X_train_scaled,y_train,\n",
    "         epochs=3,\n",
    "         validation_data=(X_valid_scaled,y_valid))"
   ]
  },
  {
   "cell_type": "code",
   "execution_count": 67,
   "id": "04e138c6-6833-4c52-9169-d68fc7991585",
   "metadata": {},
   "outputs": [],
   "source": [
    "model.save(\"my_custom_loss_threshold_class_model.keras\")"
   ]
  },
  {
   "cell_type": "code",
   "execution_count": 68,
   "id": "d68e4f4c-07b3-4420-9cf5-32ceb08fd8e7",
   "metadata": {},
   "outputs": [],
   "source": [
    "model=tf.keras.models.load_model(\"my_custom_loss_threshold_class_model.keras\",\n",
    "                                custom_objects={\"HuberLoss\":HuberLoss})"
   ]
  },
  {
   "cell_type": "code",
   "execution_count": 69,
   "id": "173961c5-362f-4c33-898f-7f528fcbddec",
   "metadata": {},
   "outputs": [
    {
     "name": "stdout",
     "output_type": "stream",
     "text": [
      "Epoch 1/3\n",
      "\u001b[1m363/363\u001b[0m \u001b[32m━━━━━━━━━━━━━━━━━━━━\u001b[0m\u001b[37m\u001b[0m \u001b[1m0s\u001b[0m 676us/step - loss: 0.2189 - mae: 0.4864 - val_loss: 0.2084 - val_mae: 0.4635\n",
      "Epoch 2/3\n",
      "\u001b[1m363/363\u001b[0m \u001b[32m━━━━━━━━━━━━━━━━━━━━\u001b[0m\u001b[37m\u001b[0m \u001b[1m0s\u001b[0m 520us/step - loss: 0.2063 - mae: 0.4703 - val_loss: 0.1820 - val_mae: 0.4415\n",
      "Epoch 3/3\n",
      "\u001b[1m363/363\u001b[0m \u001b[32m━━━━━━━━━━━━━━━━━━━━\u001b[0m\u001b[37m\u001b[0m \u001b[1m0s\u001b[0m 520us/step - loss: 0.1988 - mae: 0.4611 - val_loss: 0.1821 - val_mae: 0.4395\n"
     ]
    },
    {
     "data": {
      "text/plain": [
       "<keras.src.callbacks.history.History at 0x303273770>"
      ]
     },
     "execution_count": 69,
     "metadata": {},
     "output_type": "execute_result"
    }
   ],
   "source": [
    "model.fit(X_train_scaled,y_train,\n",
    "         epochs=3,\n",
    "          validation_data=(X_valid_scaled,y_valid)\n",
    "         )"
   ]
  },
  {
   "cell_type": "code",
   "execution_count": 70,
   "id": "5e89b955-d936-49c8-8cf9-95937bd79c0d",
   "metadata": {},
   "outputs": [
    {
     "data": {
      "text/plain": [
       "1.4"
      ]
     },
     "execution_count": 70,
     "metadata": {},
     "output_type": "execute_result"
    }
   ],
   "source": [
    "model.loss.threshold"
   ]
  },
  {
   "cell_type": "markdown",
   "id": "a5e8b20e-5565-4489-acf6-51bf2b2d2653",
   "metadata": {},
   "source": [
    "## Other Custom Functions"
   ]
  },
  {
   "cell_type": "code",
   "execution_count": 72,
   "id": "6f79c5ce-a1ee-409b-a788-ca12d9950b77",
   "metadata": {},
   "outputs": [],
   "source": [
    "def my_softplus(z):\n",
    "    return tf.math.log(1+tf.exp(z))\n",
    "\n",
    "def my_glorot_initializer(shape,dtype=tf.float32):\n",
    "    stddev= tf.sqrt(2 / (shape[0] + shape[1]))\n",
    "    \n",
    "    return tf.random.normal(shape,stddev=stddev,dtype=dtype)\n",
    "\n",
    "def my_l1_regu(weights):\n",
    "    return 0.01 * tf.reduce_sum(tf.abs(weights))\n",
    "\n",
    "def my_positive_weights(weights):\n",
    "    return tf.where(weights<0. ,tf.zeros_like(weights),weights)"
   ]
  },
  {
   "cell_type": "code",
   "execution_count": 73,
   "id": "f3fbec13-bb52-4963-9aeb-08db92e90b45",
   "metadata": {},
   "outputs": [],
   "source": [
    "class MyL1Regularizer(tf.keras.regularizers.Regularizer):\n",
    "    def __init__(self, factor):\n",
    "        self.factor = factor\n",
    "\n",
    "    def __call__(self, weights):\n",
    "        return self.factor * tf.reduce_sum(tf.abs(weights))\n",
    "\n",
    "    def get_config(self):\n",
    "        return {\"factor\": self.factor}\n"
   ]
  },
  {
   "cell_type": "code",
   "execution_count": 74,
   "id": "18770193-8732-48c8-bcf9-18f11260bb63",
   "metadata": {},
   "outputs": [],
   "source": [
    "class MyPositiveWeights(tf.keras.constraints.Constraint):\n",
    "    def __init__(self):\n",
    "        pass\n",
    "    def __call__(self,weights):\n",
    "        return tf.where(weights<0. ,tf.zeros_like(weights),weights)\n",
    "    def get_config(self):\n",
    "        return {}\n",
    "    "
   ]
  },
  {
   "cell_type": "code",
   "execution_count": 75,
   "id": "46f1faf0-1e4e-45d5-95a0-07e7e1123643",
   "metadata": {},
   "outputs": [
    {
     "data": {
      "text/html": [
       "<pre style=\"white-space:pre;overflow-x:auto;line-height:normal;font-family:Menlo,'DejaVu Sans Mono',consolas,'Courier New',monospace\"><span style=\"font-weight: bold\">Model: \"sequential_2\"</span>\n",
       "</pre>\n"
      ],
      "text/plain": [
       "\u001b[1mModel: \"sequential_2\"\u001b[0m\n"
      ]
     },
     "metadata": {},
     "output_type": "display_data"
    },
    {
     "data": {
      "text/html": [
       "<pre style=\"white-space:pre;overflow-x:auto;line-height:normal;font-family:Menlo,'DejaVu Sans Mono',consolas,'Courier New',monospace\">┏━━━━━━━━━━━━━━━━━━━━━━━━━━━━━━━━━┳━━━━━━━━━━━━━━━━━━━━━━━━┳━━━━━━━━━━━━━━━┓\n",
       "┃<span style=\"font-weight: bold\"> Layer (type)                    </span>┃<span style=\"font-weight: bold\"> Output Shape           </span>┃<span style=\"font-weight: bold\">       Param # </span>┃\n",
       "┡━━━━━━━━━━━━━━━━━━━━━━━━━━━━━━━━━╇━━━━━━━━━━━━━━━━━━━━━━━━╇━━━━━━━━━━━━━━━┩\n",
       "│ dense_4 (<span style=\"color: #0087ff; text-decoration-color: #0087ff\">Dense</span>)                 │ (<span style=\"color: #00d7ff; text-decoration-color: #00d7ff\">None</span>, <span style=\"color: #00af00; text-decoration-color: #00af00\">30</span>)             │           <span style=\"color: #00af00; text-decoration-color: #00af00\">270</span> │\n",
       "├─────────────────────────────────┼────────────────────────┼───────────────┤\n",
       "│ dense_5 (<span style=\"color: #0087ff; text-decoration-color: #0087ff\">Dense</span>)                 │ (<span style=\"color: #00d7ff; text-decoration-color: #00d7ff\">None</span>, <span style=\"color: #00af00; text-decoration-color: #00af00\">1</span>)              │            <span style=\"color: #00af00; text-decoration-color: #00af00\">31</span> │\n",
       "└─────────────────────────────────┴────────────────────────┴───────────────┘\n",
       "</pre>\n"
      ],
      "text/plain": [
       "┏━━━━━━━━━━━━━━━━━━━━━━━━━━━━━━━━━┳━━━━━━━━━━━━━━━━━━━━━━━━┳━━━━━━━━━━━━━━━┓\n",
       "┃\u001b[1m \u001b[0m\u001b[1mLayer (type)                   \u001b[0m\u001b[1m \u001b[0m┃\u001b[1m \u001b[0m\u001b[1mOutput Shape          \u001b[0m\u001b[1m \u001b[0m┃\u001b[1m \u001b[0m\u001b[1m      Param #\u001b[0m\u001b[1m \u001b[0m┃\n",
       "┡━━━━━━━━━━━━━━━━━━━━━━━━━━━━━━━━━╇━━━━━━━━━━━━━━━━━━━━━━━━╇━━━━━━━━━━━━━━━┩\n",
       "│ dense_4 (\u001b[38;5;33mDense\u001b[0m)                 │ (\u001b[38;5;45mNone\u001b[0m, \u001b[38;5;34m30\u001b[0m)             │           \u001b[38;5;34m270\u001b[0m │\n",
       "├─────────────────────────────────┼────────────────────────┼───────────────┤\n",
       "│ dense_5 (\u001b[38;5;33mDense\u001b[0m)                 │ (\u001b[38;5;45mNone\u001b[0m, \u001b[38;5;34m1\u001b[0m)              │            \u001b[38;5;34m31\u001b[0m │\n",
       "└─────────────────────────────────┴────────────────────────┴───────────────┘\n"
      ]
     },
     "metadata": {},
     "output_type": "display_data"
    },
    {
     "data": {
      "text/html": [
       "<pre style=\"white-space:pre;overflow-x:auto;line-height:normal;font-family:Menlo,'DejaVu Sans Mono',consolas,'Courier New',monospace\"><span style=\"font-weight: bold\"> Total params: </span><span style=\"color: #00af00; text-decoration-color: #00af00\">301</span> (1.18 KB)\n",
       "</pre>\n"
      ],
      "text/plain": [
       "\u001b[1m Total params: \u001b[0m\u001b[38;5;34m301\u001b[0m (1.18 KB)\n"
      ]
     },
     "metadata": {},
     "output_type": "display_data"
    },
    {
     "data": {
      "text/html": [
       "<pre style=\"white-space:pre;overflow-x:auto;line-height:normal;font-family:Menlo,'DejaVu Sans Mono',consolas,'Courier New',monospace\"><span style=\"font-weight: bold\"> Trainable params: </span><span style=\"color: #00af00; text-decoration-color: #00af00\">301</span> (1.18 KB)\n",
       "</pre>\n"
      ],
      "text/plain": [
       "\u001b[1m Trainable params: \u001b[0m\u001b[38;5;34m301\u001b[0m (1.18 KB)\n"
      ]
     },
     "metadata": {},
     "output_type": "display_data"
    },
    {
     "data": {
      "text/html": [
       "<pre style=\"white-space:pre;overflow-x:auto;line-height:normal;font-family:Menlo,'DejaVu Sans Mono',consolas,'Courier New',monospace\"><span style=\"font-weight: bold\"> Non-trainable params: </span><span style=\"color: #00af00; text-decoration-color: #00af00\">0</span> (0.00 B)\n",
       "</pre>\n"
      ],
      "text/plain": [
       "\u001b[1m Non-trainable params: \u001b[0m\u001b[38;5;34m0\u001b[0m (0.00 B)\n"
      ]
     },
     "metadata": {},
     "output_type": "display_data"
    }
   ],
   "source": [
    "tf.keras.utils.set_random_seed(42)\n",
    "\n",
    "model=tf.keras.Sequential([\n",
    "    tf.keras.layers.InputLayer(shape=input_shape),\n",
    "    tf.keras.layers.Dense(30,activation=my_softplus,\n",
    "                          kernel_initializer=my_glorot_initializer,\n",
    "                          kernel_regularizer=MyL1Regularizer(factor=0.01),\n",
    "                          kernel_constraint=MyPositiveWeights()\n",
    "                           ),\n",
    "                         \n",
    "    tf.keras.layers.Dense(1)\n",
    "])\n",
    "model.summary()"
   ]
  },
  {
   "cell_type": "code",
   "execution_count": 76,
   "id": "cb3a6f96-bbfb-4876-bdd6-78e8e7428721",
   "metadata": {},
   "outputs": [],
   "source": [
    "model.compile(loss=HuberLoss(1.2),optimizer=\"nadam\",metrics=[\"mae\"])"
   ]
  },
  {
   "cell_type": "code",
   "execution_count": 77,
   "id": "2588c205-07c0-452f-a8e7-1ff786881a54",
   "metadata": {},
   "outputs": [
    {
     "name": "stdout",
     "output_type": "stream",
     "text": [
      "Epoch 1/4\n",
      "\u001b[1m363/363\u001b[0m \u001b[32m━━━━━━━━━━━━━━━━━━━━\u001b[0m\u001b[37m\u001b[0m \u001b[1m1s\u001b[0m 715us/step - loss: 1.1080 - mae: 1.2316 - val_loss: inf - val_mae: inf\n",
      "Epoch 2/4\n",
      "\u001b[1m363/363\u001b[0m \u001b[32m━━━━━━━━━━━━━━━━━━━━\u001b[0m\u001b[37m\u001b[0m \u001b[1m0s\u001b[0m 541us/step - loss: 0.4222 - mae: 0.6201 - val_loss: inf - val_mae: inf\n",
      "Epoch 3/4\n",
      "\u001b[1m363/363\u001b[0m \u001b[32m━━━━━━━━━━━━━━━━━━━━\u001b[0m\u001b[37m\u001b[0m \u001b[1m0s\u001b[0m 540us/step - loss: 0.3799 - mae: 0.6103 - val_loss: inf - val_mae: inf\n",
      "Epoch 4/4\n",
      "\u001b[1m363/363\u001b[0m \u001b[32m━━━━━━━━━━━━━━━━━━━━\u001b[0m\u001b[37m\u001b[0m \u001b[1m0s\u001b[0m 537us/step - loss: 0.3623 - mae: 0.6105 - val_loss: 0.3385 - val_mae: 0.5923\n"
     ]
    }
   ],
   "source": [
    "history=model.fit(X_train_scaled,y_train,\n",
    "                 epochs=4,\n",
    "                 validation_data=(X_valid_scaled,y_valid))"
   ]
  },
  {
   "cell_type": "markdown",
   "id": "14f9946d-1a78-4455-8bf5-6020570fc984",
   "metadata": {},
   "source": [
    "## Custom Metrics"
   ]
  },
  {
   "cell_type": "code",
   "execution_count": 79,
   "id": "ea42ecfa-2479-47f0-9fde-853b831ea0c5",
   "metadata": {},
   "outputs": [],
   "source": [
    "tf.keras.utils.set_random_seed(42)\n",
    "model=tf.keras.Sequential([\n",
    "    tf.keras.layers.InputLayer(shape=input_shape),\n",
    "    tf.keras.layers.Dense(30,activation=\"relu\",\n",
    "                         kernel_initializer=\"he_normal\"),\n",
    "    tf.keras.layers.Dense(1)\n",
    "])"
   ]
  },
  {
   "cell_type": "code",
   "execution_count": 80,
   "id": "0948d3c6-19f4-4bc8-8ee6-adeb63c3d3a9",
   "metadata": {},
   "outputs": [],
   "source": [
    "model.compile(loss=\"mse\",optimizer=\"nadam\",metrics=[HuberLoss(2)])"
   ]
  },
  {
   "cell_type": "code",
   "execution_count": 81,
   "id": "a70de9a0-dd47-45d7-ae95-a626221c47c0",
   "metadata": {},
   "outputs": [
    {
     "name": "stdout",
     "output_type": "stream",
     "text": [
      "Epoch 1/3\n",
      "\u001b[1m363/363\u001b[0m \u001b[32m━━━━━━━━━━━━━━━━━━━━\u001b[0m\u001b[37m\u001b[0m \u001b[1m1s\u001b[0m 678us/step - huber_loss_2: 1.0788 - loss: 2.5942 - val_huber_loss_2: 0.5646 - val_loss: 21.3898\n",
      "Epoch 2/3\n",
      "\u001b[1m363/363\u001b[0m \u001b[32m━━━━━━━━━━━━━━━━━━━━\u001b[0m\u001b[37m\u001b[0m \u001b[1m0s\u001b[0m 519us/step - huber_loss_2: 0.3403 - loss: 0.7644 - val_huber_loss_2: 0.4281 - val_loss: 11.2129\n",
      "Epoch 3/3\n",
      "\u001b[1m363/363\u001b[0m \u001b[32m━━━━━━━━━━━━━━━━━━━━\u001b[0m\u001b[37m\u001b[0m \u001b[1m0s\u001b[0m 517us/step - huber_loss_2: 0.2803 - loss: 0.6047 - val_huber_loss_2: 0.3411 - val_loss: 5.6292\n"
     ]
    },
    {
     "data": {
      "text/plain": [
       "<keras.src.callbacks.history.History at 0x30450aed0>"
      ]
     },
     "execution_count": 81,
     "metadata": {},
     "output_type": "execute_result"
    }
   ],
   "source": [
    "model.fit(X_train_scaled,y_train,\n",
    "         epochs=3,\n",
    "         validation_data=(X_valid_scaled,y_valid))"
   ]
  },
  {
   "cell_type": "code",
   "execution_count": 82,
   "id": "1d4f1680-31c1-401a-a51b-ecf4e8739d1c",
   "metadata": {},
   "outputs": [],
   "source": [
    "tf.keras.utils.set_random_seed(42)\n",
    "model=tf.keras.Sequential([\n",
    "    tf.keras.layers.InputLayer(shape=input_shape),\n",
    "    tf.keras.layers.Dense(30,activation=\"relu\",\n",
    "                         kernel_initializer=\"he_normal\"),\n",
    "    tf.keras.layers.Dense(1)\n",
    "])"
   ]
  },
  {
   "cell_type": "code",
   "execution_count": 83,
   "id": "f294aef1-4e96-479d-b1d6-a7fc1ba2c476",
   "metadata": {},
   "outputs": [],
   "source": [
    "model.compile(loss=\"mse\",optimizer=\"nadam\",metrics=[create_huber(2)])"
   ]
  },
  {
   "cell_type": "code",
   "execution_count": 84,
   "id": "e37613ec-8cf2-42f6-b064-efa44ec6a1b7",
   "metadata": {},
   "outputs": [
    {
     "name": "stdout",
     "output_type": "stream",
     "text": [
      "Epoch 1/3\n",
      "\u001b[1m363/363\u001b[0m \u001b[32m━━━━━━━━━━━━━━━━━━━━\u001b[0m\u001b[37m\u001b[0m \u001b[1m1s\u001b[0m 675us/step - huber_fn: 1.0788 - loss: 2.5942 - val_huber_fn: 0.5648 - val_loss: 21.3898\n",
      "Epoch 2/3\n",
      "\u001b[1m363/363\u001b[0m \u001b[32m━━━━━━━━━━━━━━━━━━━━\u001b[0m\u001b[37m\u001b[0m \u001b[1m0s\u001b[0m 517us/step - huber_fn: 0.3403 - loss: 0.7644 - val_huber_fn: 0.4283 - val_loss: 11.2129\n",
      "Epoch 3/3\n",
      "\u001b[1m363/363\u001b[0m \u001b[32m━━━━━━━━━━━━━━━━━━━━\u001b[0m\u001b[37m\u001b[0m \u001b[1m0s\u001b[0m 518us/step - huber_fn: 0.2803 - loss: 0.6047 - val_huber_fn: 0.3412 - val_loss: 5.6292\n"
     ]
    },
    {
     "data": {
      "text/plain": [
       "<keras.src.callbacks.history.History at 0x3045be8d0>"
      ]
     },
     "execution_count": 84,
     "metadata": {},
     "output_type": "execute_result"
    }
   ],
   "source": [
    "model.fit(X_train_scaled,y_train,\n",
    "         epochs=3,\n",
    "         validation_data=(X_valid_scaled,y_valid))"
   ]
  },
  {
   "cell_type": "code",
   "execution_count": 85,
   "id": "fa5b500d-028f-4f2f-a39b-f21a998ba56c",
   "metadata": {},
   "outputs": [],
   "source": [
    "model.compile(loss=create_huber(2),optimizer=\"nadam\",metrics=[create_huber(2)])"
   ]
  },
  {
   "cell_type": "code",
   "execution_count": 86,
   "id": "4875207e-4b46-4f3a-bfc8-18b63f1fbb3e",
   "metadata": {},
   "outputs": [
    {
     "name": "stdout",
     "output_type": "stream",
     "text": [
      "Epoch 1/3\n",
      "\u001b[1m363/363\u001b[0m \u001b[32m━━━━━━━━━━━━━━━━━━━━\u001b[0m\u001b[37m\u001b[0m \u001b[1m1s\u001b[0m 680us/step - huber_fn: 0.2443 - loss: 0.2443 - val_huber_fn: 0.2984 - val_loss: 0.2984\n",
      "Epoch 2/3\n",
      "\u001b[1m363/363\u001b[0m \u001b[32m━━━━━━━━━━━━━━━━━━━━\u001b[0m\u001b[37m\u001b[0m \u001b[1m0s\u001b[0m 520us/step - huber_fn: 0.2206 - loss: 0.2206 - val_huber_fn: 0.2439 - val_loss: 0.2439\n",
      "Epoch 3/3\n",
      "\u001b[1m363/363\u001b[0m \u001b[32m━━━━━━━━━━━━━━━━━━━━\u001b[0m\u001b[37m\u001b[0m \u001b[1m0s\u001b[0m 516us/step - huber_fn: 0.2101 - loss: 0.2101 - val_huber_fn: 0.2090 - val_loss: 0.2090\n"
     ]
    },
    {
     "data": {
      "text/plain": [
       "<keras.src.callbacks.history.History at 0x3059e2270>"
      ]
     },
     "execution_count": 86,
     "metadata": {},
     "output_type": "execute_result"
    }
   ],
   "source": [
    "model.fit(X_train_scaled,y_train,\n",
    "         epochs=3,\n",
    "         validation_data=(X_valid_scaled,y_valid))\n"
   ]
  },
  {
   "cell_type": "markdown",
   "id": "8d409af6-4e4d-4330-a3af-d582fd12be75",
   "metadata": {},
   "source": [
    "### Streaming Metrics"
   ]
  },
  {
   "cell_type": "code",
   "execution_count": 88,
   "id": "a9123c50-2148-4a06-806a-105a580de15e",
   "metadata": {},
   "outputs": [],
   "source": [
    "precision=tf.keras.metrics.Precision()"
   ]
  },
  {
   "cell_type": "code",
   "execution_count": 89,
   "id": "80249bbc-fbdc-410b-9eb3-00019c3f8621",
   "metadata": {},
   "outputs": [
    {
     "data": {
      "text/plain": [
       "<tf.Tensor: shape=(), dtype=float32, numpy=0.800000011920929>"
      ]
     },
     "execution_count": 89,
     "metadata": {},
     "output_type": "execute_result"
    }
   ],
   "source": [
    "precision([0, 1, 1, 1, 0, 1, 0, 1], [1, 1, 0, 1, 0, 1, 0, 1]) # precision = 4 / 5 = 0.8"
   ]
  },
  {
   "cell_type": "code",
   "execution_count": 90,
   "id": "526a16a4-1c38-445a-83e7-e66b4ae6b836",
   "metadata": {},
   "outputs": [
    {
     "data": {
      "text/plain": [
       "<tf.Tensor: shape=(), dtype=float32, numpy=0.5>"
      ]
     },
     "execution_count": 90,
     "metadata": {},
     "output_type": "execute_result"
    }
   ],
   "source": [
    "precision([0, 1, 0, 0, 1, 0, 1, 1], [1, 0, 1, 1, 0, 0, 0, 0]) #precision=0/3=0 "
   ]
  },
  {
   "cell_type": "code",
   "execution_count": 91,
   "id": "9cb32817-fd23-4c57-a48a-66f622a9e7ab",
   "metadata": {},
   "outputs": [
    {
     "data": {
      "text/plain": [
       "<tf.Tensor: shape=(), dtype=float32, numpy=0.5>"
      ]
     },
     "execution_count": 91,
     "metadata": {},
     "output_type": "execute_result"
    }
   ],
   "source": [
    "precision.result()   #Final result-> 4/(5+3)=0.5"
   ]
  },
  {
   "cell_type": "code",
   "execution_count": 92,
   "id": "1d88bb9d-8e8b-4170-a146-c1d73e5d77f1",
   "metadata": {},
   "outputs": [
    {
     "data": {
      "text/plain": [
       "[<Variable path=precision/true_positives, shape=(1,), dtype=float32, value=[4.]>,\n",
       " <Variable path=precision/false_positives, shape=(1,), dtype=float32, value=[4.]>]"
      ]
     },
     "execution_count": 92,
     "metadata": {},
     "output_type": "execute_result"
    }
   ],
   "source": [
    "precision.variables"
   ]
  },
  {
   "cell_type": "code",
   "execution_count": 93,
   "id": "558df2cf-f107-4d97-8e92-a6c54bba17bf",
   "metadata": {},
   "outputs": [],
   "source": [
    "precision.reset_state()"
   ]
  },
  {
   "cell_type": "code",
   "execution_count": 94,
   "id": "1793cf98-9211-47e5-8ae5-78fb10aa4362",
   "metadata": {},
   "outputs": [
    {
     "data": {
      "text/plain": [
       "<tf.Tensor: shape=(), dtype=float32, numpy=0.0>"
      ]
     },
     "execution_count": 94,
     "metadata": {},
     "output_type": "execute_result"
    }
   ],
   "source": [
    "precision.result()"
   ]
  },
  {
   "cell_type": "code",
   "execution_count": 95,
   "id": "e7933bd7-9134-4def-aedd-eb0f9f123dfc",
   "metadata": {},
   "outputs": [],
   "source": [
    "class HuberMetric(tf.keras.metrics.Metric):\n",
    "    def __init__(self,threshold=1.0,**kwargs):\n",
    "        super().__init__(**kwargs)\n",
    "        self.threshold=threshold\n",
    "        self.huber_fn=create_huber(threshold)\n",
    "        self.total=self.add_weight(name=\"total\",initializer=\"zeros\") #Ek TensorFlow variable banao jiska naam total ho aur shuru mein value 0.0 ho.\n",
    "        self.count=self.add_weight(name=\"count\",initializer=\"zeros\")\n",
    "\n",
    "    def update_state(self,y_true,y_pred,sample_weight=None):\n",
    "        sample_metrics=self.huber_fn(y_true,y_pred)\n",
    "        self.total.assign_add(tf.reduce_sum(sample_metrics))\n",
    "        self.count.assign_add(tf.cast(tf.size(y_true),tf.float32))\n",
    "\n",
    "    def result(self):\n",
    "        return self.total/self.count\n",
    "\n",
    "    def get_config(self):\n",
    "        base_config=super().get_config()\n",
    "        return {**base_config,\"threshold\":self.threshold}"
   ]
  },
  {
   "cell_type": "code",
   "execution_count": 96,
   "id": "a431f318-0e81-4442-8ec4-daf254464c38",
   "metadata": {},
   "outputs": [
    {
     "data": {
      "text/plain": [
       "<tf.Tensor: shape=(), dtype=float32, numpy=22.5>"
      ]
     },
     "execution_count": 96,
     "metadata": {},
     "output_type": "execute_result"
    }
   ],
   "source": [
    "m=HuberMetric(3.0)\n",
    "\n",
    "m(tf.constant([[3.]]),tf.constant([[12.]]))\n",
    "\n",
    "#error->12-3=9\n",
    "#9>3 so linear loss\n",
    "# total-> 3*9 - 3^2 /2 =22.5\n",
    "# count=1\n",
    "#result=22.5/1"
   ]
  },
  {
   "cell_type": "code",
   "execution_count": 97,
   "id": "e12a33e7-b4d7-4cdc-a031-fc4614268ab4",
   "metadata": {},
   "outputs": [
    {
     "data": {
      "text/plain": [
       "<tf.Tensor: shape=(), dtype=float32, numpy=10.166666984558105>"
      ]
     },
     "execution_count": 97,
     "metadata": {},
     "output_type": "execute_result"
    }
   ],
   "source": [
    "m(tf.constant([[2.],[3.]]),tf.constant([[1.],[7.]]))\n",
    "\n",
    "# total -> total + (|1-2|²)/2 + 3*|7-3|-3²/2= 22.5+8=30.5\n",
    "#Count -> count + 2 =1+2=3\n",
    "#result= 30.5/3=10.1666"
   ]
  },
  {
   "cell_type": "code",
   "execution_count": 98,
   "id": "56658734-e847-4417-b8ef-fccde0a7573c",
   "metadata": {},
   "outputs": [
    {
     "data": {
      "text/plain": [
       "<tf.Tensor: shape=(), dtype=float32, numpy=10.166666984558105>"
      ]
     },
     "execution_count": 98,
     "metadata": {},
     "output_type": "execute_result"
    }
   ],
   "source": [
    "m.result()"
   ]
  },
  {
   "cell_type": "code",
   "execution_count": 99,
   "id": "31aadddc-8f58-48f2-86a2-53a038f1a6e4",
   "metadata": {},
   "outputs": [
    {
     "data": {
      "text/plain": [
       "[<Variable path=huber_metric/total, shape=(), dtype=float32, value=30.5>,\n",
       " <Variable path=huber_metric/count, shape=(), dtype=float32, value=3.0>]"
      ]
     },
     "execution_count": 99,
     "metadata": {},
     "output_type": "execute_result"
    }
   ],
   "source": [
    "m.variables"
   ]
  },
  {
   "cell_type": "code",
   "execution_count": 100,
   "id": "b6f42af6-3921-447c-a596-db659a8e7e57",
   "metadata": {},
   "outputs": [],
   "source": [
    "m.reset_state()"
   ]
  },
  {
   "cell_type": "code",
   "execution_count": 101,
   "id": "43c6d158-7cad-4c03-9bb0-be4ce3ef6f86",
   "metadata": {},
   "outputs": [
    {
     "data": {
      "text/plain": [
       "[<Variable path=huber_metric/total, shape=(), dtype=float32, value=0.0>,\n",
       " <Variable path=huber_metric/count, shape=(), dtype=float32, value=0.0>]"
      ]
     },
     "execution_count": 101,
     "metadata": {},
     "output_type": "execute_result"
    }
   ],
   "source": [
    "m.variables"
   ]
  },
  {
   "cell_type": "code",
   "execution_count": 102,
   "id": "fe22d759-ecaf-4205-b1d8-1f0a75a3dc0b",
   "metadata": {},
   "outputs": [],
   "source": [
    "tf.keras.utils.set_random_seed(42)\n",
    "\n",
    "model=tf.keras.Sequential([\n",
    "    tf.keras.layers.InputLayer(shape=input_shape),\n",
    "    tf.keras.layers.Dense(30,activation=\"relu\",\n",
    "                         kernel_initializer=\"he_normal\"),\n",
    "    tf.keras.layers.Dense(1)\n",
    "])"
   ]
  },
  {
   "cell_type": "code",
   "execution_count": 103,
   "id": "133bad37-1bd8-4e24-8cf7-21638662e531",
   "metadata": {},
   "outputs": [],
   "source": [
    "model.compile(loss=HuberLoss(2),\n",
    "             optimizer=\"nadam\",\n",
    "             metrics=[HuberMetric(2)])"
   ]
  },
  {
   "cell_type": "code",
   "execution_count": 104,
   "id": "cd1002b0-7688-4bb5-a91b-20efeba6b35b",
   "metadata": {},
   "outputs": [
    {
     "name": "stdout",
     "output_type": "stream",
     "text": [
      "Epoch 1/4\n",
      "\u001b[1m363/363\u001b[0m \u001b[32m━━━━━━━━━━━━━━━━━━━━\u001b[0m\u001b[37m\u001b[0m \u001b[1m1s\u001b[0m 682us/step - huber_metric_1: 1.0512 - loss: 1.0512 - val_huber_metric_1: 0.5086 - val_loss: 0.5086\n",
      "Epoch 2/4\n",
      "\u001b[1m363/363\u001b[0m \u001b[32m━━━━━━━━━━━━━━━━━━━━\u001b[0m\u001b[37m\u001b[0m \u001b[1m0s\u001b[0m 514us/step - huber_metric_1: 0.3170 - loss: 0.3170 - val_huber_metric_1: 0.3527 - val_loss: 0.3527\n",
      "Epoch 3/4\n",
      "\u001b[1m363/363\u001b[0m \u001b[32m━━━━━━━━━━━━━━━━━━━━\u001b[0m\u001b[37m\u001b[0m \u001b[1m0s\u001b[0m 521us/step - huber_metric_1: 0.2612 - loss: 0.2612 - val_huber_metric_1: 0.2689 - val_loss: 0.2689\n",
      "Epoch 4/4\n",
      "\u001b[1m363/363\u001b[0m \u001b[32m━━━━━━━━━━━━━━━━━━━━\u001b[0m\u001b[37m\u001b[0m \u001b[1m0s\u001b[0m 517us/step - huber_metric_1: 0.2328 - loss: 0.2328 - val_huber_metric_1: 0.2207 - val_loss: 0.2207\n"
     ]
    },
    {
     "data": {
      "text/plain": [
       "<keras.src.callbacks.history.History at 0x3059e0200>"
      ]
     },
     "execution_count": 104,
     "metadata": {},
     "output_type": "execute_result"
    }
   ],
   "source": [
    "model.fit(X_train_scaled,y_train,\n",
    "         epochs=4,\n",
    "         validation_data=(X_valid_scaled,y_valid))"
   ]
  },
  {
   "cell_type": "code",
   "execution_count": 105,
   "id": "03c663ef-0720-4719-9ffd-4a9ea7c07a87",
   "metadata": {},
   "outputs": [],
   "source": [
    "model.save(\"my_custom_huber_metric_model.keras\")"
   ]
  },
  {
   "cell_type": "code",
   "execution_count": 106,
   "id": "9cc4d166-d003-4205-88aa-28e1b43e3001",
   "metadata": {},
   "outputs": [],
   "source": [
    "model=tf.keras.models.load_model(\"my_custom_huber_metric_model.keras\",\n",
    "                                custom_objects={\"HuberLoss\":HuberLoss,\n",
    "                                               \"HuberMetric\":HuberMetric})"
   ]
  },
  {
   "cell_type": "code",
   "execution_count": 107,
   "id": "4ab98442-592f-48ef-84f3-b6d576a169d7",
   "metadata": {},
   "outputs": [
    {
     "name": "stdout",
     "output_type": "stream",
     "text": [
      "Epoch 1/3\n",
      "\u001b[1m363/363\u001b[0m \u001b[32m━━━━━━━━━━━━━━━━━━━━\u001b[0m\u001b[37m\u001b[0m \u001b[1m0s\u001b[0m 668us/step - huber_metric_1: 0.2178 - loss: 0.2178 - val_huber_metric_1: 0.1899 - val_loss: 0.1899\n",
      "Epoch 2/3\n",
      "\u001b[1m363/363\u001b[0m \u001b[32m━━━━━━━━━━━━━━━━━━━━\u001b[0m\u001b[37m\u001b[0m \u001b[1m0s\u001b[0m 517us/step - huber_metric_1: 0.2093 - loss: 0.2093 - val_huber_metric_1: 0.1996 - val_loss: 0.1996\n",
      "Epoch 3/3\n",
      "\u001b[1m363/363\u001b[0m \u001b[32m━━━━━━━━━━━━━━━━━━━━\u001b[0m\u001b[37m\u001b[0m \u001b[1m0s\u001b[0m 514us/step - huber_metric_1: 0.2036 - loss: 0.2036 - val_huber_metric_1: 0.2243 - val_loss: 0.2243\n"
     ]
    },
    {
     "data": {
      "text/plain": [
       "<keras.src.callbacks.history.History at 0x3025fe510>"
      ]
     },
     "execution_count": 107,
     "metadata": {},
     "output_type": "execute_result"
    }
   ],
   "source": [
    "model.fit(X_train_scaled,y_train,\n",
    "         epochs=3,\n",
    "         validation_data=(X_valid_scaled,y_valid))"
   ]
  },
  {
   "cell_type": "code",
   "execution_count": 108,
   "id": "b46cecd4-b1c5-47c5-b804-5d67f3868aa4",
   "metadata": {},
   "outputs": [],
   "source": [
    "class HuberMetric(tf.keras.metrics.Mean):\n",
    "    def __init__(self,threshold=1.0,name=\"HuberMetric\",dtype=None):\n",
    "        self.threshold=threshold\n",
    "        self.huber_fn=create_huber(threshold)\n",
    "        super().__init__(name=name,dtype=dtype)\n",
    "\n",
    "    def update_state(self,y_true,y_pred,sample_weight=None):\n",
    "        metric=self.huber_fn(y_true,y_pred)\n",
    "        super(HuberMetric,self).update_state(metric,sample_weight)\n",
    "\n",
    "    def get_config(self):\n",
    "        base_config=super().get_config()\n",
    "        return {**base_config,\"threshold\":self.threshold}"
   ]
  },
  {
   "cell_type": "code",
   "execution_count": 109,
   "id": "0422a774-e80d-4496-bdd0-ce325e0ea7a9",
   "metadata": {},
   "outputs": [],
   "source": [
    "tf.keras.utils.set_random_seed(42)\n",
    "\n",
    "model=tf.keras.Sequential([\n",
    "    tf.keras.layers.InputLayer(shape=input_shape),\n",
    "    tf.keras.layers.Dense(30,activation=\"relu\",\n",
    "                         kernel_initializer=\"he_normal\"),\n",
    "    tf.keras.layers.Dense(1)\n",
    "])"
   ]
  },
  {
   "cell_type": "code",
   "execution_count": 110,
   "id": "17af2193-7384-4d36-83d4-4b6e725f9d40",
   "metadata": {},
   "outputs": [],
   "source": [
    "model.compile(loss=HuberLoss(2),\n",
    "             optimizer=\"nadam\",\n",
    "                 weighted_metrics=[HuberMetric(2)])"
   ]
  },
  {
   "cell_type": "code",
   "execution_count": 111,
   "id": "d08a024e-d1dd-41d1-af04-6d6de3857212",
   "metadata": {},
   "outputs": [
    {
     "name": "stdout",
     "output_type": "stream",
     "text": [
      "Epoch 1/4\n",
      "\u001b[1m363/363\u001b[0m \u001b[32m━━━━━━━━━━━━━━━━━━━━\u001b[0m\u001b[37m\u001b[0m \u001b[1m1s\u001b[0m 689us/step - HuberMetric: 1.0599 - loss: 0.5274 - val_HuberMetric: 0.5222 - val_loss: 0.5222\n",
      "Epoch 2/4\n",
      "\u001b[1m363/363\u001b[0m \u001b[32m━━━━━━━━━━━━━━━━━━━━\u001b[0m\u001b[37m\u001b[0m \u001b[1m0s\u001b[0m 526us/step - HuberMetric: 0.3215 - loss: 0.1598 - val_HuberMetric: 0.3468 - val_loss: 0.3468\n",
      "Epoch 3/4\n",
      "\u001b[1m363/363\u001b[0m \u001b[32m━━━━━━━━━━━━━━━━━━━━\u001b[0m\u001b[37m\u001b[0m \u001b[1m0s\u001b[0m 528us/step - HuberMetric: 0.2647 - loss: 0.1316 - val_HuberMetric: 0.2743 - val_loss: 0.2743\n",
      "Epoch 4/4\n",
      "\u001b[1m363/363\u001b[0m \u001b[32m━━━━━━━━━━━━━━━━━━━━\u001b[0m\u001b[37m\u001b[0m \u001b[1m0s\u001b[0m 522us/step - HuberMetric: 0.2371 - loss: 0.1178 - val_HuberMetric: 0.2428 - val_loss: 0.2428\n"
     ]
    },
    {
     "data": {
      "text/plain": [
       "<keras.src.callbacks.history.History at 0x306f37b30>"
      ]
     },
     "execution_count": 111,
     "metadata": {},
     "output_type": "execute_result"
    }
   ],
   "source": [
    "np.random.seed(42)\n",
    "sample_weights=np.random.rand(len(y_train))\n",
    "model.fit(X_train_scaled,y_train,\n",
    "         epochs=4,\n",
    "         sample_weight=sample_weights,\n",
    "         validation_data=(X_valid_scaled,y_valid))"
   ]
  },
  {
   "cell_type": "code",
   "execution_count": 112,
   "id": "fb28b5fd-f04a-4dc2-882b-5b2692bce5fb",
   "metadata": {},
   "outputs": [],
   "source": [
    "model.save(\"my_custom_huber_metric_model_v2.keras\")"
   ]
  },
  {
   "cell_type": "code",
   "execution_count": 113,
   "id": "f0df4078-3111-42f4-9a91-61cc12fd9a01",
   "metadata": {},
   "outputs": [],
   "source": [
    "model=tf.keras.models.load_model(\"my_custom_huber_metric_model.keras\",\n",
    "                                custom_objects={\"HuberLoss\":HuberLoss,\n",
    "                                               \"HuberMetric\":HuberMetric})"
   ]
  },
  {
   "cell_type": "code",
   "execution_count": 114,
   "id": "5e37dbcd-a838-47d4-bcf2-bfd3873ad8da",
   "metadata": {},
   "outputs": [
    {
     "name": "stdout",
     "output_type": "stream",
     "text": [
      "Epoch 1/2\n",
      "\u001b[1m363/363\u001b[0m \u001b[32m━━━━━━━━━━━━━━━━━━━━\u001b[0m\u001b[37m\u001b[0m \u001b[1m0s\u001b[0m 392us/step - huber_metric_1: 0.2178 - loss: 0.2178 \n",
      "Epoch 2/2\n",
      "\u001b[1m363/363\u001b[0m \u001b[32m━━━━━━━━━━━━━━━━━━━━\u001b[0m\u001b[37m\u001b[0m \u001b[1m0s\u001b[0m 380us/step - huber_metric_1: 0.2093 - loss: 0.2093\n"
     ]
    },
    {
     "data": {
      "text/plain": [
       "<keras.src.callbacks.history.History at 0x308093f20>"
      ]
     },
     "execution_count": 114,
     "metadata": {},
     "output_type": "execute_result"
    }
   ],
   "source": [
    "model.fit(X_train_scaled,y_train,\n",
    "         epochs=2)"
   ]
  },
  {
   "cell_type": "markdown",
   "id": "0e4a5129-ed6f-4da2-917c-f1c9f006eda7",
   "metadata": {},
   "source": [
    "## Custom Layers"
   ]
  },
  {
   "cell_type": "code",
   "execution_count": 116,
   "id": "507e98e6-fb43-41f0-b494-68e4288f180f",
   "metadata": {},
   "outputs": [],
   "source": [
    "exp_layer=tf.keras.layers.Lambda(lambda x:tf.exp(x))"
   ]
  },
  {
   "cell_type": "code",
   "execution_count": 117,
   "id": "6f6d7905-86a4-4b97-b8db-9b77ed59dc28",
   "metadata": {},
   "outputs": [
    {
     "data": {
      "text/plain": [
       "<tf.Tensor: shape=(3,), dtype=float32, numpy=array([1.3533528e-01, 2.0085537e+01, 1.4841316e+02], dtype=float32)>"
      ]
     },
     "execution_count": 117,
     "metadata": {},
     "output_type": "execute_result"
    }
   ],
   "source": [
    "exp_layer(tf.constant([-2.,3.,5.]))"
   ]
  },
  {
   "cell_type": "code",
   "execution_count": 118,
   "id": "33079661-a2ac-4f76-8f1d-7ba004bb65d0",
   "metadata": {},
   "outputs": [],
   "source": [
    "tf.keras.utils.set_random_seed(42)\n",
    "\n",
    "model=tf.keras.Sequential([\n",
    "    tf.keras.layers.InputLayer(shape=input_shape),\n",
    "    tf.keras.layers.Dense(30,activation=\"relu\"),\n",
    "    tf.keras.layers.Dense(1),\n",
    "    exp_layer\n",
    "])"
   ]
  },
  {
   "cell_type": "code",
   "execution_count": 119,
   "id": "0032a3c2-6026-46cd-99d7-3facf4946e57",
   "metadata": {},
   "outputs": [],
   "source": [
    "model.compile(loss=\"mse\",optimizer=\"sgd\",metrics=[HuberLoss(2.0)])"
   ]
  },
  {
   "cell_type": "code",
   "execution_count": 120,
   "id": "6c36900f-4e19-4686-8327-42b302783c57",
   "metadata": {},
   "outputs": [
    {
     "name": "stdout",
     "output_type": "stream",
     "text": [
      "Epoch 1/2\n",
      "\u001b[1m363/363\u001b[0m \u001b[32m━━━━━━━━━━━━━━━━━━━━\u001b[0m\u001b[37m\u001b[0m \u001b[1m0s\u001b[0m 361us/step - huber_loss_5: 0.5644 - loss: 1.2350 \n",
      "Epoch 2/2\n",
      "\u001b[1m363/363\u001b[0m \u001b[32m━━━━━━━━━━━━━━━━━━━━\u001b[0m\u001b[37m\u001b[0m \u001b[1m0s\u001b[0m 345us/step - huber_loss_5: 0.2871 - loss: 0.6130\n"
     ]
    },
    {
     "data": {
      "text/plain": [
       "<keras.src.callbacks.history.History at 0x306d83890>"
      ]
     },
     "execution_count": 120,
     "metadata": {},
     "output_type": "execute_result"
    }
   ],
   "source": [
    "model.fit(X_train_scaled,y_train,\n",
    "         epochs=2)"
   ]
  },
  {
   "cell_type": "code",
   "execution_count": 121,
   "id": "7dbd6260-1687-4d26-ba00-7d86fd759994",
   "metadata": {},
   "outputs": [],
   "source": [
    "class MyDense(tf.keras.layers.Layer):\n",
    "    def __init__(self,units,activation=None,**kwargs):\n",
    "        super().__init__(**kwargs)\n",
    "        self.units=units\n",
    "        self.activation=tf.keras.activations.get(activation)\n",
    "\n",
    "    def build(self,batch_input_size):\n",
    "        self.kernel=self.add_weight(\n",
    "            name=\"kernel\",\n",
    "            initializer=\"he_normal\",\n",
    "            shape=[batch_input_size[-1],self.units]\n",
    "        )\n",
    "        self.bias=self.add_weight(\n",
    "            name=\"bias\",\n",
    "            shape=[self.units],\n",
    "            initializer=\"zeros\"\n",
    "        )\n",
    "        \n",
    "    def call(self,X):\n",
    "        return self.activation(X@self.kernel + self.bias)\n",
    "\n",
    "    def get_config(self):\n",
    "        base_config=super().get_config()\n",
    "        return {**base_config,\"units\":self.units,\n",
    "               \"activation\":tf.keras.activations.serialize(self.activation)} #Converts function to string name for saving\n"
   ]
  },
  {
   "cell_type": "code",
   "execution_count": 122,
   "id": "3913776a-62d7-4d1b-a0cc-acf64d4e4b52",
   "metadata": {},
   "outputs": [
    {
     "name": "stdout",
     "output_type": "stream",
     "text": [
      "Epoch 1/2\n",
      "\u001b[1m363/363\u001b[0m \u001b[32m━━━━━━━━━━━━━━━━━━━━\u001b[0m\u001b[37m\u001b[0m \u001b[1m0s\u001b[0m 616us/step - loss: 5.7265 - val_loss: 6.9255\n",
      "Epoch 2/2\n",
      "\u001b[1m363/363\u001b[0m \u001b[32m━━━━━━━━━━━━━━━━━━━━\u001b[0m\u001b[37m\u001b[0m \u001b[1m0s\u001b[0m 485us/step - loss: 0.9550 - val_loss: 2.6011\n"
     ]
    },
    {
     "data": {
      "text/plain": [
       "<keras.src.callbacks.history.History at 0x307516ed0>"
      ]
     },
     "execution_count": 122,
     "metadata": {},
     "output_type": "execute_result"
    }
   ],
   "source": [
    "tf.keras.utils.set_random_seed(42)\n",
    "model = tf.keras.Sequential([\n",
    "    tf.keras.layers.InputLayer(shape=input_shape),\n",
    "    MyDense(30, activation=\"relu\"),\n",
    "    MyDense(1)\n",
    "])\n",
    "model.compile(loss=\"mse\", optimizer=\"nadam\")\n",
    "model.fit(X_train_scaled, y_train, epochs=2,\n",
    "          validation_data=(X_valid_scaled, y_valid))"
   ]
  },
  {
   "cell_type": "code",
   "execution_count": 123,
   "id": "28a88524-830b-4f39-b829-4cedb33b422c",
   "metadata": {},
   "outputs": [
    {
     "name": "stdout",
     "output_type": "stream",
     "text": [
      "\u001b[1m162/162\u001b[0m \u001b[32m━━━━━━━━━━━━━━━━━━━━\u001b[0m\u001b[37m\u001b[0m \u001b[1m0s\u001b[0m 318us/step - loss: 0.7227\n"
     ]
    },
    {
     "data": {
      "text/plain": [
       "0.7036542296409607"
      ]
     },
     "execution_count": 123,
     "metadata": {},
     "output_type": "execute_result"
    }
   ],
   "source": [
    "model.evaluate(X_test_scaled,y_test)"
   ]
  },
  {
   "cell_type": "code",
   "execution_count": 124,
   "id": "41520b43-c440-446c-9bd1-f1113b47e57a",
   "metadata": {},
   "outputs": [],
   "source": [
    "model.save(\"my_custom_layer_model.keras\")"
   ]
  },
  {
   "cell_type": "code",
   "execution_count": 125,
   "id": "4f51c587-23a0-4464-a527-a3c2f4fadb75",
   "metadata": {},
   "outputs": [],
   "source": [
    "model=tf.keras.models.load_model(\"my_custom_layer_model.keras\",\n",
    "                                custom_objects={\"MyDense\":MyDense})"
   ]
  },
  {
   "cell_type": "code",
   "execution_count": 126,
   "id": "ef2fa83a-280f-4416-89db-da6102b40039",
   "metadata": {},
   "outputs": [
    {
     "name": "stdout",
     "output_type": "stream",
     "text": [
      "Epoch 1/2\n",
      "\u001b[1m363/363\u001b[0m \u001b[32m━━━━━━━━━━━━━━━━━━━━\u001b[0m\u001b[37m\u001b[0m \u001b[1m0s\u001b[0m 374us/step - loss: 0.7034 \n",
      "Epoch 2/2\n",
      "\u001b[1m363/363\u001b[0m \u001b[32m━━━━━━━━━━━━━━━━━━━━\u001b[0m\u001b[37m\u001b[0m \u001b[1m0s\u001b[0m 364us/step - loss: 0.5803\n"
     ]
    },
    {
     "data": {
      "text/plain": [
       "<keras.src.callbacks.history.History at 0x308418c20>"
      ]
     },
     "execution_count": 126,
     "metadata": {},
     "output_type": "execute_result"
    }
   ],
   "source": [
    "model.fit(X_train_scaled,y_train,\n",
    "         epochs=2)"
   ]
  },
  {
   "cell_type": "code",
   "execution_count": 127,
   "id": "8439ec42-b302-45aa-8e5c-a26f18b46229",
   "metadata": {},
   "outputs": [],
   "source": [
    "class MyMultilayer(tf.keras.layers.Layer):\n",
    "    def call(self,inputs):\n",
    "        input1,input2=inputs\n",
    "        added=input1+input2\n",
    "        multiplied=input1*input2\n",
    "        divided=input1/input2\n",
    "\n",
    "        return [added,multiplied,divided]"
   ]
  },
  {
   "cell_type": "code",
   "execution_count": 128,
   "id": "f81a3d4e-0861-4f7e-82af-c9e53996de9f",
   "metadata": {},
   "outputs": [
    {
     "data": {
      "text/plain": [
       "[<KerasTensor shape=(None, 3), dtype=float32, sparse=False, ragged=False, name=keras_tensor_50>,\n",
       " <KerasTensor shape=(None, 3), dtype=float32, sparse=False, ragged=False, name=keras_tensor_51>,\n",
       " <KerasTensor shape=(None, 3), dtype=float32, sparse=False, ragged=False, name=keras_tensor_52>]"
      ]
     },
     "execution_count": 128,
     "metadata": {},
     "output_type": "execute_result"
    }
   ],
   "source": [
    "input1=tf.keras.layers.Input(shape=[3])\n",
    "input2=tf.keras.layers.Input(shape=[3])\n",
    "\n",
    "MyMultilayer()((input1,input2))"
   ]
  },
  {
   "cell_type": "code",
   "execution_count": 129,
   "id": "46633a66-cd1c-4b56-808a-059a66c16739",
   "metadata": {},
   "outputs": [],
   "source": [
    "class MyGaussianNoise(tf.keras.layers.Layer):\n",
    "    def __init__(self,stddev,**kwargs):\n",
    "        super().__init__(**kwargs)\n",
    "        self.stddev=stddev\n",
    "\n",
    "    def call(self,X,training=None):\n",
    "        if training:\n",
    "            noise=tf.random.normal(tf.shape(X),stddev=self.stddev)\n",
    "            return X+noise\n",
    "        else:\n",
    "            return X\n",
    "        "
   ]
  },
  {
   "cell_type": "code",
   "execution_count": 130,
   "id": "c869909e-5db0-4899-b70f-5aeb402ba87a",
   "metadata": {},
   "outputs": [
    {
     "name": "stdout",
     "output_type": "stream",
     "text": [
      "Epoch 1/3\n",
      "\u001b[1m363/363\u001b[0m \u001b[32m━━━━━━━━━━━━━━━━━━━━\u001b[0m\u001b[37m\u001b[0m \u001b[1m1s\u001b[0m 678us/step - HuberMetric: 1.2976 - loss: 5.0938 - val_HuberMetric: 0.5893 - val_loss: 8.4476\n",
      "Epoch 2/3\n",
      "\u001b[1m363/363\u001b[0m \u001b[32m━━━━━━━━━━━━━━━━━━━━\u001b[0m\u001b[37m\u001b[0m \u001b[1m0s\u001b[0m 524us/step - HuberMetric: 0.5946 - loss: 1.6268 - val_HuberMetric: 0.4574 - val_loss: 3.1225\n",
      "Epoch 3/3\n",
      "\u001b[1m363/363\u001b[0m \u001b[32m━━━━━━━━━━━━━━━━━━━━\u001b[0m\u001b[37m\u001b[0m \u001b[1m0s\u001b[0m 525us/step - HuberMetric: 0.4911 - loss: 1.2658 - val_HuberMetric: 0.3873 - val_loss: 1.5090\n",
      "\u001b[1m162/162\u001b[0m \u001b[32m━━━━━━━━━━━━━━━━━━━━\u001b[0m\u001b[37m\u001b[0m \u001b[1m0s\u001b[0m 334us/step - HuberMetric: 0.3772 - loss: 0.9654\n"
     ]
    },
    {
     "data": {
      "text/plain": [
       "[0.9787654280662537, 0.37903374433517456]"
      ]
     },
     "execution_count": 130,
     "metadata": {},
     "output_type": "execute_result"
    }
   ],
   "source": [
    "tf.keras.utils.set_random_seed(42)\n",
    "\n",
    "model=tf.keras.Sequential([\n",
    "    tf.keras.layers.InputLayer(shape=input_shape),\n",
    "    MyGaussianNoise(stddev=1.0),\n",
    "    tf.keras.layers.Dense(20,activation=\"relu\",\n",
    "                         kernel_initializer=\"he_normal\"),\n",
    "    tf.keras.layers.Dense(1)\n",
    "])\n",
    "model.compile(loss=\"mse\",optimizer=\"nadam\",metrics=[HuberMetric(1)])\n",
    "model.fit(X_train_scaled,y_train,\n",
    "         epochs=3,\n",
    "         validation_data=(X_valid_scaled,y_valid))\n",
    "model.evaluate(X_test_scaled,y_test)"
   ]
  },
  {
   "cell_type": "markdown",
   "id": "3862b44d-61e5-41ea-89f5-34a4e8ec0523",
   "metadata": {},
   "source": [
    "## Custom Models"
   ]
  },
  {
   "cell_type": "code",
   "execution_count": 132,
   "id": "755bda95-454f-4322-a1f3-18590d2f390b",
   "metadata": {},
   "outputs": [],
   "source": [
    "class ResidualBlock(tf.keras.layers.Layer):\n",
    "    def __init__(self,n_layers,n_neurons,**kwargs):\n",
    "        super().__init__(**kwargs)\n",
    "        self.hidded=[tf.keras.layers.Dense(n_neurons,activation=\"relu\",\n",
    "                                          kernel_initializer=\"he_normal\")\n",
    "                    for _ in range(n_layers)]\n",
    "\n",
    "    def call(self,inputs):\n",
    "        Z=inputs\n",
    "        for layer in self.hidded:\n",
    "            Z=layer(Z)\n",
    "        return inputs+Z"
   ]
  },
  {
   "cell_type": "code",
   "execution_count": 133,
   "id": "2ec84645-cb22-4e0e-966c-8e50517baf3e",
   "metadata": {},
   "outputs": [],
   "source": [
    "class ResidualRegressor(tf.keras.Model):\n",
    "    def __init__(self,output_dim,**kwargs):\n",
    "        super().__init__(**kwargs)\n",
    "        self.output_dim=output_dim\n",
    "        self.hidden1=tf.keras.layers.Dense(30,activation=\"relu\",\n",
    "                                          kernel_initializer=\"he_normal\")\n",
    "        self.block1=ResidualBlock(2,30)\n",
    "        self.block2=ResidualBlock(2,30)\n",
    "        self.out=tf.keras.layers.Dense(output_dim)\n",
    "\n",
    "    def call(self,inputs):\n",
    "        Z=self.hidden1(inputs)\n",
    "        for _ in range(1+3):\n",
    "            Z=self.block1(Z)\n",
    "        Z=self.block2(Z)\n",
    "        return self.out(Z)\n",
    "\n",
    "    def get_config(self):\n",
    "        base_config=super().get_config()\n",
    "        return {**base_config,\"output_dim\":self.output_dim}\n",
    "    "
   ]
  },
  {
   "cell_type": "code",
   "execution_count": 134,
   "id": "8cb43134-a8ac-41c3-bf37-6c39d131c777",
   "metadata": {},
   "outputs": [
    {
     "name": "stdout",
     "output_type": "stream",
     "text": [
      "Epoch 1/3\n",
      "\u001b[1m363/363\u001b[0m \u001b[32m━━━━━━━━━━━━━━━━━━━━\u001b[0m\u001b[37m\u001b[0m \u001b[1m1s\u001b[0m 540us/step - HuberMetric: 4.6533 - loss: 123.5810    \n",
      "Epoch 2/3\n",
      "\u001b[1m363/363\u001b[0m \u001b[32m━━━━━━━━━━━━━━━━━━━━\u001b[0m\u001b[37m\u001b[0m \u001b[1m0s\u001b[0m 533us/step - HuberMetric: 0.5357 - loss: 1.5416\n",
      "Epoch 3/3\n",
      "\u001b[1m363/363\u001b[0m \u001b[32m━━━━━━━━━━━━━━━━━━━━\u001b[0m\u001b[37m\u001b[0m \u001b[1m0s\u001b[0m 533us/step - HuberMetric: 0.4112 - loss: 1.0556\n",
      "\u001b[1m162/162\u001b[0m \u001b[32m━━━━━━━━━━━━━━━━━━━━\u001b[0m\u001b[37m\u001b[0m \u001b[1m0s\u001b[0m 397us/step - HuberMetric: 0.3495 - loss: 0.8952\n"
     ]
    },
    {
     "data": {
      "text/plain": [
       "[0.9233353734016418, 0.3550209105014801]"
      ]
     },
     "execution_count": 134,
     "metadata": {},
     "output_type": "execute_result"
    }
   ],
   "source": [
    "tf.keras.utils.set_random_seed(42)\n",
    "\n",
    "model=ResidualRegressor(1)\n",
    "model.compile(loss=\"mse\",optimizer=\"nadam\",metrics=[HuberMetric(1)])\n",
    "history=model.fit(X_train_scaled,y_train,\n",
    "                 epochs=3)\n",
    "model.evaluate(X_test_scaled,y_test)"
   ]
  },
  {
   "cell_type": "code",
   "execution_count": 135,
   "id": "961f32f3-e85b-4f9e-beb3-e18b5c12749f",
   "metadata": {},
   "outputs": [],
   "source": [
    "model.save(\"my_custom_model.keras\")"
   ]
  },
  {
   "cell_type": "code",
   "execution_count": 136,
   "id": "ad1841f2-0fca-470c-b9cb-6592e478d460",
   "metadata": {},
   "outputs": [],
   "source": [
    "model=tf.keras.models.load_model(\"my_custom_model.keras\",\n",
    "                                custom_objects={\"ResidualRegressor\":ResidualRegressor,\n",
    "                                               \"HuberMetric\":HuberMetric})"
   ]
  },
  {
   "cell_type": "code",
   "execution_count": 137,
   "id": "7c62a089-14b8-4e77-b7bb-d7631a7f5e8d",
   "metadata": {},
   "outputs": [
    {
     "name": "stdout",
     "output_type": "stream",
     "text": [
      "Epoch 1/2\n",
      "\u001b[1m363/363\u001b[0m \u001b[32m━━━━━━━━━━━━━━━━━━━━\u001b[0m\u001b[37m\u001b[0m \u001b[1m1s\u001b[0m 540us/step - HuberMetric: 0.3643 - loss: 0.9670  \n",
      "Epoch 2/2\n",
      "\u001b[1m363/363\u001b[0m \u001b[32m━━━━━━━━━━━━━━━━━━━━\u001b[0m\u001b[37m\u001b[0m \u001b[1m0s\u001b[0m 542us/step - HuberMetric: 0.3556 - loss: 0.9675\n",
      "\u001b[1m162/162\u001b[0m \u001b[32m━━━━━━━━━━━━━━━━━━━━\u001b[0m\u001b[37m\u001b[0m \u001b[1m0s\u001b[0m 392us/step - HuberMetric: 0.3411 - loss: 0.9094\n"
     ]
    },
    {
     "data": {
      "text/plain": [
       "[1.007361888885498, 0.3495626747608185]"
      ]
     },
     "execution_count": 137,
     "metadata": {},
     "output_type": "execute_result"
    }
   ],
   "source": [
    "model.fit(X_train_scaled,y_train,epochs=2)\n",
    "model.evaluate(X_test_scaled,y_test)"
   ]
  },
  {
   "cell_type": "code",
   "execution_count": 138,
   "id": "f8c31fbf-f9e4-4c61-8e57-3da048f0cfe8",
   "metadata": {},
   "outputs": [],
   "source": [
    "tf.keras.utils.set_random_seed(42)\n",
    "\n",
    "block1=ResidualBlock(2,30)\n",
    "model=tf.keras.Sequential([\n",
    "    tf.keras.layers.Dense(30,activation=\"relu\",\n",
    "                         kernel_initializer=\"he_normal\"),\n",
    "    block1,\n",
    "    block1,\n",
    "    block1,\n",
    "    block1,\n",
    "    ResidualBlock(2,30),\n",
    "    tf.keras.layers.Dense(1)\n",
    "])"
   ]
  },
  {
   "cell_type": "code",
   "execution_count": 139,
   "id": "c88d11c3-3f3d-467c-adee-75c20355c280",
   "metadata": {},
   "outputs": [
    {
     "name": "stdout",
     "output_type": "stream",
     "text": [
      "Epoch 1/2\n",
      "\u001b[1m363/363\u001b[0m \u001b[32m━━━━━━━━━━━━━━━━━━━━\u001b[0m\u001b[37m\u001b[0m \u001b[1m1s\u001b[0m 530us/step - loss: 19.1188   \n",
      "Epoch 2/2\n",
      "\u001b[1m363/363\u001b[0m \u001b[32m━━━━━━━━━━━━━━━━━━━━\u001b[0m\u001b[37m\u001b[0m \u001b[1m0s\u001b[0m 560us/step - loss: 0.9171\n"
     ]
    },
    {
     "data": {
      "text/plain": [
       "<keras.src.callbacks.history.History at 0x30b100350>"
      ]
     },
     "execution_count": 139,
     "metadata": {},
     "output_type": "execute_result"
    }
   ],
   "source": [
    "model.compile(loss=\"mse\",optimizer=\"nadam\")\n",
    "model.fit(X_train_scaled,y_train,epochs=2)"
   ]
  },
  {
   "cell_type": "code",
   "execution_count": 140,
   "id": "7c01fd17-c935-4140-84f0-e1ff3d665c37",
   "metadata": {},
   "outputs": [],
   "source": [
    "model=tf.keras.Sequential([\n",
    "    tf.keras.layers.Dense(20,activation=\"relu\",kernel_initializer=\"he_normal\"),\n",
    "    ResidualBlock(2,30),\n",
    "    ResidualRegressor(1)\n",
    "])"
   ]
  },
  {
   "cell_type": "markdown",
   "id": "08200e61-3616-48c0-9642-d32748d93088",
   "metadata": {},
   "source": [
    "## Losses Based on Models Internals"
   ]
  },
  {
   "cell_type": "code",
   "execution_count": 142,
   "id": "3f0052de-7abf-4a60-a6fe-2f6c228d3f22",
   "metadata": {},
   "outputs": [],
   "source": [
    "class ReconstructingRegressor(tf.keras.Model):\n",
    "    def __init__(self,out_dim,**kwargs):\n",
    "        super().__init__(**kwargs)\n",
    "        self.hidden=[tf.keras.layers.Dense(30,activation=\"relu\",kernel_initializer=\"he_normal\")\n",
    "                    for _ in range(5)]\n",
    "        self.out=tf.keras.layers.Dense(out_dim)\n",
    "\n",
    "    def build(self,batch_input_size):\n",
    "        n_inputs=batch_input_size[-1]\n",
    "        self.reconstruct=tf.keras.layers.Dense(n_inputs)\n",
    "\n",
    "    def call(self,inputs,training=None):\n",
    "\n",
    "        Z=inputs\n",
    "        for layer in self.hidden:\n",
    "            Z=layer(Z)\n",
    "\n",
    "        reconstruction=self.reconstruct(Z)\n",
    "        reconstruction_loss=tf.reduce_mean(tf.square(reconstruction-inputs))\n",
    "        self.add_loss(0.05*reconstruction_loss)\n",
    "        return self.out(Z)"
   ]
  },
  {
   "cell_type": "code",
   "execution_count": 143,
   "id": "d04059da-173f-44cc-8cf1-ddeaa13be8b6",
   "metadata": {},
   "outputs": [
    {
     "name": "stdout",
     "output_type": "stream",
     "text": [
      "Epoch 1/3\n",
      "\u001b[1m363/363\u001b[0m \u001b[32m━━━━━━━━━━━━━━━━━━━━\u001b[0m\u001b[37m\u001b[0m \u001b[1m1s\u001b[0m 506us/step - loss: 1.1051  \n",
      "Epoch 2/3\n",
      "\u001b[1m363/363\u001b[0m \u001b[32m━━━━━━━━━━━━━━━━━━━━\u001b[0m\u001b[37m\u001b[0m \u001b[1m0s\u001b[0m 507us/step - loss: 0.5082\n",
      "Epoch 3/3\n",
      "\u001b[1m363/363\u001b[0m \u001b[32m━━━━━━━━━━━━━━━━━━━━\u001b[0m\u001b[37m\u001b[0m \u001b[1m0s\u001b[0m 496us/step - loss: 0.4392\n"
     ]
    },
    {
     "data": {
      "text/plain": [
       "<keras.src.callbacks.history.History at 0x30b167500>"
      ]
     },
     "execution_count": 143,
     "metadata": {},
     "output_type": "execute_result"
    }
   ],
   "source": [
    "tf.keras.utils.set_random_seed(42)\n",
    "\n",
    "model=ReconstructingRegressor(1)\n",
    "model.compile(loss=\"mse\",optimizer=\"nadam\")\n",
    "model.fit(X_train_scaled,y_train,\n",
    "         epochs=3)"
   ]
  },
  {
   "cell_type": "markdown",
   "id": "6aca9682-4d65-447e-a4a9-294bd0dd2c24",
   "metadata": {},
   "source": [
    "## Computing Gradients Using Auto-Diff"
   ]
  },
  {
   "cell_type": "code",
   "execution_count": 310,
   "id": "983d9966-3db9-4851-86bd-8244f85cea77",
   "metadata": {},
   "outputs": [],
   "source": [
    "def f(x,y):\n",
    "    return x*x*y+y+2.0\n",
    "\n",
    "def derivative(f,x,y,x_eps,y_eps):\n",
    "    return (f(x+x_eps,y+y_eps)-f(x,y))/(x_eps+y_eps)\n",
    "\n",
    "df_dx=derivative(f,3,4,0.00001,0)\n",
    "df_dy=derivative(f,3,4,0,0.00001)"
   ]
  },
  {
   "cell_type": "code",
   "execution_count": 312,
   "id": "730950ad-4041-42f9-8c3f-4a943b7a7c58",
   "metadata": {},
   "outputs": [
    {
     "data": {
      "text/plain": [
       "24.000039999805264"
      ]
     },
     "execution_count": 312,
     "metadata": {},
     "output_type": "execute_result"
    }
   ],
   "source": [
    "df_dx"
   ]
  },
  {
   "cell_type": "code",
   "execution_count": 314,
   "id": "66070922-2970-4d4d-95ad-0ddb9dbfc293",
   "metadata": {},
   "outputs": [
    {
     "data": {
      "text/plain": [
       "10.000000000331966"
      ]
     },
     "execution_count": 314,
     "metadata": {},
     "output_type": "execute_result"
    }
   ],
   "source": [
    "df_dy"
   ]
  },
  {
   "cell_type": "code",
   "execution_count": 318,
   "id": "769dd0e6-9cbc-4df8-8551-7506e8f2ee52",
   "metadata": {},
   "outputs": [],
   "source": [
    "w1,w2=tf.Variable(3.),tf.Variable(4.)\n",
    "with tf.GradientTape() as tape:\n",
    "    z=f(w1,w2)\n",
    "gradients = tape.gradient(z, [w1, w2])"
   ]
  },
  {
   "cell_type": "code",
   "execution_count": 320,
   "id": "b6959981-2d56-40c0-a434-5ae035d48465",
   "metadata": {},
   "outputs": [
    {
     "data": {
      "text/plain": [
       "[<tf.Tensor: shape=(), dtype=float32, numpy=24.0>,\n",
       " <tf.Tensor: shape=(), dtype=float32, numpy=10.0>]"
      ]
     },
     "execution_count": 320,
     "metadata": {},
     "output_type": "execute_result"
    }
   ],
   "source": [
    "gradients"
   ]
  },
  {
   "cell_type": "code",
   "execution_count": 324,
   "id": "a5b61286-022a-4684-b143-d5ff0397c17a",
   "metadata": {},
   "outputs": [
    {
     "name": "stdout",
     "output_type": "stream",
     "text": [
      "A non-persistent GradientTape can only be used to compute one set of gradients (or jacobians)\n"
     ]
    }
   ],
   "source": [
    "with tf.GradientTape() as tape:\n",
    "    z=f(w1,w2)\n",
    "dz_dw1=tape.gradient(z,w1)\n",
    "try:\n",
    "    dz_dw2=tape.gradient(z,w2)\n",
    "except RuntimeError as ex:\n",
    "    print(ex)"
   ]
  },
  {
   "cell_type": "code",
   "execution_count": 338,
   "id": "1ae03bc1-a94b-4c72-891c-6faa920b6d7f",
   "metadata": {},
   "outputs": [],
   "source": [
    "with tf.GradientTape(persistent=True) as tape:   \n",
    "    z=f(w1,w2)\n",
    "dz_dw1=tape.gradient(z,w1)\n",
    "dz_dw2=tape.gradient(z,w2)\n",
    "del tape\n"
   ]
  },
  {
   "cell_type": "code",
   "execution_count": 340,
   "id": "d1b93991-fe59-4037-a646-6b50ccdc600c",
   "metadata": {},
   "outputs": [
    {
     "data": {
      "text/plain": [
       "(<tf.Tensor: shape=(), dtype=float32, numpy=24.0>,\n",
       " <tf.Tensor: shape=(), dtype=float32, numpy=10.0>)"
      ]
     },
     "execution_count": 340,
     "metadata": {},
     "output_type": "execute_result"
    }
   ],
   "source": [
    "dz_dw1, dz_dw2"
   ]
  },
  {
   "cell_type": "code",
   "execution_count": 344,
   "id": "e6ed7a4a-b0fe-4a4d-af16-9fa3b1de8f4a",
   "metadata": {},
   "outputs": [],
   "source": [
    "c1,c2=tf.constant(3.),tf.constant(4.)\n",
    "with tf.GradientTape() as tape:\n",
    "    z=f(c1,c2)\n",
    "gradients=tape.gradient(z,[c1,c2])"
   ]
  },
  {
   "cell_type": "code",
   "execution_count": 346,
   "id": "79d00e75-1696-471f-842d-23467edb72b5",
   "metadata": {},
   "outputs": [
    {
     "data": {
      "text/plain": [
       "[None, None]"
      ]
     },
     "execution_count": 346,
     "metadata": {},
     "output_type": "execute_result"
    }
   ],
   "source": [
    "gradients"
   ]
  },
  {
   "cell_type": "code",
   "execution_count": 348,
   "id": "93193c51-e34a-497e-bbfd-c383c7e2ee75",
   "metadata": {},
   "outputs": [],
   "source": [
    "c1,c2=tf.constant(3.),tf.constant(4.)\n",
    "with tf.GradientTape() as tape:\n",
    "    tape.watch([c1,c2])\n",
    "    z=f(c1,c2)\n",
    "gradients=tape.gradient(z,[c1,c2])"
   ]
  },
  {
   "cell_type": "code",
   "execution_count": 350,
   "id": "ddcf805f-b1fb-4760-8cba-99f6ee856d12",
   "metadata": {},
   "outputs": [
    {
     "data": {
      "text/plain": [
       "[<tf.Tensor: shape=(), dtype=float32, numpy=24.0>,\n",
       " <tf.Tensor: shape=(), dtype=float32, numpy=10.0>]"
      ]
     },
     "execution_count": 350,
     "metadata": {},
     "output_type": "execute_result"
    }
   ],
   "source": [
    "gradients"
   ]
  },
  {
   "cell_type": "code",
   "execution_count": 354,
   "id": "94be576a-abf2-4cf4-8c7f-3442c409c7d6",
   "metadata": {},
   "outputs": [
    {
     "data": {
      "text/plain": [
       "[<tf.Tensor: shape=(), dtype=float32, numpy=126.0>,\n",
       " <tf.Tensor: shape=(), dtype=float32, numpy=30.0>]"
      ]
     },
     "execution_count": 354,
     "metadata": {},
     "output_type": "execute_result"
    }
   ],
   "source": [
    "with tf.GradientTape() as tape:\n",
    "    z1=f(w1,w2+2.)\n",
    "    z2=f(w1,w2+3.)\n",
    "    z3=f(w1,w2+4.)\n",
    "tape.gradient([z1,z2,z3],[w1,w2])"
   ]
  },
  {
   "cell_type": "code",
   "execution_count": 356,
   "id": "39db33a9-5748-4d39-8acb-21f7b9d002f0",
   "metadata": {},
   "outputs": [
    {
     "data": {
      "text/plain": [
       "[<tf.Tensor: shape=(), dtype=float32, numpy=126.0>,\n",
       " <tf.Tensor: shape=(), dtype=float32, numpy=30.0>]"
      ]
     },
     "execution_count": 356,
     "metadata": {},
     "output_type": "execute_result"
    }
   ],
   "source": [
    "with tf.GradientTape() as tape:\n",
    "    z1=f(w1,w2+2.)\n",
    "    z2=f(w1,w2+3.)\n",
    "    z3=f(w1,w2+4.)\n",
    "    z=z1,z2,z3\n",
    "tape.gradient(z,[w1,w2])\n",
    "    "
   ]
  },
  {
   "cell_type": "code",
   "execution_count": 360,
   "id": "02860a13-aa68-4523-a722-c2ab71148c29",
   "metadata": {},
   "outputs": [
    {
     "data": {
      "text/plain": [
       "[<tf.Tensor: shape=(), dtype=float32, numpy=126.0>,\n",
       " <tf.Tensor: shape=(), dtype=float32, numpy=30.0>]"
      ]
     },
     "execution_count": 360,
     "metadata": {},
     "output_type": "execute_result"
    }
   ],
   "source": [
    "with tf.GradientTape() as tape:\n",
    "    z1=f(w1,w2+2.)\n",
    "    z2=f(w1,w2+3.)\n",
    "    z3=f(w1,w2+4.)\n",
    "    output=tf.stack([z1,z2,z3])\n",
    "tape.gradient(output,[w1,w2])"
   ]
  },
  {
   "cell_type": "code",
   "execution_count": 372,
   "id": "5ad37b40-e331-42a7-9563-79eb613dfac1",
   "metadata": {},
   "outputs": [],
   "source": [
    "with tf.GradientTape(persistent=True) as hessian_tape:        # second order derivative\n",
    "    with tf.GradientTape() as jacobian_tape:                 #first order derivative\n",
    "        z=f(w1,w2)\n",
    "    jacobians=jacobian_tape.gradient(z,[w1,w2])\n",
    "hessians=[hessian_tape.gradient(jacobian,[w1,w2])\n",
    "                              for jacobian in jacobians]\n",
    "\n",
    "del hessian_tape"
   ]
  },
  {
   "cell_type": "code",
   "execution_count": 374,
   "id": "371718e0-85b9-4e65-a3ae-2882c93baf83",
   "metadata": {},
   "outputs": [
    {
     "data": {
      "text/plain": [
       "[<tf.Tensor: shape=(), dtype=float32, numpy=24.0>,\n",
       " <tf.Tensor: shape=(), dtype=float32, numpy=10.0>]"
      ]
     },
     "execution_count": 374,
     "metadata": {},
     "output_type": "execute_result"
    }
   ],
   "source": [
    "jacobians"
   ]
  },
  {
   "cell_type": "code",
   "execution_count": 376,
   "id": "2e8845ce-aad7-48a4-98d6-d255b07d4547",
   "metadata": {},
   "outputs": [
    {
     "data": {
      "text/plain": [
       "[[<tf.Tensor: shape=(), dtype=float32, numpy=8.0>,\n",
       "  <tf.Tensor: shape=(), dtype=float32, numpy=6.0>],\n",
       " [<tf.Tensor: shape=(), dtype=float32, numpy=6.0>, None]]"
      ]
     },
     "execution_count": 376,
     "metadata": {},
     "output_type": "execute_result"
    }
   ],
   "source": [
    "hessians"
   ]
  },
  {
   "cell_type": "code",
   "execution_count": 388,
   "id": "93771063-36a7-4c5e-a2b3-16e1f83be0bf",
   "metadata": {},
   "outputs": [],
   "source": [
    "def f(w1,w2):\n",
    "    return w1*w1*w2 + tf.stop_gradient(w2+2.0)\n",
    "\n",
    "with tf.GradientTape() as tape:\n",
    "    z=f(w1,w2)\n",
    "gradients=tape.gradient(z,[w1,w2])"
   ]
  },
  {
   "cell_type": "code",
   "execution_count": 402,
   "id": "019579c9-8360-4120-a3ce-7ac4011a7c9f",
   "metadata": {},
   "outputs": [
    {
     "data": {
      "text/plain": [
       "[<tf.Tensor: shape=(), dtype=float32, numpy=24.0>,\n",
       " <tf.Tensor: shape=(), dtype=float32, numpy=9.0>]"
      ]
     },
     "execution_count": 402,
     "metadata": {},
     "output_type": "execute_result"
    }
   ],
   "source": [
    "gradients"
   ]
  }
 ],
 "metadata": {
  "kernelspec": {
   "display_name": "Python [conda env:base] *",
   "language": "python",
   "name": "conda-base-py"
  },
  "language_info": {
   "codemirror_mode": {
    "name": "ipython",
    "version": 3
   },
   "file_extension": ".py",
   "mimetype": "text/x-python",
   "name": "python",
   "nbconvert_exporter": "python",
   "pygments_lexer": "ipython3",
   "version": "3.12.2"
  }
 },
 "nbformat": 4,
 "nbformat_minor": 5
}
