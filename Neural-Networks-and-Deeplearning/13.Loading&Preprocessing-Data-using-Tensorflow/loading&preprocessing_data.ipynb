{
 "cells": [
  {
   "cell_type": "markdown",
   "id": "e559a49c-49d0-4fb5-a183-bf71f55db3b1",
   "metadata": {},
   "source": [
    "# The tf.data API"
   ]
  },
  {
   "cell_type": "code",
   "execution_count": 3,
   "id": "6141f7b1-c1c3-4949-afae-2d02774692ce",
   "metadata": {},
   "outputs": [],
   "source": [
    "import tensorflow as tf"
   ]
  },
  {
   "cell_type": "code",
   "execution_count": 4,
   "id": "1672e98a-012e-43bf-a133-8650e9024f6c",
   "metadata": {},
   "outputs": [],
   "source": [
    "X=tf.constant([1,2,3,4,5,6,7,8,9])\n",
    "dataset=tf.data.Dataset.from_tensor_slices(X)"
   ]
  },
  {
   "cell_type": "code",
   "execution_count": 5,
   "id": "a839f8ea-651b-40ab-bbcd-fddfd4e1c987",
   "metadata": {},
   "outputs": [
    {
     "data": {
      "text/plain": [
       "<_TensorSliceDataset element_spec=TensorSpec(shape=(), dtype=tf.int32, name=None)>"
      ]
     },
     "execution_count": 5,
     "metadata": {},
     "output_type": "execute_result"
    }
   ],
   "source": [
    "dataset"
   ]
  },
  {
   "cell_type": "code",
   "execution_count": 6,
   "id": "851b5f6f-6bfe-4626-ab3d-bfdc96fda960",
   "metadata": {},
   "outputs": [
    {
     "name": "stdout",
     "output_type": "stream",
     "text": [
      "tf.Tensor(1, shape=(), dtype=int32)\n",
      "tf.Tensor(2, shape=(), dtype=int32)\n",
      "tf.Tensor(3, shape=(), dtype=int32)\n",
      "tf.Tensor(4, shape=(), dtype=int32)\n",
      "tf.Tensor(5, shape=(), dtype=int32)\n",
      "tf.Tensor(6, shape=(), dtype=int32)\n",
      "tf.Tensor(7, shape=(), dtype=int32)\n",
      "tf.Tensor(8, shape=(), dtype=int32)\n",
      "tf.Tensor(9, shape=(), dtype=int32)\n"
     ]
    },
    {
     "name": "stderr",
     "output_type": "stream",
     "text": [
      "2025-07-24 10:25:30.132765: I tensorflow/core/framework/local_rendezvous.cc:407] Local rendezvous is aborting with status: OUT_OF_RANGE: End of sequence\n"
     ]
    }
   ],
   "source": [
    "for item in dataset:\n",
    "    print(item)"
   ]
  },
  {
   "cell_type": "code",
   "execution_count": 7,
   "id": "fa5a055d-b455-40c1-ac0b-2a3114ec5359",
   "metadata": {},
   "outputs": [
    {
     "data": {
      "text/plain": [
       "<_TensorSliceDataset element_spec=TensorSpec(shape=(), dtype=tf.int32, name=None)>"
      ]
     },
     "execution_count": 7,
     "metadata": {},
     "output_type": "execute_result"
    }
   ],
   "source": [
    "X=tf.range(10)\n",
    "dataset=tf.data.Dataset.from_tensor_slices(X)\n",
    "dataset"
   ]
  },
  {
   "cell_type": "code",
   "execution_count": 8,
   "id": "4ed00589-f968-4dff-b3b1-37fb4621b4b6",
   "metadata": {},
   "outputs": [
    {
     "name": "stdout",
     "output_type": "stream",
     "text": [
      "tf.Tensor(0, shape=(), dtype=int32)\n",
      "tf.Tensor(1, shape=(), dtype=int32)\n",
      "tf.Tensor(2, shape=(), dtype=int32)\n",
      "tf.Tensor(3, shape=(), dtype=int32)\n",
      "tf.Tensor(4, shape=(), dtype=int32)\n",
      "tf.Tensor(5, shape=(), dtype=int32)\n",
      "tf.Tensor(6, shape=(), dtype=int32)\n",
      "tf.Tensor(7, shape=(), dtype=int32)\n",
      "tf.Tensor(8, shape=(), dtype=int32)\n",
      "tf.Tensor(9, shape=(), dtype=int32)\n"
     ]
    },
    {
     "name": "stderr",
     "output_type": "stream",
     "text": [
      "2025-07-24 10:25:30.142216: I tensorflow/core/framework/local_rendezvous.cc:407] Local rendezvous is aborting with status: OUT_OF_RANGE: End of sequence\n"
     ]
    }
   ],
   "source": [
    "for item in dataset:\n",
    "    print(item)"
   ]
  },
  {
   "cell_type": "code",
   "execution_count": 9,
   "id": "57b03733-344a-4722-8da1-74486c32d23e",
   "metadata": {},
   "outputs": [
    {
     "data": {
      "text/plain": [
       "<_RangeDataset element_spec=TensorSpec(shape=(), dtype=tf.int64, name=None)>"
      ]
     },
     "execution_count": 9,
     "metadata": {},
     "output_type": "execute_result"
    }
   ],
   "source": [
    "dataset=tf.data.Dataset.range(3)\n",
    "dataset"
   ]
  },
  {
   "cell_type": "code",
   "execution_count": 10,
   "id": "a99461ca-5a72-40d5-8d72-10b2e924c854",
   "metadata": {},
   "outputs": [
    {
     "name": "stdout",
     "output_type": "stream",
     "text": [
      "'_RangeDataset' object is not subscriptable\n"
     ]
    }
   ],
   "source": [
    "try:\n",
    "    dataset[3]\n",
    "except TypeError as ex:\n",
    "    print(ex)\n"
   ]
  },
  {
   "cell_type": "markdown",
   "id": "f06746f5-1825-44df-8c06-5c99252efddf",
   "metadata": {},
   "source": [
    "### tf.data Dataset with Structured Data"
   ]
  },
  {
   "cell_type": "markdown",
   "id": "24d10430-a863-4e7e-8a46-2967ee301724",
   "metadata": {},
   "source": [
    "#### Tuple of Tensors"
   ]
  },
  {
   "cell_type": "code",
   "execution_count": 13,
   "id": "4c29f61c-9ab4-4a37-9d1b-af926aa9f5bf",
   "metadata": {},
   "outputs": [],
   "source": [
    "X = tf.constant([[1, 2], [3, 4], [5, 6]])\n",
    "y = tf.constant([0, 1, 0])\n",
    "dataset = tf.data.Dataset.from_tensor_slices((X, y))"
   ]
  },
  {
   "cell_type": "code",
   "execution_count": 14,
   "id": "19e0297f-b1c3-4498-a64e-2f14b425dee2",
   "metadata": {},
   "outputs": [
    {
     "name": "stdout",
     "output_type": "stream",
     "text": [
      "(<tf.Tensor: shape=(2,), dtype=int32, numpy=array([1, 2], dtype=int32)>, <tf.Tensor: shape=(), dtype=int32, numpy=0>)\n",
      "(<tf.Tensor: shape=(2,), dtype=int32, numpy=array([3, 4], dtype=int32)>, <tf.Tensor: shape=(), dtype=int32, numpy=1>)\n",
      "(<tf.Tensor: shape=(2,), dtype=int32, numpy=array([5, 6], dtype=int32)>, <tf.Tensor: shape=(), dtype=int32, numpy=0>)\n"
     ]
    }
   ],
   "source": [
    "for item in dataset:\n",
    "    print(item)"
   ]
  },
  {
   "cell_type": "markdown",
   "id": "40949f46-7b98-48f2-89c6-a1da3636fb25",
   "metadata": {},
   "source": [
    "#### Dictionary of Tensors"
   ]
  },
  {
   "cell_type": "code",
   "execution_count": 16,
   "id": "6656e80d-df85-412e-9338-6f28debf5111",
   "metadata": {},
   "outputs": [],
   "source": [
    "inputs = {\n",
    "    \"feature1\": tf.constant([1.0, 2.0, 3.0]),\n",
    "    \"feature2\": tf.constant([10.0, 20.0, 30.0])\n",
    "}\n",
    "\n",
    "dataset = tf.data.Dataset.from_tensor_slices(inputs)"
   ]
  },
  {
   "cell_type": "code",
   "execution_count": 17,
   "id": "df3a415b-84d3-47a7-adf7-f3ea39c3bcc4",
   "metadata": {},
   "outputs": [
    {
     "name": "stdout",
     "output_type": "stream",
     "text": [
      "{'feature1': <tf.Tensor: shape=(), dtype=float32, numpy=1.0>, 'feature2': <tf.Tensor: shape=(), dtype=float32, numpy=10.0>}\n",
      "{'feature1': <tf.Tensor: shape=(), dtype=float32, numpy=2.0>, 'feature2': <tf.Tensor: shape=(), dtype=float32, numpy=20.0>}\n",
      "{'feature1': <tf.Tensor: shape=(), dtype=float32, numpy=3.0>, 'feature2': <tf.Tensor: shape=(), dtype=float32, numpy=30.0>}\n"
     ]
    },
    {
     "name": "stderr",
     "output_type": "stream",
     "text": [
      "2025-07-24 10:25:30.191239: I tensorflow/core/framework/local_rendezvous.cc:407] Local rendezvous is aborting with status: OUT_OF_RANGE: End of sequence\n"
     ]
    }
   ],
   "source": [
    "for item in dataset:\n",
    "    print(item)"
   ]
  },
  {
   "cell_type": "markdown",
   "id": "b859da1d-15f0-4dd8-b341-3d0445d6694f",
   "metadata": {},
   "source": [
    "####  Nested Tuple + Dictionary"
   ]
  },
  {
   "cell_type": "code",
   "execution_count": 19,
   "id": "dcbd1bac-4e81-4fca-8562-eeb653e200ba",
   "metadata": {},
   "outputs": [],
   "source": [
    "X = tf.constant([[1, 2], [3, 4], [5, 6]])\n",
    "y = tf.constant([0, 1, 0])\n",
    "meta = tf.constant([100, 200, 300])\n",
    "\n",
    "dataset = tf.data.Dataset.from_tensor_slices(((X, meta), y))"
   ]
  },
  {
   "cell_type": "code",
   "execution_count": 20,
   "id": "e762262a-be0b-4a0d-b8b1-9630416b887e",
   "metadata": {},
   "outputs": [
    {
     "name": "stdout",
     "output_type": "stream",
     "text": [
      "((<tf.Tensor: shape=(2,), dtype=int32, numpy=array([1, 2], dtype=int32)>, <tf.Tensor: shape=(), dtype=int32, numpy=100>), <tf.Tensor: shape=(), dtype=int32, numpy=0>) \n",
      "\n",
      "((<tf.Tensor: shape=(2,), dtype=int32, numpy=array([3, 4], dtype=int32)>, <tf.Tensor: shape=(), dtype=int32, numpy=200>), <tf.Tensor: shape=(), dtype=int32, numpy=1>) \n",
      "\n",
      "((<tf.Tensor: shape=(2,), dtype=int32, numpy=array([5, 6], dtype=int32)>, <tf.Tensor: shape=(), dtype=int32, numpy=300>), <tf.Tensor: shape=(), dtype=int32, numpy=0>) \n",
      "\n"
     ]
    }
   ],
   "source": [
    "for item in dataset:\n",
    "    print(item,\"\\n\")"
   ]
  },
  {
   "cell_type": "markdown",
   "id": "4689c7df-71b9-472f-af7c-8204525816d7",
   "metadata": {},
   "source": [
    "## Chaining Transformations"
   ]
  },
  {
   "cell_type": "code",
   "execution_count": 22,
   "id": "59ce5c3e-c772-4f65-a25e-c3a9166aeab1",
   "metadata": {},
   "outputs": [],
   "source": [
    "dataset=tf.data.Dataset.from_tensor_slices(tf.range(10))\n",
    "dataset=dataset.repeat(3).batch(7)"
   ]
  },
  {
   "cell_type": "code",
   "execution_count": 23,
   "id": "5dd7d515-549f-4fa5-b5be-18b0e6712a89",
   "metadata": {},
   "outputs": [
    {
     "name": "stdout",
     "output_type": "stream",
     "text": [
      "tf.Tensor([0 1 2 3 4 5 6], shape=(7,), dtype=int32)\n",
      "tf.Tensor([7 8 9 0 1 2 3], shape=(7,), dtype=int32)\n",
      "tf.Tensor([4 5 6 7 8 9 0], shape=(7,), dtype=int32)\n",
      "tf.Tensor([1 2 3 4 5 6 7], shape=(7,), dtype=int32)\n",
      "tf.Tensor([8 9], shape=(2,), dtype=int32)\n"
     ]
    }
   ],
   "source": [
    "for item in dataset:\n",
    "    print(item)"
   ]
  },
  {
   "cell_type": "code",
   "execution_count": 24,
   "id": "bc7eced5-536f-45de-83b8-ef921a24ddc1",
   "metadata": {},
   "outputs": [
    {
     "name": "stdout",
     "output_type": "stream",
     "text": [
      "tf.Tensor([ 0  2  4  6  8 10 12], shape=(7,), dtype=int32)\n",
      "tf.Tensor([14 16 18  0  2  4  6], shape=(7,), dtype=int32)\n",
      "tf.Tensor([ 8 10 12 14 16 18  0], shape=(7,), dtype=int32)\n",
      "tf.Tensor([ 2  4  6  8 10 12 14], shape=(7,), dtype=int32)\n",
      "tf.Tensor([16 18], shape=(2,), dtype=int32)\n"
     ]
    }
   ],
   "source": [
    "dataset=dataset.map(lambda x:x*2)   # x is a batch\n",
    "for item in dataset:\n",
    "    print(item)"
   ]
  },
  {
   "cell_type": "code",
   "execution_count": 25,
   "id": "220cdf00-a4b3-4fa1-8d46-51de40a47cca",
   "metadata": {},
   "outputs": [
    {
     "name": "stdout",
     "output_type": "stream",
     "text": [
      "tf.Tensor([14 16 18  0  2  4  6], shape=(7,), dtype=int32)\n",
      "tf.Tensor([ 8 10 12 14 16 18  0], shape=(7,), dtype=int32)\n",
      "tf.Tensor([ 2  4  6  8 10 12 14], shape=(7,), dtype=int32)\n"
     ]
    },
    {
     "name": "stderr",
     "output_type": "stream",
     "text": [
      "2025-07-24 10:25:30.260082: I tensorflow/core/framework/local_rendezvous.cc:407] Local rendezvous is aborting with status: OUT_OF_RANGE: End of sequence\n"
     ]
    }
   ],
   "source": [
    "dataset=dataset.filter(lambda x:tf.reduce_sum(x)>50)  # x is a batch\n",
    "for item in dataset:\n",
    "    print(item)"
   ]
  },
  {
   "cell_type": "code",
   "execution_count": 26,
   "id": "5937ac37-fbce-482b-9bae-ddd42cb9c999",
   "metadata": {},
   "outputs": [
    {
     "name": "stdout",
     "output_type": "stream",
     "text": [
      "tf.Tensor([14 16 18  0  2  4  6], shape=(7,), dtype=int32)\n",
      "tf.Tensor([ 8 10 12 14 16 18  0], shape=(7,), dtype=int32)\n"
     ]
    }
   ],
   "source": [
    "for item in dataset.take(2):\n",
    "    print(item)"
   ]
  },
  {
   "cell_type": "code",
   "execution_count": 27,
   "id": "48e0dc7f-93a3-47d2-87d3-52f6fa7f5008",
   "metadata": {},
   "outputs": [
    {
     "name": "stdout",
     "output_type": "stream",
     "text": [
      "Processing 3\n",
      "Processing 5\n",
      "Processing 7\n",
      "Processing 1\n",
      "Processing 6\n",
      "Processing 0\n",
      "Processing 4\n",
      "Processing 2\n",
      "0\n",
      "1\n",
      "Processing 8\n",
      "Processing 9\n",
      "4\n",
      "9\n",
      "16\n",
      "25\n",
      "36\n",
      "49\n",
      "64\n",
      "81\n"
     ]
    }
   ],
   "source": [
    "import time\n",
    "\n",
    "def slow_map_fn(x):\n",
    "    tf.print(\"Processing\", x)\n",
    "    time.sleep(1)  # simulate slow processing\n",
    "    return x * x\n",
    "\n",
    "dataset=tf.data.Dataset.range(10)\n",
    "dataset=dataset.map(lambda x: tf.py_function(slow_map_fn, [x], tf.int64)\n",
    "                      ,num_parallel_calls=tf.data.AUTOTUNE)\n",
    "for item in dataset:\n",
    "    print(item.numpy())"
   ]
  },
  {
   "cell_type": "markdown",
   "id": "23849cd5-90d9-4a2d-aac0-0a4ea7b0c392",
   "metadata": {},
   "source": [
    "## Shuffling the data"
   ]
  },
  {
   "cell_type": "code",
   "execution_count": 29,
   "id": "db4058f9-65b3-4664-b95b-06cc7fe7ac1c",
   "metadata": {},
   "outputs": [
    {
     "name": "stdout",
     "output_type": "stream",
     "text": [
      "tf.Tensor([4 5 6 7 8 9], shape=(6,), dtype=int64)\n",
      "tf.Tensor([0 1 2 3 4 5 6], shape=(7,), dtype=int64)\n",
      "tf.Tensor([7 8 9 0 1 2 3], shape=(7,), dtype=int64)\n"
     ]
    }
   ],
   "source": [
    "#This will shuffle batches\n",
    "dataset=tf.data.Dataset.range(10).repeat(2).batch(7)\n",
    "dataset=dataset.shuffle(buffer_size=4)\n",
    "for item in dataset:\n",
    "    print(item)"
   ]
  },
  {
   "cell_type": "code",
   "execution_count": 30,
   "id": "822e0cc4-168d-4b42-9201-a5b869add36b",
   "metadata": {},
   "outputs": [
    {
     "name": "stdout",
     "output_type": "stream",
     "text": [
      "tf.Tensor([ 1 10 11  8  2 12  4], shape=(7,), dtype=int64)\n",
      "tf.Tensor([ 3 14  6 17  9 15 13], shape=(7,), dtype=int64)\n",
      "tf.Tensor([19 16  0  7  5 18], shape=(6,), dtype=int64)\n"
     ]
    }
   ],
   "source": [
    "#This Shuffles individual elements\n",
    "dataset=tf.data.Dataset.range(20)\n",
    "dataset=dataset.shuffle(buffer_size=10).batch(7)\n",
    "for item in dataset:\n",
    "    print(item)"
   ]
  },
  {
   "cell_type": "markdown",
   "id": "44580456-e5f4-48b2-88a8-e39bcf10ac88",
   "metadata": {},
   "source": [
    "## Interleaving lines from multiple files"
   ]
  },
  {
   "cell_type": "code",
   "execution_count": 32,
   "id": "7f26388a-e9b5-4a4d-a5f7-d41e457cc60f",
   "metadata": {},
   "outputs": [],
   "source": [
    "from sklearn.datasets import fetch_california_housing\n",
    "from sklearn.model_selection import train_test_split\n",
    "\n",
    "housing=fetch_california_housing()\n",
    "X_train_full,X_test,y_train_full,y_test=train_test_split(housing.data,\n",
    "                                                         housing.target.reshape(-1,1),random_state=42)\n",
    "X_train,X_valid,y_train,y_valid=train_test_split(X_train_full,y_train_full,random_state=42)"
   ]
  },
  {
   "cell_type": "code",
   "execution_count": 33,
   "id": "c99a616b-049b-4072-937e-89e44872fa87",
   "metadata": {},
   "outputs": [],
   "source": [
    "from pathlib import Path\n",
    "import numpy as np\n",
    "\n",
    "def save_to_csv_files(data,name_prefix,header=None,n_parts=10):\n",
    "    housing_dir=Path()/\"datasets\"/\"housing\"\n",
    "    housing_dir.mkdir(parents=True,exist_ok=True)\n",
    "    filename_format=\"my_{}_{:02d}.csv\"\n",
    "\n",
    "    filepaths=[]\n",
    "    m=len(data)\n",
    "    chunks=np.array_split(np.arange(m),n_parts)\n",
    "\n",
    "    for file_idx,row_indices in enumerate(chunks):\n",
    "        part_csv=housing_dir/filename_format.format(name_prefix,file_idx)\n",
    "        filepaths.append(str(part_csv))\n",
    "        with open(part_csv,\"w\") as f:\n",
    "            if header is not None:\n",
    "                f.write(header)\n",
    "                f.write(\"\\n\")\n",
    "            for row_idx in row_indices:\n",
    "                f.write(\",\".join([str(col) for col in data[row_idx]]))\n",
    "                f.write(\"\\n\")\n",
    "    return filepaths\n",
    "\n",
    "train_data=np.c_[X_train,y_train]\n",
    "valid_data=np.c_[X_valid,y_valid]\n",
    "test_data=np.c_[X_test,y_test]\n",
    "header_cols=housing.feature_names+[\"MedianHouseValue\"]\n",
    "header=\",\".join(header_cols)\n"
   ]
  },
  {
   "cell_type": "code",
   "execution_count": 34,
   "id": "74ce1529-9454-481f-b4c6-84d4dbb7c0cd",
   "metadata": {},
   "outputs": [],
   "source": [
    "train_filepaths=save_to_csv_files(train_data,\"train\",header,n_parts=20)\n",
    "valid_filepaths=save_to_csv_files(valid_data,\"valid\",header,n_parts=10)\n",
    "test_filepaths=save_to_csv_files(test_data,\"test\",header,n_parts=10)"
   ]
  },
  {
   "cell_type": "code",
   "execution_count": 35,
   "id": "d9f3931a-0f94-4ee9-a12f-cef8722b451a",
   "metadata": {},
   "outputs": [
    {
     "name": "stdout",
     "output_type": "stream",
     "text": [
      "MedInc,HouseAge,AveRooms,AveBedrms,Population,AveOccup,Latitude,Longitude,MedianHouseValue\n",
      "3.5214,15.0,3.0499445061043287,1.106548279689234,1447.0,1.6059933407325193,37.63,-122.43,1.442\n",
      "5.3275,5.0,6.490059642147117,0.9910536779324056,3464.0,3.4433399602385686,33.69,-117.39,1.687\n",
      "3.1,29.0,7.5423728813559325,1.5915254237288134,1328.0,2.2508474576271187,38.44,-122.98,1.621\n",
      "\n"
     ]
    }
   ],
   "source": [
    "print(\"\".join(open(train_filepaths[0]).readlines()[:4]))"
   ]
  },
  {
   "cell_type": "code",
   "execution_count": 36,
   "id": "02332a5f-e0dd-4553-931a-3e5e27c47c7c",
   "metadata": {},
   "outputs": [
    {
     "data": {
      "text/plain": [
       "['datasets/housing/my_train_00.csv',\n",
       " 'datasets/housing/my_train_01.csv',\n",
       " 'datasets/housing/my_train_02.csv',\n",
       " 'datasets/housing/my_train_03.csv',\n",
       " 'datasets/housing/my_train_04.csv',\n",
       " 'datasets/housing/my_train_05.csv',\n",
       " 'datasets/housing/my_train_06.csv',\n",
       " 'datasets/housing/my_train_07.csv',\n",
       " 'datasets/housing/my_train_08.csv',\n",
       " 'datasets/housing/my_train_09.csv',\n",
       " 'datasets/housing/my_train_10.csv',\n",
       " 'datasets/housing/my_train_11.csv',\n",
       " 'datasets/housing/my_train_12.csv',\n",
       " 'datasets/housing/my_train_13.csv',\n",
       " 'datasets/housing/my_train_14.csv',\n",
       " 'datasets/housing/my_train_15.csv',\n",
       " 'datasets/housing/my_train_16.csv',\n",
       " 'datasets/housing/my_train_17.csv',\n",
       " 'datasets/housing/my_train_18.csv',\n",
       " 'datasets/housing/my_train_19.csv']"
      ]
     },
     "execution_count": 36,
     "metadata": {},
     "output_type": "execute_result"
    }
   ],
   "source": [
    "train_filepaths"
   ]
  },
  {
   "cell_type": "code",
   "execution_count": 37,
   "id": "df034332-18a5-45ad-8ce3-9b0ad074d086",
   "metadata": {},
   "outputs": [
    {
     "data": {
      "text/plain": [
       "['datasets/housing/my_test_00.csv',\n",
       " 'datasets/housing/my_test_01.csv',\n",
       " 'datasets/housing/my_test_02.csv',\n",
       " 'datasets/housing/my_test_03.csv',\n",
       " 'datasets/housing/my_test_04.csv',\n",
       " 'datasets/housing/my_test_05.csv',\n",
       " 'datasets/housing/my_test_06.csv',\n",
       " 'datasets/housing/my_test_07.csv',\n",
       " 'datasets/housing/my_test_08.csv',\n",
       " 'datasets/housing/my_test_09.csv']"
      ]
     },
     "execution_count": 37,
     "metadata": {},
     "output_type": "execute_result"
    }
   ],
   "source": [
    "test_filepaths"
   ]
  },
  {
   "cell_type": "markdown",
   "id": "498947c3-841b-409e-af5c-424a566efcc2",
   "metadata": {},
   "source": [
    "#### Building an Input Pipeline"
   ]
  },
  {
   "cell_type": "code",
   "execution_count": 39,
   "id": "f6a7aaf1-23ce-4b78-b70d-7fd3ed448e69",
   "metadata": {},
   "outputs": [],
   "source": [
    "filepath_dataset=tf.data.Dataset.list_files(train_filepaths,seed=42)"
   ]
  },
  {
   "cell_type": "code",
   "execution_count": 40,
   "id": "d0d931fc-0ccb-4e32-90e7-b7a3e963593e",
   "metadata": {},
   "outputs": [
    {
     "name": "stdout",
     "output_type": "stream",
     "text": [
      "tf.Tensor(b'datasets/housing/my_train_05.csv', shape=(), dtype=string)\n",
      "tf.Tensor(b'datasets/housing/my_train_16.csv', shape=(), dtype=string)\n",
      "tf.Tensor(b'datasets/housing/my_train_01.csv', shape=(), dtype=string)\n",
      "tf.Tensor(b'datasets/housing/my_train_17.csv', shape=(), dtype=string)\n",
      "tf.Tensor(b'datasets/housing/my_train_00.csv', shape=(), dtype=string)\n",
      "tf.Tensor(b'datasets/housing/my_train_14.csv', shape=(), dtype=string)\n",
      "tf.Tensor(b'datasets/housing/my_train_10.csv', shape=(), dtype=string)\n",
      "tf.Tensor(b'datasets/housing/my_train_02.csv', shape=(), dtype=string)\n",
      "tf.Tensor(b'datasets/housing/my_train_12.csv', shape=(), dtype=string)\n",
      "tf.Tensor(b'datasets/housing/my_train_19.csv', shape=(), dtype=string)\n",
      "tf.Tensor(b'datasets/housing/my_train_07.csv', shape=(), dtype=string)\n",
      "tf.Tensor(b'datasets/housing/my_train_09.csv', shape=(), dtype=string)\n",
      "tf.Tensor(b'datasets/housing/my_train_13.csv', shape=(), dtype=string)\n",
      "tf.Tensor(b'datasets/housing/my_train_15.csv', shape=(), dtype=string)\n",
      "tf.Tensor(b'datasets/housing/my_train_11.csv', shape=(), dtype=string)\n",
      "tf.Tensor(b'datasets/housing/my_train_18.csv', shape=(), dtype=string)\n",
      "tf.Tensor(b'datasets/housing/my_train_04.csv', shape=(), dtype=string)\n",
      "tf.Tensor(b'datasets/housing/my_train_06.csv', shape=(), dtype=string)\n",
      "tf.Tensor(b'datasets/housing/my_train_03.csv', shape=(), dtype=string)\n",
      "tf.Tensor(b'datasets/housing/my_train_08.csv', shape=(), dtype=string)\n"
     ]
    }
   ],
   "source": [
    "for filepath in filepath_dataset:\n",
    "    print(filepath)"
   ]
  },
  {
   "cell_type": "code",
   "execution_count": 41,
   "id": "cc28c80a-6715-49e3-b4c0-db7b0f4e9c97",
   "metadata": {},
   "outputs": [],
   "source": [
    "n_readers=5\n",
    "dataset=filepath_dataset.interleave(\n",
    "    lambda filepath:tf.data.TextLineDataset(filepath).skip(1),\n",
    "    cycle_length=n_readers\n",
    ")"
   ]
  },
  {
   "cell_type": "code",
   "execution_count": 42,
   "id": "03996f80-b406-4b41-92ee-42f92e834e46",
   "metadata": {},
   "outputs": [
    {
     "name": "stdout",
     "output_type": "stream",
     "text": [
      "tf.Tensor(b'4.5909,16.0,5.475877192982456,1.0964912280701755,1357.0,2.9758771929824563,33.63,-117.71,2.418', shape=(), dtype=string)\n",
      "tf.Tensor(b'2.4792,24.0,3.4547038327526134,1.1341463414634145,2251.0,3.921602787456446,34.18,-118.38,2.0', shape=(), dtype=string)\n",
      "tf.Tensor(b'4.2708,45.0,5.121387283236994,0.953757225433526,492.0,2.8439306358381504,37.48,-122.19,2.67', shape=(), dtype=string)\n",
      "tf.Tensor(b'2.1856,41.0,3.7189873417721517,1.0658227848101265,803.0,2.0329113924050635,32.76,-117.12,1.205', shape=(), dtype=string)\n"
     ]
    }
   ],
   "source": [
    "for line in dataset.take(4):\n",
    "    print(line)"
   ]
  }
 ],
 "metadata": {
  "kernelspec": {
   "display_name": "Python [conda env:base] *",
   "language": "python",
   "name": "conda-base-py"
  },
  "language_info": {
   "codemirror_mode": {
    "name": "ipython",
    "version": 3
   },
   "file_extension": ".py",
   "mimetype": "text/x-python",
   "name": "python",
   "nbconvert_exporter": "python",
   "pygments_lexer": "ipython3",
   "version": "3.12.2"
  }
 },
 "nbformat": 4,
 "nbformat_minor": 5
}
