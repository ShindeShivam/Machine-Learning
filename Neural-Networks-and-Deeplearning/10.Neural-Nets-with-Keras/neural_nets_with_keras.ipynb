{
 "cells": [
  {
   "cell_type": "markdown",
   "id": "2a03894b-fc32-49bf-95de-046659f6f68b",
   "metadata": {},
   "source": [
    "# From Biological to Artificial Neurons"
   ]
  },
  {
   "cell_type": "markdown",
   "id": "56f91445-b221-4de9-b680-1eca73054d46",
   "metadata": {},
   "source": [
    "## The Perceptron"
   ]
  },
  {
   "cell_type": "code",
   "execution_count": 4,
   "id": "09e798e8-ae11-45e6-a8f6-d8924f4aad3b",
   "metadata": {},
   "outputs": [
    {
     "data": {
      "text/plain": [
       "array([False,  True])"
      ]
     },
     "execution_count": 4,
     "metadata": {},
     "output_type": "execute_result"
    }
   ],
   "source": [
    "import numpy as np\n",
    "import pandas as pd \n",
    "import matplotlib.pyplot as plt\n",
    "from sklearn.datasets import load_iris\n",
    "from sklearn.linear_model import Perceptron\n",
    "\n",
    "iris=load_iris(as_frame=True)\n",
    "X=iris.data[[\"petal length (cm)\", \"petal width (cm)\"]].values\n",
    "y=(iris.target==0) #Iris Setosa\n",
    "\n",
    "per_clf=Perceptron(random_state=42)\n",
    "per_clf.fit(X,y)\n",
    "\n",
    "X_new=np.array([[1,3],[2,0.4]])\n",
    "y_pred=per_clf.predict(X_new)\n",
    "y_pred"
   ]
  },
  {
   "cell_type": "code",
   "execution_count": 5,
   "id": "cbaf36f2-bfec-4a19-a137-6f43f76ff73c",
   "metadata": {},
   "outputs": [],
   "source": [
    "from sklearn.linear_model import SGDClassifier\n",
    "\n",
    "sgd_clf=SGDClassifier(loss=\"perceptron\",penalty=None,learning_rate=\"constant\",eta0=1,random_state=42)\n",
    "sgd_clf.fit(X,y)\n",
    "assert (sgd_clf.coef_==per_clf.coef_).all()\n",
    "assert (sgd_clf.intercept_==per_clf.intercept_).all()"
   ]
  },
  {
   "cell_type": "markdown",
   "id": "7f1c0740-222c-4615-a853-9dd7b77816bf",
   "metadata": {},
   "source": [
    "## Regression MLPs"
   ]
  },
  {
   "cell_type": "code",
   "execution_count": 7,
   "id": "f1d7fcb4-ec5a-4cc0-91ea-6d1e8850f709",
   "metadata": {},
   "outputs": [],
   "source": [
    "from sklearn.neural_network import MLPRegressor\n",
    "from sklearn.pipeline import make_pipeline\n",
    "from sklearn.datasets import fetch_california_housing\n",
    "from sklearn.preprocessing import StandardScaler\n",
    "from sklearn.model_selection import train_test_split\n",
    "from sklearn.metrics import root_mean_squared_error\n",
    "\n",
    "housing=fetch_california_housing()\n",
    "X_train_full,X_test,y_full_train,y_test=train_test_split(housing.data,housing.target,random_state=42)\n",
    "X_train,X_valid,y_train,y_valid=train_test_split(X_train_full,y_full_train,random_state=42)\n",
    "\n",
    "\n",
    "mlp_reg=MLPRegressor(hidden_layer_sizes=[50,50,50],random_state=42)\n",
    "model=make_pipeline(StandardScaler(),mlp_reg)\n",
    "model.fit(X_train,y_train)\n",
    "y_pred=model.predict(X_valid)\n",
    "rmse=root_mean_squared_error(y_valid,y_pred)"
   ]
  },
  {
   "cell_type": "code",
   "execution_count": 8,
   "id": "4c6904c9-66e0-482f-bf0c-aafdbf2057b2",
   "metadata": {},
   "outputs": [
    {
     "data": {
      "text/plain": [
       "0.5053326657968762"
      ]
     },
     "execution_count": 8,
     "metadata": {},
     "output_type": "execute_result"
    }
   ],
   "source": [
    "rmse"
   ]
  },
  {
   "cell_type": "markdown",
   "id": "b6711fdb-8be0-4671-a56d-6d068036b0db",
   "metadata": {},
   "source": [
    "## Classification MLPs"
   ]
  },
  {
   "cell_type": "code",
   "execution_count": 10,
   "id": "d435a738-a572-4246-9083-cad5452ff2fe",
   "metadata": {},
   "outputs": [
    {
     "data": {
      "text/plain": [
       "1.0"
      ]
     },
     "execution_count": 10,
     "metadata": {},
     "output_type": "execute_result"
    }
   ],
   "source": [
    "from sklearn.neural_network import MLPClassifier\n",
    "\n",
    "X_train_full,X_test,y_full_train,y_test=train_test_split(iris.data,iris.target,test_size=0.1,random_state=42)\n",
    "X_train,X_valid,y_train,y_valid=train_test_split(X_train_full,y_full_train,test_size=0.1,random_state=42)\n",
    "\n",
    "mlp_clf=MLPClassifier(hidden_layer_sizes=[5],max_iter=10000,random_state=42)\n",
    "model=make_pipeline(StandardScaler(),mlp_clf)\n",
    "model.fit(X_train,y_train)\n",
    "accuracy=model.score(X_valid,y_valid)\n",
    "accuracy\n"
   ]
  },
  {
   "cell_type": "markdown",
   "id": "93d7ce16-4976-4f38-9d98-bdfdc047b1b5",
   "metadata": {},
   "source": [
    "# Implementing MLPs with Keras"
   ]
  },
  {
   "cell_type": "markdown",
   "id": "ae2f47f3-b2f5-4d5e-a3c3-1e30d5686a48",
   "metadata": {},
   "source": [
    "## Building an Image Classifier Using the Sequential API"
   ]
  },
  {
   "cell_type": "code",
   "execution_count": 13,
   "id": "be54245f-b360-40c0-a3b7-d39cb50a9700",
   "metadata": {},
   "outputs": [],
   "source": [
    "import tensorflow as tf\n",
    "\n",
    "fashion_mnist=tf.keras.datasets.fashion_mnist.load_data()\n",
    "(X_train_full,y_train_full),(X_test,y_test)=fashion_mnist\n",
    "\n",
    "X_train,y_train=X_train_full[:-5000],y_train_full[:-5000]\n",
    "X_valid,y_valid=X_train_full[-5000:],y_train_full[-5000:]"
   ]
  },
  {
   "cell_type": "code",
   "execution_count": 14,
   "id": "ec816247-7aa8-44fb-aaf9-9f37dfbb90eb",
   "metadata": {},
   "outputs": [
    {
     "data": {
      "text/plain": [
       "(55000, 28, 28)"
      ]
     },
     "execution_count": 14,
     "metadata": {},
     "output_type": "execute_result"
    }
   ],
   "source": [
    "X_train.shape"
   ]
  },
  {
   "cell_type": "code",
   "execution_count": 15,
   "id": "27d17a95-d7bd-402f-98cb-01bcb8408357",
   "metadata": {},
   "outputs": [
    {
     "data": {
      "text/plain": [
       "dtype('uint8')"
      ]
     },
     "execution_count": 15,
     "metadata": {},
     "output_type": "execute_result"
    }
   ],
   "source": [
    "X_train.dtype"
   ]
  },
  {
   "cell_type": "code",
   "execution_count": 16,
   "id": "ae70afc9-2084-42c5-842d-3ee550bcbd3a",
   "metadata": {},
   "outputs": [],
   "source": [
    "X_train,X_valid,X_test=X_train/255.,X_valid/255.,X_test/255."
   ]
  },
  {
   "cell_type": "code",
   "execution_count": 17,
   "id": "068c3e32-fca0-4889-9f18-1292f1e1e442",
   "metadata": {},
   "outputs": [
    {
     "data": {
      "image/png": "[encoded data removed]",
      "text/plain": [
       "<Figure size 640x480 with 1 Axes>"
      ]
     },
     "metadata": {},
     "output_type": "display_data"
    }
   ],
   "source": [
    "plt.imshow(X_train[0],cmap=\"binary\")\n",
    "plt.axis(\"off\")\n",
    "plt.show()"
   ]
  },
  {
   "cell_type": "code",
   "execution_count": 18,
   "id": "ee117e68-0653-4bef-96e0-dc4623271bd3",
   "metadata": {},
   "outputs": [
    {
     "data": {
      "text/plain": [
       "array([9, 0, 0, ..., 9, 0, 2], dtype=uint8)"
      ]
     },
     "execution_count": 18,
     "metadata": {},
     "output_type": "execute_result"
    }
   ],
   "source": [
    "y_train"
   ]
  },
  {
   "cell_type": "code",
   "execution_count": 19,
   "id": "c79ad185-20e0-4660-9478-bb6368283268",
   "metadata": {},
   "outputs": [],
   "source": [
    "class_names = [\"T-shirt/top\", \"Trouser\", \"Pullover\", \"Dress\", \"Coat\",\n",
    "               \"Sandal\", \"Shirt\", \"Sneaker\", \"Bag\", \"Ankle boot\"]"
   ]
  },
  {
   "cell_type": "code",
   "execution_count": 20,
   "id": "e8c576dc-5aa5-4777-b3a8-320a33761603",
   "metadata": {},
   "outputs": [
    {
     "data": {
      "image/png": "[encoded data removed]",
      "text/plain": [
       "<Figure size 1100x400 with 50 Axes>"
      ]
     },
     "metadata": {},
     "output_type": "display_data"
    }
   ],
   "source": [
    "plt.figure(figsize=(11,4))\n",
    "for idx,image_data in enumerate(X_train[:50]):\n",
    "    plt.subplot(5,10,idx+1)\n",
    "    plt.imshow(X_train[idx],cmap=\"binary\",interpolation=\"nearest\")\n",
    "    plt.title(class_names[y_train[idx]],fontsize=8)\n",
    "    plt.axis(\"off\")\n",
    "plt.subplots_adjust(wspace=0.2, hspace=0.4)\n",
    "plt.show()"
   ]
  },
  {
   "cell_type": "markdown",
   "id": "9e0feba4-be8b-41b5-83e4-a293065a8a28",
   "metadata": {},
   "source": [
    "### Creating the model using Sequential API"
   ]
  },
  {
   "cell_type": "code",
   "execution_count": 22,
   "id": "a8194490-6310-402d-b1ae-0f4dd8c05e41",
   "metadata": {},
   "outputs": [],
   "source": [
    "tf.random.set_seed(42)\n",
    "model=tf.keras.Sequential()\n",
    "model.add(tf.keras.layers.InputLayer(shape=[28,28]))\n",
    "model.add(tf.keras.layers.Flatten())\n",
    "model.add(tf.keras.layers.Dense(300,activation=\"relu\"))\n",
    "model.add(tf.keras.layers.Dense(100,activation=\"relu\"))\n",
    "model.add(tf.keras.layers.Dense(10,activation=\"softmax\"))"
   ]
  },
  {
   "cell_type": "code",
   "execution_count": 23,
   "id": "fa0d8933-211c-4b7f-bb94-066d638c2b1e",
   "metadata": {},
   "outputs": [
    {
     "data": {
      "text/html": [
       "<pre style=\"white-space:pre;overflow-x:auto;line-height:normal;font-family:Menlo,'DejaVu Sans Mono',consolas,'Courier New',monospace\"><span style=\"font-weight: bold\">Model: \"sequential\"</span>\n",
       "</pre>\n"
      ],
      "text/plain": [
       "\u001b[1mModel: \"sequential\"\u001b[0m\n"
      ]
     },
     "metadata": {},
     "output_type": "display_data"
    },
    {
     "data": {
      "text/html": [
       "<pre style=\"white-space:pre;overflow-x:auto;line-height:normal;font-family:Menlo,'DejaVu Sans Mono',consolas,'Courier New',monospace\">┏━━━━━━━━━━━━━━━━━━━━━━━━━━━━━━━━━┳━━━━━━━━━━━━━━━━━━━━━━━━┳━━━━━━━━━━━━━━━┓\n",
       "┃<span style=\"font-weight: bold\"> Layer (type)                    </span>┃<span style=\"font-weight: bold\"> Output Shape           </span>┃<span style=\"font-weight: bold\">       Param # </span>┃\n",
       "┡━━━━━━━━━━━━━━━━━━━━━━━━━━━━━━━━━╇━━━━━━━━━━━━━━━━━━━━━━━━╇━━━━━━━━━━━━━━━┩\n",
       "│ flatten (<span style=\"color: #0087ff; text-decoration-color: #0087ff\">Flatten</span>)               │ (<span style=\"color: #00d7ff; text-decoration-color: #00d7ff\">None</span>, <span style=\"color: #00af00; text-decoration-color: #00af00\">784</span>)            │             <span style=\"color: #00af00; text-decoration-color: #00af00\">0</span> │\n",
       "├─────────────────────────────────┼────────────────────────┼───────────────┤\n",
       "│ dense (<span style=\"color: #0087ff; text-decoration-color: #0087ff\">Dense</span>)                   │ (<span style=\"color: #00d7ff; text-decoration-color: #00d7ff\">None</span>, <span style=\"color: #00af00; text-decoration-color: #00af00\">300</span>)            │       <span style=\"color: #00af00; text-decoration-color: #00af00\">235,500</span> │\n",
       "├─────────────────────────────────┼────────────────────────┼───────────────┤\n",
       "│ dense_1 (<span style=\"color: #0087ff; text-decoration-color: #0087ff\">Dense</span>)                 │ (<span style=\"color: #00d7ff; text-decoration-color: #00d7ff\">None</span>, <span style=\"color: #00af00; text-decoration-color: #00af00\">100</span>)            │        <span style=\"color: #00af00; text-decoration-color: #00af00\">30,100</span> │\n",
       "├─────────────────────────────────┼────────────────────────┼───────────────┤\n",
       "│ dense_2 (<span style=\"color: #0087ff; text-decoration-color: #0087ff\">Dense</span>)                 │ (<span style=\"color: #00d7ff; text-decoration-color: #00d7ff\">None</span>, <span style=\"color: #00af00; text-decoration-color: #00af00\">10</span>)             │         <span style=\"color: #00af00; text-decoration-color: #00af00\">1,010</span> │\n",
       "└─────────────────────────────────┴────────────────────────┴───────────────┘\n",
       "</pre>\n"
      ],
      "text/plain": [
       "┏━━━━━━━━━━━━━━━━━━━━━━━━━━━━━━━━━┳━━━━━━━━━━━━━━━━━━━━━━━━┳━━━━━━━━━━━━━━━┓\n",
       "┃\u001b[1m \u001b[0m\u001b[1mLayer (type)                   \u001b[0m\u001b[1m \u001b[0m┃\u001b[1m \u001b[0m\u001b[1mOutput Shape          \u001b[0m\u001b[1m \u001b[0m┃\u001b[1m \u001b[0m\u001b[1m      Param #\u001b[0m\u001b[1m \u001b[0m┃\n",
       "┡━━━━━━━━━━━━━━━━━━━━━━━━━━━━━━━━━╇━━━━━━━━━━━━━━━━━━━━━━━━╇━━━━━━━━━━━━━━━┩\n",
       "│ flatten (\u001b[38;5;33mFlatten\u001b[0m)               │ (\u001b[38;5;45mNone\u001b[0m, \u001b[38;5;34m784\u001b[0m)            │             \u001b[38;5;34m0\u001b[0m │\n",
       "├─────────────────────────────────┼────────────────────────┼───────────────┤\n",
       "│ dense (\u001b[38;5;33mDense\u001b[0m)                   │ (\u001b[38;5;45mNone\u001b[0m, \u001b[38;5;34m300\u001b[0m)            │       \u001b[38;5;34m235,500\u001b[0m │\n",
       "├─────────────────────────────────┼────────────────────────┼───────────────┤\n",
       "│ dense_1 (\u001b[38;5;33mDense\u001b[0m)                 │ (\u001b[38;5;45mNone\u001b[0m, \u001b[38;5;34m100\u001b[0m)            │        \u001b[38;5;34m30,100\u001b[0m │\n",
       "├─────────────────────────────────┼────────────────────────┼───────────────┤\n",
       "│ dense_2 (\u001b[38;5;33mDense\u001b[0m)                 │ (\u001b[38;5;45mNone\u001b[0m, \u001b[38;5;34m10\u001b[0m)             │         \u001b[38;5;34m1,010\u001b[0m │\n",
       "└─────────────────────────────────┴────────────────────────┴───────────────┘\n"
      ]
     },
     "metadata": {},
     "output_type": "display_data"
    },
    {
     "data": {
      "text/html": [
       "<pre style=\"white-space:pre;overflow-x:auto;line-height:normal;font-family:Menlo,'DejaVu Sans Mono',consolas,'Courier New',monospace\"><span style=\"font-weight: bold\"> Total params: </span><span style=\"color: #00af00; text-decoration-color: #00af00\">266,610</span> (1.02 MB)\n",
       "</pre>\n"
      ],
      "text/plain": [
       "\u001b[1m Total params: \u001b[0m\u001b[38;5;34m266,610\u001b[0m (1.02 MB)\n"
      ]
     },
     "metadata": {},
     "output_type": "display_data"
    },
    {
     "data": {
      "text/html": [
       "<pre style=\"white-space:pre;overflow-x:auto;line-height:normal;font-family:Menlo,'DejaVu Sans Mono',consolas,'Courier New',monospace\"><span style=\"font-weight: bold\"> Trainable params: </span><span style=\"color: #00af00; text-decoration-color: #00af00\">266,610</span> (1.02 MB)\n",
       "</pre>\n"
      ],
      "text/plain": [
       "\u001b[1m Trainable params: \u001b[0m\u001b[38;5;34m266,610\u001b[0m (1.02 MB)\n"
      ]
     },
     "metadata": {},
     "output_type": "display_data"
    },
    {
     "data": {
      "text/html": [
       "<pre style=\"white-space:pre;overflow-x:auto;line-height:normal;font-family:Menlo,'DejaVu Sans Mono',consolas,'Courier New',monospace\"><span style=\"font-weight: bold\"> Non-trainable params: </span><span style=\"color: #00af00; text-decoration-color: #00af00\">0</span> (0.00 B)\n",
       "</pre>\n"
      ],
      "text/plain": [
       "\u001b[1m Non-trainable params: \u001b[0m\u001b[38;5;34m0\u001b[0m (0.00 B)\n"
      ]
     },
     "metadata": {},
     "output_type": "display_data"
    }
   ],
   "source": [
    "model.summary()"
   ]
  },
  {
   "cell_type": "code",
   "execution_count": 24,
   "id": "676ad34c-c03b-40aa-b077-7957ebbc479f",
   "metadata": {},
   "outputs": [],
   "source": [
    "tf.keras.backend.clear_session()\n",
    "tf.random.set_seed(42)\n",
    "\n",
    "model=tf.keras.Sequential([\n",
    "    tf.keras.layers.InputLayer(shape=[28,28]),\n",
    "    tf.keras.layers.Flatten(),\n",
    "    tf.keras.layers.Dense(300,activation=\"relu\"),\n",
    "    tf.keras.layers.Dense(100,activation=\"relu\"),\n",
    "    tf.keras.layers.Dense(10,activation=\"softmax\")\n",
    "])\n"
   ]
  },
  {
   "cell_type": "code",
   "execution_count": 25,
   "id": "dbc791e5-e12e-4739-a849-dab8c41755cc",
   "metadata": {},
   "outputs": [
    {
     "data": {
      "text/html": [
       "<pre style=\"white-space:pre;overflow-x:auto;line-height:normal;font-family:Menlo,'DejaVu Sans Mono',consolas,'Courier New',monospace\"><span style=\"font-weight: bold\">Model: \"sequential\"</span>\n",
       "</pre>\n"
      ],
      "text/plain": [
       "\u001b[1mModel: \"sequential\"\u001b[0m\n"
      ]
     },
     "metadata": {},
     "output_type": "display_data"
    },
    {
     "data": {
      "text/html": [
       "<pre style=\"white-space:pre;overflow-x:auto;line-height:normal;font-family:Menlo,'DejaVu Sans Mono',consolas,'Courier New',monospace\">┏━━━━━━━━━━━━━━━━━━━━━━━━━━━━━━━━━┳━━━━━━━━━━━━━━━━━━━━━━━━┳━━━━━━━━━━━━━━━┓\n",
       "┃<span style=\"font-weight: bold\"> Layer (type)                    </span>┃<span style=\"font-weight: bold\"> Output Shape           </span>┃<span style=\"font-weight: bold\">       Param # </span>┃\n",
       "┡━━━━━━━━━━━━━━━━━━━━━━━━━━━━━━━━━╇━━━━━━━━━━━━━━━━━━━━━━━━╇━━━━━━━━━━━━━━━┩\n",
       "│ flatten (<span style=\"color: #0087ff; text-decoration-color: #0087ff\">Flatten</span>)               │ (<span style=\"color: #00d7ff; text-decoration-color: #00d7ff\">None</span>, <span style=\"color: #00af00; text-decoration-color: #00af00\">784</span>)            │             <span style=\"color: #00af00; text-decoration-color: #00af00\">0</span> │\n",
       "├─────────────────────────────────┼────────────────────────┼───────────────┤\n",
       "│ dense (<span style=\"color: #0087ff; text-decoration-color: #0087ff\">Dense</span>)                   │ (<span style=\"color: #00d7ff; text-decoration-color: #00d7ff\">None</span>, <span style=\"color: #00af00; text-decoration-color: #00af00\">300</span>)            │       <span style=\"color: #00af00; text-decoration-color: #00af00\">235,500</span> │\n",
       "├─────────────────────────────────┼────────────────────────┼───────────────┤\n",
       "│ dense_1 (<span style=\"color: #0087ff; text-decoration-color: #0087ff\">Dense</span>)                 │ (<span style=\"color: #00d7ff; text-decoration-color: #00d7ff\">None</span>, <span style=\"color: #00af00; text-decoration-color: #00af00\">100</span>)            │        <span style=\"color: #00af00; text-decoration-color: #00af00\">30,100</span> │\n",
       "├─────────────────────────────────┼────────────────────────┼───────────────┤\n",
       "│ dense_2 (<span style=\"color: #0087ff; text-decoration-color: #0087ff\">Dense</span>)                 │ (<span style=\"color: #00d7ff; text-decoration-color: #00d7ff\">None</span>, <span style=\"color: #00af00; text-decoration-color: #00af00\">10</span>)             │         <span style=\"color: #00af00; text-decoration-color: #00af00\">1,010</span> │\n",
       "└─────────────────────────────────┴────────────────────────┴───────────────┘\n",
       "</pre>\n"
      ],
      "text/plain": [
       "┏━━━━━━━━━━━━━━━━━━━━━━━━━━━━━━━━━┳━━━━━━━━━━━━━━━━━━━━━━━━┳━━━━━━━━━━━━━━━┓\n",
       "┃\u001b[1m \u001b[0m\u001b[1mLayer (type)                   \u001b[0m\u001b[1m \u001b[0m┃\u001b[1m \u001b[0m\u001b[1mOutput Shape          \u001b[0m\u001b[1m \u001b[0m┃\u001b[1m \u001b[0m\u001b[1m      Param #\u001b[0m\u001b[1m \u001b[0m┃\n",
       "┡━━━━━━━━━━━━━━━━━━━━━━━━━━━━━━━━━╇━━━━━━━━━━━━━━━━━━━━━━━━╇━━━━━━━━━━━━━━━┩\n",
       "│ flatten (\u001b[38;5;33mFlatten\u001b[0m)               │ (\u001b[38;5;45mNone\u001b[0m, \u001b[38;5;34m784\u001b[0m)            │             \u001b[38;5;34m0\u001b[0m │\n",
       "├─────────────────────────────────┼────────────────────────┼───────────────┤\n",
       "│ dense (\u001b[38;5;33mDense\u001b[0m)                   │ (\u001b[38;5;45mNone\u001b[0m, \u001b[38;5;34m300\u001b[0m)            │       \u001b[38;5;34m235,500\u001b[0m │\n",
       "├─────────────────────────────────┼────────────────────────┼───────────────┤\n",
       "│ dense_1 (\u001b[38;5;33mDense\u001b[0m)                 │ (\u001b[38;5;45mNone\u001b[0m, \u001b[38;5;34m100\u001b[0m)            │        \u001b[38;5;34m30,100\u001b[0m │\n",
       "├─────────────────────────────────┼────────────────────────┼───────────────┤\n",
       "│ dense_2 (\u001b[38;5;33mDense\u001b[0m)                 │ (\u001b[38;5;45mNone\u001b[0m, \u001b[38;5;34m10\u001b[0m)             │         \u001b[38;5;34m1,010\u001b[0m │\n",
       "└─────────────────────────────────┴────────────────────────┴───────────────┘\n"
      ]
     },
     "metadata": {},
     "output_type": "display_data"
    },
    {
     "data": {
      "text/html": [
       "<pre style=\"white-space:pre;overflow-x:auto;line-height:normal;font-family:Menlo,'DejaVu Sans Mono',consolas,'Courier New',monospace\"><span style=\"font-weight: bold\"> Total params: </span><span style=\"color: #00af00; text-decoration-color: #00af00\">266,610</span> (1.02 MB)\n",
       "</pre>\n"
      ],
      "text/plain": [
       "\u001b[1m Total params: \u001b[0m\u001b[38;5;34m266,610\u001b[0m (1.02 MB)\n"
      ]
     },
     "metadata": {},
     "output_type": "display_data"
    },
    {
     "data": {
      "text/html": [
       "<pre style=\"white-space:pre;overflow-x:auto;line-height:normal;font-family:Menlo,'DejaVu Sans Mono',consolas,'Courier New',monospace\"><span style=\"font-weight: bold\"> Trainable params: </span><span style=\"color: #00af00; text-decoration-color: #00af00\">266,610</span> (1.02 MB)\n",
       "</pre>\n"
      ],
      "text/plain": [
       "\u001b[1m Trainable params: \u001b[0m\u001b[38;5;34m266,610\u001b[0m (1.02 MB)\n"
      ]
     },
     "metadata": {},
     "output_type": "display_data"
    },
    {
     "data": {
      "text/html": [
       "<pre style=\"white-space:pre;overflow-x:auto;line-height:normal;font-family:Menlo,'DejaVu Sans Mono',consolas,'Courier New',monospace\"><span style=\"font-weight: bold\"> Non-trainable params: </span><span style=\"color: #00af00; text-decoration-color: #00af00\">0</span> (0.00 B)\n",
       "</pre>\n"
      ],
      "text/plain": [
       "\u001b[1m Non-trainable params: \u001b[0m\u001b[38;5;34m0\u001b[0m (0.00 B)\n"
      ]
     },
     "metadata": {},
     "output_type": "display_data"
    }
   ],
   "source": [
    "model.summary()"
   ]
  },
  {
   "cell_type": "code",
   "execution_count": 26,
   "id": "0092aa31-4b06-4289-a161-03682f9099d0",
   "metadata": {},
   "outputs": [
    {
     "data": {
      "image/png": "[encoded data removed]",
      "text/plain": [
       "<IPython.core.display.Image object>"
      ]
     },
     "execution_count": 26,
     "metadata": {},
     "output_type": "execute_result"
    }
   ],
   "source": [
    "tf.keras.utils.plot_model(model,show_shapes=True,dpi=50)"
   ]
  },
  {
   "cell_type": "code",
   "execution_count": 27,
   "id": "8613749b-0c8e-41eb-8b88-f9ef004e0b9b",
   "metadata": {},
   "outputs": [
    {
     "data": {
      "text/plain": [
       "[<Flatten name=flatten, built=True>,\n",
       " <Dense name=dense, built=True>,\n",
       " <Dense name=dense_1, built=True>,\n",
       " <Dense name=dense_2, built=True>]"
      ]
     },
     "execution_count": 27,
     "metadata": {},
     "output_type": "execute_result"
    }
   ],
   "source": [
    "model.layers"
   ]
  },
  {
   "cell_type": "code",
   "execution_count": 28,
   "id": "3c0fdc67-2010-4b28-8a3c-a1847c73eccd",
   "metadata": {},
   "outputs": [],
   "source": [
    "hidden1=model.layers[1]"
   ]
  },
  {
   "cell_type": "code",
   "execution_count": 29,
   "id": "3ac8c739-c6b9-4a03-9a39-0829cecedbec",
   "metadata": {},
   "outputs": [
    {
     "data": {
      "text/plain": [
       "True"
      ]
     },
     "execution_count": 29,
     "metadata": {},
     "output_type": "execute_result"
    }
   ],
   "source": [
    "model.get_layer('dense') is hidden1"
   ]
  },
  {
   "cell_type": "code",
   "execution_count": 30,
   "id": "a27e65de-bce5-419b-bedd-1f19e40f0dcb",
   "metadata": {},
   "outputs": [],
   "source": [
    "weights,biases=hidden1.get_weights()"
   ]
  },
  {
   "cell_type": "code",
   "execution_count": 31,
   "id": "52f009c6-262c-48f7-93bb-574385ce61b2",
   "metadata": {},
   "outputs": [
    {
     "data": {
      "text/plain": [
       "array([[-6.8636984e-02, -2.4114877e-02,  3.5783865e-02, ...,\n",
       "         4.6367638e-02, -5.8682799e-02, -4.3020949e-02],\n",
       "       [ 6.1821386e-02, -1.7650355e-02,  7.2617531e-02, ...,\n",
       "         5.0272167e-02,  6.6527918e-02,  5.1280394e-02],\n",
       "       [-5.4046869e-02,  5.2294344e-02,  7.2769389e-02, ...,\n",
       "         4.3046594e-02, -7.1219735e-02,  1.4287978e-04],\n",
       "       ...,\n",
       "       [ 1.5617557e-02, -1.7769635e-05,  1.5861936e-02, ...,\n",
       "        -3.5547830e-02,  5.2238330e-03, -5.4598674e-02],\n",
       "       [-4.9939007e-04,  6.0459778e-02,  5.5197418e-02, ...,\n",
       "        -3.3370048e-02, -4.4022106e-02,  5.7805717e-02],\n",
       "       [-6.7424670e-02, -5.7352386e-02,  1.1909708e-02, ...,\n",
       "         4.5479417e-02, -1.1886045e-02, -3.8607005e-02]], dtype=float32)"
      ]
     },
     "execution_count": 31,
     "metadata": {},
     "output_type": "execute_result"
    }
   ],
   "source": [
    "weights"
   ]
  },
  {
   "cell_type": "code",
   "execution_count": 32,
   "id": "a82553db-3998-43db-b3f7-4964f4360e58",
   "metadata": {},
   "outputs": [
    {
     "data": {
      "text/plain": [
       "(784, 300)"
      ]
     },
     "execution_count": 32,
     "metadata": {},
     "output_type": "execute_result"
    }
   ],
   "source": [
    "weights.shape"
   ]
  },
  {
   "cell_type": "code",
   "execution_count": 33,
   "id": "fdf00f1a-0c89-42f9-addd-7dfdd47dcbd5",
   "metadata": {},
   "outputs": [
    {
     "data": {
      "text/plain": [
       "array([0., 0., 0., 0., 0., 0., 0., 0., 0., 0., 0., 0., 0., 0., 0., 0., 0.,\n",
       "       0., 0., 0., 0., 0., 0., 0., 0., 0., 0., 0., 0., 0., 0., 0., 0., 0.,\n",
       "       0., 0., 0., 0., 0., 0., 0., 0., 0., 0., 0., 0., 0., 0., 0., 0., 0.,\n",
       "       0., 0., 0., 0., 0., 0., 0., 0., 0., 0., 0., 0., 0., 0., 0., 0., 0.,\n",
       "       0., 0., 0., 0., 0., 0., 0., 0., 0., 0., 0., 0., 0., 0., 0., 0., 0.,\n",
       "       0., 0., 0., 0., 0., 0., 0., 0., 0., 0., 0., 0., 0., 0., 0., 0., 0.,\n",
       "       0., 0., 0., 0., 0., 0., 0., 0., 0., 0., 0., 0., 0., 0., 0., 0., 0.,\n",
       "       0., 0., 0., 0., 0., 0., 0., 0., 0., 0., 0., 0., 0., 0., 0., 0., 0.,\n",
       "       0., 0., 0., 0., 0., 0., 0., 0., 0., 0., 0., 0., 0., 0., 0., 0., 0.,\n",
       "       0., 0., 0., 0., 0., 0., 0., 0., 0., 0., 0., 0., 0., 0., 0., 0., 0.,\n",
       "       0., 0., 0., 0., 0., 0., 0., 0., 0., 0., 0., 0., 0., 0., 0., 0., 0.,\n",
       "       0., 0., 0., 0., 0., 0., 0., 0., 0., 0., 0., 0., 0., 0., 0., 0., 0.,\n",
       "       0., 0., 0., 0., 0., 0., 0., 0., 0., 0., 0., 0., 0., 0., 0., 0., 0.,\n",
       "       0., 0., 0., 0., 0., 0., 0., 0., 0., 0., 0., 0., 0., 0., 0., 0., 0.,\n",
       "       0., 0., 0., 0., 0., 0., 0., 0., 0., 0., 0., 0., 0., 0., 0., 0., 0.,\n",
       "       0., 0., 0., 0., 0., 0., 0., 0., 0., 0., 0., 0., 0., 0., 0., 0., 0.,\n",
       "       0., 0., 0., 0., 0., 0., 0., 0., 0., 0., 0., 0., 0., 0., 0., 0., 0.,\n",
       "       0., 0., 0., 0., 0., 0., 0., 0., 0., 0., 0.], dtype=float32)"
      ]
     },
     "execution_count": 33,
     "metadata": {},
     "output_type": "execute_result"
    }
   ],
   "source": [
    "biases"
   ]
  },
  {
   "cell_type": "code",
   "execution_count": 34,
   "id": "f36acbd5-00ec-4913-8394-f15b40724869",
   "metadata": {},
   "outputs": [
    {
     "data": {
      "text/plain": [
       "(300,)"
      ]
     },
     "execution_count": 34,
     "metadata": {},
     "output_type": "execute_result"
    }
   ],
   "source": [
    "biases.shape"
   ]
  },
  {
   "cell_type": "markdown",
   "id": "3918e9bb-6da5-495c-a965-862e2e703c7f",
   "metadata": {},
   "source": [
    "#### Compiling the Model"
   ]
  },
  {
   "cell_type": "code",
   "execution_count": 36,
   "id": "4f629c6b-d28a-4a91-9a18-71d68e13785b",
   "metadata": {},
   "outputs": [],
   "source": [
    "model.compile(loss=\"sparse_categorical_crossentropy\",\n",
    "             optimizer=\"sgd\",\n",
    "             metrics=[\"accuracy\"])\n"
   ]
  },
  {
   "cell_type": "code",
   "execution_count": 37,
   "id": "b1daf9c9-88bc-481f-913f-7643b6b6ef9c",
   "metadata": {},
   "outputs": [],
   "source": [
    "#this cell is equivalent to above cell\n",
    "model.compile(loss=tf.keras.losses.sparse_categorical_crossentropy,\n",
    "             optimizer=tf.keras.optimizers.SGD(),\n",
    "              metrics=[tf.keras.metrics.sparse_categorical_accuracy]\n",
    "             )"
   ]
  },
  {
   "cell_type": "code",
   "execution_count": 38,
   "id": "34ab15ef-72c9-4719-b617-519c5c65b30d",
   "metadata": {},
   "outputs": [
    {
     "data": {
      "text/plain": [
       "array([[0., 0., 1., 0., 0., 0., 0., 0., 0., 0.],\n",
       "       [0., 0., 0., 0., 0., 1., 0., 0., 0., 0.],\n",
       "       [0., 0., 0., 0., 0., 0., 1., 0., 0., 0.],\n",
       "       [0., 0., 0., 1., 0., 0., 0., 0., 0., 0.]])"
      ]
     },
     "execution_count": 38,
     "metadata": {},
     "output_type": "execute_result"
    }
   ],
   "source": [
    "tf.keras.utils.to_categorical([2,5,6,3],num_classes=10)"
   ]
  },
  {
   "cell_type": "code",
   "execution_count": 39,
   "id": "6df709c0-0353-4a0e-b043-9a481296c674",
   "metadata": {},
   "outputs": [
    {
     "data": {
      "text/plain": [
       "array([2, 5, 6, 3])"
      ]
     },
     "execution_count": 39,
     "metadata": {},
     "output_type": "execute_result"
    }
   ],
   "source": [
    "np.argmax([[0., 0., 1., 0., 0., 0., 0., 0., 0., 0.],\n",
    "       [0., 0., 0., 0., 0., 1., 0., 0., 0., 0.],\n",
    "       [0., 0., 0., 0., 0., 0., 1., 0., 0., 0.],\n",
    "       [0., 0., 0., 1., 0., 0., 0., 0., 0., 0.]],\n",
    "        axis=1)"
   ]
  },
  {
   "cell_type": "markdown",
   "id": "e55f53f4-753f-46b7-8b96-237370cddfb8",
   "metadata": {},
   "source": [
    "#### Training and evaluating the model"
   ]
  },
  {
   "cell_type": "code",
   "execution_count": 41,
   "id": "9598aa88-64d4-4036-8d0d-5004d685410f",
   "metadata": {},
   "outputs": [
    {
     "name": "stdout",
     "output_type": "stream",
     "text": [
      "Epoch 1/30\n",
      "\u001b[1m1719/1719\u001b[0m \u001b[32m━━━━━━━━━━━━━━━━━━━━\u001b[0m\u001b[37m\u001b[0m \u001b[1m2s\u001b[0m 893us/step - loss: 0.9969 - sparse_categorical_accuracy: 0.6713 - val_loss: 0.5032 - val_sparse_categorical_accuracy: 0.8282\n",
      "Epoch 2/30\n",
      "\u001b[1m1719/1719\u001b[0m \u001b[32m━━━━━━━━━━━━━━━━━━━━\u001b[0m\u001b[37m\u001b[0m \u001b[1m1s\u001b[0m 834us/step - loss: 0.5063 - sparse_categorical_accuracy: 0.8268 - val_loss: 0.4544 - val_sparse_categorical_accuracy: 0.8388\n",
      "Epoch 3/30\n",
      "\u001b[1m1719/1719\u001b[0m \u001b[32m━━━━━━━━━━━━━━━━━━━━\u001b[0m\u001b[37m\u001b[0m \u001b[1m2s\u001b[0m 869us/step - loss: 0.4551 - sparse_categorical_accuracy: 0.8422 - val_loss: 0.4305 - val_sparse_categorical_accuracy: 0.8458\n",
      "Epoch 4/30\n",
      "\u001b[1m1719/1719\u001b[0m \u001b[32m━━━━━━━━━━━━━━━━━━━━\u001b[0m\u001b[37m\u001b[0m \u001b[1m1s\u001b[0m 859us/step - loss: 0.4260 - sparse_categorical_accuracy: 0.8525 - val_loss: 0.4157 - val_sparse_categorical_accuracy: 0.8514\n",
      "Epoch 5/30\n",
      "\u001b[1m1719/1719\u001b[0m \u001b[32m━━━━━━━━━━━━━━━━━━━━\u001b[0m\u001b[37m\u001b[0m \u001b[1m2s\u001b[0m 943us/step - loss: 0.4049 - sparse_categorical_accuracy: 0.8582 - val_loss: 0.4047 - val_sparse_categorical_accuracy: 0.8550\n",
      "Epoch 6/30\n",
      "\u001b[1m1719/1719\u001b[0m \u001b[32m━━━━━━━━━━━━━━━━━━━━\u001b[0m\u001b[37m\u001b[0m \u001b[1m2s\u001b[0m 923us/step - loss: 0.3881 - sparse_categorical_accuracy: 0.8636 - val_loss: 0.3950 - val_sparse_categorical_accuracy: 0.8592\n",
      "Epoch 7/30\n",
      "\u001b[1m1719/1719\u001b[0m \u001b[32m━━━━━━━━━━━━━━━━━━━━\u001b[0m\u001b[37m\u001b[0m \u001b[1m2s\u001b[0m 941us/step - loss: 0.3739 - sparse_categorical_accuracy: 0.8683 - val_loss: 0.3871 - val_sparse_categorical_accuracy: 0.8608\n",
      "Epoch 8/30\n",
      "\u001b[1m1719/1719\u001b[0m \u001b[32m━━━━━━━━━━━━━━━━━━━━\u001b[0m\u001b[37m\u001b[0m \u001b[1m2s\u001b[0m 964us/step - loss: 0.3615 - sparse_categorical_accuracy: 0.8729 - val_loss: 0.3825 - val_sparse_categorical_accuracy: 0.8616\n",
      "Epoch 9/30\n",
      "\u001b[1m1719/1719\u001b[0m \u001b[32m━━━━━━━━━━━━━━━━━━━━\u001b[0m\u001b[37m\u001b[0m \u001b[1m2s\u001b[0m 1ms/step - loss: 0.3504 - sparse_categorical_accuracy: 0.8758 - val_loss: 0.3755 - val_sparse_categorical_accuracy: 0.8650\n",
      "Epoch 10/30\n",
      "\u001b[1m1719/1719\u001b[0m \u001b[32m━━━━━━━━━━━━━━━━━━━━\u001b[0m\u001b[37m\u001b[0m \u001b[1m2s\u001b[0m 956us/step - loss: 0.3405 - sparse_categorical_accuracy: 0.8791 - val_loss: 0.3709 - val_sparse_categorical_accuracy: 0.8664\n",
      "Epoch 11/30\n",
      "\u001b[1m1719/1719\u001b[0m \u001b[32m━━━━━━━━━━━━━━━━━━━━\u001b[0m\u001b[37m\u001b[0m \u001b[1m2s\u001b[0m 904us/step - loss: 0.3314 - sparse_categorical_accuracy: 0.8822 - val_loss: 0.3654 - val_sparse_categorical_accuracy: 0.8688\n",
      "Epoch 12/30\n",
      "\u001b[1m1719/1719\u001b[0m \u001b[32m━━━━━━━━━━━━━━━━━━━━\u001b[0m\u001b[37m\u001b[0m \u001b[1m2s\u001b[0m 907us/step - loss: 0.3228 - sparse_categorical_accuracy: 0.8852 - val_loss: 0.3629 - val_sparse_categorical_accuracy: 0.8700\n",
      "Epoch 13/30\n",
      "\u001b[1m1719/1719\u001b[0m \u001b[32m━━━━━━━━━━━━━━━━━━━━\u001b[0m\u001b[37m\u001b[0m \u001b[1m2s\u001b[0m 987us/step - loss: 0.3152 - sparse_categorical_accuracy: 0.8876 - val_loss: 0.3611 - val_sparse_categorical_accuracy: 0.8708\n",
      "Epoch 14/30\n",
      "\u001b[1m1719/1719\u001b[0m \u001b[32m━━━━━━━━━━━━━━━━━━━━\u001b[0m\u001b[37m\u001b[0m \u001b[1m2s\u001b[0m 868us/step - loss: 0.3078 - sparse_categorical_accuracy: 0.8901 - val_loss: 0.3577 - val_sparse_categorical_accuracy: 0.8708\n",
      "Epoch 15/30\n",
      "\u001b[1m1719/1719\u001b[0m \u001b[32m━━━━━━━━━━━━━━━━━━━━\u001b[0m\u001b[37m\u001b[0m \u001b[1m2s\u001b[0m 873us/step - loss: 0.3010 - sparse_categorical_accuracy: 0.8923 - val_loss: 0.3559 - val_sparse_categorical_accuracy: 0.8718\n",
      "Epoch 16/30\n",
      "\u001b[1m1719/1719\u001b[0m \u001b[32m━━━━━━━━━━━━━━━━━━━━\u001b[0m\u001b[37m\u001b[0m \u001b[1m2s\u001b[0m 902us/step - loss: 0.2945 - sparse_categorical_accuracy: 0.8945 - val_loss: 0.3555 - val_sparse_categorical_accuracy: 0.8708\n",
      "Epoch 17/30\n",
      "\u001b[1m1719/1719\u001b[0m \u001b[32m━━━━━━━━━━━━━━━━━━━━\u001b[0m\u001b[37m\u001b[0m \u001b[1m1s\u001b[0m 847us/step - loss: 0.2885 - sparse_categorical_accuracy: 0.8965 - val_loss: 0.3538 - val_sparse_categorical_accuracy: 0.8718\n",
      "Epoch 18/30\n",
      "\u001b[1m1719/1719\u001b[0m \u001b[32m━━━━━━━━━━━━━━━━━━━━\u001b[0m\u001b[37m\u001b[0m \u001b[1m2s\u001b[0m 882us/step - loss: 0.2826 - sparse_categorical_accuracy: 0.8985 - val_loss: 0.3528 - val_sparse_categorical_accuracy: 0.8730\n",
      "Epoch 19/30\n",
      "\u001b[1m1719/1719\u001b[0m \u001b[32m━━━━━━━━━━━━━━━━━━━━\u001b[0m\u001b[37m\u001b[0m \u001b[1m2s\u001b[0m 913us/step - loss: 0.2772 - sparse_categorical_accuracy: 0.9005 - val_loss: 0.3504 - val_sparse_categorical_accuracy: 0.8746\n",
      "Epoch 20/30\n",
      "\u001b[1m1719/1719\u001b[0m \u001b[32m━━━━━━━━━━━━━━━━━━━━\u001b[0m\u001b[37m\u001b[0m \u001b[1m2s\u001b[0m 919us/step - loss: 0.2718 - sparse_categorical_accuracy: 0.9029 - val_loss: 0.3506 - val_sparse_categorical_accuracy: 0.8756\n",
      "Epoch 21/30\n",
      "\u001b[1m1719/1719\u001b[0m \u001b[32m━━━━━━━━━━━━━━━━━━━━\u001b[0m\u001b[37m\u001b[0m \u001b[1m2s\u001b[0m 943us/step - loss: 0.2666 - sparse_categorical_accuracy: 0.9052 - val_loss: 0.3506 - val_sparse_categorical_accuracy: 0.8762\n",
      "Epoch 22/30\n",
      "\u001b[1m1719/1719\u001b[0m \u001b[32m━━━━━━━━━━━━━━━━━━━━\u001b[0m\u001b[37m\u001b[0m \u001b[1m2s\u001b[0m 871us/step - loss: 0.2618 - sparse_categorical_accuracy: 0.9066 - val_loss: 0.3520 - val_sparse_categorical_accuracy: 0.8766\n",
      "Epoch 23/30\n",
      "\u001b[1m1719/1719\u001b[0m \u001b[32m━━━━━━━━━━━━━━━━━━━━\u001b[0m\u001b[37m\u001b[0m \u001b[1m1s\u001b[0m 848us/step - loss: 0.2571 - sparse_categorical_accuracy: 0.9090 - val_loss: 0.3506 - val_sparse_categorical_accuracy: 0.8758\n",
      "Epoch 24/30\n",
      "\u001b[1m1719/1719\u001b[0m \u001b[32m━━━━━━━━━━━━━━━━━━━━\u001b[0m\u001b[37m\u001b[0m \u001b[1m1s\u001b[0m 851us/step - loss: 0.2524 - sparse_categorical_accuracy: 0.9099 - val_loss: 0.3488 - val_sparse_categorical_accuracy: 0.8780\n",
      "Epoch 25/30\n",
      "\u001b[1m1719/1719\u001b[0m \u001b[32m━━━━━━━━━━━━━━━━━━━━\u001b[0m\u001b[37m\u001b[0m \u001b[1m1s\u001b[0m 853us/step - loss: 0.2481 - sparse_categorical_accuracy: 0.9118 - val_loss: 0.3485 - val_sparse_categorical_accuracy: 0.8794\n",
      "Epoch 26/30\n",
      "\u001b[1m1719/1719\u001b[0m \u001b[32m━━━━━━━━━━━━━━━━━━━━\u001b[0m\u001b[37m\u001b[0m \u001b[1m1s\u001b[0m 844us/step - loss: 0.2438 - sparse_categorical_accuracy: 0.9136 - val_loss: 0.3489 - val_sparse_categorical_accuracy: 0.8802\n",
      "Epoch 27/30\n",
      "\u001b[1m1719/1719\u001b[0m \u001b[32m━━━━━━━━━━━━━━━━━━━━\u001b[0m\u001b[37m\u001b[0m \u001b[1m1s\u001b[0m 838us/step - loss: 0.2397 - sparse_categorical_accuracy: 0.9151 - val_loss: 0.3486 - val_sparse_categorical_accuracy: 0.8794\n",
      "Epoch 28/30\n",
      "\u001b[1m1719/1719\u001b[0m \u001b[32m━━━━━━━━━━━━━━━━━━━━\u001b[0m\u001b[37m\u001b[0m \u001b[1m1s\u001b[0m 856us/step - loss: 0.2356 - sparse_categorical_accuracy: 0.9170 - val_loss: 0.3483 - val_sparse_categorical_accuracy: 0.8804\n",
      "Epoch 29/30\n",
      "\u001b[1m1719/1719\u001b[0m \u001b[32m━━━━━━━━━━━━━━━━━━━━\u001b[0m\u001b[37m\u001b[0m \u001b[1m1s\u001b[0m 842us/step - loss: 0.2316 - sparse_categorical_accuracy: 0.9186 - val_loss: 0.3493 - val_sparse_categorical_accuracy: 0.8802\n",
      "Epoch 30/30\n",
      "\u001b[1m1719/1719\u001b[0m \u001b[32m━━━━━━━━━━━━━━━━━━━━\u001b[0m\u001b[37m\u001b[0m \u001b[1m1s\u001b[0m 839us/step - loss: 0.2276 - sparse_categorical_accuracy: 0.9197 - val_loss: 0.3499 - val_sparse_categorical_accuracy: 0.8798\n"
     ]
    }
   ],
   "source": [
    "history=model.fit(X_train,y_train,epochs=30,\n",
    "                 validation_data=(X_valid,y_valid))"
   ]
  },
  {
   "cell_type": "code",
   "execution_count": 42,
   "id": "e41549b0-610e-49ce-b3d5-00fac364650f",
   "metadata": {},
   "outputs": [
    {
     "data": {
      "text/plain": [
       "{'verbose': 'auto', 'epochs': 30, 'steps': 1719}"
      ]
     },
     "execution_count": 42,
     "metadata": {},
     "output_type": "execute_result"
    }
   ],
   "source": [
    "history.params"
   ]
  },
  {
   "cell_type": "code",
   "execution_count": 43,
   "id": "b60e4eed-d286-4e95-8d7f-9cf1966c09b7",
   "metadata": {},
   "outputs": [
    {
     "name": "stdout",
     "output_type": "stream",
     "text": [
      "[0, 1, 2, 3, 4, 5, 6, 7, 8, 9, 10, 11, 12, 13, 14, 15, 16, 17, 18, 19, 20, 21, 22, 23, 24, 25, 26, 27, 28, 29]\n"
     ]
    }
   ],
   "source": [
    "print(history.epoch) \n"
   ]
  },
  {
   "cell_type": "code",
   "execution_count": 44,
   "id": "3883ca3f-c206-4b7b-97d4-14c00b3576c3",
   "metadata": {},
   "outputs": [
    {
     "data": {
      "text/html": [
       "<div>\n",
       "<style scoped>\n",
       "    .dataframe tbody tr th:only-of-type {\n",
       "        vertical-align: middle;\n",
       "    }\n",
       "\n",
       "    .dataframe tbody tr th {\n",
       "        vertical-align: top;\n",
       "    }\n",
       "\n",
       "    .dataframe thead th {\n",
       "        text-align: right;\n",
       "    }\n",
       "</style>\n",
       "<table border=\"1\" class=\"dataframe\">\n",
       "  <thead>\n",
       "    <tr style=\"text-align: right;\">\n",
       "      <th></th>\n",
       "      <th>loss</th>\n",
       "      <th>sparse_categorical_accuracy</th>\n",
       "      <th>val_loss</th>\n",
       "      <th>val_sparse_categorical_accuracy</th>\n",
       "    </tr>\n",
       "  </thead>\n",
       "  <tbody>\n",
       "    <tr>\n",
       "      <th>0</th>\n",
       "      <td>0.715005</td>\n",
       "      <td>0.761400</td>\n",
       "      <td>0.503159</td>\n",
       "      <td>0.8282</td>\n",
       "    </tr>\n",
       "    <tr>\n",
       "      <th>1</th>\n",
       "      <td>0.487747</td>\n",
       "      <td>0.831618</td>\n",
       "      <td>0.454383</td>\n",
       "      <td>0.8388</td>\n",
       "    </tr>\n",
       "    <tr>\n",
       "      <th>2</th>\n",
       "      <td>0.444459</td>\n",
       "      <td>0.845236</td>\n",
       "      <td>0.430472</td>\n",
       "      <td>0.8458</td>\n",
       "    </tr>\n",
       "    <tr>\n",
       "      <th>3</th>\n",
       "      <td>0.417627</td>\n",
       "      <td>0.853909</td>\n",
       "      <td>0.415663</td>\n",
       "      <td>0.8514</td>\n",
       "    </tr>\n",
       "    <tr>\n",
       "      <th>4</th>\n",
       "      <td>0.397747</td>\n",
       "      <td>0.860164</td>\n",
       "      <td>0.404738</td>\n",
       "      <td>0.8550</td>\n",
       "    </tr>\n",
       "  </tbody>\n",
       "</table>\n",
       "</div>"
      ],
      "text/plain": [
       "       loss  sparse_categorical_accuracy  val_loss  \\\n",
       "0  0.715005                     0.761400  0.503159   \n",
       "1  0.487747                     0.831618  0.454383   \n",
       "2  0.444459                     0.845236  0.430472   \n",
       "3  0.417627                     0.853909  0.415663   \n",
       "4  0.397747                     0.860164  0.404738   \n",
       "\n",
       "   val_sparse_categorical_accuracy  \n",
       "0                           0.8282  \n",
       "1                           0.8388  \n",
       "2                           0.8458  \n",
       "3                           0.8514  \n",
       "4                           0.8550  "
      ]
     },
     "execution_count": 44,
     "metadata": {},
     "output_type": "execute_result"
    }
   ],
   "source": [
    "df=pd.DataFrame(history.history)\n",
    "df.head()"
   ]
  },
  {
   "cell_type": "code",
   "execution_count": 45,
   "id": "a1417fc1-c7d7-4c8c-bd77-b9308d123051",
   "metadata": {},
   "outputs": [
    {
     "data": {
      "image/png": "[encoded data removed]",
      "text/plain": [
       "<Figure size 900x400 with 1 Axes>"
      ]
     },
     "metadata": {},
     "output_type": "display_data"
    }
   ],
   "source": [
    "df.plot(figsize=(9,4),xlim=[0,29],ylim=[0,1],grid=True,xlabel=\"Epoch\",style=[\"r--\", \"r--.\", \"b-\", \"b-*\"])\n",
    "plt.show()"
   ]
  },
  {
   "cell_type": "code",
   "execution_count": 46,
   "id": "056e8ec8-dbbd-4be7-a21c-c9d651a9d3da",
   "metadata": {},
   "outputs": [
    {
     "name": "stdout",
     "output_type": "stream",
     "text": [
      "\u001b[1m313/313\u001b[0m \u001b[32m━━━━━━━━━━━━━━━━━━━━\u001b[0m\u001b[37m\u001b[0m \u001b[1m0s\u001b[0m 795us/step - loss: 0.3691 - sparse_categorical_accuracy: 0.8732\n"
     ]
    },
    {
     "data": {
      "text/plain": [
       "[0.36560481786727905, 0.8745999932289124]"
      ]
     },
     "execution_count": 46,
     "metadata": {},
     "output_type": "execute_result"
    }
   ],
   "source": [
    "model.evaluate(X_test,y_test)"
   ]
  },
  {
   "cell_type": "markdown",
   "id": "809f2cbf-07ee-46e1-9fc7-e6a5217f38aa",
   "metadata": {},
   "source": [
    "#### Using Model to make prediction"
   ]
  },
  {
   "cell_type": "code",
   "execution_count": 48,
   "id": "1d9ad0ef-cb74-4907-b41e-46b90ef5bf41",
   "metadata": {},
   "outputs": [
    {
     "name": "stdout",
     "output_type": "stream",
     "text": [
      "\u001b[1m1/1\u001b[0m \u001b[32m━━━━━━━━━━━━━━━━━━━━\u001b[0m\u001b[37m\u001b[0m \u001b[1m0s\u001b[0m 24ms/step\n"
     ]
    },
    {
     "data": {
      "text/plain": [
       "array([[0.  , 0.  , 0.  , 0.  , 0.  , 0.16, 0.  , 0.02, 0.  , 0.82],\n",
       "       [0.  , 0.  , 1.  , 0.  , 0.  , 0.  , 0.  , 0.  , 0.  , 0.  ],\n",
       "       [0.  , 1.  , 0.  , 0.  , 0.  , 0.  , 0.  , 0.  , 0.  , 0.  ],\n",
       "       [0.  , 1.  , 0.  , 0.  , 0.  , 0.  , 0.  , 0.  , 0.  , 0.  ],\n",
       "       [0.12, 0.  , 0.  , 0.  , 0.01, 0.  , 0.87, 0.  , 0.  , 0.  ]],\n",
       "      dtype=float32)"
      ]
     },
     "execution_count": 48,
     "metadata": {},
     "output_type": "execute_result"
    }
   ],
   "source": [
    "X_new=X_test[:5]\n",
    "y_proba=model.predict(X_new)\n",
    "y_proba.round(2)\n"
   ]
  },
  {
   "cell_type": "code",
   "execution_count": 49,
   "id": "36807df2-5989-4af6-8658-c6b63f51f51b",
   "metadata": {},
   "outputs": [
    {
     "data": {
      "text/plain": [
       "array([9, 2, 1, 1, 6])"
      ]
     },
     "execution_count": 49,
     "metadata": {},
     "output_type": "execute_result"
    }
   ],
   "source": [
    "y_pred=y_proba.argmax(axis=-1)\n",
    "y_pred"
   ]
  },
  {
   "cell_type": "code",
   "execution_count": 50,
   "id": "44ef5471-4e68-4d25-8c89-131344bc4c74",
   "metadata": {},
   "outputs": [
    {
     "data": {
      "text/plain": [
       "array(['Ankle boot', 'Pullover', 'Trouser', 'Trouser', 'Shirt'],\n",
       "      dtype='<U11')"
      ]
     },
     "execution_count": 50,
     "metadata": {},
     "output_type": "execute_result"
    }
   ],
   "source": [
    "np.array(class_names)[y_pred]"
   ]
  },
  {
   "cell_type": "code",
   "execution_count": 51,
   "id": "41e0b2e0-8657-4703-b979-9f922d168aa2",
   "metadata": {},
   "outputs": [
    {
     "data": {
      "text/plain": [
       "array([9, 2, 1, 1, 6], dtype=uint8)"
      ]
     },
     "execution_count": 51,
     "metadata": {},
     "output_type": "execute_result"
    }
   ],
   "source": [
    "y_new=y_test[:5]\n",
    "y_new"
   ]
  },
  {
   "cell_type": "code",
   "execution_count": 52,
   "id": "07710b2b-6189-47ed-af53-b1eaafbb3c3f",
   "metadata": {},
   "outputs": [
    {
     "data": {
      "image/png": "[encoded data removed]",
      "text/plain": [
       "<Figure size 640x480 with 5 Axes>"
      ]
     },
     "metadata": {},
     "output_type": "display_data"
    }
   ],
   "source": [
    "for idx,image in enumerate(X_new):\n",
    "    plt.subplot(1,5,idx+1)\n",
    "    plt.imshow(image,cmap=\"binary\",interpolation=\"nearest\")\n",
    "    plt.title(class_names[y_test[idx]])\n",
    "    plt.axis(\"off\")\n",
    "    "
   ]
  },
  {
   "cell_type": "markdown",
   "id": "7845e255-3824-4621-88cf-315d693b08ab",
   "metadata": {},
   "source": [
    "## Building a Regression MLP Using Sequential API"
   ]
  },
  {
   "cell_type": "code",
   "execution_count": 54,
   "id": "0ab20e39-68ee-4a56-894d-7937cfb42534",
   "metadata": {},
   "outputs": [
    {
     "name": "stdout",
     "output_type": "stream",
     "text": [
      "11610 11610\n",
      "3870 3870\n",
      "5160 5160\n"
     ]
    }
   ],
   "source": [
    "housing=fetch_california_housing()\n",
    "X_train_full,X_test,y_train_full,y_test=train_test_split(housing.data,housing.target,random_state=42)\n",
    "X_train,X_valid,y_train,y_valid=train_test_split(X_train_full,y_train_full,random_state=42)\n",
    "print(len(X_train),len(y_train))\n",
    "print(len(X_valid),len(y_valid))\n",
    "print(len(X_test),len(y_test))"
   ]
  },
  {
   "cell_type": "code",
   "execution_count": 55,
   "id": "a6e9285d-02c2-49d1-bb8c-b762efebb497",
   "metadata": {},
   "outputs": [
    {
     "data": {
      "text/plain": [
       "(11610, 8)"
      ]
     },
     "execution_count": 55,
     "metadata": {},
     "output_type": "execute_result"
    }
   ],
   "source": [
    "X_train.shape"
   ]
  },
  {
   "cell_type": "code",
   "execution_count": 56,
   "id": "629afcb3-a993-490f-9bb5-d6462bef472f",
   "metadata": {},
   "outputs": [
    {
     "data": {
      "text/plain": [
       "(8,)"
      ]
     },
     "execution_count": 56,
     "metadata": {},
     "output_type": "execute_result"
    }
   ],
   "source": [
    "X_train.shape[1:]"
   ]
  },
  {
   "cell_type": "code",
   "execution_count": 57,
   "id": "20803c7e-1762-412e-aef3-eeeb9658b315",
   "metadata": {},
   "outputs": [
    {
     "name": "stdout",
     "output_type": "stream",
     "text": [
      "Epoch 1/20\n",
      "\u001b[1m363/363\u001b[0m \u001b[32m━━━━━━━━━━━━━━━━━━━━\u001b[0m\u001b[37m\u001b[0m \u001b[1m1s\u001b[0m 855us/step - RootMeanSquaredError: 1.2375 - loss: 1.6537 - val_RootMeanSquaredError: 1.0764 - val_loss: 1.1587\n",
      "Epoch 2/20\n",
      "\u001b[1m363/363\u001b[0m \u001b[32m━━━━━━━━━━━━━━━━━━━━\u001b[0m\u001b[37m\u001b[0m \u001b[1m0s\u001b[0m 581us/step - RootMeanSquaredError: 0.6414 - loss: 0.4121 - val_RootMeanSquaredError: 1.0605 - val_loss: 1.1246\n",
      "Epoch 3/20\n",
      "\u001b[1m363/363\u001b[0m \u001b[32m━━━━━━━━━━━━━━━━━━━━\u001b[0m\u001b[37m\u001b[0m \u001b[1m0s\u001b[0m 658us/step - RootMeanSquaredError: 0.6118 - loss: 0.3745 - val_RootMeanSquaredError: 0.7965 - val_loss: 0.6344\n",
      "Epoch 4/20\n",
      "\u001b[1m363/363\u001b[0m \u001b[32m━━━━━━━━━━━━━━━━━━━━\u001b[0m\u001b[37m\u001b[0m \u001b[1m0s\u001b[0m 586us/step - RootMeanSquaredError: 0.5956 - loss: 0.3550 - val_RootMeanSquaredError: 0.8563 - val_loss: 0.7332\n",
      "Epoch 5/20\n",
      "\u001b[1m363/363\u001b[0m \u001b[32m━━━━━━━━━━━━━━━━━━━━\u001b[0m\u001b[37m\u001b[0m \u001b[1m0s\u001b[0m 584us/step - RootMeanSquaredError: 0.5830 - loss: 0.3401 - val_RootMeanSquaredError: 0.5777 - val_loss: 0.3338\n",
      "Epoch 6/20\n",
      "\u001b[1m363/363\u001b[0m \u001b[32m━━━━━━━━━━━━━━━━━━━━\u001b[0m\u001b[37m\u001b[0m \u001b[1m0s\u001b[0m 579us/step - RootMeanSquaredError: 0.5736 - loss: 0.3291 - val_RootMeanSquaredError: 1.0593 - val_loss: 1.1221\n",
      "Epoch 7/20\n",
      "\u001b[1m363/363\u001b[0m \u001b[32m━━━━━━━━━━━━━━━━━━━━\u001b[0m\u001b[37m\u001b[0m \u001b[1m0s\u001b[0m 581us/step - RootMeanSquaredError: 0.5686 - loss: 0.3235 - val_RootMeanSquaredError: 1.5191 - val_loss: 2.3077\n",
      "Epoch 8/20\n",
      "\u001b[1m363/363\u001b[0m \u001b[32m━━━━━━━━━━━━━━━━━━━━\u001b[0m\u001b[37m\u001b[0m \u001b[1m0s\u001b[0m 582us/step - RootMeanSquaredError: 0.5642 - loss: 0.3184 - val_RootMeanSquaredError: 0.8623 - val_loss: 0.7436\n",
      "Epoch 9/20\n",
      "\u001b[1m363/363\u001b[0m \u001b[32m━━━━━━━━━━━━━━━━━━━━\u001b[0m\u001b[37m\u001b[0m \u001b[1m0s\u001b[0m 580us/step - RootMeanSquaredError: 0.5558 - loss: 0.3090 - val_RootMeanSquaredError: 1.1988 - val_loss: 1.4370\n",
      "Epoch 10/20\n",
      "\u001b[1m363/363\u001b[0m \u001b[32m━━━━━━━━━━━━━━━━━━━━\u001b[0m\u001b[37m\u001b[0m \u001b[1m0s\u001b[0m 581us/step - RootMeanSquaredError: 0.5492 - loss: 0.3017 - val_RootMeanSquaredError: 0.8268 - val_loss: 0.6836\n",
      "Epoch 11/20\n",
      "\u001b[1m363/363\u001b[0m \u001b[32m━━━━━━━━━━━━━━━━━━━━\u001b[0m\u001b[37m\u001b[0m \u001b[1m0s\u001b[0m 581us/step - RootMeanSquaredError: 0.5430 - loss: 0.2949 - val_RootMeanSquaredError: 1.2318 - val_loss: 1.5174\n",
      "Epoch 12/20\n",
      "\u001b[1m363/363\u001b[0m \u001b[32m━━━━━━━━━━━━━━━━━━━━\u001b[0m\u001b[37m\u001b[0m \u001b[1m0s\u001b[0m 579us/step - RootMeanSquaredError: 0.5411 - loss: 0.2929 - val_RootMeanSquaredError: 0.8824 - val_loss: 0.7787\n",
      "Epoch 13/20\n",
      "\u001b[1m363/363\u001b[0m \u001b[32m━━━━━━━━━━━━━━━━━━━━\u001b[0m\u001b[37m\u001b[0m \u001b[1m0s\u001b[0m 581us/step - RootMeanSquaredError: 0.5373 - loss: 0.2888 - val_RootMeanSquaredError: 0.6707 - val_loss: 0.4499\n",
      "Epoch 14/20\n",
      "\u001b[1m363/363\u001b[0m \u001b[32m━━━━━━━━━━━━━━━━━━━━\u001b[0m\u001b[37m\u001b[0m \u001b[1m0s\u001b[0m 579us/step - RootMeanSquaredError: 0.5307 - loss: 0.2818 - val_RootMeanSquaredError: 0.5215 - val_loss: 0.2720\n",
      "Epoch 15/20\n",
      "\u001b[1m363/363\u001b[0m \u001b[32m━━━━━━━━━━━━━━━━━━━━\u001b[0m\u001b[37m\u001b[0m \u001b[1m0s\u001b[0m 650us/step - RootMeanSquaredError: 0.5259 - loss: 0.2767 - val_RootMeanSquaredError: 0.5782 - val_loss: 0.3343\n",
      "Epoch 16/20\n",
      "\u001b[1m363/363\u001b[0m \u001b[32m━━━━━━━━━━━━━━━━━━━━\u001b[0m\u001b[37m\u001b[0m \u001b[1m0s\u001b[0m 583us/step - RootMeanSquaredError: 0.5229 - loss: 0.2735 - val_RootMeanSquaredError: 0.5194 - val_loss: 0.2698\n",
      "Epoch 17/20\n",
      "\u001b[1m363/363\u001b[0m \u001b[32m━━━━━━━━━━━━━━━━━━━━\u001b[0m\u001b[37m\u001b[0m \u001b[1m0s\u001b[0m 581us/step - RootMeanSquaredError: 0.5204 - loss: 0.2709 - val_RootMeanSquaredError: 0.5773 - val_loss: 0.3333\n",
      "Epoch 18/20\n",
      "\u001b[1m363/363\u001b[0m \u001b[32m━━━━━━━━━━━━━━━━━━━━\u001b[0m\u001b[37m\u001b[0m \u001b[1m0s\u001b[0m 583us/step - RootMeanSquaredError: 0.5178 - loss: 0.2682 - val_RootMeanSquaredError: 0.5205 - val_loss: 0.2709\n",
      "Epoch 19/20\n",
      "\u001b[1m363/363\u001b[0m \u001b[32m━━━━━━━━━━━━━━━━━━━━\u001b[0m\u001b[37m\u001b[0m \u001b[1m0s\u001b[0m 579us/step - RootMeanSquaredError: 0.5157 - loss: 0.2660 - val_RootMeanSquaredError: 0.7142 - val_loss: 0.5101\n",
      "Epoch 20/20\n",
      "\u001b[1m363/363\u001b[0m \u001b[32m━━━━━━━━━━━━━━━━━━━━\u001b[0m\u001b[37m\u001b[0m \u001b[1m0s\u001b[0m 580us/step - RootMeanSquaredError: 0.5139 - loss: 0.2642 - val_RootMeanSquaredError: 0.5948 - val_loss: 0.3538\n",
      "\u001b[1m162/162\u001b[0m \u001b[32m━━━━━━━━━━━━━━━━━━━━\u001b[0m\u001b[37m\u001b[0m \u001b[1m0s\u001b[0m 353us/step - RootMeanSquaredError: 0.5351 - loss: 0.2865\n",
      "\u001b[1m1/1\u001b[0m \u001b[32m━━━━━━━━━━━━━━━━━━━━\u001b[0m\u001b[37m\u001b[0m \u001b[1m0s\u001b[0m 25ms/step\n"
     ]
    }
   ],
   "source": [
    "tf.random.set_seed(42)\n",
    "\n",
    "model=tf.keras.Sequential([\n",
    "    tf.keras.layers.InputLayer(shape=X_train.shape[1:]),\n",
    "    tf.keras.layers.Normalization(name=\"normalization\"),\n",
    "    tf.keras.layers.Dense(50,activation=\"relu\"),\n",
    "    tf.keras.layers.Dense(50,activation=\"relu\"),\n",
    "    tf.keras.layers.Dense(50,activation=\"relu\"),\n",
    "    tf.keras.layers.Dense(1)\n",
    "])\n",
    "\n",
    "norm_layer=model.get_layer(\"normalization\")\n",
    "norm_layer.adapt(X_train)\n",
    "optimizer=tf.keras.optimizers.Adam(learning_rate=1e-3)\n",
    "model.compile(loss=\"mse\",optimizer=optimizer,metrics=[\"RootMeanSquaredError\"])\n",
    "history=model.fit(X_train,y_train,epochs=20,\n",
    "                 validation_data=(X_valid,y_valid))\n",
    "mse_test,rmse_test=model.evaluate(X_test,y_test)\n",
    "X_new=X_test[:4]\n",
    "y_pred=model.predict(X_new)\n"
   ]
  },
  {
   "cell_type": "code",
   "execution_count": 58,
   "id": "fe293a06-05b2-4529-bf9d-7f5147597164",
   "metadata": {},
   "outputs": [
    {
     "data": {
      "text/plain": [
       "0.5424241423606873"
      ]
     },
     "execution_count": 58,
     "metadata": {},
     "output_type": "execute_result"
    }
   ],
   "source": [
    "rmse_test"
   ]
  },
  {
   "cell_type": "code",
   "execution_count": 59,
   "id": "653b2dc2-edea-4125-9b37-7f81659dc7ed",
   "metadata": {},
   "outputs": [
    {
     "data": {
      "text/plain": [
       "array([[0.5578438],\n",
       "       [1.1659659],\n",
       "       [5.019061 ],\n",
       "       [2.6048286]], dtype=float32)"
      ]
     },
     "execution_count": 59,
     "metadata": {},
     "output_type": "execute_result"
    }
   ],
   "source": [
    "y_pred"
   ]
  },
  {
   "cell_type": "code",
   "execution_count": 60,
   "id": "fd2f22a1-5424-4473-a423-9ea8d91f403a",
   "metadata": {},
   "outputs": [
    {
     "data": {
      "text/plain": [
       "array([0.477  , 0.458  , 5.00001, 2.186  ])"
      ]
     },
     "execution_count": 60,
     "metadata": {},
     "output_type": "execute_result"
    }
   ],
   "source": [
    "y_test[:4]"
   ]
  },
  {
   "cell_type": "markdown",
   "id": "cda654a8-379f-4eac-96d7-7994e7d70847",
   "metadata": {},
   "source": [
    "## Building Complex Models Using Functional API"
   ]
  },
  {
   "cell_type": "code",
   "execution_count": 62,
   "id": "8b22891f-0178-40a7-a54f-f260d13998d2",
   "metadata": {},
   "outputs": [],
   "source": [
    "tf.keras.backend.clear_session()\n",
    "tf.random.set_seed(42)"
   ]
  },
  {
   "cell_type": "code",
   "execution_count": 63,
   "id": "fa3a4e8e-8434-4744-a3c5-9b0d856cd56f",
   "metadata": {},
   "outputs": [],
   "source": [
    "normalized_layer=tf.keras.layers.Normalization()\n",
    "normalized_layer.adapt(X_train)\n",
    "hidden_layer1=tf.keras.layers.Dense(30,activation=\"relu\")\n",
    "hidden_layer2=tf.keras.layers.Dense(30,activation=\"relu\")\n",
    "concat_layer=tf.keras.layers.Concatenate()\n",
    "output_layer=tf.keras.layers.Dense(1)\n",
    "\n",
    "input_=tf.keras.layers.Input(shape=X_train.shape[1:])\n",
    "normalized=normalized_layer(input_)\n",
    "hidden1=hidden_layer1(normalized)\n",
    "hidden2=hidden_layer2(hidden1)\n",
    "concat=concat_layer([normalized,hidden2])\n",
    "output=output_layer(concat)\n",
    "\n",
    "model=tf.keras.Model(inputs=[input_],outputs=[output])\n"
   ]
  },
  {
   "cell_type": "code",
   "execution_count": 64,
   "id": "ce5a4196-2fe2-45a5-b1cd-6942fe8c4f7d",
   "metadata": {},
   "outputs": [
    {
     "data": {
      "text/html": [
       "<pre style=\"white-space:pre;overflow-x:auto;line-height:normal;font-family:Menlo,'DejaVu Sans Mono',consolas,'Courier New',monospace\"><span style=\"font-weight: bold\">Model: \"functional\"</span>\n",
       "</pre>\n"
      ],
      "text/plain": [
       "\u001b[1mModel: \"functional\"\u001b[0m\n"
      ]
     },
     "metadata": {},
     "output_type": "display_data"
    },
    {
     "data": {
      "text/html": [
       "<pre style=\"white-space:pre;overflow-x:auto;line-height:normal;font-family:Menlo,'DejaVu Sans Mono',consolas,'Courier New',monospace\">┏━━━━━━━━━━━━━━━━━━━━━┳━━━━━━━━━━━━━━━━━━━┳━━━━━━━━━━━━┳━━━━━━━━━━━━━━━━━━━┓\n",
       "┃<span style=\"font-weight: bold\"> Layer (type)        </span>┃<span style=\"font-weight: bold\"> Output Shape      </span>┃<span style=\"font-weight: bold\">    Param # </span>┃<span style=\"font-weight: bold\"> Connected to      </span>┃\n",
       "┡━━━━━━━━━━━━━━━━━━━━━╇━━━━━━━━━━━━━━━━━━━╇━━━━━━━━━━━━╇━━━━━━━━━━━━━━━━━━━┩\n",
       "│ input_layer         │ (<span style=\"color: #00d7ff; text-decoration-color: #00d7ff\">None</span>, <span style=\"color: #00af00; text-decoration-color: #00af00\">8</span>)         │          <span style=\"color: #00af00; text-decoration-color: #00af00\">0</span> │ -                 │\n",
       "│ (<span style=\"color: #0087ff; text-decoration-color: #0087ff\">InputLayer</span>)        │                   │            │                   │\n",
       "├─────────────────────┼───────────────────┼────────────┼───────────────────┤\n",
       "│ normalization       │ (<span style=\"color: #00d7ff; text-decoration-color: #00d7ff\">None</span>, <span style=\"color: #00af00; text-decoration-color: #00af00\">8</span>)         │         <span style=\"color: #00af00; text-decoration-color: #00af00\">17</span> │ input_layer[<span style=\"color: #00af00; text-decoration-color: #00af00\">0</span>][<span style=\"color: #00af00; text-decoration-color: #00af00\">0</span>] │\n",
       "│ (<span style=\"color: #0087ff; text-decoration-color: #0087ff\">Normalization</span>)     │                   │            │                   │\n",
       "├─────────────────────┼───────────────────┼────────────┼───────────────────┤\n",
       "│ dense (<span style=\"color: #0087ff; text-decoration-color: #0087ff\">Dense</span>)       │ (<span style=\"color: #00d7ff; text-decoration-color: #00d7ff\">None</span>, <span style=\"color: #00af00; text-decoration-color: #00af00\">30</span>)        │        <span style=\"color: #00af00; text-decoration-color: #00af00\">270</span> │ normalization[<span style=\"color: #00af00; text-decoration-color: #00af00\">0</span>]… │\n",
       "├─────────────────────┼───────────────────┼────────────┼───────────────────┤\n",
       "│ dense_1 (<span style=\"color: #0087ff; text-decoration-color: #0087ff\">Dense</span>)     │ (<span style=\"color: #00d7ff; text-decoration-color: #00d7ff\">None</span>, <span style=\"color: #00af00; text-decoration-color: #00af00\">30</span>)        │        <span style=\"color: #00af00; text-decoration-color: #00af00\">930</span> │ dense[<span style=\"color: #00af00; text-decoration-color: #00af00\">0</span>][<span style=\"color: #00af00; text-decoration-color: #00af00\">0</span>]       │\n",
       "├─────────────────────┼───────────────────┼────────────┼───────────────────┤\n",
       "│ concatenate         │ (<span style=\"color: #00d7ff; text-decoration-color: #00d7ff\">None</span>, <span style=\"color: #00af00; text-decoration-color: #00af00\">38</span>)        │          <span style=\"color: #00af00; text-decoration-color: #00af00\">0</span> │ normalization[<span style=\"color: #00af00; text-decoration-color: #00af00\">0</span>]… │\n",
       "│ (<span style=\"color: #0087ff; text-decoration-color: #0087ff\">Concatenate</span>)       │                   │            │ dense_1[<span style=\"color: #00af00; text-decoration-color: #00af00\">0</span>][<span style=\"color: #00af00; text-decoration-color: #00af00\">0</span>]     │\n",
       "├─────────────────────┼───────────────────┼────────────┼───────────────────┤\n",
       "│ dense_2 (<span style=\"color: #0087ff; text-decoration-color: #0087ff\">Dense</span>)     │ (<span style=\"color: #00d7ff; text-decoration-color: #00d7ff\">None</span>, <span style=\"color: #00af00; text-decoration-color: #00af00\">1</span>)         │         <span style=\"color: #00af00; text-decoration-color: #00af00\">39</span> │ concatenate[<span style=\"color: #00af00; text-decoration-color: #00af00\">0</span>][<span style=\"color: #00af00; text-decoration-color: #00af00\">0</span>] │\n",
       "└─────────────────────┴───────────────────┴────────────┴───────────────────┘\n",
       "</pre>\n"
      ],
      "text/plain": [
       "┏━━━━━━━━━━━━━━━━━━━━━┳━━━━━━━━━━━━━━━━━━━┳━━━━━━━━━━━━┳━━━━━━━━━━━━━━━━━━━┓\n",
       "┃\u001b[1m \u001b[0m\u001b[1mLayer (type)       \u001b[0m\u001b[1m \u001b[0m┃\u001b[1m \u001b[0m\u001b[1mOutput Shape     \u001b[0m\u001b[1m \u001b[0m┃\u001b[1m \u001b[0m\u001b[1m   Param #\u001b[0m\u001b[1m \u001b[0m┃\u001b[1m \u001b[0m\u001b[1mConnected to     \u001b[0m\u001b[1m \u001b[0m┃\n",
       "┡━━━━━━━━━━━━━━━━━━━━━╇━━━━━━━━━━━━━━━━━━━╇━━━━━━━━━━━━╇━━━━━━━━━━━━━━━━━━━┩\n",
       "│ input_layer         │ (\u001b[38;5;45mNone\u001b[0m, \u001b[38;5;34m8\u001b[0m)         │          \u001b[38;5;34m0\u001b[0m │ -                 │\n",
       "│ (\u001b[38;5;33mInputLayer\u001b[0m)        │                   │            │                   │\n",
       "├─────────────────────┼───────────────────┼────────────┼───────────────────┤\n",
       "│ normalization       │ (\u001b[38;5;45mNone\u001b[0m, \u001b[38;5;34m8\u001b[0m)         │         \u001b[38;5;34m17\u001b[0m │ input_layer[\u001b[38;5;34m0\u001b[0m][\u001b[38;5;34m0\u001b[0m] │\n",
       "│ (\u001b[38;5;33mNormalization\u001b[0m)     │                   │            │                   │\n",
       "├─────────────────────┼───────────────────┼────────────┼───────────────────┤\n",
       "│ dense (\u001b[38;5;33mDense\u001b[0m)       │ (\u001b[38;5;45mNone\u001b[0m, \u001b[38;5;34m30\u001b[0m)        │        \u001b[38;5;34m270\u001b[0m │ normalization[\u001b[38;5;34m0\u001b[0m]… │\n",
       "├─────────────────────┼───────────────────┼────────────┼───────────────────┤\n",
       "│ dense_1 (\u001b[38;5;33mDense\u001b[0m)     │ (\u001b[38;5;45mNone\u001b[0m, \u001b[38;5;34m30\u001b[0m)        │        \u001b[38;5;34m930\u001b[0m │ dense[\u001b[38;5;34m0\u001b[0m][\u001b[38;5;34m0\u001b[0m]       │\n",
       "├─────────────────────┼───────────────────┼────────────┼───────────────────┤\n",
       "│ concatenate         │ (\u001b[38;5;45mNone\u001b[0m, \u001b[38;5;34m38\u001b[0m)        │          \u001b[38;5;34m0\u001b[0m │ normalization[\u001b[38;5;34m0\u001b[0m]… │\n",
       "│ (\u001b[38;5;33mConcatenate\u001b[0m)       │                   │            │ dense_1[\u001b[38;5;34m0\u001b[0m][\u001b[38;5;34m0\u001b[0m]     │\n",
       "├─────────────────────┼───────────────────┼────────────┼───────────────────┤\n",
       "│ dense_2 (\u001b[38;5;33mDense\u001b[0m)     │ (\u001b[38;5;45mNone\u001b[0m, \u001b[38;5;34m1\u001b[0m)         │         \u001b[38;5;34m39\u001b[0m │ concatenate[\u001b[38;5;34m0\u001b[0m][\u001b[38;5;34m0\u001b[0m] │\n",
       "└─────────────────────┴───────────────────┴────────────┴───────────────────┘\n"
      ]
     },
     "metadata": {},
     "output_type": "display_data"
    },
    {
     "data": {
      "text/html": [
       "<pre style=\"white-space:pre;overflow-x:auto;line-height:normal;font-family:Menlo,'DejaVu Sans Mono',consolas,'Courier New',monospace\"><span style=\"font-weight: bold\"> Total params: </span><span style=\"color: #00af00; text-decoration-color: #00af00\">1,256</span> (4.91 KB)\n",
       "</pre>\n"
      ],
      "text/plain": [
       "\u001b[1m Total params: \u001b[0m\u001b[38;5;34m1,256\u001b[0m (4.91 KB)\n"
      ]
     },
     "metadata": {},
     "output_type": "display_data"
    },
    {
     "data": {
      "text/html": [
       "<pre style=\"white-space:pre;overflow-x:auto;line-height:normal;font-family:Menlo,'DejaVu Sans Mono',consolas,'Courier New',monospace\"><span style=\"font-weight: bold\"> Trainable params: </span><span style=\"color: #00af00; text-decoration-color: #00af00\">1,239</span> (4.84 KB)\n",
       "</pre>\n"
      ],
      "text/plain": [
       "\u001b[1m Trainable params: \u001b[0m\u001b[38;5;34m1,239\u001b[0m (4.84 KB)\n"
      ]
     },
     "metadata": {},
     "output_type": "display_data"
    },
    {
     "data": {
      "text/html": [
       "<pre style=\"white-space:pre;overflow-x:auto;line-height:normal;font-family:Menlo,'DejaVu Sans Mono',consolas,'Courier New',monospace\"><span style=\"font-weight: bold\"> Non-trainable params: </span><span style=\"color: #00af00; text-decoration-color: #00af00\">17</span> (72.00 B)\n",
       "</pre>\n"
      ],
      "text/plain": [
       "\u001b[1m Non-trainable params: \u001b[0m\u001b[38;5;34m17\u001b[0m (72.00 B)\n"
      ]
     },
     "metadata": {},
     "output_type": "display_data"
    }
   ],
   "source": [
    "model.summary()"
   ]
  },
  {
   "cell_type": "code",
   "execution_count": 65,
   "id": "5c1a867f-a9b6-4cad-91b5-e8561fe469a6",
   "metadata": {},
   "outputs": [
    {
     "name": "stdout",
     "output_type": "stream",
     "text": [
      "Epoch 1/20\n"
     ]
    },
    {
     "name": "stderr",
     "output_type": "stream",
     "text": [
      "/opt/anaconda3/lib/python3.12/site-packages/keras/src/models/functional.py:238: UserWarning: The structure of `inputs` doesn't match the expected structure.\n",
      "Expected: ['keras_tensor']\n",
      "Received: inputs=Tensor(shape=(None, 8))\n",
      "  warnings.warn(msg)\n"
     ]
    },
    {
     "name": "stdout",
     "output_type": "stream",
     "text": [
      "\u001b[1m363/363\u001b[0m \u001b[32m━━━━━━━━━━━━━━━━━━━━\u001b[0m\u001b[37m\u001b[0m \u001b[1m1s\u001b[0m 698us/step - RootMeanSquaredError: 1.6197 - loss: 2.7516 - val_RootMeanSquaredError: 0.7787 - val_loss: 0.6063\n",
      "Epoch 2/20\n",
      "\u001b[1m363/363\u001b[0m \u001b[32m━━━━━━━━━━━━━━━━━━━━\u001b[0m\u001b[37m\u001b[0m \u001b[1m0s\u001b[0m 536us/step - RootMeanSquaredError: 0.7258 - loss: 0.5282 - val_RootMeanSquaredError: 0.7113 - val_loss: 0.5059\n",
      "Epoch 3/20\n",
      "\u001b[1m363/363\u001b[0m \u001b[32m━━━━━━━━━━━━━━━━━━━━\u001b[0m\u001b[37m\u001b[0m \u001b[1m0s\u001b[0m 536us/step - RootMeanSquaredError: 0.6521 - loss: 0.4256 - val_RootMeanSquaredError: 0.7482 - val_loss: 0.5599\n",
      "Epoch 4/20\n",
      "\u001b[1m363/363\u001b[0m \u001b[32m━━━━━━━━━━━━━━━━━━━━\u001b[0m\u001b[37m\u001b[0m \u001b[1m0s\u001b[0m 533us/step - RootMeanSquaredError: 0.6255 - loss: 0.3915 - val_RootMeanSquaredError: 0.8470 - val_loss: 0.7175\n",
      "Epoch 5/20\n",
      "\u001b[1m363/363\u001b[0m \u001b[32m━━━━━━━━━━━━━━━━━━━━\u001b[0m\u001b[37m\u001b[0m \u001b[1m0s\u001b[0m 532us/step - RootMeanSquaredError: 0.6135 - loss: 0.3765 - val_RootMeanSquaredError: 0.9938 - val_loss: 0.9877\n",
      "Epoch 6/20\n",
      "\u001b[1m363/363\u001b[0m \u001b[32m━━━━━━━━━━━━━━━━━━━━\u001b[0m\u001b[37m\u001b[0m \u001b[1m0s\u001b[0m 533us/step - RootMeanSquaredError: 0.6051 - loss: 0.3663 - val_RootMeanSquaredError: 1.2354 - val_loss: 1.5262\n",
      "Epoch 7/20\n",
      "\u001b[1m363/363\u001b[0m \u001b[32m━━━━━━━━━━━━━━━━━━━━\u001b[0m\u001b[37m\u001b[0m \u001b[1m0s\u001b[0m 547us/step - RootMeanSquaredError: 0.5985 - loss: 0.3583 - val_RootMeanSquaredError: 1.3432 - val_loss: 1.8042\n",
      "Epoch 8/20\n",
      "\u001b[1m363/363\u001b[0m \u001b[32m━━━━━━━━━━━━━━━━━━━━\u001b[0m\u001b[37m\u001b[0m \u001b[1m0s\u001b[0m 533us/step - RootMeanSquaredError: 0.5935 - loss: 0.3524 - val_RootMeanSquaredError: 1.5025 - val_loss: 2.2574\n",
      "Epoch 9/20\n",
      "\u001b[1m363/363\u001b[0m \u001b[32m━━━━━━━━━━━━━━━━━━━━\u001b[0m\u001b[37m\u001b[0m \u001b[1m0s\u001b[0m 531us/step - RootMeanSquaredError: 0.5876 - loss: 0.3454 - val_RootMeanSquaredError: 1.1867 - val_loss: 1.4083\n",
      "Epoch 10/20\n",
      "\u001b[1m363/363\u001b[0m \u001b[32m━━━━━━━━━━━━━━━━━━━━\u001b[0m\u001b[37m\u001b[0m \u001b[1m0s\u001b[0m 534us/step - RootMeanSquaredError: 0.5816 - loss: 0.3383 - val_RootMeanSquaredError: 1.2145 - val_loss: 1.4751\n",
      "Epoch 11/20\n",
      "\u001b[1m363/363\u001b[0m \u001b[32m━━━━━━━━━━━━━━━━━━━━\u001b[0m\u001b[37m\u001b[0m \u001b[1m0s\u001b[0m 611us/step - RootMeanSquaredError: 0.5753 - loss: 0.3310 - val_RootMeanSquaredError: 0.9189 - val_loss: 0.8444\n",
      "Epoch 12/20\n",
      "\u001b[1m363/363\u001b[0m \u001b[32m━━━━━━━━━━━━━━━━━━━━\u001b[0m\u001b[37m\u001b[0m \u001b[1m0s\u001b[0m 537us/step - RootMeanSquaredError: 0.5706 - loss: 0.3256 - val_RootMeanSquaredError: 1.1939 - val_loss: 1.4254\n",
      "Epoch 13/20\n",
      "\u001b[1m363/363\u001b[0m \u001b[32m━━━━━━━━━━━━━━━━━━━━\u001b[0m\u001b[37m\u001b[0m \u001b[1m0s\u001b[0m 534us/step - RootMeanSquaredError: 0.5686 - loss: 0.3234 - val_RootMeanSquaredError: 1.3419 - val_loss: 1.8008\n",
      "Epoch 14/20\n",
      "\u001b[1m363/363\u001b[0m \u001b[32m━━━━━━━━━━━━━━━━━━━━\u001b[0m\u001b[37m\u001b[0m \u001b[1m0s\u001b[0m 532us/step - RootMeanSquaredError: 0.5679 - loss: 0.3226 - val_RootMeanSquaredError: 1.2709 - val_loss: 1.6153\n",
      "Epoch 15/20\n",
      "\u001b[1m363/363\u001b[0m \u001b[32m━━━━━━━━━━━━━━━━━━━━\u001b[0m\u001b[37m\u001b[0m \u001b[1m0s\u001b[0m 532us/step - RootMeanSquaredError: 0.5634 - loss: 0.3175 - val_RootMeanSquaredError: 0.9632 - val_loss: 0.9277\n",
      "Epoch 16/20\n",
      "\u001b[1m363/363\u001b[0m \u001b[32m━━━━━━━━━━━━━━━━━━━━\u001b[0m\u001b[37m\u001b[0m \u001b[1m0s\u001b[0m 534us/step - RootMeanSquaredError: 0.5602 - loss: 0.3140 - val_RootMeanSquaredError: 1.0363 - val_loss: 1.0739\n",
      "Epoch 17/20\n",
      "\u001b[1m363/363\u001b[0m \u001b[32m━━━━━━━━━━━━━━━━━━━━\u001b[0m\u001b[37m\u001b[0m \u001b[1m0s\u001b[0m 533us/step - RootMeanSquaredError: 0.5581 - loss: 0.3115 - val_RootMeanSquaredError: 0.9739 - val_loss: 0.9485\n",
      "Epoch 18/20\n",
      "\u001b[1m363/363\u001b[0m \u001b[32m━━━━━━━━━━━━━━━━━━━━\u001b[0m\u001b[37m\u001b[0m \u001b[1m0s\u001b[0m 535us/step - RootMeanSquaredError: 0.5565 - loss: 0.3098 - val_RootMeanSquaredError: 1.0925 - val_loss: 1.1936\n",
      "Epoch 19/20\n",
      "\u001b[1m363/363\u001b[0m \u001b[32m━━━━━━━━━━━━━━━━━━━━\u001b[0m\u001b[37m\u001b[0m \u001b[1m0s\u001b[0m 533us/step - RootMeanSquaredError: 0.5550 - loss: 0.3081 - val_RootMeanSquaredError: 1.0279 - val_loss: 1.0566\n",
      "Epoch 20/20\n",
      "\u001b[1m363/363\u001b[0m \u001b[32m━━━━━━━━━━━━━━━━━━━━\u001b[0m\u001b[37m\u001b[0m \u001b[1m0s\u001b[0m 545us/step - RootMeanSquaredError: 0.5536 - loss: 0.3066 - val_RootMeanSquaredError: 1.0937 - val_loss: 1.1961\n",
      "\u001b[1m162/162\u001b[0m \u001b[32m━━━━━━━━━━━━━━━━━━━━\u001b[0m\u001b[37m\u001b[0m \u001b[1m0s\u001b[0m 336us/step - RootMeanSquaredError: 0.5545 - loss: 0.3077\n",
      "\u001b[1m1/1\u001b[0m \u001b[32m━━━━━━━━━━━━━━━━━━━━\u001b[0m\u001b[37m\u001b[0m \u001b[1m0s\u001b[0m 28ms/step\n"
     ]
    },
    {
     "name": "stderr",
     "output_type": "stream",
     "text": [
      "/opt/anaconda3/lib/python3.12/site-packages/keras/src/models/functional.py:238: UserWarning: The structure of `inputs` doesn't match the expected structure.\n",
      "Expected: ['keras_tensor']\n",
      "Received: inputs=Tensor(shape=(4, 8))\n",
      "  warnings.warn(msg)\n"
     ]
    }
   ],
   "source": [
    "optimizer=tf.keras.optimizers.Adam(learning_rate=1e-3)\n",
    "model.compile(loss=\"mse\",optimizer=optimizer,metrics=[\"RootMeanSquaredError\"])\n",
    "\n",
    "history=model.fit(X_train,y_train,epochs=20,\n",
    "                 validation_data=(X_valid,y_valid))\n",
    "mse_test=model.evaluate(X_test,y_test)\n",
    "y_pred=model.predict(X_new)"
   ]
  },
  {
   "cell_type": "markdown",
   "id": "b5fa6145-055b-4947-bd52-e8ba021e88b0",
   "metadata": {},
   "source": [
    "##### wide and deep"
   ]
  },
  {
   "cell_type": "code",
   "execution_count": 67,
   "id": "e0ad55a8-7454-4639-95ea-30b300cd0d35",
   "metadata": {},
   "outputs": [],
   "source": [
    "tf.keras.backend.clear_session()\n",
    "tf.random.set_seed(42)\n"
   ]
  },
  {
   "cell_type": "code",
   "execution_count": 68,
   "id": "c5d3d4e7-669c-49bd-a65a-ebb6ecc6479d",
   "metadata": {},
   "outputs": [],
   "source": [
    "input_wide=tf.keras.layers.Input(shape=[5],name=\"wide_input\")\n",
    "input_deep=tf.keras.layers.Input(shape=[6],name=\"deep_input\")\n",
    "norm_layer_wide=tf.keras.layers.Normalization(name=\"wide_norm\")\n",
    "norm_layer_deep=tf.keras.layers.Normalization(name=\"deep_norm\")\n",
    "\n",
    "norm_wide=norm_layer_wide(input_wide)\n",
    "norm_deep=norm_layer_deep(input_deep)\n",
    "hidden1=tf.keras.layers.Dense(30,activation=\"relu\",name=\"hidden1\")(norm_deep)\n",
    "hidden2=tf.keras.layers.Dense(30,activation=\"relu\",name=\"hidden2\")(hidden1)\n",
    "concat=tf.keras.layers.concatenate([norm_wide,hidden2],name=\"concat_layer\")\n",
    "output=tf.keras.layers.Dense(1,name=\"output\")(concat)\n",
    "model=tf.keras.Model(inputs=[input_wide,input_deep],outputs=[output],name=\"wide_deep_output\")"
   ]
  },
  {
   "cell_type": "code",
   "execution_count": 69,
   "id": "5a54382e-3f54-4a77-93e5-8e992142141f",
   "metadata": {},
   "outputs": [
    {
     "data": {
      "text/html": [
       "<pre style=\"white-space:pre;overflow-x:auto;line-height:normal;font-family:Menlo,'DejaVu Sans Mono',consolas,'Courier New',monospace\"><span style=\"font-weight: bold\">Model: \"wide_deep_output\"</span>\n",
       "</pre>\n"
      ],
      "text/plain": [
       "\u001b[1mModel: \"wide_deep_output\"\u001b[0m\n"
      ]
     },
     "metadata": {},
     "output_type": "display_data"
    },
    {
     "data": {
      "text/html": [
       "<pre style=\"white-space:pre;overflow-x:auto;line-height:normal;font-family:Menlo,'DejaVu Sans Mono',consolas,'Courier New',monospace\">┏━━━━━━━━━━━━━━━━━━━━━┳━━━━━━━━━━━━━━━━━━━┳━━━━━━━━━━━━┳━━━━━━━━━━━━━━━━━━━┓\n",
       "┃<span style=\"font-weight: bold\"> Layer (type)        </span>┃<span style=\"font-weight: bold\"> Output Shape      </span>┃<span style=\"font-weight: bold\">    Param # </span>┃<span style=\"font-weight: bold\"> Connected to      </span>┃\n",
       "┡━━━━━━━━━━━━━━━━━━━━━╇━━━━━━━━━━━━━━━━━━━╇━━━━━━━━━━━━╇━━━━━━━━━━━━━━━━━━━┩\n",
       "│ deep_input          │ (<span style=\"color: #00d7ff; text-decoration-color: #00d7ff\">None</span>, <span style=\"color: #00af00; text-decoration-color: #00af00\">6</span>)         │          <span style=\"color: #00af00; text-decoration-color: #00af00\">0</span> │ -                 │\n",
       "│ (<span style=\"color: #0087ff; text-decoration-color: #0087ff\">InputLayer</span>)        │                   │            │                   │\n",
       "├─────────────────────┼───────────────────┼────────────┼───────────────────┤\n",
       "│ deep_norm           │ (<span style=\"color: #00d7ff; text-decoration-color: #00d7ff\">None</span>, <span style=\"color: #00af00; text-decoration-color: #00af00\">6</span>)         │         <span style=\"color: #00af00; text-decoration-color: #00af00\">13</span> │ deep_input[<span style=\"color: #00af00; text-decoration-color: #00af00\">0</span>][<span style=\"color: #00af00; text-decoration-color: #00af00\">0</span>]  │\n",
       "│ (<span style=\"color: #0087ff; text-decoration-color: #0087ff\">Normalization</span>)     │                   │            │                   │\n",
       "├─────────────────────┼───────────────────┼────────────┼───────────────────┤\n",
       "│ wide_input          │ (<span style=\"color: #00d7ff; text-decoration-color: #00d7ff\">None</span>, <span style=\"color: #00af00; text-decoration-color: #00af00\">5</span>)         │          <span style=\"color: #00af00; text-decoration-color: #00af00\">0</span> │ -                 │\n",
       "│ (<span style=\"color: #0087ff; text-decoration-color: #0087ff\">InputLayer</span>)        │                   │            │                   │\n",
       "├─────────────────────┼───────────────────┼────────────┼───────────────────┤\n",
       "│ hidden1 (<span style=\"color: #0087ff; text-decoration-color: #0087ff\">Dense</span>)     │ (<span style=\"color: #00d7ff; text-decoration-color: #00d7ff\">None</span>, <span style=\"color: #00af00; text-decoration-color: #00af00\">30</span>)        │        <span style=\"color: #00af00; text-decoration-color: #00af00\">210</span> │ deep_norm[<span style=\"color: #00af00; text-decoration-color: #00af00\">0</span>][<span style=\"color: #00af00; text-decoration-color: #00af00\">0</span>]   │\n",
       "├─────────────────────┼───────────────────┼────────────┼───────────────────┤\n",
       "│ wide_norm           │ (<span style=\"color: #00d7ff; text-decoration-color: #00d7ff\">None</span>, <span style=\"color: #00af00; text-decoration-color: #00af00\">5</span>)         │         <span style=\"color: #00af00; text-decoration-color: #00af00\">11</span> │ wide_input[<span style=\"color: #00af00; text-decoration-color: #00af00\">0</span>][<span style=\"color: #00af00; text-decoration-color: #00af00\">0</span>]  │\n",
       "│ (<span style=\"color: #0087ff; text-decoration-color: #0087ff\">Normalization</span>)     │                   │            │                   │\n",
       "├─────────────────────┼───────────────────┼────────────┼───────────────────┤\n",
       "│ hidden2 (<span style=\"color: #0087ff; text-decoration-color: #0087ff\">Dense</span>)     │ (<span style=\"color: #00d7ff; text-decoration-color: #00d7ff\">None</span>, <span style=\"color: #00af00; text-decoration-color: #00af00\">30</span>)        │        <span style=\"color: #00af00; text-decoration-color: #00af00\">930</span> │ hidden1[<span style=\"color: #00af00; text-decoration-color: #00af00\">0</span>][<span style=\"color: #00af00; text-decoration-color: #00af00\">0</span>]     │\n",
       "├─────────────────────┼───────────────────┼────────────┼───────────────────┤\n",
       "│ concat_layer        │ (<span style=\"color: #00d7ff; text-decoration-color: #00d7ff\">None</span>, <span style=\"color: #00af00; text-decoration-color: #00af00\">35</span>)        │          <span style=\"color: #00af00; text-decoration-color: #00af00\">0</span> │ wide_norm[<span style=\"color: #00af00; text-decoration-color: #00af00\">0</span>][<span style=\"color: #00af00; text-decoration-color: #00af00\">0</span>],  │\n",
       "│ (<span style=\"color: #0087ff; text-decoration-color: #0087ff\">Concatenate</span>)       │                   │            │ hidden2[<span style=\"color: #00af00; text-decoration-color: #00af00\">0</span>][<span style=\"color: #00af00; text-decoration-color: #00af00\">0</span>]     │\n",
       "├─────────────────────┼───────────────────┼────────────┼───────────────────┤\n",
       "│ output (<span style=\"color: #0087ff; text-decoration-color: #0087ff\">Dense</span>)      │ (<span style=\"color: #00d7ff; text-decoration-color: #00d7ff\">None</span>, <span style=\"color: #00af00; text-decoration-color: #00af00\">1</span>)         │         <span style=\"color: #00af00; text-decoration-color: #00af00\">36</span> │ concat_layer[<span style=\"color: #00af00; text-decoration-color: #00af00\">0</span>][<span style=\"color: #00af00; text-decoration-color: #00af00\">…</span> │\n",
       "└─────────────────────┴───────────────────┴────────────┴───────────────────┘\n",
       "</pre>\n"
      ],
      "text/plain": [
       "┏━━━━━━━━━━━━━━━━━━━━━┳━━━━━━━━━━━━━━━━━━━┳━━━━━━━━━━━━┳━━━━━━━━━━━━━━━━━━━┓\n",
       "┃\u001b[1m \u001b[0m\u001b[1mLayer (type)       \u001b[0m\u001b[1m \u001b[0m┃\u001b[1m \u001b[0m\u001b[1mOutput Shape     \u001b[0m\u001b[1m \u001b[0m┃\u001b[1m \u001b[0m\u001b[1m   Param #\u001b[0m\u001b[1m \u001b[0m┃\u001b[1m \u001b[0m\u001b[1mConnected to     \u001b[0m\u001b[1m \u001b[0m┃\n",
       "┡━━━━━━━━━━━━━━━━━━━━━╇━━━━━━━━━━━━━━━━━━━╇━━━━━━━━━━━━╇━━━━━━━━━━━━━━━━━━━┩\n",
       "│ deep_input          │ (\u001b[38;5;45mNone\u001b[0m, \u001b[38;5;34m6\u001b[0m)         │          \u001b[38;5;34m0\u001b[0m │ -                 │\n",
       "│ (\u001b[38;5;33mInputLayer\u001b[0m)        │                   │            │                   │\n",
       "├─────────────────────┼───────────────────┼────────────┼───────────────────┤\n",
       "│ deep_norm           │ (\u001b[38;5;45mNone\u001b[0m, \u001b[38;5;34m6\u001b[0m)         │         \u001b[38;5;34m13\u001b[0m │ deep_input[\u001b[38;5;34m0\u001b[0m][\u001b[38;5;34m0\u001b[0m]  │\n",
       "│ (\u001b[38;5;33mNormalization\u001b[0m)     │                   │            │                   │\n",
       "├─────────────────────┼───────────────────┼────────────┼───────────────────┤\n",
       "│ wide_input          │ (\u001b[38;5;45mNone\u001b[0m, \u001b[38;5;34m5\u001b[0m)         │          \u001b[38;5;34m0\u001b[0m │ -                 │\n",
       "│ (\u001b[38;5;33mInputLayer\u001b[0m)        │                   │            │                   │\n",
       "├─────────────────────┼───────────────────┼────────────┼───────────────────┤\n",
       "│ hidden1 (\u001b[38;5;33mDense\u001b[0m)     │ (\u001b[38;5;45mNone\u001b[0m, \u001b[38;5;34m30\u001b[0m)        │        \u001b[38;5;34m210\u001b[0m │ deep_norm[\u001b[38;5;34m0\u001b[0m][\u001b[38;5;34m0\u001b[0m]   │\n",
       "├─────────────────────┼───────────────────┼────────────┼───────────────────┤\n",
       "│ wide_norm           │ (\u001b[38;5;45mNone\u001b[0m, \u001b[38;5;34m5\u001b[0m)         │         \u001b[38;5;34m11\u001b[0m │ wide_input[\u001b[38;5;34m0\u001b[0m][\u001b[38;5;34m0\u001b[0m]  │\n",
       "│ (\u001b[38;5;33mNormalization\u001b[0m)     │                   │            │                   │\n",
       "├─────────────────────┼───────────────────┼────────────┼───────────────────┤\n",
       "│ hidden2 (\u001b[38;5;33mDense\u001b[0m)     │ (\u001b[38;5;45mNone\u001b[0m, \u001b[38;5;34m30\u001b[0m)        │        \u001b[38;5;34m930\u001b[0m │ hidden1[\u001b[38;5;34m0\u001b[0m][\u001b[38;5;34m0\u001b[0m]     │\n",
       "├─────────────────────┼───────────────────┼────────────┼───────────────────┤\n",
       "│ concat_layer        │ (\u001b[38;5;45mNone\u001b[0m, \u001b[38;5;34m35\u001b[0m)        │          \u001b[38;5;34m0\u001b[0m │ wide_norm[\u001b[38;5;34m0\u001b[0m][\u001b[38;5;34m0\u001b[0m],  │\n",
       "│ (\u001b[38;5;33mConcatenate\u001b[0m)       │                   │            │ hidden2[\u001b[38;5;34m0\u001b[0m][\u001b[38;5;34m0\u001b[0m]     │\n",
       "├─────────────────────┼───────────────────┼────────────┼───────────────────┤\n",
       "│ output (\u001b[38;5;33mDense\u001b[0m)      │ (\u001b[38;5;45mNone\u001b[0m, \u001b[38;5;34m1\u001b[0m)         │         \u001b[38;5;34m36\u001b[0m │ concat_layer[\u001b[38;5;34m0\u001b[0m][\u001b[38;5;34m…\u001b[0m │\n",
       "└─────────────────────┴───────────────────┴────────────┴───────────────────┘\n"
      ]
     },
     "metadata": {},
     "output_type": "display_data"
    },
    {
     "data": {
      "text/html": [
       "<pre style=\"white-space:pre;overflow-x:auto;line-height:normal;font-family:Menlo,'DejaVu Sans Mono',consolas,'Courier New',monospace\"><span style=\"font-weight: bold\"> Total params: </span><span style=\"color: #00af00; text-decoration-color: #00af00\">1,200</span> (4.70 KB)\n",
       "</pre>\n"
      ],
      "text/plain": [
       "\u001b[1m Total params: \u001b[0m\u001b[38;5;34m1,200\u001b[0m (4.70 KB)\n"
      ]
     },
     "metadata": {},
     "output_type": "display_data"
    },
    {
     "data": {
      "text/html": [
       "<pre style=\"white-space:pre;overflow-x:auto;line-height:normal;font-family:Menlo,'DejaVu Sans Mono',consolas,'Courier New',monospace\"><span style=\"font-weight: bold\"> Trainable params: </span><span style=\"color: #00af00; text-decoration-color: #00af00\">1,176</span> (4.59 KB)\n",
       "</pre>\n"
      ],
      "text/plain": [
       "\u001b[1m Trainable params: \u001b[0m\u001b[38;5;34m1,176\u001b[0m (4.59 KB)\n"
      ]
     },
     "metadata": {},
     "output_type": "display_data"
    },
    {
     "data": {
      "text/html": [
       "<pre style=\"white-space:pre;overflow-x:auto;line-height:normal;font-family:Menlo,'DejaVu Sans Mono',consolas,'Courier New',monospace\"><span style=\"font-weight: bold\"> Non-trainable params: </span><span style=\"color: #00af00; text-decoration-color: #00af00\">24</span> (104.00 B)\n",
       "</pre>\n"
      ],
      "text/plain": [
       "\u001b[1m Non-trainable params: \u001b[0m\u001b[38;5;34m24\u001b[0m (104.00 B)\n"
      ]
     },
     "metadata": {},
     "output_type": "display_data"
    }
   ],
   "source": [
    "model.summary()"
   ]
  },
  {
   "cell_type": "code",
   "execution_count": 70,
   "id": "46d7f875-f935-4ed7-ab2c-56806b248801",
   "metadata": {},
   "outputs": [
    {
     "data": {
      "text/plain": [
       "(11610, 8)"
      ]
     },
     "execution_count": 70,
     "metadata": {},
     "output_type": "execute_result"
    }
   ],
   "source": [
    "X_train.shape"
   ]
  },
  {
   "cell_type": "code",
   "execution_count": 71,
   "id": "b582368a-a69b-4ea8-94cc-daed857540de",
   "metadata": {},
   "outputs": [],
   "source": [
    "X_train_wide,X_train_deep=X_train[:,:5],X_train[:,2:]"
   ]
  },
  {
   "cell_type": "code",
   "execution_count": 72,
   "id": "60d14fd9-2bce-4eeb-8292-b233b5c034e9",
   "metadata": {},
   "outputs": [
    {
     "data": {
      "text/plain": [
       "(11610, 5)"
      ]
     },
     "execution_count": 72,
     "metadata": {},
     "output_type": "execute_result"
    }
   ],
   "source": [
    "X_train_wide.shape"
   ]
  },
  {
   "cell_type": "code",
   "execution_count": 73,
   "id": "5c912dca-9352-4904-b403-e94a97fa2ec0",
   "metadata": {},
   "outputs": [
    {
     "data": {
      "text/plain": [
       "(11610, 6)"
      ]
     },
     "execution_count": 73,
     "metadata": {},
     "output_type": "execute_result"
    }
   ],
   "source": [
    "X_train_deep.shape"
   ]
  },
  {
   "cell_type": "code",
   "execution_count": 74,
   "id": "c23f1685-bc83-4546-8f09-28094812b965",
   "metadata": {},
   "outputs": [
    {
     "name": "stdout",
     "output_type": "stream",
     "text": [
      "Epoch 1/20\n",
      "\u001b[1m363/363\u001b[0m \u001b[32m━━━━━━━━━━━━━━━━━━━━\u001b[0m\u001b[37m\u001b[0m \u001b[1m1s\u001b[0m 728us/step - RootMeanSquaredError: 1.6025 - loss: 2.6517 - val_RootMeanSquaredError: 1.3608 - val_loss: 1.8518\n",
      "Epoch 2/20\n",
      "\u001b[1m363/363\u001b[0m \u001b[32m━━━━━━━━━━━━━━━━━━━━\u001b[0m\u001b[37m\u001b[0m \u001b[1m0s\u001b[0m 556us/step - RootMeanSquaredError: 0.7812 - loss: 0.6110 - val_RootMeanSquaredError: 0.7328 - val_loss: 0.5371\n",
      "Epoch 3/20\n",
      "\u001b[1m363/363\u001b[0m \u001b[32m━━━━━━━━━━━━━━━━━━━━\u001b[0m\u001b[37m\u001b[0m \u001b[1m0s\u001b[0m 552us/step - RootMeanSquaredError: 0.6985 - loss: 0.4882 - val_RootMeanSquaredError: 0.6490 - val_loss: 0.4211\n",
      "Epoch 4/20\n",
      "\u001b[1m363/363\u001b[0m \u001b[32m━━━━━━━━━━━━━━━━━━━━\u001b[0m\u001b[37m\u001b[0m \u001b[1m0s\u001b[0m 566us/step - RootMeanSquaredError: 0.6663 - loss: 0.4442 - val_RootMeanSquaredError: 0.6195 - val_loss: 0.3838\n",
      "Epoch 5/20\n",
      "\u001b[1m363/363\u001b[0m \u001b[32m━━━━━━━━━━━━━━━━━━━━\u001b[0m\u001b[37m\u001b[0m \u001b[1m0s\u001b[0m 557us/step - RootMeanSquaredError: 0.6451 - loss: 0.4163 - val_RootMeanSquaredError: 0.6283 - val_loss: 0.3948\n",
      "Epoch 6/20\n",
      "\u001b[1m363/363\u001b[0m \u001b[32m━━━━━━━━━━━━━━━━━━━━\u001b[0m\u001b[37m\u001b[0m \u001b[1m0s\u001b[0m 573us/step - RootMeanSquaredError: 0.6301 - loss: 0.3972 - val_RootMeanSquaredError: 0.5929 - val_loss: 0.3515\n",
      "Epoch 7/20\n",
      "\u001b[1m363/363\u001b[0m \u001b[32m━━━━━━━━━━━━━━━━━━━━\u001b[0m\u001b[37m\u001b[0m \u001b[1m0s\u001b[0m 551us/step - RootMeanSquaredError: 0.6203 - loss: 0.3849 - val_RootMeanSquaredError: 0.7273 - val_loss: 0.5290\n",
      "Epoch 8/20\n",
      "\u001b[1m363/363\u001b[0m \u001b[32m━━━━━━━━━━━━━━━━━━━━\u001b[0m\u001b[37m\u001b[0m \u001b[1m0s\u001b[0m 553us/step - RootMeanSquaredError: 0.6123 - loss: 0.3750 - val_RootMeanSquaredError: 0.7625 - val_loss: 0.5815\n",
      "Epoch 9/20\n",
      "\u001b[1m363/363\u001b[0m \u001b[32m━━━━━━━━━━━━━━━━━━━━\u001b[0m\u001b[37m\u001b[0m \u001b[1m0s\u001b[0m 584us/step - RootMeanSquaredError: 0.6071 - loss: 0.3687 - val_RootMeanSquaredError: 1.2246 - val_loss: 1.4996\n",
      "Epoch 10/20\n",
      "\u001b[1m363/363\u001b[0m \u001b[32m━━━━━━━━━━━━━━━━━━━━\u001b[0m\u001b[37m\u001b[0m \u001b[1m0s\u001b[0m 627us/step - RootMeanSquaredError: 0.6039 - loss: 0.3649 - val_RootMeanSquaredError: 1.2955 - val_loss: 1.6782\n",
      "Epoch 11/20\n",
      "\u001b[1m363/363\u001b[0m \u001b[32m━━━━━━━━━━━━━━━━━━━━\u001b[0m\u001b[37m\u001b[0m \u001b[1m0s\u001b[0m 553us/step - RootMeanSquaredError: 0.6006 - loss: 0.3608 - val_RootMeanSquaredError: 1.2376 - val_loss: 1.5315\n",
      "Epoch 12/20\n",
      "\u001b[1m363/363\u001b[0m \u001b[32m━━━━━━━━━━━━━━━━━━━━\u001b[0m\u001b[37m\u001b[0m \u001b[1m0s\u001b[0m 553us/step - RootMeanSquaredError: 0.5959 - loss: 0.3552 - val_RootMeanSquaredError: 1.2491 - val_loss: 1.5602\n",
      "Epoch 13/20\n",
      "\u001b[1m363/363\u001b[0m \u001b[32m━━━━━━━━━━━━━━━━━━━━\u001b[0m\u001b[37m\u001b[0m \u001b[1m0s\u001b[0m 554us/step - RootMeanSquaredError: 0.5923 - loss: 0.3509 - val_RootMeanSquaredError: 1.0546 - val_loss: 1.1122\n",
      "Epoch 14/20\n",
      "\u001b[1m363/363\u001b[0m \u001b[32m━━━━━━━━━━━━━━━━━━━━\u001b[0m\u001b[37m\u001b[0m \u001b[1m0s\u001b[0m 552us/step - RootMeanSquaredError: 0.5894 - loss: 0.3475 - val_RootMeanSquaredError: 1.0924 - val_loss: 1.1934\n",
      "Epoch 15/20\n",
      "\u001b[1m363/363\u001b[0m \u001b[32m━━━━━━━━━━━━━━━━━━━━\u001b[0m\u001b[37m\u001b[0m \u001b[1m0s\u001b[0m 551us/step - RootMeanSquaredError: 0.5857 - loss: 0.3431 - val_RootMeanSquaredError: 0.9378 - val_loss: 0.8795\n",
      "Epoch 16/20\n",
      "\u001b[1m363/363\u001b[0m \u001b[32m━━━━━━━━━━━━━━━━━━━━\u001b[0m\u001b[37m\u001b[0m \u001b[1m0s\u001b[0m 552us/step - RootMeanSquaredError: 0.5835 - loss: 0.3406 - val_RootMeanSquaredError: 0.9484 - val_loss: 0.8995\n",
      "Epoch 17/20\n",
      "\u001b[1m363/363\u001b[0m \u001b[32m━━━━━━━━━━━━━━━━━━━━\u001b[0m\u001b[37m\u001b[0m \u001b[1m0s\u001b[0m 552us/step - RootMeanSquaredError: 0.5800 - loss: 0.3365 - val_RootMeanSquaredError: 0.8443 - val_loss: 0.7129\n",
      "Epoch 18/20\n",
      "\u001b[1m363/363\u001b[0m \u001b[32m━━━━━━━━━━━━━━━━━━━━\u001b[0m\u001b[37m\u001b[0m \u001b[1m0s\u001b[0m 553us/step - RootMeanSquaredError: 0.5786 - loss: 0.3349 - val_RootMeanSquaredError: 0.8928 - val_loss: 0.7971\n",
      "Epoch 19/20\n",
      "\u001b[1m363/363\u001b[0m \u001b[32m━━━━━━━━━━━━━━━━━━━━\u001b[0m\u001b[37m\u001b[0m \u001b[1m0s\u001b[0m 561us/step - RootMeanSquaredError: 0.5763 - loss: 0.3322 - val_RootMeanSquaredError: 0.8414 - val_loss: 0.7080\n",
      "Epoch 20/20\n",
      "\u001b[1m363/363\u001b[0m \u001b[32m━━━━━━━━━━━━━━━━━━━━\u001b[0m\u001b[37m\u001b[0m \u001b[1m0s\u001b[0m 551us/step - RootMeanSquaredError: 0.5757 - loss: 0.3315 - val_RootMeanSquaredError: 0.9013 - val_loss: 0.8123\n",
      "\u001b[1m162/162\u001b[0m \u001b[32m━━━━━━━━━━━━━━━━━━━━\u001b[0m\u001b[37m\u001b[0m \u001b[1m0s\u001b[0m 370us/step - RootMeanSquaredError: 0.5710 - loss: 0.3262\n",
      "\u001b[1m1/1\u001b[0m \u001b[32m━━━━━━━━━━━━━━━━━━━━\u001b[0m\u001b[37m\u001b[0m \u001b[1m0s\u001b[0m 28ms/step\n"
     ]
    }
   ],
   "source": [
    "optimizer=tf.keras.optimizers.Adam(learning_rate=1e-3)\n",
    "model.compile(loss=\"mse\",optimizer=optimizer,metrics=[\"RootMeanSquaredError\"])\n",
    "\n",
    "X_train_wide,X_train_deep=X_train[:,:5],X_train[:,2:]\n",
    "X_valid_wide,X_valid_deep=X_valid[:,:5],X_valid[:,2:]\n",
    "X_test_wide,X_test_deep=X_test[:,:5],X_test[:,2:]\n",
    "X_new_wide,X_new_deep=X_test_wide[:3],X_test_deep[:3]\n",
    "\n",
    "norm_layer_wide.adapt(X_train_wide)\n",
    "norm_layer_deep.adapt(X_train_deep)\n",
    "\n",
    "history=model.fit((X_train_wide,X_train_deep),y_train,epochs=20,\n",
    "                 validation_data=((X_valid_wide,X_valid_deep),y_valid))\n",
    "mse=model.evaluate((X_test_wide,X_test_deep),y_test)\n",
    "y_pred=model.predict((X_new_wide,X_new_deep))"
   ]
  },
  {
   "cell_type": "markdown",
   "id": "76e77f7f-4126-4e5d-b469-a9689f00f246",
   "metadata": {},
   "source": [
    "##### Auxilary output"
   ]
  },
  {
   "cell_type": "code",
   "execution_count": 76,
   "id": "1acdefa9-d030-4bb7-8136-76e105e346b1",
   "metadata": {},
   "outputs": [],
   "source": [
    "tf.keras.backend.clear_session()\n",
    "tf.random.set_seed(42)"
   ]
  },
  {
   "cell_type": "code",
   "execution_count": 77,
   "id": "ee345711-6320-4371-a277-f9663818abcb",
   "metadata": {},
   "outputs": [],
   "source": [
    "input_wide=tf.keras.layers.Input(shape=[5],name=\"wide_input\")\n",
    "input_deep=tf.keras.layers.Input(shape=[6],name=\"deep_input\")\n",
    "norm_layer_wide=tf.keras.layers.Normalization(name=\"wide_norm\")\n",
    "norm_layer_deep=tf.keras.layers.Normalization(name=\"deep_norm\")\n",
    "norm_wide=norm_layer_wide(input_wide)\n",
    "norm_deep=norm_layer_deep(input_deep)\n",
    "hidden1=tf.keras.layers.Dense(30,activation=\"relu\",name=\"hidden1\")(norm_deep)\n",
    "hidden2=tf.keras.layers.Dense(30,activation=\"relu\",name=\"hidden2\")(hidden1)\n",
    "concat=tf.keras.layers.concatenate([norm_wide,hidden2],name=\"concat_layer\")\n",
    "output=tf.keras.layers.Dense(1,name=\"main_output\")(concat)\n",
    "aux_output=tf.keras.layers.Dense(1,name=\"aux_output\")(hidden2)\n",
    "\n",
    "model=tf.keras.Model(inputs=[input_wide,input_deep],outputs=[output,aux_output])"
   ]
  },
  {
   "cell_type": "code",
   "execution_count": 78,
   "id": "0281850e-c0d9-40ef-bf5d-a9a169cf3903",
   "metadata": {},
   "outputs": [
    {
     "data": {
      "text/html": [
       "<pre style=\"white-space:pre;overflow-x:auto;line-height:normal;font-family:Menlo,'DejaVu Sans Mono',consolas,'Courier New',monospace\"><span style=\"font-weight: bold\">Model: \"functional\"</span>\n",
       "</pre>\n"
      ],
      "text/plain": [
       "\u001b[1mModel: \"functional\"\u001b[0m\n"
      ]
     },
     "metadata": {},
     "output_type": "display_data"
    },
    {
     "data": {
      "text/html": [
       "<pre style=\"white-space:pre;overflow-x:auto;line-height:normal;font-family:Menlo,'DejaVu Sans Mono',consolas,'Courier New',monospace\">┏━━━━━━━━━━━━━━━━━━━━━┳━━━━━━━━━━━━━━━━━━━┳━━━━━━━━━━━━┳━━━━━━━━━━━━━━━━━━━┓\n",
       "┃<span style=\"font-weight: bold\"> Layer (type)        </span>┃<span style=\"font-weight: bold\"> Output Shape      </span>┃<span style=\"font-weight: bold\">    Param # </span>┃<span style=\"font-weight: bold\"> Connected to      </span>┃\n",
       "┡━━━━━━━━━━━━━━━━━━━━━╇━━━━━━━━━━━━━━━━━━━╇━━━━━━━━━━━━╇━━━━━━━━━━━━━━━━━━━┩\n",
       "│ deep_input          │ (<span style=\"color: #00d7ff; text-decoration-color: #00d7ff\">None</span>, <span style=\"color: #00af00; text-decoration-color: #00af00\">6</span>)         │          <span style=\"color: #00af00; text-decoration-color: #00af00\">0</span> │ -                 │\n",
       "│ (<span style=\"color: #0087ff; text-decoration-color: #0087ff\">InputLayer</span>)        │                   │            │                   │\n",
       "├─────────────────────┼───────────────────┼────────────┼───────────────────┤\n",
       "│ deep_norm           │ (<span style=\"color: #00d7ff; text-decoration-color: #00d7ff\">None</span>, <span style=\"color: #00af00; text-decoration-color: #00af00\">6</span>)         │         <span style=\"color: #00af00; text-decoration-color: #00af00\">13</span> │ deep_input[<span style=\"color: #00af00; text-decoration-color: #00af00\">0</span>][<span style=\"color: #00af00; text-decoration-color: #00af00\">0</span>]  │\n",
       "│ (<span style=\"color: #0087ff; text-decoration-color: #0087ff\">Normalization</span>)     │                   │            │                   │\n",
       "├─────────────────────┼───────────────────┼────────────┼───────────────────┤\n",
       "│ wide_input          │ (<span style=\"color: #00d7ff; text-decoration-color: #00d7ff\">None</span>, <span style=\"color: #00af00; text-decoration-color: #00af00\">5</span>)         │          <span style=\"color: #00af00; text-decoration-color: #00af00\">0</span> │ -                 │\n",
       "│ (<span style=\"color: #0087ff; text-decoration-color: #0087ff\">InputLayer</span>)        │                   │            │                   │\n",
       "├─────────────────────┼───────────────────┼────────────┼───────────────────┤\n",
       "│ hidden1 (<span style=\"color: #0087ff; text-decoration-color: #0087ff\">Dense</span>)     │ (<span style=\"color: #00d7ff; text-decoration-color: #00d7ff\">None</span>, <span style=\"color: #00af00; text-decoration-color: #00af00\">30</span>)        │        <span style=\"color: #00af00; text-decoration-color: #00af00\">210</span> │ deep_norm[<span style=\"color: #00af00; text-decoration-color: #00af00\">0</span>][<span style=\"color: #00af00; text-decoration-color: #00af00\">0</span>]   │\n",
       "├─────────────────────┼───────────────────┼────────────┼───────────────────┤\n",
       "│ wide_norm           │ (<span style=\"color: #00d7ff; text-decoration-color: #00d7ff\">None</span>, <span style=\"color: #00af00; text-decoration-color: #00af00\">5</span>)         │         <span style=\"color: #00af00; text-decoration-color: #00af00\">11</span> │ wide_input[<span style=\"color: #00af00; text-decoration-color: #00af00\">0</span>][<span style=\"color: #00af00; text-decoration-color: #00af00\">0</span>]  │\n",
       "│ (<span style=\"color: #0087ff; text-decoration-color: #0087ff\">Normalization</span>)     │                   │            │                   │\n",
       "├─────────────────────┼───────────────────┼────────────┼───────────────────┤\n",
       "│ hidden2 (<span style=\"color: #0087ff; text-decoration-color: #0087ff\">Dense</span>)     │ (<span style=\"color: #00d7ff; text-decoration-color: #00d7ff\">None</span>, <span style=\"color: #00af00; text-decoration-color: #00af00\">30</span>)        │        <span style=\"color: #00af00; text-decoration-color: #00af00\">930</span> │ hidden1[<span style=\"color: #00af00; text-decoration-color: #00af00\">0</span>][<span style=\"color: #00af00; text-decoration-color: #00af00\">0</span>]     │\n",
       "├─────────────────────┼───────────────────┼────────────┼───────────────────┤\n",
       "│ concat_layer        │ (<span style=\"color: #00d7ff; text-decoration-color: #00d7ff\">None</span>, <span style=\"color: #00af00; text-decoration-color: #00af00\">35</span>)        │          <span style=\"color: #00af00; text-decoration-color: #00af00\">0</span> │ wide_norm[<span style=\"color: #00af00; text-decoration-color: #00af00\">0</span>][<span style=\"color: #00af00; text-decoration-color: #00af00\">0</span>],  │\n",
       "│ (<span style=\"color: #0087ff; text-decoration-color: #0087ff\">Concatenate</span>)       │                   │            │ hidden2[<span style=\"color: #00af00; text-decoration-color: #00af00\">0</span>][<span style=\"color: #00af00; text-decoration-color: #00af00\">0</span>]     │\n",
       "├─────────────────────┼───────────────────┼────────────┼───────────────────┤\n",
       "│ main_output (<span style=\"color: #0087ff; text-decoration-color: #0087ff\">Dense</span>) │ (<span style=\"color: #00d7ff; text-decoration-color: #00d7ff\">None</span>, <span style=\"color: #00af00; text-decoration-color: #00af00\">1</span>)         │         <span style=\"color: #00af00; text-decoration-color: #00af00\">36</span> │ concat_layer[<span style=\"color: #00af00; text-decoration-color: #00af00\">0</span>][<span style=\"color: #00af00; text-decoration-color: #00af00\">…</span> │\n",
       "├─────────────────────┼───────────────────┼────────────┼───────────────────┤\n",
       "│ aux_output (<span style=\"color: #0087ff; text-decoration-color: #0087ff\">Dense</span>)  │ (<span style=\"color: #00d7ff; text-decoration-color: #00d7ff\">None</span>, <span style=\"color: #00af00; text-decoration-color: #00af00\">1</span>)         │         <span style=\"color: #00af00; text-decoration-color: #00af00\">31</span> │ hidden2[<span style=\"color: #00af00; text-decoration-color: #00af00\">0</span>][<span style=\"color: #00af00; text-decoration-color: #00af00\">0</span>]     │\n",
       "└─────────────────────┴───────────────────┴────────────┴───────────────────┘\n",
       "</pre>\n"
      ],
      "text/plain": [
       "┏━━━━━━━━━━━━━━━━━━━━━┳━━━━━━━━━━━━━━━━━━━┳━━━━━━━━━━━━┳━━━━━━━━━━━━━━━━━━━┓\n",
       "┃\u001b[1m \u001b[0m\u001b[1mLayer (type)       \u001b[0m\u001b[1m \u001b[0m┃\u001b[1m \u001b[0m\u001b[1mOutput Shape     \u001b[0m\u001b[1m \u001b[0m┃\u001b[1m \u001b[0m\u001b[1m   Param #\u001b[0m\u001b[1m \u001b[0m┃\u001b[1m \u001b[0m\u001b[1mConnected to     \u001b[0m\u001b[1m \u001b[0m┃\n",
       "┡━━━━━━━━━━━━━━━━━━━━━╇━━━━━━━━━━━━━━━━━━━╇━━━━━━━━━━━━╇━━━━━━━━━━━━━━━━━━━┩\n",
       "│ deep_input          │ (\u001b[38;5;45mNone\u001b[0m, \u001b[38;5;34m6\u001b[0m)         │          \u001b[38;5;34m0\u001b[0m │ -                 │\n",
       "│ (\u001b[38;5;33mInputLayer\u001b[0m)        │                   │            │                   │\n",
       "├─────────────────────┼───────────────────┼────────────┼───────────────────┤\n",
       "│ deep_norm           │ (\u001b[38;5;45mNone\u001b[0m, \u001b[38;5;34m6\u001b[0m)         │         \u001b[38;5;34m13\u001b[0m │ deep_input[\u001b[38;5;34m0\u001b[0m][\u001b[38;5;34m0\u001b[0m]  │\n",
       "│ (\u001b[38;5;33mNormalization\u001b[0m)     │                   │            │                   │\n",
       "├─────────────────────┼───────────────────┼────────────┼───────────────────┤\n",
       "│ wide_input          │ (\u001b[38;5;45mNone\u001b[0m, \u001b[38;5;34m5\u001b[0m)         │          \u001b[38;5;34m0\u001b[0m │ -                 │\n",
       "│ (\u001b[38;5;33mInputLayer\u001b[0m)        │                   │            │                   │\n",
       "├─────────────────────┼───────────────────┼────────────┼───────────────────┤\n",
       "│ hidden1 (\u001b[38;5;33mDense\u001b[0m)     │ (\u001b[38;5;45mNone\u001b[0m, \u001b[38;5;34m30\u001b[0m)        │        \u001b[38;5;34m210\u001b[0m │ deep_norm[\u001b[38;5;34m0\u001b[0m][\u001b[38;5;34m0\u001b[0m]   │\n",
       "├─────────────────────┼───────────────────┼────────────┼───────────────────┤\n",
       "│ wide_norm           │ (\u001b[38;5;45mNone\u001b[0m, \u001b[38;5;34m5\u001b[0m)         │         \u001b[38;5;34m11\u001b[0m │ wide_input[\u001b[38;5;34m0\u001b[0m][\u001b[38;5;34m0\u001b[0m]  │\n",
       "│ (\u001b[38;5;33mNormalization\u001b[0m)     │                   │            │                   │\n",
       "├─────────────────────┼───────────────────┼────────────┼───────────────────┤\n",
       "│ hidden2 (\u001b[38;5;33mDense\u001b[0m)     │ (\u001b[38;5;45mNone\u001b[0m, \u001b[38;5;34m30\u001b[0m)        │        \u001b[38;5;34m930\u001b[0m │ hidden1[\u001b[38;5;34m0\u001b[0m][\u001b[38;5;34m0\u001b[0m]     │\n",
       "├─────────────────────┼───────────────────┼────────────┼───────────────────┤\n",
       "│ concat_layer        │ (\u001b[38;5;45mNone\u001b[0m, \u001b[38;5;34m35\u001b[0m)        │          \u001b[38;5;34m0\u001b[0m │ wide_norm[\u001b[38;5;34m0\u001b[0m][\u001b[38;5;34m0\u001b[0m],  │\n",
       "│ (\u001b[38;5;33mConcatenate\u001b[0m)       │                   │            │ hidden2[\u001b[38;5;34m0\u001b[0m][\u001b[38;5;34m0\u001b[0m]     │\n",
       "├─────────────────────┼───────────────────┼────────────┼───────────────────┤\n",
       "│ main_output (\u001b[38;5;33mDense\u001b[0m) │ (\u001b[38;5;45mNone\u001b[0m, \u001b[38;5;34m1\u001b[0m)         │         \u001b[38;5;34m36\u001b[0m │ concat_layer[\u001b[38;5;34m0\u001b[0m][\u001b[38;5;34m…\u001b[0m │\n",
       "├─────────────────────┼───────────────────┼────────────┼───────────────────┤\n",
       "│ aux_output (\u001b[38;5;33mDense\u001b[0m)  │ (\u001b[38;5;45mNone\u001b[0m, \u001b[38;5;34m1\u001b[0m)         │         \u001b[38;5;34m31\u001b[0m │ hidden2[\u001b[38;5;34m0\u001b[0m][\u001b[38;5;34m0\u001b[0m]     │\n",
       "└─────────────────────┴───────────────────┴────────────┴───────────────────┘\n"
      ]
     },
     "metadata": {},
     "output_type": "display_data"
    },
    {
     "data": {
      "text/html": [
       "<pre style=\"white-space:pre;overflow-x:auto;line-height:normal;font-family:Menlo,'DejaVu Sans Mono',consolas,'Courier New',monospace\"><span style=\"font-weight: bold\"> Total params: </span><span style=\"color: #00af00; text-decoration-color: #00af00\">1,231</span> (4.82 KB)\n",
       "</pre>\n"
      ],
      "text/plain": [
       "\u001b[1m Total params: \u001b[0m\u001b[38;5;34m1,231\u001b[0m (4.82 KB)\n"
      ]
     },
     "metadata": {},
     "output_type": "display_data"
    },
    {
     "data": {
      "text/html": [
       "<pre style=\"white-space:pre;overflow-x:auto;line-height:normal;font-family:Menlo,'DejaVu Sans Mono',consolas,'Courier New',monospace\"><span style=\"font-weight: bold\"> Trainable params: </span><span style=\"color: #00af00; text-decoration-color: #00af00\">1,207</span> (4.71 KB)\n",
       "</pre>\n"
      ],
      "text/plain": [
       "\u001b[1m Trainable params: \u001b[0m\u001b[38;5;34m1,207\u001b[0m (4.71 KB)\n"
      ]
     },
     "metadata": {},
     "output_type": "display_data"
    },
    {
     "data": {
      "text/html": [
       "<pre style=\"white-space:pre;overflow-x:auto;line-height:normal;font-family:Menlo,'DejaVu Sans Mono',consolas,'Courier New',monospace\"><span style=\"font-weight: bold\"> Non-trainable params: </span><span style=\"color: #00af00; text-decoration-color: #00af00\">24</span> (104.00 B)\n",
       "</pre>\n"
      ],
      "text/plain": [
       "\u001b[1m Non-trainable params: \u001b[0m\u001b[38;5;34m24\u001b[0m (104.00 B)\n"
      ]
     },
     "metadata": {},
     "output_type": "display_data"
    }
   ],
   "source": [
    "model.summary()"
   ]
  },
  {
   "cell_type": "code",
   "execution_count": 79,
   "id": "99b2211f-8105-4b12-bfed-a4df861a1a3a",
   "metadata": {},
   "outputs": [],
   "source": [
    "optimizer=tf.keras.optimizers.Adam(learning_rate=1e-3)\n",
    "model.compile(loss=(\"mse\",\"mse\"),optimizer=optimizer,loss_weights=(0.9,0.1),\n",
    "              metrics=[\"RootMeanSquaredError\",\"RootMeanSquaredError\"])"
   ]
  },
  {
   "cell_type": "code",
   "execution_count": 80,
   "id": "f2bba3a2-a0dc-42d5-8565-1b8a4765e843",
   "metadata": {},
   "outputs": [
    {
     "name": "stdout",
     "output_type": "stream",
     "text": [
      "Epoch 1/20\n",
      "\u001b[1m363/363\u001b[0m \u001b[32m━━━━━━━━━━━━━━━━━━━━\u001b[0m\u001b[37m\u001b[0m \u001b[1m1s\u001b[0m 926us/step - aux_output_RootMeanSquaredError: 1.8937 - aux_output_loss: 3.6653 - loss: 2.4429 - main_output_RootMeanSquaredError: 1.4902 - main_output_loss: 2.3071 - val_aux_output_RootMeanSquaredError: 1.7766 - val_aux_output_loss: 3.1549 - val_loss: 1.1356 - val_main_output_RootMeanSquaredError: 0.9545 - val_main_output_loss: 0.9108\n",
      "Epoch 2/20\n",
      "\u001b[1m363/363\u001b[0m \u001b[32m━━━━━━━━━━━━━━━━━━━━\u001b[0m\u001b[37m\u001b[0m \u001b[1m0s\u001b[0m 671us/step - aux_output_RootMeanSquaredError: 0.9218 - aux_output_loss: 0.8511 - loss: 0.5412 - main_output_RootMeanSquaredError: 0.7114 - main_output_loss: 0.5068 - val_aux_output_RootMeanSquaredError: 0.8647 - val_aux_output_loss: 0.7476 - val_loss: 0.4710 - val_main_output_RootMeanSquaredError: 0.6635 - val_main_output_loss: 0.4401\n",
      "Epoch 3/20\n",
      "\u001b[1m363/363\u001b[0m \u001b[32m━━━━━━━━━━━━━━━━━━━━\u001b[0m\u001b[37m\u001b[0m \u001b[1m0s\u001b[0m 669us/step - aux_output_RootMeanSquaredError: 0.7992 - aux_output_loss: 0.6390 - loss: 0.4610 - main_output_RootMeanSquaredError: 0.6641 - main_output_loss: 0.4413 - val_aux_output_RootMeanSquaredError: 0.7568 - val_aux_output_loss: 0.5726 - val_loss: 0.4317 - val_main_output_RootMeanSquaredError: 0.6450 - val_main_output_loss: 0.4159\n",
      "Epoch 4/20\n",
      "\u001b[1m363/363\u001b[0m \u001b[32m━━━━━━━━━━━━━━━━━━━━\u001b[0m\u001b[37m\u001b[0m \u001b[1m0s\u001b[0m 667us/step - aux_output_RootMeanSquaredError: 0.7709 - aux_output_loss: 0.5945 - loss: 0.4391 - main_output_RootMeanSquaredError: 0.6493 - main_output_loss: 0.4218 - val_aux_output_RootMeanSquaredError: 0.7387 - val_aux_output_loss: 0.5456 - val_loss: 0.3961 - val_main_output_RootMeanSquaredError: 0.6160 - val_main_output_loss: 0.3793\n",
      "Epoch 5/20\n",
      "\u001b[1m363/363\u001b[0m \u001b[32m━━━━━━━━━━━━━━━━━━━━\u001b[0m\u001b[37m\u001b[0m \u001b[1m0s\u001b[0m 667us/step - aux_output_RootMeanSquaredError: 0.7521 - aux_output_loss: 0.5658 - loss: 0.4232 - main_output_RootMeanSquaredError: 0.6380 - main_output_loss: 0.4073 - val_aux_output_RootMeanSquaredError: 0.7296 - val_aux_output_loss: 0.5322 - val_loss: 0.3801 - val_main_output_RootMeanSquaredError: 0.6027 - val_main_output_loss: 0.3631\n",
      "Epoch 6/20\n",
      "\u001b[1m363/363\u001b[0m \u001b[32m━━━━━━━━━━━━━━━━━━━━\u001b[0m\u001b[37m\u001b[0m \u001b[1m0s\u001b[0m 743us/step - aux_output_RootMeanSquaredError: 0.7289 - aux_output_loss: 0.5316 - loss: 0.4069 - main_output_RootMeanSquaredError: 0.6268 - main_output_loss: 0.3931 - val_aux_output_RootMeanSquaredError: 0.6971 - val_aux_output_loss: 0.4859 - val_loss: 0.3572 - val_main_output_RootMeanSquaredError: 0.5856 - val_main_output_loss: 0.3428\n",
      "Epoch 7/20\n",
      "\u001b[1m363/363\u001b[0m \u001b[32m━━━━━━━━━━━━━━━━━━━━\u001b[0m\u001b[37m\u001b[0m \u001b[1m0s\u001b[0m 668us/step - aux_output_RootMeanSquaredError: 0.7057 - aux_output_loss: 0.4982 - loss: 0.3928 - main_output_RootMeanSquaredError: 0.6172 - main_output_loss: 0.3811 - val_aux_output_RootMeanSquaredError: 0.6847 - val_aux_output_loss: 0.4688 - val_loss: 0.3560 - val_main_output_RootMeanSquaredError: 0.5861 - val_main_output_loss: 0.3434\n",
      "Epoch 8/20\n",
      "\u001b[1m363/363\u001b[0m \u001b[32m━━━━━━━━━━━━━━━━━━━━\u001b[0m\u001b[37m\u001b[0m \u001b[1m0s\u001b[0m 668us/step - aux_output_RootMeanSquaredError: 0.6864 - aux_output_loss: 0.4714 - loss: 0.3786 - main_output_RootMeanSquaredError: 0.6068 - main_output_loss: 0.3683 - val_aux_output_RootMeanSquaredError: 0.6713 - val_aux_output_loss: 0.4506 - val_loss: 0.3413 - val_main_output_RootMeanSquaredError: 0.5737 - val_main_output_loss: 0.3290\n",
      "Epoch 9/20\n",
      "\u001b[1m363/363\u001b[0m \u001b[32m━━━━━━━━━━━━━━━━━━━━\u001b[0m\u001b[37m\u001b[0m \u001b[1m0s\u001b[0m 666us/step - aux_output_RootMeanSquaredError: 0.6731 - aux_output_loss: 0.4533 - loss: 0.3695 - main_output_RootMeanSquaredError: 0.6001 - main_output_loss: 0.3602 - val_aux_output_RootMeanSquaredError: 0.6581 - val_aux_output_loss: 0.4330 - val_loss: 0.3368 - val_main_output_RootMeanSquaredError: 0.5710 - val_main_output_loss: 0.3260\n",
      "Epoch 10/20\n",
      "\u001b[1m363/363\u001b[0m \u001b[32m━━━━━━━━━━━━━━━━━━━━\u001b[0m\u001b[37m\u001b[0m \u001b[1m0s\u001b[0m 673us/step - aux_output_RootMeanSquaredError: 0.6616 - aux_output_loss: 0.4379 - loss: 0.3611 - main_output_RootMeanSquaredError: 0.5937 - main_output_loss: 0.3526 - val_aux_output_RootMeanSquaredError: 0.6656 - val_aux_output_loss: 0.4430 - val_loss: 0.3342 - val_main_output_RootMeanSquaredError: 0.5675 - val_main_output_loss: 0.3220\n",
      "Epoch 11/20\n",
      "\u001b[1m363/363\u001b[0m \u001b[32m━━━━━━━━━━━━━━━━━━━━\u001b[0m\u001b[37m\u001b[0m \u001b[1m0s\u001b[0m 671us/step - aux_output_RootMeanSquaredError: 0.6541 - aux_output_loss: 0.4279 - loss: 0.3556 - main_output_RootMeanSquaredError: 0.5894 - main_output_loss: 0.3475 - val_aux_output_RootMeanSquaredError: 0.6432 - val_aux_output_loss: 0.4136 - val_loss: 0.3302 - val_main_output_RootMeanSquaredError: 0.5665 - val_main_output_loss: 0.3208\n",
      "Epoch 12/20\n",
      "\u001b[1m363/363\u001b[0m \u001b[32m━━━━━━━━━━━━━━━━━━━━\u001b[0m\u001b[37m\u001b[0m \u001b[1m0s\u001b[0m 669us/step - aux_output_RootMeanSquaredError: 0.6475 - aux_output_loss: 0.4194 - loss: 0.3510 - main_output_RootMeanSquaredError: 0.5859 - main_output_loss: 0.3434 - val_aux_output_RootMeanSquaredError: 0.6450 - val_aux_output_loss: 0.4159 - val_loss: 0.3687 - val_main_output_RootMeanSquaredError: 0.6028 - val_main_output_loss: 0.3633\n",
      "Epoch 13/20\n",
      "\u001b[1m363/363\u001b[0m \u001b[32m━━━━━━━━━━━━━━━━━━━━\u001b[0m\u001b[37m\u001b[0m \u001b[1m0s\u001b[0m 668us/step - aux_output_RootMeanSquaredError: 0.6429 - aux_output_loss: 0.4134 - loss: 0.3473 - main_output_RootMeanSquaredError: 0.5830 - main_output_loss: 0.3399 - val_aux_output_RootMeanSquaredError: 0.6366 - val_aux_output_loss: 0.4051 - val_loss: 0.3241 - val_main_output_RootMeanSquaredError: 0.5613 - val_main_output_loss: 0.3150\n",
      "Epoch 14/20\n",
      "\u001b[1m363/363\u001b[0m \u001b[32m━━━━━━━━━━━━━━━━━━━━\u001b[0m\u001b[37m\u001b[0m \u001b[1m0s\u001b[0m 672us/step - aux_output_RootMeanSquaredError: 0.6375 - aux_output_loss: 0.4065 - loss: 0.3435 - main_output_RootMeanSquaredError: 0.5800 - main_output_loss: 0.3365 - val_aux_output_RootMeanSquaredError: 0.6321 - val_aux_output_loss: 0.3995 - val_loss: 0.4595 - val_main_output_RootMeanSquaredError: 0.6828 - val_main_output_loss: 0.4660\n",
      "Epoch 15/20\n",
      "\u001b[1m363/363\u001b[0m \u001b[32m━━━━━━━━━━━━━━━━━━━━\u001b[0m\u001b[37m\u001b[0m \u001b[1m0s\u001b[0m 665us/step - aux_output_RootMeanSquaredError: 0.6344 - aux_output_loss: 0.4025 - loss: 0.3406 - main_output_RootMeanSquaredError: 0.5777 - main_output_loss: 0.3338 - val_aux_output_RootMeanSquaredError: 0.8366 - val_aux_output_loss: 0.6998 - val_loss: 0.4582 - val_main_output_RootMeanSquaredError: 0.6567 - val_main_output_loss: 0.4312\n",
      "Epoch 16/20\n",
      "\u001b[1m363/363\u001b[0m \u001b[32m━━━━━━━━━━━━━━━━━━━━\u001b[0m\u001b[37m\u001b[0m \u001b[1m0s\u001b[0m 672us/step - aux_output_RootMeanSquaredError: 0.6306 - aux_output_loss: 0.3978 - loss: 0.3378 - main_output_RootMeanSquaredError: 0.5754 - main_output_loss: 0.3311 - val_aux_output_RootMeanSquaredError: 0.6874 - val_aux_output_loss: 0.4725 - val_loss: 0.3423 - val_main_output_RootMeanSquaredError: 0.5726 - val_main_output_loss: 0.3278\n",
      "Epoch 17/20\n",
      "\u001b[1m363/363\u001b[0m \u001b[32m━━━━━━━━━━━━━━━━━━━━\u001b[0m\u001b[37m\u001b[0m \u001b[1m0s\u001b[0m 668us/step - aux_output_RootMeanSquaredError: 0.6278 - aux_output_loss: 0.3942 - loss: 0.3349 - main_output_RootMeanSquaredError: 0.5730 - main_output_loss: 0.3283 - val_aux_output_RootMeanSquaredError: 0.9208 - val_aux_output_loss: 0.8476 - val_loss: 0.5771 - val_main_output_RootMeanSquaredError: 0.7396 - val_main_output_loss: 0.5469\n",
      "Epoch 18/20\n",
      "\u001b[1m363/363\u001b[0m \u001b[32m━━━━━━━━━━━━━━━━━━━━\u001b[0m\u001b[37m\u001b[0m \u001b[1m0s\u001b[0m 741us/step - aux_output_RootMeanSquaredError: 0.6254 - aux_output_loss: 0.3912 - loss: 0.3325 - main_output_RootMeanSquaredError: 0.5709 - main_output_loss: 0.3260 - val_aux_output_RootMeanSquaredError: 0.6337 - val_aux_output_loss: 0.4016 - val_loss: 0.4153 - val_main_output_RootMeanSquaredError: 0.6456 - val_main_output_loss: 0.4167\n",
      "Epoch 19/20\n",
      "\u001b[1m363/363\u001b[0m \u001b[32m━━━━━━━━━━━━━━━━━━━━\u001b[0m\u001b[37m\u001b[0m \u001b[1m0s\u001b[0m 673us/step - aux_output_RootMeanSquaredError: 0.6231 - aux_output_loss: 0.3883 - loss: 0.3305 - main_output_RootMeanSquaredError: 0.5693 - main_output_loss: 0.3241 - val_aux_output_RootMeanSquaredError: 0.6613 - val_aux_output_loss: 0.4372 - val_loss: 0.4318 - val_main_output_RootMeanSquaredError: 0.6566 - val_main_output_loss: 0.4310\n",
      "Epoch 20/20\n",
      "\u001b[1m363/363\u001b[0m \u001b[32m━━━━━━━━━━━━━━━━━━━━\u001b[0m\u001b[37m\u001b[0m \u001b[1m0s\u001b[0m 670us/step - aux_output_RootMeanSquaredError: 0.6198 - aux_output_loss: 0.3842 - loss: 0.3279 - main_output_RootMeanSquaredError: 0.5671 - main_output_loss: 0.3217 - val_aux_output_RootMeanSquaredError: 0.6209 - val_aux_output_loss: 0.3855 - val_loss: 0.3846 - val_main_output_RootMeanSquaredError: 0.6201 - val_main_output_loss: 0.3844\n"
     ]
    }
   ],
   "source": [
    "norm_layer_wide.adapt(X_train_wide)\n",
    "norm_layer_deep.adapt(X_train_deep)\n",
    "history=model.fit((X_train_wide,X_train_deep),(y_train,y_train),\n",
    "                 epochs=20,\n",
    "                 validation_data=((X_valid_wide,X_valid_deep),(y_valid,y_valid)))"
   ]
  },
  {
   "cell_type": "code",
   "execution_count": 81,
   "id": "bd640419-29d6-48e7-b4d6-683bac9427de",
   "metadata": {},
   "outputs": [
    {
     "name": "stdout",
     "output_type": "stream",
     "text": [
      "\u001b[1m162/162\u001b[0m \u001b[32m━━━━━━━━━━━━━━━━━━━━\u001b[0m\u001b[37m\u001b[0m \u001b[1m0s\u001b[0m 428us/step - aux_output_RootMeanSquaredError: 0.6294 - aux_output_loss: 0.3963 - loss: 0.3324 - main_output_RootMeanSquaredError: 0.5703 - main_output_loss: 0.3253\n"
     ]
    },
    {
     "data": {
      "text/plain": [
       "[0.33001089096069336,\n",
       " 0.32292795181274414,\n",
       " 0.3899538516998291,\n",
       " 0.6245591044425964,\n",
       " 0.5686274170875549]"
      ]
     },
     "execution_count": 81,
     "metadata": {},
     "output_type": "execute_result"
    }
   ],
   "source": [
    "model.evaluate((X_test_wide,X_test_deep),(y_test,y_test))"
   ]
  },
  {
   "cell_type": "markdown",
   "id": "2b153026-415a-402e-a1d8-b61fe7461d02",
   "metadata": {},
   "source": [
    "  ##### 0.3300, # Total loss: 0.9 * loss_main + 0.1 * loss_aux\n",
    "  ##### 0.3237, # Loss for main output (from dense_2)\n",
    "  ##### 0.3853, # Loss for auxiliary output (from dense_3)\n",
    "  ##### 0.5692, # RMSE for main output\n",
    "  ##### 0.6206] # RMSE for auxiliary output"
   ]
  },
  {
   "cell_type": "code",
   "execution_count": 83,
   "id": "f8b43877-31da-431a-86ba-c0d4da3bb947",
   "metadata": {},
   "outputs": [
    {
     "name": "stdout",
     "output_type": "stream",
     "text": [
      "WARNING:tensorflow:5 out of the last 5 calls to <function TensorFlowTrainer.make_predict_function.<locals>.one_step_on_data_distributed at 0x3073bc4a0> triggered tf.function retracing. Tracing is expensive and the excessive number of tracings could be due to (1) creating @tf.function repeatedly in a loop, (2) passing tensors with different shapes, (3) passing Python objects instead of tensors. For (1), please define your @tf.function outside of the loop. For (2), @tf.function has reduce_retracing=True option that can avoid unnecessary retracing. For (3), please refer to https://www.tensorflow.org/guide/function#controlling_retracing and https://www.tensorflow.org/api_docs/python/tf/function for  more details.\n",
      "\u001b[1m1/1\u001b[0m \u001b[32m━━━━━━━━━━━━━━━━━━━━\u001b[0m\u001b[37m\u001b[0m \u001b[1m0s\u001b[0m 31ms/step\n"
     ]
    }
   ],
   "source": [
    "y_pred_main,y_pred_aux=model.predict((X_new_wide,X_new_deep))"
   ]
  },
  {
   "cell_type": "code",
   "execution_count": 84,
   "id": "3b5d42bc-f5db-4e48-8fc7-110f3bc98b7f",
   "metadata": {},
   "outputs": [
    {
     "data": {
      "text/plain": [
       "array([[0.35357982],\n",
       "       [1.3295437 ],\n",
       "       [3.5184653 ]], dtype=float32)"
      ]
     },
     "execution_count": 84,
     "metadata": {},
     "output_type": "execute_result"
    }
   ],
   "source": [
    "y_pred_main"
   ]
  },
  {
   "cell_type": "code",
   "execution_count": 85,
   "id": "43770b95-c4dd-4cb1-9361-42d7750619fc",
   "metadata": {},
   "outputs": [
    {
     "data": {
      "text/plain": [
       "array([[0.39693704],\n",
       "       [1.1953485 ],\n",
       "       [3.1030047 ]], dtype=float32)"
      ]
     },
     "execution_count": 85,
     "metadata": {},
     "output_type": "execute_result"
    }
   ],
   "source": [
    "y_pred_aux"
   ]
  },
  {
   "cell_type": "code",
   "execution_count": 86,
   "id": "c813e2a2-fb22-4e0b-8b7d-c08a8e7b0433",
   "metadata": {},
   "outputs": [
    {
     "name": "stdout",
     "output_type": "stream",
     "text": [
      "\u001b[1m1/1\u001b[0m \u001b[32m━━━━━━━━━━━━━━━━━━━━\u001b[0m\u001b[37m\u001b[0m \u001b[1m0s\u001b[0m 14ms/step\n"
     ]
    }
   ],
   "source": [
    "y_pred_tuple=model.predict((X_new_wide,X_new_deep))\n",
    "y_pred=dict(zip(model.output_names,y_pred_tuple))"
   ]
  },
  {
   "cell_type": "code",
   "execution_count": 87,
   "id": "8befdf12-b8af-4050-9415-aca65c54eb01",
   "metadata": {},
   "outputs": [
    {
     "data": {
      "text/plain": [
       "{'main_output': array([[0.35357982],\n",
       "        [1.3295437 ],\n",
       "        [3.5184653 ]], dtype=float32),\n",
       " 'aux_output': array([[0.39693704],\n",
       "        [1.1953485 ],\n",
       "        [3.1030047 ]], dtype=float32)}"
      ]
     },
     "execution_count": 87,
     "metadata": {},
     "output_type": "execute_result"
    }
   ],
   "source": [
    "y_pred"
   ]
  },
  {
   "cell_type": "markdown",
   "id": "f286b328-8f23-434d-9940-d6e8f5a44b22",
   "metadata": {},
   "source": [
    "## Using the Subclassing API to Build Dynamic Models"
   ]
  },
  {
   "cell_type": "code",
   "execution_count": 89,
   "id": "bf7a8304-1da7-4852-9545-8e5f333cc131",
   "metadata": {},
   "outputs": [],
   "source": [
    "class WideAndDeepModel(tf.keras.Model):\n",
    "    def __init__(self,units=30,activation=\"relu\",**kwargs):\n",
    "        super().__init__(**kwargs)\n",
    "        self.norm_layer_wide=tf.keras.layers.Normalization()\n",
    "        self.norm_layer_deep=tf.keras.layers.Normalization()\n",
    "        self.hidden1=tf.keras.layers.Dense(units,activation=activation)\n",
    "        self.hidden2=tf.keras.layers.Dense(units,activation=activation)\n",
    "        self.main_output=tf.keras.layers.Dense(1)\n",
    "        self.aux_output=tf.keras.layers.Dense(1)\n",
    "\n",
    "    def call(self,inputs):\n",
    "        input_wide,input_deep=inputs\n",
    "        norm_wide=self.norm_layer_wide(input_wide)\n",
    "        norm_deep=self.norm_layer_deep(input_deep)\n",
    "        hidden1=self.hidden1(norm_deep)\n",
    "        hidden2=self.hidden2(hidden1)\n",
    "        concat=tf.keras.layers.concatenate([norm_wide,hidden2])\n",
    "        output=self.main_output(concat)\n",
    "        aux_output=self.aux_output(hidden2)\n",
    "        return output,aux_output\n",
    "\n",
    "tf.random.set_seed(42)\n",
    "model=WideAndDeepModel(30,activation=\"relu\",name=\"my_cool_model\")\n",
    "    "
   ]
  },
  {
   "cell_type": "code",
   "execution_count": 90,
   "id": "ae68d85f-3a76-48f8-8f62-a0dc5dcdfb19",
   "metadata": {},
   "outputs": [
    {
     "data": {
      "text/html": [
       "<pre style=\"white-space:pre;overflow-x:auto;line-height:normal;font-family:Menlo,'DejaVu Sans Mono',consolas,'Courier New',monospace\"><span style=\"font-weight: bold\">Model: \"my_cool_model\"</span>\n",
       "</pre>\n"
      ],
      "text/plain": [
       "\u001b[1mModel: \"my_cool_model\"\u001b[0m\n"
      ]
     },
     "metadata": {},
     "output_type": "display_data"
    },
    {
     "data": {
      "text/html": [
       "<pre style=\"white-space:pre;overflow-x:auto;line-height:normal;font-family:Menlo,'DejaVu Sans Mono',consolas,'Courier New',monospace\">┏━━━━━━━━━━━━━━━━━━━━━━━━━━━━━━━━━┳━━━━━━━━━━━━━━━━━━━━━━━━┳━━━━━━━━━━━━━━━┓\n",
       "┃<span style=\"font-weight: bold\"> Layer (type)                    </span>┃<span style=\"font-weight: bold\"> Output Shape           </span>┃<span style=\"font-weight: bold\">       Param # </span>┃\n",
       "┡━━━━━━━━━━━━━━━━━━━━━━━━━━━━━━━━━╇━━━━━━━━━━━━━━━━━━━━━━━━╇━━━━━━━━━━━━━━━┩\n",
       "│ normalization (<span style=\"color: #0087ff; text-decoration-color: #0087ff\">Normalization</span>)   │ ?                      │   <span style=\"color: #00af00; text-decoration-color: #00af00\">0</span> (unbuilt) │\n",
       "├─────────────────────────────────┼────────────────────────┼───────────────┤\n",
       "│ normalization_1 (<span style=\"color: #0087ff; text-decoration-color: #0087ff\">Normalization</span>) │ ?                      │   <span style=\"color: #00af00; text-decoration-color: #00af00\">0</span> (unbuilt) │\n",
       "├─────────────────────────────────┼────────────────────────┼───────────────┤\n",
       "│ dense (<span style=\"color: #0087ff; text-decoration-color: #0087ff\">Dense</span>)                   │ ?                      │   <span style=\"color: #00af00; text-decoration-color: #00af00\">0</span> (unbuilt) │\n",
       "├─────────────────────────────────┼────────────────────────┼───────────────┤\n",
       "│ dense_1 (<span style=\"color: #0087ff; text-decoration-color: #0087ff\">Dense</span>)                 │ ?                      │   <span style=\"color: #00af00; text-decoration-color: #00af00\">0</span> (unbuilt) │\n",
       "├─────────────────────────────────┼────────────────────────┼───────────────┤\n",
       "│ dense_2 (<span style=\"color: #0087ff; text-decoration-color: #0087ff\">Dense</span>)                 │ ?                      │   <span style=\"color: #00af00; text-decoration-color: #00af00\">0</span> (unbuilt) │\n",
       "├─────────────────────────────────┼────────────────────────┼───────────────┤\n",
       "│ dense_3 (<span style=\"color: #0087ff; text-decoration-color: #0087ff\">Dense</span>)                 │ ?                      │   <span style=\"color: #00af00; text-decoration-color: #00af00\">0</span> (unbuilt) │\n",
       "└─────────────────────────────────┴────────────────────────┴───────────────┘\n",
       "</pre>\n"
      ],
      "text/plain": [
       "┏━━━━━━━━━━━━━━━━━━━━━━━━━━━━━━━━━┳━━━━━━━━━━━━━━━━━━━━━━━━┳━━━━━━━━━━━━━━━┓\n",
       "┃\u001b[1m \u001b[0m\u001b[1mLayer (type)                   \u001b[0m\u001b[1m \u001b[0m┃\u001b[1m \u001b[0m\u001b[1mOutput Shape          \u001b[0m\u001b[1m \u001b[0m┃\u001b[1m \u001b[0m\u001b[1m      Param #\u001b[0m\u001b[1m \u001b[0m┃\n",
       "┡━━━━━━━━━━━━━━━━━━━━━━━━━━━━━━━━━╇━━━━━━━━━━━━━━━━━━━━━━━━╇━━━━━━━━━━━━━━━┩\n",
       "│ normalization (\u001b[38;5;33mNormalization\u001b[0m)   │ ?                      │   \u001b[38;5;34m0\u001b[0m (unbuilt) │\n",
       "├─────────────────────────────────┼────────────────────────┼───────────────┤\n",
       "│ normalization_1 (\u001b[38;5;33mNormalization\u001b[0m) │ ?                      │   \u001b[38;5;34m0\u001b[0m (unbuilt) │\n",
       "├─────────────────────────────────┼────────────────────────┼───────────────┤\n",
       "│ dense (\u001b[38;5;33mDense\u001b[0m)                   │ ?                      │   \u001b[38;5;34m0\u001b[0m (unbuilt) │\n",
       "├─────────────────────────────────┼────────────────────────┼───────────────┤\n",
       "│ dense_1 (\u001b[38;5;33mDense\u001b[0m)                 │ ?                      │   \u001b[38;5;34m0\u001b[0m (unbuilt) │\n",
       "├─────────────────────────────────┼────────────────────────┼───────────────┤\n",
       "│ dense_2 (\u001b[38;5;33mDense\u001b[0m)                 │ ?                      │   \u001b[38;5;34m0\u001b[0m (unbuilt) │\n",
       "├─────────────────────────────────┼────────────────────────┼───────────────┤\n",
       "│ dense_3 (\u001b[38;5;33mDense\u001b[0m)                 │ ?                      │   \u001b[38;5;34m0\u001b[0m (unbuilt) │\n",
       "└─────────────────────────────────┴────────────────────────┴───────────────┘\n"
      ]
     },
     "metadata": {},
     "output_type": "display_data"
    },
    {
     "data": {
      "text/html": [
       "<pre style=\"white-space:pre;overflow-x:auto;line-height:normal;font-family:Menlo,'DejaVu Sans Mono',consolas,'Courier New',monospace\"><span style=\"font-weight: bold\"> Total params: </span><span style=\"color: #00af00; text-decoration-color: #00af00\">0</span> (0.00 B)\n",
       "</pre>\n"
      ],
      "text/plain": [
       "\u001b[1m Total params: \u001b[0m\u001b[38;5;34m0\u001b[0m (0.00 B)\n"
      ]
     },
     "metadata": {},
     "output_type": "display_data"
    },
    {
     "data": {
      "text/html": [
       "<pre style=\"white-space:pre;overflow-x:auto;line-height:normal;font-family:Menlo,'DejaVu Sans Mono',consolas,'Courier New',monospace\"><span style=\"font-weight: bold\"> Trainable params: </span><span style=\"color: #00af00; text-decoration-color: #00af00\">0</span> (0.00 B)\n",
       "</pre>\n"
      ],
      "text/plain": [
       "\u001b[1m Trainable params: \u001b[0m\u001b[38;5;34m0\u001b[0m (0.00 B)\n"
      ]
     },
     "metadata": {},
     "output_type": "display_data"
    },
    {
     "data": {
      "text/html": [
       "<pre style=\"white-space:pre;overflow-x:auto;line-height:normal;font-family:Menlo,'DejaVu Sans Mono',consolas,'Courier New',monospace\"><span style=\"font-weight: bold\"> Non-trainable params: </span><span style=\"color: #00af00; text-decoration-color: #00af00\">0</span> (0.00 B)\n",
       "</pre>\n"
      ],
      "text/plain": [
       "\u001b[1m Non-trainable params: \u001b[0m\u001b[38;5;34m0\u001b[0m (0.00 B)\n"
      ]
     },
     "metadata": {},
     "output_type": "display_data"
    }
   ],
   "source": [
    "model.summary()"
   ]
  },
  {
   "cell_type": "code",
   "execution_count": 91,
   "id": "efdae5a1-a762-41b9-ab66-6ed3fc25e327",
   "metadata": {},
   "outputs": [
    {
     "name": "stdout",
     "output_type": "stream",
     "text": [
      "Epoch 1/20\n",
      "\u001b[1m363/363\u001b[0m \u001b[32m━━━━━━━━━━━━━━━━━━━━\u001b[0m\u001b[37m\u001b[0m \u001b[1m1s\u001b[0m 908us/step - RootMeanSquaredError: 1.6415 - RootMeanSquaredError_1: 1.9191 - loss: 2.9035 - mse_loss: 3.7886 - val_RootMeanSquaredError: 0.8678 - val_RootMeanSquaredError_1: 1.9018 - val_loss: 1.0394 - val_mse_loss: 3.6154\n",
      "Epoch 2/20\n",
      "\u001b[1m363/363\u001b[0m \u001b[32m━━━━━━━━━━━━━━━━━━━━\u001b[0m\u001b[37m\u001b[0m \u001b[1m0s\u001b[0m 659us/step - RootMeanSquaredError: 0.7418 - RootMeanSquaredError_1: 0.8611 - loss: 0.5698 - mse_loss: 0.7420 - val_RootMeanSquaredError: 0.6675 - val_RootMeanSquaredError_1: 1.2673 - val_loss: 0.5616 - val_mse_loss: 1.6054\n",
      "Epoch 3/20\n",
      "\u001b[1m363/363\u001b[0m \u001b[32m━━━━━━━━━━━━━━━━━━━━\u001b[0m\u001b[37m\u001b[0m \u001b[1m0s\u001b[0m 656us/step - RootMeanSquaredError: 0.6837 - RootMeanSquaredError_1: 0.7747 - loss: 0.4809 - mse_loss: 0.6003 - val_RootMeanSquaredError: 0.7140 - val_RootMeanSquaredError_1: 0.9525 - val_loss: 0.5496 - val_mse_loss: 0.9069\n",
      "Epoch 4/20\n",
      "\u001b[1m363/363\u001b[0m \u001b[32m━━━━━━━━━━━━━━━━━━━━\u001b[0m\u001b[37m\u001b[0m \u001b[1m0s\u001b[0m 657us/step - RootMeanSquaredError: 0.6574 - RootMeanSquaredError_1: 0.7455 - loss: 0.4447 - mse_loss: 0.5560 - val_RootMeanSquaredError: 0.6158 - val_RootMeanSquaredError_1: 0.7880 - val_loss: 0.4034 - val_mse_loss: 0.6208\n",
      "Epoch 5/20\n",
      "\u001b[1m363/363\u001b[0m \u001b[32m━━━━━━━━━━━━━━━━━━━━\u001b[0m\u001b[37m\u001b[0m \u001b[1m0s\u001b[0m 659us/step - RootMeanSquaredError: 0.6397 - RootMeanSquaredError_1: 0.7231 - loss: 0.4207 - mse_loss: 0.5230 - val_RootMeanSquaredError: 0.7014 - val_RootMeanSquaredError_1: 0.7054 - val_loss: 0.4925 - val_mse_loss: 0.4975\n",
      "Epoch 6/20\n",
      "\u001b[1m363/363\u001b[0m \u001b[32m━━━━━━━━━━━━━━━━━━━━\u001b[0m\u001b[37m\u001b[0m \u001b[1m0s\u001b[0m 656us/step - RootMeanSquaredError: 0.6263 - RootMeanSquaredError_1: 0.7045 - loss: 0.4028 - mse_loss: 0.4965 - val_RootMeanSquaredError: 0.5992 - val_RootMeanSquaredError_1: 0.7043 - val_loss: 0.3727 - val_mse_loss: 0.4960\n",
      "Epoch 7/20\n",
      "\u001b[1m363/363\u001b[0m \u001b[32m━━━━━━━━━━━━━━━━━━━━\u001b[0m\u001b[37m\u001b[0m \u001b[1m0s\u001b[0m 657us/step - RootMeanSquaredError: 0.6165 - RootMeanSquaredError_1: 0.6867 - loss: 0.3894 - mse_loss: 0.4717 - val_RootMeanSquaredError: 1.1471 - val_RootMeanSquaredError_1: 0.7401 - val_loss: 1.2390 - val_mse_loss: 0.5476\n",
      "Epoch 8/20\n",
      "\u001b[1m363/363\u001b[0m \u001b[32m━━━━━━━━━━━━━━━━━━━━\u001b[0m\u001b[37m\u001b[0m \u001b[1m0s\u001b[0m 655us/step - RootMeanSquaredError: 0.6102 - RootMeanSquaredError_1: 0.6726 - loss: 0.3804 - mse_loss: 0.4525 - val_RootMeanSquaredError: 1.0988 - val_RootMeanSquaredError_1: 0.8997 - val_loss: 1.1675 - val_mse_loss: 0.8092\n",
      "Epoch 9/20\n",
      "\u001b[1m363/363\u001b[0m \u001b[32m━━━━━━━━━━━━━━━━━━━━\u001b[0m\u001b[37m\u001b[0m \u001b[1m0s\u001b[0m 656us/step - RootMeanSquaredError: 0.6050 - RootMeanSquaredError_1: 0.6609 - loss: 0.3732 - mse_loss: 0.4368 - val_RootMeanSquaredError: 1.5222 - val_RootMeanSquaredError_1: 0.9014 - val_loss: 2.1667 - val_mse_loss: 0.8123\n",
      "Epoch 10/20\n",
      "\u001b[1m363/363\u001b[0m \u001b[32m━━━━━━━━━━━━━━━━━━━━\u001b[0m\u001b[37m\u001b[0m \u001b[1m0s\u001b[0m 656us/step - RootMeanSquaredError: 0.6021 - RootMeanSquaredError_1: 0.6529 - loss: 0.3689 - mse_loss: 0.4263 - val_RootMeanSquaredError: 1.5700 - val_RootMeanSquaredError_1: 2.2628 - val_loss: 2.7303 - val_mse_loss: 5.1180\n",
      "Epoch 11/20\n",
      "\u001b[1m363/363\u001b[0m \u001b[32m━━━━━━━━━━━━━━━━━━━━\u001b[0m\u001b[37m\u001b[0m \u001b[1m0s\u001b[0m 653us/step - RootMeanSquaredError: 0.5988 - RootMeanSquaredError_1: 0.6547 - loss: 0.3657 - mse_loss: 0.4289 - val_RootMeanSquaredError: 1.3871 - val_RootMeanSquaredError_1: 1.1443 - val_loss: 1.8627 - val_mse_loss: 1.3088\n",
      "Epoch 12/20\n",
      "\u001b[1m363/363\u001b[0m \u001b[32m━━━━━━━━━━━━━━━━━━━━\u001b[0m\u001b[37m\u001b[0m \u001b[1m0s\u001b[0m 654us/step - RootMeanSquaredError: 0.5944 - RootMeanSquaredError_1: 0.6426 - loss: 0.3593 - mse_loss: 0.4130 - val_RootMeanSquaredError: 0.9966 - val_RootMeanSquaredError_1: 0.6299 - val_loss: 0.9336 - val_mse_loss: 0.3967\n",
      "Epoch 13/20\n",
      "\u001b[1m363/363\u001b[0m \u001b[32m━━━━━━━━━━━━━━━━━━━━\u001b[0m\u001b[37m\u001b[0m \u001b[1m0s\u001b[0m 657us/step - RootMeanSquaredError: 0.5884 - RootMeanSquaredError_1: 0.6327 - loss: 0.3517 - mse_loss: 0.4005 - val_RootMeanSquaredError: 0.9323 - val_RootMeanSquaredError_1: 0.7625 - val_loss: 0.8404 - val_mse_loss: 0.5813\n",
      "Epoch 14/20\n",
      "\u001b[1m363/363\u001b[0m \u001b[32m━━━━━━━━━━━━━━━━━━━━\u001b[0m\u001b[37m\u001b[0m \u001b[1m0s\u001b[0m 654us/step - RootMeanSquaredError: 0.5849 - RootMeanSquaredError_1: 0.6292 - loss: 0.3476 - mse_loss: 0.3960 - val_RootMeanSquaredError: 0.7692 - val_RootMeanSquaredError_1: 0.8167 - val_loss: 0.5991 - val_mse_loss: 0.6669\n",
      "Epoch 15/20\n",
      "\u001b[1m363/363\u001b[0m \u001b[32m━━━━━━━━━━━━━━━━━━━━\u001b[0m\u001b[37m\u001b[0m \u001b[1m0s\u001b[0m 655us/step - RootMeanSquaredError: 0.5818 - RootMeanSquaredError_1: 0.6266 - loss: 0.3439 - mse_loss: 0.3927 - val_RootMeanSquaredError: 0.8319 - val_RootMeanSquaredError_1: 0.6792 - val_loss: 0.6689 - val_mse_loss: 0.4612\n",
      "Epoch 16/20\n",
      "\u001b[1m363/363\u001b[0m \u001b[32m━━━━━━━━━━━━━━━━━━━━\u001b[0m\u001b[37m\u001b[0m \u001b[1m0s\u001b[0m 655us/step - RootMeanSquaredError: 0.5792 - RootMeanSquaredError_1: 0.6223 - loss: 0.3407 - mse_loss: 0.3874 - val_RootMeanSquaredError: 0.8036 - val_RootMeanSquaredError_1: 0.8170 - val_loss: 0.6480 - val_mse_loss: 0.6673\n",
      "Epoch 17/20\n",
      "\u001b[1m363/363\u001b[0m \u001b[32m━━━━━━━━━━━━━━━━━━━━\u001b[0m\u001b[37m\u001b[0m \u001b[1m0s\u001b[0m 655us/step - RootMeanSquaredError: 0.5776 - RootMeanSquaredError_1: 0.6211 - loss: 0.3389 - mse_loss: 0.3859 - val_RootMeanSquaredError: 1.0192 - val_RootMeanSquaredError_1: 0.7575 - val_loss: 0.9923 - val_mse_loss: 0.5737\n",
      "Epoch 18/20\n",
      "\u001b[1m363/363\u001b[0m \u001b[32m━━━━━━━━━━━━━━━━━━━━\u001b[0m\u001b[37m\u001b[0m \u001b[1m0s\u001b[0m 657us/step - RootMeanSquaredError: 0.5763 - RootMeanSquaredError_1: 0.6180 - loss: 0.3372 - mse_loss: 0.3820 - val_RootMeanSquaredError: 0.9490 - val_RootMeanSquaredError_1: 0.8931 - val_loss: 0.8902 - val_mse_loss: 0.7974\n",
      "Epoch 19/20\n",
      "\u001b[1m363/363\u001b[0m \u001b[32m━━━━━━━━━━━━━━━━━━━━\u001b[0m\u001b[37m\u001b[0m \u001b[1m0s\u001b[0m 659us/step - RootMeanSquaredError: 0.5747 - RootMeanSquaredError_1: 0.6168 - loss: 0.3353 - mse_loss: 0.3806 - val_RootMeanSquaredError: 1.0710 - val_RootMeanSquaredError_1: 0.8140 - val_loss: 1.0987 - val_mse_loss: 0.6624\n",
      "Epoch 20/20\n",
      "\u001b[1m363/363\u001b[0m \u001b[32m━━━━━━━━━━━━━━━━━━━━\u001b[0m\u001b[37m\u001b[0m \u001b[1m0s\u001b[0m 656us/step - RootMeanSquaredError: 0.5741 - RootMeanSquaredError_1: 0.6153 - loss: 0.3345 - mse_loss: 0.3787 - val_RootMeanSquaredError: 0.9172 - val_RootMeanSquaredError_1: 0.8624 - val_loss: 0.8315 - val_mse_loss: 0.7436\n",
      "\u001b[1m162/162\u001b[0m \u001b[32m━━━━━━━━━━━━━━━━━━━━\u001b[0m\u001b[37m\u001b[0m \u001b[1m0s\u001b[0m 411us/step - RootMeanSquaredError: 0.5736 - RootMeanSquaredError_1: 0.6263 - loss: 0.3354 - mse_loss: 0.3924\n",
      "WARNING:tensorflow:6 out of the last 7 calls to <function TensorFlowTrainer.make_predict_function.<locals>.one_step_on_data_distributed at 0x32666ed40> triggered tf.function retracing. Tracing is expensive and the excessive number of tracings could be due to (1) creating @tf.function repeatedly in a loop, (2) passing tensors with different shapes, (3) passing Python objects instead of tensors. For (1), please define your @tf.function outside of the loop. For (2), @tf.function has reduce_retracing=True option that can avoid unnecessary retracing. For (3), please refer to https://www.tensorflow.org/guide/function#controlling_retracing and https://www.tensorflow.org/api_docs/python/tf/function for  more details.\n",
      "\u001b[1m1/1\u001b[0m \u001b[32m━━━━━━━━━━━━━━━━━━━━\u001b[0m\u001b[37m\u001b[0m \u001b[1m0s\u001b[0m 30ms/step\n"
     ]
    }
   ],
   "source": [
    "optimizer=tf.keras.optimizers.Adam(learning_rate=1e-3)\n",
    "model.compile(loss=[\"mse\",\"mse\"],optimizer=optimizer,loss_weights=[0.9,0.1],\n",
    "             metrics=[\"RootMeanSquaredError\",\"RootMeanSquaredError\"])\n",
    "model.norm_layer_wide.adapt(X_train_wide)\n",
    "model.norm_layer_deep.adapt(X_train_deep)\n",
    "history=model.fit((X_train_wide,X_train_deep),(y_train,y_train),\n",
    "                 epochs=20,\n",
    "                 validation_data=((X_valid_wide,X_valid_deep),(y_valid,y_valid)))\n",
    "eval_results=model.evaluate((X_test_wide,X_test_deep),(y_test,y_test))\n",
    "y_pred_main,y_pred_aux=model.predict((X_new_wide,X_new_deep))"
   ]
  },
  {
   "cell_type": "markdown",
   "id": "0a199d83-e033-4ff1-a068-578c04737333",
   "metadata": {},
   "source": [
    "## Saving and Restoring Model"
   ]
  },
  {
   "cell_type": "code",
   "execution_count": 93,
   "id": "56f4690f-e56b-43d0-a834-2ae2d4d4decc",
   "metadata": {},
   "outputs": [],
   "source": [
    "model.save(\"my_model.keras\")"
   ]
  },
  {
   "cell_type": "code",
   "execution_count": 94,
   "id": "84e042de-48a6-466f-9c02-7a13987af1ff",
   "metadata": {},
   "outputs": [],
   "source": [
    "#Save Only Weights\n",
    "model.save_weights(\"my_weights.weights.h5\")"
   ]
  },
  {
   "cell_type": "code",
   "execution_count": 95,
   "id": "a91d86c5-f4a7-41ca-8b40-f5d424f451e9",
   "metadata": {},
   "outputs": [],
   "source": [
    "#load only weights\n",
    "model.load_weights(\"my_weights.weights.h5\")"
   ]
  },
  {
   "cell_type": "code",
   "execution_count": 96,
   "id": "77f855de-ed18-47dc-97c9-5fd1694e0572",
   "metadata": {},
   "outputs": [],
   "source": [
    "load_model=tf.keras.models.load_model(\n",
    "    \"my_model.keras\",\n",
    "    custom_objects={\"WideAndDeepModel\":WideAndDeepModel}\n",
    ")"
   ]
  },
  {
   "cell_type": "code",
   "execution_count": 97,
   "id": "23afce56-66ae-43cc-96fb-e84cc965091c",
   "metadata": {},
   "outputs": [
    {
     "name": "stdout",
     "output_type": "stream",
     "text": [
      "\u001b[1m1/1\u001b[0m \u001b[32m━━━━━━━━━━━━━━━━━━━━\u001b[0m\u001b[37m\u001b[0m \u001b[1m0s\u001b[0m 30ms/step\n"
     ]
    }
   ],
   "source": [
    "y_pred=load_model.predict((X_new_wide,X_new_deep))"
   ]
  },
  {
   "cell_type": "code",
   "execution_count": 98,
   "id": "2631141b-3479-4f72-a21c-294e7628ab70",
   "metadata": {},
   "outputs": [
    {
     "data": {
      "text/plain": [
       "(array([[0.55752593],\n",
       "        [1.4320089 ],\n",
       "        [3.5015705 ]], dtype=float32),\n",
       " array([[0.84627026],\n",
       "        [1.4861267 ],\n",
       "        [3.3759255 ]], dtype=float32))"
      ]
     },
     "execution_count": 98,
     "metadata": {},
     "output_type": "execute_result"
    }
   ],
   "source": [
    "y_pred"
   ]
  },
  {
   "cell_type": "markdown",
   "id": "fe676b20-01df-4996-8962-7dfe42812a12",
   "metadata": {},
   "source": [
    "## Using Callbacks"
   ]
  },
  {
   "cell_type": "code",
   "execution_count": 100,
   "id": "df6d5e94-59ad-4099-876e-140c6a72bebd",
   "metadata": {},
   "outputs": [
    {
     "name": "stdout",
     "output_type": "stream",
     "text": [
      "Epoch 1/10\n",
      "\u001b[1m363/363\u001b[0m \u001b[32m━━━━━━━━━━━━━━━━━━━━\u001b[0m\u001b[37m\u001b[0m \u001b[1m0s\u001b[0m 747us/step - RootMeanSquaredError: 0.5723 - RootMeanSquaredError_1: 0.6139 - loss: 0.3325 - mse_loss: 0.3771 - val_RootMeanSquaredError: 0.8594 - val_RootMeanSquaredError_1: 0.6730 - val_loss: 0.7100 - val_mse_loss: 0.4529\n",
      "Epoch 2/10\n",
      "\u001b[1m363/363\u001b[0m \u001b[32m━━━━━━━━━━━━━━━━━━━━\u001b[0m\u001b[37m\u001b[0m \u001b[1m0s\u001b[0m 668us/step - RootMeanSquaredError: 0.5698 - RootMeanSquaredError_1: 0.6108 - loss: 0.3296 - mse_loss: 0.3733 - val_RootMeanSquaredError: 0.8955 - val_RootMeanSquaredError_1: 0.8683 - val_loss: 0.7972 - val_mse_loss: 0.7538\n",
      "Epoch 3/10\n",
      "\u001b[1m363/363\u001b[0m \u001b[32m━━━━━━━━━━━━━━━━━━━━\u001b[0m\u001b[37m\u001b[0m \u001b[1m0s\u001b[0m 669us/step - RootMeanSquaredError: 0.5686 - RootMeanSquaredError_1: 0.6100 - loss: 0.3282 - mse_loss: 0.3723 - val_RootMeanSquaredError: 0.9232 - val_RootMeanSquaredError_1: 0.6901 - val_loss: 0.8146 - val_mse_loss: 0.4762\n",
      "Epoch 4/10\n",
      "\u001b[1m363/363\u001b[0m \u001b[32m━━━━━━━━━━━━━━━━━━━━\u001b[0m\u001b[37m\u001b[0m \u001b[1m0s\u001b[0m 701us/step - RootMeanSquaredError: 0.5674 - RootMeanSquaredError_1: 0.6079 - loss: 0.3268 - mse_loss: 0.3698 - val_RootMeanSquaredError: 0.8237 - val_RootMeanSquaredError_1: 0.8246 - val_loss: 0.6787 - val_mse_loss: 0.6798\n",
      "Epoch 5/10\n",
      "\u001b[1m363/363\u001b[0m \u001b[32m━━━━━━━━━━━━━━━━━━━━\u001b[0m\u001b[37m\u001b[0m \u001b[1m0s\u001b[0m 703us/step - RootMeanSquaredError: 0.5657 - RootMeanSquaredError_1: 0.6073 - loss: 0.3250 - mse_loss: 0.3691 - val_RootMeanSquaredError: 0.7861 - val_RootMeanSquaredError_1: 0.6727 - val_loss: 0.6014 - val_mse_loss: 0.4525\n",
      "Epoch 6/10\n",
      "\u001b[1m363/363\u001b[0m \u001b[32m━━━━━━━━━━━━━━━━━━━━\u001b[0m\u001b[37m\u001b[0m \u001b[1m0s\u001b[0m 673us/step - RootMeanSquaredError: 0.5639 - RootMeanSquaredError_1: 0.6054 - loss: 0.3229 - mse_loss: 0.3667 - val_RootMeanSquaredError: 0.7920 - val_RootMeanSquaredError_1: 0.8260 - val_loss: 0.6327 - val_mse_loss: 0.6821\n",
      "Epoch 7/10\n",
      "\u001b[1m363/363\u001b[0m \u001b[32m━━━━━━━━━━━━━━━━━━━━\u001b[0m\u001b[37m\u001b[0m \u001b[1m0s\u001b[0m 664us/step - RootMeanSquaredError: 0.5626 - RootMeanSquaredError_1: 0.6041 - loss: 0.3215 - mse_loss: 0.3651 - val_RootMeanSquaredError: 0.8627 - val_RootMeanSquaredError_1: 0.6676 - val_loss: 0.7144 - val_mse_loss: 0.4456\n",
      "Epoch 8/10\n",
      "\u001b[1m363/363\u001b[0m \u001b[32m━━━━━━━━━━━━━━━━━━━━\u001b[0m\u001b[37m\u001b[0m \u001b[1m0s\u001b[0m 750us/step - RootMeanSquaredError: 0.5618 - RootMeanSquaredError_1: 0.6029 - loss: 0.3205 - mse_loss: 0.3637 - val_RootMeanSquaredError: 0.8027 - val_RootMeanSquaredError_1: 0.7987 - val_loss: 0.6436 - val_mse_loss: 0.6377\n",
      "Epoch 9/10\n",
      "\u001b[1m363/363\u001b[0m \u001b[32m━━━━━━━━━━━━━━━━━━━━\u001b[0m\u001b[37m\u001b[0m \u001b[1m0s\u001b[0m 702us/step - RootMeanSquaredError: 0.5601 - RootMeanSquaredError_1: 0.6015 - loss: 0.3186 - mse_loss: 0.3619 - val_RootMeanSquaredError: 0.7750 - val_RootMeanSquaredError_1: 0.6598 - val_loss: 0.5841 - val_mse_loss: 0.4353\n",
      "Epoch 10/10\n",
      "\u001b[1m363/363\u001b[0m \u001b[32m━━━━━━━━━━━━━━━━━━━━\u001b[0m\u001b[37m\u001b[0m \u001b[1m0s\u001b[0m 704us/step - RootMeanSquaredError: 0.5595 - RootMeanSquaredError_1: 0.6008 - loss: 0.3179 - mse_loss: 0.3611 - val_RootMeanSquaredError: 0.7394 - val_RootMeanSquaredError_1: 0.7844 - val_loss: 0.5536 - val_mse_loss: 0.6151\n"
     ]
    }
   ],
   "source": [
    "checkpoint_cb=tf.keras.callbacks.ModelCheckpoint(\"best_checkpoint_model.keras\",\n",
    "                                                save_best_only=True)\n",
    "history=model.fit(\n",
    "      (X_train_wide, X_train_deep), (y_train, y_train), epochs=10,\n",
    "    validation_data=((X_valid_wide, X_valid_deep), (y_valid, y_valid)),\n",
    "    callbacks=[checkpoint_cb]\n",
    ")"
   ]
  },
  {
   "cell_type": "code",
   "execution_count": 101,
   "id": "c543b01b-f3f0-47dd-8725-3b630e213a09",
   "metadata": {},
   "outputs": [
    {
     "name": "stdout",
     "output_type": "stream",
     "text": [
      "Epoch 1/100\n",
      "\u001b[1m363/363\u001b[0m \u001b[32m━━━━━━━━━━━━━━━━━━━━\u001b[0m\u001b[37m\u001b[0m \u001b[1m0s\u001b[0m 706us/step - RootMeanSquaredError: 0.5585 - RootMeanSquaredError_1: 0.5998 - loss: 0.3168 - mse_loss: 0.3600 - val_RootMeanSquaredError: 0.7663 - val_RootMeanSquaredError_1: 0.6889 - val_loss: 0.5760 - val_mse_loss: 0.4746\n",
      "Epoch 2/100\n",
      "\u001b[1m363/363\u001b[0m \u001b[32m━━━━━━━━━━━━━━━━━━━━\u001b[0m\u001b[37m\u001b[0m \u001b[1m0s\u001b[0m 661us/step - RootMeanSquaredError: 0.5574 - RootMeanSquaredError_1: 0.5989 - loss: 0.3155 - mse_loss: 0.3589 - val_RootMeanSquaredError: 1.1360 - val_RootMeanSquaredError_1: 1.2844 - val_loss: 1.3263 - val_mse_loss: 1.6489\n",
      "Epoch 3/100\n",
      "\u001b[1m363/363\u001b[0m \u001b[32m━━━━━━━━━━━━━━━━━━━━\u001b[0m\u001b[37m\u001b[0m \u001b[1m0s\u001b[0m 659us/step - RootMeanSquaredError: 0.5588 - RootMeanSquaredError_1: 0.6009 - loss: 0.3172 - mse_loss: 0.3614 - val_RootMeanSquaredError: 1.1446 - val_RootMeanSquaredError_1: 0.8757 - val_loss: 1.2559 - val_mse_loss: 0.7667\n",
      "Epoch 4/100\n",
      "\u001b[1m363/363\u001b[0m \u001b[32m━━━━━━━━━━━━━━━━━━━━\u001b[0m\u001b[37m\u001b[0m \u001b[1m0s\u001b[0m 664us/step - RootMeanSquaredError: 0.5586 - RootMeanSquaredError_1: 0.5987 - loss: 0.3167 - mse_loss: 0.3586 - val_RootMeanSquaredError: 0.7727 - val_RootMeanSquaredError_1: 0.7908 - val_loss: 0.5998 - val_mse_loss: 0.6251\n",
      "Epoch 5/100\n",
      "\u001b[1m363/363\u001b[0m \u001b[32m━━━━━━━━━━━━━━━━━━━━\u001b[0m\u001b[37m\u001b[0m \u001b[1m0s\u001b[0m 695us/step - RootMeanSquaredError: 0.5544 - RootMeanSquaredError_1: 0.5955 - loss: 0.3121 - mse_loss: 0.3548 - val_RootMeanSquaredError: 0.5765 - val_RootMeanSquaredError_1: 0.5967 - val_loss: 0.3348 - val_mse_loss: 0.3560\n",
      "Epoch 6/100\n",
      "\u001b[1m363/363\u001b[0m \u001b[32m━━━━━━━━━━━━━━━━━━━━\u001b[0m\u001b[37m\u001b[0m \u001b[1m0s\u001b[0m 658us/step - RootMeanSquaredError: 0.5525 - RootMeanSquaredError_1: 0.5939 - loss: 0.3100 - mse_loss: 0.3529 - val_RootMeanSquaredError: 0.5970 - val_RootMeanSquaredError_1: 0.6784 - val_loss: 0.3668 - val_mse_loss: 0.4602\n",
      "Epoch 7/100\n",
      "\u001b[1m363/363\u001b[0m \u001b[32m━━━━━━━━━━━━━━━━━━━━\u001b[0m\u001b[37m\u001b[0m \u001b[1m0s\u001b[0m 665us/step - RootMeanSquaredError: 0.5517 - RootMeanSquaredError_1: 0.5929 - loss: 0.3092 - mse_loss: 0.3517 - val_RootMeanSquaredError: 0.5779 - val_RootMeanSquaredError_1: 0.5966 - val_loss: 0.3362 - val_mse_loss: 0.3559\n",
      "Epoch 8/100\n",
      "\u001b[1m363/363\u001b[0m \u001b[32m━━━━━━━━━━━━━━━━━━━━\u001b[0m\u001b[37m\u001b[0m \u001b[1m0s\u001b[0m 658us/step - RootMeanSquaredError: 0.5507 - RootMeanSquaredError_1: 0.5920 - loss: 0.3081 - mse_loss: 0.3506 - val_RootMeanSquaredError: 0.6273 - val_RootMeanSquaredError_1: 0.6978 - val_loss: 0.4029 - val_mse_loss: 0.4868\n",
      "Epoch 9/100\n",
      "\u001b[1m363/363\u001b[0m \u001b[32m━━━━━━━━━━━━━━━━━━━━\u001b[0m\u001b[37m\u001b[0m \u001b[1m0s\u001b[0m 661us/step - RootMeanSquaredError: 0.5503 - RootMeanSquaredError_1: 0.5913 - loss: 0.3076 - mse_loss: 0.3498 - val_RootMeanSquaredError: 0.6228 - val_RootMeanSquaredError_1: 0.6103 - val_loss: 0.3864 - val_mse_loss: 0.3725\n",
      "Epoch 10/100\n",
      "\u001b[1m363/363\u001b[0m \u001b[32m━━━━━━━━━━━━━━━━━━━━\u001b[0m\u001b[37m\u001b[0m \u001b[1m0s\u001b[0m 660us/step - RootMeanSquaredError: 0.5488 - RootMeanSquaredError_1: 0.5900 - loss: 0.3059 - mse_loss: 0.3482 - val_RootMeanSquaredError: 0.6109 - val_RootMeanSquaredError_1: 0.6172 - val_loss: 0.3740 - val_mse_loss: 0.3809\n",
      "Epoch 11/100\n",
      "\u001b[1m363/363\u001b[0m \u001b[32m━━━━━━━━━━━━━━━━━━━━\u001b[0m\u001b[37m\u001b[0m \u001b[1m0s\u001b[0m 738us/step - RootMeanSquaredError: 0.5481 - RootMeanSquaredError_1: 0.5888 - loss: 0.3051 - mse_loss: 0.3468 - val_RootMeanSquaredError: 1.0698 - val_RootMeanSquaredError_1: 1.1569 - val_loss: 1.1639 - val_mse_loss: 1.3379\n",
      "Epoch 12/100\n",
      "\u001b[1m363/363\u001b[0m \u001b[32m━━━━━━━━━━━━━━━━━━━━\u001b[0m\u001b[37m\u001b[0m \u001b[1m0s\u001b[0m 660us/step - RootMeanSquaredError: 0.5491 - RootMeanSquaredError_1: 0.5893 - loss: 0.3062 - mse_loss: 0.3475 - val_RootMeanSquaredError: 1.2148 - val_RootMeanSquaredError_1: 1.1182 - val_loss: 1.4532 - val_mse_loss: 1.2500\n",
      "Epoch 13/100\n",
      "\u001b[1m363/363\u001b[0m \u001b[32m━━━━━━━━━━━━━━━━━━━━\u001b[0m\u001b[37m\u001b[0m \u001b[1m0s\u001b[0m 661us/step - RootMeanSquaredError: 0.5498 - RootMeanSquaredError_1: 0.5913 - loss: 0.3071 - mse_loss: 0.3498 - val_RootMeanSquaredError: 0.9064 - val_RootMeanSquaredError_1: 0.7317 - val_loss: 0.7929 - val_mse_loss: 0.5352\n",
      "Epoch 14/100\n",
      "\u001b[1m363/363\u001b[0m \u001b[32m━━━━━━━━━━━━━━━━━━━━\u001b[0m\u001b[37m\u001b[0m \u001b[1m0s\u001b[0m 661us/step - RootMeanSquaredError: 0.5478 - RootMeanSquaredError_1: 0.5874 - loss: 0.3047 - mse_loss: 0.3452 - val_RootMeanSquaredError: 0.6389 - val_RootMeanSquaredError_1: 0.6247 - val_loss: 0.4064 - val_mse_loss: 0.3902\n",
      "Epoch 15/100\n",
      "\u001b[1m363/363\u001b[0m \u001b[32m━━━━━━━━━━━━━━━━━━━━\u001b[0m\u001b[37m\u001b[0m \u001b[1m0s\u001b[0m 659us/step - RootMeanSquaredError: 0.5450 - RootMeanSquaredError_1: 0.5854 - loss: 0.3017 - mse_loss: 0.3429 - val_RootMeanSquaredError: 0.6179 - val_RootMeanSquaredError_1: 0.7363 - val_loss: 0.3978 - val_mse_loss: 0.5420\n"
     ]
    }
   ],
   "source": [
    "early_stopping_cb=tf.keras.callbacks.EarlyStopping(patience=10,\n",
    "                                                  restore_best_weights=True)\n",
    "history=model.fit(\n",
    "    (X_train_wide,X_train_deep),(y_train,y_train),\n",
    "    epochs=100,\n",
    "    validation_data=((X_valid_wide,X_valid_deep),(y_valid,y_valid)),\n",
    "    callbacks=[checkpoint_cb,early_stopping_cb]\n",
    ")"
   ]
  },
  {
   "cell_type": "code",
   "execution_count": 102,
   "id": "5bfa3256-8d76-45f6-a92e-e56e730b62dd",
   "metadata": {},
   "outputs": [],
   "source": [
    "class PrintValTrainRatioCallback(tf.keras.callbacks.Callback):\n",
    "    def on_epoch_end(self,epoch,logs):\n",
    "        ratio=logs[\"val_loss\"]/logs[\"loss\"]\n",
    "        print(f\"Epoch: {epoch}, val/train: {ratio:.2f}\")"
   ]
  },
  {
   "cell_type": "code",
   "execution_count": 103,
   "id": "47d3c6bc-289d-4eae-8a5f-be8b995bf864",
   "metadata": {},
   "outputs": [
    {
     "name": "stdout",
     "output_type": "stream",
     "text": [
      "Epoch: 0, val/train: 1.25\n",
      "Epoch: 1, val/train: 1.36\n",
      "Epoch: 2, val/train: 1.79\n",
      "Epoch: 3, val/train: 1.74\n",
      "Epoch: 4, val/train: 2.90\n",
      "Epoch: 5, val/train: 2.58\n",
      "Epoch: 6, val/train: 3.41\n",
      "Epoch: 7, val/train: 2.74\n",
      "Epoch: 8, val/train: 8.16\n",
      "Epoch: 9, val/train: 5.05\n"
     ]
    }
   ],
   "source": [
    "val_train_ratio_cb=PrintValTrainRatioCallback()\n",
    "history=model.fit((X_train_wide,X_train_deep),(y_train,y_train),\n",
    "    epochs=10,\n",
    "    validation_data=((X_valid_wide,X_valid_deep),(y_valid,y_valid)),\n",
    "    callbacks=[val_train_ratio_cb],\n",
    "    verbose=0\n",
    ")"
   ]
  },
  {
   "cell_type": "markdown",
   "id": "4748bb6b-9356-4fab-9840-0207c0725588",
   "metadata": {},
   "source": [
    "## Using TensorBoard for Visualization"
   ]
  },
  {
   "cell_type": "code",
   "execution_count": 105,
   "id": "00278109-1031-4dff-b4df-e3ca6fa8de00",
   "metadata": {},
   "outputs": [],
   "source": [
    "from pathlib import Path\n",
    "from time import strftime\n",
    "\n",
    "def get_run_logdir(root_logdir=\"my_logs\"):\n",
    "    return Path(root_logdir)/strftime(\"run_%Y_%m_%d_%H_%M_%S\")\n",
    "run_logdir=get_run_logdir()"
   ]
  },
  {
   "cell_type": "code",
   "execution_count": 106,
   "id": "579475a8-7af9-42db-b586-3170b5de0467",
   "metadata": {},
   "outputs": [],
   "source": [
    "tf.keras.backend.clear_session()\n",
    "tf.random.set_seed(42)\n",
    "\n",
    "model=tf.keras.Sequential([\n",
    "    tf.keras.layers.InputLayer(shape=X_train.shape[1:]),\n",
    "    tf.keras.layers.Normalization(name=\"normalization\"),\n",
    "    tf.keras.layers.Dense(50,activation=\"relu\"),\n",
    "    tf.keras.layers.Dense(50,activation=\"relu\"),\n",
    "    tf.keras.layers.Dense(50,activation=\"relu\"),\n",
    "    tf.keras.layers.Dense(1)\n",
    "])\n",
    "\n",
    "norm_layer=model.get_layer(\"normalization\")\n",
    "norm_layer.adapt(X_train)\n",
    "optimizer=tf.keras.optimizers.SGD(learning_rate=1e-3)\n",
    "model.compile(loss=\"mse\",optimizer=optimizer,metrics=[\"RootMeanSquaredError\"])"
   ]
  },
  {
   "cell_type": "code",
   "execution_count": 107,
   "id": "d929c509-2cd7-41e5-a7a2-ce4444176fd1",
   "metadata": {},
   "outputs": [
    {
     "name": "stdout",
     "output_type": "stream",
     "text": [
      "Epoch 1/20\n"
     ]
    },
    {
     "name": "stderr",
     "output_type": "stream",
     "text": [
      "2025-07-11 09:04:59.231668: I external/local_tsl/tsl/profiler/lib/profiler_session.cc:103] Profiler session initializing.\n",
      "2025-07-11 09:04:59.231848: I external/local_tsl/tsl/profiler/lib/profiler_session.cc:118] Profiler session started.\n",
      "2025-07-11 09:04:59.232462: I external/local_tsl/tsl/profiler/lib/profiler_session.cc:130] Profiler session tear down.\n"
     ]
    },
    {
     "name": "stdout",
     "output_type": "stream",
     "text": [
      "\u001b[1m311/363\u001b[0m \u001b[32m━━━━━━━━━━━━━━━━━\u001b[0m\u001b[37m━━━\u001b[0m \u001b[1m0s\u001b[0m 535us/step - RootMeanSquaredError: 1.9168 - loss: 3.7730  "
     ]
    },
    {
     "name": "stderr",
     "output_type": "stream",
     "text": [
      "2025-07-11 09:04:59.575762: I external/local_tsl/tsl/profiler/lib/profiler_session.cc:103] Profiler session initializing.\n",
      "2025-07-11 09:04:59.575775: I external/local_tsl/tsl/profiler/lib/profiler_session.cc:118] Profiler session started.\n",
      "2025-07-11 09:04:59.626674: I external/local_tsl/tsl/profiler/lib/profiler_session.cc:68] Profiler session collecting data.\n",
      "2025-07-11 09:04:59.639435: I external/local_tsl/tsl/profiler/lib/profiler_session.cc:130] Profiler session tear down.\n",
      "2025-07-11 09:04:59.641413: I external/local_xla/xla/tsl/profiler/rpc/client/save_profile.cc:147] Collecting XSpace to repository: my_logs/run_2025_07_11_09_04_59/train/plugins/profile/2025_07_11_09_04_59/Shivams-MacBook-Air.local.xplane.pb\n"
     ]
    },
    {
     "name": "stdout",
     "output_type": "stream",
     "text": [
      "\u001b[1m363/363\u001b[0m \u001b[32m━━━━━━━━━━━━━━━━━━━━\u001b[0m\u001b[37m\u001b[0m \u001b[1m1s\u001b[0m 857us/step - RootMeanSquaredError: 1.8517 - loss: 3.5385 - val_RootMeanSquaredError: 0.9524 - val_loss: 0.9070\n",
      "Epoch 2/20\n",
      "\u001b[1m363/363\u001b[0m \u001b[32m━━━━━━━━━━━━━━━━━━━━\u001b[0m\u001b[37m\u001b[0m \u001b[1m0s\u001b[0m 619us/step - RootMeanSquaredError: 0.8890 - loss: 0.7914 - val_RootMeanSquaredError: 0.8047 - val_loss: 0.6475\n",
      "Epoch 3/20\n",
      "\u001b[1m363/363\u001b[0m \u001b[32m━━━━━━━━━━━━━━━━━━━━\u001b[0m\u001b[37m\u001b[0m \u001b[1m0s\u001b[0m 639us/step - RootMeanSquaredError: 0.8101 - loss: 0.6571 - val_RootMeanSquaredError: 0.7569 - val_loss: 0.5730\n",
      "Epoch 4/20\n",
      "\u001b[1m363/363\u001b[0m \u001b[32m━━━━━━━━━━━━━━━━━━━━\u001b[0m\u001b[37m\u001b[0m \u001b[1m0s\u001b[0m 623us/step - RootMeanSquaredError: 0.7776 - loss: 0.6054 - val_RootMeanSquaredError: 0.7248 - val_loss: 0.5253\n",
      "Epoch 5/20\n",
      "\u001b[1m363/363\u001b[0m \u001b[32m━━━━━━━━━━━━━━━━━━━━\u001b[0m\u001b[37m\u001b[0m \u001b[1m0s\u001b[0m 626us/step - RootMeanSquaredError: 0.7520 - loss: 0.5662 - val_RootMeanSquaredError: 0.7011 - val_loss: 0.4915\n",
      "Epoch 6/20\n",
      "\u001b[1m363/363\u001b[0m \u001b[32m━━━━━━━━━━━━━━━━━━━━\u001b[0m\u001b[37m\u001b[0m \u001b[1m0s\u001b[0m 622us/step - RootMeanSquaredError: 0.7308 - loss: 0.5348 - val_RootMeanSquaredError: 0.6826 - val_loss: 0.4659\n",
      "Epoch 7/20\n",
      "\u001b[1m363/363\u001b[0m \u001b[32m━━━━━━━━━━━━━━━━━━━━\u001b[0m\u001b[37m\u001b[0m \u001b[1m0s\u001b[0m 621us/step - RootMeanSquaredError: 0.7134 - loss: 0.5095 - val_RootMeanSquaredError: 0.6684 - val_loss: 0.4467\n",
      "Epoch 8/20\n",
      "\u001b[1m363/363\u001b[0m \u001b[32m━━━━━━━━━━━━━━━━━━━━\u001b[0m\u001b[37m\u001b[0m \u001b[1m0s\u001b[0m 620us/step - RootMeanSquaredError: 0.6990 - loss: 0.4891 - val_RootMeanSquaredError: 0.6572 - val_loss: 0.4319\n",
      "Epoch 9/20\n",
      "\u001b[1m363/363\u001b[0m \u001b[32m━━━━━━━━━━━━━━━━━━━━\u001b[0m\u001b[37m\u001b[0m \u001b[1m0s\u001b[0m 618us/step - RootMeanSquaredError: 0.6869 - loss: 0.4724 - val_RootMeanSquaredError: 0.6483 - val_loss: 0.4202\n",
      "Epoch 10/20\n",
      "\u001b[1m363/363\u001b[0m \u001b[32m━━━━━━━━━━━━━━━━━━━━\u001b[0m\u001b[37m\u001b[0m \u001b[1m0s\u001b[0m 622us/step - RootMeanSquaredError: 0.6766 - loss: 0.4582 - val_RootMeanSquaredError: 0.6404 - val_loss: 0.4101\n",
      "Epoch 11/20\n",
      "\u001b[1m363/363\u001b[0m \u001b[32m━━━━━━━━━━━━━━━━━━━━\u001b[0m\u001b[37m\u001b[0m \u001b[1m0s\u001b[0m 618us/step - RootMeanSquaredError: 0.6678 - loss: 0.4464 - val_RootMeanSquaredError: 0.6334 - val_loss: 0.4012\n",
      "Epoch 12/20\n",
      "\u001b[1m363/363\u001b[0m \u001b[32m━━━━━━━━━━━━━━━━━━━━\u001b[0m\u001b[37m\u001b[0m \u001b[1m0s\u001b[0m 621us/step - RootMeanSquaredError: 0.6603 - loss: 0.4364 - val_RootMeanSquaredError: 0.6277 - val_loss: 0.3940\n",
      "Epoch 13/20\n",
      "\u001b[1m363/363\u001b[0m \u001b[32m━━━━━━━━━━━━━━━━━━━━\u001b[0m\u001b[37m\u001b[0m \u001b[1m0s\u001b[0m 701us/step - RootMeanSquaredError: 0.6539 - loss: 0.4279 - val_RootMeanSquaredError: 0.6223 - val_loss: 0.3873\n",
      "Epoch 14/20\n",
      "\u001b[1m363/363\u001b[0m \u001b[32m━━━━━━━━━━━━━━━━━━━━\u001b[0m\u001b[37m\u001b[0m \u001b[1m0s\u001b[0m 623us/step - RootMeanSquaredError: 0.6482 - loss: 0.4206 - val_RootMeanSquaredError: 0.6176 - val_loss: 0.3814\n",
      "Epoch 15/20\n",
      "\u001b[1m363/363\u001b[0m \u001b[32m━━━━━━━━━━━━━━━━━━━━\u001b[0m\u001b[37m\u001b[0m \u001b[1m0s\u001b[0m 618us/step - RootMeanSquaredError: 0.6433 - loss: 0.4142 - val_RootMeanSquaredError: 0.6134 - val_loss: 0.3763\n",
      "Epoch 16/20\n",
      "\u001b[1m363/363\u001b[0m \u001b[32m━━━━━━━━━━━━━━━━━━━━\u001b[0m\u001b[37m\u001b[0m \u001b[1m0s\u001b[0m 620us/step - RootMeanSquaredError: 0.6389 - loss: 0.4085 - val_RootMeanSquaredError: 0.6097 - val_loss: 0.3717\n",
      "Epoch 17/20\n",
      "\u001b[1m363/363\u001b[0m \u001b[32m━━━━━━━━━━━━━━━━━━━━\u001b[0m\u001b[37m\u001b[0m \u001b[1m0s\u001b[0m 619us/step - RootMeanSquaredError: 0.6349 - loss: 0.4035 - val_RootMeanSquaredError: 0.6066 - val_loss: 0.3680\n",
      "Epoch 18/20\n",
      "\u001b[1m363/363\u001b[0m \u001b[32m━━━━━━━━━━━━━━━━━━━━\u001b[0m\u001b[37m\u001b[0m \u001b[1m0s\u001b[0m 620us/step - RootMeanSquaredError: 0.6313 - loss: 0.3989 - val_RootMeanSquaredError: 0.6037 - val_loss: 0.3645\n",
      "Epoch 19/20\n",
      "\u001b[1m363/363\u001b[0m \u001b[32m━━━━━━━━━━━━━━━━━━━━\u001b[0m\u001b[37m\u001b[0m \u001b[1m0s\u001b[0m 618us/step - RootMeanSquaredError: 0.6281 - loss: 0.3948 - val_RootMeanSquaredError: 0.6012 - val_loss: 0.3614\n",
      "Epoch 20/20\n",
      "\u001b[1m363/363\u001b[0m \u001b[32m━━━━━━━━━━━━━━━━━━━━\u001b[0m\u001b[37m\u001b[0m \u001b[1m0s\u001b[0m 620us/step - RootMeanSquaredError: 0.6251 - loss: 0.3911 - val_RootMeanSquaredError: 0.5986 - val_loss: 0.3583\n"
     ]
    }
   ],
   "source": [
    "tensor_board_cb=tf.keras.callbacks.TensorBoard(run_logdir,profile_batch=(100,200))\n",
    "history=model.fit(X_train,y_train,epochs=20,\n",
    "                 validation_data=(X_valid,y_valid),\n",
    "                 callbacks=[tensor_board_cb])"
   ]
  },
  {
   "cell_type": "code",
   "execution_count": 108,
   "id": "69f93a8a-b2d6-489a-b7cd-3f2b9a1bae30",
   "metadata": {},
   "outputs": [
    {
     "data": {
      "text/html": [
       "<a href=\"http://localhost:6006/\">View TensorBoard</a>"
      ],
      "text/plain": [
       "<IPython.core.display.HTML object>"
      ]
     },
     "metadata": {},
     "output_type": "display_data"
    }
   ],
   "source": [
    "from IPython.display import display,HTML\n",
    "display(HTML('<a href=\"http://localhost:6006/\">View TensorBoard</a>'))"
   ]
  },
  {
   "cell_type": "code",
   "execution_count": 109,
   "id": "976a1bb2-aacd-4049-92f1-eb034bff4347",
   "metadata": {},
   "outputs": [],
   "source": [
    "test_logdir = get_run_logdir()\n",
    "writer = tf.summary.create_file_writer(str(test_logdir))\n",
    "with writer.as_default():\n",
    "    for step in range(1, 1000 + 1):\n",
    "        tf.summary.scalar(\"my_scalar\", np.sin(step / 10), step=step)\n",
    "        \n",
    "        data = (np.random.randn(100) + 2) * step / 100  # gets larger\n",
    "        tf.summary.histogram(\"my_hist\", data, buckets=50, step=step)\n",
    "        \n",
    "        images = np.random.rand(2, 32, 32, 3) * step / 1000  # gets brighter\n",
    "        tf.summary.image(\"my_images\", images, step=step)\n",
    "        \n",
    "        texts = [\"The step is \" + str(step), \"Its square is \" + str(step ** 2)]\n",
    "        tf.summary.text(\"my_text\", texts, step=step)\n",
    "        \n",
    "        sine_wave = tf.math.sin(tf.range(12000) / 48000 * 2 * np.pi * step)\n",
    "        audio = tf.reshape(tf.cast(sine_wave, tf.float32), [1, -1, 1])\n",
    "        tf.summary.audio(\"my_audio\", audio, sample_rate=48000, step=step)"
   ]
  },
  {
   "cell_type": "markdown",
   "id": "2d45c248-c215-4bfc-8f71-41a0f978869a",
   "metadata": {},
   "source": [
    "# Fine-Tuning Neural Network Hyperparameters"
   ]
  },
  {
   "cell_type": "code",
   "execution_count": 111,
   "id": "2876c3d4-1bb1-4a21-8650-a0e2d2fae5d0",
   "metadata": {},
   "outputs": [],
   "source": [
    "(X_train_full,y_train_full),(X_test,y_test)=fashion_mnist\n",
    "\n",
    "X_train,y_train=X_train_full[:-5000],y_train_full[:-5000]\n",
    "X_valid,y_valid=X_train_full[-5000:],y_train_full[-5000:]"
   ]
  },
  {
   "cell_type": "code",
   "execution_count": 112,
   "id": "3eefff2e-84ed-4e80-b7eb-00de2ae5a4b7",
   "metadata": {},
   "outputs": [],
   "source": [
    "tf.keras.backend.clear_session()\n",
    "tf.random.set_seed(42)"
   ]
  },
  {
   "cell_type": "code",
   "execution_count": 113,
   "id": "90aa40e0-c72c-412b-9b5b-4b0f11bb9843",
   "metadata": {},
   "outputs": [],
   "source": [
    "import keras_tuner as kt"
   ]
  },
  {
   "cell_type": "code",
   "execution_count": 114,
   "id": "52c7be48-b068-449d-9d4f-8d0acb7b3d0e",
   "metadata": {},
   "outputs": [],
   "source": [
    "def build_model(hp):\n",
    "    n_hidden=hp.Int(\"n_hidden\",min_value=0,max_value=8,default=2)\n",
    "    n_neurons=hp.Int(\"n_neurons\",min_value=16, max_value=244)\n",
    "    learning_rate=hp.Float(\"learning_rate\",min_value=1e-4,max_value=1e-2,\n",
    "                          sampling=\"log\")\n",
    "    optimizer=hp.Choice(\"optimizer\",values=[\"sgd\",\"adam\"])\n",
    "\n",
    "    if optimizer==\"sgd\":\n",
    "        optimizer=tf.keras.optimizers.SGD(learning_rate=learning_rate)\n",
    "    else:\n",
    "        optimizer=tf.keras.optimizers.Adam(learning_rate=learning_rate)\n",
    "    model=tf.keras.Sequential()\n",
    "    model.add(tf.keras.layers.Flatten())\n",
    "    for _ in range(n_hidden):\n",
    "        model.add(tf.keras.layers.Dense(n_neurons,activation=\"relu\"))\n",
    "    model.add(tf.keras.layers.Dense(10,activation=\"softmax\"))\n",
    "\n",
    "    model.compile(loss=\"sparse_categorical_crossentropy\",optimizer=optimizer,metrics=[\"accuracy\"])\n",
    "    return model\n",
    "    "
   ]
  },
  {
   "cell_type": "code",
   "execution_count": 115,
   "id": "ac44ffae-979a-4f5a-a80f-e0df8d30b054",
   "metadata": {},
   "outputs": [
    {
     "name": "stdout",
     "output_type": "stream",
     "text": [
      "Trial 5 Complete [00h 00m 11s]\n",
      "val_accuracy: 0.8302000164985657\n",
      "\n",
      "Best val_accuracy So Far: 0.8532000184059143\n",
      "Total elapsed time: 00h 00m 59s\n"
     ]
    }
   ],
   "source": [
    "random_search_tunner=kt.RandomSearch(\n",
    "    build_model,objective=\"val_accuracy\",max_trials=5,overwrite=True,\n",
    "    directory=\"my_fashion_mnist\",project_name=\"rnd_search\",seed=42)\n",
    "random_search_tunner.search(X_train,y_train,epochs=10,\n",
    "                            validation_data=(X_valid, y_valid))"
   ]
  },
  {
   "cell_type": "code",
   "execution_count": 116,
   "id": "3113cb13-5712-4577-9731-8b41495959d7",
   "metadata": {},
   "outputs": [],
   "source": [
    "top3_models=random_search_tunner.get_best_models(num_models=3)\n",
    "best_model=top3_models[0]"
   ]
  },
  {
   "cell_type": "code",
   "execution_count": 117,
   "id": "fa2f2eb0-b3dd-4a25-9a95-d0fb81bea6ab",
   "metadata": {},
   "outputs": [
    {
     "data": {
      "text/plain": [
       "{'n_hidden': 7,\n",
       " 'n_neurons': 96,\n",
       " 'learning_rate': 0.0012482904754698163,\n",
       " 'optimizer': 'sgd'}"
      ]
     },
     "execution_count": 117,
     "metadata": {},
     "output_type": "execute_result"
    }
   ],
   "source": [
    "top3_params=random_search_tunner.get_best_hyperparameters(num_trials=3)\n",
    "top3_params[0].values"
   ]
  },
  {
   "cell_type": "code",
   "execution_count": 118,
   "id": "a7967722-3a6a-44f4-ac3f-6cdc61d368b2",
   "metadata": {},
   "outputs": [],
   "source": [
    "best_trial=random_search_tunner.oracle.get_best_trials(num_trials=1)[0]"
   ]
  },
  {
   "cell_type": "code",
   "execution_count": 119,
   "id": "ccd33fe8-7593-48a7-9337-ab50ae5a11d4",
   "metadata": {},
   "outputs": [
    {
     "name": "stdout",
     "output_type": "stream",
     "text": [
      "Trial 1 summary\n",
      "Hyperparameters:\n",
      "n_hidden: 7\n",
      "n_neurons: 96\n",
      "learning_rate: 0.0012482904754698163\n",
      "optimizer: sgd\n",
      "Score: 0.8532000184059143\n"
     ]
    }
   ],
   "source": [
    "best_trial.summary()"
   ]
  },
  {
   "cell_type": "code",
   "execution_count": 120,
   "id": "5d59ee18-35a0-4c26-9b9a-71aee894f314",
   "metadata": {},
   "outputs": [
    {
     "data": {
      "text/plain": [
       "0.8532000184059143"
      ]
     },
     "execution_count": 120,
     "metadata": {},
     "output_type": "execute_result"
    }
   ],
   "source": [
    "best_trial.metrics.get_best_value(\"val_accuracy\")"
   ]
  },
  {
   "cell_type": "code",
   "execution_count": 121,
   "id": "63af7006-d464-45ff-8f55-01d4fe8af29a",
   "metadata": {},
   "outputs": [
    {
     "name": "stdout",
     "output_type": "stream",
     "text": [
      "Epoch 1/10\n",
      "\u001b[1m1719/1719\u001b[0m \u001b[32m━━━━━━━━━━━━━━━━━━━━\u001b[0m\u001b[37m\u001b[0m \u001b[1m2s\u001b[0m 804us/step - accuracy: 0.8787 - loss: 0.3318 - val_accuracy: 0.8528 - val_loss: 0.4064\n",
      "Epoch 2/10\n",
      "\u001b[1m1719/1719\u001b[0m \u001b[32m━━━━━━━━━━━━━━━━━━━━\u001b[0m\u001b[37m\u001b[0m \u001b[1m1s\u001b[0m 767us/step - accuracy: 0.8820 - loss: 0.3226 - val_accuracy: 0.8550 - val_loss: 0.3998\n",
      "Epoch 3/10\n",
      "\u001b[1m1719/1719\u001b[0m \u001b[32m━━━━━━━━━━━━━━━━━━━━\u001b[0m\u001b[37m\u001b[0m \u001b[1m1s\u001b[0m 762us/step - accuracy: 0.8848 - loss: 0.3144 - val_accuracy: 0.8558 - val_loss: 0.3993\n",
      "Epoch 4/10\n",
      "\u001b[1m1719/1719\u001b[0m \u001b[32m━━━━━━━━━━━━━━━━━━━━\u001b[0m\u001b[37m\u001b[0m \u001b[1m1s\u001b[0m 767us/step - accuracy: 0.8875 - loss: 0.3072 - val_accuracy: 0.8580 - val_loss: 0.3912\n",
      "Epoch 5/10\n",
      "\u001b[1m1719/1719\u001b[0m \u001b[32m━━━━━━━━━━━━━━━━━━━━\u001b[0m\u001b[37m\u001b[0m \u001b[1m1s\u001b[0m 791us/step - accuracy: 0.8909 - loss: 0.2993 - val_accuracy: 0.8622 - val_loss: 0.3875\n",
      "Epoch 6/10\n",
      "\u001b[1m1719/1719\u001b[0m \u001b[32m━━━━━━━━━━━━━━━━━━━━\u001b[0m\u001b[37m\u001b[0m \u001b[1m1s\u001b[0m 765us/step - accuracy: 0.8928 - loss: 0.2924 - val_accuracy: 0.8622 - val_loss: 0.3952\n",
      "Epoch 7/10\n",
      "\u001b[1m1719/1719\u001b[0m \u001b[32m━━━━━━━━━━━━━━━━━━━━\u001b[0m\u001b[37m\u001b[0m \u001b[1m1s\u001b[0m 764us/step - accuracy: 0.8943 - loss: 0.2871 - val_accuracy: 0.8620 - val_loss: 0.3941\n",
      "Epoch 8/10\n",
      "\u001b[1m1719/1719\u001b[0m \u001b[32m━━━━━━━━━━━━━━━━━━━━\u001b[0m\u001b[37m\u001b[0m \u001b[1m1s\u001b[0m 782us/step - accuracy: 0.8966 - loss: 0.2807 - val_accuracy: 0.8626 - val_loss: 0.3935\n",
      "Epoch 9/10\n",
      "\u001b[1m1719/1719\u001b[0m \u001b[32m━━━━━━━━━━━━━━━━━━━━\u001b[0m\u001b[37m\u001b[0m \u001b[1m1s\u001b[0m 767us/step - accuracy: 0.8989 - loss: 0.2756 - val_accuracy: 0.8594 - val_loss: 0.3979\n",
      "Epoch 10/10\n",
      "\u001b[1m1719/1719\u001b[0m \u001b[32m━━━━━━━━━━━━━━━━━━━━\u001b[0m\u001b[37m\u001b[0m \u001b[1m1s\u001b[0m 769us/step - accuracy: 0.9011 - loss: 0.2700 - val_accuracy: 0.8644 - val_loss: 0.3943\n",
      "\u001b[1m313/313\u001b[0m \u001b[32m━━━━━━━━━━━━━━━━━━━━\u001b[0m\u001b[37m\u001b[0m \u001b[1m0s\u001b[0m 479us/step - accuracy: 0.8631 - loss: 0.4063\n"
     ]
    }
   ],
   "source": [
    "best_model.fit(X_train,y_train,epochs=10,\n",
    "              validation_data=(X_valid,y_valid))\n",
    "test_loss,test_accuracy=best_model.evaluate(X_test,y_test)"
   ]
  },
  {
   "cell_type": "code",
   "execution_count": 122,
   "id": "7b93c67a-9774-4e05-b329-9505fdcc559b",
   "metadata": {},
   "outputs": [],
   "source": [
    "class MyClassificationHyperModel(kt.HyperModel):\n",
    "    def build(self,hp):\n",
    "        return build_model(hp)\n",
    "    def fit(self,hp,model,X,y,**kwargs):\n",
    "        if hp.Boolean(\"normalized\"):\n",
    "            norm_layer=tf.keras.layers.Normalization()\n",
    "            norm_layer.adapt(X)\n",
    "            X=norm_layer(X)\n",
    "        return model.fit(X,y,**kwargs)"
   ]
  },
  {
   "cell_type": "code",
   "execution_count": 123,
   "id": "66bc732a-1e71-4715-a322-ff8c85374fa0",
   "metadata": {},
   "outputs": [],
   "source": [
    "hyperband_tuner=kt.Hyperband(\n",
    "    MyClassificationHyperModel(),\n",
    "    objective=\"val_accuracy\",\n",
    "    seed=42,\n",
    "    max_epochs=10,\n",
    "    factor=3,\n",
    "    hyperband_iterations=2,\n",
    "     overwrite=True, directory=\"my_fashion_mnist\", project_name=\"hyperband\"\n",
    ")"
   ]
  },
  {
   "cell_type": "code",
   "execution_count": 124,
   "id": "183d344a-068b-493d-9dc9-a55c1151be33",
   "metadata": {},
   "outputs": [
    {
     "name": "stdout",
     "output_type": "stream",
     "text": [
      "Trial 60 Complete [00h 00m 13s]\n",
      "val_accuracy: 0.8245999813079834\n",
      "\n",
      "Best val_accuracy So Far: 0.8740000128746033\n",
      "Total elapsed time: 00h 06m 44s\n"
     ]
    }
   ],
   "source": [
    "root_logdir = Path(hyperband_tuner.project_dir) / \"tensorboard\"\n",
    "tensorboard_cb=tf.keras.callbacks.TensorBoard(root_logdir)\n",
    "early_stopping_cb=tf.keras.callbacks.EarlyStopping(patience=2)\n",
    "hyperband_tuner.search(X_train,y_train,\n",
    "                      epochs=10,\n",
    "                      validation_data=(X_valid,y_valid),\n",
    "                      callbacks=[early_stopping_cb,tensorboard_cb])"
   ]
  },
  {
   "cell_type": "code",
   "execution_count": 125,
   "id": "78949321-40ef-49a2-aa14-d9738a9488c8",
   "metadata": {},
   "outputs": [
    {
     "data": {
      "text/html": [
       "<a href=\"http://localhost:6006/\">View TensorBoard</a>"
      ],
      "text/plain": [
       "<IPython.core.display.HTML object>"
      ]
     },
     "metadata": {},
     "output_type": "display_data"
    }
   ],
   "source": [
    "from IPython.display import display,HTML\n",
    "display(HTML('<a href=\"http://localhost:6006/\">View TensorBoard</a>'))"
   ]
  },
  {
   "cell_type": "code",
   "execution_count": 126,
   "id": "d24f21e0-53e3-4b4a-a125-f82c14301802",
   "metadata": {},
   "outputs": [
    {
     "name": "stderr",
     "output_type": "stream",
     "text": [
      "UsageError: Line magic function `%tensorboard` not found.\n"
     ]
    }
   ],
   "source": [
    "%tensorboard --logdir {root_logdir}"
   ]
  }
 ],
 "metadata": {
  "kernelspec": {
   "display_name": "Python [conda env:base] *",
   "language": "python",
   "name": "conda-base-py"
  },
  "language_info": {
   "codemirror_mode": {
    "name": "ipython",
    "version": 3
   },
   "file_extension": ".py",
   "mimetype": "text/x-python",
   "name": "python",
   "nbconvert_exporter": "python",
   "pygments_lexer": "ipython3",
   "version": "3.12.2"
  }
 },
 "nbformat": 4,
 "nbformat_minor": 5
}
