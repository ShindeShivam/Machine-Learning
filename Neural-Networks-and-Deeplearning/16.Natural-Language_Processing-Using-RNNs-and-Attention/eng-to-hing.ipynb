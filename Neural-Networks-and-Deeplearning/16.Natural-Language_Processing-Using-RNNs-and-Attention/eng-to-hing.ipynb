{
 "cells": [
  {
   "cell_type": "code",
   "execution_count": 1,
   "metadata": {
    "_cell_guid": "b1076dfc-b9ad-4769-8c92-a6c4dae69d19",
    "_uuid": "8f2839f25d086af736a60e9eeb907d3b93b6e0e5",
    "execution": {
     "iopub.execute_input": "2025-08-24T10:20:24.573110Z",
     "iopub.status.busy": "2025-08-24T10:20:24.572869Z",
     "iopub.status.idle": "2025-08-24T10:20:39.172616Z",
     "shell.execute_reply": "2025-08-24T10:20:39.172039Z",
     "shell.execute_reply.started": "2025-08-24T10:20:24.573085Z"
    }
   },
   "outputs": [
    {
     "name": "stderr",
     "output_type": "stream",
     "text": [
      "2025-08-24 10:20:26.486228: E external/local_xla/xla/stream_executor/cuda/cuda_fft.cc:477] Unable to register cuFFT factory: Attempting to register factory for plugin cuFFT when one has already been registered\n",
      "WARNING: All log messages before absl::InitializeLog() is called are written to STDERR\n",
      "E0000 00:00:1756030826.715406      36 cuda_dnn.cc:8310] Unable to register cuDNN factory: Attempting to register factory for plugin cuDNN when one has already been registered\n",
      "E0000 00:00:1756030826.786371      36 cuda_blas.cc:1418] Unable to register cuBLAS factory: Attempting to register factory for plugin cuBLAS when one has already been registered\n"
     ]
    }
   ],
   "source": [
    "import tensorflow as tf\n",
    "import json\n",
    "import numpy as np\n",
    "import pandas as pd"
   ]
  },
  {
   "cell_type": "code",
   "execution_count": 2,
   "metadata": {
    "execution": {
     "iopub.execute_input": "2025-08-24T10:20:39.173665Z",
     "iopub.status.busy": "2025-08-24T10:20:39.173294Z",
     "iopub.status.idle": "2025-08-24T10:20:40.011527Z",
     "shell.execute_reply": "2025-08-24T10:20:40.010935Z",
     "shell.execute_reply.started": "2025-08-24T10:20:39.173647Z"
    }
   },
   "outputs": [],
   "source": [
    "data=[]\n",
    "with open(\"/kaggle/input/english-hinglish/hinglish_upload_v1.json\",\"r\",encoding=\"utf-8\") as f:\n",
    "    for line in f :\n",
    "        obj = json.loads(line)\n",
    "        data.append({\n",
    "            \"English\":obj[\"translation\"][\"en\"],\n",
    "            \"Hinglish\":obj[\"translation\"][\"hi_ng\"]\n",
    "        })"
   ]
  },
  {
   "cell_type": "code",
   "execution_count": 3,
   "metadata": {
    "execution": {
     "iopub.execute_input": "2025-08-24T10:20:40.013059Z",
     "iopub.status.busy": "2025-08-24T10:20:40.012832Z",
     "iopub.status.idle": "2025-08-24T10:20:40.119695Z",
     "shell.execute_reply": "2025-08-24T10:20:40.119137Z",
     "shell.execute_reply.started": "2025-08-24T10:20:40.013041Z"
    }
   },
   "outputs": [
    {
     "data": {
      "text/html": [
       "<div>\n",
       "<style scoped>\n",
       "    .dataframe tbody tr th:only-of-type {\n",
       "        vertical-align: middle;\n",
       "    }\n",
       "\n",
       "    .dataframe tbody tr th {\n",
       "        vertical-align: top;\n",
       "    }\n",
       "\n",
       "    .dataframe thead th {\n",
       "        text-align: right;\n",
       "    }\n",
       "</style>\n",
       "<table border=\"1\" class=\"dataframe\">\n",
       "  <thead>\n",
       "    <tr style=\"text-align: right;\">\n",
       "      <th></th>\n",
       "      <th>English</th>\n",
       "      <th>Hinglish</th>\n",
       "    </tr>\n",
       "  </thead>\n",
       "  <tbody>\n",
       "    <tr>\n",
       "      <th>0</th>\n",
       "      <td>What's the name of the movie</td>\n",
       "      <td>film ka kya naam hai</td>\n",
       "    </tr>\n",
       "    <tr>\n",
       "      <th>1</th>\n",
       "      <td>Hi, the rotten tomatoes score is great but the...</td>\n",
       "      <td>namaste, sada hua tomatoes score mahaan hai, l...</td>\n",
       "    </tr>\n",
       "    <tr>\n",
       "      <th>2</th>\n",
       "      <td>Do you think you will like the movie</td>\n",
       "      <td>kya aapako lagata hai ki aapako film pasand aa...</td>\n",
       "    </tr>\n",
       "    <tr>\n",
       "      <th>3</th>\n",
       "      <td>What kind of movie is it</td>\n",
       "      <td>yah kis tarah kee philm hai</td>\n",
       "    </tr>\n",
       "    <tr>\n",
       "      <th>4</th>\n",
       "      <td>when was the movie made?</td>\n",
       "      <td>film  kab banee thee?</td>\n",
       "    </tr>\n",
       "  </tbody>\n",
       "</table>\n",
       "</div>"
      ],
      "text/plain": [
       "                                             English  \\\n",
       "0                       What's the name of the movie   \n",
       "1  Hi, the rotten tomatoes score is great but the...   \n",
       "2               Do you think you will like the movie   \n",
       "3                           What kind of movie is it   \n",
       "4                           when was the movie made?   \n",
       "\n",
       "                                            Hinglish  \n",
       "0                               film ka kya naam hai  \n",
       "1  namaste, sada hua tomatoes score mahaan hai, l...  \n",
       "2  kya aapako lagata hai ki aapako film pasand aa...  \n",
       "3                        yah kis tarah kee philm hai  \n",
       "4                              film  kab banee thee?  "
      ]
     },
     "execution_count": 3,
     "metadata": {},
     "output_type": "execute_result"
    }
   ],
   "source": [
    "df = pd.DataFrame(data)\n",
    "df.head()"
   ]
  },
  {
   "cell_type": "code",
   "execution_count": 4,
   "metadata": {
    "execution": {
     "iopub.execute_input": "2025-08-24T10:20:40.120580Z",
     "iopub.status.busy": "2025-08-24T10:20:40.120368Z",
     "iopub.status.idle": "2025-08-24T10:20:40.421712Z",
     "shell.execute_reply": "2025-08-24T10:20:40.420962Z",
     "shell.execute_reply.started": "2025-08-24T10:20:40.120560Z"
    }
   },
   "outputs": [
    {
     "data": {
      "text/html": [
       "<div>\n",
       "<style scoped>\n",
       "    .dataframe tbody tr th:only-of-type {\n",
       "        vertical-align: middle;\n",
       "    }\n",
       "\n",
       "    .dataframe tbody tr th {\n",
       "        vertical-align: top;\n",
       "    }\n",
       "\n",
       "    .dataframe thead th {\n",
       "        text-align: right;\n",
       "    }\n",
       "</style>\n",
       "<table border=\"1\" class=\"dataframe\">\n",
       "  <thead>\n",
       "    <tr style=\"text-align: right;\">\n",
       "      <th></th>\n",
       "      <th>English</th>\n",
       "      <th>Hinglish</th>\n",
       "    </tr>\n",
       "  </thead>\n",
       "  <tbody>\n",
       "    <tr>\n",
       "      <th>count</th>\n",
       "      <td>189102</td>\n",
       "      <td>189102</td>\n",
       "    </tr>\n",
       "    <tr>\n",
       "      <th>unique</th>\n",
       "      <td>165608</td>\n",
       "      <td>155544</td>\n",
       "    </tr>\n",
       "    <tr>\n",
       "      <th>top</th>\n",
       "      <td>cancel all alarms</td>\n",
       "      <td>alarm ko stop kare</td>\n",
       "    </tr>\n",
       "    <tr>\n",
       "      <th>freq</th>\n",
       "      <td>64</td>\n",
       "      <td>88</td>\n",
       "    </tr>\n",
       "  </tbody>\n",
       "</table>\n",
       "</div>"
      ],
      "text/plain": [
       "                  English            Hinglish\n",
       "count              189102              189102\n",
       "unique             165608              155544\n",
       "top     cancel all alarms  alarm ko stop kare\n",
       "freq                   64                  88"
      ]
     },
     "execution_count": 4,
     "metadata": {},
     "output_type": "execute_result"
    }
   ],
   "source": [
    "df.describe()"
   ]
  },
  {
   "cell_type": "code",
   "execution_count": 5,
   "metadata": {
    "execution": {
     "iopub.execute_input": "2025-08-24T10:20:40.422827Z",
     "iopub.status.busy": "2025-08-24T10:20:40.422549Z",
     "iopub.status.idle": "2025-08-24T10:20:40.459657Z",
     "shell.execute_reply": "2025-08-24T10:20:40.458965Z",
     "shell.execute_reply.started": "2025-08-24T10:20:40.422801Z"
    }
   },
   "outputs": [
    {
     "data": {
      "text/plain": [
       "English     0\n",
       "Hinglish    0\n",
       "dtype: int64"
      ]
     },
     "execution_count": 5,
     "metadata": {},
     "output_type": "execute_result"
    }
   ],
   "source": [
    "df.isnull().sum()"
   ]
  },
  {
   "cell_type": "code",
   "execution_count": 6,
   "metadata": {
    "execution": {
     "iopub.execute_input": "2025-08-24T10:20:40.460713Z",
     "iopub.status.busy": "2025-08-24T10:20:40.460478Z",
     "iopub.status.idle": "2025-08-24T10:20:40.515622Z",
     "shell.execute_reply": "2025-08-24T10:20:40.515073Z",
     "shell.execute_reply.started": "2025-08-24T10:20:40.460688Z"
    }
   },
   "outputs": [],
   "source": [
    "df_final = df.sample(frac=1).reset_index(drop=True)"
   ]
  },
  {
   "cell_type": "code",
   "execution_count": 7,
   "metadata": {
    "execution": {
     "iopub.execute_input": "2025-08-24T10:20:40.516445Z",
     "iopub.status.busy": "2025-08-24T10:20:40.516272Z",
     "iopub.status.idle": "2025-08-24T10:20:40.522895Z",
     "shell.execute_reply": "2025-08-24T10:20:40.522403Z",
     "shell.execute_reply.started": "2025-08-24T10:20:40.516431Z"
    }
   },
   "outputs": [
    {
     "data": {
      "text/html": [
       "<div>\n",
       "<style scoped>\n",
       "    .dataframe tbody tr th:only-of-type {\n",
       "        vertical-align: middle;\n",
       "    }\n",
       "\n",
       "    .dataframe tbody tr th {\n",
       "        vertical-align: top;\n",
       "    }\n",
       "\n",
       "    .dataframe thead th {\n",
       "        text-align: right;\n",
       "    }\n",
       "</style>\n",
       "<table border=\"1\" class=\"dataframe\">\n",
       "  <thead>\n",
       "    <tr style=\"text-align: right;\">\n",
       "      <th></th>\n",
       "      <th>English</th>\n",
       "      <th>Hinglish</th>\n",
       "    </tr>\n",
       "  </thead>\n",
       "  <tbody>\n",
       "    <tr>\n",
       "      <th>0</th>\n",
       "      <td>Are there any traffic jams on Route 66 ?</td>\n",
       "      <td>Kya Route 66 par koi traffic jams hai ?</td>\n",
       "    </tr>\n",
       "    <tr>\n",
       "      <th>1</th>\n",
       "      <td>Find fastest route</td>\n",
       "      <td>sabse taiz raasta khoje</td>\n",
       "    </tr>\n",
       "    <tr>\n",
       "      <th>2</th>\n",
       "      <td>cancel all alarms</td>\n",
       "      <td>sarey alarms cance kare</td>\n",
       "    </tr>\n",
       "    <tr>\n",
       "      <th>3</th>\n",
       "      <td>where should we go this weekend</td>\n",
       "      <td>is weekend par humko kahan jaana chahiye</td>\n",
       "    </tr>\n",
       "    <tr>\n",
       "      <th>4</th>\n",
       "      <td>Reply to message with voice</td>\n",
       "      <td>message ko voice ke sath reply kare</td>\n",
       "    </tr>\n",
       "  </tbody>\n",
       "</table>\n",
       "</div>"
      ],
      "text/plain": [
       "                                    English  \\\n",
       "0  Are there any traffic jams on Route 66 ?   \n",
       "1                        Find fastest route   \n",
       "2                         cancel all alarms   \n",
       "3           where should we go this weekend   \n",
       "4               Reply to message with voice   \n",
       "\n",
       "                                   Hinglish  \n",
       "0   Kya Route 66 par koi traffic jams hai ?  \n",
       "1                   sabse taiz raasta khoje  \n",
       "2                   sarey alarms cance kare  \n",
       "3  is weekend par humko kahan jaana chahiye  \n",
       "4       message ko voice ke sath reply kare  "
      ]
     },
     "execution_count": 7,
     "metadata": {},
     "output_type": "execute_result"
    }
   ],
   "source": [
    "df_final.head()"
   ]
  },
  {
   "cell_type": "code",
   "execution_count": 8,
   "metadata": {
    "execution": {
     "iopub.execute_input": "2025-08-24T10:20:40.523767Z",
     "iopub.status.busy": "2025-08-24T10:20:40.523539Z",
     "iopub.status.idle": "2025-08-24T10:20:40.697842Z",
     "shell.execute_reply": "2025-08-24T10:20:40.697300Z",
     "shell.execute_reply.started": "2025-08-24T10:20:40.523750Z"
    }
   },
   "outputs": [
    {
     "data": {
      "text/plain": [
       "247"
      ]
     },
     "execution_count": 8,
     "metadata": {},
     "output_type": "execute_result"
    }
   ],
   "source": [
    "en_sentence = df_final[\"English\"]\n",
    "en_length = en_sentence.apply(lambda x:len(str(x).split()))\n",
    "max_en_length = en_length.max()\n",
    "max_en_length\n",
    "     "
   ]
  },
  {
   "cell_type": "code",
   "execution_count": 9,
   "metadata": {
    "execution": {
     "iopub.execute_input": "2025-08-24T10:20:40.700128Z",
     "iopub.status.busy": "2025-08-24T10:20:40.699910Z",
     "iopub.status.idle": "2025-08-24T10:20:40.705734Z",
     "shell.execute_reply": "2025-08-24T10:20:40.705028Z",
     "shell.execute_reply.started": "2025-08-24T10:20:40.700101Z"
    }
   },
   "outputs": [
    {
     "data": {
      "text/plain": [
       "0             Are there any traffic jams on Route 66 ?\n",
       "1                                   Find fastest route\n",
       "2                                    cancel all alarms\n",
       "3                      where should we go this weekend\n",
       "4                          Reply to message with voice\n",
       "                              ...                     \n",
       "189097                            I need gas remind me\n",
       "189098         How much is it going to rain tomorrow ?\n",
       "189099    I want to listen to Beyonce ' s latest album\n",
       "189100               Is the traffic heavy in Flagstaff\n",
       "189101                                       End timer\n",
       "Name: English, Length: 189102, dtype: object"
      ]
     },
     "execution_count": 9,
     "metadata": {},
     "output_type": "execute_result"
    }
   ],
   "source": [
    "en_sentence"
   ]
  },
  {
   "cell_type": "code",
   "execution_count": 10,
   "metadata": {
    "execution": {
     "iopub.execute_input": "2025-08-24T10:20:40.706797Z",
     "iopub.status.busy": "2025-08-24T10:20:40.706550Z",
     "iopub.status.idle": "2025-08-24T10:20:40.882574Z",
     "shell.execute_reply": "2025-08-24T10:20:40.881976Z",
     "shell.execute_reply.started": "2025-08-24T10:20:40.706780Z"
    }
   },
   "outputs": [
    {
     "data": {
      "text/plain": [
       "273"
      ]
     },
     "execution_count": 10,
     "metadata": {},
     "output_type": "execute_result"
    }
   ],
   "source": [
    "hing_sentence = df_final[\"Hinglish\"]\n",
    "hing_length = hing_sentence.apply(lambda x:len(str(x).split()))\n",
    "max_hing_length = hing_length.max()\n",
    "max_hing_length"
   ]
  },
  {
   "cell_type": "code",
   "execution_count": 11,
   "metadata": {
    "execution": {
     "iopub.execute_input": "2025-08-24T10:20:40.883986Z",
     "iopub.status.busy": "2025-08-24T10:20:40.883310Z",
     "iopub.status.idle": "2025-08-24T10:20:40.889153Z",
     "shell.execute_reply": "2025-08-24T10:20:40.888514Z",
     "shell.execute_reply.started": "2025-08-24T10:20:40.883962Z"
    }
   },
   "outputs": [
    {
     "data": {
      "text/plain": [
       "0             Kya Route 66 par koi traffic jams hai ?\n",
       "1                             sabse taiz raasta khoje\n",
       "2                             sarey alarms cance kare\n",
       "3            is weekend par humko kahan jaana chahiye\n",
       "4                 message ko voice ke sath reply kare\n",
       "                             ...                     \n",
       "189097    mujhe mujhe yaad dilane ke liye gas chahiye\n",
       "189098               kal kitni barish hone wali hai ?\n",
       "189099    Mai Beyonce ka latest album sunna chahta hu\n",
       "189100            Kya Flagstaff me traffic bhaari hai\n",
       "189101                              timer ko End kare\n",
       "Name: Hinglish, Length: 189102, dtype: object"
      ]
     },
     "execution_count": 11,
     "metadata": {},
     "output_type": "execute_result"
    }
   ],
   "source": [
    "hing_sentence"
   ]
  },
  {
   "cell_type": "code",
   "execution_count": 12,
   "metadata": {
    "execution": {
     "iopub.execute_input": "2025-08-24T10:20:40.889954Z",
     "iopub.status.busy": "2025-08-24T10:20:40.889784Z",
     "iopub.status.idle": "2025-08-24T10:20:43.466707Z",
     "shell.execute_reply": "2025-08-24T10:20:43.466098Z",
     "shell.execute_reply.started": "2025-08-24T10:20:40.889938Z"
    }
   },
   "outputs": [
    {
     "name": "stderr",
     "output_type": "stream",
     "text": [
      "I0000 00:00:1756030841.902563      36 gpu_device.cc:2022] Created device /job:localhost/replica:0/task:0/device:GPU:0 with 15513 MB memory:  -> device: 0, name: Tesla P100-PCIE-16GB, pci bus id: 0000:00:04.0, compute capability: 6.0\n"
     ]
    }
   ],
   "source": [
    "vocab_size = 2000\n",
    "max_length = 100\n",
    "\n",
    "text_vec_layer_en =tf.keras.layers.TextVectorization(\n",
    "    vocab_size,output_sequence_length=max_length\n",
    ") \n",
    "text_vec_layer_hing = tf.keras.layers.TextVectorization(\n",
    "    vocab_size,output_sequence_length=max_length \n",
    "    \n",
    ")\n",
    "text_vec_layer_en.adapt(en_sentence)\n",
    "text_vec_layer_hing.adapt([f\"startofseq {s} endofseq\"for s in hing_sentence])"
   ]
  },
  {
   "cell_type": "code",
   "execution_count": 13,
   "metadata": {
    "execution": {
     "iopub.execute_input": "2025-08-24T10:20:43.467599Z",
     "iopub.status.busy": "2025-08-24T10:20:43.467405Z",
     "iopub.status.idle": "2025-08-24T10:20:43.477919Z",
     "shell.execute_reply": "2025-08-24T10:20:43.477350Z",
     "shell.execute_reply.started": "2025-08-24T10:20:43.467584Z"
    }
   },
   "outputs": [
    {
     "name": "stdout",
     "output_type": "stream",
     "text": [
      "['', '[UNK]', 'the', 'to', 'for', 'is', 'i', 'my', 'in', 'me']\n"
     ]
    }
   ],
   "source": [
    "vocab_en = text_vec_layer_en.get_vocabulary()\n",
    "vocab_en = [str(word) for word in vocab_en]\n",
    "print(vocab_en[:10])\n",
    "     "
   ]
  },
  {
   "cell_type": "code",
   "execution_count": 14,
   "metadata": {
    "execution": {
     "iopub.execute_input": "2025-08-24T10:20:43.479098Z",
     "iopub.status.busy": "2025-08-24T10:20:43.478859Z",
     "iopub.status.idle": "2025-08-24T10:20:43.494370Z",
     "shell.execute_reply": "2025-08-24T10:20:43.493662Z",
     "shell.execute_reply.started": "2025-08-24T10:20:43.479073Z"
    }
   },
   "outputs": [
    {
     "name": "stdout",
     "output_type": "stream",
     "text": [
      "['', '[UNK]', 'startofseq', 'endofseq', 'ke', 'liye', 'hai', 'ko', 'kya', 'me']\n"
     ]
    }
   ],
   "source": [
    "\n",
    "vocab_hing = text_vec_layer_hing.get_vocabulary()\n",
    "vocab_hing = [str(word) for word in vocab_hing]\n",
    "print(vocab_hing[:10])\n",
    "     "
   ]
  },
  {
   "cell_type": "code",
   "execution_count": 15,
   "metadata": {
    "execution": {
     "iopub.execute_input": "2025-08-24T10:20:43.495535Z",
     "iopub.status.busy": "2025-08-24T10:20:43.495079Z",
     "iopub.status.idle": "2025-08-24T10:20:51.403271Z",
     "shell.execute_reply": "2025-08-24T10:20:51.402661Z",
     "shell.execute_reply.started": "2025-08-24T10:20:43.495519Z"
    }
   },
   "outputs": [],
   "source": [
    "X_seq_enc = text_vec_layer_en(en_sentence)\n",
    "\n",
    "X_seq_dec = text_vec_layer_hing([f\"startofseq {s}\" for s in hing_sentence])\n",
    "\n",
    "Y_seq = text_vec_layer_hing([f\"{s} endofseq\" for s in hing_sentence])"
   ]
  },
  {
   "cell_type": "code",
   "execution_count": 16,
   "metadata": {
    "execution": {
     "iopub.execute_input": "2025-08-24T10:20:51.404155Z",
     "iopub.status.busy": "2025-08-24T10:20:51.403918Z",
     "iopub.status.idle": "2025-08-24T10:20:51.542587Z",
     "shell.execute_reply": "2025-08-24T10:20:51.542055Z",
     "shell.execute_reply.started": "2025-08-24T10:20:51.404129Z"
    }
   },
   "outputs": [],
   "source": [
    "X_train_enc = X_seq_enc[:150_000]\n",
    "X_valid_enc = X_seq_enc[150_000:]\n",
    "X_train_dec = X_seq_dec[:150_000]\n",
    "X_valid_dec = X_seq_dec[150_000:]\n",
    "Y_train = Y_seq[:150_000]\n",
    "Y_valid = Y_seq[150_000:]"
   ]
  },
  {
   "cell_type": "code",
   "execution_count": 17,
   "metadata": {
    "execution": {
     "iopub.execute_input": "2025-08-24T10:20:51.543488Z",
     "iopub.status.busy": "2025-08-24T10:20:51.543283Z",
     "iopub.status.idle": "2025-08-24T10:20:51.548413Z",
     "shell.execute_reply": "2025-08-24T10:20:51.547800Z",
     "shell.execute_reply.started": "2025-08-24T10:20:51.543473Z"
    }
   },
   "outputs": [],
   "source": [
    "a=X_train_enc[10000:10010]"
   ]
  },
  {
   "cell_type": "code",
   "execution_count": 18,
   "metadata": {
    "execution": {
     "iopub.execute_input": "2025-08-24T10:20:51.549223Z",
     "iopub.status.busy": "2025-08-24T10:20:51.549022Z",
     "iopub.status.idle": "2025-08-24T10:20:52.277376Z",
     "shell.execute_reply": "2025-08-24T10:20:52.276787Z",
     "shell.execute_reply.started": "2025-08-24T10:20:51.549208Z"
    }
   },
   "outputs": [],
   "source": [
    "embed_size=128\n",
    "encoder_embedding_layer = tf.keras.layers.Embedding(vocab_size,embed_size,\n",
    "                                                    mask_zero=True)\n",
    "b=encoder_embedding_layer(a)"
   ]
  },
  {
   "cell_type": "code",
   "execution_count": 19,
   "metadata": {
    "execution": {
     "iopub.execute_input": "2025-08-24T10:20:52.278225Z",
     "iopub.status.busy": "2025-08-24T10:20:52.277995Z",
     "iopub.status.idle": "2025-08-24T10:20:52.285549Z",
     "shell.execute_reply": "2025-08-24T10:20:52.284833Z",
     "shell.execute_reply.started": "2025-08-24T10:20:52.278208Z"
    }
   },
   "outputs": [
    {
     "data": {
      "text/plain": [
       "<tf.Tensor: shape=(10, 100, 128), dtype=float32, numpy=\n",
       "array([[[-0.02991272, -0.03227437,  0.02884299, ..., -0.03203883,\n",
       "         -0.03040835,  0.03215423],\n",
       "        [ 0.04628147,  0.04486995,  0.04648042, ..., -0.02241925,\n",
       "         -0.00357161,  0.00693961],\n",
       "        [ 0.03329508,  0.01386921,  0.01362223, ...,  0.04035142,\n",
       "          0.03993157, -0.02667939],\n",
       "        ...,\n",
       "        [ 0.0453087 ,  0.00288378, -0.0016626 , ..., -0.03881149,\n",
       "          0.04866917, -0.01564292],\n",
       "        [ 0.0453087 ,  0.00288378, -0.0016626 , ..., -0.03881149,\n",
       "          0.04866917, -0.01564292],\n",
       "        [ 0.0453087 ,  0.00288378, -0.0016626 , ..., -0.03881149,\n",
       "          0.04866917, -0.01564292]],\n",
       "\n",
       "       [[ 0.04626154,  0.03523339,  0.04873784, ..., -0.03598849,\n",
       "          0.00048033, -0.02848819],\n",
       "        [-0.03637211, -0.00832649,  0.03239727, ...,  0.0316673 ,\n",
       "         -0.00624478,  0.02281975],\n",
       "        [-0.03286581, -0.0122888 , -0.02252342, ..., -0.01756517,\n",
       "         -0.01146618, -0.04813715],\n",
       "        ...,\n",
       "        [ 0.0453087 ,  0.00288378, -0.0016626 , ..., -0.03881149,\n",
       "          0.04866917, -0.01564292],\n",
       "        [ 0.0453087 ,  0.00288378, -0.0016626 , ..., -0.03881149,\n",
       "          0.04866917, -0.01564292],\n",
       "        [ 0.0453087 ,  0.00288378, -0.0016626 , ..., -0.03881149,\n",
       "          0.04866917, -0.01564292]],\n",
       "\n",
       "       [[-0.03619292, -0.04778102, -0.0044405 , ...,  0.0164645 ,\n",
       "         -0.03640412,  0.01515606],\n",
       "        [ 0.04026249,  0.04229785,  0.02967748, ..., -0.04910096,\n",
       "         -0.01008334, -0.01087485],\n",
       "        [ 0.03509125,  0.03058125, -0.0287216 , ...,  0.04454101,\n",
       "         -0.02431502,  0.0437457 ],\n",
       "        ...,\n",
       "        [ 0.0453087 ,  0.00288378, -0.0016626 , ..., -0.03881149,\n",
       "          0.04866917, -0.01564292],\n",
       "        [ 0.0453087 ,  0.00288378, -0.0016626 , ..., -0.03881149,\n",
       "          0.04866917, -0.01564292],\n",
       "        [ 0.0453087 ,  0.00288378, -0.0016626 , ..., -0.03881149,\n",
       "          0.04866917, -0.01564292]],\n",
       "\n",
       "       ...,\n",
       "\n",
       "       [[-0.03677858, -0.03823644, -0.03993743, ...,  0.04990604,\n",
       "         -0.02156593, -0.01863837],\n",
       "        [ 0.04280216,  0.02842383, -0.02488828, ...,  0.01939073,\n",
       "         -0.04225019,  0.04791622],\n",
       "        [-0.01828879,  0.03115748,  0.0393653 , ...,  0.03954433,\n",
       "         -0.03500661,  0.03800695],\n",
       "        ...,\n",
       "        [ 0.0453087 ,  0.00288378, -0.0016626 , ..., -0.03881149,\n",
       "          0.04866917, -0.01564292],\n",
       "        [ 0.0453087 ,  0.00288378, -0.0016626 , ..., -0.03881149,\n",
       "          0.04866917, -0.01564292],\n",
       "        [ 0.0453087 ,  0.00288378, -0.0016626 , ..., -0.03881149,\n",
       "          0.04866917, -0.01564292]],\n",
       "\n",
       "       [[ 0.03956458, -0.03400818,  0.01647172, ..., -0.00415933,\n",
       "          0.02800469, -0.01726758],\n",
       "        [ 0.03889028, -0.00987219, -0.0142869 , ..., -0.03449165,\n",
       "         -0.04812023, -0.04209561],\n",
       "        [ 0.01126839, -0.00636995,  0.02077898, ...,  0.0115624 ,\n",
       "         -0.03818095,  0.03060419],\n",
       "        ...,\n",
       "        [ 0.0453087 ,  0.00288378, -0.0016626 , ..., -0.03881149,\n",
       "          0.04866917, -0.01564292],\n",
       "        [ 0.0453087 ,  0.00288378, -0.0016626 , ..., -0.03881149,\n",
       "          0.04866917, -0.01564292],\n",
       "        [ 0.0453087 ,  0.00288378, -0.0016626 , ..., -0.03881149,\n",
       "          0.04866917, -0.01564292]],\n",
       "\n",
       "       [[-0.03637211, -0.00832649,  0.03239727, ...,  0.0316673 ,\n",
       "         -0.00624478,  0.02281975],\n",
       "        [ 0.04857833,  0.04451757,  0.00870106, ...,  0.03687947,\n",
       "          0.0334272 , -0.03757981],\n",
       "        [-0.03915801, -0.00403808, -0.01192959, ..., -0.01855312,\n",
       "         -0.00868839, -0.01211403],\n",
       "        ...,\n",
       "        [ 0.0453087 ,  0.00288378, -0.0016626 , ..., -0.03881149,\n",
       "          0.04866917, -0.01564292],\n",
       "        [ 0.0453087 ,  0.00288378, -0.0016626 , ..., -0.03881149,\n",
       "          0.04866917, -0.01564292],\n",
       "        [ 0.0453087 ,  0.00288378, -0.0016626 , ..., -0.03881149,\n",
       "          0.04866917, -0.01564292]]], dtype=float32)>"
      ]
     },
     "execution_count": 19,
     "metadata": {},
     "output_type": "execute_result"
    }
   ],
   "source": [
    "b"
   ]
  },
  {
   "cell_type": "code",
   "execution_count": 20,
   "metadata": {
    "execution": {
     "iopub.execute_input": "2025-08-24T10:20:52.286485Z",
     "iopub.status.busy": "2025-08-24T10:20:52.286241Z",
     "iopub.status.idle": "2025-08-24T10:20:52.300538Z",
     "shell.execute_reply": "2025-08-24T10:20:52.299963Z",
     "shell.execute_reply.started": "2025-08-24T10:20:52.286460Z"
    }
   },
   "outputs": [
    {
     "data": {
      "text/plain": [
       "TensorShape([150000, 100])"
      ]
     },
     "execution_count": 20,
     "metadata": {},
     "output_type": "execute_result"
    }
   ],
   "source": [
    "Y_train.shape"
   ]
  },
  {
   "cell_type": "code",
   "execution_count": 21,
   "metadata": {
    "execution": {
     "iopub.execute_input": "2025-08-24T10:20:52.301405Z",
     "iopub.status.busy": "2025-08-24T10:20:52.301137Z",
     "iopub.status.idle": "2025-08-24T10:20:52.448958Z",
     "shell.execute_reply": "2025-08-24T10:20:52.448474Z",
     "shell.execute_reply.started": "2025-08-24T10:20:52.301381Z"
    }
   },
   "outputs": [],
   "source": [
    "Y_train = np.expand_dims(Y_train,-1)\n",
    "Y_valid = np.expand_dims(Y_valid,-1)"
   ]
  },
  {
   "cell_type": "code",
   "execution_count": 22,
   "metadata": {
    "execution": {
     "iopub.execute_input": "2025-08-24T10:20:52.449657Z",
     "iopub.status.busy": "2025-08-24T10:20:52.449473Z",
     "iopub.status.idle": "2025-08-24T10:20:52.453754Z",
     "shell.execute_reply": "2025-08-24T10:20:52.453076Z",
     "shell.execute_reply.started": "2025-08-24T10:20:52.449643Z"
    }
   },
   "outputs": [
    {
     "name": "stdout",
     "output_type": "stream",
     "text": [
      "(150000, 100, 1)\n",
      "(39102, 100, 1)\n"
     ]
    }
   ],
   "source": [
    "print(Y_train.shape)\n",
    "print(Y_valid.shape)"
   ]
  },
  {
   "cell_type": "code",
   "execution_count": 23,
   "metadata": {
    "execution": {
     "iopub.execute_input": "2025-08-24T10:20:52.454829Z",
     "iopub.status.busy": "2025-08-24T10:20:52.454574Z",
     "iopub.status.idle": "2025-08-24T10:20:52.877342Z",
     "shell.execute_reply": "2025-08-24T10:20:52.876573Z",
     "shell.execute_reply.started": "2025-08-24T10:20:52.454806Z"
    }
   },
   "outputs": [],
   "source": [
    "encoder_inputs = tf.keras.layers.Input(shape=(max_length,),dtype=tf.int32)\n",
    "decoder_inputs = tf.keras.layers.Input(shape=(max_length,),dtype=tf.int32)\n",
    "\n",
    "embed_size = 128\n",
    "encoder_embedding_layer = tf.keras.layers.Embedding(vocab_size,embed_size,\n",
    "                                                    mask_zero=True)\n",
    "decoder_embedding_layer = tf.keras.layers.Embedding(vocab_size,embed_size,\n",
    "                                                    mask_zero=True)\n",
    "encoder_embeddings  = encoder_embedding_layer(encoder_inputs)\n",
    "decoder_embeddings = decoder_embedding_layer(decoder_inputs)\n",
    "encoder = tf.keras.layers.LSTM(512,return_state=True)\n",
    "encoder_outputs,*encoder_states = encoder(encoder_embeddings)\n",
    "\n",
    "decoder = tf.keras.layers.LSTM(512,return_sequences=True)\n",
    "decoder_outputs = decoder(decoder_embeddings,initial_state=encoder_states)\n",
    "\n",
    "output_layer = tf.keras.layers.Dense(vocab_size,activation=\"softmax\")\n",
    "Y_proba = output_layer(decoder_outputs)"
   ]
  },
  {
   "cell_type": "code",
   "execution_count": null,
   "metadata": {},
   "outputs": [],
   "source": [
    "model = tf.keras.Model(inputs=[encoder_inputs,decoder_inputs],outputs=[Y_proba])\n",
    "model.compile(loss=\"sparse_categorical_crossentropy\",\n",
    "              optimizer=\"nadam\",\n",
    "              metrics=[\"accuracy\"])\n",
    "history = model.fit(\n",
    "    (X_train_enc,X_train_dec),Y_train,\n",
    "    epochs=10,\n",
    "    validation_data=((X_valid_enc,X_valid_dec),Y_valid)\n",
    ")"
   ]
  }
 ],
 "metadata": {
  "kaggle": {
   "accelerator": "gpu",
   "dataSources": [
    {
     "datasetId": 8128400,
     "sourceId": 12851559,
     "sourceType": "datasetVersion"
    }
   ],
   "dockerImageVersionId": 31090,
   "isGpuEnabled": true,
   "isInternetEnabled": true,
   "language": "python",
   "sourceType": "notebook"
  },
  "kernelspec": {
   "display_name": "Python 3",
   "language": "python",
   "name": "python3"
  },
  "language_info": {
   "codemirror_mode": {
    "name": "ipython",
    "version": 3
   },
   "file_extension": ".py",
   "mimetype": "text/x-python",
   "name": "python",
   "nbconvert_exporter": "python",
   "pygments_lexer": "ipython3",
   "version": "3.11.13"
  }
 },
 "nbformat": 4,
 "nbformat_minor": 4
}
