{
 "cells": [
  {
   "cell_type": "markdown",
   "id": "5a855437-5bfc-4c6f-9fb5-c83f9fe950ac",
   "metadata": {},
   "source": [
    "# Convolutional Layers"
   ]
  },
  {
   "cell_type": "code",
   "execution_count": null,
   "id": "2dffda04-2e6e-4de1-a830-772d393004a1",
   "metadata": {},
   "outputs": [],
   "source": [
    "\n",
    "import sys\n",
    "\n",
    "assert sys.version_info >= (3, 7)"
   ]
  },
  {
   "cell_type": "code",
   "execution_count": null,
   "id": "d412382f-9796-4bab-8c0f-6cbbb6165d9a",
   "metadata": {},
   "outputs": [],
   "source": [
    "import tensorflow as tf\n",
    "from sklearn.datasets import load_sample_images\n",
    "import matplotlib.pyplot as plt"
   ]
  },
  {
   "cell_type": "code",
   "execution_count": null,
   "id": "34fc46ae-e8e8-4b00-837e-c2c69cde805f",
   "metadata": {},
   "outputs": [],
   "source": [
    "if tf.config.list_physical_devices('GPU'):\n",
    "  print(\"Connected to GPU successfully!\")\n",
    "else:\n",
    "  print(\"No GPU connnected\")"
   ]
  },
  {
   "cell_type": "code",
   "execution_count": null,
   "id": "11385552-5b3c-4a04-b52c-ed791365ad9e",
   "metadata": {},
   "outputs": [],
   "source": [
    "images=load_sample_images()[\"images\"]\n",
    "images=tf.keras.layers.CenterCrop(height=75,width=115)(images)\n",
    "images=tf.keras.layers.Rescaling(scale=1/255)(images)"
   ]
  },
  {
   "cell_type": "code",
   "execution_count": null,
   "id": "7d681460-0b0b-43b0-8938-077f11f4f58f",
   "metadata": {},
   "outputs": [],
   "source": [
    "images.shape"
   ]
  },
  {
   "cell_type": "code",
   "execution_count": null,
   "id": "ade6c076-00e5-4018-b9c8-e89edd19e477",
   "metadata": {},
   "outputs": [],
   "source": [
    "plt.figure(figsize=(4,4))\n",
    "for img_idx in (0,1):\n",
    "    for j in (0,1):\n",
    "        plt.subplot(2,2,img_idx*2+j+1)\n",
    "        plt.imshow(images[img_idx,:,:,:])\n",
    "        plt.axis(\"off\")\n",
    "plt.tight_layout()\n",
    "plt.show()"
   ]
  },
  {
   "cell_type": "code",
   "execution_count": null,
   "id": "0086f24b-b5a4-4206-b1ab-5d9611d1165d",
   "metadata": {},
   "outputs": [],
   "source": [
    "tf.keras.utils.set_random_seed(42)\n",
    "\n",
    "conv_layer=tf.keras.layers.Conv2D(filters=32,kernel_size=8)\n",
    "fmap=conv_layer(images)"
   ]
  },
  {
   "cell_type": "code",
   "execution_count": null,
   "id": "39a9d12b-aa21-4c0b-9084-dc034b91b244",
   "metadata": {},
   "outputs": [],
   "source": [
    "fmap.shape"
   ]
  },
  {
   "cell_type": "code",
   "execution_count": null,
   "id": "c7945e42-c5d9-41e9-8eaf-e978787f5254",
   "metadata": {},
   "outputs": [],
   "source": [
    "for img_idx in (0,1):\n",
    "    for fmap_idx in (0,1):\n",
    "        plt.subplot(2,2,img_idx*2+fmap_idx+1)\n",
    "        plt.imshow(fmap[img_idx,:,:,fmap_idx])\n",
    "        plt.axis(\"off\")\n",
    "plt.tight_layout()\n",
    "plt.show()"
   ]
  },
  {
   "cell_type": "code",
   "execution_count": null,
   "id": "4eebc924-b631-4af4-81d5-a5777b591ce3",
   "metadata": {},
   "outputs": [],
   "source": [
    "conv_layer=tf.keras.layers.Conv2D(filters=32,kernel_size=7,padding=\"same\")\n",
    "fmap=conv_layer(images)"
   ]
  },
  {
   "cell_type": "code",
   "execution_count": null,
   "id": "c77c19eb-7ceb-4c80-83b1-8f19840781fa",
   "metadata": {},
   "outputs": [],
   "source": [
    "fmap.shape"
   ]
  },
  {
   "cell_type": "code",
   "execution_count": null,
   "id": "f0a989f8-0b4f-41e2-b897-dd68e764fabd",
   "metadata": {},
   "outputs": [],
   "source": [
    "conv_layer=tf.keras.layers.Conv2D(filters=32,kernel_size=7,padding=\"same\",\n",
    "                                 strides=2)\n",
    "fmap=conv_layer(images)\n",
    "fmap.shape"
   ]
  },
  {
   "cell_type": "code",
   "execution_count": null,
   "id": "ef2f2299-9a79-4c20-b208-5465888b887a",
   "metadata": {},
   "outputs": [],
   "source": [
    "kernel,biases=conv_layer.get_weights()"
   ]
  },
  {
   "cell_type": "code",
   "execution_count": null,
   "id": "022925e8-f6fc-49dc-9328-fa48eaa0480e",
   "metadata": {},
   "outputs": [],
   "source": [
    "kernel.shape"
   ]
  },
  {
   "cell_type": "code",
   "execution_count": null,
   "id": "179a0fe9-f10d-4346-a443-3ef9df626bda",
   "metadata": {},
   "outputs": [],
   "source": [
    "biases.shape"
   ]
  },
  {
   "cell_type": "code",
   "execution_count": null,
   "id": "40928b64-e680-49d3-b566-c056e1e6f807",
   "metadata": {},
   "outputs": [],
   "source": [
    "filters=tf.random.normal([7,7,3,2])\n",
    "biases=tf.zeros([2])\n",
    "fmaps=tf.nn.conv2d(images,filters,strides=1,padding=\"SAME\")+biases"
   ]
  },
  {
   "cell_type": "code",
   "execution_count": null,
   "id": "cc06aa6d-5b0f-4400-94ba-b56b3324b3f7",
   "metadata": {},
   "outputs": [],
   "source": [
    "fmaps.shape"
   ]
  },
  {
   "cell_type": "code",
   "execution_count": null,
   "id": "9beaee2a-82b9-461d-abe1-7aefa8bc82fb",
   "metadata": {},
   "outputs": [],
   "source": [
    "import numpy as np\n",
    "\n",
    "filters=np.zeros([7,7,3,2])\n",
    "filters[:,3,:,0] = 1\n",
    "filters[3,:,:,1] = 1\n",
    "fmaps=tf.nn.conv2d(images,filters,strides=1,padding=\"SAME\")+biases\n",
    "\n",
    "for image_idx in (0,1):\n",
    "  for fmap_idx in (0,1):\n",
    "    plt.subplot(2,2,image_idx*2+fmap_idx+1)\n",
    "    plt.imshow(fmaps[image_idx,:,:,fmap_idx],cmap=\"gray\")\n",
    "    plt.axis(\"off\")\n",
    "plt.tight_layout()"
   ]
  },
  {
   "cell_type": "markdown",
   "id": "e5def63a-164d-40fb-883a-7cc234a5ca2a",
   "metadata": {},
   "source": [
    "# Pooling Layers"
   ]
  },
  {
   "cell_type": "markdown",
   "id": "b88ff4f7-01b9-4732-ad74-bde9b57e19dd",
   "metadata": {},
   "source": [
    "### Max pooling"
   ]
  },
  {
   "cell_type": "code",
   "execution_count": null,
   "id": "18125239-443e-4f3e-8b79-08a2316be677",
   "metadata": {},
   "outputs": [],
   "source": [
    "max_pool=tf.keras.layers.MaxPool2D(pool_size=2)"
   ]
  },
  {
   "cell_type": "code",
   "execution_count": null,
   "id": "a5f329f4-a48c-4d97-bbff-2922facf3079",
   "metadata": {},
   "outputs": [],
   "source": [
    "output=max_pool(images)"
   ]
  },
  {
   "cell_type": "code",
   "execution_count": null,
   "id": "a6dcd0f2-b753-42f2-b2b4-41777533f97e",
   "metadata": {},
   "outputs": [],
   "source": [
    "plt.figure(figsize=(10,10))\n",
    "plt.subplot(1,2,1)\n",
    "plt.imshow(images[0])\n",
    "plt.axis(\"off\")\n",
    "plt.subplot(1,2,2)\n",
    "plt.imshow(output[0])\n",
    "plt.axis(\"off\")\n",
    "plt.show()\n"
   ]
  },
  {
   "cell_type": "markdown",
   "id": "54ec05d6-8bb2-4ad2-b883-cd794a07d2c1",
   "metadata": {},
   "source": [
    "##### Depth-wise pooling"
   ]
  },
  {
   "cell_type": "code",
   "execution_count": null,
   "id": "edda6e36-e3f7-49b6-8201-dfc9bb59ce60",
   "metadata": {},
   "outputs": [],
   "source": [
    "class DepthPool(tf.keras.layers.Layer):\n",
    "  def __init__(self,pool_size=2,**kwargs):\n",
    "    super().__init__(**kwargs)\n",
    "    self.pool_size=pool_size\n",
    "\n",
    "  def call(self,inputs):\n",
    "    shape=tf.shape(inputs)\n",
    "    groups=shape[-1]//self.pool_size\n",
    "    new_shape=tf.concat([shape[:-1],[groups,self.pool_size]],axis=0)\n",
    "    return tf.reduce_max(tf.reshape(inputs,new_shape),axis=-1)    #So for every [batch, height, width, group], it\n"
   ]
  },
  {
   "cell_type": "code",
   "execution_count": null,
   "id": "88a6b43f-abf9-40e8-83e3-e4f217f837a3",
   "metadata": {},
   "outputs": [],
   "source": [
    "depth_output=DepthPool(pool_size=3)(images)\n",
    "\n",
    "plt.figure(figsize=(10,10))\n",
    "plt.subplot(1,2,1)\n",
    "\n",
    "plt.imshow(images[0])\n",
    "plt.axis(\"off\")\n",
    "plt.subplot(1,2,2)\n",
    "plt.imshow(depth_output[0])\n",
    "plt.axis(\"off\")\n",
    "plt.show()"
   ]
  },
  {
   "cell_type": "markdown",
   "id": "7ebe2d87-be75-4375-9759-026b734ebb59",
   "metadata": {},
   "source": [
    "##### Global Average Pooling"
   ]
  },
  {
   "cell_type": "code",
   "execution_count": null,
   "id": "7358e445-65f5-4152-83a6-1d444c501403",
   "metadata": {},
   "outputs": [],
   "source": [
    "global_avg_pooling=tf.keras.layers.GlobalAveragePooling2D()"
   ]
  },
  {
   "cell_type": "code",
   "execution_count": null,
   "id": "23ad8836-7041-4f1b-a90e-92dd724b4862",
   "metadata": {},
   "outputs": [],
   "source": [
    "global_avg_pooling=tf.keras.layers.Lambda(lambda X:tf.reduce_mean(X,axis=[1,2]))"
   ]
  },
  {
   "cell_type": "markdown",
   "id": "cd0f806b-64a8-496d-a4d7-f892ceba7725",
   "metadata": {},
   "source": [
    "# CNN Architectures"
   ]
  },
  {
   "cell_type": "markdown",
   "id": "159ba6a0-41ca-4656-a436-cf776e069f18",
   "metadata": {},
   "source": [
    "##### Tackling Fashion MNIST With a CNN"
   ]
  },
  {
   "cell_type": "code",
   "execution_count": null,
   "id": "351bc23b-2e72-439e-a3c1-65d39203527c",
   "metadata": {},
   "outputs": [],
   "source": [
    "mnist=tf.keras.datasets.fashion_mnist.load_data()\n",
    "(X_train_full,y_train_full),(X_test,y_test)=mnist\n",
    "X_train_full=np.expand_dims(X_train_full,axis=-1).astype(np.float32)/255\n",
    "X_test=np.expand_dims(X_test,axis=-1).astype(np.float32)/255\n",
    "X_train, X_valid = X_train_full[:-5000], X_train_full[-5000:]\n",
    "y_train, y_valid = y_train_full[:-5000], y_train_full[-5000:]"
   ]
  },
  {
   "cell_type": "code",
   "execution_count": null,
   "id": "8ff96f88-525b-4912-ba0c-d9d23024f5dd",
   "metadata": {},
   "outputs": [],
   "source": [
    "from functools import partial\n",
    "\n",
    "DefaultConv2D=partial(tf.keras.layers.Conv2D,kernel_size=3,padding=\"same\",activation=\"relu\",\n",
    "                      kernel_initializer=\"he_normal\")\n",
    "\n",
    "model=tf.keras.Sequential([\n",
    "    tf.keras.layers.InputLayer(shape=[28,28,1]),\n",
    "    DefaultConv2D(filters=64,kernel_size=7),\n",
    "    tf.keras.layers.MaxPool2D(),\n",
    "    DefaultConv2D(filters=128),\n",
    "    DefaultConv2D(filters=128),\n",
    "    tf.keras.layers.MaxPool2D(),\n",
    "    DefaultConv2D(filters=256),\n",
    "    DefaultConv2D(filters=256),\n",
    "    tf.keras.layers.MaxPool2D(),\n",
    "    tf.keras.layers.Flatten(),\n",
    "    tf.keras.layers.Dense(128,activation=\"relu\",kernel_initializer=\"he_normal\"),\n",
    "    tf.keras.layers.Dropout(0.5),\n",
    "    tf.keras.layers.Dense(64,activation=\"relu\",kernel_initializer=\"he_normal\"),\n",
    "    tf.keras.layers.Dropout(0.5),\n",
    "    tf.keras.layers.Dense(10,activation=\"softmax\")\n",
    "\n",
    "\n",
    "])"
   ]
  },
  {
   "cell_type": "code",
   "execution_count": null,
   "id": "9308c97b-9983-41f5-b304-8e0b5beb3a07",
   "metadata": {},
   "outputs": [],
   "source": [
    "model.compile(loss=\"sparse_categorical_crossentropy\",optimizer=\"adam\",\n",
    "              metrics=[\"accuracy\"])\n",
    "model.fit(X_train,y_train,\n",
    "          epochs=10,\n",
    "          validation_data=(X_valid,y_valid))\n",
    "score=model.evaluate(X_test,y_test)"
   ]
  },
  {
   "cell_type": "markdown",
   "id": "b71b5f5f-e125-45c8-b0b5-44b93d128e41",
   "metadata": {},
   "source": [
    "## GoogLeNet"
   ]
  },
  {
   "cell_type": "code",
   "execution_count": null,
   "id": "5902c507-1295-43d6-8ac8-2a4955e984a3",
   "metadata": {},
   "outputs": [],
   "source": [
    "from tensorflow.keras.layers import Conv2D, MaxPooling2D, AveragePooling2D, Input, Concatenate\n",
    "from tensorflow.keras.models import Model\n",
    "\n",
    "def InceptionModule(x,f1,f3r,f3,f5r,f5,proj):\n",
    "\n",
    "  path1=Conv2D(f1,kernel_size=1,padding=\"same\",activation=\"relu\")(x)\n",
    "\n",
    "  path2=Conv2D(f3r,kernel_size=1,padding=\"same\",activation=\"relu\")(x)\n",
    "  path2=Conv2D(f3,kernel_size=3,padding=\"same\",activation=\"relu\")(path2)\n",
    "\n",
    "  path3=Conv2D(f5r,kernel_size=1,padding=\"same\",activation=\"relu\")(x)\n",
    "  path3=Conv2D(f5,kernel_size=5,padding=\"same\",activation=\"relu\")(path3)\n",
    "\n",
    "  path4=MaxPooling2D(pool_size=3,strides=1,padding=\"same\")(x)\n",
    "  path4=Conv2D(proj,kernel_size=1,padding=\"same\",activation=\"relu\")(path4)\n",
    "\n",
    "  return Concatenate(axis=-1)([path1,path2,path3,path4])"
   ]
  },
  {
   "cell_type": "code",
   "execution_count": null,
   "id": "1a3e6b1f-86e9-4b6c-9d31-66a21f927224",
   "metadata": {},
   "outputs": [],
   "source": [
    "from tensorflow.keras.layers import BatchNormalization,Dense,GlobalAveragePooling2D,Activation,Input,Dropout\n",
    "\n",
    "input_layer=Input(shape=(28,28,1))\n",
    "\n",
    "x=Conv2D(filters=64,kernel_size=7,strides=2,padding=\"same\",activation=\"relu\")(input_layer)\n",
    "x=MaxPooling2D(pool_size=3,strides=2,padding=\"same\")(x)\n",
    "x=BatchNormalization()(x)\n",
    "\n",
    "x=Conv2D(64,kernel_size=1,padding=\"same\",activation=\"relu\")(x)\n",
    "x=Conv2D(192,kernel_size=3,padding=\"same\",activation=\"relu\")(x)\n",
    "x=BatchNormalization()(x)\n",
    "x=Activation(\"relu\")(x)\n",
    "x=MaxPooling2D(pool_size=3,strides=2,padding=\"same\")(x)\n",
    "\n",
    "x=InceptionModule(x,64,96,128,12,32,32)\n",
    "x=InceptionModule(x,128,128,192,32,96,64)\n",
    "x=MaxPooling2D(pool_size=3,strides=2,padding=\"same\")(x)\n",
    "\n",
    "x=InceptionModule(x,192, 96, 208, 16, 48, 64)\n",
    "x=InceptionModule(x,160, 112, 224, 24, 64, 64)\n",
    "x=InceptionModule(x, 128, 128, 256, 24, 64, 64)\n",
    "x=InceptionModule(x,112, 144, 288, 32, 64, 64)\n",
    "x=InceptionModule(x,256, 160, 320, 32, 128, 128)\n",
    "x=MaxPooling2D(pool_size=3,strides=2,padding=\"same\")(x)\n",
    "\n",
    "x=InceptionModule(x,256, 160, 320, 32, 128, 128)\n",
    "x=InceptionModule(x,384, 192, 384, 48, 128, 128)\n",
    "x=GlobalAveragePooling2D()(x)\n",
    "x=Dropout(0.2)(x)\n",
    "x=Dense(10,activation=\"softmax\")(x)\n",
    "\n",
    "\n",
    "model=Model(input_layer,x)"
   ]
  },
  {
   "cell_type": "markdown",
   "id": "c92f95ba-c538-4ccc-960b-8d737efd453f",
   "metadata": {},
   "source": [
    "## ResNet-34"
   ]
  },
  {
   "cell_type": "code",
   "execution_count": null,
   "id": "875eacf4-00d3-430a-9035-5c44b94654a8",
   "metadata": {},
   "outputs": [],
   "source": [
    "DefaultConv2D=partial(tf.keras.layers.Conv2D,kernel_size=3,strides=1,padding=\"same\",\n",
    "                      kernel_initializer=\"he_normal\",use_bias=False)\n",
    "\n",
    "class ResidualUnit(tf.keras.layers.Layer):\n",
    "  def __init__(self,filters,strides=1,activation=\"relu\",**kwargs):\n",
    "     super().__init__(**kwargs)\n",
    "     self.activation=tf.keras.activations.get(activation)\n",
    "     self.main_layers=[\n",
    "         DefaultConv2D(filters,strides=strides),\n",
    "         tf.keras.layers.BatchNormalization(),\n",
    "         self.activation,\n",
    "         DefaultConv2D(filters),\n",
    "         tf.keras.layers.BatchNormalization()\n",
    "     ]\n",
    "     self.skip_layers=[]\n",
    "     if strides>1:\n",
    "      self.skip_layers=[\n",
    "          DefaultConv2D(filters,kernel_size=1,strides=strides),\n",
    "          tf.keras.layers.BatchNormalization()\n",
    "      ]\n",
    "\n",
    "  def call(self,inputs):\n",
    "    Z=inputs\n",
    "    for layer in self.main_layers:\n",
    "      Z=layer(Z)\n",
    "    skip_Z=inputs\n",
    "    for layer in self.skip_layers:\n",
    "      skip_Z=layer(skip_Z)\n",
    "\n",
    "    return self.activation(Z+skip_Z)"
   ]
  },
  {
   "cell_type": "code",
   "execution_count": null,
   "id": "69bc8aa8-946a-465d-a047-8ac66ed2324b",
   "metadata": {},
   "outputs": [],
   "source": [
    "mean=np.mean(X_train_full,axis=(0,1,2))\n",
    "std=np.std(X_train_full,axis=(0,1,2))\n",
    "\n",
    "data_preprocessing=tf.keras.Sequential([\n",
    "    tf.keras.layers.Normalization(mean=mean.tolist(),variance=(std**2).tolist()),\n",
    "    tf.keras.layers.RandomFlip(\"horizontal\"),\n",
    "    tf.keras.layers.RandomRotation(0.1),\n",
    "    tf.keras.layers.RandomZoom(0.1),\n",
    "    tf.keras.layers.RandomContrast(0.1)\n",
    "])"
   ]
  },
  {
   "cell_type": "code",
   "execution_count": null,
   "id": "c82a6522-830a-46cc-b7de-c02d28a9d4c2",
   "metadata": {},
   "outputs": [],
   "source": [
    "model=tf.keras.Sequential([\n",
    "    tf.keras.layers.InputLayer(shape=[32,32,3]),\n",
    "    data_preprocessing,\n",
    "    DefaultConv2D(64,kernel_size=3,strides=1,padding=\"same\"),\n",
    "    tf.keras.layers.BatchNormalization(),\n",
    "    tf.keras.layers.Activation(\"relu\"),\n",
    "    tf.keras.layers.MaxPooling2D(pool_size=3,strides=2),\n",
    "])\n",
    "\n",
    "prev_filter=64\n",
    "for filters in [64]*3 +[128]*4 + [256]*6 + [512]*3:\n",
    "  strides = 1 if filters==prev_filter else 2\n",
    "  model.add(ResidualUnit(filters=filters,strides=strides))\n",
    "  prev_filter=filters\n",
    "\n",
    "model.add(tf.keras.layers.GlobalAveragePooling2D())\n",
    "model.add(tf.keras.layers.Dense(100,activation=\"softmax\"))\n"
   ]
  },
  {
   "cell_type": "markdown",
   "id": "82c3e1b2-e1a3-4f07-af7c-fa633b57e600",
   "metadata": {},
   "source": [
    "## Using Pretrained Modes from Keras"
   ]
  },
  {
   "cell_type": "code",
   "execution_count": null,
   "id": "ece6b3fd-7307-49d7-a6aa-25944473ec88",
   "metadata": {},
   "outputs": [],
   "source": [
    "model=tf.keras.applications.ResNet50(weights=\"imagenet\")"
   ]
  },
  {
   "cell_type": "code",
   "execution_count": null,
   "id": "697bc91a-d9b4-4a0c-b35d-a1e43800b051",
   "metadata": {},
   "outputs": [],
   "source": [
    "images=tf.constant(load_sample_images()[\"images\"])\n",
    "images_resized=tf.keras.layers.Resizing(height=224,width=224,crop_to_aspect_ratio=True)(images)"
   ]
  },
  {
   "cell_type": "code",
   "execution_count": null,
   "id": "db2f56b1-4701-4438-ba6d-6177a250b24e",
   "metadata": {},
   "outputs": [],
   "source": [
    "images.shape"
   ]
  },
  {
   "cell_type": "code",
   "execution_count": null,
   "id": "eb3bcfb7-7fdf-4490-84c3-b2c7be153cc3",
   "metadata": {},
   "outputs": [],
   "source": [
    "images_resized.shape"
   ]
  },
  {
   "cell_type": "code",
   "execution_count": null,
   "id": "ee7a759b-5b42-4432-977b-d8e0c3902726",
   "metadata": {},
   "outputs": [],
   "source": [
    "images_resized.shape"
   ]
  },
  {
   "cell_type": "code",
   "execution_count": null,
   "id": "d95761c2-fe00-4b6a-98a5-c1ed39e38cd0",
   "metadata": {},
   "outputs": [],
   "source": [
    "inputs=tf.keras.applications.resnet50.preprocess_input(images_resized)\n",
    "y_proba=model.predict(inputs)"
   ]
  },
  {
   "cell_type": "code",
   "execution_count": null,
   "id": "422e9ff5-2c5a-469f-a888-b987a147220c",
   "metadata": {},
   "outputs": [],
   "source": [
    "y_proba.shape"
   ]
  },
  {
   "cell_type": "code",
   "execution_count": null,
   "id": "2afd3743-9e7d-48cc-baa2-eb7eec8510ad",
   "metadata": {},
   "outputs": [],
   "source": [
    "top_K=tf.keras.applications.resnet50.decode_predictions(y_proba,top=5)\n",
    "\n",
    "for idx in range(len(images)):\n",
    "  print(f\"Image #{idx}\")\n",
    "  for class_id,name,y_proba in top_K[idx]:\n",
    "    print(f\"{class_id}-{name:12s} {y_proba:.2%}\")"
   ]
  },
  {
   "cell_type": "markdown",
   "id": "74a1de12-1828-41fa-b3ce-c7a35a1f0f35",
   "metadata": {},
   "source": [
    "# Pretrained Models for Transfer Learning"
   ]
  },
  {
   "cell_type": "code",
   "execution_count": null,
   "id": "f7a10fcc-19a9-4444-887b-f76a8af722a6",
   "metadata": {},
   "outputs": [],
   "source": [
    "import tensorflow_datasets as tfds\n",
    "\n",
    "dataset,info=tfds.load(\"tf_flowers\",as_supervised=True,with_info=True)\n",
    "dataset_size=info.splits[\"train\"].num_examples\n",
    "class_names=info.features[\"label\"].names\n",
    "num_classes=info.features[\"label\"].num_classes"
   ]
  },
  {
   "cell_type": "code",
   "execution_count": null,
   "id": "88eccd17-6580-4d54-a4e1-72ef7449d8f5",
   "metadata": {},
   "outputs": [],
   "source": [
    "\n",
    "test_set_raw,valid_set_raw,train_set_raw=tfds.load(\n",
    "    \"tf_flowers\",\n",
    "    split=[\"train[:10%]\",\"train[10%:25%]\",\"train[25%:]\"],\n",
    "    as_supervised=True,\n",
    "\n",
    "    )"
   ]
  },
  {
   "cell_type": "code",
   "execution_count": null,
   "id": "d713c1be-25dd-42de-a237-29ae6b84e8f5",
   "metadata": {},
   "outputs": [],
   "source": [
    "class_names"
   ]
  },
  {
   "cell_type": "code",
   "execution_count": null,
   "id": "7a318ae0-28be-451d-97be-34ae848448f3",
   "metadata": {},
   "outputs": [],
   "source": [
    "dataset_size"
   ]
  },
  {
   "cell_type": "code",
   "execution_count": null,
   "id": "5cf7a261-36e7-40cc-941e-192b334825e8",
   "metadata": {},
   "outputs": [],
   "source": [
    "num_classes"
   ]
  },
  {
   "cell_type": "code",
   "execution_count": null,
   "id": "f98bcb14-0058-49f8-b6f5-92e8b4c5cf46",
   "metadata": {},
   "outputs": [],
   "source": [
    "plt.figure(figsize=(7,7))\n",
    "idx=0\n",
    "for image,label in train_set_raw.take(9):\n",
    "  idx+=1\n",
    "  plt.subplot(3,3,idx)\n",
    "  plt.imshow(image)\n",
    "  plt.title(f\"Class:{class_names[label]}\")\n",
    "  plt.axis(\"off\")\n",
    "plt.tight_layout()\n",
    "plt.show()"
   ]
  },
  {
   "cell_type": "code",
   "execution_count": null,
   "id": "a61349d8-e211-4e4d-80cf-584f638a3a33",
   "metadata": {},
   "outputs": [],
   "source": [
    "tf.keras.backend.clear_session()"
   ]
  },
  {
   "cell_type": "code",
   "execution_count": null,
   "id": "dc12e8d1-ea12-48d5-8ba4-5cae9b0462b3",
   "metadata": {},
   "outputs": [],
   "source": [
    "batch_size=32\n",
    "preprocess=tf.keras.Sequential([\n",
    "    tf.keras.layers.Resizing(height=224,width=224,crop_to_aspect_ratio=True),\n",
    "    tf.keras.layers.Lambda(tf.keras.applications.xception.preprocess_input)\n",
    "])\n",
    "train_set=train_set_raw.map(lambda X,y: (preprocess(X),y))\n",
    "train_set=train_set.shuffle(1000,seed=42).batch(batch_size).prefetch(1)\n",
    "valid_set=valid_set_raw.map(lambda X,y:(preprocess(X),y)).batch(batch_size)\n",
    "test_set=test_set_raw.map(lambda X,y:(preprocess(X),y)).batch(batch_size)"
   ]
  },
  {
   "cell_type": "code",
   "execution_count": null,
   "id": "8327cb2b-a35b-49f2-8829-d1f856bf31cf",
   "metadata": {},
   "outputs": [],
   "source": [
    "plt.figure(figsize=(7,7))\n",
    "for X_batch, y_batch in train_set.take(1):\n",
    "    for index in range(9):\n",
    "        plt.subplot(3, 3, index + 1)\n",
    "        plt.imshow((X_batch[index] + 1) / 2)  # rescale to 0–1 for imshow()\n",
    "        plt.title(f\"Class: {class_names[y_batch[index]]}\")\n",
    "        plt.axis(\"off\")\n",
    "\n",
    "plt.show()"
   ]
  },
  {
   "cell_type": "code",
   "execution_count": null,
   "id": "e86f274e-c2fa-402e-80fa-2f44c730442b",
   "metadata": {},
   "outputs": [],
   "source": [
    "data_agumentation=tf.keras.Sequential([\n",
    "    tf.keras.layers.RandomFlip(mode=\"horizontal\",seed=42),\n",
    "    tf.keras.layers.RandomRotation(0.05,seed=42),\n",
    "    tf.keras.layers.RandomZoom(0.1),\n",
    "    tf.keras.layers.RandomContrast(0.1)\n",
    "])\n"
   ]
  },
  {
   "cell_type": "code",
   "execution_count": null,
   "id": "6f01d88a-8bb2-4d5d-bce4-a67abda14010",
   "metadata": {},
   "outputs": [],
   "source": [
    "plt.figure(figsize=(7,7))\n",
    "for X_batch,y_batch in train_set.take(1):\n",
    "  X_batch_agumentation=data_agumentation(X_batch,training=True)\n",
    "  for idx in range(9):\n",
    "    plt.subplot(3,3,idx+1)\n",
    "    plt.imshow(np.clip((X_batch_agumentation[idx]+1)/2,0,1))\n",
    "    plt.axis(\"off\")\n",
    "plt.show()"
   ]
  },
  {
   "cell_type": "code",
   "execution_count": null,
   "id": "9c1440ef-8c0d-42f8-b41c-eb880f05ac7a",
   "metadata": {},
   "outputs": [],
   "source": [
    "tf.random.set_seed(42)\n",
    "\n",
    "base_model=tf.keras.applications.xception.Xception(weights=\"imagenet\",\n",
    "                                                   include_top=False)\n",
    "avg=tf.keras.layers.GlobalAveragePooling2D()(base_model.output)\n",
    "output=tf.keras.layers.Dense(num_classes,activation=\"softmax\")(avg)\n",
    "model=tf.keras.Model(inputs=base_model.inputs,outputs=output)"
   ]
  },
  {
   "cell_type": "code",
   "execution_count": null,
   "id": "1b41352a-7946-4bff-9811-f5d4a1907751",
   "metadata": {},
   "outputs": [],
   "source": [
    "for layer in base_model.layers:\n",
    "  layer.trainable=False"
   ]
  },
  {
   "cell_type": "code",
   "execution_count": null,
   "id": "526dbddd-b5a0-4654-8ffb-f4ff372d22fc",
   "metadata": {},
   "outputs": [],
   "source": [
    "optimizer=tf.keras.optimizers.Adam(learning_rate=0.1)\n",
    "model.compile(loss=\"sparse_categorical_crossentropy\",optimizer=optimizer,\n",
    "              metrics=[\"accuracy\"])\n",
    "history=model.fit(train_set,\n",
    "                  epochs=3,\n",
    "                  validation_data=(valid_set))"
   ]
  },
  {
   "cell_type": "code",
   "execution_count": null,
   "id": "cd223594-d2b3-48d4-9cb3-382715335cfe",
   "metadata": {},
   "outputs": [],
   "source": [
    "for indices in zip(range(33),range(33,66),range(66,99),range(99,132)):\n",
    "  for idx in indices:\n",
    "    print(f\"{idx:3}: {base_model.layers[idx].name:22}\",end=\"\")\n",
    "  print()"
   ]
  },
  {
   "cell_type": "code",
   "execution_count": null,
   "id": "f707c161-88be-41bb-ad67-ebae1531b53d",
   "metadata": {},
   "outputs": [],
   "source": [
    "for layer in base_model.layers[56:]:\n",
    "  layer.trainable=True"
   ]
  },
  {
   "cell_type": "code",
   "execution_count": null,
   "id": "8d567cb4-9a77-40bb-aae3-b46fafced147",
   "metadata": {},
   "outputs": [],
   "source": [
    "optimizer=tf.keras.optimizers.Adam(learning_rate=1e-4)\n",
    "model.compile(loss=\"sparse_categorical_crossentropy\",optimizer=optimizer,\n",
    "              metrics=[\"accuracy\"])\n",
    "\n",
    "history=model.fit(train_set,\n",
    "                  epochs=10,\n",
    "                  validation_data=(valid_set))"
   ]
  },
  {
   "cell_type": "markdown",
   "id": "a3ea2368-a3fd-404c-88f7-455fb02d3882",
   "metadata": {},
   "source": [
    "# Exercise"
   ]
  },
  {
   "cell_type": "markdown",
   "id": "15415669-bc6b-416b-87ec-089635a50f66",
   "metadata": {},
   "source": [
    "### Build your own CNN from scratch and try to achieve the highest possible accuracy on MNIST."
   ]
  },
  {
   "cell_type": "code",
   "execution_count": null,
   "id": "2f1fd181-8724-4d90-a54c-c75b1f65752a",
   "metadata": {},
   "outputs": [],
   "source": [
    "import tensorflow as tf\n",
    "import numpy as np"
   ]
  },
  {
   "cell_type": "code",
   "execution_count": null,
   "id": "6333dcb9-35fb-4a0f-96ff-befd2d7c4c9f",
   "metadata": {},
   "outputs": [],
   "source": [
    "mnist=tf.keras.datasets.mnist.load_data()"
   ]
  },
  {
   "cell_type": "code",
   "execution_count": null,
   "id": "fe5fdf51-36fa-4d58-b917-cfe2730102c3",
   "metadata": {},
   "outputs": [],
   "source": [
    "(X_train_full,y_train_full),(X_test,y_test)=mnist\n",
    "X_train_full=X_train_full/255.\n",
    "X_test_full=X_test/255.\n",
    "\n",
    "X_train, X_valid = X_train_full[:-5000], X_train_full[-5000:]\n",
    "y_train, y_valid = y_train_full[:-5000], y_train_full[-5000:]\n"
   ]
  },
  {
   "cell_type": "code",
   "execution_count": null,
   "id": "20bd0e7a-0613-46b7-9b7b-1566f631df18",
   "metadata": {},
   "outputs": [],
   "source": [
    "X_train.shape"
   ]
  },
  {
   "cell_type": "code",
   "execution_count": null,
   "id": "98b3a4cc-f97c-47c5-b12e-6a25f0068ee4",
   "metadata": {},
   "outputs": [],
   "source": [
    "X_train=X_train[...,np.newaxis]\n",
    "X_valid=X_valid[...,np.newaxis]\n",
    "X_test=X_test[...,np.newaxis]"
   ]
  },
  {
   "cell_type": "code",
   "execution_count": null,
   "id": "9c5fd7ce-3dfe-4c28-9c57-fb6515099f47",
   "metadata": {},
   "outputs": [],
   "source": [
    "X_train.shape"
   ]
  },
  {
   "cell_type": "code",
   "execution_count": null,
   "id": "ee9cb36c-b4f3-4519-a01e-a979017c47f1",
   "metadata": {},
   "outputs": [],
   "source": [
    "tf.keras.utils.set_random_seed(42)\n",
    "\n",
    "model=tf.keras.Sequential([\n",
    "    tf.keras.layers.Conv2D(32,kernel_size=3,padding=\"same\",activation=\"relu\",\n",
    "                           kernel_initializer=\"he_normal\"),\n",
    "    tf.keras.layers.Conv2D(64,kernel_size=3,padding=\"same\",activation=\"relu\",\n",
    "                           kernel_initializer=\"he_normal\"),\n",
    "    tf.keras.layers.MaxPool2D(),\n",
    "    tf.keras.layers.Flatten(),\n",
    "    tf.keras.layers.Dropout(0.25),\n",
    "    tf.keras.layers.Dense(128,activation=\"relu\",kernel_initializer=\"he_normal\"),\n",
    "    tf.keras.layers.Dropout(0.5),\n",
    "    tf.keras.layers.Dense(10,activation=\"softmax\")\n",
    "])\n",
    "model.compile(loss=\"sparse_categorical_crossentropy\",optimizer=\"nadam\",\n",
    "              metrics=[\"accuracy\"])\n",
    "model.fit(X_train,y_train,\n",
    "          epochs=10,\n",
    "          validation_data=(X_valid,y_valid))\n",
    "model.evaluate(X_test,y_test)"
   ]
  },
  {
   "cell_type": "markdown",
   "id": "5a45b254-2dfa-452b-8297-640ac04a3362",
   "metadata": {},
   "source": [
    "## Satellite Image Classifier"
   ]
  },
  {
   "cell_type": "code",
   "execution_count": null,
   "id": "c5597f65-2ae9-4925-907a-cbcebc28e73d",
   "metadata": {},
   "outputs": [],
   "source": [
    "import tensorflow_datasets as tfds\n",
    "\n",
    "(ds_train,ds_valid,ds_test),info=tfds.load(\n",
    "    \"eurosat\",\n",
    "    split=[\"train[:70%]\",\"train[70%:85%]\",\"train[85%:]\"],\n",
    "    as_supervised=True,\n",
    "    with_info=True\n",
    ")"
   ]
  },
  {
   "cell_type": "code",
   "execution_count": null,
   "id": "9f9ece62-b013-46ee-a23c-02238d91b3fe",
   "metadata": {},
   "outputs": [],
   "source": [
    "dataset_size=info.splits[\"train\"].num_examples\n",
    "class_names=info.features[\"label\"].names\n",
    "num_classes=info.features[\"label\"].num_classes"
   ]
  },
  {
   "cell_type": "code",
   "execution_count": null,
   "id": "0ed807ed-93f3-4f35-9eed-ecd602ee1be4",
   "metadata": {},
   "outputs": [],
   "source": [
    "dataset_size"
   ]
  },
  {
   "cell_type": "code",
   "execution_count": null,
   "id": "99a90f66-ab4c-461a-8560-5d61946ef752",
   "metadata": {},
   "outputs": [],
   "source": [
    "class_names"
   ]
  },
  {
   "cell_type": "code",
   "execution_count": null,
   "id": "3aae7c17-89cb-4744-899a-4913065caf30",
   "metadata": {},
   "outputs": [],
   "source": [
    "import matplotlib.pyplot as plt\n",
    "index=0\n",
    "for image,label in ds_train.take(9):\n",
    "  index+=1\n",
    "  plt.subplot(3,3,index)\n",
    "  plt.imshow(image)\n",
    "  plt.title(class_names[label])\n",
    "  plt.axis(\"off\")\n"
   ]
  },
  {
   "cell_type": "code",
   "execution_count": null,
   "id": "abd79c4e-105a-43e1-acd8-342ae816b4a2",
   "metadata": {},
   "outputs": [],
   "source": [
    "image.shape"
   ]
  },
  {
   "cell_type": "code",
   "execution_count": null,
   "id": "cdd89da1-0aa9-4020-89d7-800edf98d335",
   "metadata": {},
   "outputs": [],
   "source": [
    "import tensorflow as tf\n",
    "tf.keras.backend.clear_session()\n",
    "\n",
    "batch_size=32\n",
    "\n",
    "preprocess=tf.keras.Sequential([\n",
    "    tf.keras.layers.Resizing(height=64,width=64,crop_to_aspect_ratio=True),\n",
    "    tf.keras.layers.Lambda(tf.keras.applications.mobilenet_v2.preprocess_input)\n",
    "])\n",
    "\n",
    "data_agumentation=tf.keras.Sequential([\n",
    "    tf.keras.layers.RandomFlip(\"horizontal\"),\n",
    "    tf.keras.layers.RandomZoom(0.1),\n",
    "    tf.keras.layers.RandomRotation(0.1)\n",
    "])\n",
    "\n",
    "train_set=ds_train.map(lambda X,y:(preprocess(X),y))\n",
    "train_set=train_set.shuffle(1000).batch(batch_size).prefetch(1)\n",
    "valid_set=ds_valid.map(lambda X,y:(preprocess(X),y)).batch(batch_size)\n",
    "test_set=ds_test.map(lambda X,y:(preprocess(X),y)).batch(batch_size)\n"
   ]
  },
  {
   "cell_type": "code",
   "execution_count": null,
   "id": "adf5afa7-8987-4bc6-b26d-5870f0773cc8",
   "metadata": {},
   "outputs": [],
   "source": [
    "base_model=tf.keras.applications.MobileNetV2(\n",
    "    input_shape=(64,64,3),\n",
    "    weights=\"imagenet\",\n",
    "    include_top=False\n",
    ")\n",
    "\n",
    "avg_layer=tf.keras.layers.GlobalAveragePooling2D()(base_model.output)\n",
    "x=tf.keras.layers.Dropout(0.3)(avg_layer)\n",
    "output=tf.keras.layers.Dense(num_classes,activation=\"softmax\")(x)\n",
    "model=tf.keras.Model(inputs=base_model.input,outputs=output)"
   ]
  },
  {
   "cell_type": "code",
   "execution_count": null,
   "id": "31e9ce90-e251-4d72-af6a-160277fbedf0",
   "metadata": {},
   "outputs": [],
   "source": [
    "for layer in base_model.layers:\n",
    "  layer.trainable=False\n",
    "\n",
    "optimizer=tf.keras.optimizers.Adam(learning_rate=0.01)\n",
    "model.compile(loss=\"sparse_categorical_crossentropy\",optimizer=optimizer,\n",
    "              metrics=[\"accuracy\"])\n",
    "\n",
    "model.fit(train_set,\n",
    "          epochs=4,\n",
    "          validation_data=(valid_set))"
   ]
  },
  {
   "cell_type": "code",
   "execution_count": null,
   "id": "f7eaf081-04c7-4bce-96fc-271d6eacad38",
   "metadata": {},
   "outputs": [],
   "source": [
    "len(base_model.layers)"
   ]
  },
  {
   "cell_type": "code",
   "execution_count": null,
   "id": "9091fc84-3270-4156-8cf8-db52c5fffa67",
   "metadata": {},
   "outputs": [],
   "source": [
    "for indices in zip(range(39), range(39, 78), range(78, 117), range(117, 154)):\n",
    "    for idx in indices:\n",
    "        print(f\"{idx:3}: {base_model.layers[idx].name:33}\", end=\"\")\n",
    "    print()"
   ]
  },
  {
   "cell_type": "code",
   "execution_count": null,
   "id": "93392a40-493a-41c4-ae59-e89b15869f5f",
   "metadata": {},
   "outputs": [],
   "source": [
    "for layer in base_model.layers[72:]:\n",
    "  layer.trainable=True\n",
    "\n",
    "optimizer=tf.keras.optimizers.Adam(learning_rate=1e-4)\n",
    "model.compile(loss=\"sparse_categorical_crossentropy\",optimizer=optimizer,\n",
    "              metrics=[\"accuracy\"])\n",
    "\n",
    "history=model.fit(train_set,\n",
    "          epochs=10,\n",
    "          validation_data=(valid_set))"
   ]
  },
  {
   "cell_type": "code",
   "execution_count": null,
   "id": "b483faa4-e0ec-4128-89fe-666e1db03f42",
   "metadata": {},
   "outputs": [],
   "source": [
    "model.evaluate(test_set)"
   ]
  }
 ],
 "metadata": {
  "kernelspec": {
   "display_name": "Python [conda env:base] *",
   "language": "python",
   "name": "conda-base-py"
  },
  "language_info": {
   "codemirror_mode": {
    "name": "ipython",
    "version": 3
   },
   "file_extension": ".py",
   "mimetype": "text/x-python",
   "name": "python",
   "nbconvert_exporter": "python",
   "pygments_lexer": "ipython3",
   "version": "3.12.2"
  }
 },
 "nbformat": 4,
 "nbformat_minor": 5
}
