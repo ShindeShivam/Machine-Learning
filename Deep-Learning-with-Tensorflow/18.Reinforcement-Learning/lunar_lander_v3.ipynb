{
 "cells": [
  {
   "cell_type": "code",
   "execution_count": 2,
   "id": "cb1f5f7d-3ec2-43ce-ac85-27efc557f110",
   "metadata": {},
   "outputs": [],
   "source": [
    "import gymnasium as gym\n",
    "import tensorflow as tf\n",
    "import numpy as np\n",
    "import matplotlib.pyplot as plt"
   ]
  },
  {
   "cell_type": "code",
   "execution_count": 3,
   "id": "0acfa52d-1550-45d2-9d6e-99968d5798ba",
   "metadata": {},
   "outputs": [],
   "source": [
    "env = gym.make(\"LunarLander-v3\",render_mode=\"rgb_array\")"
   ]
  },
  {
   "cell_type": "code",
   "execution_count": 4,
   "id": "81bafcc0-cdab-4693-9a85-390145e3e68b",
   "metadata": {},
   "outputs": [
    {
     "data": {
      "text/plain": [
       "Box([ -2.5        -2.5       -10.        -10.         -6.2831855 -10.\n",
       "  -0.         -0.       ], [ 2.5        2.5       10.        10.         6.2831855 10.\n",
       "  1.         1.       ], (8,), float32)"
      ]
     },
     "execution_count": 4,
     "metadata": {},
     "output_type": "execute_result"
    }
   ],
   "source": [
    "env.observation_space"
   ]
  },
  {
   "cell_type": "code",
   "execution_count": 5,
   "id": "ea3a69c6-f9da-40ec-8373-eaed2726801b",
   "metadata": {},
   "outputs": [
    {
     "data": {
      "text/plain": [
       "array([ 0.00229702,  1.4181306 ,  0.23264714,  0.32046658, -0.00265488,\n",
       "       -0.05269808,  0.        ,  0.        ], dtype=float32)"
      ]
     },
     "execution_count": 5,
     "metadata": {},
     "output_type": "execute_result"
    }
   ],
   "source": [
    "obs, info = env.reset(seed = 42)\n",
    "obs"
   ]
  },
  {
   "cell_type": "code",
   "execution_count": 6,
   "id": "3877a25f-9c1d-497f-ab3e-6c607f03e89b",
   "metadata": {},
   "outputs": [
    {
     "data": {
      "text/plain": [
       "Discrete(4)"
      ]
     },
     "execution_count": 6,
     "metadata": {},
     "output_type": "execute_result"
    }
   ],
   "source": [
    "env.action_space"
   ]
  },
  {
   "cell_type": "code",
   "execution_count": 7,
   "id": "fe98807e-b935-4c69-a201-1b98c401b080",
   "metadata": {},
   "outputs": [],
   "source": [
    "n_inputs = env.observation_space.shape[0]\n",
    "n_outputs = env.action_space.n\n",
    "\n",
    "model = tf.keras.Sequential([\n",
    "    tf.keras.layers.Dense(32,activation=\"relu\"),\n",
    "    tf.keras.layers.Dense(32,activation=\"relu\"),\n",
    "    tf.keras.layers.Dense(n_outputs,activation=\"softmax\")\n",
    "    \n",
    "])\n"
   ]
  },
  {
   "cell_type": "code",
   "execution_count": 8,
   "id": "e2c52b52-781f-4dd8-ae26-e7f724af83a1",
   "metadata": {},
   "outputs": [],
   "source": [
    "probas = tf.constant([0.1,0.2,0.6,0.1],dtype=tf.float32)\n",
    "logits = tf.math.log(probas + tf.keras.backend.epsilon())\n",
    "logits = tf.expand_dims(logits, axis=0) "
   ]
  },
  {
   "cell_type": "code",
   "execution_count": 9,
   "id": "993310cb-65ad-41cb-9701-0b09e62d66b0",
   "metadata": {},
   "outputs": [
    {
     "data": {
      "text/plain": [
       "<tf.Tensor: shape=(1, 4), dtype=float32, numpy=array([[-2.3025842, -1.6094373, -0.5108254, -2.3025842]], dtype=float32)>"
      ]
     },
     "execution_count": 9,
     "metadata": {},
     "output_type": "execute_result"
    }
   ],
   "source": [
    "logits"
   ]
  },
  {
   "cell_type": "code",
   "execution_count": 10,
   "id": "13c0a772-ec39-4063-8b5b-d12a57947da4",
   "metadata": {},
   "outputs": [],
   "source": [
    "action = tf.random.categorical(logits,num_samples=1)"
   ]
  },
  {
   "cell_type": "code",
   "execution_count": 11,
   "id": "6422a69b-5409-4be0-bffa-cf93e8f9b379",
   "metadata": {},
   "outputs": [
    {
     "data": {
      "text/plain": [
       "<tf.Tensor: shape=(1, 1), dtype=int64, numpy=array([[2]])>"
      ]
     },
     "execution_count": 11,
     "metadata": {},
     "output_type": "execute_result"
    }
   ],
   "source": [
    "action"
   ]
  },
  {
   "cell_type": "code",
   "execution_count": 12,
   "id": "82556cd4-1023-49fa-8a72-ccd1bf2e9428",
   "metadata": {},
   "outputs": [
    {
     "data": {
      "image/png": "[encoded data removed]",
      "text/plain": [
       "<Figure size 500x500 with 1 Axes>"
      ]
     },
     "metadata": {},
     "output_type": "display_data"
    }
   ],
   "source": [
    "def plot_environment(env):\n",
    "  img = env.render()\n",
    "  plt.imshow(img)\n",
    "  plt.axis(\"off\")\n",
    "plt.figure(figsize=(5,5))\n",
    "plot_environment(env)"
   ]
  },
  {
   "cell_type": "code",
   "execution_count": 13,
   "id": "f3963328-5ad8-459f-ab7c-193c68ca387a",
   "metadata": {},
   "outputs": [],
   "source": [
    "obs,info = env.reset()"
   ]
  },
  {
   "cell_type": "code",
   "execution_count": 14,
   "id": "be4acc49-0e35-414b-9fb9-db8b77eb8111",
   "metadata": {},
   "outputs": [],
   "source": [
    "action = 0\n",
    "obs,reward,done,truncated,info = env.step(action)"
   ]
  },
  {
   "cell_type": "code",
   "execution_count": 15,
   "id": "e53d514d-226b-4c6b-aefa-096e35b640ca",
   "metadata": {},
   "outputs": [
    {
     "data": {
      "text/plain": [
       "array([-0.01103888,  1.4180024 , -0.55829865,  0.14451218,  0.01265977,\n",
       "        0.12516338,  0.        ,  0.        ], dtype=float32)"
      ]
     },
     "execution_count": 15,
     "metadata": {},
     "output_type": "execute_result"
    }
   ],
   "source": [
    "obs"
   ]
  },
  {
   "cell_type": "code",
   "execution_count": 16,
   "id": "aa724098-0bb6-4435-a29a-7ae8c1643edc",
   "metadata": {},
   "outputs": [
    {
     "data": {
      "text/plain": [
       "-0.1850250936617499"
      ]
     },
     "execution_count": 16,
     "metadata": {},
     "output_type": "execute_result"
    }
   ],
   "source": [
    "reward"
   ]
  },
  {
   "cell_type": "code",
   "execution_count": 17,
   "id": "30f18cad-7850-489d-bc93-223af4615cdb",
   "metadata": {},
   "outputs": [
    {
     "data": {
      "text/plain": [
       "False"
      ]
     },
     "execution_count": 17,
     "metadata": {},
     "output_type": "execute_result"
    }
   ],
   "source": [
    "done"
   ]
  },
  {
   "cell_type": "code",
   "execution_count": 18,
   "id": "ca118d98-ed93-4dae-9c08-2091c3f98a20",
   "metadata": {},
   "outputs": [
    {
     "data": {
      "text/plain": [
       "False"
      ]
     },
     "execution_count": 18,
     "metadata": {},
     "output_type": "execute_result"
    }
   ],
   "source": [
    "truncated"
   ]
  },
  {
   "cell_type": "code",
   "execution_count": 19,
   "id": "349746f1-b839-4653-93c6-8502f0b8b2cb",
   "metadata": {},
   "outputs": [
    {
     "data": {
      "text/plain": [
       "{}"
      ]
     },
     "execution_count": 19,
     "metadata": {},
     "output_type": "execute_result"
    }
   ],
   "source": [
    "info"
   ]
  },
  {
   "cell_type": "code",
   "execution_count": 20,
   "id": "c91696e2-7e29-40e1-93e9-c811077e9bef",
   "metadata": {},
   "outputs": [],
   "source": [
    "def lander_play_one_step(env,obs,model,loss_fn):\n",
    "    with tf.GradientTape() as tape:\n",
    "        probas = model(obs[np.newaxis])\n",
    "        logits = tf.math.log(probas + tf.keras.backend.epsilon())\n",
    "        action = tf.random.categorical(logits,num_samples=1)\n",
    "        loss = tf.reduce_mean(loss_fn(action,probas))\n",
    "                              \n",
    "    grads = tape.gradient(loss, model.trainable_variables)\n",
    "    obs, reward, done, truncated, info = env.step(action[0,0].numpy())\n",
    "    return obs, reward, done, truncated, grads\n"
   ]
  },
  {
   "cell_type": "code",
   "execution_count": 21,
   "id": "f14ac9ce-79a7-45e2-976c-46009d7646d1",
   "metadata": {},
   "outputs": [],
   "source": [
    "def lander_play_multiple_episodes(env,model,n_episodes,n_steps,loss_fn):\n",
    "    all_grads = []\n",
    "    all_rewards = []\n",
    "    for episode in range(n_episodes):\n",
    "        current_rewards = []\n",
    "        current_grads = []\n",
    "        obs,info = env.reset()\n",
    "        for step in range(n_steps):\n",
    "            obs, reward, done, truncated, grads = lander_play_one_step(env, obs, model,\n",
    "                                                                     loss_fn)\n",
    "            current_rewards.append(reward)\n",
    "            current_grads.append(grads)\n",
    "            if done or truncated:\n",
    "                break\n",
    "\n",
    "        all_rewards.append(current_rewards)\n",
    "        all_grads.append(current_grads)\n",
    "    return all_grads, all_rewards        "
   ]
  },
  {
   "cell_type": "code",
   "execution_count": 22,
   "id": "2ea3e3cd-aa7c-4ceb-8fb5-bfb8293265a6",
   "metadata": {},
   "outputs": [],
   "source": [
    "def discounted_rewards(rewards, discount_factor):\n",
    "    discounted = np.array(rewards)\n",
    "    for step in range(len(rewards)-2 , -1, -1):\n",
    "        discounted[step] += discounted[step+1] * discount_factor\n",
    "    return discounted"
   ]
  },
  {
   "cell_type": "code",
   "execution_count": 23,
   "id": "1b8877bd-7e26-4bbe-a8ba-7e2b6c079a1a",
   "metadata": {},
   "outputs": [],
   "source": [
    "def discount_and_normalize_rewards(all_rewards, discount_factor):\n",
    "    all_discounted_rewards = [discounted_rewards(rewards,discount_factor)\n",
    "                             for rewards in all_rewards]\n",
    "    flat_rewards = np.concatenate(all_discounted_rewards)\n",
    "    reward_mean = flat_rewards.mean()\n",
    "    reward_std = flat_rewards.std()\n",
    "    return [(discounted_rewards - reward_mean) / reward_std\n",
    "           for discounted_rewards in all_discounted_rewards]"
   ]
  },
  {
   "cell_type": "code",
   "execution_count": 24,
   "id": "f5486de4-f1e1-42d4-8f79-56b3331e74fc",
   "metadata": {},
   "outputs": [],
   "source": [
    "n_iterations = 200\n",
    "n_episodes_per_update = 16\n",
    "n_max_steps = 1000\n",
    "discount_factor = 0.99"
   ]
  },
  {
   "cell_type": "code",
   "execution_count": 25,
   "id": "143d6819-2d1d-4443-959d-fe6af7935711",
   "metadata": {},
   "outputs": [],
   "source": [
    "optimizer = tf.keras.optimizers.Nadam(learning_rate=0.005)\n",
    "loss_fn = tf.keras.losses.sparse_categorical_crossentropy"
   ]
  },
  {
   "cell_type": "code",
   "execution_count": 26,
   "id": "384ecf65-9aa2-43cb-a63d-39a1e1de5933",
   "metadata": {},
   "outputs": [
    {
     "name": "stdout",
     "output_type": "stream",
     "text": [
      "Iteration: 200/200, mean reward: 110.1  "
     ]
    }
   ],
   "source": [
    "env.reset()\n",
    "mean_rewards = []\n",
    "\n",
    "for iteration in range(n_iterations):\n",
    "    all_grads , all_rewards = lander_play_multiple_episodes(env,model,n_episodes_per_update,\n",
    "                                                            n_max_steps,loss_fn)\n",
    "    mean_reward = sum(map(sum, all_rewards)) / n_episodes_per_update\n",
    "    print(f\"\\rIteration: {iteration + 1}/{n_iterations},\"\n",
    "          f\" mean reward: {mean_reward:.1f}  \", end=\"\")\n",
    "    mean_rewards.append(mean_reward)\n",
    "    all_final_rewards = discount_and_normalize_rewards(all_rewards,discount_factor)\n",
    "    all_mean_grads = []\n",
    "    for var_index in range(len(model.trainable_variables)):\n",
    "        mean_grads = tf.reduce_mean(\n",
    "            [final_reward * all_grads[episode_index][step][var_index]\n",
    "             for episode_index, final_rewards in enumerate(all_final_rewards)\n",
    "                 for step, final_reward in enumerate(final_rewards)], axis=0)\n",
    "        all_mean_grads.append(mean_grads)\n",
    "    optimizer.apply_gradients(zip(all_mean_grads, model.trainable_variables))"
   ]
  },
  {
   "cell_type": "code",
   "execution_count": null,
   "id": "20ee778c-81af-4d18-b5f7-54747db724fb",
   "metadata": {},
   "outputs": [],
   "source": [
    "plt.plot(mean_rewards)\n",
    "plt.xlabel(\"Episode\")\n",
    "plt.ylabel(\"Mean reward\")\n",
    "plt.grid()\n",
    "plt.show()"
   ]
  },
  {
   "cell_type": "code",
   "execution_count": 51,
   "id": "ea30781c-e0ea-45b1-ae68-e6a98ba515b2",
   "metadata": {},
   "outputs": [],
   "source": [
    "def lander_render(model,n_max_steps=500,seed=42):\n",
    "    frames = []\n",
    "    env = gym.make(\"LunarLander-v3\", render_mode=\"rgb_array\")\n",
    "    obs, info = env.reset(seed=seed)\n",
    "    for step in range(n_max_steps):\n",
    "        frames.append(env.render())\n",
    "        probas = model(obs[np.newaxis])\n",
    "        logits = tf.math.log(probas + tf.keras.backend.epsilon())\n",
    "        action = tf.random.categorical(logits, n_samples=1)\n",
    "        obs, reward, done, truncated, info = env.step(action[0,0].numpy())\n",
    "        if done or truncated:\n",
    "            break\n",
    "    env.close()\n",
    "    return frames\n",
    "    "
   ]
  },
  {
   "cell_type": "code",
   "execution_count": null,
   "id": "994ba678-524a-4de4-b458-38d643783b97",
   "metadata": {},
   "outputs": [],
   "source": [
    "\n",
    "def update_scene(num, frames, patch):\n",
    "    patch.set_data(frames[num])\n",
    "    return patch,\n",
    "\n",
    "def plot_animation(frames, repeat=False, interval=40):\n",
    "    fig = plt.figure()\n",
    "    patch = plt.imshow(frames[0])\n",
    "    plt.axis('off')\n",
    "    anim = matplotlib.animation.FuncAnimation(\n",
    "        fig, update_scene, fargs=(frames, patch),\n",
    "        frames=len(frames), repeat=repeat, interval=interval)\n",
    "    plt.close()\n",
    "    return anim"
   ]
  },
  {
   "cell_type": "code",
   "execution_count": null,
   "id": "18caf8cb-da12-4068-a0f6-d28b41e00403",
   "metadata": {},
   "outputs": [],
   "source": [
    "frames = lander_render(model)\n",
    "plot_animation(frames)"
   ]
  }
 ],
 "metadata": {
  "kernelspec": {
   "display_name": "Python [conda env:base] *",
   "language": "python",
   "name": "conda-base-py"
  },
  "language_info": {
   "codemirror_mode": {
    "name": "ipython",
    "version": 3
   },
   "file_extension": ".py",
   "mimetype": "text/x-python",
   "name": "python",
   "nbconvert_exporter": "python",
   "pygments_lexer": "ipython3",
   "version": "3.12.2"
  }
 },
 "nbformat": 4,
 "nbformat_minor": 5
}
