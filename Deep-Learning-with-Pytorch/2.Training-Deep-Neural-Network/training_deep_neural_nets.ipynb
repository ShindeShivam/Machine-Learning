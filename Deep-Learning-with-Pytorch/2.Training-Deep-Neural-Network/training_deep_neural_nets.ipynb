{
 "cells": [
  {
   "cell_type": "markdown",
   "id": "a2c74773-ac49-4134-a203-5b0239babf92",
   "metadata": {},
   "source": [
    "# Vanishing/Exploding Gradients Problem"
   ]
  },
  {
   "cell_type": "markdown",
   "id": "2e8d6dee-2cb2-4312-851a-b6bba47aa607",
   "metadata": {},
   "source": [
    "## Glorot and He Initialization"
   ]
  },
  {
   "cell_type": "code",
   "execution_count": 4,
   "id": "8c6051ab-e0fe-4d3a-b464-e214a6d7e006",
   "metadata": {},
   "outputs": [
    {
     "data": {
      "text/plain": [
       "torch.Size([10, 40])"
      ]
     },
     "execution_count": 4,
     "metadata": {},
     "output_type": "execute_result"
    }
   ],
   "source": [
    "import torch\n",
    "import torch.nn as nn\n",
    "\n",
    "layer = nn.Linear(40, 10)\n",
    "layer.weight.shape"
   ]
  },
  {
   "cell_type": "code",
   "execution_count": 5,
   "id": "86061d68-7548-40ab-a42a-1369869d95ff",
   "metadata": {},
   "outputs": [
    {
     "data": {
      "text/plain": [
       "tensor([-0.0179, -0.0445, -0.1269,  0.0311, -0.0592,  0.0924, -0.0679,  0.0885,\n",
       "        -0.1484, -0.0157,  0.0093, -0.1164, -0.1053,  0.1270, -0.0780,  0.1365,\n",
       "         0.1200, -0.1364, -0.1179,  0.1206, -0.0699,  0.0390,  0.0276,  0.1558,\n",
       "        -0.1311,  0.1100, -0.0495,  0.1154,  0.1360,  0.0588, -0.0222,  0.0445,\n",
       "        -0.0056, -0.0184, -0.0211,  0.1520,  0.0521,  0.1084,  0.1011,  0.1383])"
      ]
     },
     "execution_count": 5,
     "metadata": {},
     "output_type": "execute_result"
    }
   ],
   "source": [
    "layer.weight.data[0] "
   ]
  },
  {
   "cell_type": "code",
   "execution_count": 6,
   "id": "1a4943bf-7711-43cb-9907-bb4769c27cac",
   "metadata": {},
   "outputs": [],
   "source": [
    "layer.weight.data *= 6**0.5  # He init"
   ]
  },
  {
   "cell_type": "code",
   "execution_count": 7,
   "id": "ba3dbb11-227d-410e-a2b3-76f740ea5dc0",
   "metadata": {},
   "outputs": [
    {
     "data": {
      "text/plain": [
       "tensor([-0.0438, -0.1090, -0.3109,  0.0761, -0.1450,  0.2264, -0.1664,  0.2167,\n",
       "        -0.3636, -0.0385,  0.0228, -0.2852, -0.2580,  0.3111, -0.1910,  0.3343,\n",
       "         0.2939, -0.3342, -0.2887,  0.2955, -0.1713,  0.0956,  0.0675,  0.3817,\n",
       "        -0.3212,  0.2694, -0.1212,  0.2826,  0.3331,  0.1439, -0.0545,  0.1090,\n",
       "        -0.0137, -0.0450, -0.0518,  0.3723,  0.1277,  0.2656,  0.2478,  0.3387])"
      ]
     },
     "execution_count": 7,
     "metadata": {},
     "output_type": "execute_result"
    }
   ],
   "source": [
    "layer.weight.data[0]"
   ]
  },
  {
   "cell_type": "code",
   "execution_count": 8,
   "id": "b053d66d-9c28-45b2-89f2-ceb0623bf0fa",
   "metadata": {},
   "outputs": [
    {
     "data": {
      "text/plain": [
       "tensor([-0.0375,  0.0577, -0.0346,  0.0307, -0.0116,  0.0483,  0.0199,  0.0143,\n",
       "         0.1153, -0.1121])"
      ]
     },
     "execution_count": 8,
     "metadata": {},
     "output_type": "execute_result"
    }
   ],
   "source": [
    "layer.bias.data"
   ]
  },
  {
   "cell_type": "code",
   "execution_count": 9,
   "id": "15b0dd83-e91f-4d88-92ef-e72066631b0f",
   "metadata": {},
   "outputs": [
    {
     "data": {
      "text/plain": [
       "tensor([0., 0., 0., 0., 0., 0., 0., 0., 0., 0.])"
      ]
     },
     "execution_count": 9,
     "metadata": {},
     "output_type": "execute_result"
    }
   ],
   "source": [
    "torch.zero_(layer.bias.data)"
   ]
  },
  {
   "cell_type": "code",
   "execution_count": 10,
   "id": "efb0cfb3-fec8-40a7-bafb-d2867931de56",
   "metadata": {},
   "outputs": [
    {
     "data": {
      "text/plain": [
       "Parameter containing:\n",
       "tensor([0., 0., 0., 0., 0., 0., 0., 0., 0., 0.], requires_grad=True)"
      ]
     },
     "execution_count": 10,
     "metadata": {},
     "output_type": "execute_result"
    }
   ],
   "source": [
    "layer = nn.Linear(40, 10)\n",
    "nn.init.kaiming_uniform_(layer.weight)\n",
    "nn.init.zeros_(layer.bias)"
   ]
  },
  {
   "cell_type": "code",
   "execution_count": 11,
   "id": "4c1f874f-53a9-4823-a93a-1d59eb43da07",
   "metadata": {},
   "outputs": [
    {
     "data": {
      "text/plain": [
       "Sequential(\n",
       "  (0): Linear(in_features=40, out_features=30, bias=True)\n",
       "  (1): ReLU()\n",
       "  (2): Linear(in_features=30, out_features=1, bias=True)\n",
       "  (3): ReLU()\n",
       ")"
      ]
     },
     "execution_count": 11,
     "metadata": {},
     "output_type": "execute_result"
    }
   ],
   "source": [
    "def use_he_init(module):\n",
    "    if isinstance(module, nn.Linear):\n",
    "        nn.init.kaiming_uniform_(module.weight)\n",
    "        nn.init.zeros_(module.bias)\n",
    "model = nn.Sequential(nn.Linear(40, 30), nn.ReLU(), nn.Linear(30, 1), nn.ReLU())\n",
    "model.apply(use_he_init)"
   ]
  },
  {
   "cell_type": "code",
   "execution_count": 12,
   "id": "cb0f3099-f302-4632-be65-0026a51eb9c7",
   "metadata": {},
   "outputs": [
    {
     "data": {
      "text/plain": [
       "Sequential(\n",
       "  (0): Linear(in_features=40, out_features=10, bias=True)\n",
       "  (1): LeakyReLU(negative_slope=0.2)\n",
       ")"
      ]
     },
     "execution_count": 12,
     "metadata": {},
     "output_type": "execute_result"
    }
   ],
   "source": [
    "model = nn.Sequential(nn.Linear(40, 10), nn.LeakyReLU(negative_slope=0.2))  # alpha is negative slope\n",
    "model.apply(use_he_init)"
   ]
  },
  {
   "cell_type": "markdown",
   "id": "51641520-9ca2-4ebe-894c-a191123cd9bf",
   "metadata": {},
   "source": [
    "## Better Activation Functions"
   ]
  },
  {
   "cell_type": "markdown",
   "id": "556f7910-0fb3-4db5-b165-a874aca8c15a",
   "metadata": {},
   "source": [
    "### Leaky ReLU"
   ]
  },
  {
   "cell_type": "code",
   "execution_count": 15,
   "id": "67c004be-1cc3-4069-a756-f9f0e8c00173",
   "metadata": {},
   "outputs": [],
   "source": [
    "def leaky_relu(z, alpha):\n",
    "    return np.maximum(alpha * z, z)"
   ]
  },
  {
   "cell_type": "code",
   "execution_count": 16,
   "id": "fb838bda-75d8-4665-8ec2-c3c738dfe6bb",
   "metadata": {},
   "outputs": [
    {
     "data": {
      "image/png": "[encoded data removed]",
      "text/plain": [
       "<Figure size 400x200 with 1 Axes>"
      ]
     },
     "metadata": {},
     "output_type": "display_data"
    }
   ],
   "source": [
    "import numpy as np\n",
    "import matplotlib.pyplot as plt\n",
    "\n",
    "z = np.linspace(-5, 5, 200)\n",
    "plt.figure(figsize=(4,2))\n",
    "plt.plot(z, leaky_relu(z,0.1) , \"-\")\n",
    "plt.plot([-5,5] ,[0,0] , \"k-\")\n",
    "plt.plot([0,0] ,[-1,4] , \"k-\")\n",
    "plt.axis([-5, 5 , -1, 4])\n",
    "plt.title(\"Leaky ReLU\")\n",
    "plt.xlabel(\"Z\")\n",
    "plt.axis()\n",
    "plt.show()"
   ]
  },
  {
   "cell_type": "code",
   "execution_count": 17,
   "id": "9713b2b7-f410-42b1-9952-ccac1921e458",
   "metadata": {},
   "outputs": [
    {
     "data": {
      "text/plain": [
       "torch.Size([2, 40])"
      ]
     },
     "execution_count": 17,
     "metadata": {},
     "output_type": "execute_result"
    }
   ],
   "source": [
    "torch.manual_seed(42)\n",
    "alpha = 0.2\n",
    "model = nn.Sequential(nn.Linear(50, 40), nn.LeakyReLU(negative_slope=alpha))\n",
    "nn.init.kaiming_uniform_(model[0].weight, alpha, nonlinearity=\"leaky_relu\")\n",
    "model(torch.rand(2,50)).shape"
   ]
  },
  {
   "cell_type": "markdown",
   "id": "27a9fddb-99b4-4608-aad4-c351f4ca993f",
   "metadata": {},
   "source": [
    "## Batch Normalization"
   ]
  },
  {
   "cell_type": "code",
   "execution_count": 19,
   "id": "ab45c1b2-5b0a-4594-a93f-3323b3d01984",
   "metadata": {},
   "outputs": [],
   "source": [
    "class MyBatchNorm(nn.Module):\n",
    "    def __init__(self, num_features, eps=1e-5, momentum=0.1):\n",
    "        super().__init__()\n",
    "        self.eps = eps\n",
    "        self.momentum = momentum\n",
    "\n",
    "        #Learning Parameters\n",
    "        self.gamma = nn.Parameter(torch.ones(num_features))\n",
    "        self.beta = nn.Parameter(torch.zeros(num_features))\n",
    "\n",
    "        #Running stats (for inference time)\n",
    "        self.register_buffer(\"running_mean\", torch.zeros(num_features))\n",
    "        self.register_buffer(\"running_var\", torch.ones(num_features))\n",
    "\n",
    "    def forward(self, X):\n",
    "        if self.training:\n",
    "            batch_mean = X.mean(dim=0)\n",
    "            batch_var = X.var(dim=0, unbiased=False)  # by default sample variance(1/N-1),now population variance(1/N)\n",
    "            \n",
    "            #Normalize\n",
    "            X_hat = (X - batch_mean) / torch.sqrt(batch_var + self.eps)\n",
    "\n",
    "            #Update running stats\n",
    "            self.running_mean = (1 - self.momentum) * self.running_mean + self.momentum * batch_mean\n",
    "            self.running_var = (1 - self.momentum) * self.running_var + self.momentum * batch_var\n",
    "        else:\n",
    "            X_hat = (X - self.running_mean) / torch.sqrt(self.running_var + self.eps)\n",
    "\n",
    "        out = self.gamma * X_hat + self.beta\n",
    "        return out"
   ]
  },
  {
   "cell_type": "code",
   "execution_count": 20,
   "id": "974f5166-5ee0-40f2-914d-8554850b0135",
   "metadata": {},
   "outputs": [],
   "source": [
    "torch.manual_seed(42)\n",
    "model1 = nn.Sequential(\n",
    "    nn.Flatten(),\n",
    "    MyBatchNorm(1 * 28 * 28),\n",
    "    nn.Linear(1 * 28 * 28, 300),\n",
    "    nn.ReLU(),\n",
    "    MyBatchNorm(300),\n",
    "    nn.Linear(300, 100),\n",
    "    nn.ReLU(),\n",
    "    MyBatchNorm(100),\n",
    "    nn.Linear(100, 10)\n",
    ")"
   ]
  },
  {
   "cell_type": "code",
   "execution_count": 21,
   "id": "c9572b2f-b8a0-4f5f-bc7a-2e796f4b8fbb",
   "metadata": {},
   "outputs": [
    {
     "data": {
      "text/plain": [
       "dict_keys(['gamma', 'beta'])"
      ]
     },
     "execution_count": 21,
     "metadata": {},
     "output_type": "execute_result"
    }
   ],
   "source": [
    "dict(model1[1].named_parameters()).keys()"
   ]
  },
  {
   "cell_type": "code",
   "execution_count": 22,
   "id": "ca0cdd8e-c88f-4fe7-99a5-1ce3e65d1c74",
   "metadata": {},
   "outputs": [
    {
     "data": {
      "text/plain": [
       "dict_keys(['running_mean', 'running_var'])"
      ]
     },
     "execution_count": 22,
     "metadata": {},
     "output_type": "execute_result"
    }
   ],
   "source": [
    "dict(model1[1].named_buffers()).keys()"
   ]
  },
  {
   "cell_type": "code",
   "execution_count": 23,
   "id": "6b1b16d0-ff3b-4452-aed0-87ac3a38cfa8",
   "metadata": {},
   "outputs": [
    {
     "data": {
      "text/plain": [
       "tensor([[ 0.0200,  1.4500, -0.3600,  0.6600, -0.6800,  0.7700,  0.2500,  0.9700,\n",
       "          0.0800,  0.8100],\n",
       "        [ 0.0500, -1.2900,  0.2600, -0.6900,  0.8400, -0.6300, -0.1700, -1.1300,\n",
       "         -0.0000, -0.6600]], grad_fn=<RoundBackward1>)"
      ]
     },
     "execution_count": 23,
     "metadata": {},
     "output_type": "execute_result"
    }
   ],
   "source": [
    "torch.manual_seed(42)\n",
    "\n",
    "model1.train()\n",
    "x = torch.randn(2,28,28)   \n",
    "out = model1(x)\n",
    "out.round(decimals=2)"
   ]
  },
  {
   "cell_type": "code",
   "execution_count": 24,
   "id": "c6466ad3-af5d-422f-948b-60606321c802",
   "metadata": {},
   "outputs": [],
   "source": [
    "torch.manual_seed(42)\n",
    "model2 = nn.Sequential(\n",
    "    nn.Flatten(),\n",
    "    nn.BatchNorm1d(1 * 28 * 28),\n",
    "    nn.Linear(1 * 28 * 28, 300),\n",
    "    nn.ReLU(),\n",
    "    nn.BatchNorm1d(300),\n",
    "    nn.Linear(300, 100),\n",
    "    nn.ReLU(),\n",
    "    nn.BatchNorm1d(100),\n",
    "    nn.Linear(100, 10)\n",
    ")"
   ]
  },
  {
   "cell_type": "code",
   "execution_count": 25,
   "id": "dcb49104-bcd9-4731-8c22-39f990ade879",
   "metadata": {},
   "outputs": [
    {
     "data": {
      "text/plain": [
       "dict_keys(['weight', 'bias'])"
      ]
     },
     "execution_count": 25,
     "metadata": {},
     "output_type": "execute_result"
    }
   ],
   "source": [
    "dict(model2[1].named_parameters()).keys()"
   ]
  },
  {
   "cell_type": "code",
   "execution_count": 26,
   "id": "9888b4e5-1f00-4cb6-95dd-bf31efdb9d05",
   "metadata": {},
   "outputs": [
    {
     "data": {
      "text/plain": [
       "tensor([[ 0.0200,  1.4500, -0.3600,  0.6600, -0.6800,  0.7700,  0.2500,  0.9700,\n",
       "          0.0800,  0.8100],\n",
       "        [ 0.0500, -1.2900,  0.2600, -0.6900,  0.8400, -0.6300, -0.1700, -1.1300,\n",
       "         -0.0000, -0.6600]], grad_fn=<RoundBackward1>)"
      ]
     },
     "execution_count": 26,
     "metadata": {},
     "output_type": "execute_result"
    }
   ],
   "source": [
    "torch.manual_seed(42)\n",
    "\n",
    "model2.train()\n",
    "x = torch.randn(2,28,28)   \n",
    "out = model2(x)\n",
    "out.round(decimals=2)"
   ]
  },
  {
   "cell_type": "markdown",
   "id": "c262da08-70de-4bab-aafa-05ebe4608ed9",
   "metadata": {},
   "source": [
    "## Layer Normalization"
   ]
  },
  {
   "cell_type": "code",
   "execution_count": 28,
   "id": "fa86a3b9-a640-4afb-800d-67befee19d68",
   "metadata": {},
   "outputs": [],
   "source": [
    "class MyLayerNorm(nn.Module):\n",
    "    def __init__(self, normalized_shape, eps=1e-5):\n",
    "        super().__init__()\n",
    "        self.eps = eps\n",
    "        self.normalized_shape = normalized_shape\n",
    "\n",
    "        #Learning Parameters\n",
    "        self.gamma = nn.Parameter(torch.ones(normalized_shape))\n",
    "        self.beta = nn.Parameter(torch.zeros(normalized_shape))\n",
    "\n",
    "    def forward(self, X):\n",
    "        dims = tuple(range(-len(self.normalized_shape),0))\n",
    "        mean = X.mean(dim=dims, keepdim=True)\n",
    "        var = X.var(dim=dims, unbiased=False, keepdim=True)\n",
    "        X_hat = (X - mean) / torch.sqrt(var + self.eps)\n",
    "        return self.gamma * X_hat + self.beta           "
   ]
  },
  {
   "cell_type": "code",
   "execution_count": 29,
   "id": "61795fa8-85be-4d63-8499-a84d402dc9c9",
   "metadata": {},
   "outputs": [],
   "source": [
    "torch.manual_seed(42)\n",
    "\n",
    "inputs = torch.randn(32, 4, 100, 200)\n",
    "layer_norm = MyLayerNorm([100,200])\n",
    "result1 = layer_norm(inputs)"
   ]
  },
  {
   "cell_type": "code",
   "execution_count": 30,
   "id": "d25c0c0e-c68c-4433-be43-2011ad6003df",
   "metadata": {},
   "outputs": [],
   "source": [
    "torch.manual_seed(42)\n",
    "\n",
    "inputs = torch.randn(32, 4, 100, 200)\n",
    "layer_norm = nn.LayerNorm([100,200])\n",
    "result2 = layer_norm(inputs)"
   ]
  },
  {
   "cell_type": "code",
   "execution_count": 31,
   "id": "e7132dc8-440a-4c25-bf4b-1afbe89d0836",
   "metadata": {},
   "outputs": [],
   "source": [
    "assert torch.allclose(result1, result2)"
   ]
  },
  {
   "cell_type": "code",
   "execution_count": 32,
   "id": "ed3edbae-bbfc-4de7-b58a-f5b26cc26f0b",
   "metadata": {},
   "outputs": [],
   "source": [
    "layer_norm = MyLayerNorm([32, 4, 100, 200])\n",
    "result3 = layer_norm(inputs)"
   ]
  },
  {
   "cell_type": "code",
   "execution_count": 33,
   "id": "b6db2030-753f-424e-8e2d-9d38438b8ed6",
   "metadata": {},
   "outputs": [],
   "source": [
    "layer_norm = nn.LayerNorm([32, 4, 100, 200])\n",
    "result4 = layer_norm(inputs)\n",
    "assert torch.allclose(result3, result4)"
   ]
  },
  {
   "cell_type": "markdown",
   "id": "11b64019-e04e-4bc7-a420-8bf90f0b2665",
   "metadata": {},
   "source": [
    "## Gradient Clipping"
   ]
  },
  {
   "cell_type": "markdown",
   "id": "761df7bb-e93e-4018-bf9f-632d117bc12f",
   "metadata": {},
   "source": [
    "### Value Clipping"
   ]
  },
  {
   "cell_type": "code",
   "execution_count": 36,
   "id": "52f04331-16bd-4135-96d2-2e44a2e616eb",
   "metadata": {},
   "outputs": [
    {
     "data": {
      "text/plain": [
       "tensor([ 3., -3.,  2.,  3.])"
      ]
     },
     "execution_count": 36,
     "metadata": {},
     "output_type": "execute_result"
    }
   ],
   "source": [
    "grad = torch.tensor([10.0, -5.0, 2.0, 8.0])\n",
    "clip_value = 3.0\n",
    "grad_value_clipped = torch.clamp(grad, min= -clip_value, max=clip_value)\n",
    "grad_value_clipped"
   ]
  },
  {
   "cell_type": "code",
   "execution_count": 37,
   "id": "0e2d808c-a340-43be-a508-c76acb85147d",
   "metadata": {},
   "outputs": [
    {
     "data": {
      "text/plain": [
       "tensor([ 3., -3.,  2.,  3.])"
      ]
     },
     "execution_count": 37,
     "metadata": {},
     "output_type": "execute_result"
    }
   ],
   "source": [
    "param = nn.Parameter(torch.tensor([10.0, -5.0, 2.0, 8.0]))\n",
    "param.grad = torch.tensor([10.0, -5.0, 2.0, 8.0])\n",
    "nn.utils.clip_grad_value_([param], clip_value=3.0)\n",
    "param.grad"
   ]
  },
  {
   "cell_type": "markdown",
   "id": "9ce054f7-c3a6-4198-b226-706be2f7d419",
   "metadata": {},
   "source": [
    "### Norm Clipping"
   ]
  },
  {
   "cell_type": "code",
   "execution_count": 39,
   "id": "0ef8d09d-4228-4ef9-b4c8-d0b99b2ff35f",
   "metadata": {},
   "outputs": [
    {
     "data": {
      "text/plain": [
       "tensor(13.8924)"
      ]
     },
     "execution_count": 39,
     "metadata": {},
     "output_type": "execute_result"
    }
   ],
   "source": [
    "max_norm = 3.0\n",
    "grad_norm = torch.sqrt(torch.sum(grad**2))\n",
    "grad_norm"
   ]
  },
  {
   "cell_type": "code",
   "execution_count": 40,
   "id": "b4cc9c14-8a1d-42e8-beba-426542a5c434",
   "metadata": {},
   "outputs": [
    {
     "data": {
      "text/plain": [
       "tensor([ 2.1594, -1.0797,  0.4319,  1.7276])"
      ]
     },
     "execution_count": 40,
     "metadata": {},
     "output_type": "execute_result"
    }
   ],
   "source": [
    "if grad_norm > max_norm:\n",
    "    scale = max_norm / grad_norm\n",
    "    grad_norm_clipped = grad * scale\n",
    "else:\n",
    "    grad_norm_clipped = grad\n",
    "\n",
    "grad_norm_clipped"
   ]
  },
  {
   "cell_type": "code",
   "execution_count": 41,
   "id": "9a875401-010a-483e-b4b3-4d704acf123f",
   "metadata": {},
   "outputs": [
    {
     "data": {
      "text/plain": [
       "tensor([ 2.1594, -1.0797,  0.4319,  1.7276])"
      ]
     },
     "execution_count": 41,
     "metadata": {},
     "output_type": "execute_result"
    }
   ],
   "source": [
    "param = nn.Parameter(torch.tensor([10.0, -5.0, 2.0, 8.0]))\n",
    "param.grad = torch.tensor([10.0, -5.0, 2.0, 8.0])\n",
    "nn.utils.clip_grad_norm_([param], max_norm=3.0)\n",
    "param.grad"
   ]
  },
  {
   "cell_type": "code",
   "execution_count": 42,
   "id": "89bcfead-09b6-483b-852c-f0bfcec3e9f2",
   "metadata": {},
   "outputs": [],
   "source": [
    "from torch.utils.data import DataLoader, TensorDataset\n",
    "from sklearn.datasets import fetch_openml\n",
    "\n",
    "fashion_mnist = fetch_openml(name=\"fashion-MNIST\", as_frame=False)\n",
    "X = torch.FloatTensor(fashion_mnist.data.reshape(-1, 1, 28, 28) / 255.)\n",
    "y = torch.from_numpy(fashion_mnist.target.astype(int))\n",
    "in_B = (y == 0) | (y == 2)  # Pullover or T-shirt/top\n",
    "X_A, y_A = X[~in_B], y[~in_B]\n",
    "y_A = torch.maximum(y_A - 2, torch.tensor(0))  # [1,3,4,5,6,7,8,9] => [0,..,7]\n",
    "X_B, y_B = X[in_B], (y[in_B] == 2).to(dtype=torch.float32).view(-1, 1)\n",
    "\n",
    "train_set_A = TensorDataset(X_A[:-7_000], y_A[:-7000])\n",
    "valid_set_A = TensorDataset(X_A[-7_000:-5000], y_A[-7000:-5000])\n",
    "test_set_A = TensorDataset(X_A[-5_000:], y_A[-5000:])\n",
    "train_set_B = TensorDataset(X_B[:20], y_B[:20])\n",
    "valid_set_B = TensorDataset(X_B[20:5000], y_B[20:5000])\n",
    "test_set_B = TensorDataset(X_B[5_000:], y_B[5000:])\n",
    "\n",
    "train_loader_A = DataLoader(train_set_A, batch_size=32, shuffle=True)\n",
    "valid_loader_A = DataLoader(valid_set_A, batch_size=32)\n",
    "test_loader_A = DataLoader(test_set_A, batch_size=32)\n",
    "train_loader_B = DataLoader(train_set_B, batch_size=32, shuffle=True)\n",
    "valid_loader_B = DataLoader(valid_set_B, batch_size=32)\n",
    "test_loader_B = DataLoader(test_set_B, batch_size=32)"
   ]
  },
  {
   "cell_type": "markdown",
   "id": "0c5aa562-f1ef-40cf-8685-fd42a77db41d",
   "metadata": {},
   "source": [
    "# Faster Optimizers"
   ]
  },
  {
   "cell_type": "code",
   "execution_count": 44,
   "id": "a946f762-366c-48ae-92b1-19a44abe3384",
   "metadata": {},
   "outputs": [],
   "source": [
    "import torchmetrics\n",
    "\n",
    "def evaluate_tm(model, data_loader, metric):\n",
    "    model.eval()\n",
    "    metric.reset()\n",
    "    with torch.no_grad():\n",
    "        for X_batch, y_batch in data_loader:\n",
    "            X_batch, y_batch = X_batch.to(device), y_batch.to(device)\n",
    "            y_pred = model(X_batch)\n",
    "            metric.update(y_pred, y_batch)\n",
    "    return metric.compute()\n",
    "\n",
    "def train(model, optimizer, criterion, metric, train_loader, valid_loader, n_epochs):\n",
    "    history = {\"train_losses\":[], \"train_metrics\":[],\"valid_metrics\":[]}\n",
    "    for epoch in range(n_epochs):\n",
    "        total_loss = 0\n",
    "        metric.reset()\n",
    "        model.train()\n",
    "        for X_batch, y_batch in train_loader:\n",
    "            X_batch, y_batch = X_batch.to(device), y_batch.to(device)\n",
    "            y_pred = model(X_batch)\n",
    "            loss = criterion(y_pred, y_batch)\n",
    "            total_loss += loss.item()\n",
    "            loss.backward()\n",
    "            optimizer.step()\n",
    "            optimizer.zero_grad()\n",
    "            metric.update(y_pred, y_batch)\n",
    "        mean_loss = total_loss / len(train_loader)\n",
    "        history[\"train_losses\"].append(mean_loss)\n",
    "        history[\"train_metrics\"].append(metric.compute().item())\n",
    "        history[\"valid_metrics\"].append(\n",
    "            evaluate_tm(model, valid_loader, metric).item()\n",
    "        )\n",
    "        print(f\"Epoch:{epoch+1}/{n_epochs}, \"\n",
    "             f\"Train Loss: {history['train_losses'][-1]:.4f}, \"\n",
    "             f\"Train Metric: {history['train_metrics'][-1]:.4f}, \"\n",
    "             f\"Valid Metric: {history['valid_metrics'][-1]:.4f}\")\n",
    "    return history\n",
    "        "
   ]
  },
  {
   "cell_type": "code",
   "execution_count": 45,
   "id": "70fa1cbf-f0aa-4107-b0d9-cf6c75be6b79",
   "metadata": {},
   "outputs": [
    {
     "data": {
      "text/plain": [
       "'mps'"
      ]
     },
     "execution_count": 45,
     "metadata": {},
     "output_type": "execute_result"
    }
   ],
   "source": [
    "if torch.cuda.is_available():\n",
    "    device = \"cuda\"\n",
    "elif torch.backends.mps.is_available():\n",
    "    device = \"mps\"\n",
    "else:\n",
    "    device = \"cpu\"\n",
    "device"
   ]
  },
  {
   "cell_type": "code",
   "execution_count": 46,
   "id": "7f8ed2a7-e52b-4fea-a50a-d0c1cfed2ccf",
   "metadata": {},
   "outputs": [],
   "source": [
    "\n",
    "train_set = TensorDataset(X[:55_000], y[:55_000])\n",
    "valid_set = TensorDataset(X[55_000:60_000], y[55_000:60_000])\n",
    "test_set = TensorDataset(X[60_000:], y[60_000:])\n",
    "\n",
    "def build_model(seed=42):\n",
    "    torch.manual_seed(seed)\n",
    "    model = nn.Sequential(\n",
    "        nn.Flatten(),\n",
    "        nn.Linear(28*28, 100),\n",
    "        nn.ReLU(),\n",
    "        nn.Linear(100, 100),\n",
    "        nn.ReLU(),\n",
    "        nn.Linear(100, 100),\n",
    "        nn.ReLU(),\n",
    "        nn.Linear(100, 10)\n",
    "    ).to(device)\n",
    "    model.apply(use_he_init)\n",
    "    return model\n",
    "\n",
    "def test_optimizer(model, optimizer, n_epochs=10, batch_size=32):\n",
    "    train_loader = DataLoader(train_set, batch_size=32, shuffle=True)\n",
    "    valid_loader = DataLoader(valid_set, batch_size=32)\n",
    "    test_loader = DataLoader(test_set, batch_size=32)\n",
    "    xentropy = nn.CrossEntropyLoss()\n",
    "    accuracy = torchmetrics.Accuracy(task=\"multiclass\", num_classes=10).to(device)\n",
    "    history = train(model, optimizer, xentropy, accuracy, train_loader, valid_loader,n_epochs)\n",
    "    return history, evaluate_tm(model, test_loader, accuracy)"
   ]
  },
  {
   "cell_type": "code",
   "execution_count": 47,
   "id": "dce88608-9df1-4360-988d-4a0a90d7e5d9",
   "metadata": {},
   "outputs": [
    {
     "name": "stdout",
     "output_type": "stream",
     "text": [
      "Epoch:1/10, Train Loss: 0.5718, Train Metric: 0.7951, Valid Metric: 0.8402\n",
      "Epoch:2/10, Train Loss: 0.4056, Train Metric: 0.8511, Valid Metric: 0.8524\n",
      "Epoch:3/10, Train Loss: 0.3662, Train Metric: 0.8652, Valid Metric: 0.8572\n",
      "Epoch:4/10, Train Loss: 0.3416, Train Metric: 0.8745, Valid Metric: 0.8740\n",
      "Epoch:5/10, Train Loss: 0.3222, Train Metric: 0.8826, Valid Metric: 0.8732\n",
      "Epoch:6/10, Train Loss: 0.3088, Train Metric: 0.8860, Valid Metric: 0.8720\n",
      "Epoch:7/10, Train Loss: 0.2954, Train Metric: 0.8895, Valid Metric: 0.8762\n",
      "Epoch:8/10, Train Loss: 0.2842, Train Metric: 0.8941, Valid Metric: 0.8740\n",
      "Epoch:9/10, Train Loss: 0.2751, Train Metric: 0.8975, Valid Metric: 0.8728\n",
      "Epoch:10/10, Train Loss: 0.2652, Train Metric: 0.9013, Valid Metric: 0.8620\n"
     ]
    }
   ],
   "source": [
    "model = build_model()\n",
    "optimizer = torch.optim.SGD(model.parameters(), lr=0.04)\n",
    "history_sgd, acc_sgd = test_optimizer(model, optimizer)"
   ]
  },
  {
   "cell_type": "code",
   "execution_count": 48,
   "id": "b91ad9ab-69a2-491a-ae51-9786583b6646",
   "metadata": {},
   "outputs": [
    {
     "data": {
      "text/plain": [
       "tensor(0.8584, device='mps:0')"
      ]
     },
     "execution_count": 48,
     "metadata": {},
     "output_type": "execute_result"
    }
   ],
   "source": [
    "acc_sgd"
   ]
  },
  {
   "cell_type": "markdown",
   "id": "90368526-59c3-41b2-90df-5015be2435f0",
   "metadata": {},
   "source": [
    "## Momentum Optimization"
   ]
  },
  {
   "cell_type": "code",
   "execution_count": 50,
   "id": "46959e0d-0acf-4a70-aaf5-cae6213d134d",
   "metadata": {},
   "outputs": [
    {
     "name": "stdout",
     "output_type": "stream",
     "text": [
      "Epoch:1/10, Train Loss: 0.6046, Train Metric: 0.7787, Valid Metric: 0.8088\n",
      "Epoch:2/10, Train Loss: 0.4719, Train Metric: 0.8318, Valid Metric: 0.8394\n",
      "Epoch:3/10, Train Loss: 0.4359, Train Metric: 0.8439, Valid Metric: 0.8480\n",
      "Epoch:4/10, Train Loss: 0.4111, Train Metric: 0.8531, Valid Metric: 0.8488\n",
      "Epoch:5/10, Train Loss: 0.3938, Train Metric: 0.8603, Valid Metric: 0.8648\n",
      "Epoch:6/10, Train Loss: 0.3849, Train Metric: 0.8636, Valid Metric: 0.8662\n",
      "Epoch:7/10, Train Loss: 0.3725, Train Metric: 0.8653, Valid Metric: 0.8622\n",
      "Epoch:8/10, Train Loss: 0.3708, Train Metric: 0.8682, Valid Metric: 0.8674\n",
      "Epoch:9/10, Train Loss: 0.3577, Train Metric: 0.8725, Valid Metric: 0.8654\n",
      "Epoch:10/10, Train Loss: 0.3502, Train Metric: 0.8758, Valid Metric: 0.8666\n"
     ]
    }
   ],
   "source": [
    "model = build_model()\n",
    "optimizer = torch.optim.SGD(model.parameters(), lr=0.05, momentum=0.9)\n",
    "history_momentum, acc_momentum = test_optimizer(model, optimizer)"
   ]
  },
  {
   "cell_type": "markdown",
   "id": "0ea22935-24c0-46ae-b8f3-c86a2251fb8f",
   "metadata": {},
   "source": [
    "## Nesterov Accelerated Gradient"
   ]
  },
  {
   "cell_type": "code",
   "execution_count": 52,
   "id": "3978bb97-2996-4fbf-b97e-2abcbc6e867b",
   "metadata": {},
   "outputs": [
    {
     "name": "stdout",
     "output_type": "stream",
     "text": [
      "Epoch:1/10, Train Loss: 0.5454, Train Metric: 0.8047, Valid Metric: 0.8046\n",
      "Epoch:2/10, Train Loss: 0.4412, Train Metric: 0.8423, Valid Metric: 0.8442\n",
      "Epoch:3/10, Train Loss: 0.4073, Train Metric: 0.8555, Valid Metric: 0.8440\n",
      "Epoch:4/10, Train Loss: 0.3935, Train Metric: 0.8595, Valid Metric: 0.8508\n",
      "Epoch:5/10, Train Loss: 0.3798, Train Metric: 0.8654, Valid Metric: 0.8572\n",
      "Epoch:6/10, Train Loss: 0.3709, Train Metric: 0.8683, Valid Metric: 0.8642\n",
      "Epoch:7/10, Train Loss: 0.3550, Train Metric: 0.8718, Valid Metric: 0.8502\n",
      "Epoch:8/10, Train Loss: 0.3587, Train Metric: 0.8726, Valid Metric: 0.8616\n",
      "Epoch:9/10, Train Loss: 0.3458, Train Metric: 0.8759, Valid Metric: 0.8694\n",
      "Epoch:10/10, Train Loss: 0.3385, Train Metric: 0.8784, Valid Metric: 0.8628\n"
     ]
    }
   ],
   "source": [
    "model = build_model()\n",
    "optimizer = torch.optim.SGD(model.parameters(),lr=0.05, momentum=0.9, nesterov=True)\n",
    "history_nesterov, acc_nesterov = test_optimizer(model, optimizer)"
   ]
  },
  {
   "cell_type": "markdown",
   "id": "0d3f5207-bba8-4222-b0c8-4de245355ee6",
   "metadata": {},
   "source": [
    "## AdaGrad"
   ]
  },
  {
   "cell_type": "code",
   "execution_count": 54,
   "id": "611cc5b3-a4c3-4411-8ee7-1887213c42b1",
   "metadata": {},
   "outputs": [
    {
     "name": "stdout",
     "output_type": "stream",
     "text": [
      "Epoch:1/10, Train Loss: 0.5717, Train Metric: 0.8067, Valid Metric: 0.8502\n",
      "Epoch:2/10, Train Loss: 0.3812, Train Metric: 0.8583, Valid Metric: 0.8536\n",
      "Epoch:3/10, Train Loss: 0.3486, Train Metric: 0.8709, Valid Metric: 0.8658\n",
      "Epoch:4/10, Train Loss: 0.3282, Train Metric: 0.8785, Valid Metric: 0.8752\n",
      "Epoch:5/10, Train Loss: 0.3115, Train Metric: 0.8846, Valid Metric: 0.8750\n",
      "Epoch:6/10, Train Loss: 0.2992, Train Metric: 0.8886, Valid Metric: 0.8768\n",
      "Epoch:7/10, Train Loss: 0.2879, Train Metric: 0.8923, Valid Metric: 0.8792\n",
      "Epoch:8/10, Train Loss: 0.2773, Train Metric: 0.8968, Valid Metric: 0.8810\n",
      "Epoch:9/10, Train Loss: 0.2691, Train Metric: 0.8999, Valid Metric: 0.8856\n",
      "Epoch:10/10, Train Loss: 0.2602, Train Metric: 0.9033, Valid Metric: 0.8848\n"
     ]
    }
   ],
   "source": [
    "model = build_model()\n",
    "optimizer = torch.optim.Adagrad(model.parameters(),lr=0.05)\n",
    "history_adagrad, acc_adagrad = test_optimizer(model, optimizer)"
   ]
  },
  {
   "cell_type": "markdown",
   "id": "2aa171db-8883-438c-83dd-56c4a9eb3d85",
   "metadata": {},
   "source": [
    "## RMSProp"
   ]
  },
  {
   "cell_type": "code",
   "execution_count": 56,
   "id": "4002f34a-4484-4d4b-b514-2e8c4c9f15f5",
   "metadata": {},
   "outputs": [
    {
     "name": "stdout",
     "output_type": "stream",
     "text": [
      "Epoch:1/10, Train Loss: 3.1093, Train Metric: 0.3231, Valid Metric: 0.3502\n",
      "Epoch:2/10, Train Loss: 1.7068, Train Metric: 0.3391, Valid Metric: 0.3386\n",
      "Epoch:3/10, Train Loss: 1.6363, Train Metric: 0.3483, Valid Metric: 0.3698\n",
      "Epoch:4/10, Train Loss: 1.6707, Train Metric: 0.3494, Valid Metric: 0.3532\n",
      "Epoch:5/10, Train Loss: 1.7494, Train Metric: 0.3322, Valid Metric: 0.3466\n",
      "Epoch:6/10, Train Loss: 1.7111, Train Metric: 0.3401, Valid Metric: 0.3372\n",
      "Epoch:7/10, Train Loss: 1.6620, Train Metric: 0.3485, Valid Metric: 0.3550\n",
      "Epoch:8/10, Train Loss: 1.6604, Train Metric: 0.3516, Valid Metric: 0.3544\n",
      "Epoch:9/10, Train Loss: 1.6564, Train Metric: 0.3485, Valid Metric: 0.3536\n",
      "Epoch:10/10, Train Loss: 1.6123, Train Metric: 0.3594, Valid Metric: 0.3640\n"
     ]
    }
   ],
   "source": [
    "model = build_model()\n",
    "optimizer = torch.optim.RMSprop(model.parameters(),lr=0.05, alpha=0.9)\n",
    "history_rmsprop, acc_rmsprop = test_optimizer(model, optimizer)"
   ]
  },
  {
   "cell_type": "markdown",
   "id": "9405caab-8fd4-4cbf-8ea7-c771573b4717",
   "metadata": {},
   "source": [
    "## Adam"
   ]
  },
  {
   "cell_type": "code",
   "execution_count": 119,
   "id": "f18093c6-1c7f-4902-928f-1e86bd61f7bd",
   "metadata": {},
   "outputs": [
    {
     "name": "stdout",
     "output_type": "stream",
     "text": [
      "Epoch:1/10, Train Loss: 1.1077, Train Metric: 0.6148, Valid Metric: 0.5746\n",
      "Epoch:2/10, Train Loss: 1.2568, Train Metric: 0.5043, Valid Metric: 0.5606\n",
      "Epoch:3/10, Train Loss: 1.2486, Train Metric: 0.4945, Valid Metric: 0.4464\n",
      "Epoch:4/10, Train Loss: 1.4849, Train Metric: 0.3476, Valid Metric: 0.2942\n",
      "Epoch:5/10, Train Loss: 1.3237, Train Metric: 0.4254, Valid Metric: 0.4674\n",
      "Epoch:6/10, Train Loss: 1.1705, Train Metric: 0.4874, Valid Metric: 0.4998\n",
      "Epoch:7/10, Train Loss: 1.1935, Train Metric: 0.4837, Valid Metric: 0.5132\n",
      "Epoch:8/10, Train Loss: 1.2585, Train Metric: 0.4830, Valid Metric: 0.4670\n",
      "Epoch:9/10, Train Loss: 1.3580, Train Metric: 0.4284, Valid Metric: 0.3682\n",
      "Epoch:10/10, Train Loss: 1.3989, Train Metric: 0.4082, Valid Metric: 0.4248\n"
     ]
    }
   ],
   "source": [
    "model = build_model()\n",
    "optimizer = torch.optim.Adam(model.parameters(),lr=0.05, betas=(0.9,0.999))\n",
    "history_adam, acc_adam = test_optimizer(model, optimizer)"
   ]
  },
  {
   "cell_type": "markdown",
   "id": "0195ff34-f307-44e3-9f88-0d63b5de1145",
   "metadata": {},
   "source": [
    "## Adamax"
   ]
  },
  {
   "cell_type": "code",
   "execution_count": 115,
   "id": "54a06b15-aab8-4e15-9885-483bbbc09162",
   "metadata": {},
   "outputs": [
    {
     "name": "stdout",
     "output_type": "stream",
     "text": [
      "Epoch:1/10, Train Loss: 0.6353, Train Metric: 0.7917, Valid Metric: 0.8224\n",
      "Epoch:2/10, Train Loss: 0.4789, Train Metric: 0.8291, Valid Metric: 0.8188\n",
      "Epoch:3/10, Train Loss: 0.4540, Train Metric: 0.8393, Valid Metric: 0.8474\n",
      "Epoch:4/10, Train Loss: 0.4290, Train Metric: 0.8471, Valid Metric: 0.8300\n",
      "Epoch:5/10, Train Loss: 0.4163, Train Metric: 0.8513, Valid Metric: 0.8518\n",
      "Epoch:6/10, Train Loss: 0.4086, Train Metric: 0.8544, Valid Metric: 0.8548\n",
      "Epoch:7/10, Train Loss: 0.3976, Train Metric: 0.8585, Valid Metric: 0.8424\n",
      "Epoch:8/10, Train Loss: 0.3927, Train Metric: 0.8600, Valid Metric: 0.8494\n",
      "Epoch:9/10, Train Loss: 0.3843, Train Metric: 0.8632, Valid Metric: 0.8580\n",
      "Epoch:10/10, Train Loss: 0.3791, Train Metric: 0.8669, Valid Metric: 0.8502\n"
     ]
    }
   ],
   "source": [
    "model = build_model()\n",
    "optimizer = torch.optim.Adamax(model.parameters(),lr=0.05, betas=(0.9,0.999))\n",
    "history_adamax , acc_adamax = test_optimizer(model, optimizer)"
   ]
  },
  {
   "cell_type": "markdown",
   "id": "b989919c-b81d-460e-8166-619e6f1b1c0e",
   "metadata": {},
   "source": [
    "## Nadam"
   ]
  },
  {
   "cell_type": "code",
   "execution_count": 62,
   "id": "8eb822ee-5eec-41e3-9ffb-7683a6653d79",
   "metadata": {},
   "outputs": [
    {
     "name": "stdout",
     "output_type": "stream",
     "text": [
      "Epoch:1/10, Train Loss: 1.1779, Train Metric: 0.5618, Valid Metric: 0.5968\n",
      "Epoch:2/10, Train Loss: 1.2334, Train Metric: 0.4652, Valid Metric: 0.4804\n",
      "Epoch:3/10, Train Loss: 1.2562, Train Metric: 0.4620, Valid Metric: 0.4356\n",
      "Epoch:4/10, Train Loss: 1.3521, Train Metric: 0.4198, Valid Metric: 0.4214\n",
      "Epoch:5/10, Train Loss: 1.3316, Train Metric: 0.4295, Valid Metric: 0.4254\n",
      "Epoch:6/10, Train Loss: 1.3217, Train Metric: 0.4249, Valid Metric: 0.4158\n",
      "Epoch:7/10, Train Loss: 1.3316, Train Metric: 0.4234, Valid Metric: 0.4364\n",
      "Epoch:8/10, Train Loss: 1.3274, Train Metric: 0.4269, Valid Metric: 0.4308\n",
      "Epoch:9/10, Train Loss: 1.3482, Train Metric: 0.4268, Valid Metric: 0.3884\n",
      "Epoch:10/10, Train Loss: 1.3604, Train Metric: 0.4142, Valid Metric: 0.4344\n"
     ]
    }
   ],
   "source": [
    "model = build_model()\n",
    "optimizer = torch.optim.NAdam(model.parameters(),lr=0.05, betas=(0.9,0.99))\n",
    "history_nadam , acc_nadam = test_optimizer(model, optimizer)"
   ]
  },
  {
   "cell_type": "markdown",
   "id": "8982a373-7433-4694-a82d-f1cff4996163",
   "metadata": {},
   "source": [
    "## AdamW"
   ]
  },
  {
   "cell_type": "code",
   "execution_count": 120,
   "id": "f5f073ce-13ca-4ad0-9b2a-84d0787ac90f",
   "metadata": {},
   "outputs": [
    {
     "name": "stdout",
     "output_type": "stream",
     "text": [
      "Epoch:1/10, Train Loss: 1.1911, Train Metric: 0.5746, Valid Metric: 0.3020\n",
      "Epoch:2/10, Train Loss: 1.5292, Train Metric: 0.3055, Valid Metric: 0.2046\n",
      "Epoch:3/10, Train Loss: 1.7541, Train Metric: 0.1993, Valid Metric: 0.2044\n",
      "Epoch:4/10, Train Loss: 2.1530, Train Metric: 0.1304, Valid Metric: 0.0934\n",
      "Epoch:5/10, Train Loss: 2.3085, Train Metric: 0.1012, Valid Metric: 0.1002\n",
      "Epoch:6/10, Train Loss: 2.3087, Train Metric: 0.1000, Valid Metric: 0.0994\n",
      "Epoch:7/10, Train Loss: 2.3091, Train Metric: 0.0977, Valid Metric: 0.0980\n",
      "Epoch:8/10, Train Loss: 2.3094, Train Metric: 0.0974, Valid Metric: 0.0980\n",
      "Epoch:9/10, Train Loss: 2.3093, Train Metric: 0.1009, Valid Metric: 0.0994\n",
      "Epoch:10/10, Train Loss: 2.3094, Train Metric: 0.0973, Valid Metric: 0.1042\n"
     ]
    }
   ],
   "source": [
    "model = build_model()\n",
    "optimizer = torch.optim.AdamW(model.parameters(),lr=0.05, betas=(0.9,0.999),\n",
    "                             weight_decay=1e-5)\n",
    "history_adamw, acc_adamw = test_optimizer(model, optimizer)"
   ]
  },
  {
   "cell_type": "code",
   "execution_count": 123,
   "id": "922675ea-a18d-4a16-8411-9f18d9aafc09",
   "metadata": {},
   "outputs": [
    {
     "data": {
      "image/png": "[encoded data removed]",
      "text/plain": [
       "<Figure size 800x400 with 1 Axes>"
      ]
     },
     "metadata": {},
     "output_type": "display_data"
    },
    {
     "data": {
      "image/png": "[encoded data removed]",
      "text/plain": [
       "<Figure size 800x400 with 1 Axes>"
      ]
     },
     "metadata": {},
     "output_type": "display_data"
    }
   ],
   "source": [
    "for plot in (\"train_metrics\",\"valid_metrics\"):\n",
    "    plt.figure(figsize=(8, 4))\n",
    "    opt_names = \"SGD Momentum Nesterov AdaGrad RMSProp Adam Adamax Nadam AdamW\"\n",
    "    for history, opt_name in zip(\n",
    "        (history_sgd, history_momentum, history_nesterov, history_adagrad,\n",
    "         history_rmsprop, history_adam, history_adamax, history_nadam,\n",
    "         history_adamw),opt_names.split()):\n",
    "        plt.plot(history[plot], label=opt_name)\n",
    "    plt.grid()\n",
    "    plt.xlabel(\"Epochs\")\n",
    "    plt.ylabel({\"train_metrics\":\"Train Accuracy\",\"valid_metrics\":\"Valid Accuracy\"}[plot])\n",
    "    plt.legend()\n",
    "    plt.show()\n",
    "    "
   ]
  },
  {
   "cell_type": "markdown",
   "id": "c69d15c7-20b0-49e2-81cc-cba94534071a",
   "metadata": {},
   "source": [
    "# Learning Rate Scheduling"
   ]
  },
  {
   "cell_type": "markdown",
   "id": "10ee33a2-a1cf-43ed-8897-5533014d9621",
   "metadata": {},
   "source": [
    "### Exponential LR"
   ]
  },
  {
   "cell_type": "code",
   "execution_count": 177,
   "id": "0f866bca-abc6-408e-9b42-890b724b7362",
   "metadata": {},
   "outputs": [
    {
     "data": {
      "image/png": "[encoded data removed]",
      "text/plain": [
       "<Figure size 500x300 with 1 Axes>"
      ]
     },
     "metadata": {},
     "output_type": "display_data"
    }
   ],
   "source": [
    "initial_lr = 0.1 \n",
    "decay_rate = 0.95 \n",
    "epochs = 100      \n",
    "epochs_list = np.arange(0, epochs)\n",
    "lr_decay = initial_lr * decay_rate**epochs_list\n",
    "\n",
    "plt.figure(figsize=(5, 3))\n",
    "plt.plot(epochs_list, lr_decay, label=f'Initial LR: {initial_lr}, Decay Rate: {decay_rate}')\n",
    "plt.title('Exponential LR Decay')\n",
    "plt.xlabel('Epochs')\n",
    "plt.ylabel('Learning Rate')\n",
    "plt.legend()\n",
    "plt.grid(True)"
   ]
  },
  {
   "cell_type": "code",
   "execution_count": 187,
   "id": "cef4705d-b878-4796-865b-67cf4b1a220d",
   "metadata": {},
   "outputs": [],
   "source": [
    "model = build_model()\n",
    "optimizer = torch.optim.SGD(model.parameters(), lr=0.05, momentum=0.9)\n",
    "exp_scheduler = torch.optim.lr_scheduler.ExponentialLR(optimizer, gamma=0.9)"
   ]
  },
  {
   "cell_type": "code",
   "execution_count": 189,
   "id": "fb19fc1b-9407-45a3-9ad7-5a727cd72300",
   "metadata": {},
   "outputs": [],
   "source": [
    "def train_with_scheduler(model, optimizer, criterion, metric, train_loader,\n",
    "                        valid_loader, n_epochs, scheduler):\n",
    "    history = {\"train_losses\":[], \"train_metrics\":[],\"valid_metrics\":[]}\n",
    "    for epoch in range(n_epochs):\n",
    "        total_loss = 0\n",
    "        metric.reset()\n",
    "        model.train()\n",
    "        for X_batch, y_batch in train_loader:\n",
    "            X_batch, y_batch = X_batch.to(device), y_batch.to(device)\n",
    "            y_pred = model(X_batch)\n",
    "            loss = criterion(y_pred, y_batch)\n",
    "            total_loss += loss.item()\n",
    "            loss.backward()\n",
    "            optimizer.step()\n",
    "            optimizer.zero_grad()\n",
    "            metric.update(y_pred, y_batch)\n",
    "        mean_loss = total_loss / len(train_loader)\n",
    "        history[\"train_losses\"].append(mean_loss)\n",
    "        history[\"train_metrics\"].append(metric.compute().item())\n",
    "        valid_metric = evaluate_tm(model, valid_loader, metric).item()\n",
    "        history[\"valid_metrics\"].append(valid_metric)\n",
    "        print(f\"Epoch:{epoch+1}/{n_epochs}, \"\n",
    "             f\"Train Loss: {history['train_losses'][-1]:.4f}, \"\n",
    "             f\"Train Metric: {history['train_metrics'][-1]:.4f}, \"\n",
    "             f\"Valid Metric: {history['valid_metrics'][-1]:.4f}\")\n",
    "        if isinstance(scheduler, torch.optim.lr_scheduler.ReduceLROnPlateau):\n",
    "            scheduler.step(valid_metric)\n",
    "        else:\n",
    "            scheduler.step()\n",
    "        print(f\"Learning Rate: {scheduler.get_last_lr()[0]:.5f}\")\n",
    "    return history\n",
    "\n",
    "def train_scheduler(model, optimizer, scheduler, n_epochs=10, batch_size=32):\n",
    "    train_loader = DataLoader(train_set, batch_size=32, shuffle=True)\n",
    "    valid_loader = DataLoader(valid_set, batch_size=32)\n",
    "    test_loader = DataLoader(test_set, batch_size=32)\n",
    "    xentropy = nn.CrossEntropyLoss()\n",
    "    metric = torchmetrics.Accuracy(task=\"multiclass\", num_classes=10).to(device)\n",
    "    history = train_with_scheduler(model, optimizer, xentropy, metric, train_loader,\n",
    "                                  valid_loader, n_epochs, scheduler)\n",
    "    return history, evaluate_tm(model, test_loader, metric)\n"
   ]
  },
  {
   "cell_type": "code",
   "execution_count": 191,
   "id": "f023d691-0003-4df4-8812-510bbdaed50d",
   "metadata": {},
   "outputs": [
    {
     "name": "stdout",
     "output_type": "stream",
     "text": [
      "Epoch:1/10, Train Loss: 0.6046, Train Metric: 0.7787, Valid Metric: 0.8088\n",
      "Learning Rate: 0.04500\n",
      "Epoch:2/10, Train Loss: 0.4581, Train Metric: 0.8342, Valid Metric: 0.8392\n",
      "Learning Rate: 0.04050\n",
      "Epoch:3/10, Train Loss: 0.4123, Train Metric: 0.8511, Valid Metric: 0.8432\n",
      "Learning Rate: 0.03645\n",
      "Epoch:4/10, Train Loss: 0.3782, Train Metric: 0.8620, Valid Metric: 0.8498\n",
      "Learning Rate: 0.03281\n",
      "Epoch:5/10, Train Loss: 0.3580, Train Metric: 0.8692, Valid Metric: 0.8618\n",
      "Learning Rate: 0.02952\n",
      "Epoch:6/10, Train Loss: 0.3411, Train Metric: 0.8749, Valid Metric: 0.8702\n",
      "Learning Rate: 0.02657\n",
      "Epoch:7/10, Train Loss: 0.3205, Train Metric: 0.8807, Valid Metric: 0.8716\n",
      "Learning Rate: 0.02391\n",
      "Epoch:8/10, Train Loss: 0.3087, Train Metric: 0.8860, Valid Metric: 0.8642\n",
      "Learning Rate: 0.02152\n",
      "Epoch:9/10, Train Loss: 0.2955, Train Metric: 0.8897, Valid Metric: 0.8788\n",
      "Learning Rate: 0.01937\n",
      "Epoch:10/10, Train Loss: 0.2841, Train Metric: 0.8937, Valid Metric: 0.8790\n",
      "Learning Rate: 0.01743\n"
     ]
    }
   ],
   "source": [
    "history_exp, acc_exp = train_scheduler(model, optimizer, exp_scheduler)"
   ]
  },
  {
   "cell_type": "markdown",
   "id": "e2a1e52c-f953-4669-b7c8-7a715ed50151",
   "metadata": {},
   "source": [
    "### Reduce On Plateau"
   ]
  },
  {
   "cell_type": "code",
   "execution_count": 196,
   "id": "79ee7d3e-4e59-42cf-86ba-3206150fd79f",
   "metadata": {},
   "outputs": [],
   "source": [
    "model = build_model()\n",
    "optimizer = torch.optim.SGD(model.parameters(), lr=0.05, momentum=0.9)\n",
    "perf_scheduler = torch.optim.lr_scheduler.ReduceLROnPlateau(\n",
    "    optimizer, mode=\"max\", patience=2, factor=0.1)"
   ]
  },
  {
   "cell_type": "code",
   "execution_count": 198,
   "id": "247bf3d0-3ebe-4f1b-9e95-84c205a580d5",
   "metadata": {},
   "outputs": [
    {
     "name": "stdout",
     "output_type": "stream",
     "text": [
      "Epoch:1/10, Train Loss: 0.6046, Train Metric: 0.7787, Valid Metric: 0.8088\n",
      "Learning Rate: 0.05000\n",
      "Epoch:2/10, Train Loss: 0.4719, Train Metric: 0.8318, Valid Metric: 0.8394\n",
      "Learning Rate: 0.05000\n",
      "Epoch:3/10, Train Loss: 0.4359, Train Metric: 0.8439, Valid Metric: 0.8480\n",
      "Learning Rate: 0.05000\n",
      "Epoch:4/10, Train Loss: 0.4111, Train Metric: 0.8531, Valid Metric: 0.8488\n",
      "Learning Rate: 0.05000\n",
      "Epoch:5/10, Train Loss: 0.3938, Train Metric: 0.8603, Valid Metric: 0.8648\n",
      "Learning Rate: 0.05000\n",
      "Epoch:6/10, Train Loss: 0.3849, Train Metric: 0.8636, Valid Metric: 0.8662\n",
      "Learning Rate: 0.05000\n",
      "Epoch:7/10, Train Loss: 0.3725, Train Metric: 0.8653, Valid Metric: 0.8622\n",
      "Learning Rate: 0.05000\n",
      "Epoch:8/10, Train Loss: 0.3708, Train Metric: 0.8682, Valid Metric: 0.8674\n",
      "Learning Rate: 0.05000\n",
      "Epoch:9/10, Train Loss: 0.3577, Train Metric: 0.8725, Valid Metric: 0.8654\n",
      "Learning Rate: 0.05000\n",
      "Epoch:10/10, Train Loss: 0.3502, Train Metric: 0.8758, Valid Metric: 0.8666\n",
      "Learning Rate: 0.05000\n"
     ]
    }
   ],
   "source": [
    "history_perf, acc_perf = train_scheduler(model, optimizer, perf_scheduler)"
   ]
  },
  {
   "cell_type": "markdown",
   "id": "8ec308b9-b0d2-4343-95c2-4f61e94e2251",
   "metadata": {},
   "source": [
    "### With Warmup"
   ]
  },
  {
   "cell_type": "code",
   "execution_count": 201,
   "id": "e142dd50-1c70-4a22-9374-c7b6eba2b256",
   "metadata": {},
   "outputs": [],
   "source": [
    "model = build_model()\n",
    "optimizer = torch.optim.SGD(model.parameters(), lr=0.05, momentum=0.9)\n",
    "warmup_scheduler = torch.optim.lr_scheduler.LinearLR(\n",
    "    optimizer, start_factor=0.1, end_factor=1.0, total_iters=3\n",
    ")"
   ]
  },
  {
   "cell_type": "code",
   "execution_count": 203,
   "id": "f796276d-2ea7-4355-8841-dcf84280bcf1",
   "metadata": {},
   "outputs": [],
   "source": [
    "# same as above \n",
    "model = build_model()\n",
    "optimizer = torch.optim.SGD(model.parameters(), lr=0.05, momentum=0.9)\n",
    "warmup_scheduler = torch.optim.lr_scheduler.LambdaLR(\n",
    "    optimizer,\n",
    "    lambda epoch: (min(epoch,3)/3) * (1.0 - 0.1) + 0.1)\n"
   ]
  },
  {
   "cell_type": "code",
   "execution_count": 211,
   "id": "95712595-480f-4f52-beaf-57d2bc91d0a7",
   "metadata": {},
   "outputs": [],
   "source": [
    "def train_with_warmup(model, optimizer, criterion, metric, train_loader,\n",
    "                     valid_loader, n_epochs, warmup_scheduler, scheduler):\n",
    "    history = {\"train_losses\":[], \"train_metrics\":[],\"valid_metrics\":[]}\n",
    "    for epoch in range(n_epochs):\n",
    "        total_loss = []\n",
    "        metric.reset()\n",
    "        model.train()\n",
    "\n",
    "        warmup_scheduler.step()\n",
    "\n",
    "        for X_batch, y_batch in train_loader:\n",
    "            X_batch, y_batch = X_batch.to(device), y_batch.to(device)\n",
    "            y_pred = model(X_batch)\n",
    "            loss = criterion(y_pred, y_batch)\n",
    "            total_loss.append(loss.item())\n",
    "            loss.backward()\n",
    "            optimizer.step()\n",
    "            optimizer.zero_grad()\n",
    "            metric.update(y_pred, y_batch)\n",
    "        history[\"train_losses\"].append(np.mean(total_loss))\n",
    "        history[\"train_metrics\"].append(metric.compute().item())\n",
    "        valid_metric = evaluate_tm(model, valid_loader, metric).item()\n",
    "        history[\"valid_metrics\"].append(valid_metric)\n",
    "        print(f\"Epoch:{epoch+1}/{n_epochs}, \"\n",
    "             f\"Train Loss: {history['train_losses'][-1]:.4f}, \"\n",
    "             f\"Train Metric: {history['train_metrics'][-1]:.4f}, \"\n",
    "             f\"Valid Metric: {history['valid_metrics'][-1]:.4f}\")\n",
    "        if epoch >= 3:\n",
    "            scheduler.step(valid_metric)\n",
    "\n",
    "        print(f\"Learning Rate: {scheduler.get_last_lr()[0]:.5f}\")\n",
    "    return history\n",
    "\n",
    "def test_warmup_scheduler(model, optimizer, warmup_scheduler, scheduler,\n",
    "                         n_epochs=10, batch_size=32):\n",
    "    train_loader = DataLoader(train_set, batch_size=32, shuffle=True)\n",
    "    valid_loader = DataLoader(valid_set, batch_size=32)\n",
    "    test_loader = DataLoader(test_set, batch_size=32)\n",
    "\n",
    "    xentropy = nn.CrossEntropyLoss()\n",
    "    metric = torchmetrics.Accuracy(task=\"multiclass\", num_classes=10).to(device)\n",
    "    history = train_with_warmup(model, optimizer, xentropy, metric, train_loader, \n",
    "                               valid_loader, n_epochs, warmup_scheduler, scheduler)\n",
    "    return history, evaluate_tm(model, test_loader, metric)\n"
   ]
  },
  {
   "cell_type": "code",
   "execution_count": 213,
   "id": "62aa8556-f80c-4785-b5e5-0b5e4e0b793e",
   "metadata": {},
   "outputs": [
    {
     "name": "stdout",
     "output_type": "stream",
     "text": [
      "Epoch:1/10, Train Loss: 0.4656, Train Metric: 0.8319, Valid Metric: 0.8458\n",
      "Learning Rate: 0.02000\n",
      "Epoch:2/10, Train Loss: 0.4653, Train Metric: 0.8345, Valid Metric: 0.8320\n",
      "Learning Rate: 0.02000\n",
      "Epoch:3/10, Train Loss: 0.4161, Train Metric: 0.8512, Valid Metric: 0.8470\n",
      "Learning Rate: 0.02000\n",
      "Epoch:4/10, Train Loss: 0.3965, Train Metric: 0.8588, Valid Metric: 0.8464\n",
      "Learning Rate: 0.05000\n",
      "Epoch:5/10, Train Loss: 0.3848, Train Metric: 0.8624, Valid Metric: 0.8526\n",
      "Learning Rate: 0.05000\n",
      "Epoch:6/10, Train Loss: 0.3686, Train Metric: 0.8677, Valid Metric: 0.8616\n",
      "Learning Rate: 0.05000\n",
      "Epoch:7/10, Train Loss: 0.3591, Train Metric: 0.8723, Valid Metric: 0.8350\n",
      "Learning Rate: 0.05000\n",
      "Epoch:8/10, Train Loss: 0.3502, Train Metric: 0.8741, Valid Metric: 0.8692\n",
      "Learning Rate: 0.05000\n",
      "Epoch:9/10, Train Loss: 0.3423, Train Metric: 0.8785, Valid Metric: 0.8658\n",
      "Learning Rate: 0.05000\n",
      "Epoch:10/10, Train Loss: 0.3430, Train Metric: 0.8765, Valid Metric: 0.8624\n",
      "Learning Rate: 0.05000\n"
     ]
    },
    {
     "data": {
      "text/plain": [
       "({'train_losses': [0.46559179742420187,\n",
       "   0.46528198573913876,\n",
       "   0.4160864388417407,\n",
       "   0.396535389259709,\n",
       "   0.384760552311859,\n",
       "   0.36861627045726275,\n",
       "   0.3591259144562979,\n",
       "   0.3502190231717798,\n",
       "   0.3423277604555654,\n",
       "   0.3430107051724435],\n",
       "  'train_metrics': [0.8318727016448975,\n",
       "   0.8345272541046143,\n",
       "   0.8511999845504761,\n",
       "   0.8587636351585388,\n",
       "   0.8623636364936829,\n",
       "   0.867690920829773,\n",
       "   0.8722727298736572,\n",
       "   0.8741272687911987,\n",
       "   0.8785091042518616,\n",
       "   0.8764908909797668],\n",
       "  'valid_metrics': [0.84579998254776,\n",
       "   0.8320000171661377,\n",
       "   0.847000002861023,\n",
       "   0.8464000225067139,\n",
       "   0.8525999784469604,\n",
       "   0.8615999817848206,\n",
       "   0.8349999785423279,\n",
       "   0.8691999912261963,\n",
       "   0.8658000230789185,\n",
       "   0.8623999953269958]},\n",
       " tensor(0.8539, device='mps:0'))"
      ]
     },
     "execution_count": 213,
     "metadata": {},
     "output_type": "execute_result"
    }
   ],
   "source": [
    "perf_scheduler = torch.optim.lr_scheduler.ReduceLROnPlateau(\n",
    "    optimizer, mode=\"max\", patience=2, factor=0.1)\n",
    "test_warmup_scheduler(model, optimizer, warmup_scheduler, perf_scheduler)"
   ]
  }
 ],
 "metadata": {
  "kernelspec": {
   "display_name": "Python [conda env:base] *",
   "language": "python",
   "name": "conda-base-py"
  },
  "language_info": {
   "codemirror_mode": {
    "name": "ipython",
    "version": 3
   },
   "file_extension": ".py",
   "mimetype": "text/x-python",
   "name": "python",
   "nbconvert_exporter": "python",
   "pygments_lexer": "ipython3",
   "version": "3.12.2"
  }
 },
 "nbformat": 4,
 "nbformat_minor": 5
}
