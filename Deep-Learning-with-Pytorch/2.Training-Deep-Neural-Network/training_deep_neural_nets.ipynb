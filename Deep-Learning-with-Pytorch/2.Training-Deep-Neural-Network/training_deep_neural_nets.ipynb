{
 "cells": [
  {
   "cell_type": "markdown",
   "id": "a2c74773-ac49-4134-a203-5b0239babf92",
   "metadata": {},
   "source": [
    "# Vanishing/Exploding Gradients Problem"
   ]
  },
  {
   "cell_type": "markdown",
   "id": "2e8d6dee-2cb2-4312-851a-b6bba47aa607",
   "metadata": {},
   "source": [
    "## Glorot and He Initialization"
   ]
  },
  {
   "cell_type": "code",
   "execution_count": 4,
   "id": "8c6051ab-e0fe-4d3a-b464-e214a6d7e006",
   "metadata": {},
   "outputs": [
    {
     "data": {
      "text/plain": [
       "torch.Size([10, 40])"
      ]
     },
     "execution_count": 4,
     "metadata": {},
     "output_type": "execute_result"
    }
   ],
   "source": [
    "import torch\n",
    "import torch.nn as nn\n",
    "\n",
    "layer = nn.Linear(40, 10)\n",
    "layer.weight.shape"
   ]
  },
  {
   "cell_type": "code",
   "execution_count": 5,
   "id": "86061d68-7548-40ab-a42a-1369869d95ff",
   "metadata": {},
   "outputs": [
    {
     "data": {
      "text/plain": [
       "tensor([ 0.0031, -0.0553,  0.1199, -0.0687, -0.0569,  0.1145, -0.1544,  0.0588,\n",
       "         0.0453, -0.0511,  0.1396,  0.1391,  0.1229,  0.0197,  0.0849, -0.0799,\n",
       "        -0.1532, -0.0577,  0.0382, -0.1125,  0.0491,  0.0354, -0.0621,  0.1511,\n",
       "        -0.0100, -0.0394, -0.0674, -0.0295, -0.0391,  0.0857,  0.0319, -0.1510,\n",
       "         0.1568,  0.1515, -0.0783, -0.1184, -0.0896,  0.1301,  0.0737,  0.1429])"
      ]
     },
     "execution_count": 5,
     "metadata": {},
     "output_type": "execute_result"
    }
   ],
   "source": [
    "layer.weight.data[0] "
   ]
  },
  {
   "cell_type": "code",
   "execution_count": 6,
   "id": "1a4943bf-7711-43cb-9907-bb4769c27cac",
   "metadata": {},
   "outputs": [],
   "source": [
    "layer.weight.data *= 6**0.5  # He init"
   ]
  },
  {
   "cell_type": "code",
   "execution_count": 7,
   "id": "ba3dbb11-227d-410e-a2b3-76f740ea5dc0",
   "metadata": {},
   "outputs": [
    {
     "data": {
      "text/plain": [
       "tensor([ 0.0076, -0.1355,  0.2938, -0.1683, -0.1393,  0.2806, -0.3782,  0.1440,\n",
       "         0.1110, -0.1253,  0.3420,  0.3408,  0.3010,  0.0483,  0.2079, -0.1956,\n",
       "        -0.3753, -0.1414,  0.0935, -0.2756,  0.1204,  0.0868, -0.1522,  0.3701,\n",
       "        -0.0246, -0.0965, -0.1652, -0.0724, -0.0957,  0.2100,  0.0781, -0.3699,\n",
       "         0.3842,  0.3712, -0.1918, -0.2899, -0.2195,  0.3186,  0.1805,  0.3500])"
      ]
     },
     "execution_count": 7,
     "metadata": {},
     "output_type": "execute_result"
    }
   ],
   "source": [
    "layer.weight.data[0]"
   ]
  },
  {
   "cell_type": "code",
   "execution_count": 8,
   "id": "b053d66d-9c28-45b2-89f2-ceb0623bf0fa",
   "metadata": {},
   "outputs": [
    {
     "data": {
      "text/plain": [
       "tensor([ 0.1438, -0.0571,  0.0083, -0.0700,  0.0546,  0.0472, -0.0023, -0.1571,\n",
       "         0.0165,  0.0189])"
      ]
     },
     "execution_count": 8,
     "metadata": {},
     "output_type": "execute_result"
    }
   ],
   "source": [
    "layer.bias.data"
   ]
  },
  {
   "cell_type": "code",
   "execution_count": 9,
   "id": "15b0dd83-e91f-4d88-92ef-e72066631b0f",
   "metadata": {},
   "outputs": [
    {
     "data": {
      "text/plain": [
       "tensor([0., 0., 0., 0., 0., 0., 0., 0., 0., 0.])"
      ]
     },
     "execution_count": 9,
     "metadata": {},
     "output_type": "execute_result"
    }
   ],
   "source": [
    "torch.zero_(layer.bias.data)"
   ]
  },
  {
   "cell_type": "code",
   "execution_count": 10,
   "id": "efb0cfb3-fec8-40a7-bafb-d2867931de56",
   "metadata": {},
   "outputs": [
    {
     "data": {
      "text/plain": [
       "Parameter containing:\n",
       "tensor([0., 0., 0., 0., 0., 0., 0., 0., 0., 0.], requires_grad=True)"
      ]
     },
     "execution_count": 10,
     "metadata": {},
     "output_type": "execute_result"
    }
   ],
   "source": [
    "layer = nn.Linear(40, 10)\n",
    "nn.init.kaiming_uniform_(layer.weight)\n",
    "nn.init.zeros_(layer.bias)"
   ]
  },
  {
   "cell_type": "code",
   "execution_count": 11,
   "id": "4c1f874f-53a9-4823-a93a-1d59eb43da07",
   "metadata": {},
   "outputs": [
    {
     "data": {
      "text/plain": [
       "Sequential(\n",
       "  (0): Linear(in_features=40, out_features=30, bias=True)\n",
       "  (1): ReLU()\n",
       "  (2): Linear(in_features=30, out_features=1, bias=True)\n",
       "  (3): ReLU()\n",
       ")"
      ]
     },
     "execution_count": 11,
     "metadata": {},
     "output_type": "execute_result"
    }
   ],
   "source": [
    "def use_he_init(module):\n",
    "    if isinstance(module, nn.Linear):\n",
    "        nn.init.kaiming_uniform_(module.weight)\n",
    "        nn.init.zeros_(module.bias)\n",
    "model = nn.Sequential(nn.Linear(40, 30), nn.ReLU(), nn.Linear(30, 1), nn.ReLU())\n",
    "model.apply(use_he_init)"
   ]
  },
  {
   "cell_type": "code",
   "execution_count": 12,
   "id": "cb0f3099-f302-4632-be65-0026a51eb9c7",
   "metadata": {},
   "outputs": [
    {
     "data": {
      "text/plain": [
       "Sequential(\n",
       "  (0): Linear(in_features=40, out_features=10, bias=True)\n",
       "  (1): LeakyReLU(negative_slope=0.2)\n",
       ")"
      ]
     },
     "execution_count": 12,
     "metadata": {},
     "output_type": "execute_result"
    }
   ],
   "source": [
    "model = nn.Sequential(nn.Linear(40, 10), nn.LeakyReLU(negative_slope=0.2))  # alpha is negative slope\n",
    "model.apply(use_he_init)"
   ]
  },
  {
   "cell_type": "markdown",
   "id": "51641520-9ca2-4ebe-894c-a191123cd9bf",
   "metadata": {},
   "source": [
    "## Better Activation Functions"
   ]
  },
  {
   "cell_type": "markdown",
   "id": "556f7910-0fb3-4db5-b165-a874aca8c15a",
   "metadata": {},
   "source": [
    "### Leaky ReLU"
   ]
  },
  {
   "cell_type": "code",
   "execution_count": 15,
   "id": "67c004be-1cc3-4069-a756-f9f0e8c00173",
   "metadata": {},
   "outputs": [],
   "source": [
    "def leaky_relu(z, alpha):\n",
    "    return np.maximum(alpha * z, z)"
   ]
  },
  {
   "cell_type": "code",
   "execution_count": 16,
   "id": "fb838bda-75d8-4665-8ec2-c3c738dfe6bb",
   "metadata": {},
   "outputs": [
    {
     "data": {
      "image/png": "[encoded data removed]",
      "text/plain": [
       "<Figure size 400x200 with 1 Axes>"
      ]
     },
     "metadata": {},
     "output_type": "display_data"
    }
   ],
   "source": [
    "import numpy as np\n",
    "import matplotlib.pyplot as plt\n",
    "\n",
    "z = np.linspace(-5, 5, 200)\n",
    "plt.figure(figsize=(4,2))\n",
    "plt.plot(z, leaky_relu(z,0.1) , \"-\")\n",
    "plt.plot([-5,5] ,[0,0] , \"k-\")\n",
    "plt.plot([0,0] ,[-1,4] , \"k-\")\n",
    "plt.axis([-5, 5 , -1, 4])\n",
    "plt.title(\"Leaky ReLU\")\n",
    "plt.xlabel(\"Z\")\n",
    "plt.axis()\n",
    "plt.show()"
   ]
  },
  {
   "cell_type": "code",
   "execution_count": 17,
   "id": "9713b2b7-f410-42b1-9952-ccac1921e458",
   "metadata": {},
   "outputs": [
    {
     "data": {
      "text/plain": [
       "torch.Size([2, 40])"
      ]
     },
     "execution_count": 17,
     "metadata": {},
     "output_type": "execute_result"
    }
   ],
   "source": [
    "torch.manual_seed(42)\n",
    "alpha = 0.2\n",
    "model = nn.Sequential(nn.Linear(50, 40), nn.LeakyReLU(negative_slope=alpha))\n",
    "nn.init.kaiming_uniform_(model[0].weight, alpha, nonlinearity=\"leaky_relu\")\n",
    "model(torch.rand(2,50)).shape"
   ]
  },
  {
   "cell_type": "markdown",
   "id": "27a9fddb-99b4-4608-aad4-c351f4ca993f",
   "metadata": {},
   "source": [
    "## Batch Normalization"
   ]
  },
  {
   "cell_type": "code",
   "execution_count": 19,
   "id": "ab45c1b2-5b0a-4594-a93f-3323b3d01984",
   "metadata": {},
   "outputs": [],
   "source": [
    "class MyBatchNorm(nn.Module):\n",
    "    def __init__(self, num_features, eps=1e-5, momentum=0.1):\n",
    "        super().__init__()\n",
    "        self.eps = eps\n",
    "        self.momentum = momentum\n",
    "\n",
    "        #Learning Parameters\n",
    "        self.gamma = nn.Parameter(torch.ones(num_features))\n",
    "        self.beta = nn.Parameter(torch.zeros(num_features))\n",
    "\n",
    "        #Running stats (for inference time)\n",
    "        self.register_buffer(\"running_mean\", torch.zeros(num_features))\n",
    "        self.register_buffer(\"running_var\", torch.ones(num_features))\n",
    "\n",
    "    def forward(self, X):\n",
    "        if self.training:\n",
    "            batch_mean = X.mean(dim=0)\n",
    "            batch_var = X.var(dim=0, unbiased=False)  # by default sample variance(1/N-1),now population variance(1/N)\n",
    "            \n",
    "            #Normalize\n",
    "            X_hat = (X - batch_mean) / torch.sqrt(batch_var + self.eps)\n",
    "\n",
    "            #Update running stats\n",
    "            self.running_mean = (1 - self.momentum) * self.running_mean + self.momentum * batch_mean\n",
    "            self.running_var = (1 - self.momentum) * self.running_var + self.momentum * batch_var\n",
    "        else:\n",
    "            X_hat = (X - self.running_mean) / torch.sqrt(self.running_var + self.eps)\n",
    "\n",
    "        out = self.gamma * X_hat + self.beta\n",
    "        return out"
   ]
  },
  {
   "cell_type": "code",
   "execution_count": 20,
   "id": "974f5166-5ee0-40f2-914d-8554850b0135",
   "metadata": {},
   "outputs": [],
   "source": [
    "torch.manual_seed(42)\n",
    "model1 = nn.Sequential(\n",
    "    nn.Flatten(),\n",
    "    MyBatchNorm(1 * 28 * 28),\n",
    "    nn.Linear(1 * 28 * 28, 300),\n",
    "    nn.ReLU(),\n",
    "    MyBatchNorm(300),\n",
    "    nn.Linear(300, 100),\n",
    "    nn.ReLU(),\n",
    "    MyBatchNorm(100),\n",
    "    nn.Linear(100, 10)\n",
    ")"
   ]
  },
  {
   "cell_type": "code",
   "execution_count": 21,
   "id": "c9572b2f-b8a0-4f5f-bc7a-2e796f4b8fbb",
   "metadata": {},
   "outputs": [
    {
     "data": {
      "text/plain": [
       "dict_keys(['gamma', 'beta'])"
      ]
     },
     "execution_count": 21,
     "metadata": {},
     "output_type": "execute_result"
    }
   ],
   "source": [
    "dict(model1[1].named_parameters()).keys()"
   ]
  },
  {
   "cell_type": "code",
   "execution_count": 22,
   "id": "ca0cdd8e-c88f-4fe7-99a5-1ce3e65d1c74",
   "metadata": {},
   "outputs": [
    {
     "data": {
      "text/plain": [
       "dict_keys(['running_mean', 'running_var'])"
      ]
     },
     "execution_count": 22,
     "metadata": {},
     "output_type": "execute_result"
    }
   ],
   "source": [
    "dict(model1[1].named_buffers()).keys()"
   ]
  },
  {
   "cell_type": "code",
   "execution_count": 23,
   "id": "6b1b16d0-ff3b-4452-aed0-87ac3a38cfa8",
   "metadata": {},
   "outputs": [
    {
     "data": {
      "text/plain": [
       "tensor([[ 0.0200,  1.4500, -0.3600,  0.6600, -0.6800,  0.7700,  0.2500,  0.9700,\n",
       "          0.0800,  0.8100],\n",
       "        [ 0.0500, -1.2900,  0.2600, -0.6900,  0.8400, -0.6300, -0.1700, -1.1300,\n",
       "         -0.0000, -0.6600]], grad_fn=<RoundBackward1>)"
      ]
     },
     "execution_count": 23,
     "metadata": {},
     "output_type": "execute_result"
    }
   ],
   "source": [
    "torch.manual_seed(42)\n",
    "\n",
    "model1.train()\n",
    "x = torch.randn(2,28,28)   \n",
    "out = model1(x)\n",
    "out.round(decimals=2)"
   ]
  },
  {
   "cell_type": "code",
   "execution_count": 24,
   "id": "c6466ad3-af5d-422f-948b-60606321c802",
   "metadata": {},
   "outputs": [],
   "source": [
    "torch.manual_seed(42)\n",
    "model2 = nn.Sequential(\n",
    "    nn.Flatten(),\n",
    "    nn.BatchNorm1d(1 * 28 * 28),\n",
    "    nn.Linear(1 * 28 * 28, 300),\n",
    "    nn.ReLU(),\n",
    "    nn.BatchNorm1d(300),\n",
    "    nn.Linear(300, 100),\n",
    "    nn.ReLU(),\n",
    "    nn.BatchNorm1d(100),\n",
    "    nn.Linear(100, 10)\n",
    ")"
   ]
  },
  {
   "cell_type": "code",
   "execution_count": 25,
   "id": "dcb49104-bcd9-4731-8c22-39f990ade879",
   "metadata": {},
   "outputs": [
    {
     "data": {
      "text/plain": [
       "dict_keys(['weight', 'bias'])"
      ]
     },
     "execution_count": 25,
     "metadata": {},
     "output_type": "execute_result"
    }
   ],
   "source": [
    "dict(model2[1].named_parameters()).keys()"
   ]
  },
  {
   "cell_type": "code",
   "execution_count": 26,
   "id": "9888b4e5-1f00-4cb6-95dd-bf31efdb9d05",
   "metadata": {},
   "outputs": [
    {
     "data": {
      "text/plain": [
       "tensor([[ 0.0200,  1.4500, -0.3600,  0.6600, -0.6800,  0.7700,  0.2500,  0.9700,\n",
       "          0.0800,  0.8100],\n",
       "        [ 0.0500, -1.2900,  0.2600, -0.6900,  0.8400, -0.6300, -0.1700, -1.1300,\n",
       "         -0.0000, -0.6600]], grad_fn=<RoundBackward1>)"
      ]
     },
     "execution_count": 26,
     "metadata": {},
     "output_type": "execute_result"
    }
   ],
   "source": [
    "torch.manual_seed(42)\n",
    "\n",
    "model2.train()\n",
    "x = torch.randn(2,28,28)   \n",
    "out = model2(x)\n",
    "out.round(decimals=2)"
   ]
  },
  {
   "cell_type": "markdown",
   "id": "c262da08-70de-4bab-aafa-05ebe4608ed9",
   "metadata": {},
   "source": [
    "## Layer Normalization"
   ]
  },
  {
   "cell_type": "code",
   "execution_count": 28,
   "id": "fa86a3b9-a640-4afb-800d-67befee19d68",
   "metadata": {},
   "outputs": [],
   "source": [
    "class MyLayerNorm(nn.Module):\n",
    "    def __init__(self, normalized_shape, eps=1e-5):\n",
    "        super().__init__()\n",
    "        self.eps = eps\n",
    "        self.normalized_shape = normalized_shape\n",
    "\n",
    "        #Learning Parameters\n",
    "        self.gamma = nn.Parameter(torch.ones(normalized_shape))\n",
    "        self.beta = nn.Parameter(torch.zeros(normalized_shape))\n",
    "\n",
    "    def forward(self, X):\n",
    "        dims = tuple(range(-len(self.normalized_shape),0))\n",
    "        mean = X.mean(dim=dims, keepdim=True)\n",
    "        var = X.var(dim=dims, unbiased=False, keepdim=True)\n",
    "        X_hat = (X - mean) / torch.sqrt(var + self.eps)\n",
    "        return self.gamma * X_hat + self.beta           "
   ]
  },
  {
   "cell_type": "code",
   "execution_count": 29,
   "id": "61795fa8-85be-4d63-8499-a84d402dc9c9",
   "metadata": {},
   "outputs": [],
   "source": [
    "torch.manual_seed(42)\n",
    "\n",
    "inputs = torch.randn(32, 4, 100, 200)\n",
    "layer_norm = MyLayerNorm([100,200])\n",
    "result1 = layer_norm(inputs)"
   ]
  },
  {
   "cell_type": "code",
   "execution_count": 30,
   "id": "d25c0c0e-c68c-4433-be43-2011ad6003df",
   "metadata": {},
   "outputs": [],
   "source": [
    "torch.manual_seed(42)\n",
    "\n",
    "inputs = torch.randn(32, 4, 100, 200)\n",
    "layer_norm = nn.LayerNorm([100,200])\n",
    "result2 = layer_norm(inputs)"
   ]
  },
  {
   "cell_type": "code",
   "execution_count": 31,
   "id": "e7132dc8-440a-4c25-bf4b-1afbe89d0836",
   "metadata": {},
   "outputs": [],
   "source": [
    "assert torch.allclose(result1, result2)"
   ]
  },
  {
   "cell_type": "code",
   "execution_count": 32,
   "id": "ed3edbae-bbfc-4de7-b58a-f5b26cc26f0b",
   "metadata": {},
   "outputs": [],
   "source": [
    "layer_norm = MyLayerNorm([32, 4, 100, 200])\n",
    "result3 = layer_norm(inputs)"
   ]
  },
  {
   "cell_type": "code",
   "execution_count": 33,
   "id": "b6db2030-753f-424e-8e2d-9d38438b8ed6",
   "metadata": {},
   "outputs": [],
   "source": [
    "layer_norm = nn.LayerNorm([32, 4, 100, 200])\n",
    "result4 = layer_norm(inputs)\n",
    "assert torch.allclose(result3, result4)"
   ]
  },
  {
   "cell_type": "markdown",
   "id": "11b64019-e04e-4bc7-a420-8bf90f0b2665",
   "metadata": {},
   "source": [
    "## Gradient Clipping"
   ]
  },
  {
   "cell_type": "markdown",
   "id": "761df7bb-e93e-4018-bf9f-632d117bc12f",
   "metadata": {},
   "source": [
    "### Value Clipping"
   ]
  },
  {
   "cell_type": "code",
   "execution_count": 36,
   "id": "52f04331-16bd-4135-96d2-2e44a2e616eb",
   "metadata": {},
   "outputs": [
    {
     "data": {
      "text/plain": [
       "tensor([ 3., -3.,  2.,  3.])"
      ]
     },
     "execution_count": 36,
     "metadata": {},
     "output_type": "execute_result"
    }
   ],
   "source": [
    "grad = torch.tensor([10.0, -5.0, 2.0, 8.0])\n",
    "clip_value = 3.0\n",
    "grad_value_clipped = torch.clamp(grad, min= -clip_value, max=clip_value)\n",
    "grad_value_clipped"
   ]
  },
  {
   "cell_type": "code",
   "execution_count": 37,
   "id": "0e2d808c-a340-43be-a508-c76acb85147d",
   "metadata": {},
   "outputs": [
    {
     "data": {
      "text/plain": [
       "tensor([ 3., -3.,  2.,  3.])"
      ]
     },
     "execution_count": 37,
     "metadata": {},
     "output_type": "execute_result"
    }
   ],
   "source": [
    "param = nn.Parameter(torch.tensor([10.0, -5.0, 2.0, 8.0]))\n",
    "param.grad = torch.tensor([10.0, -5.0, 2.0, 8.0])\n",
    "nn.utils.clip_grad_value_([param], clip_value=3.0)\n",
    "param.grad"
   ]
  },
  {
   "cell_type": "markdown",
   "id": "9ce054f7-c3a6-4198-b226-706be2f7d419",
   "metadata": {},
   "source": [
    "### Norm Clipping"
   ]
  },
  {
   "cell_type": "code",
   "execution_count": 39,
   "id": "0ef8d09d-4228-4ef9-b4c8-d0b99b2ff35f",
   "metadata": {},
   "outputs": [
    {
     "data": {
      "text/plain": [
       "tensor(13.8924)"
      ]
     },
     "execution_count": 39,
     "metadata": {},
     "output_type": "execute_result"
    }
   ],
   "source": [
    "max_norm = 3.0\n",
    "grad_norm = torch.sqrt(torch.sum(grad**2))\n",
    "grad_norm"
   ]
  },
  {
   "cell_type": "code",
   "execution_count": 40,
   "id": "b4cc9c14-8a1d-42e8-beba-426542a5c434",
   "metadata": {},
   "outputs": [
    {
     "data": {
      "text/plain": [
       "tensor([ 2.1594, -1.0797,  0.4319,  1.7276])"
      ]
     },
     "execution_count": 40,
     "metadata": {},
     "output_type": "execute_result"
    }
   ],
   "source": [
    "if grad_norm > max_norm:\n",
    "    scale = max_norm / grad_norm\n",
    "    grad_norm_clipped = grad * scale\n",
    "else:\n",
    "    grad_norm_clipped = grad\n",
    "\n",
    "grad_norm_clipped"
   ]
  },
  {
   "cell_type": "code",
   "execution_count": 41,
   "id": "9a875401-010a-483e-b4b3-4d704acf123f",
   "metadata": {},
   "outputs": [
    {
     "data": {
      "text/plain": [
       "tensor([ 2.1594, -1.0797,  0.4319,  1.7276])"
      ]
     },
     "execution_count": 41,
     "metadata": {},
     "output_type": "execute_result"
    }
   ],
   "source": [
    "param = nn.Parameter(torch.tensor([10.0, -5.0, 2.0, 8.0]))\n",
    "param.grad = torch.tensor([10.0, -5.0, 2.0, 8.0])\n",
    "nn.utils.clip_grad_norm_([param], max_norm=3.0)\n",
    "param.grad"
   ]
  }
 ],
 "metadata": {
  "kernelspec": {
   "display_name": "Python [conda env:base] *",
   "language": "python",
   "name": "conda-base-py"
  },
  "language_info": {
   "codemirror_mode": {
    "name": "ipython",
    "version": 3
   },
   "file_extension": ".py",
   "mimetype": "text/x-python",
   "name": "python",
   "nbconvert_exporter": "python",
   "pygments_lexer": "ipython3",
   "version": "3.12.2"
  }
 },
 "nbformat": 4,
 "nbformat_minor": 5
}
