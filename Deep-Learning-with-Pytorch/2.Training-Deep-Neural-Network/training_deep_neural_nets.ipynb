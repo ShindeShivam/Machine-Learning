{
  "cells": [
    {
      "cell_type": "markdown",
      "id": "a2c74773-ac49-4134-a203-5b0239babf92",
      "metadata": {
        "id": "a2c74773-ac49-4134-a203-5b0239babf92"
      },
      "source": [
        "# Vanishing/Exploding Gradients Problem"
      ]
    },
    {
      "cell_type": "markdown",
      "id": "2e8d6dee-2cb2-4312-851a-b6bba47aa607",
      "metadata": {
        "id": "2e8d6dee-2cb2-4312-851a-b6bba47aa607"
      },
      "source": [
        "## Glorot and He Initialization"
      ]
    },
    {
      "cell_type": "code",
      "execution_count": 1,
      "id": "8c6051ab-e0fe-4d3a-b464-e214a6d7e006",
      "metadata": {
        "colab": {
          "base_uri": "https://localhost:8080/"
        },
        "id": "8c6051ab-e0fe-4d3a-b464-e214a6d7e006",
        "outputId": "66f70206-3408-4259-ffe1-714265ae1d5a"
      },
      "outputs": [
        {
          "output_type": "execute_result",
          "data": {
            "text/plain": [
              "torch.Size([10, 40])"
            ]
          },
          "metadata": {},
          "execution_count": 1
        }
      ],
      "source": [
        "import torch\n",
        "import torch.nn as nn\n",
        "\n",
        "layer = nn.Linear(40, 10)\n",
        "layer.weight.shape"
      ]
    },
    {
      "cell_type": "code",
      "execution_count": 2,
      "id": "86061d68-7548-40ab-a42a-1369869d95ff",
      "metadata": {
        "colab": {
          "base_uri": "https://localhost:8080/"
        },
        "id": "86061d68-7548-40ab-a42a-1369869d95ff",
        "outputId": "b6927e80-3a7d-43b4-a4bd-f8dd52866764"
      },
      "outputs": [
        {
          "output_type": "execute_result",
          "data": {
            "text/plain": [
              "tensor([-0.0783,  0.1407, -0.0234,  0.1163,  0.1497,  0.0365,  0.1264,  0.1393,\n",
              "         0.0512,  0.0885, -0.0428,  0.0239,  0.1074, -0.1558, -0.1308,  0.0475,\n",
              "        -0.0251, -0.0350, -0.0466,  0.0410,  0.1350, -0.0154, -0.0704,  0.1113,\n",
              "        -0.0100,  0.1416,  0.0723, -0.1012, -0.1335, -0.0661,  0.1448, -0.0511,\n",
              "        -0.0861,  0.0094, -0.1307,  0.0519,  0.0686,  0.0090, -0.1296,  0.0785])"
            ]
          },
          "metadata": {},
          "execution_count": 2
        }
      ],
      "source": [
        "layer.weight.data[0]"
      ]
    },
    {
      "cell_type": "code",
      "execution_count": 3,
      "id": "1a4943bf-7711-43cb-9907-bb4769c27cac",
      "metadata": {
        "id": "1a4943bf-7711-43cb-9907-bb4769c27cac"
      },
      "outputs": [],
      "source": [
        "layer.weight.data *= 6**0.5  # He init"
      ]
    },
    {
      "cell_type": "code",
      "execution_count": 4,
      "id": "ba3dbb11-227d-410e-a2b3-76f740ea5dc0",
      "metadata": {
        "colab": {
          "base_uri": "https://localhost:8080/"
        },
        "id": "ba3dbb11-227d-410e-a2b3-76f740ea5dc0",
        "outputId": "2d7ad14f-b220-4f5e-95be-bba386edbbaa"
      },
      "outputs": [
        {
          "output_type": "execute_result",
          "data": {
            "text/plain": [
              "tensor([-0.1918,  0.3447, -0.0574,  0.2850,  0.3668,  0.0893,  0.3095,  0.3411,\n",
              "         0.1253,  0.2167, -0.1048,  0.0585,  0.2632, -0.3816, -0.3203,  0.1164,\n",
              "        -0.0616, -0.0858, -0.1142,  0.1003,  0.3308, -0.0377, -0.1723,  0.2726,\n",
              "        -0.0244,  0.3468,  0.1772, -0.2479, -0.3271, -0.1619,  0.3547, -0.1251,\n",
              "        -0.2110,  0.0230, -0.3201,  0.1272,  0.1680,  0.0220, -0.3175,  0.1923])"
            ]
          },
          "metadata": {},
          "execution_count": 4
        }
      ],
      "source": [
        "layer.weight.data[0]"
      ]
    },
    {
      "cell_type": "code",
      "execution_count": 5,
      "id": "b053d66d-9c28-45b2-89f2-ceb0623bf0fa",
      "metadata": {
        "colab": {
          "base_uri": "https://localhost:8080/"
        },
        "id": "b053d66d-9c28-45b2-89f2-ceb0623bf0fa",
        "outputId": "d02faf08-a2e2-458a-a135-81a5e6ce4ed2"
      },
      "outputs": [
        {
          "output_type": "execute_result",
          "data": {
            "text/plain": [
              "tensor([ 0.1026,  0.1439,  0.1236,  0.1174,  0.0317, -0.0108,  0.1189,  0.1088,\n",
              "         0.0825, -0.0807])"
            ]
          },
          "metadata": {},
          "execution_count": 5
        }
      ],
      "source": [
        "layer.bias.data"
      ]
    },
    {
      "cell_type": "code",
      "execution_count": 6,
      "id": "15b0dd83-e91f-4d88-92ef-e72066631b0f",
      "metadata": {
        "colab": {
          "base_uri": "https://localhost:8080/"
        },
        "id": "15b0dd83-e91f-4d88-92ef-e72066631b0f",
        "outputId": "5d6ff752-45db-473b-844b-e6a84aa98cd1"
      },
      "outputs": [
        {
          "output_type": "execute_result",
          "data": {
            "text/plain": [
              "tensor([0., 0., 0., 0., 0., 0., 0., 0., 0., 0.])"
            ]
          },
          "metadata": {},
          "execution_count": 6
        }
      ],
      "source": [
        "torch.zero_(layer.bias.data)"
      ]
    },
    {
      "cell_type": "code",
      "execution_count": 7,
      "id": "efb0cfb3-fec8-40a7-bafb-d2867931de56",
      "metadata": {
        "colab": {
          "base_uri": "https://localhost:8080/"
        },
        "id": "efb0cfb3-fec8-40a7-bafb-d2867931de56",
        "outputId": "61e364a5-2e4c-4dcf-da58-58c984759cac"
      },
      "outputs": [
        {
          "output_type": "execute_result",
          "data": {
            "text/plain": [
              "Parameter containing:\n",
              "tensor([0., 0., 0., 0., 0., 0., 0., 0., 0., 0.], requires_grad=True)"
            ]
          },
          "metadata": {},
          "execution_count": 7
        }
      ],
      "source": [
        "layer = nn.Linear(40, 10)\n",
        "nn.init.kaiming_uniform_(layer.weight)\n",
        "nn.init.zeros_(layer.bias)"
      ]
    },
    {
      "cell_type": "code",
      "execution_count": 8,
      "id": "4c1f874f-53a9-4823-a93a-1d59eb43da07",
      "metadata": {
        "colab": {
          "base_uri": "https://localhost:8080/"
        },
        "id": "4c1f874f-53a9-4823-a93a-1d59eb43da07",
        "outputId": "ee72545a-f28d-4c55-cde9-cdbfaf0d61dd"
      },
      "outputs": [
        {
          "output_type": "execute_result",
          "data": {
            "text/plain": [
              "Sequential(\n",
              "  (0): Linear(in_features=40, out_features=30, bias=True)\n",
              "  (1): ReLU()\n",
              "  (2): Linear(in_features=30, out_features=1, bias=True)\n",
              "  (3): ReLU()\n",
              ")"
            ]
          },
          "metadata": {},
          "execution_count": 8
        }
      ],
      "source": [
        "def use_he_init(module):\n",
        "    if isinstance(module, nn.Linear):\n",
        "        nn.init.kaiming_uniform_(module.weight)\n",
        "        nn.init.zeros_(module.bias)\n",
        "model = nn.Sequential(nn.Linear(40, 30), nn.ReLU(), nn.Linear(30, 1), nn.ReLU())\n",
        "model.apply(use_he_init)"
      ]
    },
    {
      "cell_type": "code",
      "execution_count": 9,
      "id": "cb0f3099-f302-4632-be65-0026a51eb9c7",
      "metadata": {
        "colab": {
          "base_uri": "https://localhost:8080/"
        },
        "id": "cb0f3099-f302-4632-be65-0026a51eb9c7",
        "outputId": "105966b3-02ae-4845-c985-a3794b9f0633"
      },
      "outputs": [
        {
          "output_type": "execute_result",
          "data": {
            "text/plain": [
              "Sequential(\n",
              "  (0): Linear(in_features=40, out_features=10, bias=True)\n",
              "  (1): LeakyReLU(negative_slope=0.2)\n",
              ")"
            ]
          },
          "metadata": {},
          "execution_count": 9
        }
      ],
      "source": [
        "model = nn.Sequential(nn.Linear(40, 10), nn.LeakyReLU(negative_slope=0.2))  # alpha is negative slope\n",
        "model.apply(use_he_init)"
      ]
    },
    {
      "cell_type": "markdown",
      "id": "51641520-9ca2-4ebe-894c-a191123cd9bf",
      "metadata": {
        "id": "51641520-9ca2-4ebe-894c-a191123cd9bf"
      },
      "source": [
        "## Better Activation Functions"
      ]
    },
    {
      "cell_type": "markdown",
      "id": "556f7910-0fb3-4db5-b165-a874aca8c15a",
      "metadata": {
        "id": "556f7910-0fb3-4db5-b165-a874aca8c15a"
      },
      "source": [
        "### Leaky ReLU"
      ]
    },
    {
      "cell_type": "code",
      "execution_count": 10,
      "id": "67c004be-1cc3-4069-a756-f9f0e8c00173",
      "metadata": {
        "id": "67c004be-1cc3-4069-a756-f9f0e8c00173"
      },
      "outputs": [],
      "source": [
        "def leaky_relu(z, alpha):\n",
        "    return np.maximum(alpha * z, z)"
      ]
    },
    {
      "cell_type": "code",
      "execution_count": 11,
      "id": "fb838bda-75d8-4665-8ec2-c3c738dfe6bb",
      "metadata": {
        "colab": {
          "base_uri": "https://localhost:8080/",
          "height": 256
        },
        "id": "fb838bda-75d8-4665-8ec2-c3c738dfe6bb",
        "outputId": "07a1e61c-47b8-48ff-8628-fa999e4f785b"
      },
      "outputs": [
        {
          "output_type": "display_data",
          "data": {
            "text/plain": [
              "<Figure size 400x200 with 1 Axes>"
            ],
            "image/png": "[encoded data removed]"
          },
          "metadata": {}
        }
      ],
      "source": [
        "import numpy as np\n",
        "import matplotlib.pyplot as plt\n",
        "\n",
        "z = np.linspace(-5, 5, 200)\n",
        "plt.figure(figsize=(4,2))\n",
        "plt.plot(z, leaky_relu(z,0.1) , \"-\")\n",
        "plt.plot([-5,5] ,[0,0] , \"k-\")\n",
        "plt.plot([0,0] ,[-1,4] , \"k-\")\n",
        "plt.axis([-5, 5 , -1, 4])\n",
        "plt.title(\"Leaky ReLU\")\n",
        "plt.xlabel(\"Z\")\n",
        "plt.axis()\n",
        "plt.show()"
      ]
    },
    {
      "cell_type": "code",
      "execution_count": 12,
      "id": "9713b2b7-f410-42b1-9952-ccac1921e458",
      "metadata": {
        "colab": {
          "base_uri": "https://localhost:8080/"
        },
        "id": "9713b2b7-f410-42b1-9952-ccac1921e458",
        "outputId": "0f2e4956-133d-4f53-ebd6-5073f3432a8c"
      },
      "outputs": [
        {
          "output_type": "execute_result",
          "data": {
            "text/plain": [
              "torch.Size([2, 40])"
            ]
          },
          "metadata": {},
          "execution_count": 12
        }
      ],
      "source": [
        "torch.manual_seed(42)\n",
        "alpha = 0.2\n",
        "model = nn.Sequential(nn.Linear(50, 40), nn.LeakyReLU(negative_slope=alpha))\n",
        "nn.init.kaiming_uniform_(model[0].weight, alpha, nonlinearity=\"leaky_relu\")\n",
        "model(torch.rand(2,50)).shape"
      ]
    },
    {
      "cell_type": "markdown",
      "id": "27a9fddb-99b4-4608-aad4-c351f4ca993f",
      "metadata": {
        "id": "27a9fddb-99b4-4608-aad4-c351f4ca993f"
      },
      "source": [
        "## Batch Normalization"
      ]
    },
    {
      "cell_type": "code",
      "execution_count": 13,
      "id": "ab45c1b2-5b0a-4594-a93f-3323b3d01984",
      "metadata": {
        "id": "ab45c1b2-5b0a-4594-a93f-3323b3d01984"
      },
      "outputs": [],
      "source": [
        "class MyBatchNorm(nn.Module):\n",
        "    def __init__(self, num_features, eps=1e-5, momentum=0.1):\n",
        "        super().__init__()\n",
        "        self.eps = eps\n",
        "        self.momentum = momentum\n",
        "\n",
        "        #Learning Parameters\n",
        "        self.gamma = nn.Parameter(torch.ones(num_features))\n",
        "        self.beta = nn.Parameter(torch.zeros(num_features))\n",
        "\n",
        "        #Running stats (for inference time)\n",
        "        self.register_buffer(\"running_mean\", torch.zeros(num_features))\n",
        "        self.register_buffer(\"running_var\", torch.ones(num_features))\n",
        "\n",
        "    def forward(self, X):\n",
        "        if self.training:\n",
        "            batch_mean = X.mean(dim=0)\n",
        "            batch_var = X.var(dim=0, unbiased=False)  # by default sample variance(1/N-1),now population variance(1/N)\n",
        "\n",
        "            #Normalize\n",
        "            X_hat = (X - batch_mean) / torch.sqrt(batch_var + self.eps)\n",
        "\n",
        "            #Update running stats\n",
        "            self.running_mean = (1 - self.momentum) * self.running_mean + self.momentum * batch_mean\n",
        "            self.running_var = (1 - self.momentum) * self.running_var + self.momentum * batch_var\n",
        "        else:\n",
        "            X_hat = (X - self.running_mean) / torch.sqrt(self.running_var + self.eps)\n",
        "\n",
        "        out = self.gamma * X_hat + self.beta\n",
        "        return out"
      ]
    },
    {
      "cell_type": "code",
      "execution_count": 14,
      "id": "974f5166-5ee0-40f2-914d-8554850b0135",
      "metadata": {
        "id": "974f5166-5ee0-40f2-914d-8554850b0135"
      },
      "outputs": [],
      "source": [
        "torch.manual_seed(42)\n",
        "model1 = nn.Sequential(\n",
        "    nn.Flatten(),\n",
        "    MyBatchNorm(1 * 28 * 28),\n",
        "    nn.Linear(1 * 28 * 28, 300),\n",
        "    nn.ReLU(),\n",
        "    MyBatchNorm(300),\n",
        "    nn.Linear(300, 100),\n",
        "    nn.ReLU(),\n",
        "    MyBatchNorm(100),\n",
        "    nn.Linear(100, 10)\n",
        ")"
      ]
    },
    {
      "cell_type": "code",
      "execution_count": 15,
      "id": "c9572b2f-b8a0-4f5f-bc7a-2e796f4b8fbb",
      "metadata": {
        "colab": {
          "base_uri": "https://localhost:8080/"
        },
        "id": "c9572b2f-b8a0-4f5f-bc7a-2e796f4b8fbb",
        "outputId": "81d4655e-1b0b-490a-a91a-dbc22e95babd"
      },
      "outputs": [
        {
          "output_type": "execute_result",
          "data": {
            "text/plain": [
              "dict_keys(['gamma', 'beta'])"
            ]
          },
          "metadata": {},
          "execution_count": 15
        }
      ],
      "source": [
        "dict(model1[1].named_parameters()).keys()"
      ]
    },
    {
      "cell_type": "code",
      "execution_count": 16,
      "id": "ca0cdd8e-c88f-4fe7-99a5-1ce3e65d1c74",
      "metadata": {
        "colab": {
          "base_uri": "https://localhost:8080/"
        },
        "id": "ca0cdd8e-c88f-4fe7-99a5-1ce3e65d1c74",
        "outputId": "b593dc71-7881-4d72-e5a8-fdf7ebe52ebe"
      },
      "outputs": [
        {
          "output_type": "execute_result",
          "data": {
            "text/plain": [
              "dict_keys(['running_mean', 'running_var'])"
            ]
          },
          "metadata": {},
          "execution_count": 16
        }
      ],
      "source": [
        "dict(model1[1].named_buffers()).keys()"
      ]
    },
    {
      "cell_type": "code",
      "execution_count": 17,
      "id": "6b1b16d0-ff3b-4452-aed0-87ac3a38cfa8",
      "metadata": {
        "colab": {
          "base_uri": "https://localhost:8080/"
        },
        "id": "6b1b16d0-ff3b-4452-aed0-87ac3a38cfa8",
        "outputId": "af41321a-6961-4e13-c4c9-bfea6d18bf9c"
      },
      "outputs": [
        {
          "output_type": "execute_result",
          "data": {
            "text/plain": [
              "tensor([[ 0.0200,  1.4500, -0.3600,  0.6600, -0.6800,  0.7700,  0.2500,  0.9700,\n",
              "          0.0800,  0.8100],\n",
              "        [ 0.0500, -1.2900,  0.2600, -0.6900,  0.8400, -0.6300, -0.1700, -1.1300,\n",
              "         -0.0000, -0.6600]], grad_fn=<RoundBackward1>)"
            ]
          },
          "metadata": {},
          "execution_count": 17
        }
      ],
      "source": [
        "torch.manual_seed(42)\n",
        "\n",
        "model1.train()\n",
        "x = torch.randn(2,28,28)\n",
        "out = model1(x)\n",
        "out.round(decimals=2)"
      ]
    },
    {
      "cell_type": "code",
      "execution_count": 18,
      "id": "c6466ad3-af5d-422f-948b-60606321c802",
      "metadata": {
        "id": "c6466ad3-af5d-422f-948b-60606321c802"
      },
      "outputs": [],
      "source": [
        "torch.manual_seed(42)\n",
        "model2 = nn.Sequential(\n",
        "    nn.Flatten(),\n",
        "    nn.BatchNorm1d(1 * 28 * 28),\n",
        "    nn.Linear(1 * 28 * 28, 300),\n",
        "    nn.ReLU(),\n",
        "    nn.BatchNorm1d(300),\n",
        "    nn.Linear(300, 100),\n",
        "    nn.ReLU(),\n",
        "    nn.BatchNorm1d(100),\n",
        "    nn.Linear(100, 10)\n",
        ")"
      ]
    },
    {
      "cell_type": "code",
      "execution_count": 19,
      "id": "dcb49104-bcd9-4731-8c22-39f990ade879",
      "metadata": {
        "colab": {
          "base_uri": "https://localhost:8080/"
        },
        "id": "dcb49104-bcd9-4731-8c22-39f990ade879",
        "outputId": "9424642b-d8aa-4c88-8f7f-b1d7ddfda37a"
      },
      "outputs": [
        {
          "output_type": "execute_result",
          "data": {
            "text/plain": [
              "dict_keys(['weight', 'bias'])"
            ]
          },
          "metadata": {},
          "execution_count": 19
        }
      ],
      "source": [
        "dict(model2[1].named_parameters()).keys()"
      ]
    },
    {
      "cell_type": "code",
      "execution_count": 20,
      "id": "9888b4e5-1f00-4cb6-95dd-bf31efdb9d05",
      "metadata": {
        "colab": {
          "base_uri": "https://localhost:8080/"
        },
        "id": "9888b4e5-1f00-4cb6-95dd-bf31efdb9d05",
        "outputId": "6839ede7-ff77-439f-a407-7fce578ff10c"
      },
      "outputs": [
        {
          "output_type": "execute_result",
          "data": {
            "text/plain": [
              "tensor([[ 0.0200,  1.4500, -0.3600,  0.6600, -0.6800,  0.7700,  0.2500,  0.9700,\n",
              "          0.0800,  0.8100],\n",
              "        [ 0.0500, -1.2900,  0.2600, -0.6900,  0.8400, -0.6300, -0.1700, -1.1300,\n",
              "         -0.0000, -0.6600]], grad_fn=<RoundBackward1>)"
            ]
          },
          "metadata": {},
          "execution_count": 20
        }
      ],
      "source": [
        "torch.manual_seed(42)\n",
        "\n",
        "model2.train()\n",
        "x = torch.randn(2,28,28)\n",
        "out = model2(x)\n",
        "out.round(decimals=2)"
      ]
    },
    {
      "cell_type": "markdown",
      "id": "c262da08-70de-4bab-aafa-05ebe4608ed9",
      "metadata": {
        "id": "c262da08-70de-4bab-aafa-05ebe4608ed9"
      },
      "source": [
        "## Layer Normalization"
      ]
    },
    {
      "cell_type": "code",
      "execution_count": 21,
      "id": "fa86a3b9-a640-4afb-800d-67befee19d68",
      "metadata": {
        "id": "fa86a3b9-a640-4afb-800d-67befee19d68"
      },
      "outputs": [],
      "source": [
        "class MyLayerNorm(nn.Module):\n",
        "    def __init__(self, normalized_shape, eps=1e-5):\n",
        "        super().__init__()\n",
        "        self.eps = eps\n",
        "        self.normalized_shape = normalized_shape\n",
        "\n",
        "        #Learning Parameters\n",
        "        self.gamma = nn.Parameter(torch.ones(normalized_shape))\n",
        "        self.beta = nn.Parameter(torch.zeros(normalized_shape))\n",
        "\n",
        "    def forward(self, X):\n",
        "        dims = tuple(range(-len(self.normalized_shape),0))\n",
        "        mean = X.mean(dim=dims, keepdim=True)\n",
        "        var = X.var(dim=dims, unbiased=False, keepdim=True)\n",
        "        X_hat = (X - mean) / torch.sqrt(var + self.eps)\n",
        "        return self.gamma * X_hat + self.beta"
      ]
    },
    {
      "cell_type": "code",
      "execution_count": 22,
      "id": "61795fa8-85be-4d63-8499-a84d402dc9c9",
      "metadata": {
        "id": "61795fa8-85be-4d63-8499-a84d402dc9c9"
      },
      "outputs": [],
      "source": [
        "torch.manual_seed(42)\n",
        "\n",
        "inputs = torch.randn(32, 4, 100, 200)\n",
        "layer_norm = MyLayerNorm([100,200])\n",
        "result1 = layer_norm(inputs)"
      ]
    },
    {
      "cell_type": "code",
      "execution_count": 23,
      "id": "d25c0c0e-c68c-4433-be43-2011ad6003df",
      "metadata": {
        "id": "d25c0c0e-c68c-4433-be43-2011ad6003df"
      },
      "outputs": [],
      "source": [
        "torch.manual_seed(42)\n",
        "\n",
        "inputs = torch.randn(32, 4, 100, 200)\n",
        "layer_norm = nn.LayerNorm([100,200])\n",
        "result2 = layer_norm(inputs)"
      ]
    },
    {
      "cell_type": "code",
      "execution_count": 24,
      "id": "e7132dc8-440a-4c25-bf4b-1afbe89d0836",
      "metadata": {
        "id": "e7132dc8-440a-4c25-bf4b-1afbe89d0836"
      },
      "outputs": [],
      "source": [
        "assert torch.allclose(result1, result2)"
      ]
    },
    {
      "cell_type": "code",
      "execution_count": 25,
      "id": "ed3edbae-bbfc-4de7-b58a-f5b26cc26f0b",
      "metadata": {
        "id": "ed3edbae-bbfc-4de7-b58a-f5b26cc26f0b"
      },
      "outputs": [],
      "source": [
        "layer_norm = MyLayerNorm([32, 4, 100, 200])\n",
        "result3 = layer_norm(inputs)"
      ]
    },
    {
      "cell_type": "code",
      "execution_count": 26,
      "id": "b6db2030-753f-424e-8e2d-9d38438b8ed6",
      "metadata": {
        "id": "b6db2030-753f-424e-8e2d-9d38438b8ed6"
      },
      "outputs": [],
      "source": [
        "layer_norm = nn.LayerNorm([32, 4, 100, 200])\n",
        "result4 = layer_norm(inputs)\n",
        "assert torch.allclose(result3, result4)"
      ]
    },
    {
      "cell_type": "markdown",
      "id": "11b64019-e04e-4bc7-a420-8bf90f0b2665",
      "metadata": {
        "id": "11b64019-e04e-4bc7-a420-8bf90f0b2665"
      },
      "source": [
        "## Gradient Clipping"
      ]
    },
    {
      "cell_type": "markdown",
      "id": "761df7bb-e93e-4018-bf9f-632d117bc12f",
      "metadata": {
        "id": "761df7bb-e93e-4018-bf9f-632d117bc12f"
      },
      "source": [
        "### Value Clipping"
      ]
    },
    {
      "cell_type": "code",
      "execution_count": 27,
      "id": "52f04331-16bd-4135-96d2-2e44a2e616eb",
      "metadata": {
        "colab": {
          "base_uri": "https://localhost:8080/"
        },
        "id": "52f04331-16bd-4135-96d2-2e44a2e616eb",
        "outputId": "0c118219-5945-489f-87e4-710d059fd6b9"
      },
      "outputs": [
        {
          "output_type": "execute_result",
          "data": {
            "text/plain": [
              "tensor([ 3., -3.,  2.,  3.])"
            ]
          },
          "metadata": {},
          "execution_count": 27
        }
      ],
      "source": [
        "grad = torch.tensor([10.0, -5.0, 2.0, 8.0])\n",
        "clip_value = 3.0\n",
        "grad_value_clipped = torch.clamp(grad, min= -clip_value, max=clip_value)\n",
        "grad_value_clipped"
      ]
    },
    {
      "cell_type": "code",
      "execution_count": 28,
      "id": "0e2d808c-a340-43be-a508-c76acb85147d",
      "metadata": {
        "colab": {
          "base_uri": "https://localhost:8080/"
        },
        "id": "0e2d808c-a340-43be-a508-c76acb85147d",
        "outputId": "f4427aed-6183-40f2-e93e-71ace6ad4a05"
      },
      "outputs": [
        {
          "output_type": "execute_result",
          "data": {
            "text/plain": [
              "tensor([ 3., -3.,  2.,  3.])"
            ]
          },
          "metadata": {},
          "execution_count": 28
        }
      ],
      "source": [
        "param = nn.Parameter(torch.tensor([10.0, -5.0, 2.0, 8.0]))\n",
        "param.grad = torch.tensor([10.0, -5.0, 2.0, 8.0])\n",
        "nn.utils.clip_grad_value_([param], clip_value=3.0)\n",
        "param.grad"
      ]
    },
    {
      "cell_type": "markdown",
      "id": "9ce054f7-c3a6-4198-b226-706be2f7d419",
      "metadata": {
        "id": "9ce054f7-c3a6-4198-b226-706be2f7d419"
      },
      "source": [
        "### Norm Clipping"
      ]
    },
    {
      "cell_type": "code",
      "execution_count": 29,
      "id": "0ef8d09d-4228-4ef9-b4c8-d0b99b2ff35f",
      "metadata": {
        "colab": {
          "base_uri": "https://localhost:8080/"
        },
        "id": "0ef8d09d-4228-4ef9-b4c8-d0b99b2ff35f",
        "outputId": "11e460b3-38ba-4b0c-b39a-015cdc9fb883"
      },
      "outputs": [
        {
          "output_type": "execute_result",
          "data": {
            "text/plain": [
              "tensor(13.8924)"
            ]
          },
          "metadata": {},
          "execution_count": 29
        }
      ],
      "source": [
        "max_norm = 3.0\n",
        "grad_norm = torch.sqrt(torch.sum(grad**2))\n",
        "grad_norm"
      ]
    },
    {
      "cell_type": "code",
      "execution_count": 30,
      "id": "b4cc9c14-8a1d-42e8-beba-426542a5c434",
      "metadata": {
        "colab": {
          "base_uri": "https://localhost:8080/"
        },
        "id": "b4cc9c14-8a1d-42e8-beba-426542a5c434",
        "outputId": "656c972f-504f-476e-80f8-bb2b1380c269"
      },
      "outputs": [
        {
          "output_type": "execute_result",
          "data": {
            "text/plain": [
              "tensor([ 2.1594, -1.0797,  0.4319,  1.7276])"
            ]
          },
          "metadata": {},
          "execution_count": 30
        }
      ],
      "source": [
        "if grad_norm > max_norm:\n",
        "    scale = max_norm / grad_norm\n",
        "    grad_norm_clipped = grad * scale\n",
        "else:\n",
        "    grad_norm_clipped = grad\n",
        "\n",
        "grad_norm_clipped"
      ]
    },
    {
      "cell_type": "code",
      "execution_count": 31,
      "id": "9a875401-010a-483e-b4b3-4d704acf123f",
      "metadata": {
        "colab": {
          "base_uri": "https://localhost:8080/"
        },
        "id": "9a875401-010a-483e-b4b3-4d704acf123f",
        "outputId": "806352de-31a1-4c88-84d7-894544e0ed84"
      },
      "outputs": [
        {
          "output_type": "execute_result",
          "data": {
            "text/plain": [
              "tensor([ 2.1594, -1.0797,  0.4319,  1.7276])"
            ]
          },
          "metadata": {},
          "execution_count": 31
        }
      ],
      "source": [
        "param = nn.Parameter(torch.tensor([10.0, -5.0, 2.0, 8.0]))\n",
        "param.grad = torch.tensor([10.0, -5.0, 2.0, 8.0])\n",
        "nn.utils.clip_grad_norm_([param], max_norm=3.0)\n",
        "param.grad"
      ]
    },
    {
      "cell_type": "code",
      "execution_count": 32,
      "id": "89bcfead-09b6-483b-852c-f0bfcec3e9f2",
      "metadata": {
        "id": "89bcfead-09b6-483b-852c-f0bfcec3e9f2"
      },
      "outputs": [],
      "source": [
        "from torch.utils.data import DataLoader, TensorDataset\n",
        "from sklearn.datasets import fetch_openml\n",
        "\n",
        "fashion_mnist = fetch_openml(name=\"fashion-MNIST\", as_frame=False)\n",
        "X = torch.FloatTensor(fashion_mnist.data.reshape(-1, 1, 28, 28) / 255.)\n",
        "y = torch.from_numpy(fashion_mnist.target.astype(int))\n",
        "in_B = (y == 0) | (y == 2)  # Pullover or T-shirt/top\n",
        "X_A, y_A = X[~in_B], y[~in_B]\n",
        "y_A = torch.maximum(y_A - 2, torch.tensor(0))  # [1,3,4,5,6,7,8,9] => [0,..,7]\n",
        "X_B, y_B = X[in_B], (y[in_B] == 2).to(dtype=torch.float32).view(-1, 1)\n",
        "\n",
        "train_set_A = TensorDataset(X_A[:-7_000], y_A[:-7000])\n",
        "valid_set_A = TensorDataset(X_A[-7_000:-5000], y_A[-7000:-5000])\n",
        "test_set_A = TensorDataset(X_A[-5_000:], y_A[-5000:])\n",
        "train_set_B = TensorDataset(X_B[:20], y_B[:20])\n",
        "valid_set_B = TensorDataset(X_B[20:5000], y_B[20:5000])\n",
        "test_set_B = TensorDataset(X_B[5_000:], y_B[5000:])\n",
        "\n",
        "train_loader_A = DataLoader(train_set_A, batch_size=32, shuffle=True)\n",
        "valid_loader_A = DataLoader(valid_set_A, batch_size=32)\n",
        "test_loader_A = DataLoader(test_set_A, batch_size=32)\n",
        "train_loader_B = DataLoader(train_set_B, batch_size=32, shuffle=True)\n",
        "valid_loader_B = DataLoader(valid_set_B, batch_size=32)\n",
        "test_loader_B = DataLoader(test_set_B, batch_size=32)"
      ]
    },
    {
      "cell_type": "markdown",
      "id": "0c5aa562-f1ef-40cf-8685-fd42a77db41d",
      "metadata": {
        "id": "0c5aa562-f1ef-40cf-8685-fd42a77db41d"
      },
      "source": [
        "# Faster Optimizers"
      ]
    },
    {
      "cell_type": "code",
      "execution_count": 34,
      "id": "a946f762-366c-48ae-92b1-19a44abe3384",
      "metadata": {
        "id": "a946f762-366c-48ae-92b1-19a44abe3384"
      },
      "outputs": [],
      "source": [
        "import torchmetrics\n",
        "\n",
        "def evaluate_tm(model, data_loader, metric):\n",
        "    model.eval()\n",
        "    metric.reset()\n",
        "    with torch.no_grad():\n",
        "        for X_batch, y_batch in data_loader:\n",
        "            X_batch, y_batch = X_batch.to(device), y_batch.to(device)\n",
        "            y_pred = model(X_batch)\n",
        "            metric.update(y_pred, y_batch)\n",
        "    return metric.compute()\n",
        "\n",
        "def train(model, optimizer, criterion, metric, train_loader, valid_loader, n_epochs):\n",
        "    history = {\"train_losses\":[], \"train_metrics\":[],\"valid_metrics\":[]}\n",
        "    for epoch in range(n_epochs):\n",
        "        total_loss = 0\n",
        "        metric.reset()\n",
        "        model.train()\n",
        "        for X_batch, y_batch in train_loader:\n",
        "            X_batch, y_batch = X_batch.to(device), y_batch.to(device)\n",
        "            y_pred = model(X_batch)\n",
        "            loss = criterion(y_pred, y_batch)\n",
        "            total_loss += loss.item()\n",
        "            loss.backward()\n",
        "            optimizer.step()\n",
        "            optimizer.zero_grad()\n",
        "            metric.update(y_pred, y_batch)\n",
        "        mean_loss = total_loss / len(train_loader)\n",
        "        history[\"train_losses\"].append(mean_loss)\n",
        "        history[\"train_metrics\"].append(metric.compute().item())\n",
        "        history[\"valid_metrics\"].append(\n",
        "            evaluate_tm(model, valid_loader, metric).item()\n",
        "        )\n",
        "        print(f\"Epoch:{epoch+1}/{n_epochs}, \"\n",
        "             f\"Train Loss: {history['train_losses'][-1]:.4f}, \"\n",
        "             f\"Train Metric: {history['train_metrics'][-1]:.4f}, \"\n",
        "             f\"Valid Metric: {history['valid_metrics'][-1]:.4f}\")\n",
        "    return history\n"
      ]
    },
    {
      "cell_type": "code",
      "execution_count": 35,
      "id": "70fa1cbf-f0aa-4107-b0d9-cf6c75be6b79",
      "metadata": {
        "colab": {
          "base_uri": "https://localhost:8080/",
          "height": 35
        },
        "id": "70fa1cbf-f0aa-4107-b0d9-cf6c75be6b79",
        "outputId": "792417bb-a00d-41b6-fa73-5966f5b5fea9"
      },
      "outputs": [
        {
          "output_type": "execute_result",
          "data": {
            "text/plain": [
              "'cuda'"
            ],
            "application/vnd.google.colaboratory.intrinsic+json": {
              "type": "string"
            }
          },
          "metadata": {},
          "execution_count": 35
        }
      ],
      "source": [
        "if torch.cuda.is_available():\n",
        "    device = \"cuda\"\n",
        "elif torch.backends.mps.is_available():\n",
        "    device = \"mps\"\n",
        "else:\n",
        "    device = \"cpu\"\n",
        "device"
      ]
    },
    {
      "cell_type": "code",
      "execution_count": 36,
      "id": "7f8ed2a7-e52b-4fea-a50a-d0c1cfed2ccf",
      "metadata": {
        "id": "7f8ed2a7-e52b-4fea-a50a-d0c1cfed2ccf"
      },
      "outputs": [],
      "source": [
        "\n",
        "train_set = TensorDataset(X[:55_000], y[:55_000])\n",
        "valid_set = TensorDataset(X[55_000:60_000], y[55_000:60_000])\n",
        "test_set = TensorDataset(X[60_000:], y[60_000:])\n",
        "\n",
        "def build_model(seed=42):\n",
        "    torch.manual_seed(seed)\n",
        "    model = nn.Sequential(\n",
        "        nn.Flatten(),\n",
        "        nn.Linear(28*28, 100),\n",
        "        nn.ReLU(),\n",
        "        nn.Linear(100, 100),\n",
        "        nn.ReLU(),\n",
        "        nn.Linear(100, 100),\n",
        "        nn.ReLU(),\n",
        "        nn.Linear(100, 10)\n",
        "    ).to(device)\n",
        "    model.apply(use_he_init)\n",
        "    return model\n",
        "\n",
        "def test_optimizer(model, optimizer, n_epochs=10, batch_size=32):\n",
        "    train_loader = DataLoader(train_set, batch_size=32, shuffle=True)\n",
        "    valid_loader = DataLoader(valid_set, batch_size=32)\n",
        "    test_loader = DataLoader(test_set, batch_size=32)\n",
        "    xentropy = nn.CrossEntropyLoss()\n",
        "    accuracy = torchmetrics.Accuracy(task=\"multiclass\", num_classes=10).to(device)\n",
        "    history = train(model, optimizer, xentropy, accuracy, train_loader, valid_loader,n_epochs)\n",
        "    return history, evaluate_tm(model, test_loader, accuracy)"
      ]
    },
    {
      "cell_type": "code",
      "execution_count": 37,
      "id": "dce88608-9df1-4360-988d-4a0a90d7e5d9",
      "metadata": {
        "colab": {
          "base_uri": "https://localhost:8080/"
        },
        "id": "dce88608-9df1-4360-988d-4a0a90d7e5d9",
        "outputId": "c5605833-8f8f-418a-8cdf-ed7af3c9ae8e"
      },
      "outputs": [
        {
          "output_type": "stream",
          "name": "stdout",
          "text": [
            "Epoch:1/10, Train Loss: 0.5779, Train Metric: 0.7917, Valid Metric: 0.8432\n",
            "Epoch:2/10, Train Loss: 0.4080, Train Metric: 0.8519, Valid Metric: 0.8448\n",
            "Epoch:3/10, Train Loss: 0.3665, Train Metric: 0.8661, Valid Metric: 0.8604\n",
            "Epoch:4/10, Train Loss: 0.3430, Train Metric: 0.8743, Valid Metric: 0.8742\n",
            "Epoch:5/10, Train Loss: 0.3225, Train Metric: 0.8817, Valid Metric: 0.8776\n",
            "Epoch:6/10, Train Loss: 0.3077, Train Metric: 0.8866, Valid Metric: 0.8768\n",
            "Epoch:7/10, Train Loss: 0.2943, Train Metric: 0.8903, Valid Metric: 0.8780\n",
            "Epoch:8/10, Train Loss: 0.2838, Train Metric: 0.8942, Valid Metric: 0.8754\n",
            "Epoch:9/10, Train Loss: 0.2754, Train Metric: 0.8969, Valid Metric: 0.8772\n",
            "Epoch:10/10, Train Loss: 0.2657, Train Metric: 0.9006, Valid Metric: 0.8776\n"
          ]
        }
      ],
      "source": [
        "model = build_model()\n",
        "optimizer = torch.optim.SGD(model.parameters(), lr=0.04)\n",
        "history_sgd, acc_sgd = test_optimizer(model, optimizer)"
      ]
    },
    {
      "cell_type": "code",
      "execution_count": 38,
      "id": "b91ad9ab-69a2-491a-ae51-9786583b6646",
      "metadata": {
        "colab": {
          "base_uri": "https://localhost:8080/"
        },
        "id": "b91ad9ab-69a2-491a-ae51-9786583b6646",
        "outputId": "9fea4060-24fb-47b1-b6c2-690d0da641b4"
      },
      "outputs": [
        {
          "output_type": "execute_result",
          "data": {
            "text/plain": [
              "tensor(0.8719, device='cuda:0')"
            ]
          },
          "metadata": {},
          "execution_count": 38
        }
      ],
      "source": [
        "acc_sgd"
      ]
    },
    {
      "cell_type": "markdown",
      "id": "90368526-59c3-41b2-90df-5015be2435f0",
      "metadata": {
        "id": "90368526-59c3-41b2-90df-5015be2435f0"
      },
      "source": [
        "## Momentum Optimization"
      ]
    },
    {
      "cell_type": "code",
      "execution_count": 39,
      "id": "46959e0d-0acf-4a70-aaf5-cae6213d134d",
      "metadata": {
        "colab": {
          "base_uri": "https://localhost:8080/"
        },
        "id": "46959e0d-0acf-4a70-aaf5-cae6213d134d",
        "outputId": "8ea9e64a-bade-44f5-9172-4c911e9e6825"
      },
      "outputs": [
        {
          "output_type": "stream",
          "name": "stdout",
          "text": [
            "Epoch:1/10, Train Loss: 0.6026, Train Metric: 0.7829, Valid Metric: 0.7866\n",
            "Epoch:2/10, Train Loss: 0.4777, Train Metric: 0.8300, Valid Metric: 0.8430\n",
            "Epoch:3/10, Train Loss: 0.4487, Train Metric: 0.8408, Valid Metric: 0.8334\n",
            "Epoch:4/10, Train Loss: 0.4336, Train Metric: 0.8457, Valid Metric: 0.8458\n",
            "Epoch:5/10, Train Loss: 0.4053, Train Metric: 0.8559, Valid Metric: 0.8426\n",
            "Epoch:6/10, Train Loss: 0.3997, Train Metric: 0.8572, Valid Metric: 0.8604\n",
            "Epoch:7/10, Train Loss: 0.3934, Train Metric: 0.8586, Valid Metric: 0.8442\n",
            "Epoch:8/10, Train Loss: 0.3789, Train Metric: 0.8647, Valid Metric: 0.8556\n",
            "Epoch:9/10, Train Loss: 0.3758, Train Metric: 0.8662, Valid Metric: 0.8598\n",
            "Epoch:10/10, Train Loss: 0.3676, Train Metric: 0.8689, Valid Metric: 0.8582\n"
          ]
        }
      ],
      "source": [
        "model = build_model()\n",
        "optimizer = torch.optim.SGD(model.parameters(), lr=0.05, momentum=0.9)\n",
        "history_momentum, acc_momentum = test_optimizer(model, optimizer)"
      ]
    },
    {
      "cell_type": "markdown",
      "id": "0ea22935-24c0-46ae-b8f3-c86a2251fb8f",
      "metadata": {
        "id": "0ea22935-24c0-46ae-b8f3-c86a2251fb8f"
      },
      "source": [
        "## Nesterov Accelerated Gradient"
      ]
    },
    {
      "cell_type": "code",
      "execution_count": 40,
      "id": "3978bb97-2996-4fbf-b97e-2abcbc6e867b",
      "metadata": {
        "colab": {
          "base_uri": "https://localhost:8080/"
        },
        "id": "3978bb97-2996-4fbf-b97e-2abcbc6e867b",
        "outputId": "069b14df-4099-4e78-8499-c6b5974df594"
      },
      "outputs": [
        {
          "output_type": "stream",
          "name": "stdout",
          "text": [
            "Epoch:1/10, Train Loss: 0.5486, Train Metric: 0.8048, Valid Metric: 0.8118\n",
            "Epoch:2/10, Train Loss: 0.4340, Train Metric: 0.8454, Valid Metric: 0.8336\n",
            "Epoch:3/10, Train Loss: 0.4070, Train Metric: 0.8564, Valid Metric: 0.8490\n",
            "Epoch:4/10, Train Loss: 0.3842, Train Metric: 0.8629, Valid Metric: 0.8656\n",
            "Epoch:5/10, Train Loss: 0.3756, Train Metric: 0.8661, Valid Metric: 0.8528\n",
            "Epoch:6/10, Train Loss: 0.3681, Train Metric: 0.8690, Valid Metric: 0.8604\n",
            "Epoch:7/10, Train Loss: 0.3570, Train Metric: 0.8733, Valid Metric: 0.8580\n",
            "Epoch:8/10, Train Loss: 0.3524, Train Metric: 0.8752, Valid Metric: 0.8538\n",
            "Epoch:9/10, Train Loss: 0.3428, Train Metric: 0.8764, Valid Metric: 0.8612\n",
            "Epoch:10/10, Train Loss: 0.3372, Train Metric: 0.8799, Valid Metric: 0.8566\n"
          ]
        }
      ],
      "source": [
        "model = build_model()\n",
        "optimizer = torch.optim.SGD(model.parameters(),lr=0.05, momentum=0.9, nesterov=True)\n",
        "history_nesterov, acc_nesterov = test_optimizer(model, optimizer)"
      ]
    },
    {
      "cell_type": "markdown",
      "id": "0d3f5207-bba8-4222-b0c8-4de245355ee6",
      "metadata": {
        "id": "0d3f5207-bba8-4222-b0c8-4de245355ee6"
      },
      "source": [
        "## AdaGrad"
      ]
    },
    {
      "cell_type": "code",
      "execution_count": 41,
      "id": "611cc5b3-a4c3-4411-8ee7-1887213c42b1",
      "metadata": {
        "colab": {
          "base_uri": "https://localhost:8080/"
        },
        "id": "611cc5b3-a4c3-4411-8ee7-1887213c42b1",
        "outputId": "fb078463-2400-40fa-bc3f-503f04d99d1c"
      },
      "outputs": [
        {
          "output_type": "stream",
          "name": "stdout",
          "text": [
            "Epoch:1/10, Train Loss: 0.5605, Train Metric: 0.8155, Valid Metric: 0.8612\n",
            "Epoch:2/10, Train Loss: 0.3699, Train Metric: 0.8642, Valid Metric: 0.8678\n",
            "Epoch:3/10, Train Loss: 0.3351, Train Metric: 0.8762, Valid Metric: 0.8742\n",
            "Epoch:4/10, Train Loss: 0.3142, Train Metric: 0.8835, Valid Metric: 0.8788\n",
            "Epoch:5/10, Train Loss: 0.2982, Train Metric: 0.8888, Valid Metric: 0.8802\n",
            "Epoch:6/10, Train Loss: 0.2865, Train Metric: 0.8928, Valid Metric: 0.8788\n",
            "Epoch:7/10, Train Loss: 0.2745, Train Metric: 0.8973, Valid Metric: 0.8816\n",
            "Epoch:8/10, Train Loss: 0.2663, Train Metric: 0.9001, Valid Metric: 0.8802\n",
            "Epoch:9/10, Train Loss: 0.2582, Train Metric: 0.9036, Valid Metric: 0.8864\n",
            "Epoch:10/10, Train Loss: 0.2511, Train Metric: 0.9060, Valid Metric: 0.8864\n"
          ]
        }
      ],
      "source": [
        "model = build_model()\n",
        "optimizer = torch.optim.Adagrad(model.parameters(),lr=0.05)\n",
        "history_adagrad, acc_adagrad = test_optimizer(model, optimizer)"
      ]
    },
    {
      "cell_type": "markdown",
      "id": "2aa171db-8883-438c-83dd-56c4a9eb3d85",
      "metadata": {
        "id": "2aa171db-8883-438c-83dd-56c4a9eb3d85"
      },
      "source": [
        "## RMSProp"
      ]
    },
    {
      "cell_type": "code",
      "execution_count": 42,
      "id": "4002f34a-4484-4d4b-b514-2e8c4c9f15f5",
      "metadata": {
        "colab": {
          "base_uri": "https://localhost:8080/"
        },
        "id": "4002f34a-4484-4d4b-b514-2e8c4c9f15f5",
        "outputId": "83f805f1-453a-49da-eaf4-93140495c786"
      },
      "outputs": [
        {
          "output_type": "stream",
          "name": "stdout",
          "text": [
            "Epoch:1/10, Train Loss: 3.0856, Train Metric: 0.4135, Valid Metric: 0.4846\n",
            "Epoch:2/10, Train Loss: 1.5592, Train Metric: 0.4054, Valid Metric: 0.3360\n",
            "Epoch:3/10, Train Loss: 1.5156, Train Metric: 0.4150, Valid Metric: 0.4274\n",
            "Epoch:4/10, Train Loss: 1.4835, Train Metric: 0.4209, Valid Metric: 0.4244\n",
            "Epoch:5/10, Train Loss: 1.5939, Train Metric: 0.3872, Valid Metric: 0.4278\n",
            "Epoch:6/10, Train Loss: 1.5009, Train Metric: 0.4204, Valid Metric: 0.4074\n",
            "Epoch:7/10, Train Loss: 1.5294, Train Metric: 0.3967, Valid Metric: 0.3342\n",
            "Epoch:8/10, Train Loss: 1.7418, Train Metric: 0.3270, Valid Metric: 0.2402\n",
            "Epoch:9/10, Train Loss: 1.6990, Train Metric: 0.3328, Valid Metric: 0.2942\n",
            "Epoch:10/10, Train Loss: 1.7721, Train Metric: 0.3072, Valid Metric: 0.2708\n"
          ]
        }
      ],
      "source": [
        "model = build_model()\n",
        "optimizer = torch.optim.RMSprop(model.parameters(),lr=0.05, alpha=0.9)\n",
        "history_rmsprop, acc_rmsprop = test_optimizer(model, optimizer)"
      ]
    },
    {
      "cell_type": "markdown",
      "id": "9405caab-8fd4-4cbf-8ea7-c771573b4717",
      "metadata": {
        "id": "9405caab-8fd4-4cbf-8ea7-c771573b4717"
      },
      "source": [
        "## Adam"
      ]
    },
    {
      "cell_type": "code",
      "execution_count": 43,
      "id": "f18093c6-1c7f-4902-928f-1e86bd61f7bd",
      "metadata": {
        "colab": {
          "base_uri": "https://localhost:8080/"
        },
        "id": "f18093c6-1c7f-4902-928f-1e86bd61f7bd",
        "outputId": "65938506-3309-4c15-dc01-4457edc5132f"
      },
      "outputs": [
        {
          "output_type": "stream",
          "name": "stdout",
          "text": [
            "Epoch:1/10, Train Loss: 1.4496, Train Metric: 0.4273, Valid Metric: 0.4526\n",
            "Epoch:2/10, Train Loss: 1.4728, Train Metric: 0.3854, Valid Metric: 0.3730\n",
            "Epoch:3/10, Train Loss: 1.5609, Train Metric: 0.3434, Valid Metric: 0.2696\n",
            "Epoch:4/10, Train Loss: 1.6008, Train Metric: 0.3061, Valid Metric: 0.3220\n",
            "Epoch:5/10, Train Loss: 1.5894, Train Metric: 0.3120, Valid Metric: 0.3034\n",
            "Epoch:6/10, Train Loss: 1.5993, Train Metric: 0.3094, Valid Metric: 0.2750\n",
            "Epoch:7/10, Train Loss: 1.6083, Train Metric: 0.3085, Valid Metric: 0.3202\n",
            "Epoch:8/10, Train Loss: 1.5974, Train Metric: 0.3136, Valid Metric: 0.3124\n",
            "Epoch:9/10, Train Loss: 1.5901, Train Metric: 0.3151, Valid Metric: 0.3078\n",
            "Epoch:10/10, Train Loss: 1.6109, Train Metric: 0.3166, Valid Metric: 0.2960\n"
          ]
        }
      ],
      "source": [
        "model = build_model()\n",
        "optimizer = torch.optim.Adam(model.parameters(),lr=0.05, betas=(0.9,0.999))\n",
        "history_adam, acc_adam = test_optimizer(model, optimizer)"
      ]
    },
    {
      "cell_type": "markdown",
      "id": "0195ff34-f307-44e3-9f88-0d63b5de1145",
      "metadata": {
        "id": "0195ff34-f307-44e3-9f88-0d63b5de1145"
      },
      "source": [
        "## Adamax"
      ]
    },
    {
      "cell_type": "code",
      "execution_count": 44,
      "id": "54a06b15-aab8-4e15-9885-483bbbc09162",
      "metadata": {
        "colab": {
          "base_uri": "https://localhost:8080/"
        },
        "id": "54a06b15-aab8-4e15-9885-483bbbc09162",
        "outputId": "0ef06a49-b3a0-41de-cbb0-96a4dee16f89"
      },
      "outputs": [
        {
          "output_type": "stream",
          "name": "stdout",
          "text": [
            "Epoch:1/10, Train Loss: 0.6799, Train Metric: 0.7774, Valid Metric: 0.7860\n",
            "Epoch:2/10, Train Loss: 0.5126, Train Metric: 0.8211, Valid Metric: 0.8344\n",
            "Epoch:3/10, Train Loss: 0.4768, Train Metric: 0.8340, Valid Metric: 0.8314\n",
            "Epoch:4/10, Train Loss: 0.4550, Train Metric: 0.8395, Valid Metric: 0.8346\n",
            "Epoch:5/10, Train Loss: 0.4363, Train Metric: 0.8462, Valid Metric: 0.8404\n",
            "Epoch:6/10, Train Loss: 0.4283, Train Metric: 0.8491, Valid Metric: 0.8492\n",
            "Epoch:7/10, Train Loss: 0.4228, Train Metric: 0.8508, Valid Metric: 0.8342\n",
            "Epoch:8/10, Train Loss: 0.4126, Train Metric: 0.8555, Valid Metric: 0.8402\n",
            "Epoch:9/10, Train Loss: 0.4131, Train Metric: 0.8538, Valid Metric: 0.8366\n",
            "Epoch:10/10, Train Loss: 0.4032, Train Metric: 0.8580, Valid Metric: 0.8546\n"
          ]
        }
      ],
      "source": [
        "model = build_model()\n",
        "optimizer = torch.optim.Adamax(model.parameters(),lr=0.05, betas=(0.9,0.999))\n",
        "history_adamax , acc_adamax = test_optimizer(model, optimizer)"
      ]
    },
    {
      "cell_type": "markdown",
      "id": "b989919c-b81d-460e-8166-619e6f1b1c0e",
      "metadata": {
        "id": "b989919c-b81d-460e-8166-619e6f1b1c0e"
      },
      "source": [
        "## Nadam"
      ]
    },
    {
      "cell_type": "code",
      "execution_count": 45,
      "id": "8eb822ee-5eec-41e3-9ffb-7683a6653d79",
      "metadata": {
        "colab": {
          "base_uri": "https://localhost:8080/"
        },
        "id": "8eb822ee-5eec-41e3-9ffb-7683a6653d79",
        "outputId": "8f062a7a-c36c-48fe-8b80-07607ada0a02"
      },
      "outputs": [
        {
          "output_type": "stream",
          "name": "stdout",
          "text": [
            "Epoch:1/10, Train Loss: 2.4217, Train Metric: 0.1069, Valid Metric: 0.1044\n",
            "Epoch:2/10, Train Loss: 2.3087, Train Metric: 0.0999, Valid Metric: 0.0934\n",
            "Epoch:3/10, Train Loss: 2.3082, Train Metric: 0.1012, Valid Metric: 0.1054\n",
            "Epoch:4/10, Train Loss: 2.3085, Train Metric: 0.1011, Valid Metric: 0.0934\n",
            "Epoch:5/10, Train Loss: 2.3083, Train Metric: 0.1009, Valid Metric: 0.0980\n",
            "Epoch:6/10, Train Loss: 2.3084, Train Metric: 0.0985, Valid Metric: 0.1016\n",
            "Epoch:7/10, Train Loss: 2.3086, Train Metric: 0.0971, Valid Metric: 0.0980\n",
            "Epoch:8/10, Train Loss: 2.3089, Train Metric: 0.0994, Valid Metric: 0.0980\n",
            "Epoch:9/10, Train Loss: 2.3087, Train Metric: 0.1016, Valid Metric: 0.0994\n",
            "Epoch:10/10, Train Loss: 2.3089, Train Metric: 0.0982, Valid Metric: 0.1042\n"
          ]
        }
      ],
      "source": [
        "model = build_model()\n",
        "optimizer = torch.optim.NAdam(model.parameters(),lr=0.05, betas=(0.9,0.99))\n",
        "history_nadam , acc_nadam = test_optimizer(model, optimizer)"
      ]
    },
    {
      "cell_type": "markdown",
      "id": "8982a373-7433-4694-a82d-f1cff4996163",
      "metadata": {
        "id": "8982a373-7433-4694-a82d-f1cff4996163"
      },
      "source": [
        "## AdamW"
      ]
    },
    {
      "cell_type": "code",
      "execution_count": 46,
      "id": "f5f073ce-13ca-4ad0-9b2a-84d0787ac90f",
      "metadata": {
        "colab": {
          "base_uri": "https://localhost:8080/"
        },
        "id": "f5f073ce-13ca-4ad0-9b2a-84d0787ac90f",
        "outputId": "2b65ac1b-8b8d-4f93-f133-ee49ab19cada"
      },
      "outputs": [
        {
          "output_type": "stream",
          "name": "stdout",
          "text": [
            "Epoch:1/10, Train Loss: 1.3913, Train Metric: 0.4717, Valid Metric: 0.3906\n",
            "Epoch:2/10, Train Loss: 1.3219, Train Metric: 0.4384, Valid Metric: 0.2046\n",
            "Epoch:3/10, Train Loss: 2.0523, Train Metric: 0.1827, Valid Metric: 0.1784\n",
            "Epoch:4/10, Train Loss: 1.9033, Train Metric: 0.1929, Valid Metric: 0.1980\n",
            "Epoch:5/10, Train Loss: 1.8830, Train Metric: 0.1940, Valid Metric: 0.1974\n",
            "Epoch:6/10, Train Loss: 1.8693, Train Metric: 0.1953, Valid Metric: 0.2000\n",
            "Epoch:7/10, Train Loss: 1.8585, Train Metric: 0.1736, Valid Metric: 0.0980\n",
            "Epoch:8/10, Train Loss: 2.3188, Train Metric: 0.0994, Valid Metric: 0.1006\n",
            "Epoch:9/10, Train Loss: 2.3152, Train Metric: 0.1022, Valid Metric: 0.0994\n",
            "Epoch:10/10, Train Loss: 2.3120, Train Metric: 0.0975, Valid Metric: 0.1042\n"
          ]
        }
      ],
      "source": [
        "model = build_model()\n",
        "optimizer = torch.optim.AdamW(model.parameters(),lr=0.05, betas=(0.9,0.999),\n",
        "                             weight_decay=1e-5)\n",
        "history_adamw, acc_adamw = test_optimizer(model, optimizer)"
      ]
    },
    {
      "cell_type": "code",
      "execution_count": 47,
      "id": "922675ea-a18d-4a16-8411-9f18d9aafc09",
      "metadata": {
        "colab": {
          "base_uri": "https://localhost:8080/",
          "height": 759
        },
        "id": "922675ea-a18d-4a16-8411-9f18d9aafc09",
        "outputId": "e431a680-a30e-4933-b718-c2013d34ab05"
      },
      "outputs": [
        {
          "output_type": "display_data",
          "data": {
            "text/plain": [
              "<Figure size 800x400 with 1 Axes>"
            ],
            "image/png": "[encoded data removed]"
          },
          "metadata": {}
        },
        {
          "output_type": "display_data",
          "data": {
            "text/plain": [
              "<Figure size 800x400 with 1 Axes>"
            ],
            "image/png": "[encoded data removed]"
          },
          "metadata": {}
        }
      ],
      "source": [
        "for plot in (\"train_metrics\",\"valid_metrics\"):\n",
        "    plt.figure(figsize=(8, 4))\n",
        "    opt_names = \"SGD Momentum Nesterov AdaGrad RMSProp Adam Adamax Nadam AdamW\"\n",
        "    for history, opt_name in zip(\n",
        "        (history_sgd, history_momentum, history_nesterov, history_adagrad,\n",
        "         history_rmsprop, history_adam, history_adamax, history_nadam,\n",
        "         history_adamw),opt_names.split()):\n",
        "        plt.plot(history[plot], label=opt_name)\n",
        "    plt.grid()\n",
        "    plt.xlabel(\"Epochs\")\n",
        "    plt.ylabel({\"train_metrics\":\"Train Accuracy\",\"valid_metrics\":\"Valid Accuracy\"}[plot])\n",
        "    plt.legend()\n",
        "    plt.show()\n"
      ]
    },
    {
      "cell_type": "markdown",
      "id": "c69d15c7-20b0-49e2-81cc-cba94534071a",
      "metadata": {
        "id": "c69d15c7-20b0-49e2-81cc-cba94534071a"
      },
      "source": [
        "# Learning Rate Scheduling"
      ]
    },
    {
      "cell_type": "markdown",
      "id": "10ee33a2-a1cf-43ed-8897-5533014d9621",
      "metadata": {
        "id": "10ee33a2-a1cf-43ed-8897-5533014d9621"
      },
      "source": [
        "### Exponential LR"
      ]
    },
    {
      "cell_type": "code",
      "execution_count": 48,
      "id": "0f866bca-abc6-408e-9b42-890b724b7362",
      "metadata": {
        "colab": {
          "base_uri": "https://localhost:8080/",
          "height": 333
        },
        "id": "0f866bca-abc6-408e-9b42-890b724b7362",
        "outputId": "148b92cb-9a76-482f-c9fb-e5892fa0a900"
      },
      "outputs": [
        {
          "output_type": "display_data",
          "data": {
            "text/plain": [
              "<Figure size 500x300 with 1 Axes>"
            ],
            "image/png": "[encoded data removed]"
          },
          "metadata": {}
        }
      ],
      "source": [
        "initial_lr = 0.1\n",
        "decay_rate = 0.95\n",
        "epochs = 100\n",
        "epochs_list = np.arange(0, epochs)\n",
        "lr_decay = initial_lr * decay_rate**epochs_list\n",
        "\n",
        "plt.figure(figsize=(5, 3))\n",
        "plt.plot(epochs_list, lr_decay, label=f'Initial LR: {initial_lr}, Decay Rate: {decay_rate}')\n",
        "plt.title('Exponential LR Decay')\n",
        "plt.xlabel('Epochs')\n",
        "plt.ylabel('Learning Rate')\n",
        "plt.legend()\n",
        "plt.grid(True)"
      ]
    },
    {
      "cell_type": "code",
      "execution_count": 49,
      "id": "cef4705d-b878-4796-865b-67cf4b1a220d",
      "metadata": {
        "id": "cef4705d-b878-4796-865b-67cf4b1a220d"
      },
      "outputs": [],
      "source": [
        "model = build_model()\n",
        "optimizer = torch.optim.SGD(model.parameters(), lr=0.05, momentum=0.9)\n",
        "exp_scheduler = torch.optim.lr_scheduler.ExponentialLR(optimizer, gamma=0.9)"
      ]
    },
    {
      "cell_type": "code",
      "execution_count": 50,
      "id": "fb19fc1b-9407-45a3-9ad7-5a727cd72300",
      "metadata": {
        "id": "fb19fc1b-9407-45a3-9ad7-5a727cd72300"
      },
      "outputs": [],
      "source": [
        "def train_with_scheduler(model, optimizer, criterion, metric, train_loader,\n",
        "                        valid_loader, n_epochs, scheduler):\n",
        "    history = {\"train_losses\":[], \"train_metrics\":[],\"valid_metrics\":[]}\n",
        "    for epoch in range(n_epochs):\n",
        "        total_loss = 0\n",
        "        metric.reset()\n",
        "        model.train()\n",
        "        for X_batch, y_batch in train_loader:\n",
        "            X_batch, y_batch = X_batch.to(device), y_batch.to(device)\n",
        "            y_pred = model(X_batch)\n",
        "            loss = criterion(y_pred, y_batch)\n",
        "            total_loss += loss.item()\n",
        "            loss.backward()\n",
        "            optimizer.step()\n",
        "            optimizer.zero_grad()\n",
        "            metric.update(y_pred, y_batch)\n",
        "        mean_loss = total_loss / len(train_loader)\n",
        "        history[\"train_losses\"].append(mean_loss)\n",
        "        history[\"train_metrics\"].append(metric.compute().item())\n",
        "        valid_metric = evaluate_tm(model, valid_loader, metric).item()\n",
        "        history[\"valid_metrics\"].append(valid_metric)\n",
        "        print(f\"Epoch:{epoch+1}/{n_epochs}, \"\n",
        "             f\"Train Loss: {history['train_losses'][-1]:.4f}, \"\n",
        "             f\"Train Metric: {history['train_metrics'][-1]:.4f}, \"\n",
        "             f\"Valid Metric: {history['valid_metrics'][-1]:.4f}\")\n",
        "        if isinstance(scheduler, torch.optim.lr_scheduler.ReduceLROnPlateau):\n",
        "            scheduler.step(valid_metric)\n",
        "        else:\n",
        "            scheduler.step()\n",
        "        print(f\"Learning Rate: {scheduler.get_last_lr()[0]:.5f}\")\n",
        "    return history\n",
        "\n",
        "def train_scheduler(model, optimizer, scheduler, n_epochs=10, batch_size=32):\n",
        "    train_loader = DataLoader(train_set, batch_size=32, shuffle=True)\n",
        "    valid_loader = DataLoader(valid_set, batch_size=32)\n",
        "    test_loader = DataLoader(test_set, batch_size=32)\n",
        "    xentropy = nn.CrossEntropyLoss()\n",
        "    metric = torchmetrics.Accuracy(task=\"multiclass\", num_classes=10).to(device)\n",
        "    history = train_with_scheduler(model, optimizer, xentropy, metric, train_loader,\n",
        "                                  valid_loader, n_epochs, scheduler)\n",
        "    return history, evaluate_tm(model, test_loader, metric)\n"
      ]
    },
    {
      "cell_type": "code",
      "execution_count": 51,
      "id": "f023d691-0003-4df4-8812-510bbdaed50d",
      "metadata": {
        "colab": {
          "base_uri": "https://localhost:8080/"
        },
        "id": "f023d691-0003-4df4-8812-510bbdaed50d",
        "outputId": "587af28d-0a97-492b-be7b-4fefcd54ab5c"
      },
      "outputs": [
        {
          "output_type": "stream",
          "name": "stdout",
          "text": [
            "Epoch:1/10, Train Loss: 0.6026, Train Metric: 0.7829, Valid Metric: 0.7866\n",
            "Learning Rate: 0.04500\n",
            "Epoch:2/10, Train Loss: 0.4659, Train Metric: 0.8351, Valid Metric: 0.8322\n",
            "Learning Rate: 0.04050\n",
            "Epoch:3/10, Train Loss: 0.4175, Train Metric: 0.8496, Valid Metric: 0.8400\n",
            "Learning Rate: 0.03645\n",
            "Epoch:4/10, Train Loss: 0.3963, Train Metric: 0.8566, Valid Metric: 0.8522\n",
            "Learning Rate: 0.03281\n",
            "Epoch:5/10, Train Loss: 0.3598, Train Metric: 0.8695, Valid Metric: 0.8590\n",
            "Learning Rate: 0.02952\n",
            "Epoch:6/10, Train Loss: 0.3430, Train Metric: 0.8748, Valid Metric: 0.8604\n",
            "Learning Rate: 0.02657\n",
            "Epoch:7/10, Train Loss: 0.3286, Train Metric: 0.8771, Valid Metric: 0.8674\n",
            "Learning Rate: 0.02391\n",
            "Epoch:8/10, Train Loss: 0.3158, Train Metric: 0.8821, Valid Metric: 0.8648\n",
            "Learning Rate: 0.02152\n",
            "Epoch:9/10, Train Loss: 0.3025, Train Metric: 0.8866, Valid Metric: 0.8642\n",
            "Learning Rate: 0.01937\n",
            "Epoch:10/10, Train Loss: 0.2927, Train Metric: 0.8902, Valid Metric: 0.8742\n",
            "Learning Rate: 0.01743\n"
          ]
        }
      ],
      "source": [
        "history_exp, acc_exp = train_scheduler(model, optimizer, exp_scheduler)"
      ]
    },
    {
      "cell_type": "markdown",
      "id": "e2a1e52c-f953-4669-b7c8-7a715ed50151",
      "metadata": {
        "id": "e2a1e52c-f953-4669-b7c8-7a715ed50151"
      },
      "source": [
        "### Reduce On Plateau"
      ]
    },
    {
      "cell_type": "code",
      "execution_count": 52,
      "id": "79ee7d3e-4e59-42cf-86ba-3206150fd79f",
      "metadata": {
        "id": "79ee7d3e-4e59-42cf-86ba-3206150fd79f"
      },
      "outputs": [],
      "source": [
        "model = build_model()\n",
        "optimizer = torch.optim.SGD(model.parameters(), lr=0.05, momentum=0.9)\n",
        "perf_scheduler = torch.optim.lr_scheduler.ReduceLROnPlateau(\n",
        "    optimizer, mode=\"max\", patience=2, factor=0.1)"
      ]
    },
    {
      "cell_type": "code",
      "execution_count": 53,
      "id": "247bf3d0-3ebe-4f1b-9e95-84c205a580d5",
      "metadata": {
        "colab": {
          "base_uri": "https://localhost:8080/"
        },
        "id": "247bf3d0-3ebe-4f1b-9e95-84c205a580d5",
        "outputId": "9aaddf67-4322-406f-a2bf-20be46997912"
      },
      "outputs": [
        {
          "output_type": "stream",
          "name": "stdout",
          "text": [
            "Epoch:1/10, Train Loss: 0.6026, Train Metric: 0.7829, Valid Metric: 0.7866\n",
            "Learning Rate: 0.05000\n",
            "Epoch:2/10, Train Loss: 0.4777, Train Metric: 0.8300, Valid Metric: 0.8430\n",
            "Learning Rate: 0.05000\n",
            "Epoch:3/10, Train Loss: 0.4487, Train Metric: 0.8408, Valid Metric: 0.8334\n",
            "Learning Rate: 0.05000\n",
            "Epoch:4/10, Train Loss: 0.4336, Train Metric: 0.8457, Valid Metric: 0.8458\n",
            "Learning Rate: 0.05000\n",
            "Epoch:5/10, Train Loss: 0.4053, Train Metric: 0.8559, Valid Metric: 0.8426\n",
            "Learning Rate: 0.05000\n",
            "Epoch:6/10, Train Loss: 0.3997, Train Metric: 0.8572, Valid Metric: 0.8604\n",
            "Learning Rate: 0.05000\n",
            "Epoch:7/10, Train Loss: 0.3934, Train Metric: 0.8586, Valid Metric: 0.8442\n",
            "Learning Rate: 0.05000\n",
            "Epoch:8/10, Train Loss: 0.3789, Train Metric: 0.8647, Valid Metric: 0.8556\n",
            "Learning Rate: 0.05000\n",
            "Epoch:9/10, Train Loss: 0.3758, Train Metric: 0.8662, Valid Metric: 0.8598\n",
            "Learning Rate: 0.00500\n",
            "Epoch:10/10, Train Loss: 0.2993, Train Metric: 0.8881, Valid Metric: 0.8718\n",
            "Learning Rate: 0.00500\n"
          ]
        }
      ],
      "source": [
        "history_perf, acc_perf = train_scheduler(model, optimizer, perf_scheduler)"
      ]
    },
    {
      "cell_type": "markdown",
      "id": "8ec308b9-b0d2-4343-95c2-4f61e94e2251",
      "metadata": {
        "id": "8ec308b9-b0d2-4343-95c2-4f61e94e2251"
      },
      "source": [
        "### With Warmup"
      ]
    },
    {
      "cell_type": "code",
      "execution_count": 54,
      "id": "e142dd50-1c70-4a22-9374-c7b6eba2b256",
      "metadata": {
        "id": "e142dd50-1c70-4a22-9374-c7b6eba2b256"
      },
      "outputs": [],
      "source": [
        "model = build_model()\n",
        "optimizer = torch.optim.SGD(model.parameters(), lr=0.05, momentum=0.9)\n",
        "warmup_scheduler = torch.optim.lr_scheduler.LinearLR(\n",
        "    optimizer, start_factor=0.1, end_factor=1.0, total_iters=3\n",
        ")"
      ]
    },
    {
      "cell_type": "code",
      "execution_count": 55,
      "id": "f796276d-2ea7-4355-8841-dcf84280bcf1",
      "metadata": {
        "id": "f796276d-2ea7-4355-8841-dcf84280bcf1"
      },
      "outputs": [],
      "source": [
        "# same as above\n",
        "model = build_model()\n",
        "optimizer = torch.optim.SGD(model.parameters(), lr=0.05, momentum=0.9)\n",
        "warmup_scheduler = torch.optim.lr_scheduler.LambdaLR(\n",
        "    optimizer,\n",
        "    lambda epoch: (min(epoch,3)/3) * (1.0 - 0.1) + 0.1)\n"
      ]
    },
    {
      "cell_type": "code",
      "execution_count": 56,
      "id": "95712595-480f-4f52-beaf-57d2bc91d0a7",
      "metadata": {
        "id": "95712595-480f-4f52-beaf-57d2bc91d0a7"
      },
      "outputs": [],
      "source": [
        "def train_with_warmup(model, optimizer, criterion, metric, train_loader,\n",
        "                     valid_loader, n_epochs, warmup_scheduler, scheduler):\n",
        "    history = {\"train_losses\":[], \"train_metrics\":[],\"valid_metrics\":[]}\n",
        "    for epoch in range(n_epochs):\n",
        "        total_loss = []\n",
        "        metric.reset()\n",
        "        model.train()\n",
        "\n",
        "        warmup_scheduler.step()\n",
        "\n",
        "        for X_batch, y_batch in train_loader:\n",
        "            X_batch, y_batch = X_batch.to(device), y_batch.to(device)\n",
        "            y_pred = model(X_batch)\n",
        "            loss = criterion(y_pred, y_batch)\n",
        "            total_loss.append(loss.item())\n",
        "            loss.backward()\n",
        "            optimizer.step()\n",
        "            optimizer.zero_grad()\n",
        "            metric.update(y_pred, y_batch)\n",
        "        history[\"train_losses\"].append(np.mean(total_loss))\n",
        "        history[\"train_metrics\"].append(metric.compute().item())\n",
        "        valid_metric = evaluate_tm(model, valid_loader, metric).item()\n",
        "        history[\"valid_metrics\"].append(valid_metric)\n",
        "        print(f\"Epoch:{epoch+1}/{n_epochs}, \"\n",
        "             f\"Train Loss: {history['train_losses'][-1]:.4f}, \"\n",
        "             f\"Train Metric: {history['train_metrics'][-1]:.4f}, \"\n",
        "             f\"Valid Metric: {history['valid_metrics'][-1]:.4f}\")\n",
        "        if epoch >= 3:\n",
        "            scheduler.step(valid_metric)\n",
        "\n",
        "        print(f\"Learning Rate: {scheduler.get_last_lr()[0]:.5f}\")\n",
        "    return history\n",
        "\n",
        "def test_warmup_scheduler(model, optimizer, warmup_scheduler, scheduler,\n",
        "                         n_epochs=10, batch_size=32):\n",
        "    train_loader = DataLoader(train_set, batch_size=32, shuffle=True)\n",
        "    valid_loader = DataLoader(valid_set, batch_size=32)\n",
        "    test_loader = DataLoader(test_set, batch_size=32)\n",
        "\n",
        "    xentropy = nn.CrossEntropyLoss()\n",
        "    metric = torchmetrics.Accuracy(task=\"multiclass\", num_classes=10).to(device)\n",
        "    history = train_with_warmup(model, optimizer, xentropy, metric, train_loader,\n",
        "                               valid_loader, n_epochs, warmup_scheduler, scheduler)\n",
        "    return history, evaluate_tm(model, test_loader, metric)\n"
      ]
    },
    {
      "cell_type": "code",
      "execution_count": 57,
      "id": "62aa8556-f80c-4785-b5e5-0b5e4e0b793e",
      "metadata": {
        "colab": {
          "base_uri": "https://localhost:8080/"
        },
        "id": "62aa8556-f80c-4785-b5e5-0b5e4e0b793e",
        "outputId": "b881072b-0ca8-4b94-9697-4f6842c4b8a9"
      },
      "outputs": [
        {
          "output_type": "stream",
          "name": "stdout",
          "text": [
            "Epoch:1/10, Train Loss: 0.5373, Train Metric: 0.8065, Valid Metric: 0.8118\n",
            "Learning Rate: 0.00500\n",
            "Epoch:2/10, Train Loss: 0.4711, Train Metric: 0.8291, Valid Metric: 0.8280\n",
            "Learning Rate: 0.00500\n",
            "Epoch:3/10, Train Loss: 0.4694, Train Metric: 0.8354, Valid Metric: 0.8382\n",
            "Learning Rate: 0.00500\n",
            "Epoch:4/10, Train Loss: 0.4256, Train Metric: 0.8489, Valid Metric: 0.8450\n",
            "Learning Rate: 0.05000\n",
            "Epoch:5/10, Train Loss: 0.3966, Train Metric: 0.8597, Valid Metric: 0.8486\n",
            "Learning Rate: 0.05000\n",
            "Epoch:6/10, Train Loss: 0.3801, Train Metric: 0.8651, Valid Metric: 0.8618\n",
            "Learning Rate: 0.05000\n",
            "Epoch:7/10, Train Loss: 0.3715, Train Metric: 0.8671, Valid Metric: 0.8430\n",
            "Learning Rate: 0.05000\n",
            "Epoch:8/10, Train Loss: 0.3617, Train Metric: 0.8710, Valid Metric: 0.8528\n",
            "Learning Rate: 0.05000\n",
            "Epoch:9/10, Train Loss: 0.3484, Train Metric: 0.8761, Valid Metric: 0.8652\n",
            "Learning Rate: 0.05000\n",
            "Epoch:10/10, Train Loss: 0.3461, Train Metric: 0.8768, Valid Metric: 0.8534\n",
            "Learning Rate: 0.05000\n"
          ]
        },
        {
          "output_type": "execute_result",
          "data": {
            "text/plain": [
              "({'train_losses': [np.float64(0.5372733105149569),\n",
              "   np.float64(0.4711299957214503),\n",
              "   np.float64(0.4694157481939034),\n",
              "   np.float64(0.4255948946196337),\n",
              "   np.float64(0.396554780982049),\n",
              "   np.float64(0.38012972072312967),\n",
              "   np.float64(0.37150283153274505),\n",
              "   np.float64(0.3617136004451855),\n",
              "   np.float64(0.3483742504429945),\n",
              "   np.float64(0.3460796214813511)],\n",
              "  'train_metrics': [0.8065090775489807,\n",
              "   0.8291272521018982,\n",
              "   0.835381805896759,\n",
              "   0.8489272594451904,\n",
              "   0.8597090840339661,\n",
              "   0.8651272654533386,\n",
              "   0.8671091198921204,\n",
              "   0.8710363507270813,\n",
              "   0.8761454820632935,\n",
              "   0.8767818212509155],\n",
              "  'valid_metrics': [0.8118000030517578,\n",
              "   0.828000009059906,\n",
              "   0.8381999731063843,\n",
              "   0.8450000286102295,\n",
              "   0.8485999703407288,\n",
              "   0.8618000149726868,\n",
              "   0.8429999947547913,\n",
              "   0.8528000116348267,\n",
              "   0.8651999831199646,\n",
              "   0.8533999919891357]},\n",
              " tensor(0.8436, device='cuda:0'))"
            ]
          },
          "metadata": {},
          "execution_count": 57
        }
      ],
      "source": [
        "perf_scheduler = torch.optim.lr_scheduler.ReduceLROnPlateau(\n",
        "    optimizer, mode=\"max\", patience=2, factor=0.1)\n",
        "test_warmup_scheduler(model, optimizer, warmup_scheduler, perf_scheduler)"
      ]
    },
    {
      "cell_type": "markdown",
      "id": "999a3706-53b6-4b6a-aa60-ba349e8ef3b3",
      "metadata": {
        "id": "999a3706-53b6-4b6a-aa60-ba349e8ef3b3"
      },
      "source": [
        "### Cyclic LR"
      ]
    },
    {
      "cell_type": "code",
      "execution_count": 58,
      "id": "98e7141e-87c4-4094-bfda-4479baedf446",
      "metadata": {
        "colab": {
          "base_uri": "https://localhost:8080/",
          "height": 559
        },
        "id": "98e7141e-87c4-4094-bfda-4479baedf446",
        "outputId": "55c1f1e8-49c6-43c5-ae1a-719d2a5dfc08"
      },
      "outputs": [
        {
          "output_type": "stream",
          "name": "stdout",
          "text": [
            "Step  0 -> LR = 0.00100\n",
            "Step  1 -> LR = 0.00267\n",
            "Step  2 -> LR = 0.00433\n",
            "Step  3 -> LR = 0.00600\n",
            "Step  4 -> LR = 0.00433\n",
            "Step  5 -> LR = 0.00267\n",
            "Step  6 -> LR = 0.00100\n",
            "Step  7 -> LR = 0.00267\n",
            "Step  8 -> LR = 0.00433\n",
            "Step  9 -> LR = 0.00600\n",
            "Step 10 -> LR = 0.00433\n",
            "Step 11 -> LR = 0.00267\n",
            "Step 12 -> LR = 0.00100\n"
          ]
        },
        {
          "output_type": "display_data",
          "data": {
            "text/plain": [
              "<Figure size 500x300 with 1 Axes>"
            ],
            "image/png": "[encoded data removed]"
          },
          "metadata": {}
        }
      ],
      "source": [
        "\n",
        "base_lr = 0.001\n",
        "max_lr = 0.006\n",
        "stepsize_up = 3\n",
        "stepsize_down = 3\n",
        "cycle_steps = stepsize_up + stepsize_down\n",
        "\n",
        "# Function to compute LR at each step\n",
        "def get_lr(step):\n",
        "    cycle_pos = step % cycle_steps\n",
        "    if cycle_pos <= stepsize_up:  # increasing phase\n",
        "        return base_lr + (max_lr - base_lr) * (cycle_pos / stepsize_up)\n",
        "    else:  # decreasing phase\n",
        "        return max_lr - (max_lr - base_lr) * ((cycle_pos - stepsize_up) / stepsize_down)\n",
        "\n",
        "# Generate LR values for 2 full cycles\n",
        "epochs = list(range(13))\n",
        "lrs = [get_lr(t) for t in epochs]\n",
        "\n",
        "for t, lr in zip(epochs, lrs):\n",
        "    print(f\"Step {t:2d} -> LR = {lr:.5f}\")\n",
        "\n",
        "plt.figure(figsize=(5, 3))\n",
        "plt.plot(epochs, lrs, marker='o')\n",
        "plt.title(\"CyclicLR (Triangular Mode)\")\n",
        "plt.xlabel(\"Epoch\")\n",
        "plt.ylabel(\"Learning Rate\")\n",
        "plt.grid(True)\n",
        "plt.show()\n"
      ]
    },
    {
      "cell_type": "markdown",
      "id": "21225819-1b26-4985-a860-fe967c79033d",
      "metadata": {
        "id": "21225819-1b26-4985-a860-fe967c79033d"
      },
      "source": [
        "### Cosine Annealing LR"
      ]
    },
    {
      "cell_type": "code",
      "execution_count": 59,
      "id": "87c92950-8de2-4ad4-9608-8bffc8ee5046",
      "metadata": {
        "colab": {
          "base_uri": "https://localhost:8080/",
          "height": 333
        },
        "id": "87c92950-8de2-4ad4-9608-8bffc8ee5046",
        "outputId": "8bf0097b-4978-4130-c579-81f8a0c85b49"
      },
      "outputs": [
        {
          "output_type": "display_data",
          "data": {
            "text/plain": [
              "<Figure size 500x300 with 1 Axes>"
            ],
            "image/png": "[encoded data removed]"
          },
          "metadata": {}
        }
      ],
      "source": [
        "model = torch.nn.Linear(10, 2)\n",
        "optimizer = torch.optim.SGD(model.parameters(), lr=0.1)\n",
        "\n",
        "scheduler = torch.optim.lr_scheduler.CosineAnnealingLR(\n",
        "    optimizer, T_max=10, eta_min=0.001\n",
        ")\n",
        "\n",
        "# Track LRs\n",
        "lrs = []\n",
        "steps = list(range(10))\n",
        "\n",
        "for step in steps:\n",
        "    lrs.append(optimizer.param_groups[0]['lr'])\n",
        "    optimizer.step()\n",
        "    scheduler.step()\n",
        "\n",
        "plt.figure(figsize=(5,3))\n",
        "plt.plot(steps, lrs, marker='o')\n",
        "plt.title(\"Cosine Annealing LR\")\n",
        "plt.xlabel(\"Step\")\n",
        "plt.ylabel(\"Learning Rate\")\n",
        "plt.grid(True)\n",
        "plt.show()\n"
      ]
    },
    {
      "cell_type": "markdown",
      "id": "643dc3c9-7c2d-41f5-ae68-b0b50330f254",
      "metadata": {
        "id": "643dc3c9-7c2d-41f5-ae68-b0b50330f254"
      },
      "source": [
        "### Cosine Annealing with Warmup"
      ]
    },
    {
      "cell_type": "code",
      "execution_count": 60,
      "id": "ef628c7b-572d-4584-b773-cd8f73d176a6",
      "metadata": {
        "colab": {
          "base_uri": "https://localhost:8080/",
          "height": 410
        },
        "id": "ef628c7b-572d-4584-b773-cd8f73d176a6",
        "outputId": "4aa8e927-21cf-438d-e126-002136d3a244"
      },
      "outputs": [
        {
          "output_type": "display_data",
          "data": {
            "text/plain": [
              "<Figure size 800x400 with 1 Axes>"
            ],
            "image/png": "[encoded data removed]"
          },
          "metadata": {}
        }
      ],
      "source": [
        "import torch\n",
        "import math\n",
        "import matplotlib.pyplot as plt\n",
        "\n",
        "def cosine_with_warmup_lambda(current_step,eta_min=0.001,eta_max=0.1,warmup_steps=3, total_steps=13):\n",
        "    base_lr = eta_max\n",
        "    if current_step < warmup_steps:\n",
        "        # Linear warmup\n",
        "        lr = eta_min + (eta_max - eta_min) * current_step / warmup_steps\n",
        "    else:\n",
        "        # Cosine decay\n",
        "        lr = eta_min + 0.5* (eta_max - eta_min) *(\n",
        "            1+ math.cos(math.pi*(current_step-warmup_steps)/(total_steps-warmup_steps)))\n",
        "    return lr / base_lr  # scaling factor\n",
        "\n",
        "# Dummy model\n",
        "model = torch.nn.Linear(10, 2)\n",
        "learning_rate = 0.1\n",
        "optimizer = torch.optim.SGD(model.parameters(), lr=learning_rate)\n",
        "\n",
        "# Scheduler\n",
        "total_steps = 13\n",
        "scheduler = torch.optim.lr_scheduler.LambdaLR(\n",
        "    optimizer, lr_lambda=lambda step: cosine_with_warmup_lambda(step,eta_min=0.001,eta_max=learning_rate, warmup_steps=3, total_steps=total_steps)\n",
        ")\n",
        "\n",
        "lrs = []\n",
        "for step in range(total_steps):\n",
        "    lrs.append(optimizer.param_groups[0]['lr'])\n",
        "    optimizer.step()\n",
        "    scheduler.step()\n",
        "\n",
        "plt.figure(figsize=(8,4))\n",
        "plt.plot(range(total_steps), lrs, marker=\"o\")\n",
        "plt.title(\"Cosine Annealing with Warmup\")\n",
        "plt.xlabel(\"Step\")\n",
        "plt.ylabel(\"Learning Rate\")\n",
        "plt.grid(True)\n",
        "plt.show()\n"
      ]
    },
    {
      "cell_type": "markdown",
      "id": "ee16615b-5b64-481d-b635-4b3507434fc9",
      "metadata": {
        "id": "ee16615b-5b64-481d-b635-4b3507434fc9"
      },
      "source": [
        "## Cosine Annealing with Warm Restarts"
      ]
    },
    {
      "cell_type": "code",
      "execution_count": 61,
      "id": "1695b0b7-46e6-41a4-87c2-9cd713aa2909",
      "metadata": {
        "colab": {
          "base_uri": "https://localhost:8080/",
          "height": 410
        },
        "id": "1695b0b7-46e6-41a4-87c2-9cd713aa2909",
        "outputId": "a7cb0b87-1518-4a36-c11a-21070ad10d91"
      },
      "outputs": [
        {
          "output_type": "display_data",
          "data": {
            "text/plain": [
              "<Figure size 800x400 with 1 Axes>"
            ],
            "image/png": "[encoded data removed]"
          },
          "metadata": {}
        }
      ],
      "source": [
        "\n",
        "model = torch.nn.Linear(10, 2)\n",
        "optimizer = torch.optim.SGD(model.parameters(), lr=0.05)\n",
        "scheduler = torch.optim.lr_scheduler.CosineAnnealingWarmRestarts(\n",
        "    optimizer,\n",
        "    T_0=20,    # first cycle length\n",
        "    # T_mult=2, # cycle length mutiplier\n",
        "    eta_min=0.001\n",
        ")\n",
        "\n",
        "# Track LRs\n",
        "lrs = []\n",
        "steps = 100\n",
        "for step in range(steps):\n",
        "    lrs.append(optimizer.param_groups[0]['lr'])\n",
        "    optimizer.step()\n",
        "    scheduler.step()\n",
        "\n",
        "# Plot\n",
        "plt.figure(figsize=(8,4))\n",
        "plt.plot(range(steps), lrs)\n",
        "plt.title(\"Cosine Annealing with Warm Restarts\")\n",
        "plt.xlabel(\"Epoch\")\n",
        "plt.ylabel(\"Learning Rate\")\n",
        "plt.grid(True)\n",
        "plt.show()\n"
      ]
    },
    {
      "cell_type": "markdown",
      "id": "RYD4ImXOJDAi",
      "metadata": {
        "id": "RYD4ImXOJDAi"
      },
      "source": [
        "# Avoiding Overfitting Through Regularization"
      ]
    },
    {
      "cell_type": "markdown",
      "id": "R8wf43QiJPlH",
      "metadata": {
        "id": "R8wf43QiJPlH"
      },
      "source": [
        "## ℓ1 and ℓ2 Regularization\n"
      ]
    },
    {
      "cell_type": "code",
      "execution_count": 62,
      "id": "xmhm3D8JT6Ow",
      "metadata": {
        "colab": {
          "base_uri": "https://localhost:8080/"
        },
        "id": "xmhm3D8JT6Ow",
        "outputId": "2df5be29-c63e-42f2-ba27-86a296d69563"
      },
      "outputs": [
        {
          "output_type": "stream",
          "name": "stdout",
          "text": [
            "Epoch:1/10, Train Loss: 0.5705, Train Metric: 0.7923, Valid Metric: 0.8528\n",
            "Epoch:2/10, Train Loss: 0.4025, Train Metric: 0.8528, Valid Metric: 0.8410\n",
            "Epoch:3/10, Train Loss: 0.3616, Train Metric: 0.8663, Valid Metric: 0.8688\n",
            "Epoch:4/10, Train Loss: 0.3377, Train Metric: 0.8747, Valid Metric: 0.8734\n",
            "Epoch:5/10, Train Loss: 0.3189, Train Metric: 0.8828, Valid Metric: 0.8766\n",
            "Epoch:6/10, Train Loss: 0.3050, Train Metric: 0.8865, Valid Metric: 0.8714\n",
            "Epoch:7/10, Train Loss: 0.2927, Train Metric: 0.8907, Valid Metric: 0.8780\n",
            "Epoch:8/10, Train Loss: 0.2823, Train Metric: 0.8946, Valid Metric: 0.8846\n",
            "Epoch:9/10, Train Loss: 0.2745, Train Metric: 0.8972, Valid Metric: 0.8788\n",
            "Epoch:10/10, Train Loss: 0.2641, Train Metric: 0.9015, Valid Metric: 0.8666\n"
          ]
        }
      ],
      "source": [
        "model = build_model()\n",
        "optimizer = torch.optim.SGD(model.parameters(), lr=0.05, weight_decay=1e-4) #this will apply regularization to all parameters(w,b,bn,etc) which is not what we want.\n",
        "history = test_optimizer(model, optimizer)\n"
      ]
    },
    {
      "cell_type": "markdown",
      "id": "aKilXa_NnvBn",
      "metadata": {
        "id": "aKilXa_NnvBn"
      },
      "source": [
        "##### Internal working"
      ]
    },
    {
      "cell_type": "code",
      "execution_count": 63,
      "id": "ynPWpPGQUcO0",
      "metadata": {
        "colab": {
          "base_uri": "https://localhost:8080/"
        },
        "id": "ynPWpPGQUcO0",
        "outputId": "464ff38f-2fb7-4dca-c4e4-b5cb239ad10a"
      },
      "outputs": [
        {
          "output_type": "stream",
          "name": "stdout",
          "text": [
            "Name: 0.weight\n",
            "Shape: torch.Size([2, 5])\n",
            "Values:\n",
            "Parameter containing:\n",
            "tensor([[ 0.3419,  0.3712, -0.1048,  0.4108, -0.0980],\n",
            "        [ 0.0902, -0.2177,  0.2626,  0.3942, -0.3281]], requires_grad=True)\n",
            "\n",
            "Name: 0.bias\n",
            "Shape: torch.Size([2])\n",
            "Values:\n",
            "Parameter containing:\n",
            "tensor([0.3887, 0.0837], requires_grad=True)\n",
            "\n",
            "Name: 1.weight\n",
            "Shape: torch.Size([1, 2])\n",
            "Values:\n",
            "Parameter containing:\n",
            "tensor([[0.5224, 0.0958]], requires_grad=True)\n",
            "\n",
            "Name: 1.bias\n",
            "Shape: torch.Size([1])\n",
            "Values:\n",
            "Parameter containing:\n",
            "tensor([0.3410], requires_grad=True)\n",
            "\n"
          ]
        }
      ],
      "source": [
        "torch.manual_seed(42)\n",
        "model = nn.Sequential(\n",
        "        nn.Linear(5, 2),\n",
        "        nn.Linear(2,1)\n",
        "        )\n",
        "for name, param in model.named_parameters():\n",
        "  print(f\"Name: {name}\")\n",
        "  print(f\"Shape: {param.shape}\")\n",
        "  print(f\"Values:\\n{param}\\n\")"
      ]
    },
    {
      "cell_type": "code",
      "execution_count": 64,
      "id": "hhogUdQ-XBpU",
      "metadata": {
        "colab": {
          "base_uri": "https://localhost:8080/"
        },
        "id": "hhogUdQ-XBpU",
        "outputId": "cdbe66f2-69ec-471e-a621-46019b9c356c"
      },
      "outputs": [
        {
          "output_type": "execute_result",
          "data": {
            "text/plain": [
              "torch.Size([2, 5])"
            ]
          },
          "metadata": {},
          "execution_count": 64
        }
      ],
      "source": [
        "param_to_regularize = [param for name, param in model.named_parameters()\n",
        "                       if not 'bias' in name and not 'bn' in name]\n",
        "param_to_regularize[0].shape"
      ]
    },
    {
      "cell_type": "code",
      "execution_count": 65,
      "id": "k4BQPqy2cKwY",
      "metadata": {
        "colab": {
          "base_uri": "https://localhost:8080/"
        },
        "id": "k4BQPqy2cKwY",
        "outputId": "097afc53-6ac9-4d65-d237-efad3aee6a69"
      },
      "outputs": [
        {
          "output_type": "execute_result",
          "data": {
            "text/plain": [
              "tensor(1.1137, grad_fn=<AddBackward0>)"
            ]
          },
          "metadata": {},
          "execution_count": 65
        }
      ],
      "source": [
        "l2_loss = sum(param.pow(2).sum() for param in param_to_regularize)\n",
        "l2_loss"
      ]
    },
    {
      "cell_type": "code",
      "execution_count": 66,
      "id": "771e7-0EgnPN",
      "metadata": {
        "colab": {
          "base_uri": "https://localhost:8080/"
        },
        "id": "771e7-0EgnPN",
        "outputId": "96b918e3-6561-4c9e-a459-f67e734eac0d"
      },
      "outputs": [
        {
          "output_type": "execute_result",
          "data": {
            "text/plain": [
              "tensor(1.1136)"
            ]
          },
          "metadata": {},
          "execution_count": 66
        }
      ],
      "source": [
        "w =[ torch.tensor([[ 0.3419,  0.3712, -0.1048,  0.4108, -0.0980],\n",
        "        [ 0.0902, -0.2177,  0.2626,  0.3942, -0.3281]]),\n",
        "     torch.tensor([[0.5224, 0.0958]])\n",
        "]\n",
        "sum([wn.pow(2).sum() for wn in w])"
      ]
    },
    {
      "cell_type": "code",
      "execution_count": 67,
      "id": "caa96zO6m4qP",
      "metadata": {
        "colab": {
          "base_uri": "https://localhost:8080/"
        },
        "id": "caa96zO6m4qP",
        "outputId": "f7fbc2d8-0057-48c9-caa1-a57f1180e643"
      },
      "outputs": [
        {
          "output_type": "execute_result",
          "data": {
            "text/plain": [
              "tensor([ 4,  9, 16])"
            ]
          },
          "metadata": {},
          "execution_count": 67
        }
      ],
      "source": [
        "a = torch.tensor([2,3,4])\n",
        "a.pow(2)"
      ]
    },
    {
      "cell_type": "markdown",
      "id": "8CDsji0OoKVo",
      "metadata": {
        "id": "8CDsji0OoKVo"
      },
      "source": [
        "##### Custom implementation of ℓ2\n",
        "\n",
        "\n"
      ]
    },
    {
      "cell_type": "code",
      "execution_count": 68,
      "id": "FzND38ZbnXZN",
      "metadata": {
        "colab": {
          "base_uri": "https://localhost:8080/"
        },
        "id": "FzND38ZbnXZN",
        "outputId": "dbad4a4e-cf0c-475c-e04d-eb06299482ed"
      },
      "outputs": [
        {
          "output_type": "stream",
          "name": "stdout",
          "text": [
            "Epoch: 1/10 Total-Loss: 0.634 L2-Loss: 637.471 \n",
            "Epoch: 2/10 Total-Loss: 0.467 L2-Loss: 647.278 \n",
            "Epoch: 3/10 Total-Loss: 0.427 L2-Loss: 649.363 \n",
            "Epoch: 4/10 Total-Loss: 0.405 L2-Loss: 648.780 \n",
            "Epoch: 5/10 Total-Loss: 0.387 L2-Loss: 647.507 \n",
            "Epoch: 6/10 Total-Loss: 0.370 L2-Loss: 646.706 \n",
            "Epoch: 7/10 Total-Loss: 0.361 L2-Loss: 645.744 \n",
            "Epoch: 8/10 Total-Loss: 0.351 L2-Loss: 644.799 \n",
            "Epoch: 9/10 Total-Loss: 0.342 L2-Loss: 644.774 \n",
            "Epoch: 10/10 Total-Loss: 0.333 L2-Loss: 644.507 \n"
          ]
        }
      ],
      "source": [
        "n_epochs = 10\n",
        "train_loader = DataLoader(train_set, batch_size=32, shuffle=True)\n",
        "loss_fn = nn.CrossEntropyLoss()\n",
        "\n",
        "model = build_model()\n",
        "optimizer = torch.optim.SGD(model.parameters(), lr=0.05)\n",
        "params_to_regularize = [\n",
        "    param for name, param in model.named_parameters()\n",
        "    if not 'bias' in name and not 'bn' in name\n",
        "]\n",
        "for epoch in range(n_epochs):\n",
        "  total_loss = 0\n",
        "  total_l2_loss = 0\n",
        "  for X_batch, y_batch in train_loader:\n",
        "    model.train()\n",
        "    X_batch, y_batch = X_batch.to(device), y_batch.to(device)\n",
        "    y_pred = model(X_batch)\n",
        "    main_loss = loss_fn(y_pred, y_batch)\n",
        "    l2_loss = sum(param.pow(2).sum() for param in params_to_regularize)\n",
        "    loss = main_loss + 1e-4 * l2_loss\n",
        "    total_loss += loss.item()\n",
        "    total_l2_loss += l2_loss.item()\n",
        "    loss.backward()\n",
        "    optimizer.step()\n",
        "    optimizer.zero_grad()\n",
        "  print(f\"Epoch: {epoch+1}/{n_epochs} \"\n",
        "         f\"Total-Loss: {total_loss/len(train_loader):.3f} \"\n",
        "         f\"L2-Loss: {total_l2_loss/len(train_loader):.3f} \")"
      ]
    },
    {
      "cell_type": "code",
      "execution_count": 69,
      "id": "a9bbaa6b-8f7c-46aa-83ff-e2d5e18d9a89",
      "metadata": {
        "colab": {
          "base_uri": "https://localhost:8080/"
        },
        "id": "a9bbaa6b-8f7c-46aa-83ff-e2d5e18d9a89",
        "outputId": "91703e68-3061-424e-966a-5f742b4d1596"
      },
      "outputs": [
        {
          "output_type": "stream",
          "name": "stdout",
          "text": [
            "Epoch: 1/10 Total-Loss: 0.5715 L2-Loss: 20.2485 \n",
            "Epoch: 2/10 Total-Loss: 0.4024 L2-Loss: 21.2092 \n",
            "Epoch: 3/10 Total-Loss: 0.3614 L2-Loss: 21.9066 \n",
            "Epoch: 4/10 Total-Loss: 0.3391 L2-Loss: 22.5232 \n",
            "Epoch: 5/10 Total-Loss: 0.3202 L2-Loss: 23.1029 \n",
            "Epoch: 6/10 Total-Loss: 0.3020 L2-Loss: 23.6593 \n",
            "Epoch: 7/10 Total-Loss: 0.2926 L2-Loss: 24.2308 \n",
            "Epoch: 8/10 Total-Loss: 0.2825 L2-Loss: 24.7957 \n",
            "Epoch: 9/10 Total-Loss: 0.2732 L2-Loss: 25.3681 \n",
            "Epoch: 10/10 Total-Loss: 0.2632 L2-Loss: 25.9369 \n"
          ]
        }
      ],
      "source": [
        "n_epochs = 10\n",
        "batch_size = 32\n",
        "train_loader = DataLoader(train_set, batch_size=batch_size, shuffle=True)\n",
        "loss_fn = nn.CrossEntropyLoss()\n",
        "\n",
        "model = build_model()\n",
        "optimizer = torch.optim.SGD(model.parameters(), lr=0.05)\n",
        "params_to_regularize = [\n",
        "    param for name, param in model.named_parameters()\n",
        "    if not 'bias' in name and not 'bn' in name\n",
        "]\n",
        "for epoch in range(n_epochs):\n",
        "  total_loss = 0\n",
        "  total_l2_loss = 0\n",
        "  for X_batch, y_batch in train_loader:\n",
        "    model.train()\n",
        "    X_batch, y_batch = X_batch.to(device), y_batch.to(device)\n",
        "    y_pred = model(X_batch)\n",
        "    main_loss = loss_fn(y_pred, y_batch)\n",
        "\n",
        "    # Divide by batch_size to match the scale of main_loss (averaged per sample)\n",
        "    # Without division, L2 term would dominate gradients\n",
        "\n",
        "    l2_loss = sum(param.pow(2).sum() for param in params_to_regularize)/batch_size\n",
        "\n",
        "    # Add L2 to main loss\n",
        "    # 1e-4 * l2_loss -> L2 regularization strength\n",
        "    # As we are adding l2 to main loss , gradients of l2 will be calculated in loss.backward() ∂/∂w(λw**2)= 2λw\n",
        "    # Multiply by 0.5 to match optimizer weight_decay gradient:\n",
        "\n",
        "    # loss = main_loss + 1e-4 * l2_loss\n",
        "    loss = main_loss + 0.5 * 1e-4 * l2_loss\n",
        "\n",
        "    total_loss += loss.item()\n",
        "    total_l2_loss += l2_loss.item()\n",
        "    loss.backward()\n",
        "    optimizer.step()\n",
        "    optimizer.zero_grad()\n",
        "  print(f\"Epoch: {epoch+1}/{n_epochs} \"\n",
        "         f\"Total-Loss: {total_loss/len(train_loader):.4f} \"\n",
        "         f\"L2-Loss: {total_l2_loss/len(train_loader):.4f} \")"
      ]
    },
    {
      "cell_type": "code",
      "execution_count": 70,
      "id": "UYVlIILZngzA",
      "metadata": {
        "colab": {
          "base_uri": "https://localhost:8080/"
        },
        "id": "UYVlIILZngzA",
        "outputId": "ac41f6f5-f076-4946-f77e-6fa1efb50594"
      },
      "outputs": [
        {
          "output_type": "stream",
          "name": "stdout",
          "text": [
            "Epoch: 1/4 Total-Loss: 0.570 \n",
            "Epoch: 2/4 Total-Loss: 0.403 \n",
            "Epoch: 3/4 Total-Loss: 0.361 \n",
            "Epoch: 4/4 Total-Loss: 0.337 \n"
          ]
        }
      ],
      "source": [
        "n_epochs = 4\n",
        "train_loader = DataLoader(train_set, batch_size=32, shuffle=True)\n",
        "loss_fn = nn.CrossEntropyLoss()\n",
        "model = build_model()\n",
        "\n",
        "params_to_regularize = [\n",
        "    param for name, param in model.named_parameters()\n",
        "    if not 'bias' in name and not 'bn' in name]\n",
        "params_bias_and_bn = [\n",
        "    param for name, param in model.named_parameters()\n",
        "    if 'bias' in name or 'bn' in name]\n",
        "optimizer = torch.optim.SGD([\n",
        "    {\"params\":params_to_regularize, \"weight_decay\":1e-4},\n",
        "    {\"params\":params_bias_and_bn, \"weight_decay\":0}\n",
        "], lr=0.05)\n",
        "\n",
        "for epoch in range(n_epochs):\n",
        "  total_loss = 0\n",
        "  for X_batch, y_batch in train_loader:\n",
        "    X_batch, y_batch = X_batch.to(device), y_batch.to(device)\n",
        "    y_pred = model(X_batch)\n",
        "    loss = loss_fn(y_pred, y_batch)\n",
        "    total_loss += loss.item()\n",
        "    loss.backward()\n",
        "    optimizer.step()\n",
        "    optimizer.zero_grad()\n",
        "  print(f\"Epoch: {epoch+1}/{n_epochs} \"\n",
        "        f\"Total-Loss: {total_loss/len(train_loader):.3f} \")"
      ]
    },
    {
      "cell_type": "markdown",
      "id": "abfcea9f-f7a6-4449-aebc-cf92dfe3f4c9",
      "metadata": {
        "id": "abfcea9f-f7a6-4449-aebc-cf92dfe3f4c9"
      },
      "source": [
        "## ℓ1 Regularization"
      ]
    },
    {
      "cell_type": "code",
      "execution_count": 71,
      "id": "96244dc2-fc4a-4d29-ba4e-61c2603e94a2",
      "metadata": {
        "colab": {
          "base_uri": "https://localhost:8080/"
        },
        "id": "96244dc2-fc4a-4d29-ba4e-61c2603e94a2",
        "outputId": "41278bb7-a9cd-4f22-9865-83cb2acee25b"
      },
      "outputs": [
        {
          "output_type": "stream",
          "name": "stdout",
          "text": [
            "Name: 0.weight\n",
            "Shape: torch.Size([2, 5])\n",
            "Values:\n",
            "Parameter containing:\n",
            "tensor([[ 0.3419,  0.3712, -0.1048,  0.4108, -0.0980],\n",
            "        [ 0.0902, -0.2177,  0.2626,  0.3942, -0.3281]], requires_grad=True)\n",
            "\n",
            "Name: 0.bias\n",
            "Shape: torch.Size([2])\n",
            "Values:\n",
            "Parameter containing:\n",
            "tensor([0.3887, 0.0837], requires_grad=True)\n",
            "\n",
            "Name: 1.weight\n",
            "Shape: torch.Size([1, 2])\n",
            "Values:\n",
            "Parameter containing:\n",
            "tensor([[0.5224, 0.0958]], requires_grad=True)\n",
            "\n",
            "Name: 1.bias\n",
            "Shape: torch.Size([1])\n",
            "Values:\n",
            "Parameter containing:\n",
            "tensor([0.3410], requires_grad=True)\n",
            "\n"
          ]
        }
      ],
      "source": [
        "torch.manual_seed(42)\n",
        "model = nn.Sequential(\n",
        "        nn.Linear(5, 2),\n",
        "        nn.Linear(2,1)\n",
        "        )\n",
        "for name, param in model.named_parameters():\n",
        "  print(f\"Name: {name}\")\n",
        "  print(f\"Shape: {param.shape}\")\n",
        "  print(f\"Values:\\n{param}\\n\")"
      ]
    },
    {
      "cell_type": "code",
      "execution_count": 72,
      "id": "6aed703e-6c0b-4487-83cd-602e7724c2d8",
      "metadata": {
        "colab": {
          "base_uri": "https://localhost:8080/"
        },
        "id": "6aed703e-6c0b-4487-83cd-602e7724c2d8",
        "outputId": "88f15687-97ed-4462-bece-08f04e1bc52b"
      },
      "outputs": [
        {
          "output_type": "execute_result",
          "data": {
            "text/plain": [
              "tensor(3.2377)"
            ]
          },
          "metadata": {},
          "execution_count": 72
        }
      ],
      "source": [
        "w =[ torch.tensor([[ 0.3419,  0.3712, -0.1048,  0.4108, -0.0980],\n",
        "        [ 0.0902, -0.2177,  0.2626,  0.3942, -0.3281]]),\n",
        "     torch.tensor([[0.5224, 0.0958]])\n",
        "]\n",
        "sum([wn.abs().sum() for wn in w])"
      ]
    },
    {
      "cell_type": "code",
      "execution_count": 73,
      "id": "44520dbd-9554-44af-8971-cf668c7f9b59",
      "metadata": {
        "id": "44520dbd-9554-44af-8971-cf668c7f9b59"
      },
      "outputs": [],
      "source": [
        "param_to_regularize = [param for name, param in model.named_parameters()\n",
        "                       if not 'bias' in name and not 'bn' in name]"
      ]
    },
    {
      "cell_type": "code",
      "execution_count": 74,
      "id": "9d67fccb-0555-4786-a74a-a1a961845d65",
      "metadata": {
        "colab": {
          "base_uri": "https://localhost:8080/"
        },
        "id": "9d67fccb-0555-4786-a74a-a1a961845d65",
        "outputId": "f22b1933-46ed-4258-c173-76baaa0e65f7"
      },
      "outputs": [
        {
          "output_type": "execute_result",
          "data": {
            "text/plain": [
              "tensor(3.2378, grad_fn=<AddBackward0>)"
            ]
          },
          "metadata": {},
          "execution_count": 74
        }
      ],
      "source": [
        "l1_loss = sum(param.abs().sum() for param in param_to_regularize)\n",
        "l1_loss"
      ]
    },
    {
      "cell_type": "code",
      "execution_count": 75,
      "id": "76964ee4-0f94-4dca-96b1-26e96eaef1a6",
      "metadata": {
        "colab": {
          "base_uri": "https://localhost:8080/"
        },
        "id": "76964ee4-0f94-4dca-96b1-26e96eaef1a6",
        "outputId": "3ab99204-5d5a-4993-a1a7-d66e39161788"
      },
      "outputs": [
        {
          "output_type": "stream",
          "name": "stdout",
          "text": [
            "Epoch: 1/4 Total-Loss: 1.1442 L1-Loss: 5703.5922 \n",
            "Epoch: 2/4 Total-Loss: 0.9194 L1-Loss: 5098.5916 \n",
            "Epoch: 3/4 Total-Loss: 0.8286 L1-Loss: 4552.9794 \n",
            "Epoch: 4/4 Total-Loss: 0.7642 L1-Loss: 4077.4783 \n"
          ]
        }
      ],
      "source": [
        "n_epochs = 4\n",
        "train_loader = DataLoader(train_set, batch_size=32, shuffle=True)\n",
        "loss_fn = nn.CrossEntropyLoss()\n",
        "model = build_model()\n",
        "\n",
        "optimizer = torch.optim.SGD(model.parameters(),lr=0.05)\n",
        "params_to_regularize = [\n",
        "    param for name, param in model.named_parameters()\n",
        "    if not 'bias' in name and not 'bn' in name\n",
        "]\n",
        "\n",
        "for epoch in range(n_epochs):\n",
        "  total_loss = 0\n",
        "  total_l1_loss = 0\n",
        "  for X_batch, y_batch in train_loader:\n",
        "    X_batch, y_batch = X_batch.to(device), y_batch.to(device)\n",
        "    y_pred = model(X_batch)\n",
        "    main_loss = loss_fn(y_pred, y_batch)\n",
        "    l1_loss = sum(param.abs().sum() for param in params_to_regularize)\n",
        "    total_l1_loss += l1_loss.item()\n",
        "    loss = main_loss + 1e-4 * l1_loss\n",
        "    total_loss += loss.item()\n",
        "    loss.backward()\n",
        "    optimizer.step()\n",
        "    optimizer.zero_grad()\n",
        "  print(f\"Epoch: {epoch+1}/{n_epochs} \"\n",
        "         f\"Total-Loss: {total_loss/len(train_loader):.4f} \"\n",
        "         f\"L1-Loss: {total_l1_loss/len(train_loader):.4f} \")\n",
        ""
      ]
    },
    {
      "cell_type": "markdown",
      "id": "53c4b227-f87e-4964-ae54-8d4a50ce85c6",
      "metadata": {
        "id": "53c4b227-f87e-4964-ae54-8d4a50ce85c6"
      },
      "source": [
        "## Dropout"
      ]
    },
    {
      "cell_type": "code",
      "execution_count": 76,
      "id": "d8540cfb-e619-4209-bb44-7f94c272f2af",
      "metadata": {
        "colab": {
          "base_uri": "https://localhost:8080/"
        },
        "id": "d8540cfb-e619-4209-bb44-7f94c272f2af",
        "outputId": "d9a2a919-7854-4023-ea7b-52b0711dae97"
      },
      "outputs": [
        {
          "output_type": "stream",
          "name": "stdout",
          "text": [
            "Epoch:1/10, Train Loss: 0.6716, Train Metric: 0.7511, Valid Metric: 0.8278\n",
            "Epoch:2/10, Train Loss: 0.5142, Train Metric: 0.8121, Valid Metric: 0.8424\n",
            "Epoch:3/10, Train Loss: 0.4834, Train Metric: 0.8220, Valid Metric: 0.8474\n",
            "Epoch:4/10, Train Loss: 0.4682, Train Metric: 0.8289, Valid Metric: 0.8520\n",
            "Epoch:5/10, Train Loss: 0.4508, Train Metric: 0.8342, Valid Metric: 0.8538\n",
            "Epoch:6/10, Train Loss: 0.4441, Train Metric: 0.8378, Valid Metric: 0.8650\n",
            "Epoch:7/10, Train Loss: 0.4326, Train Metric: 0.8423, Valid Metric: 0.8574\n",
            "Epoch:8/10, Train Loss: 0.4308, Train Metric: 0.8418, Valid Metric: 0.8676\n",
            "Epoch:9/10, Train Loss: 0.4191, Train Metric: 0.8461, Valid Metric: 0.8672\n",
            "Epoch:10/10, Train Loss: 0.4146, Train Metric: 0.8478, Valid Metric: 0.8666\n"
          ]
        }
      ],
      "source": [
        "torch.manual_seed(42)\n",
        "\n",
        "model = nn.Sequential(\n",
        "    nn.Flatten(),\n",
        "    nn.Dropout(p=0.2), nn.Linear(28*28, 100), nn.ReLU(),\n",
        "    nn.Dropout(p=0.2), nn.Linear(100, 100), nn.ReLU(),\n",
        "    nn.Dropout(p=0.2), nn.Linear(100, 10)\n",
        ").to(device)\n",
        "model.apply(use_he_init)\n",
        "optimizer = torch.optim.SGD(model.parameters(), lr=0.02, momentum=0.9)\n",
        "history_dropout, acc_dropout = test_optimizer(model, optimizer)"
      ]
    },
    {
      "cell_type": "markdown",
      "id": "1db7d0dc-0945-453a-9660-9807656a2afa",
      "metadata": {
        "id": "1db7d0dc-0945-453a-9660-9807656a2afa"
      },
      "source": [
        "## MC Dropout"
      ]
    },
    {
      "cell_type": "code",
      "execution_count": 77,
      "id": "2a5cfeca-3c8b-457b-8b1e-dd4c6b1d3170",
      "metadata": {
        "colab": {
          "base_uri": "https://localhost:8080/"
        },
        "id": "2a5cfeca-3c8b-457b-8b1e-dd4c6b1d3170",
        "outputId": "8e0c13eb-cd43-404a-dcdb-5fb4f27ec2c8"
      },
      "outputs": [
        {
          "output_type": "execute_result",
          "data": {
            "text/plain": [
              "tensor([[1, 2, 3, 4],\n",
              "        [1, 2, 3, 4],\n",
              "        [1, 2, 3, 4],\n",
              "        [1, 2, 3, 4],\n",
              "        [1, 2, 3, 4],\n",
              "        [1, 2, 3, 4],\n",
              "        [1, 2, 3, 4],\n",
              "        [1, 2, 3, 4],\n",
              "        [1, 2, 3, 4],\n",
              "        [1, 2, 3, 4],\n",
              "        [5, 6, 7, 8],\n",
              "        [5, 6, 7, 8],\n",
              "        [5, 6, 7, 8],\n",
              "        [5, 6, 7, 8],\n",
              "        [5, 6, 7, 8],\n",
              "        [5, 6, 7, 8],\n",
              "        [5, 6, 7, 8],\n",
              "        [5, 6, 7, 8],\n",
              "        [5, 6, 7, 8],\n",
              "        [5, 6, 7, 8]])"
            ]
          },
          "metadata": {},
          "execution_count": 77
        }
      ],
      "source": [
        "x = torch.tensor([[1,2,3,4],[5,6,7,8]])\n",
        "x_new = x.repeat_interleave(10,dim=0)\n",
        "x_new"
      ]
    },
    {
      "cell_type": "code",
      "execution_count": 78,
      "id": "8fedcdd4-6830-422e-acef-5c5aad6bc34c",
      "metadata": {
        "id": "8fedcdd4-6830-422e-acef-5c5aad6bc34c"
      },
      "outputs": [],
      "source": [
        "model.eval()\n",
        "for module in model.modules():\n",
        "    if isinstance(module, nn.Dropout):\n",
        "        module.train()\n",
        "\n",
        "X_new = torch.FloatTensor(fashion_mnist.data[:3].reshape(3,1,28,28)/255)\n",
        "X_new = X_new.to(device)\n",
        "\n",
        "with torch.no_grad():\n",
        "    X_new_repetead = X_new.repeat_interleave(100, dim=0)\n",
        "    y_logits_all = model(X_new_repetead).reshape(3,100,10)\n",
        "    y_probas_all = nn.functional.softmax(y_logits_all, dim=-1)\n",
        "    y_probas = y_probas_all.mean(dim=1)\n",
        "\n",
        ""
      ]
    },
    {
      "cell_type": "code",
      "execution_count": 79,
      "id": "cf5b5361-fe77-4831-aa76-8c07de4be6a9",
      "metadata": {
        "colab": {
          "base_uri": "https://localhost:8080/"
        },
        "id": "cf5b5361-fe77-4831-aa76-8c07de4be6a9",
        "outputId": "d4bd5bd9-c51b-4035-bc07-fde7750cd151"
      },
      "outputs": [
        {
          "output_type": "execute_result",
          "data": {
            "text/plain": [
              "tensor([[0.0000, 0.0000, 0.0000, 0.0000, 0.0000, 0.0000, 0.0000, 0.0300, 0.0000,\n",
              "         0.9700],\n",
              "        [0.9900, 0.0000, 0.0000, 0.0000, 0.0000, 0.0000, 0.0100, 0.0000, 0.0000,\n",
              "         0.0000],\n",
              "        [0.4600, 0.0500, 0.0200, 0.2600, 0.0300, 0.0000, 0.1700, 0.0000, 0.0100,\n",
              "         0.0000]], device='cuda:0')"
            ]
          },
          "metadata": {},
          "execution_count": 79
        }
      ],
      "source": [
        "y_probas.round(decimals=2)"
      ]
    },
    {
      "cell_type": "code",
      "execution_count": 80,
      "id": "f1cd1449-896c-4e24-b04d-81c48307d50f",
      "metadata": {
        "colab": {
          "base_uri": "https://localhost:8080/"
        },
        "id": "f1cd1449-896c-4e24-b04d-81c48307d50f",
        "outputId": "17d9a38c-d324-4424-cac3-b7512eea0876"
      },
      "outputs": [
        {
          "output_type": "execute_result",
          "data": {
            "text/plain": [
              "tensor([[0.0000, 0.0000, 0.0000, 0.0000, 0.0000, 0.0100, 0.0000, 0.0500, 0.0000,\n",
              "         0.0500],\n",
              "        [0.0300, 0.0000, 0.0000, 0.0000, 0.0000, 0.0000, 0.0300, 0.0000, 0.0000,\n",
              "         0.0000],\n",
              "        [0.2000, 0.0600, 0.0200, 0.1500, 0.0600, 0.0000, 0.0600, 0.0000, 0.0100,\n",
              "         0.0000]], device='cuda:0')"
            ]
          },
          "metadata": {},
          "execution_count": 80
        }
      ],
      "source": [
        "y_std = y_probas_all.std(dim=1).round(decimals=2)\n",
        "y_std"
      ]
    },
    {
      "cell_type": "markdown",
      "source": [
        "## Max-Norm Regularization"
      ],
      "metadata": {
        "id": "pJ1pTVqFZkJR"
      },
      "id": "pJ1pTVqFZkJR"
    },
    {
      "cell_type": "code",
      "source": [
        "def apply_max_norm(model, max_norm=2, epsilon=1e-8, dim=1):\n",
        "  with torch.no_grad():\n",
        "    for name, param in model.named_parameters():\n",
        "      if 'bias' not in name:\n",
        "        actual_norm = param.norm(p=2, dim=dim, keepdim=True)\n",
        "        target_norm = torch.clamp(actual_norm, 0, max_norm)\n",
        "        param *= target_norm / (actual_norm + epsilon)"
      ],
      "metadata": {
        "id": "7gJwh5E0ZpIP"
      },
      "id": "7gJwh5E0ZpIP",
      "execution_count": 83,
      "outputs": []
    },
    {
      "cell_type": "code",
      "source": [
        "n_epochs = 4\n",
        "train_loader = DataLoader(train_set, batch_size=32, shuffle=True)\n",
        "optimizer = torch.optim.SGD(model.parameters(), lr=0.05)\n",
        "loss_fn = nn.CrossEntropyLoss()\n",
        "model = build_model()\n",
        "for epoch in range(n_epochs):\n",
        "  total_loss = 0\n",
        "  for X_batch, y_batch in train_loader:\n",
        "    model.train()\n",
        "    X_batch, y_batch = X_batch.to(device), y_batch.to(device)\n",
        "    y_pred = model(X_batch)\n",
        "    loss = loss_fn(y_pred, y_batch)\n",
        "    total_loss += loss.item()\n",
        "    loss.backward()\n",
        "    optimizer.step()\n",
        "    optimizer.zero_grad()\n",
        "    apply_max_norm(model)\n",
        "  print(f\"Epoch: {epoch+1}/{n_epochs} \"\n",
        "       f\"loss: {total_loss/len(train_loader)}\")"
      ],
      "metadata": {
        "colab": {
          "base_uri": "https://localhost:8080/"
        },
        "id": "WgtbwYt4a3Gb",
        "outputId": "17e44652-e704-4d65-fee1-351913af1d19"
      },
      "id": "WgtbwYt4a3Gb",
      "execution_count": 84,
      "outputs": [
        {
          "output_type": "stream",
          "name": "stdout",
          "text": [
            "Epoch: 1/4 loss: 2.4336646698879045\n",
            "Epoch: 2/4 loss: 2.433682520352109\n",
            "Epoch: 3/4 loss: 2.4336911063335744\n",
            "Epoch: 4/4 loss: 2.4336768173075747\n"
          ]
        }
      ]
    }
  ],
  "metadata": {
    "accelerator": "GPU",
    "colab": {
      "gpuType": "T4",
      "provenance": []
    },
    "kernelspec": {
      "display_name": "Python [conda env:base] *",
      "language": "python",
      "name": "conda-base-py"
    },
    "language_info": {
      "codemirror_mode": {
        "name": "ipython",
        "version": 3
      },
      "file_extension": ".py",
      "mimetype": "text/x-python",
      "name": "python",
      "nbconvert_exporter": "python",
      "pygments_lexer": "ipython3",
      "version": "3.12.2"
    }
  },
  "nbformat": 4,
  "nbformat_minor": 5
}