{
 "cells": [
  {
   "cell_type": "markdown",
   "id": "a2c74773-ac49-4134-a203-5b0239babf92",
   "metadata": {},
   "source": [
    "# Vanishing/Exploding Gradients Problem"
   ]
  },
  {
   "cell_type": "markdown",
   "id": "2e8d6dee-2cb2-4312-851a-b6bba47aa607",
   "metadata": {},
   "source": [
    "## Glorot and He Initialization"
   ]
  },
  {
   "cell_type": "code",
   "execution_count": 4,
   "id": "8c6051ab-e0fe-4d3a-b464-e214a6d7e006",
   "metadata": {},
   "outputs": [
    {
     "data": {
      "text/plain": [
       "torch.Size([10, 40])"
      ]
     },
     "execution_count": 4,
     "metadata": {},
     "output_type": "execute_result"
    }
   ],
   "source": [
    "import torch\n",
    "import torch.nn as nn\n",
    "\n",
    "layer = nn.Linear(40, 10)\n",
    "layer.weight.shape"
   ]
  },
  {
   "cell_type": "code",
   "execution_count": 5,
   "id": "86061d68-7548-40ab-a42a-1369869d95ff",
   "metadata": {},
   "outputs": [
    {
     "data": {
      "text/plain": [
       "tensor([ 0.0381,  0.0389,  0.1085,  0.0407, -0.1058, -0.1046,  0.0603,  0.0576,\n",
       "         0.0638, -0.0148, -0.1172,  0.1388,  0.0791, -0.1340,  0.0588,  0.0765,\n",
       "        -0.0298,  0.1425,  0.0880,  0.1417, -0.0578, -0.1159,  0.0319, -0.0018,\n",
       "        -0.1426,  0.0153,  0.0917, -0.1019,  0.0428,  0.0068,  0.0844, -0.0469,\n",
       "        -0.1578,  0.1303,  0.1105, -0.0995, -0.0700, -0.0508,  0.0376,  0.1548])"
      ]
     },
     "execution_count": 5,
     "metadata": {},
     "output_type": "execute_result"
    }
   ],
   "source": [
    "layer.weight.data[0] "
   ]
  },
  {
   "cell_type": "code",
   "execution_count": 6,
   "id": "1a4943bf-7711-43cb-9907-bb4769c27cac",
   "metadata": {},
   "outputs": [],
   "source": [
    "layer.weight.data *= 6**0.5  # He init"
   ]
  },
  {
   "cell_type": "code",
   "execution_count": 7,
   "id": "ba3dbb11-227d-410e-a2b3-76f740ea5dc0",
   "metadata": {},
   "outputs": [
    {
     "data": {
      "text/plain": [
       "tensor([ 0.0933,  0.0952,  0.2657,  0.0997, -0.2591, -0.2561,  0.1477,  0.1411,\n",
       "         0.1563, -0.0362, -0.2870,  0.3401,  0.1938, -0.3283,  0.1440,  0.1873,\n",
       "        -0.0731,  0.3490,  0.2155,  0.3471, -0.1416, -0.2839,  0.0782, -0.0044,\n",
       "        -0.3494,  0.0375,  0.2245, -0.2496,  0.1048,  0.0167,  0.2067, -0.1149,\n",
       "        -0.3866,  0.3191,  0.2707, -0.2437, -0.1715, -0.1245,  0.0922,  0.3792])"
      ]
     },
     "execution_count": 7,
     "metadata": {},
     "output_type": "execute_result"
    }
   ],
   "source": [
    "layer.weight.data[0]"
   ]
  },
  {
   "cell_type": "code",
   "execution_count": 8,
   "id": "b053d66d-9c28-45b2-89f2-ceb0623bf0fa",
   "metadata": {},
   "outputs": [
    {
     "data": {
      "text/plain": [
       "tensor([-0.0649, -0.0632, -0.0706, -0.0283, -0.0608, -0.1432,  0.0786,  0.0967,\n",
       "         0.0878, -0.0658])"
      ]
     },
     "execution_count": 8,
     "metadata": {},
     "output_type": "execute_result"
    }
   ],
   "source": [
    "layer.bias.data"
   ]
  },
  {
   "cell_type": "code",
   "execution_count": 9,
   "id": "15b0dd83-e91f-4d88-92ef-e72066631b0f",
   "metadata": {},
   "outputs": [
    {
     "data": {
      "text/plain": [
       "tensor([0., 0., 0., 0., 0., 0., 0., 0., 0., 0.])"
      ]
     },
     "execution_count": 9,
     "metadata": {},
     "output_type": "execute_result"
    }
   ],
   "source": [
    "torch.zero_(layer.bias.data)"
   ]
  },
  {
   "cell_type": "code",
   "execution_count": 10,
   "id": "efb0cfb3-fec8-40a7-bafb-d2867931de56",
   "metadata": {},
   "outputs": [
    {
     "data": {
      "text/plain": [
       "Parameter containing:\n",
       "tensor([0., 0., 0., 0., 0., 0., 0., 0., 0., 0.], requires_grad=True)"
      ]
     },
     "execution_count": 10,
     "metadata": {},
     "output_type": "execute_result"
    }
   ],
   "source": [
    "layer = nn.Linear(40, 10)\n",
    "nn.init.kaiming_uniform_(layer.weight)\n",
    "nn.init.zeros_(layer.bias)"
   ]
  },
  {
   "cell_type": "code",
   "execution_count": 11,
   "id": "4c1f874f-53a9-4823-a93a-1d59eb43da07",
   "metadata": {},
   "outputs": [
    {
     "data": {
      "text/plain": [
       "Sequential(\n",
       "  (0): Linear(in_features=40, out_features=30, bias=True)\n",
       "  (1): ReLU()\n",
       "  (2): Linear(in_features=30, out_features=1, bias=True)\n",
       "  (3): ReLU()\n",
       ")"
      ]
     },
     "execution_count": 11,
     "metadata": {},
     "output_type": "execute_result"
    }
   ],
   "source": [
    "def use_he_init(module):\n",
    "    if isinstance(module, nn.Linear):\n",
    "        nn.init.kaiming_uniform_(module.weight)\n",
    "        nn.init.zeros_(module.bias)\n",
    "model = nn.Sequential(nn.Linear(40, 30), nn.ReLU(), nn.Linear(30, 1), nn.ReLU())\n",
    "model.apply(use_he_init)"
   ]
  },
  {
   "cell_type": "code",
   "execution_count": 12,
   "id": "cb0f3099-f302-4632-be65-0026a51eb9c7",
   "metadata": {},
   "outputs": [
    {
     "data": {
      "text/plain": [
       "Sequential(\n",
       "  (0): Linear(in_features=40, out_features=10, bias=True)\n",
       "  (1): LeakyReLU(negative_slope=0.2)\n",
       ")"
      ]
     },
     "execution_count": 12,
     "metadata": {},
     "output_type": "execute_result"
    }
   ],
   "source": [
    "model = nn.Sequential(nn.Linear(40, 10), nn.LeakyReLU(negative_slope=0.2))  # alpha is negative slope\n",
    "model.apply(use_he_init)"
   ]
  }
 ],
 "metadata": {
  "kernelspec": {
   "display_name": "Python [conda env:base] *",
   "language": "python",
   "name": "conda-base-py"
  },
  "language_info": {
   "codemirror_mode": {
    "name": "ipython",
    "version": 3
   },
   "file_extension": ".py",
   "mimetype": "text/x-python",
   "name": "python",
   "nbconvert_exporter": "python",
   "pygments_lexer": "ipython3",
   "version": "3.12.2"
  }
 },
 "nbformat": 4,
 "nbformat_minor": 5
}
