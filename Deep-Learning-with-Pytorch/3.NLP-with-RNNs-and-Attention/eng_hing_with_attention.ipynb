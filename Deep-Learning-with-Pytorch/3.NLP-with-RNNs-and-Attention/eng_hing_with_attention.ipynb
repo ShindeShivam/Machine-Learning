{
  "nbformat": 4,
  "nbformat_minor": 0,
  "metadata": {
    "colab": {
      "provenance": [],
      "gpuType": "T4"
    },
    "kernelspec": {
      "name": "python3",
      "display_name": "Python 3"
    },
    "language_info": {
      "name": "python"
    },
    "accelerator": "GPU"
  },
  "cells": [
    {
      "cell_type": "code",
      "source": [
        "import torch\n",
        "import torch.nn as nn\n",
        "import numpy as np\n",
        "import pandas as pd\n",
        "import json"
      ],
      "metadata": {
        "id": "SYpk95QCqVCP"
      },
      "execution_count": null,
      "outputs": []
    },
    {
      "cell_type": "code",
      "source": [
        "if torch.cuda.is_available():\n",
        "    device = \"cuda\"\n",
        "    print(torch.cuda.device_count())\n",
        "elif torch.backends.mps.is_available():\n",
        "    device = \"mps\"\n",
        "else:\n",
        "    device = \"cpu\"\n",
        "device\n"
      ],
      "metadata": {
        "colab": {
          "base_uri": "https://localhost:8080/",
          "height": 52
        },
        "id": "IStjgb6cqwZi",
        "outputId": "af62a800-a774-42e8-c8cc-501f4c5f9aaa"
      },
      "execution_count": null,
      "outputs": [
        {
          "output_type": "stream",
          "name": "stdout",
          "text": [
            "1\n"
          ]
        },
        {
          "output_type": "execute_result",
          "data": {
            "text/plain": [
              "'cuda'"
            ],
            "application/vnd.google.colaboratory.intrinsic+json": {
              "type": "string"
            }
          },
          "metadata": {},
          "execution_count": 2
        }
      ]
    },
    {
      "cell_type": "code",
      "source": [
        "data = []\n",
        "filename = \"/content/hinglish_upload_v1.json\"\n",
        "\n",
        "with open(filename, \"r\", encoding=\"utf-8\") as f:\n",
        "  for line in f:\n",
        "    obj = json.loads(line)\n",
        "    data.append({\n",
        "        \"English\":obj[\"translation\"][\"en\"],\n",
        "        \"Hinglish\":obj[\"translation\"][\"hi_ng\"]\n",
        "    })\n"
      ],
      "metadata": {
        "id": "mg1FaVJwqyUi"
      },
      "execution_count": null,
      "outputs": []
    },
    {
      "cell_type": "code",
      "source": [
        "df = pd.DataFrame(data)\n",
        "df = df.sample(frac=1).reset_index(drop=True)\n",
        "\n",
        "def preprocess_text(text):\n",
        "  return str(text).strip()\n",
        "\n",
        "en_sentence = df[\"English\"].apply(preprocess_text).tolist()\n",
        "hing_sentence = df[\"Hinglish\"].apply(preprocess_text).tolist()\n",
        "\n",
        "for i in range(3):\n",
        "    print(en_sentence[i], \"=>\", hing_sentence[i])"
      ],
      "metadata": {
        "colab": {
          "base_uri": "https://localhost:8080/"
        },
        "id": "yFslJMH3q0qu",
        "outputId": "c28203a4-2c24-4c80-af71-2419fa8ce839"
      },
      "execution_count": null,
      "outputs": [
        {
          "output_type": "stream",
          "name": "stdout",
          "text": [
            "If I leave for Houston now what time would I arrive ? => Agar me abhi Houston ke liye nikalta hu to me kitne baje pohchunga ?\n",
            "its the movie we need to discuss => Wo movie hai jo hame discuss karni hai\n",
            "set a timer to go off tomorrow at 6 : 00 am => kal 6 : 00 am ko bajne ke liye timer set kare\n"
          ]
        }
      ]
    },
    {
      "cell_type": "code",
      "source": [
        "import tokenizers\n",
        "def train_eng_hing():\n",
        "  for en, hi in zip(en_sentence, hing_sentence):\n",
        "    yield en\n",
        "    yield hi\n",
        "max_len = 500\n",
        "vocab_size = 20_000\n",
        "\n",
        "nmt_tokenizer_model = tokenizers.models.BPE(unk_token=\"<unk>\")\n",
        "nmt_tokenizer = tokenizers.Tokenizer(nmt_tokenizer_model)\n",
        "nmt_tokenizer.enable_padding(pad_id=0, pad_token=\"<pad>\")\n",
        "nmt_tokenizer.enable_truncation(max_length=max_len)\n",
        "nmt_tokenizer.pre_tokenizer = tokenizers.pre_tokenizers.Whitespace()\n",
        "nmt_tokenizer_trainer = tokenizers.trainers.BpeTrainer(\n",
        "    vocab_size=vocab_size, special_tokens=[\"<pad>\", \"<unk>\", \"<s>\", \"</s>\"])\n",
        "nmt_tokenizer.train_from_iterator(train_eng_hing(), nmt_tokenizer_trainer)\n"
      ],
      "metadata": {
        "id": "Y-eW8MJFq9nt"
      },
      "execution_count": null,
      "outputs": []
    },
    {
      "cell_type": "code",
      "source": [
        "nmt_tokenizer.encode(\"I love football\").ids"
      ],
      "metadata": {
        "colab": {
          "base_uri": "https://localhost:8080/"
        },
        "id": "IiTxpvLRq__w",
        "outputId": "46108b0f-6098-42a7-9110-bcacaa9c05da"
      },
      "execution_count": null,
      "outputs": [
        {
          "output_type": "execute_result",
          "data": {
            "text/plain": [
              "[44, 1251, 2277]"
            ]
          },
          "metadata": {},
          "execution_count": 6
        }
      ]
    },
    {
      "cell_type": "code",
      "source": [
        "nmt_tokenizer.encode(\"Muje football pasand hai.\").ids"
      ],
      "metadata": {
        "colab": {
          "base_uri": "https://localhost:8080/"
        },
        "id": "0kRUBn6FrCK-",
        "outputId": "717573b6-5274-4856-b3a4-349602a2c8c9"
      },
      "execution_count": null,
      "outputs": [
        {
          "output_type": "execute_result",
          "data": {
            "text/plain": [
              "[758, 2277, 1852, 349, 17]"
            ]
          },
          "metadata": {},
          "execution_count": 7
        }
      ]
    },
    {
      "cell_type": "code",
      "source": [
        "from collections import namedtuple\n",
        "\n",
        "fields = [\"src_token_ids\", \"src_mask\", \"tgt_token_ids\", \"tgt_mask\"]\n",
        "class NMTPair(namedtuple(\"NmtPairBase\", fields)):\n",
        "  def to(self,device):\n",
        "    return NMTPair(\n",
        "        self.src_token_ids.to(device),\n",
        "        self.src_mask.to(device),\n",
        "        self.tgt_token_ids.to(device),\n",
        "        self.tgt_mask.to(device)\n",
        "    )"
      ],
      "metadata": {
        "id": "wHalGK-RrEkm"
      },
      "execution_count": null,
      "outputs": []
    },
    {
      "cell_type": "code",
      "source": [
        "def nmt_collate_fn(batch):\n",
        "  src_text = [item[\"English\"] for item in batch]\n",
        "  tgt_text = [f\"<s> {item['Hinglish']} </s>\" for item in batch]\n",
        "  src_encodings = nmt_tokenizer.encode_batch(src_text)\n",
        "  tgt_encodings = nmt_tokenizer.encode_batch(tgt_text)\n",
        "  src_token_ids = torch.tensor([enc.ids for enc in src_encodings])\n",
        "  tgt_token_ids = torch.tensor([enc.ids for enc in tgt_encodings])\n",
        "  src_mask = torch.tensor([enc.attention_mask for enc in src_encodings])\n",
        "  tgt_mask = torch.tensor([enc.attention_mask for enc in tgt_encodings])\n",
        "  inputs = NMTPair(src_token_ids,\n",
        "                  src_mask,\n",
        "                  tgt_token_ids[:,:-1],\n",
        "                  tgt_mask[:,:-1])\n",
        "  labels =tgt_token_ids[:,1:]\n",
        "  return inputs, labels"
      ],
      "metadata": {
        "id": "VL7m9D3grGcf"
      },
      "execution_count": null,
      "outputs": []
    },
    {
      "cell_type": "code",
      "source": [
        "train_set = df.to_dict(\"records\")[:int(0.8 * len(df))]\n",
        "valid_set = df.to_dict(\"records\")[int(0.8 * len(df)):]\n",
        "train_set[0]"
      ],
      "metadata": {
        "colab": {
          "base_uri": "https://localhost:8080/"
        },
        "id": "P3rsXuzjrLV9",
        "outputId": "6c456c17-753f-414e-a66f-ccf68c62d5c4"
      },
      "execution_count": null,
      "outputs": [
        {
          "output_type": "execute_result",
          "data": {
            "text/plain": [
              "{'English': 'If I leave for Houston now what time would I arrive ?',\n",
              " 'Hinglish': 'Agar me abhi Houston ke liye nikalta hu to me kitne baje pohchunga ?'}"
            ]
          },
          "metadata": {},
          "execution_count": 10
        }
      ]
    },
    {
      "cell_type": "code",
      "source": [
        "from torch.utils.data import DataLoader\n",
        "\n",
        "batch_size = 64\n",
        "\n",
        "train_loader = DataLoader(\n",
        "    train_set,\n",
        "    batch_size=batch_size,\n",
        "    collate_fn=nmt_collate_fn,\n",
        "    shuffle=True\n",
        ")\n",
        "valid_loader =DataLoader(\n",
        "    valid_set,\n",
        "    batch_size=batch_size,\n",
        "    collate_fn=nmt_collate_fn\n",
        ")"
      ],
      "metadata": {
        "id": "eBqxXqXarNs-"
      },
      "execution_count": null,
      "outputs": []
    },
    {
      "cell_type": "code",
      "source": [
        "def attention(query, key, value):\n",
        "  scores = query @ key.transpose(1,2)\n",
        "  weights = scores.softmax(dim=-1)\n",
        "  return weights @ value"
      ],
      "metadata": {
        "id": "91rJGLlft98D"
      },
      "execution_count": null,
      "outputs": []
    },
    {
      "cell_type": "code",
      "source": [
        "from torch.nn.utils.rnn import pack_padded_sequence, pad_packed_sequence\n",
        "class NmtModelWithAttention(nn.Module):\n",
        "  def __init__(self, vocab_size, embed_size=512, hidden_size=512, n_layers=2,\n",
        "               pad_id=0):\n",
        "    super().__init__()\n",
        "\n",
        "    self.embed = nn.Embedding(vocab_size, embed_size, padding_idx=pad_id)\n",
        "    self.encoder = nn.GRU(embed_size, hidden_size, num_layers=n_layers,\n",
        "                          batch_first=True)\n",
        "    self.decoder = nn.GRU(embed_size, hidden_size, num_layers=n_layers,\n",
        "                          batch_first=True)\n",
        "    self.output = nn.Linear(hidden_size * 2, vocab_size)\n",
        "\n",
        "  def forward(self, pair):\n",
        "    src_embeddings = self.embed(pair.src_token_ids)\n",
        "    tgt_embeddings = self.embed(pair.tgt_token_ids)\n",
        "\n",
        "    src_lengths = pair.src_mask.sum(1)\n",
        "    src_packed = pack_padded_sequence(\n",
        "        src_embeddings,\n",
        "        lengths=src_lengths.cpu(),\n",
        "        batch_first=True,\n",
        "        enforce_sorted=False\n",
        "    )\n",
        "    encoder_outputs_packed, hidden_states = self.encoder(src_packed)\n",
        "    decoder_outputs, _ = self.decoder(tgt_embeddings, hidden_states)\n",
        "    encoder_outputs, _ = pad_packed_sequence(\n",
        "        encoder_outputs_packed,\n",
        "        batch_first=True\n",
        "    )\n",
        "    attention_output = attention(query=decoder_outputs,\n",
        "                                 key=encoder_outputs,\n",
        "                                 value=encoder_outputs)\n",
        "    combined_outputs = torch.cat((attention_output, decoder_outputs), dim=-1)\n",
        "    return self.output(combined_outputs).permute(0,2,1)\n"
      ],
      "metadata": {
        "id": "eSvHdaP1rRZs"
      },
      "execution_count": null,
      "outputs": []
    },
    {
      "cell_type": "code",
      "source": [
        "!pip install torchmetrics"
      ],
      "metadata": {
        "colab": {
          "base_uri": "https://localhost:8080/"
        },
        "id": "XoV0LLLFu7EQ",
        "outputId": "0b400bc0-0ac5-459e-8318-4641ccef04cc"
      },
      "execution_count": null,
      "outputs": [
        {
          "output_type": "stream",
          "name": "stdout",
          "text": [
            "Collecting torchmetrics\n",
            "  Downloading torchmetrics-1.8.2-py3-none-any.whl.metadata (22 kB)\n",
            "Requirement already satisfied: numpy>1.20.0 in /usr/local/lib/python3.12/dist-packages (from torchmetrics) (2.0.2)\n",
            "Requirement already satisfied: packaging>17.1 in /usr/local/lib/python3.12/dist-packages (from torchmetrics) (25.0)\n",
            "Requirement already satisfied: torch>=2.0.0 in /usr/local/lib/python3.12/dist-packages (from torchmetrics) (2.8.0+cu126)\n",
            "Collecting lightning-utilities>=0.8.0 (from torchmetrics)\n",
            "  Downloading lightning_utilities-0.15.2-py3-none-any.whl.metadata (5.7 kB)\n",
            "Requirement already satisfied: setuptools in /usr/local/lib/python3.12/dist-packages (from lightning-utilities>=0.8.0->torchmetrics) (75.2.0)\n",
            "Requirement already satisfied: typing_extensions in /usr/local/lib/python3.12/dist-packages (from lightning-utilities>=0.8.0->torchmetrics) (4.15.0)\n",
            "Requirement already satisfied: filelock in /usr/local/lib/python3.12/dist-packages (from torch>=2.0.0->torchmetrics) (3.19.1)\n",
            "Requirement already satisfied: sympy>=1.13.3 in /usr/local/lib/python3.12/dist-packages (from torch>=2.0.0->torchmetrics) (1.13.3)\n",
            "Requirement already satisfied: networkx in /usr/local/lib/python3.12/dist-packages (from torch>=2.0.0->torchmetrics) (3.5)\n",
            "Requirement already satisfied: jinja2 in /usr/local/lib/python3.12/dist-packages (from torch>=2.0.0->torchmetrics) (3.1.6)\n",
            "Requirement already satisfied: fsspec in /usr/local/lib/python3.12/dist-packages (from torch>=2.0.0->torchmetrics) (2025.3.0)\n",
            "Requirement already satisfied: nvidia-cuda-nvrtc-cu12==12.6.77 in /usr/local/lib/python3.12/dist-packages (from torch>=2.0.0->torchmetrics) (12.6.77)\n",
            "Requirement already satisfied: nvidia-cuda-runtime-cu12==12.6.77 in /usr/local/lib/python3.12/dist-packages (from torch>=2.0.0->torchmetrics) (12.6.77)\n",
            "Requirement already satisfied: nvidia-cuda-cupti-cu12==12.6.80 in /usr/local/lib/python3.12/dist-packages (from torch>=2.0.0->torchmetrics) (12.6.80)\n",
            "Requirement already satisfied: nvidia-cudnn-cu12==9.10.2.21 in /usr/local/lib/python3.12/dist-packages (from torch>=2.0.0->torchmetrics) (9.10.2.21)\n",
            "Requirement already satisfied: nvidia-cublas-cu12==12.6.4.1 in /usr/local/lib/python3.12/dist-packages (from torch>=2.0.0->torchmetrics) (12.6.4.1)\n",
            "Requirement already satisfied: nvidia-cufft-cu12==11.3.0.4 in /usr/local/lib/python3.12/dist-packages (from torch>=2.0.0->torchmetrics) (11.3.0.4)\n",
            "Requirement already satisfied: nvidia-curand-cu12==10.3.7.77 in /usr/local/lib/python3.12/dist-packages (from torch>=2.0.0->torchmetrics) (10.3.7.77)\n",
            "Requirement already satisfied: nvidia-cusolver-cu12==11.7.1.2 in /usr/local/lib/python3.12/dist-packages (from torch>=2.0.0->torchmetrics) (11.7.1.2)\n",
            "Requirement already satisfied: nvidia-cusparse-cu12==12.5.4.2 in /usr/local/lib/python3.12/dist-packages (from torch>=2.0.0->torchmetrics) (12.5.4.2)\n",
            "Requirement already satisfied: nvidia-cusparselt-cu12==0.7.1 in /usr/local/lib/python3.12/dist-packages (from torch>=2.0.0->torchmetrics) (0.7.1)\n",
            "Requirement already satisfied: nvidia-nccl-cu12==2.27.3 in /usr/local/lib/python3.12/dist-packages (from torch>=2.0.0->torchmetrics) (2.27.3)\n",
            "Requirement already satisfied: nvidia-nvtx-cu12==12.6.77 in /usr/local/lib/python3.12/dist-packages (from torch>=2.0.0->torchmetrics) (12.6.77)\n",
            "Requirement already satisfied: nvidia-nvjitlink-cu12==12.6.85 in /usr/local/lib/python3.12/dist-packages (from torch>=2.0.0->torchmetrics) (12.6.85)\n",
            "Requirement already satisfied: nvidia-cufile-cu12==1.11.1.6 in /usr/local/lib/python3.12/dist-packages (from torch>=2.0.0->torchmetrics) (1.11.1.6)\n",
            "Requirement already satisfied: triton==3.4.0 in /usr/local/lib/python3.12/dist-packages (from torch>=2.0.0->torchmetrics) (3.4.0)\n",
            "Requirement already satisfied: mpmath<1.4,>=1.1.0 in /usr/local/lib/python3.12/dist-packages (from sympy>=1.13.3->torch>=2.0.0->torchmetrics) (1.3.0)\n",
            "Requirement already satisfied: MarkupSafe>=2.0 in /usr/local/lib/python3.12/dist-packages (from jinja2->torch>=2.0.0->torchmetrics) (3.0.2)\n",
            "Downloading torchmetrics-1.8.2-py3-none-any.whl (983 kB)\n",
            "\u001b[2K   \u001b[90m━━━━━━━━━━━━━━━━━━━━━━━━━━━━━━━━━━━━━━━━\u001b[0m \u001b[32m983.2/983.2 kB\u001b[0m \u001b[31m23.5 MB/s\u001b[0m eta \u001b[36m0:00:00\u001b[0m\n",
            "\u001b[?25hDownloading lightning_utilities-0.15.2-py3-none-any.whl (29 kB)\n",
            "Installing collected packages: lightning-utilities, torchmetrics\n",
            "Successfully installed lightning-utilities-0.15.2 torchmetrics-1.8.2\n"
          ]
        }
      ]
    },
    {
      "cell_type": "code",
      "source": [
        "import torchmetrics\n",
        "\n",
        "def evaluate_tm(model, data_loader, metric):\n",
        "    model.eval()\n",
        "    metric.reset()\n",
        "    with torch.no_grad():\n",
        "        for X_batch, y_batch in data_loader:\n",
        "            X_batch, y_batch = X_batch.to(device), y_batch.to(device)\n",
        "            y_pred = model(X_batch)\n",
        "            metric.update(y_pred, y_batch)\n",
        "    return metric.compute()\n",
        "\n",
        "def train(model, optimizer, criterion, metric, train_loader, valid_loader, n_epochs):\n",
        "    history = {\"train_losses\":[],\"train_metrics\":[],\"valid_metrics\":[]}\n",
        "    for epoch in range(n_epochs):\n",
        "        print(f\"Epoch: {epoch+1}/{n_epochs}\")\n",
        "        total_loss = 0\n",
        "        metric.reset()\n",
        "        model.train()\n",
        "        for idx, (X_batch, y_batch) in enumerate(train_loader):\n",
        "            X_batch, y_batch = X_batch.to(device), y_batch.to(device)\n",
        "            y_pred = model(X_batch)\n",
        "            loss = criterion(y_pred, y_batch)\n",
        "            total_loss += loss.item()\n",
        "            loss.backward()\n",
        "            optimizer.step()\n",
        "            optimizer.zero_grad()\n",
        "            metric.update(y_pred, y_batch)\n",
        "            print(f\"\\rBatch {idx+1}/{len(train_loader)}\", end=\"\")\n",
        "            print(f\", loss ={total_loss/(idx+1 ):.4f} \", end=\"\")\n",
        "        mean_loss = total_loss / len(train_loader)\n",
        "        history[\"train_losses\"].append(mean_loss)\n",
        "        history[\"train_metrics\"].append(metric.compute().item())\n",
        "        val_metric = evaluate_tm(model, valid_loader, metric).item()\n",
        "        history[\"valid_metrics\"].append(val_metric)\n",
        "        print(f\"Train Loss: {history['train_losses'][-1]:.4f}, \"\n",
        "             f\"Train Metric: {history['train_metrics'][-1]:.4f}%, \"\n",
        "             f\"Valid Metric: {history['valid_metrics'][-1]:.4f}%\")\n",
        "    return history"
      ],
      "metadata": {
        "id": "nOzkXjUsu4CT"
      },
      "execution_count": null,
      "outputs": []
    },
    {
      "cell_type": "code",
      "source": [
        "nmt_model =  NmtModelWithAttention(vocab_size).to(device)\n",
        "\n",
        "n_epochs = 10\n",
        "xentropy = nn.CrossEntropyLoss(ignore_index=0)\n",
        "accuracy = torchmetrics.Accuracy(task=\"multiclass\", num_classes=vocab_size).to(device)\n",
        "optimizer = torch.optim.AdamW(nmt_model.parameters(), lr=5e-4, weight_decay=1e-2)\n",
        "\n",
        "history = train(nmt_model, optimizer, xentropy, accuracy, train_loader, valid_loader,n_epochs)"
      ],
      "metadata": {
        "colab": {
          "base_uri": "https://localhost:8080/"
        },
        "id": "PO18xDeFvAUu",
        "outputId": "8a727314-d432-4ba2-c46c-8331d67d603a"
      },
      "execution_count": null,
      "outputs": [
        {
          "output_type": "stream",
          "name": "stdout",
          "text": [
            "Batch 2364/2364, loss =2.9162 Train Loss: 2.9162, Train Metric: 0.1566%, Valid Metric: 0.1779%\n",
            "Batch 2364/2364, loss =1.7416 Train Loss: 1.7416, Train Metric: 0.1977%, Valid Metric: 0.1940%\n",
            "Batch 2364/2364, loss =1.3106 Train Loss: 1.3106, Train Metric: 0.2154%, Valid Metric: 0.1999%\n",
            "Batch 2364/2364, loss =1.0650 Train Loss: 1.0650, Train Metric: 0.2263%, Valid Metric: 0.2027%\n",
            "Batch 2364/2364, loss =0.9093 Train Loss: 0.9093, Train Metric: 0.2328%, Valid Metric: 0.2041%\n",
            "Batch 2364/2364, loss =0.7942 Train Loss: 0.7942, Train Metric: 0.2396%, Valid Metric: 0.2046%\n",
            "Batch 2364/2364, loss =0.7014 Train Loss: 0.7014, Train Metric: 0.2442%, Valid Metric: 0.2052%\n",
            "Batch 2364/2364, loss =0.6274 Train Loss: 0.6274, Train Metric: 0.2468%, Valid Metric: 0.2055%\n",
            "Batch 2364/2364, loss =0.5685 Train Loss: 0.5685, Train Metric: 0.2501%, Valid Metric: 0.2053%\n",
            "Batch 2364/2364, loss =0.5148 Train Loss: 0.5148, Train Metric: 0.2548%, Valid Metric: 0.2054%\n"
          ]
        }
      ]
    },
    {
      "cell_type": "code",
      "source": [
        "def translate(model, src_text, max_len=20, eos_id=3):\n",
        "    tgt_text = \"\"\n",
        "    for idx in range(max_len):\n",
        "        batch, _ = nmt_collate_fn([{\"English\":src_text ,\n",
        "                                   \"Hinglish\":tgt_text}])\n",
        "        with torch.no_grad():\n",
        "            y_pred = model(batch.to(device))\n",
        "            y_token_ids = y_pred.argmax(dim=1)\n",
        "            next_token_id = y_token_ids[0, idx]\n",
        "        next_token = nmt_tokenizer.id_to_token(next_token_id)\n",
        "        tgt_text += \" \" + next_token\n",
        "        if next_token_id == eos_id:\n",
        "            break\n",
        "    return tgt_text.replace(\"</s>\",\"\")"
      ],
      "metadata": {
        "id": "JupLRqmZ9HAo"
      },
      "execution_count": null,
      "outputs": []
    },
    {
      "cell_type": "code",
      "source": [
        "translate(nmt_model, \"I like football\")"
      ],
      "metadata": {
        "colab": {
          "base_uri": "https://localhost:8080/",
          "height": 35
        },
        "id": "njyFwsnP-mVq",
        "outputId": "cba6cc18-ab00-41ac-aaaf-2ac4b4f46ec2"
      },
      "execution_count": null,
      "outputs": [
        {
          "output_type": "execute_result",
          "data": {
            "text/plain": [
              "' mujhe football pasand hai '"
            ],
            "application/vnd.google.colaboratory.intrinsic+json": {
              "type": "string"
            }
          },
          "metadata": {},
          "execution_count": 35
        }
      ]
    },
    {
      "cell_type": "code",
      "source": [
        "translate(nmt_model, \"I like to play football on beach\")"
      ],
      "metadata": {
        "colab": {
          "base_uri": "https://localhost:8080/",
          "height": 35
        },
        "id": "GrGVsKN5-8q0",
        "outputId": "1d475d26-a6c3-41b9-d45e-3667d03e7a47"
      },
      "execution_count": null,
      "outputs": [
        {
          "output_type": "execute_result",
          "data": {
            "text/plain": [
              "' mai beach par football game play karna chahta hoon '"
            ],
            "application/vnd.google.colaboratory.intrinsic+json": {
              "type": "string"
            }
          },
          "metadata": {},
          "execution_count": 36
        }
      ]
    },
    {
      "cell_type": "code",
      "source": [
        "translate(nmt_model, \"I like to play football on beach with my friends\")"
      ],
      "metadata": {
        "colab": {
          "base_uri": "https://localhost:8080/",
          "height": 35
        },
        "id": "BLMVESKe_D8a",
        "outputId": "71297f00-4d15-4530-d8ce-4e08e5c26997"
      },
      "execution_count": null,
      "outputs": [
        {
          "output_type": "execute_result",
          "data": {
            "text/plain": [
              "' mai apne friends ko beach par football ke liye pay karne ke liye yaad dilana chahta hoon '"
            ],
            "application/vnd.google.colaboratory.intrinsic+json": {
              "type": "string"
            }
          },
          "metadata": {},
          "execution_count": 54
        }
      ]
    },
    {
      "cell_type": "code",
      "source": [
        "translate(nmt_model, \"mitochondria is the powerhouse of the cell\")"
      ],
      "metadata": {
        "colab": {
          "base_uri": "https://localhost:8080/",
          "height": 35
        },
        "id": "IoqlEKnT_IdO",
        "outputId": "4a3006db-3853-4bd5-cf91-3cb01b88d6ce"
      },
      "execution_count": null,
      "outputs": [
        {
          "output_type": "execute_result",
          "data": {
            "text/plain": [
              "' J dri a is the power house of the same house of the cell house of the cell '"
            ],
            "application/vnd.google.colaboratory.intrinsic+json": {
              "type": "string"
            }
          },
          "metadata": {},
          "execution_count": 43
        }
      ]
    },
    {
      "cell_type": "markdown",
      "source": [
        "🤔"
      ],
      "metadata": {
        "id": "YG493GaY_zKl"
      }
    },
    {
      "cell_type": "code",
      "source": [],
      "metadata": {
        "id": "VTBa2HzOACtX"
      },
      "execution_count": null,
      "outputs": []
    }
  ]
}