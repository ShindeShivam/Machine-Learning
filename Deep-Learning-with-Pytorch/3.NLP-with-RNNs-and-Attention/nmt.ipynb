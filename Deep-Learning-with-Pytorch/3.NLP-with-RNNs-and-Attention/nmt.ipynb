{
  "nbformat": 4,
  "nbformat_minor": 0,
  "metadata": {
    "colab": {
      "provenance": []
    },
    "kernelspec": {
      "name": "python3",
      "display_name": "Python 3"
    },
    "language_info": {
      "name": "python"
    }
  },
  "cells": [
    {
      "cell_type": "code",
      "execution_count": 156,
      "metadata": {
        "id": "RunX_vFqQaRn"
      },
      "outputs": [],
      "source": [
        "import torch\n",
        "import torch.nn as nn\n",
        "import numpy as np\n",
        "import pandas as pd\n",
        "import json"
      ]
    },
    {
      "cell_type": "code",
      "source": [
        "if torch.cuda.is_available():\n",
        "    device = \"cuda\"\n",
        "    print(torch.cuda.device_count())\n",
        "elif torch.backends.mps.is_available():\n",
        "    device = \"mps\"\n",
        "else:\n",
        "    device = \"cpu\"\n",
        "device"
      ],
      "metadata": {
        "colab": {
          "base_uri": "https://localhost:8080/",
          "height": 35
        },
        "id": "V8glhYZZVUy7",
        "outputId": "22efe05c-976a-45e2-b32b-77b1789a84ad"
      },
      "execution_count": 157,
      "outputs": [
        {
          "output_type": "execute_result",
          "data": {
            "text/plain": [
              "'cpu'"
            ],
            "application/vnd.google.colaboratory.intrinsic+json": {
              "type": "string"
            }
          },
          "metadata": {},
          "execution_count": 157
        }
      ]
    },
    {
      "cell_type": "markdown",
      "source": [
        "## Data Loading"
      ],
      "metadata": {
        "id": "doavUtPbVrot"
      }
    },
    {
      "cell_type": "code",
      "source": [
        "data = []\n",
        "filename = \"hinglish_upload_v1.json\"\n",
        "\n",
        "with open(filename, \"r\", encoding=\"utf-8\") as f:\n",
        "  for line in f:\n",
        "    obj = json.loads(line)\n",
        "    data.append({\n",
        "        \"English\":obj[\"translation\"][\"en\"],\n",
        "        \"Hinglish\":obj[\"translation\"][\"hi_ng\"]\n",
        "    })\n"
      ],
      "metadata": {
        "id": "L654n9RxRkla"
      },
      "execution_count": 158,
      "outputs": []
    },
    {
      "cell_type": "code",
      "source": [
        "df = pd.DataFrame(data)\n",
        "df = df.sample(frac=1).reset_index(drop=True)\n",
        "\n",
        "def preprocess_text(text):\n",
        "  return str(text).strip()\n",
        "\n",
        "en_sentence = df[\"English\"].apply(preprocess_text).tolist()\n",
        "hing_sentence = df[\"Hinglish\"].apply(preprocess_text).tolist()\n",
        "\n",
        "for i in range(3):\n",
        "    print(en_sentence[i], \"=>\", hing_sentence[i])"
      ],
      "metadata": {
        "colab": {
          "base_uri": "https://localhost:8080/"
        },
        "id": "6jBbQButTO3j",
        "outputId": "25a8cb3d-53a3-4d1d-bb3d-578e5371ba35"
      },
      "execution_count": 159,
      "outputs": [
        {
          "output_type": "stream",
          "name": "stdout",
          "text": [
            "find reminder about mortgage refinincing => mortgage refinincing ke baare me reminder khoje\n",
            "\"What was it that brought you to Hell?\" => What cheez has brought you to sankar.\n",
            "I want to listen to the Beatles album ' Yellow Submarine ' => Muje the Beatles album Yellow Submarine sunna he\n"
          ]
        }
      ]
    },
    {
      "cell_type": "markdown",
      "source": [
        "## Tokenization"
      ],
      "metadata": {
        "id": "27DEv6xvVy00"
      }
    },
    {
      "cell_type": "code",
      "source": [
        "import tokenizers\n",
        "def train_eng_hing():\n",
        "  for en, hi in zip(en_sentence, hing_sentence):\n",
        "    yield en\n",
        "    yield hi\n",
        "max_len = 500\n",
        "vocab_size = 20_000\n",
        "\n",
        "nmt_tokenizer_model = tokenizers.models.BPE(unk_token=\"<unk>\")\n",
        "nmt_tokenizer = tokenizers.Tokenizer(nmt_tokenizer_model)\n",
        "nmt_tokenizer.enable_padding(pad_id=0, pad_token=\"<pad>\")\n",
        "nmt_tokenizer.enable_truncation(max_length=max_len)\n",
        "nmt_tokenizer.pre_tokenizer = tokenizers.pre_tokenizers.Whitespace()\n",
        "nmt_tokenizer_trainer = tokenizers.trainers.BpeTrainer(\n",
        "    vocab_size=vocab_size, special_tokens=[\"<pad>\", \"<unk>\", \"<s>\", \"</s>\"])\n",
        "nmt_tokenizer.train_from_iterator(train_eng_hing(), nmt_tokenizer_trainer)\n"
      ],
      "metadata": {
        "id": "d-PnnkG7s2Ri"
      },
      "execution_count": 160,
      "outputs": []
    },
    {
      "cell_type": "code",
      "source": [
        "nmt_tokenizer.encode(\"I love football\").ids"
      ],
      "metadata": {
        "colab": {
          "base_uri": "https://localhost:8080/"
        },
        "id": "y1--CKM401n0",
        "outputId": "fe880773-08d8-465d-8a82-2e4f066eb20e"
      },
      "execution_count": 161,
      "outputs": [
        {
          "output_type": "execute_result",
          "data": {
            "text/plain": [
              "[44, 1251, 2277]"
            ]
          },
          "metadata": {},
          "execution_count": 161
        }
      ]
    },
    {
      "cell_type": "code",
      "source": [
        "nmt_tokenizer.encode(\"Muje football pasand hai.\").ids"
      ],
      "metadata": {
        "colab": {
          "base_uri": "https://localhost:8080/"
        },
        "id": "xFKDeUSH0-KI",
        "outputId": "d5b76d24-9830-4d80-813a-1d0d48190dea"
      },
      "execution_count": 162,
      "outputs": [
        {
          "output_type": "execute_result",
          "data": {
            "text/plain": [
              "[758, 2277, 1852, 349, 17]"
            ]
          },
          "metadata": {},
          "execution_count": 162
        }
      ]
    },
    {
      "cell_type": "code",
      "source": [
        "from collections import namedtuple\n",
        "\n",
        "fields = [\"src_token_ids\", \"src_mask\", \"tgt_token_ids\", \"tgt_mask\"]\n",
        "class NMTPair(namedtuple(\"NmtPairBase\", fields)):\n",
        "  def to(self,device):\n",
        "    return NMTPair(\n",
        "        self.src_token_ids.to(device),\n",
        "        self.src_mask.to(device),\n",
        "        self.tgt_token_ids.to(device),\n",
        "        self.tgt_mask.to(device)\n",
        "    )"
      ],
      "metadata": {
        "id": "neKaiftH8kFh"
      },
      "execution_count": 163,
      "outputs": []
    },
    {
      "cell_type": "code",
      "source": [
        "def nmt_collate_fn(batch):\n",
        "  src_text = [item[\"English\"] for item in batch]\n",
        "  tgt_text = [f\"<s> {item[\"Hinglish\"]} </s>\" for item in batch]\n",
        "  src_encodings = nmt_tokenizer.encode_batch(src_text)\n",
        "  tgt_encodings = nmt_tokenizer.encode_batch(tgt_text)\n",
        "  src_token_ids = torch.tensor([enc.ids for enc in src_encodings])\n",
        "  tgt_token_ids = torch.tensor([enc.ids for enc in tgt_encodings])\n",
        "  src_mask = torch.tensor([enc.attention_mask for enc in src_encodings])\n",
        "  tgt_mask = torch.tensor([enc.attention_mask for enc in tgt_encodings])\n",
        "  inputs = NMTPair(src_token_ids,\n",
        "                  src_mask,\n",
        "                  tgt_token_ids[:,:-1],\n",
        "                  tgt_mask[:,:-1])\n",
        "  labels =tgt_token_ids[:,1:]\n",
        "  return inputs, labels"
      ],
      "metadata": {
        "id": "uwYI8iJD-I1w"
      },
      "execution_count": 164,
      "outputs": []
    },
    {
      "cell_type": "code",
      "source": [
        "train_set = df.to_dict(\"records\")[:int(0.8 * len(df))]\n",
        "valid_set = df.to_dict(\"records\")[int(0.8 * len(df)):]\n",
        "train_set[0]"
      ],
      "metadata": {
        "colab": {
          "base_uri": "https://localhost:8080/"
        },
        "id": "s5dXHpacBgpy",
        "outputId": "6c73e64d-0ded-41b3-8476-bcef4642ef4c"
      },
      "execution_count": 165,
      "outputs": [
        {
          "output_type": "execute_result",
          "data": {
            "text/plain": [
              "{'English': 'find reminder about mortgage refinincing',\n",
              " 'Hinglish': 'mortgage refinincing ke baare me reminder khoje'}"
            ]
          },
          "metadata": {},
          "execution_count": 165
        }
      ]
    },
    {
      "cell_type": "code",
      "source": [],
      "metadata": {
        "id": "SwMEItL3CN89"
      },
      "execution_count": 165,
      "outputs": []
    },
    {
      "cell_type": "code",
      "source": [
        "from torch.utils.data import DataLoader\n",
        "\n",
        "batch_size = 256\n",
        "\n",
        "train_loader = DataLoader(\n",
        "    train_set,\n",
        "    batch_size=batch_size,\n",
        "    collate_fn=nmt_collate_fn,\n",
        "    shuffle=True\n",
        ")\n",
        "valid_loader =DataLoader(\n",
        "    valid_set,\n",
        "    batch_size=batch_size,\n",
        "    collate_fn=nmt_collate_fn\n",
        ")"
      ],
      "metadata": {
        "id": "FdtHPNhfBynU"
      },
      "execution_count": 166,
      "outputs": []
    },
    {
      "cell_type": "code",
      "source": [
        "from torch.nn.utils.rnn import pack_padded_sequence, pad_packed_sequence\n",
        "\n",
        "class NmtModel(nn.Module):\n",
        "  def __init__(self, vocab_size, embed_size=512, hidden_size=512, pad_id=0, n_layers=2):\n",
        "    super().__init__()\n",
        "    self.embed = nn.Embedding(vocab_size, embed_size, padding_idx=pad_id)\n",
        "    self.encoder = nn.GRU(embed_size, hidden_size, num_layers=n_layers,\n",
        "                          batch_first=True)\n",
        "    self.decoder = nn.GRU(embed_size, hidden_size, num_layers=n_layers,\n",
        "                          batch_first=True)\n",
        "    self.output = nn.Linear(hidden_size, vocab_size)\n",
        "\n",
        "  def forward(self, pair):\n",
        "    src_embeddings = self.embed(pair.src_token_ids)\n",
        "    tgt_embeddings = self.embed(pair.tgt_token_ids)\n",
        "    src_lengths = pair.src_mask.sum(dim=1)\n",
        "    encoder_packed = pack_padded_sequence(\n",
        "        src_embeddings,\n",
        "        lengths=src_lengths.cpu(),\n",
        "        batch_first=True,\n",
        "        enforce_sorted=False\n",
        "    )\n",
        "    _, hidden_states = self.encoder(encoder_packed)\n",
        "    tgt_lengths = pair.tgt_mask.sum(dim=1)\n",
        "    decoder_packed = pack_padded_sequence(\n",
        "        tgt_embeddings,\n",
        "        lengths=tgt_lengths.cpu(),\n",
        "        batch_first=True,\n",
        "        enforce_sorted=False\n",
        "    )\n",
        "    outputs, _ = self.decoder(decoder_packed, hidden_states)\n",
        "    decoder_outputs = pad_packed_sequence(outputs, batch_first=True)\n",
        "    return self.output(decoder_outputs).permute(0, 2, 1)\n"
      ],
      "metadata": {
        "id": "H9uWgEtdDPXy"
      },
      "execution_count": 172,
      "outputs": []
    },
    {
      "cell_type": "code",
      "source": [
        "import torchmetrics\n",
        "\n",
        "def evaluate_tm(model, data_loader, metric, vocab_size):\n",
        "    model.eval()\n",
        "    metric.reset()\n",
        "    with torch.no_grad():\n",
        "        for batch in data_loader:\n",
        "            inputs, labels = batch\n",
        "            inputs = inputs.to(device)\n",
        "            labels = labels.to(device)\n",
        "            y_pred = model(inputs)\n",
        "            metric.update(y_pred.view(-1,vocab_size), labels.view(-1))\n",
        "    return metric.compute()\n",
        "\n",
        "def train(model, optimizer, criterion, metric, train_loader, valid_loader, n_epochs, vocab_size):\n",
        "    history = {\"train_losses\":[],\"train_metrics\":[],\"valid_metrics\":[]}\n",
        "    for epoch in range(n_epochs):\n",
        "        print(f\"Epoch: {epoch+1}/{n_epochs}\")\n",
        "        total_loss = 0\n",
        "        metric.reset()\n",
        "        model.train()\n",
        "        for idx, batch in enumerate(train_loader):\n",
        "            inputs, labels = batch\n",
        "            inputs = inputs.to(device)\n",
        "            labels = labels.to(device)\n",
        "            y_pred = model(inputs)\n",
        "            loss = criterion(y_pred.view(-1,vocab_size), labels.view(-1))\n",
        "            total_loss += loss.item()\n",
        "            loss.backward()\n",
        "            optimizer.step()\n",
        "            optimizer.zero_grad()\n",
        "            metric.update(y_pred.view(-1,vocab_size), labels.view(-1))\n",
        "            print(f\"\\rBatch {idx+1}/{len(train_loader)}\", end=\"\")\n",
        "            print(f\", loss ={total_loss/(idx+1 ):.4f} \", end=\"\")\n",
        "        mean_loss = total_loss / len(train_loader)\n",
        "        history[\"train_losses\"].append(mean_loss)\n",
        "        history[\"train_metrics\"].append(metric.compute().item())\n",
        "        val_metric = evaluate_tm(model, valid_loader, metric,vocab_size).item()\n",
        "        history[\"valid_metrics\"].append(val_metric)\n",
        "        print(f\"Train Loss: {history['train_losses'][-1]:.4f}, \"\n",
        "             f\"Train Metric: {history['train_metrics'][-1]:.4f}%, \"\n",
        "             f\"Valid Metric: {history['valid_metrics'][-1]:.4f}%\")\n",
        "    return history"
      ],
      "metadata": {
        "id": "xe_d69pQHF0A"
      },
      "execution_count": 173,
      "outputs": []
    },
    {
      "cell_type": "code",
      "source": [
        "nmt_model = NmtModel(vocab_size).to(device)\n",
        "\n",
        "n_epochs = 20\n",
        "xentropy = nn.CrossEntropyLoss(ignore_index=0)\n",
        "accuracy = torchmetrics.Accuracy(task=\"multiclass\", num_classes=vocab_size)\n",
        "optimizer = torch.optim.NAdam(nmt_model.parameters())\n",
        "\n",
        "history = train(nmt_model, optimizer, xentropy, accuracy, train_loader, valid_loader,\n",
        "                n_epochs,vocab_size)"
      ],
      "metadata": {
        "colab": {
          "base_uri": "https://localhost:8080/",
          "height": 356
        },
        "id": "c0YHMZrRGo7U",
        "outputId": "34951b9f-3fed-44b0-d46a-1443beccd9c2"
      },
      "execution_count": 174,
      "outputs": [
        {
          "output_type": "stream",
          "name": "stdout",
          "text": [
            "Epoch: 1/20\n"
          ]
        },
        {
          "output_type": "error",
          "ename": "TypeError",
          "evalue": "linear(): argument 'input' (position 1) must be Tensor, not tuple",
          "traceback": [
            "\u001b[0;31m---------------------------------------------------------------------------\u001b[0m",
            "\u001b[0;31mTypeError\u001b[0m                                 Traceback (most recent call last)",
            "\u001b[0;32m/tmp/ipython-input-3486918884.py\u001b[0m in \u001b[0;36m<cell line: 0>\u001b[0;34m()\u001b[0m\n\u001b[1;32m      6\u001b[0m \u001b[0moptimizer\u001b[0m \u001b[0;34m=\u001b[0m \u001b[0mtorch\u001b[0m\u001b[0;34m.\u001b[0m\u001b[0moptim\u001b[0m\u001b[0;34m.\u001b[0m\u001b[0mNAdam\u001b[0m\u001b[0;34m(\u001b[0m\u001b[0mnmt_model\u001b[0m\u001b[0;34m.\u001b[0m\u001b[0mparameters\u001b[0m\u001b[0;34m(\u001b[0m\u001b[0;34m)\u001b[0m\u001b[0;34m)\u001b[0m\u001b[0;34m\u001b[0m\u001b[0;34m\u001b[0m\u001b[0m\n\u001b[1;32m      7\u001b[0m \u001b[0;34m\u001b[0m\u001b[0m\n\u001b[0;32m----> 8\u001b[0;31m history = train(nmt_model, optimizer, xentropy, accuracy, train_loader, valid_loader,\n\u001b[0m\u001b[1;32m      9\u001b[0m                 n_epochs,vocab_size)\n",
            "\u001b[0;32m/tmp/ipython-input-342300286.py\u001b[0m in \u001b[0;36mtrain\u001b[0;34m(model, optimizer, criterion, metric, train_loader, valid_loader, n_epochs, vocab_size)\u001b[0m\n\u001b[1;32m     24\u001b[0m             \u001b[0minputs\u001b[0m \u001b[0;34m=\u001b[0m \u001b[0minputs\u001b[0m\u001b[0;34m.\u001b[0m\u001b[0mto\u001b[0m\u001b[0;34m(\u001b[0m\u001b[0mdevice\u001b[0m\u001b[0;34m)\u001b[0m\u001b[0;34m\u001b[0m\u001b[0;34m\u001b[0m\u001b[0m\n\u001b[1;32m     25\u001b[0m             \u001b[0mlabels\u001b[0m \u001b[0;34m=\u001b[0m \u001b[0mlabels\u001b[0m\u001b[0;34m.\u001b[0m\u001b[0mto\u001b[0m\u001b[0;34m(\u001b[0m\u001b[0mdevice\u001b[0m\u001b[0;34m)\u001b[0m\u001b[0;34m\u001b[0m\u001b[0;34m\u001b[0m\u001b[0m\n\u001b[0;32m---> 26\u001b[0;31m             \u001b[0my_pred\u001b[0m \u001b[0;34m=\u001b[0m \u001b[0mmodel\u001b[0m\u001b[0;34m(\u001b[0m\u001b[0minputs\u001b[0m\u001b[0;34m)\u001b[0m\u001b[0;34m\u001b[0m\u001b[0;34m\u001b[0m\u001b[0m\n\u001b[0m\u001b[1;32m     27\u001b[0m             \u001b[0mloss\u001b[0m \u001b[0;34m=\u001b[0m \u001b[0mcriterion\u001b[0m\u001b[0;34m(\u001b[0m\u001b[0my_pred\u001b[0m\u001b[0;34m.\u001b[0m\u001b[0mview\u001b[0m\u001b[0;34m(\u001b[0m\u001b[0;34m-\u001b[0m\u001b[0;36m1\u001b[0m\u001b[0;34m,\u001b[0m\u001b[0mvocab_size\u001b[0m\u001b[0;34m)\u001b[0m\u001b[0;34m,\u001b[0m \u001b[0mlabels\u001b[0m\u001b[0;34m.\u001b[0m\u001b[0mview\u001b[0m\u001b[0;34m(\u001b[0m\u001b[0;34m-\u001b[0m\u001b[0;36m1\u001b[0m\u001b[0;34m)\u001b[0m\u001b[0;34m)\u001b[0m\u001b[0;34m\u001b[0m\u001b[0;34m\u001b[0m\u001b[0m\n\u001b[1;32m     28\u001b[0m             \u001b[0mtotal_loss\u001b[0m \u001b[0;34m+=\u001b[0m \u001b[0mloss\u001b[0m\u001b[0;34m.\u001b[0m\u001b[0mitem\u001b[0m\u001b[0;34m(\u001b[0m\u001b[0;34m)\u001b[0m\u001b[0;34m\u001b[0m\u001b[0;34m\u001b[0m\u001b[0m\n",
            "\u001b[0;32m/usr/local/lib/python3.12/dist-packages/torch/nn/modules/module.py\u001b[0m in \u001b[0;36m_wrapped_call_impl\u001b[0;34m(self, *args, **kwargs)\u001b[0m\n\u001b[1;32m   1771\u001b[0m             \u001b[0;32mreturn\u001b[0m \u001b[0mself\u001b[0m\u001b[0;34m.\u001b[0m\u001b[0m_compiled_call_impl\u001b[0m\u001b[0;34m(\u001b[0m\u001b[0;34m*\u001b[0m\u001b[0margs\u001b[0m\u001b[0;34m,\u001b[0m \u001b[0;34m**\u001b[0m\u001b[0mkwargs\u001b[0m\u001b[0;34m)\u001b[0m  \u001b[0;31m# type: ignore[misc]\u001b[0m\u001b[0;34m\u001b[0m\u001b[0;34m\u001b[0m\u001b[0m\n\u001b[1;32m   1772\u001b[0m         \u001b[0;32melse\u001b[0m\u001b[0;34m:\u001b[0m\u001b[0;34m\u001b[0m\u001b[0;34m\u001b[0m\u001b[0m\n\u001b[0;32m-> 1773\u001b[0;31m             \u001b[0;32mreturn\u001b[0m \u001b[0mself\u001b[0m\u001b[0;34m.\u001b[0m\u001b[0m_call_impl\u001b[0m\u001b[0;34m(\u001b[0m\u001b[0;34m*\u001b[0m\u001b[0margs\u001b[0m\u001b[0;34m,\u001b[0m \u001b[0;34m**\u001b[0m\u001b[0mkwargs\u001b[0m\u001b[0;34m)\u001b[0m\u001b[0;34m\u001b[0m\u001b[0;34m\u001b[0m\u001b[0m\n\u001b[0m\u001b[1;32m   1774\u001b[0m \u001b[0;34m\u001b[0m\u001b[0m\n\u001b[1;32m   1775\u001b[0m     \u001b[0;31m# torchrec tests the code consistency with the following code\u001b[0m\u001b[0;34m\u001b[0m\u001b[0;34m\u001b[0m\u001b[0m\n",
            "\u001b[0;32m/usr/local/lib/python3.12/dist-packages/torch/nn/modules/module.py\u001b[0m in \u001b[0;36m_call_impl\u001b[0;34m(self, *args, **kwargs)\u001b[0m\n\u001b[1;32m   1782\u001b[0m                 \u001b[0;32mor\u001b[0m \u001b[0m_global_backward_pre_hooks\u001b[0m \u001b[0;32mor\u001b[0m \u001b[0m_global_backward_hooks\u001b[0m\u001b[0;34m\u001b[0m\u001b[0;34m\u001b[0m\u001b[0m\n\u001b[1;32m   1783\u001b[0m                 or _global_forward_hooks or _global_forward_pre_hooks):\n\u001b[0;32m-> 1784\u001b[0;31m             \u001b[0;32mreturn\u001b[0m \u001b[0mforward_call\u001b[0m\u001b[0;34m(\u001b[0m\u001b[0;34m*\u001b[0m\u001b[0margs\u001b[0m\u001b[0;34m,\u001b[0m \u001b[0;34m**\u001b[0m\u001b[0mkwargs\u001b[0m\u001b[0;34m)\u001b[0m\u001b[0;34m\u001b[0m\u001b[0;34m\u001b[0m\u001b[0m\n\u001b[0m\u001b[1;32m   1785\u001b[0m \u001b[0;34m\u001b[0m\u001b[0m\n\u001b[1;32m   1786\u001b[0m         \u001b[0mresult\u001b[0m \u001b[0;34m=\u001b[0m \u001b[0;32mNone\u001b[0m\u001b[0;34m\u001b[0m\u001b[0;34m\u001b[0m\u001b[0m\n",
            "\u001b[0;32m/tmp/ipython-input-3398574305.py\u001b[0m in \u001b[0;36mforward\u001b[0;34m(self, pair)\u001b[0m\n\u001b[1;32m     31\u001b[0m     \u001b[0moutputs\u001b[0m\u001b[0;34m,\u001b[0m \u001b[0m_\u001b[0m \u001b[0;34m=\u001b[0m \u001b[0mself\u001b[0m\u001b[0;34m.\u001b[0m\u001b[0mdecoder\u001b[0m\u001b[0;34m(\u001b[0m\u001b[0mdecoder_packed\u001b[0m\u001b[0;34m,\u001b[0m \u001b[0mhidden_states\u001b[0m\u001b[0;34m)\u001b[0m\u001b[0;34m\u001b[0m\u001b[0;34m\u001b[0m\u001b[0m\n\u001b[1;32m     32\u001b[0m     \u001b[0mdecoder_outputs\u001b[0m \u001b[0;34m=\u001b[0m \u001b[0mpad_packed_sequence\u001b[0m\u001b[0;34m(\u001b[0m\u001b[0moutputs\u001b[0m\u001b[0;34m,\u001b[0m \u001b[0mbatch_first\u001b[0m\u001b[0;34m=\u001b[0m\u001b[0;32mTrue\u001b[0m\u001b[0;34m)\u001b[0m\u001b[0;34m\u001b[0m\u001b[0;34m\u001b[0m\u001b[0m\n\u001b[0;32m---> 33\u001b[0;31m     \u001b[0;32mreturn\u001b[0m \u001b[0mself\u001b[0m\u001b[0;34m.\u001b[0m\u001b[0moutput\u001b[0m\u001b[0;34m(\u001b[0m\u001b[0mdecoder_outputs\u001b[0m\u001b[0;34m)\u001b[0m\u001b[0;34m.\u001b[0m\u001b[0mpermute\u001b[0m\u001b[0;34m(\u001b[0m\u001b[0;36m0\u001b[0m\u001b[0;34m,\u001b[0m \u001b[0;36m2\u001b[0m\u001b[0;34m,\u001b[0m \u001b[0;36m1\u001b[0m\u001b[0;34m)\u001b[0m\u001b[0;34m\u001b[0m\u001b[0;34m\u001b[0m\u001b[0m\n\u001b[0m",
            "\u001b[0;32m/usr/local/lib/python3.12/dist-packages/torch/nn/modules/module.py\u001b[0m in \u001b[0;36m_wrapped_call_impl\u001b[0;34m(self, *args, **kwargs)\u001b[0m\n\u001b[1;32m   1771\u001b[0m             \u001b[0;32mreturn\u001b[0m \u001b[0mself\u001b[0m\u001b[0;34m.\u001b[0m\u001b[0m_compiled_call_impl\u001b[0m\u001b[0;34m(\u001b[0m\u001b[0;34m*\u001b[0m\u001b[0margs\u001b[0m\u001b[0;34m,\u001b[0m \u001b[0;34m**\u001b[0m\u001b[0mkwargs\u001b[0m\u001b[0;34m)\u001b[0m  \u001b[0;31m# type: ignore[misc]\u001b[0m\u001b[0;34m\u001b[0m\u001b[0;34m\u001b[0m\u001b[0m\n\u001b[1;32m   1772\u001b[0m         \u001b[0;32melse\u001b[0m\u001b[0;34m:\u001b[0m\u001b[0;34m\u001b[0m\u001b[0;34m\u001b[0m\u001b[0m\n\u001b[0;32m-> 1773\u001b[0;31m             \u001b[0;32mreturn\u001b[0m \u001b[0mself\u001b[0m\u001b[0;34m.\u001b[0m\u001b[0m_call_impl\u001b[0m\u001b[0;34m(\u001b[0m\u001b[0;34m*\u001b[0m\u001b[0margs\u001b[0m\u001b[0;34m,\u001b[0m \u001b[0;34m**\u001b[0m\u001b[0mkwargs\u001b[0m\u001b[0;34m)\u001b[0m\u001b[0;34m\u001b[0m\u001b[0;34m\u001b[0m\u001b[0m\n\u001b[0m\u001b[1;32m   1774\u001b[0m \u001b[0;34m\u001b[0m\u001b[0m\n\u001b[1;32m   1775\u001b[0m     \u001b[0;31m# torchrec tests the code consistency with the following code\u001b[0m\u001b[0;34m\u001b[0m\u001b[0;34m\u001b[0m\u001b[0m\n",
            "\u001b[0;32m/usr/local/lib/python3.12/dist-packages/torch/nn/modules/module.py\u001b[0m in \u001b[0;36m_call_impl\u001b[0;34m(self, *args, **kwargs)\u001b[0m\n\u001b[1;32m   1782\u001b[0m                 \u001b[0;32mor\u001b[0m \u001b[0m_global_backward_pre_hooks\u001b[0m \u001b[0;32mor\u001b[0m \u001b[0m_global_backward_hooks\u001b[0m\u001b[0;34m\u001b[0m\u001b[0;34m\u001b[0m\u001b[0m\n\u001b[1;32m   1783\u001b[0m                 or _global_forward_hooks or _global_forward_pre_hooks):\n\u001b[0;32m-> 1784\u001b[0;31m             \u001b[0;32mreturn\u001b[0m \u001b[0mforward_call\u001b[0m\u001b[0;34m(\u001b[0m\u001b[0;34m*\u001b[0m\u001b[0margs\u001b[0m\u001b[0;34m,\u001b[0m \u001b[0;34m**\u001b[0m\u001b[0mkwargs\u001b[0m\u001b[0;34m)\u001b[0m\u001b[0;34m\u001b[0m\u001b[0;34m\u001b[0m\u001b[0m\n\u001b[0m\u001b[1;32m   1785\u001b[0m \u001b[0;34m\u001b[0m\u001b[0m\n\u001b[1;32m   1786\u001b[0m         \u001b[0mresult\u001b[0m \u001b[0;34m=\u001b[0m \u001b[0;32mNone\u001b[0m\u001b[0;34m\u001b[0m\u001b[0;34m\u001b[0m\u001b[0m\n",
            "\u001b[0;32m/usr/local/lib/python3.12/dist-packages/torch/nn/modules/linear.py\u001b[0m in \u001b[0;36mforward\u001b[0;34m(self, input)\u001b[0m\n\u001b[1;32m    123\u001b[0m \u001b[0;34m\u001b[0m\u001b[0m\n\u001b[1;32m    124\u001b[0m     \u001b[0;32mdef\u001b[0m \u001b[0mforward\u001b[0m\u001b[0;34m(\u001b[0m\u001b[0mself\u001b[0m\u001b[0;34m,\u001b[0m \u001b[0minput\u001b[0m\u001b[0;34m:\u001b[0m \u001b[0mTensor\u001b[0m\u001b[0;34m)\u001b[0m \u001b[0;34m->\u001b[0m \u001b[0mTensor\u001b[0m\u001b[0;34m:\u001b[0m\u001b[0;34m\u001b[0m\u001b[0;34m\u001b[0m\u001b[0m\n\u001b[0;32m--> 125\u001b[0;31m         \u001b[0;32mreturn\u001b[0m \u001b[0mF\u001b[0m\u001b[0;34m.\u001b[0m\u001b[0mlinear\u001b[0m\u001b[0;34m(\u001b[0m\u001b[0minput\u001b[0m\u001b[0;34m,\u001b[0m \u001b[0mself\u001b[0m\u001b[0;34m.\u001b[0m\u001b[0mweight\u001b[0m\u001b[0;34m,\u001b[0m \u001b[0mself\u001b[0m\u001b[0;34m.\u001b[0m\u001b[0mbias\u001b[0m\u001b[0;34m)\u001b[0m\u001b[0;34m\u001b[0m\u001b[0;34m\u001b[0m\u001b[0m\n\u001b[0m\u001b[1;32m    126\u001b[0m \u001b[0;34m\u001b[0m\u001b[0m\n\u001b[1;32m    127\u001b[0m     \u001b[0;32mdef\u001b[0m \u001b[0mextra_repr\u001b[0m\u001b[0;34m(\u001b[0m\u001b[0mself\u001b[0m\u001b[0;34m)\u001b[0m \u001b[0;34m->\u001b[0m \u001b[0mstr\u001b[0m\u001b[0;34m:\u001b[0m\u001b[0;34m\u001b[0m\u001b[0;34m\u001b[0m\u001b[0m\n",
            "\u001b[0;31mTypeError\u001b[0m: linear(): argument 'input' (position 1) must be Tensor, not tuple"
          ]
        }
      ]
    }
  ]
}