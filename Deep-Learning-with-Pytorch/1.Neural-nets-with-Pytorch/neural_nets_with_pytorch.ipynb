{
 "cells": [
  {
   "cell_type": "markdown",
   "id": "d9e63ee1-de20-46b2-9ef1-a7c43d53d615",
   "metadata": {},
   "source": [
    "##  PyTorch Fundamentals"
   ]
  },
  {
   "cell_type": "markdown",
   "id": "9750591c-0cea-45c6-ac42-e625876428dd",
   "metadata": {},
   "source": [
    "### PyTorch Tensors"
   ]
  },
  {
   "cell_type": "code",
   "execution_count": 4,
   "id": "62ce59ba-6336-4739-a877-86cfe37e280a",
   "metadata": {},
   "outputs": [
    {
     "data": {
      "text/plain": [
       "tensor([[1., 7., 3.],\n",
       "        [4., 5., 6.]])"
      ]
     },
     "execution_count": 4,
     "metadata": {},
     "output_type": "execute_result"
    }
   ],
   "source": [
    "import torch\n",
    "\n",
    "X = torch.tensor([[1.0, 7.0, 3.0],[4.0, 5.0, 6.0]])\n",
    "X"
   ]
  },
  {
   "cell_type": "code",
   "execution_count": 5,
   "id": "1448e474-5193-4ab7-a0cb-345e360c9172",
   "metadata": {},
   "outputs": [
    {
     "data": {
      "text/plain": [
       "torch.Size([2, 3])"
      ]
     },
     "execution_count": 5,
     "metadata": {},
     "output_type": "execute_result"
    }
   ],
   "source": [
    "X.shape"
   ]
  },
  {
   "cell_type": "code",
   "execution_count": 6,
   "id": "e4e12a9b-0734-4128-b5b0-3c605f5b5159",
   "metadata": {},
   "outputs": [
    {
     "data": {
      "text/plain": [
       "torch.float32"
      ]
     },
     "execution_count": 6,
     "metadata": {},
     "output_type": "execute_result"
    }
   ],
   "source": [
    "X.dtype"
   ]
  },
  {
   "cell_type": "code",
   "execution_count": 7,
   "id": "42a80dbd-6e0a-462b-b7ec-bcd5062bb719",
   "metadata": {},
   "outputs": [
    {
     "data": {
      "text/plain": [
       "tensor(3.)"
      ]
     },
     "execution_count": 7,
     "metadata": {},
     "output_type": "execute_result"
    }
   ],
   "source": [
    "X[0, 2]"
   ]
  },
  {
   "cell_type": "code",
   "execution_count": 8,
   "id": "5d9f2141-3da3-4e1e-9043-44ec66891b53",
   "metadata": {},
   "outputs": [
    {
     "data": {
      "text/plain": [
       "tensor([3., 6.])"
      ]
     },
     "execution_count": 8,
     "metadata": {},
     "output_type": "execute_result"
    }
   ],
   "source": [
    "X[:, 2]"
   ]
  },
  {
   "cell_type": "code",
   "execution_count": 9,
   "id": "fa5d9127-9683-41aa-ab53-fba429b124bf",
   "metadata": {},
   "outputs": [
    {
     "data": {
      "text/plain": [
       "tensor([[20., 80., 40.],\n",
       "        [50., 60., 70.]])"
      ]
     },
     "execution_count": 9,
     "metadata": {},
     "output_type": "execute_result"
    }
   ],
   "source": [
    "10 * (X + 1)"
   ]
  },
  {
   "cell_type": "code",
   "execution_count": 10,
   "id": "ec47ff32-fb30-4eb6-bde0-39e1af9d4763",
   "metadata": {},
   "outputs": [
    {
     "data": {
      "text/plain": [
       "tensor([[   2.7183, 1096.6332,   20.0855],\n",
       "        [  54.5982,  148.4132,  403.4288]])"
      ]
     },
     "execution_count": 10,
     "metadata": {},
     "output_type": "execute_result"
    }
   ],
   "source": [
    "X.exp()"
   ]
  },
  {
   "cell_type": "code",
   "execution_count": 11,
   "id": "efac4d8d-b9b7-41b7-9904-ebefcd7d815b",
   "metadata": {},
   "outputs": [
    {
     "data": {
      "text/plain": [
       "tensor(4.3333)"
      ]
     },
     "execution_count": 11,
     "metadata": {},
     "output_type": "execute_result"
    }
   ],
   "source": [
    "X.mean()"
   ]
  },
  {
   "cell_type": "code",
   "execution_count": 12,
   "id": "74e43d09-a059-4f3f-9d4d-c83e9bb87ea3",
   "metadata": {},
   "outputs": [
    {
     "data": {
      "text/plain": [
       "torch.return_types.max(\n",
       "values=tensor([4., 7., 6.]),\n",
       "indices=tensor([1, 0, 1]))"
      ]
     },
     "execution_count": 12,
     "metadata": {},
     "output_type": "execute_result"
    }
   ],
   "source": [
    "X.max(0)  "
   ]
  },
  {
   "cell_type": "code",
   "execution_count": 13,
   "id": "edf2d962-f984-47f2-8b88-e04d56260d58",
   "metadata": {},
   "outputs": [
    {
     "data": {
      "text/plain": [
       "tensor([[1., 4.],\n",
       "        [7., 5.],\n",
       "        [3., 6.]])"
      ]
     },
     "execution_count": 13,
     "metadata": {},
     "output_type": "execute_result"
    }
   ],
   "source": [
    "X.T"
   ]
  },
  {
   "cell_type": "code",
   "execution_count": 14,
   "id": "2752a0d4-7fcf-4522-b570-601b801a6b38",
   "metadata": {},
   "outputs": [
    {
     "data": {
      "text/plain": [
       "torch.Size([3, 2])"
      ]
     },
     "execution_count": 14,
     "metadata": {},
     "output_type": "execute_result"
    }
   ],
   "source": [
    "X.T.shape"
   ]
  },
  {
   "cell_type": "code",
   "execution_count": 15,
   "id": "1de2409d-cbee-42f9-98ba-f898e89e7ca2",
   "metadata": {},
   "outputs": [
    {
     "data": {
      "text/plain": [
       "tensor([[59., 57.],\n",
       "        [57., 77.]])"
      ]
     },
     "execution_count": 15,
     "metadata": {},
     "output_type": "execute_result"
    }
   ],
   "source": [
    "X @ X.T"
   ]
  },
  {
   "cell_type": "code",
   "execution_count": 16,
   "id": "84c3e3b0-aae2-4081-ac40-8d701de61b5d",
   "metadata": {},
   "outputs": [
    {
     "data": {
      "text/plain": [
       "array([[1., 7., 3.],\n",
       "       [4., 5., 6.]], dtype=float32)"
      ]
     },
     "execution_count": 16,
     "metadata": {},
     "output_type": "execute_result"
    }
   ],
   "source": [
    "import numpy as np\n",
    "\n",
    "X.numpy()"
   ]
  },
  {
   "cell_type": "code",
   "execution_count": 17,
   "id": "9ed92ac5-e72b-40bb-b070-b71c4d7a5cdf",
   "metadata": {},
   "outputs": [
    {
     "data": {
      "text/plain": [
       "array([[1., 7., 3.],\n",
       "       [4., 5., 6.]])"
      ]
     },
     "execution_count": 17,
     "metadata": {},
     "output_type": "execute_result"
    }
   ],
   "source": [
    "np.array([[1.0, 7.0, 3.0],[4.0, 5.0, 6.0]])"
   ]
  },
  {
   "cell_type": "code",
   "execution_count": 18,
   "id": "772f3da2-1f58-4a64-a3ba-205fab3f2a22",
   "metadata": {},
   "outputs": [
    {
     "data": {
      "text/plain": [
       "tensor([[1., 7., 3.],\n",
       "        [4., 5., 6.]], dtype=torch.float64)"
      ]
     },
     "execution_count": 18,
     "metadata": {},
     "output_type": "execute_result"
    }
   ],
   "source": [
    "torch.tensor(np.array([[1.0, 7.0, 3.0],[4.0, 5.0, 6.0]]))"
   ]
  },
  {
   "cell_type": "code",
   "execution_count": 19,
   "id": "581a70e2-9c2b-4fa6-9eae-1484e2b0a16f",
   "metadata": {},
   "outputs": [
    {
     "data": {
      "text/plain": [
       "tensor([[1., 7., 3.],\n",
       "        [4., 5., 6.]])"
      ]
     },
     "execution_count": 19,
     "metadata": {},
     "output_type": "execute_result"
    }
   ],
   "source": [
    "torch.tensor(np.array([[1.0, 7.0, 3.0],[4.0, 5.0, 6.0]]),dtype =torch.float32)"
   ]
  },
  {
   "cell_type": "code",
   "execution_count": 20,
   "id": "ffb1727d-2f32-444c-aa9a-13e88235663b",
   "metadata": {},
   "outputs": [
    {
     "data": {
      "text/plain": [
       "tensor([[1., 7., 3.],\n",
       "        [4., 5., 6.]])"
      ]
     },
     "execution_count": 20,
     "metadata": {},
     "output_type": "execute_result"
    }
   ],
   "source": [
    "torch.FloatTensor(np.array([[1.0, 7.0, 3.0],[4.0, 5.0, 6.0]]))"
   ]
  },
  {
   "cell_type": "code",
   "execution_count": 21,
   "id": "59c04a4f-9489-480f-adb7-90b0f4c706aa",
   "metadata": {},
   "outputs": [
    {
     "data": {
      "text/plain": [
       "tensor([[ 1., 33.,  3.],\n",
       "        [ 4.,  5.,  6.]], dtype=torch.float64)"
      ]
     },
     "execution_count": 21,
     "metadata": {},
     "output_type": "execute_result"
    }
   ],
   "source": [
    "X2_np = np.array([[1.0, 7.0, 3.0],[4.0, 5.0, 6.0]])\n",
    "X2 = torch.from_numpy(X2_np)\n",
    "X2_np[0,1] = 33\n",
    "X2"
   ]
  },
  {
   "cell_type": "code",
   "execution_count": 22,
   "id": "c12832f6-af4f-4829-8c3d-849ebb9b7f98",
   "metadata": {},
   "outputs": [
    {
     "data": {
      "text/plain": [
       "tensor([[  1., -44.,   3.],\n",
       "        [  4., -44.,   6.]])"
      ]
     },
     "execution_count": 22,
     "metadata": {},
     "output_type": "execute_result"
    }
   ],
   "source": [
    "X[:,1] = -44\n",
    "X"
   ]
  },
  {
   "cell_type": "code",
   "execution_count": 23,
   "id": "582c2fcf-2e1a-4ab5-863b-1d94a27a7750",
   "metadata": {},
   "outputs": [
    {
     "data": {
      "text/plain": [
       "tensor([[1., 0., 3.],\n",
       "        [4., 0., 6.]])"
      ]
     },
     "execution_count": 23,
     "metadata": {},
     "output_type": "execute_result"
    }
   ],
   "source": [
    "X.relu()"
   ]
  },
  {
   "cell_type": "markdown",
   "id": "004829b4-7fa3-4cbd-b4c5-9849c1e1c011",
   "metadata": {},
   "source": [
    "## Hardward Acceleration"
   ]
  },
  {
   "cell_type": "code",
   "execution_count": 25,
   "id": "c9d253c3-84e6-4e54-ac35-2b0986fd3055",
   "metadata": {},
   "outputs": [],
   "source": [
    "if torch.cuda.is_available():\n",
    "    device = \"cuda\"\n",
    "elif torch.backends.mps.is_available():\n",
    "    device = \"mps\"\n",
    "else:\n",
    "    device = \"cpu\""
   ]
  },
  {
   "cell_type": "code",
   "execution_count": 26,
   "id": "0a51e0f8-7f5f-4519-bb96-85398d5f06b3",
   "metadata": {},
   "outputs": [
    {
     "data": {
      "text/plain": [
       "'mps'"
      ]
     },
     "execution_count": 26,
     "metadata": {},
     "output_type": "execute_result"
    }
   ],
   "source": [
    "device"
   ]
  },
  {
   "cell_type": "code",
   "execution_count": 27,
   "id": "7809b23a-6bd6-4250-b9c7-325a99636f6b",
   "metadata": {},
   "outputs": [
    {
     "data": {
      "text/plain": [
       "device(type='mps', index=0)"
      ]
     },
     "execution_count": 27,
     "metadata": {},
     "output_type": "execute_result"
    }
   ],
   "source": [
    "# First CPU → then GPU\n",
    "M = torch.tensor([[1.0, 7.0, 3.0],[4.0, 5.0, 6.0]])\n",
    "M = M.to(device)\n",
    "M.device"
   ]
  },
  {
   "cell_type": "code",
   "execution_count": 28,
   "id": "2a42a93e-fa4d-46b3-bd2e-4f38d671d5f5",
   "metadata": {},
   "outputs": [
    {
     "data": {
      "text/plain": [
       "device(type='mps', index=0)"
      ]
     },
     "execution_count": 28,
     "metadata": {},
     "output_type": "execute_result"
    }
   ],
   "source": [
    "# Direct GPU\n",
    "M = torch.tensor([[1.0, 7.0, 3.0],[4.0, 5.0, 6.0]], device=device)\n",
    "M.device"
   ]
  },
  {
   "cell_type": "code",
   "execution_count": 29,
   "id": "8dfe7f04-c6c4-4cb7-8f35-f83343f9cf55",
   "metadata": {},
   "outputs": [
    {
     "data": {
      "text/plain": [
       "tensor([[59., 57.],\n",
       "        [57., 77.]], device='mps:0')"
      ]
     },
     "execution_count": 29,
     "metadata": {},
     "output_type": "execute_result"
    }
   ],
   "source": [
    "R = M @ M.T\n",
    "R"
   ]
  },
  {
   "cell_type": "code",
   "execution_count": 30,
   "id": "cdc24785-8a84-4c69-9839-a4d207cc9d5a",
   "metadata": {},
   "outputs": [
    {
     "name": "stdout",
     "output_type": "stream",
     "text": [
      "11.1 ms ± 408 μs per loop (mean ± std. dev. of 7 runs, 100 loops each)\n",
      "11 ms ± 119 μs per loop (mean ± std. dev. of 7 runs, 1,000 loops each)\n"
     ]
    }
   ],
   "source": [
    "M = torch.rand((2000,2000))\n",
    "M @ M.T # warmup\n",
    "%timeit M @ M.T\n",
    "\n",
    "M = M.to(device)\n",
    "M @ M.T # warmup\n",
    "%timeit M @ M.T"
   ]
  },
  {
   "cell_type": "markdown",
   "id": "f18226ce-05a6-48a5-91d7-32bd2b1c5a0c",
   "metadata": {},
   "source": [
    "## Autograd"
   ]
  },
  {
   "cell_type": "code",
   "execution_count": 32,
   "id": "eb857f3b-9470-44a0-9230-28d77ae54d4b",
   "metadata": {},
   "outputs": [
    {
     "data": {
      "text/plain": [
       "tensor(16., grad_fn=<PowBackward0>)"
      ]
     },
     "execution_count": 32,
     "metadata": {},
     "output_type": "execute_result"
    }
   ],
   "source": [
    "X = torch.tensor(4.0, requires_grad = True)\n",
    "f = X ** 2\n",
    "f"
   ]
  },
  {
   "cell_type": "code",
   "execution_count": 33,
   "id": "a12ca336-426c-44bb-abe2-d7b9593bc8f4",
   "metadata": {},
   "outputs": [
    {
     "data": {
      "text/plain": [
       "tensor(8.)"
      ]
     },
     "execution_count": 33,
     "metadata": {},
     "output_type": "execute_result"
    }
   ],
   "source": [
    "f.backward()\n",
    "X.grad"
   ]
  },
  {
   "cell_type": "code",
   "execution_count": 34,
   "id": "296b0e46-bba2-4251-9952-fecdf2f02236",
   "metadata": {},
   "outputs": [],
   "source": [
    "learning_rate = 0.1\n",
    "with torch.no_grad():\n",
    "    X -= learning_rate * X.grad"
   ]
  },
  {
   "cell_type": "code",
   "execution_count": 35,
   "id": "fedff63f-9554-4528-9779-3f0488ff09c8",
   "metadata": {},
   "outputs": [
    {
     "data": {
      "text/plain": [
       "tensor(3.2000, requires_grad=True)"
      ]
     },
     "execution_count": 35,
     "metadata": {},
     "output_type": "execute_result"
    }
   ],
   "source": [
    "X"
   ]
  },
  {
   "cell_type": "code",
   "execution_count": 36,
   "id": "7a32c68e-f1d6-4a55-b0c0-2814803ecb90",
   "metadata": {},
   "outputs": [
    {
     "data": {
      "text/plain": [
       "tensor(2.4000)"
      ]
     },
     "execution_count": 36,
     "metadata": {},
     "output_type": "execute_result"
    }
   ],
   "source": [
    "X_detached = X.detach()\n",
    "X_detached -= learning_rate * X.grad\n",
    "X_detached"
   ]
  },
  {
   "cell_type": "code",
   "execution_count": 37,
   "id": "040a8f48-34c3-4203-b783-e2bd30848a06",
   "metadata": {},
   "outputs": [
    {
     "data": {
      "text/plain": [
       "tensor(0.)"
      ]
     },
     "execution_count": 37,
     "metadata": {},
     "output_type": "execute_result"
    }
   ],
   "source": [
    "X.grad.zero_()   # resets gradients not value"
   ]
  },
  {
   "cell_type": "code",
   "execution_count": 38,
   "id": "04d9e42d-1b88-4e42-a9b6-8505d027fa89",
   "metadata": {},
   "outputs": [
    {
     "data": {
      "text/plain": [
       "tensor(2.4000, requires_grad=True)"
      ]
     },
     "execution_count": 38,
     "metadata": {},
     "output_type": "execute_result"
    }
   ],
   "source": [
    "X"
   ]
  },
  {
   "cell_type": "code",
   "execution_count": 39,
   "id": "ac420e0e-24b9-4bc5-9249-60d08da876ba",
   "metadata": {},
   "outputs": [
    {
     "name": "stdout",
     "output_type": "stream",
     "text": [
      "tensor(3.9200, requires_grad=True)\n",
      "tensor(3.8416, requires_grad=True)\n",
      "tensor(3.7648, requires_grad=True)\n",
      "tensor(3.6895, requires_grad=True)\n",
      "tensor(3.6157, requires_grad=True)\n",
      "tensor(3.5434, requires_grad=True)\n",
      "tensor(3.4725, requires_grad=True)\n",
      "tensor(3.4031, requires_grad=True)\n",
      "tensor(3.3350, requires_grad=True)\n",
      "tensor(3.2683, requires_grad=True)\n",
      "tensor(3.2029, requires_grad=True)\n",
      "tensor(3.1389, requires_grad=True)\n",
      "tensor(3.0761, requires_grad=True)\n",
      "tensor(3.0146, requires_grad=True)\n",
      "tensor(2.9543, requires_grad=True)\n",
      "tensor(2.8952, requires_grad=True)\n",
      "tensor(2.8373, requires_grad=True)\n",
      "tensor(2.7805, requires_grad=True)\n",
      "tensor(2.7249, requires_grad=True)\n",
      "tensor(2.6704, requires_grad=True)\n",
      "tensor(2.6170, requires_grad=True)\n",
      "tensor(2.5647, requires_grad=True)\n",
      "tensor(2.5134, requires_grad=True)\n",
      "tensor(2.4631, requires_grad=True)\n",
      "tensor(2.4139, requires_grad=True)\n",
      "tensor(2.3656, requires_grad=True)\n",
      "tensor(2.3183, requires_grad=True)\n",
      "tensor(2.2719, requires_grad=True)\n",
      "tensor(2.2265, requires_grad=True)\n",
      "tensor(2.1819, requires_grad=True)\n",
      "tensor(2.1383, requires_grad=True)\n",
      "tensor(2.0955, requires_grad=True)\n",
      "tensor(2.0536, requires_grad=True)\n",
      "tensor(2.0125, requires_grad=True)\n",
      "tensor(1.9723, requires_grad=True)\n",
      "tensor(1.9329, requires_grad=True)\n",
      "tensor(1.8942, requires_grad=True)\n",
      "tensor(1.8563, requires_grad=True)\n",
      "tensor(1.8192, requires_grad=True)\n",
      "tensor(1.7828, requires_grad=True)\n",
      "tensor(1.7471, requires_grad=True)\n",
      "tensor(1.7122, requires_grad=True)\n",
      "tensor(1.6780, requires_grad=True)\n",
      "tensor(1.6444, requires_grad=True)\n",
      "tensor(1.6115, requires_grad=True)\n",
      "tensor(1.5793, requires_grad=True)\n",
      "tensor(1.5477, requires_grad=True)\n",
      "tensor(1.5167, requires_grad=True)\n",
      "tensor(1.4864, requires_grad=True)\n",
      "tensor(1.4567, requires_grad=True)\n"
     ]
    }
   ],
   "source": [
    "learning_rate = 0.01\n",
    "x = torch.tensor(4.0,requires_grad = True)\n",
    "for iterations in range(50):\n",
    "    f = x ** 2  # forward pass\n",
    "    f.backward() # backward pass\n",
    "    with torch.no_grad():\n",
    "        x -= learning_rate * x.grad # gradient descent step\n",
    "    x.grad.zero_()\n",
    "    print(x )\n",
    "    "
   ]
  },
  {
   "cell_type": "markdown",
   "id": "fae0d1d3-08e8-4936-90da-1547245630a1",
   "metadata": {},
   "source": [
    "## Implementation of Linear Regression"
   ]
  },
  {
   "cell_type": "code",
   "execution_count": 41,
   "id": "677b4235-a5f4-499b-920a-01c514331f0c",
   "metadata": {},
   "outputs": [],
   "source": [
    "from sklearn.datasets import fetch_california_housing\n",
    "from sklearn.model_selection import train_test_split\n",
    "\n",
    "housing = fetch_california_housing()\n",
    "X_train_full, X_test, y_train_full, y_test = train_test_split(housing.data,\n",
    "                                                        housing.target, random_state=42)\n",
    "X_train, X_valid, y_train, y_valid = train_test_split(X_train_full,y_train_full,\n",
    "                                                     random_state=42)"
   ]
  },
  {
   "cell_type": "code",
   "execution_count": 42,
   "id": "7da286da-c88c-4570-9650-466b69f403e3",
   "metadata": {},
   "outputs": [
    {
     "data": {
      "text/plain": [
       "dtype('float64')"
      ]
     },
     "execution_count": 42,
     "metadata": {},
     "output_type": "execute_result"
    }
   ],
   "source": [
    "X_train.dtype"
   ]
  },
  {
   "cell_type": "code",
   "execution_count": 43,
   "id": "36972468-8fd3-4cce-adbe-2ba28217f57a",
   "metadata": {},
   "outputs": [],
   "source": [
    "X_train = torch.FloatTensor(X_train)\n",
    "X_valid = torch.FloatTensor(X_valid)\n",
    "X_test = torch.FloatTensor(X_test)"
   ]
  },
  {
   "cell_type": "code",
   "execution_count": 44,
   "id": "ac1dd1b2-e2c8-45b7-a3b1-d7e17ea87894",
   "metadata": {},
   "outputs": [
    {
     "data": {
      "text/plain": [
       "torch.Size([11610, 8])"
      ]
     },
     "execution_count": 44,
     "metadata": {},
     "output_type": "execute_result"
    }
   ],
   "source": [
    "X_train.shape"
   ]
  },
  {
   "cell_type": "code",
   "execution_count": 45,
   "id": "fd045fcb-e1f9-439c-8104-7cd37fdf2e1c",
   "metadata": {},
   "outputs": [
    {
     "data": {
      "text/plain": [
       "torch.float32"
      ]
     },
     "execution_count": 45,
     "metadata": {},
     "output_type": "execute_result"
    }
   ],
   "source": [
    "X_train.dtype"
   ]
  },
  {
   "cell_type": "code",
   "execution_count": 46,
   "id": "08dd49b9-0498-47d1-998e-a7c0cc9c77c0",
   "metadata": {
    "scrolled": true
   },
   "outputs": [
    {
     "data": {
      "text/plain": [
       "tensor([[ 3.5214e+00,  1.5000e+01,  3.0499e+00,  1.1065e+00,  1.4470e+03,\n",
       "          1.6060e+00,  3.7630e+01, -1.2243e+02],\n",
       "        [ 5.3275e+00,  5.0000e+00,  6.4901e+00,  9.9105e-01,  3.4640e+03,\n",
       "          3.4433e+00,  3.3690e+01, -1.1739e+02],\n",
       "        [ 3.1000e+00,  2.9000e+01,  7.5424e+00,  1.5915e+00,  1.3280e+03,\n",
       "          2.2508e+00,  3.8440e+01, -1.2298e+02],\n",
       "        [ 7.1736e+00,  1.2000e+01,  6.2890e+00,  9.9744e-01,  1.0540e+03,\n",
       "          2.6957e+00,  3.3550e+01, -1.1770e+02]])"
      ]
     },
     "execution_count": 46,
     "metadata": {},
     "output_type": "execute_result"
    }
   ],
   "source": [
    "X_train[:4]"
   ]
  },
  {
   "cell_type": "code",
   "execution_count": 47,
   "id": "3d49b394-0c59-4b12-b142-c74d0027e3e5",
   "metadata": {},
   "outputs": [],
   "source": [
    "means = X_train.mean(dim=0, keepdims=True)    # row vector\n",
    "std = X_train.std(dim=0, keepdims=True)"
   ]
  },
  {
   "cell_type": "code",
   "execution_count": 48,
   "id": "fb2747dd-76d6-42bd-a91a-f8b405874640",
   "metadata": {},
   "outputs": [
    {
     "data": {
      "text/plain": [
       "tensor([[-0.1940, -1.0778, -0.9433,  0.0149,  0.0207, -0.5729,  0.9292, -1.4221],\n",
       "        [ 0.7520, -1.8688,  0.4055, -0.2333,  1.8614,  0.2052, -0.9165,  1.0966],\n",
       "        [-0.4147,  0.0297,  0.8181,  1.0567, -0.0879, -0.2998,  1.3087, -1.6970],\n",
       "        [ 1.7188, -1.3151,  0.3266, -0.2195, -0.3379, -0.1115, -0.9821,  0.9417]])"
      ]
     },
     "execution_count": 48,
     "metadata": {},
     "output_type": "execute_result"
    }
   ],
   "source": [
    "X_train = (X_train - means) / std\n",
    "X_valid = (X_valid - means) / std\n",
    "X_test = (X_test - means) / std\n",
    "X_train[:4]"
   ]
  },
  {
   "cell_type": "code",
   "execution_count": 49,
   "id": "95cedb50-b586-4b73-b268-38f250bcb130",
   "metadata": {},
   "outputs": [
    {
     "data": {
      "text/plain": [
       "torch.Size([1, 2, 2])"
      ]
     },
     "execution_count": 49,
     "metadata": {},
     "output_type": "execute_result"
    }
   ],
   "source": [
    "a = torch.tensor([[[1,2],[3,4]]])\n",
    "a.shape"
   ]
  },
  {
   "cell_type": "code",
   "execution_count": 50,
   "id": "30947db9-6035-44ba-9f09-469368d5ff11",
   "metadata": {},
   "outputs": [],
   "source": [
    "a = a.view(-1,1)  # column vector"
   ]
  },
  {
   "cell_type": "code",
   "execution_count": 51,
   "id": "9c075e05-2d9c-46c2-ade9-7ad8629b45d9",
   "metadata": {},
   "outputs": [
    {
     "data": {
      "text/plain": [
       "tensor([[1],\n",
       "        [2],\n",
       "        [3],\n",
       "        [4]])"
      ]
     },
     "execution_count": 51,
     "metadata": {},
     "output_type": "execute_result"
    }
   ],
   "source": [
    "a"
   ]
  },
  {
   "cell_type": "code",
   "execution_count": 52,
   "id": "111d8bf7-1660-4ae3-b3cf-8d630a8c6f02",
   "metadata": {},
   "outputs": [
    {
     "data": {
      "text/plain": [
       "torch.Size([4, 1])"
      ]
     },
     "execution_count": 52,
     "metadata": {},
     "output_type": "execute_result"
    }
   ],
   "source": [
    "a.shape"
   ]
  },
  {
   "cell_type": "code",
   "execution_count": 53,
   "id": "2558e7be-8aa8-40a8-b8b2-02c41eac728c",
   "metadata": {},
   "outputs": [
    {
     "data": {
      "text/plain": [
       "torch.Size([11610, 1])"
      ]
     },
     "execution_count": 53,
     "metadata": {},
     "output_type": "execute_result"
    }
   ],
   "source": [
    "y_train = torch.FloatTensor(y_train).view(-1,1)\n",
    "y_valid = torch.FloatTensor(y_valid).view(-1,1)\n",
    "y_test = torch.FloatTensor(y_test).view(-1,1)\n",
    "y_train.shape"
   ]
  },
  {
   "cell_type": "code",
   "execution_count": 54,
   "id": "b3b33d74-ea63-4605-900d-2c1244ac3e82",
   "metadata": {},
   "outputs": [],
   "source": [
    "torch.manual_seed(42)\n",
    "n_features = X_train.shape[1]\n",
    "w = torch.randn((n_features,1),requires_grad=True)\n",
    "b = torch.tensor(0., requires_grad=True)"
   ]
  },
  {
   "cell_type": "code",
   "execution_count": 55,
   "id": "88ee6e7e-d6d0-4de0-8085-ae3bff0d2aaa",
   "metadata": {},
   "outputs": [
    {
     "data": {
      "text/plain": [
       "tensor([[ 0.3367],\n",
       "        [ 0.1288],\n",
       "        [ 0.2345],\n",
       "        [ 0.2303],\n",
       "        [-1.1229],\n",
       "        [-0.1863],\n",
       "        [ 2.2082],\n",
       "        [-0.6380]], requires_grad=True)"
      ]
     },
     "execution_count": 55,
     "metadata": {},
     "output_type": "execute_result"
    }
   ],
   "source": [
    "w"
   ]
  },
  {
   "cell_type": "code",
   "execution_count": 56,
   "id": "b7efbc0d-6b71-4bbc-ae0d-921078e689df",
   "metadata": {},
   "outputs": [
    {
     "data": {
      "text/plain": [
       "tensor(0., requires_grad=True)"
      ]
     },
     "execution_count": 56,
     "metadata": {},
     "output_type": "execute_result"
    }
   ],
   "source": [
    "b"
   ]
  },
  {
   "cell_type": "code",
   "execution_count": 57,
   "id": "0714d11b-8d7b-4782-865c-f3ef6238aa0a",
   "metadata": {},
   "outputs": [
    {
     "name": "stdout",
     "output_type": "stream",
     "text": [
      "Epoch:1/20, Loss : 16.158458709716797\n",
      "Epoch:2/20, Loss : 4.87937593460083\n",
      "Epoch:3/20, Loss : 2.255227565765381\n",
      "Epoch:4/20, Loss : 1.330764651298523\n",
      "Epoch:5/20, Loss : 0.9680710434913635\n",
      "Epoch:6/20, Loss : 0.8142688870429993\n",
      "Epoch:7/20, Loss : 0.7417054176330566\n",
      "Epoch:8/20, Loss : 0.702070951461792\n",
      "Epoch:9/20, Loss : 0.6765925288200378\n",
      "Epoch:10/20, Loss : 0.65779709815979\n",
      "Epoch:11/20, Loss : 0.6426157355308533\n",
      "Epoch:12/20, Loss : 0.6297228336334229\n",
      "Epoch:13/20, Loss : 0.6184946298599243\n",
      "Epoch:14/20, Loss : 0.6085972189903259\n",
      "Epoch:15/20, Loss : 0.5998220443725586\n",
      "Epoch:16/20, Loss : 0.5920190215110779\n",
      "Epoch:17/20, Loss : 0.5850694179534912\n",
      "Epoch:18/20, Loss : 0.5788736343383789\n",
      "Epoch:19/20, Loss : 0.5733456015586853\n",
      "Epoch:20/20, Loss : 0.5684102773666382\n"
     ]
    }
   ],
   "source": [
    "learning_rate = 0.4\n",
    "n_epochs = 20\n",
    "for epoch in range(n_epochs):\n",
    "    y_pred = X_train @ w + b\n",
    "    loss = ((y_pred-y_train)**2).mean()\n",
    "    loss.backward()\n",
    "    with torch.no_grad():\n",
    "        b -= learning_rate * b.grad\n",
    "        w -= learning_rate * w.grad\n",
    "        b.grad.zero_()\n",
    "        w.grad.zero_()\n",
    "    print(f\"Epoch:{epoch+1}/{n_epochs}, Loss : {loss.item()}\")\n",
    "        "
   ]
  },
  {
   "cell_type": "code",
   "execution_count": 58,
   "id": "85c0ea08-ed99-4977-839e-4c2bf1db6830",
   "metadata": {},
   "outputs": [
    {
     "data": {
      "text/plain": [
       "tensor([[0.4770],\n",
       "        [0.4580],\n",
       "        [5.0000]])"
      ]
     },
     "execution_count": 58,
     "metadata": {},
     "output_type": "execute_result"
    }
   ],
   "source": [
    "y_test[:3]"
   ]
  },
  {
   "cell_type": "code",
   "execution_count": 59,
   "id": "9c668906-a5f0-4575-a125-681f696b7b93",
   "metadata": {},
   "outputs": [],
   "source": [
    "X_new = X_test[:3]\n",
    "with torch.no_grad():\n",
    "    y_pred = X_new @ w + b"
   ]
  },
  {
   "cell_type": "code",
   "execution_count": 60,
   "id": "b7a6fccb-3627-4678-a967-938c39f7508a",
   "metadata": {},
   "outputs": [
    {
     "data": {
      "text/plain": [
       "tensor([[0.8916],\n",
       "        [1.6480],\n",
       "        [2.6577]])"
      ]
     },
     "execution_count": 60,
     "metadata": {},
     "output_type": "execute_result"
    }
   ],
   "source": [
    "y_pred"
   ]
  },
  {
   "cell_type": "markdown",
   "id": "bd6e0c7c-1336-429b-8fec-83167439fe95",
   "metadata": {},
   "source": [
    "## Linear Regression Using PyTorch's high level API"
   ]
  },
  {
   "cell_type": "code",
   "execution_count": 62,
   "id": "668edc4f-7233-485e-bbeb-4d64d333ee11",
   "metadata": {},
   "outputs": [],
   "source": [
    "import torch.nn as nn\n",
    "\n",
    "torch.manual_seed(42)\n",
    "model = nn.Linear(in_features=n_features, out_features=1)"
   ]
  },
  {
   "cell_type": "code",
   "execution_count": 63,
   "id": "43d59c20-ce1b-43f3-83d1-314578bf1067",
   "metadata": {},
   "outputs": [
    {
     "data": {
      "text/plain": [
       "Parameter containing:\n",
       "tensor([0.3117], requires_grad=True)"
      ]
     },
     "execution_count": 63,
     "metadata": {},
     "output_type": "execute_result"
    }
   ],
   "source": [
    "model.bias"
   ]
  },
  {
   "cell_type": "code",
   "execution_count": 64,
   "id": "092ef869-a42d-4930-be01-74951d6e823d",
   "metadata": {},
   "outputs": [
    {
     "data": {
      "text/plain": [
       "Parameter containing:\n",
       "tensor([[ 0.2703,  0.2935, -0.0828,  0.3248, -0.0775,  0.0713, -0.1721,  0.2076]],\n",
       "       requires_grad=True)"
      ]
     },
     "execution_count": 64,
     "metadata": {},
     "output_type": "execute_result"
    }
   ],
   "source": [
    "model.weight"
   ]
  },
  {
   "cell_type": "code",
   "execution_count": 65,
   "id": "17f45477-f64f-4880-ba39-2c761ca2bd89",
   "metadata": {},
   "outputs": [
    {
     "data": {
      "text/plain": [
       "tensor([0.3117])"
      ]
     },
     "execution_count": 65,
     "metadata": {},
     "output_type": "execute_result"
    }
   ],
   "source": [
    "torch.manual_seed(42)\n",
    "r = 2 ** -1.5\n",
    "w = torch.empty(n_features,1).uniform_(-r,r)\n",
    "b = torch.empty(1).uniform_(-r,r)\n",
    "b"
   ]
  },
  {
   "cell_type": "code",
   "execution_count": 66,
   "id": "3063de80-accc-4c9c-bae8-51f94ac4cb44",
   "metadata": {},
   "outputs": [
    {
     "data": {
      "text/plain": [
       "tensor([[ 0.2703],\n",
       "        [ 0.2935],\n",
       "        [-0.0828],\n",
       "        [ 0.3248],\n",
       "        [-0.0775],\n",
       "        [ 0.0713],\n",
       "        [-0.1721],\n",
       "        [ 0.2076]])"
      ]
     },
     "execution_count": 66,
     "metadata": {},
     "output_type": "execute_result"
    }
   ],
   "source": [
    "w"
   ]
  },
  {
   "cell_type": "code",
   "execution_count": 67,
   "id": "d42c8401-6714-4f82-989b-34fead32e00e",
   "metadata": {},
   "outputs": [
    {
     "data": {
      "text/plain": [
       "tensor([[1.4420],\n",
       "        [1.6870]])"
      ]
     },
     "execution_count": 67,
     "metadata": {},
     "output_type": "execute_result"
    }
   ],
   "source": [
    "y_train[:2]"
   ]
  },
  {
   "cell_type": "code",
   "execution_count": 68,
   "id": "a807a22b-5f14-44e4-addd-1ad1db6ea8fa",
   "metadata": {},
   "outputs": [
    {
     "data": {
      "text/plain": [
       "tensor([[-0.4718],\n",
       "        [ 0.1131]], grad_fn=<AddmmBackward0>)"
      ]
     },
     "execution_count": 68,
     "metadata": {},
     "output_type": "execute_result"
    }
   ],
   "source": [
    "model(X_train[:2])"
   ]
  },
  {
   "cell_type": "code",
   "execution_count": 69,
   "id": "5e0926fc-658b-4a7c-af3f-b27f71da030e",
   "metadata": {},
   "outputs": [],
   "source": [
    "optimizer = torch.optim.SGD(model.parameters(),lr=learning_rate)\n",
    "mse = nn.MSELoss()"
   ]
  },
  {
   "cell_type": "code",
   "execution_count": 70,
   "id": "e14f018c-a0ac-4029-a262-f4722122be1e",
   "metadata": {},
   "outputs": [],
   "source": [
    "def train_bgd(model, optimizer, criterion, X_train, y_train, n_epochs):\n",
    "    for epoch in range(n_epochs):\n",
    "        y_pred = model(X_train)\n",
    "        loss = criterion(y_pred, y_train)\n",
    "        loss.backward()\n",
    "        optimizer.step()\n",
    "        optimizer.zero_grad()\n",
    "        print(f\"Epoch :{epoch+1}/{n_epochs} , Loss:{loss.item()}\")"
   ]
  },
  {
   "cell_type": "code",
   "execution_count": 71,
   "id": "9bf97e04-9a03-4825-882d-b175f7c1a40f",
   "metadata": {},
   "outputs": [
    {
     "name": "stdout",
     "output_type": "stream",
     "text": [
      "Epoch :1/20 , Loss:4.3378496170043945\n",
      "Epoch :2/20 , Loss:0.7802932262420654\n",
      "Epoch :3/20 , Loss:0.6253839731216431\n",
      "Epoch :4/20 , Loss:0.6060433983802795\n",
      "Epoch :5/20 , Loss:0.595629870891571\n",
      "Epoch :6/20 , Loss:0.5873565673828125\n",
      "Epoch :7/20 , Loss:0.5802989602088928\n",
      "Epoch :8/20 , Loss:0.5741382241249084\n",
      "Epoch :9/20 , Loss:0.5687100291252136\n",
      "Epoch :10/20 , Loss:0.5639079213142395\n",
      "Epoch :11/20 , Loss:0.5596510767936707\n",
      "Epoch :12/20 , Loss:0.5558737516403198\n",
      "Epoch :13/20 , Loss:0.5525193810462952\n",
      "Epoch :14/20 , Loss:0.5495391488075256\n",
      "Epoch :15/20 , Loss:0.5468899011611938\n",
      "Epoch :16/20 , Loss:0.544533908367157\n",
      "Epoch :17/20 , Loss:0.5424376726150513\n",
      "Epoch :18/20 , Loss:0.5405715703964233\n",
      "Epoch :19/20 , Loss:0.5389097332954407\n",
      "Epoch :20/20 , Loss:0.5374287962913513\n"
     ]
    }
   ],
   "source": [
    "train_bgd(model, optimizer, mse,X_train, y_train, n_epochs)"
   ]
  },
  {
   "cell_type": "code",
   "execution_count": 72,
   "id": "d8d46f07-277c-4f76-b174-f216beec9674",
   "metadata": {},
   "outputs": [
    {
     "data": {
      "text/plain": [
       "tensor([[0.8061],\n",
       "        [1.7116],\n",
       "        [2.6973]])"
      ]
     },
     "execution_count": 72,
     "metadata": {},
     "output_type": "execute_result"
    }
   ],
   "source": [
    "X_new = X_test[:3]\n",
    "with torch.no_grad():\n",
    "    y_pred = model(X_new)\n",
    "y_pred"
   ]
  },
  {
   "cell_type": "code",
   "execution_count": 73,
   "id": "a99b356d-cb40-4cf9-b7d2-37d86a88d2d3",
   "metadata": {},
   "outputs": [
    {
     "data": {
      "text/plain": [
       "tensor([0.3117], requires_grad=True)"
      ]
     },
     "execution_count": 73,
     "metadata": {},
     "output_type": "execute_result"
    }
   ],
   "source": [
    "w.requires_grad_(True)\n",
    "b.requires_grad_(True)"
   ]
  },
  {
   "cell_type": "code",
   "execution_count": 74,
   "id": "9d29e122-f615-47b6-ab8d-069fbd7e6068",
   "metadata": {},
   "outputs": [
    {
     "name": "stdout",
     "output_type": "stream",
     "text": [
      "Epoch :1/20 , Loss:4.3378496170043945\n",
      "Epoch :2/20 , Loss:0.7802932262420654\n",
      "Epoch :3/20 , Loss:0.6253840327262878\n",
      "Epoch :4/20 , Loss:0.6060433983802795\n",
      "Epoch :5/20 , Loss:0.595629870891571\n",
      "Epoch :6/20 , Loss:0.5873565673828125\n",
      "Epoch :7/20 , Loss:0.5802989602088928\n",
      "Epoch :8/20 , Loss:0.5741382241249084\n",
      "Epoch :9/20 , Loss:0.5687100291252136\n",
      "Epoch :10/20 , Loss:0.5639079213142395\n",
      "Epoch :11/20 , Loss:0.5596510767936707\n",
      "Epoch :12/20 , Loss:0.5558737516403198\n",
      "Epoch :13/20 , Loss:0.5525193810462952\n",
      "Epoch :14/20 , Loss:0.5495391488075256\n",
      "Epoch :15/20 , Loss:0.5468899011611938\n",
      "Epoch :16/20 , Loss:0.544533908367157\n",
      "Epoch :17/20 , Loss:0.5424376726150513\n",
      "Epoch :18/20 , Loss:0.5405715703964233\n",
      "Epoch :19/20 , Loss:0.5389097332954407\n",
      "Epoch :20/20 , Loss:0.5374287962913513\n"
     ]
    }
   ],
   "source": [
    "for epoch in range(n_epochs):\n",
    "    y_pred = X_train @ w + b\n",
    "    loss = ((y_pred-y_train)**2).mean()\n",
    "    loss.backward()\n",
    "    with torch.no_grad():\n",
    "        b -= learning_rate * b.grad\n",
    "        w -= learning_rate * w.grad\n",
    "        b.grad.zero_()\n",
    "        w.grad.zero_()\n",
    "    print(f\"Epoch :{epoch+1}/{n_epochs} , Loss:{loss.item()}\")"
   ]
  },
  {
   "cell_type": "code",
   "execution_count": 75,
   "id": "decc116c-0ac5-4b1f-8b23-0ed0ad5c2335",
   "metadata": {},
   "outputs": [
    {
     "data": {
      "text/plain": [
       "tensor([[0.8061],\n",
       "        [1.7116],\n",
       "        [2.6973]])"
      ]
     },
     "execution_count": 75,
     "metadata": {},
     "output_type": "execute_result"
    }
   ],
   "source": [
    "X_new = X_test[:3]\n",
    "with torch.no_grad():\n",
    "    y_pred = model(X_new)\n",
    "y_pred"
   ]
  },
  {
   "cell_type": "markdown",
   "id": "b733c5cd-4892-4e2f-a3d6-80c9100d959f",
   "metadata": {},
   "source": [
    "## Implementing a Regression MLP"
   ]
  },
  {
   "cell_type": "code",
   "execution_count": 77,
   "id": "1555461f-5ee7-4070-9a15-8b95dff8d455",
   "metadata": {},
   "outputs": [],
   "source": [
    "torch.manual_seed(42)\n",
    "\n",
    "model = nn.Sequential(\n",
    "    nn.Linear(n_features,50),\n",
    "    nn.ReLU(),\n",
    "    nn.Linear(50,40),\n",
    "    nn.ReLU(),\n",
    "    nn.Linear(40,1)\n",
    ")"
   ]
  },
  {
   "cell_type": "code",
   "execution_count": 78,
   "id": "24284aa5-19cb-432c-90c1-5da3a604eca8",
   "metadata": {},
   "outputs": [
    {
     "name": "stdout",
     "output_type": "stream",
     "text": [
      "Epoch :1/20 , Loss:5.045480251312256\n",
      "Epoch :2/20 , Loss:2.0523128509521484\n",
      "Epoch :3/20 , Loss:1.0039883852005005\n",
      "Epoch :4/20 , Loss:0.8570139408111572\n",
      "Epoch :5/20 , Loss:0.7740675210952759\n",
      "Epoch :6/20 , Loss:0.7225848436355591\n",
      "Epoch :7/20 , Loss:0.6893725991249084\n",
      "Epoch :8/20 , Loss:0.6669032573699951\n",
      "Epoch :9/20 , Loss:0.650773823261261\n",
      "Epoch :10/20 , Loss:0.6383934020996094\n",
      "Epoch :11/20 , Loss:0.6281994581222534\n",
      "Epoch :12/20 , Loss:0.6193398833274841\n",
      "Epoch :13/20 , Loss:0.6113172769546509\n",
      "Epoch :14/20 , Loss:0.6038705110549927\n",
      "Epoch :15/20 , Loss:0.5968307852745056\n",
      "Epoch :16/20 , Loss:0.5901119112968445\n",
      "Epoch :17/20 , Loss:0.583646833896637\n",
      "Epoch :18/20 , Loss:0.5774063467979431\n",
      "Epoch :19/20 , Loss:0.5713555216789246\n",
      "Epoch :20/20 , Loss:0.565444827079773\n"
     ]
    }
   ],
   "source": [
    "learning_rate = 0.1\n",
    "optimizer = torch.optim.SGD(model.parameters(), lr=learning_rate )\n",
    "mse = nn.MSELoss()\n",
    "train_bgd(model, optimizer, mse, X_train, y_train, n_epochs)"
   ]
  },
  {
   "cell_type": "markdown",
   "id": "c84092b7-a4fb-4129-b6f6-df188a33f309",
   "metadata": {},
   "source": [
    "## Implementing  Mini-Batch Gradent Descent using DataLoaders "
   ]
  },
  {
   "cell_type": "code",
   "execution_count": 80,
   "id": "022e45aa-ea98-41ac-92b2-c991a0b4dcde",
   "metadata": {},
   "outputs": [
    {
     "data": {
      "text/plain": [
       "(tensor([[-0.1940, -1.0778, -0.9433,  0.0149,  0.0207, -0.5729,  0.9292, -1.4221],\n",
       "         [ 0.7520, -1.8688,  0.4055, -0.2333,  1.8614,  0.2052, -0.9165,  1.0966]]),\n",
       " tensor([[1.4420],\n",
       "         [1.6870]]))"
      ]
     },
     "execution_count": 80,
     "metadata": {},
     "output_type": "execute_result"
    }
   ],
   "source": [
    "from torch.utils.data import TensorDataset, DataLoader\n",
    "\n",
    "train_dataset = TensorDataset(X_train,y_train)\n",
    "train_dataset[:2]"
   ]
  },
  {
   "cell_type": "code",
   "execution_count": 81,
   "id": "fa1162e8-62a7-4d26-bf2a-2484d7bf328e",
   "metadata": {},
   "outputs": [],
   "source": [
    "train_loader = DataLoader(train_dataset, batch_size=32, shuffle=True)"
   ]
  },
  {
   "cell_type": "code",
   "execution_count": 82,
   "id": "0104769c-f33c-421b-9fca-1d16086d4797",
   "metadata": {},
   "outputs": [],
   "source": [
    "torch.manual_seed(42)\n",
    "model = nn.Sequential(\n",
    "    nn.Linear(n_features, 50), nn.ReLU(),\n",
    "    nn.Linear(50, 40), nn.ReLU(),\n",
    "    nn.Linear(40, 1)\n",
    ")\n",
    "\n",
    "model = model.to(device)\n",
    "\n",
    "learning_rate = 0.02\n",
    "optimizer = torch.optim.SGD(model.parameters(), lr=learning_rate, momentum=0)\n",
    "mse = nn.MSELoss()"
   ]
  },
  {
   "cell_type": "code",
   "execution_count": 83,
   "id": "3326d2fc-1758-40ab-a4ed-4c34b9b2dc04",
   "metadata": {},
   "outputs": [],
   "source": [
    "def train(model, optimizer, criterion, train_loader, n_epochs):\n",
    "    model.train()\n",
    "    for epoch in range(n_epochs):\n",
    "        total_loss = 0\n",
    "        for X_batch, y_batch in train_loader:\n",
    "            X_batch, y_batch = X_batch.to(device), y_batch.to(device)\n",
    "            y_pred = model(X_batch)\n",
    "            loss = criterion(y_pred,y_batch)\n",
    "            total_loss += loss.item()\n",
    "            loss.backward()\n",
    "            optimizer.step()\n",
    "            optimizer.zero_grad()\n",
    "        mean_loss = total_loss / len(train_loader)\n",
    "        print(f\"Epoch:{epoch+1}/{n_epochs}, Loss = {mean_loss:4f}\")"
   ]
  },
  {
   "cell_type": "code",
   "execution_count": 84,
   "id": "073840e8-252f-4501-805c-f689661834fa",
   "metadata": {},
   "outputs": [
    {
     "name": "stdout",
     "output_type": "stream",
     "text": [
      "Epoch:1/20, Loss = 0.590008\n",
      "Epoch:2/20, Loss = 0.404553\n",
      "Epoch:3/20, Loss = 0.380120\n",
      "Epoch:4/20, Loss = 0.362948\n",
      "Epoch:5/20, Loss = 0.352948\n",
      "Epoch:6/20, Loss = 0.351950\n",
      "Epoch:7/20, Loss = 0.340769\n",
      "Epoch:8/20, Loss = 0.342698\n",
      "Epoch:9/20, Loss = 0.340633\n",
      "Epoch:10/20, Loss = 0.337769\n",
      "Epoch:11/20, Loss = 0.330365\n",
      "Epoch:12/20, Loss = 0.326692\n",
      "Epoch:13/20, Loss = 0.324370\n",
      "Epoch:14/20, Loss = 0.322085\n",
      "Epoch:15/20, Loss = 0.318611\n",
      "Epoch:16/20, Loss = 0.314856\n",
      "Epoch:17/20, Loss = 0.312267\n",
      "Epoch:18/20, Loss = 0.311070\n",
      "Epoch:19/20, Loss = 0.308848\n",
      "Epoch:20/20, Loss = 0.307199\n"
     ]
    }
   ],
   "source": [
    "train(model, optimizer, mse, train_loader, n_epochs)"
   ]
  },
  {
   "cell_type": "markdown",
   "id": "24c06855-9177-4dec-b284-d57e0669642e",
   "metadata": {},
   "source": [
    "## Model Evaluation"
   ]
  },
  {
   "cell_type": "code",
   "execution_count": 86,
   "id": "278be642-48bb-4c43-a40f-b38ac5c143ad",
   "metadata": {},
   "outputs": [],
   "source": [
    "def evaluate(model, data_loader, metric_fn, aggregate_fn=torch.mean):\n",
    "    model.eval()\n",
    "    metrics = []\n",
    "    with torch.no_grad():\n",
    "        for X_batch, y_batch in data_loader:\n",
    "            X_batch = X_batch.to(device)\n",
    "            y_batch = y_batch.to(device)\n",
    "            y_pred = model(X_batch)\n",
    "            metric= metric_fn(y_pred,y_batch)\n",
    "            metrics.append(metric)\n",
    "    return aggregate_fn(torch.stack(metrics))       "
   ]
  },
  {
   "cell_type": "code",
   "execution_count": 87,
   "id": "c872e05d-acda-4593-92b7-9dc6d4d721d7",
   "metadata": {},
   "outputs": [],
   "source": [
    "valid_dataset = TensorDataset(X_valid, y_valid)\n",
    "valid_loader = DataLoader(valid_dataset, batch_size=32, shuffle=True)"
   ]
  },
  {
   "cell_type": "code",
   "execution_count": 88,
   "id": "c5734ada-c3d7-4620-8056-d56c18818339",
   "metadata": {},
   "outputs": [
    {
     "data": {
      "text/plain": [
       "tensor(0.4081, device='mps:0')"
      ]
     },
     "execution_count": 88,
     "metadata": {},
     "output_type": "execute_result"
    }
   ],
   "source": [
    "valid_mse = evaluate(model, valid_loader, mse)\n",
    "valid_mse"
   ]
  },
  {
   "cell_type": "code",
   "execution_count": 89,
   "id": "a14442a6-8f69-4790-8976-6390ba3fe476",
   "metadata": {},
   "outputs": [
    {
     "data": {
      "text/plain": [
       "tensor(0.5681, device='mps:0')"
      ]
     },
     "execution_count": 89,
     "metadata": {},
     "output_type": "execute_result"
    }
   ],
   "source": [
    "def rmse(y_pred,y_true):\n",
    "    return ((y_pred - y_true)**2).mean().sqrt()  \n",
    "evaluate(model, valid_loader, rmse)"
   ]
  },
  {
   "cell_type": "code",
   "execution_count": 90,
   "id": "ee1ddafe-ed44-415d-a599-c36b6093edb4",
   "metadata": {},
   "outputs": [
    {
     "data": {
      "text/plain": [
       "tensor(0.6388, device='mps:0')"
      ]
     },
     "execution_count": 90,
     "metadata": {},
     "output_type": "execute_result"
    }
   ],
   "source": [
    "valid_mse.sqrt()"
   ]
  },
  {
   "cell_type": "code",
   "execution_count": 91,
   "id": "3dd705c1-c384-43f1-a130-69120b86a9db",
   "metadata": {},
   "outputs": [
    {
     "data": {
      "text/plain": [
       "tensor(0.6388, device='mps:0')"
      ]
     },
     "execution_count": 91,
     "metadata": {},
     "output_type": "execute_result"
    }
   ],
   "source": [
    "evaluate(model, valid_loader, mse, aggregate_fn= lambda metrics:torch.sqrt(torch.mean(metrics)))"
   ]
  },
  {
   "cell_type": "code",
   "execution_count": 92,
   "id": "0ebef7cd-087a-489a-89b9-3a1941e4bdb9",
   "metadata": {},
   "outputs": [],
   "source": [
    "import torchmetrics\n",
    "\n",
    "def evaluate_tm(model, data_loader, metric):\n",
    "    model.eval()\n",
    "    metric.reset()\n",
    "    with torch.no_grad():\n",
    "        for X_batch, y_batch in data_loader:\n",
    "            X_batch, y_batch = X_batch.to(device), y_batch.to(device)\n",
    "            y_pred = model(X_batch)\n",
    "            metric.update(y_pred, y_batch)\n",
    "    return metric.compute()"
   ]
  },
  {
   "cell_type": "code",
   "execution_count": 93,
   "id": "7079dc9d-36ba-460c-881d-19f96da5d679",
   "metadata": {},
   "outputs": [
    {
     "data": {
      "text/plain": [
       "tensor(0.6388, device='mps:0')"
      ]
     },
     "execution_count": 93,
     "metadata": {},
     "output_type": "execute_result"
    }
   ],
   "source": [
    "rmse = torchmetrics.MeanSquaredError(squared=False).to(device)\n",
    "evaluate_tm(model, valid_loader, rmse)"
   ]
  },
  {
   "cell_type": "code",
   "execution_count": 94,
   "id": "55a35b6b-545f-49da-aa3f-0b13b707e37b",
   "metadata": {},
   "outputs": [
    {
     "name": "stdout",
     "output_type": "stream",
     "text": [
      "Epoch:1/20, Train Loss: 0.6958, Train Metric: 0.8342, Valid Metric: 0.8206\n",
      "Epoch:2/20, Train Loss: 0.4497, Train Metric: 0.6706, Valid Metric: 0.6736\n",
      "Epoch:3/20, Train Loss: 0.4012, Train Metric: 0.6334, Valid Metric: 0.6520\n",
      "Epoch:4/20, Train Loss: 0.3834, Train Metric: 0.6192, Valid Metric: 0.6553\n",
      "Epoch:5/20, Train Loss: 0.3733, Train Metric: 0.6109, Valid Metric: 0.6680\n",
      "Epoch:6/20, Train Loss: 0.3649, Train Metric: 0.6042, Valid Metric: 0.5886\n",
      "Epoch:7/20, Train Loss: 0.3579, Train Metric: 0.5983, Valid Metric: 0.6203\n",
      "Epoch:8/20, Train Loss: 0.3536, Train Metric: 0.5947, Valid Metric: 0.5870\n",
      "Epoch:9/20, Train Loss: 0.3480, Train Metric: 0.5900, Valid Metric: 0.5896\n",
      "Epoch:10/20, Train Loss: 0.3450, Train Metric: 0.5874, Valid Metric: 0.6645\n",
      "Epoch:11/20, Train Loss: 0.3417, Train Metric: 0.5846, Valid Metric: 0.5914\n",
      "Epoch:12/20, Train Loss: 0.3385, Train Metric: 0.5818, Valid Metric: 0.6089\n",
      "Epoch:13/20, Train Loss: 0.3356, Train Metric: 0.5793, Valid Metric: 0.5640\n",
      "Epoch:14/20, Train Loss: 0.3320, Train Metric: 0.5763, Valid Metric: 0.6932\n",
      "Epoch:15/20, Train Loss: 0.3338, Train Metric: 0.5777, Valid Metric: 1.1016\n",
      "Epoch:16/20, Train Loss: 0.3376, Train Metric: 0.5810, Valid Metric: 0.8269\n",
      "Epoch:17/20, Train Loss: 0.3310, Train Metric: 0.5752, Valid Metric: 0.6628\n",
      "Epoch:18/20, Train Loss: 0.3257, Train Metric: 0.5707, Valid Metric: 0.6502\n",
      "Epoch:19/20, Train Loss: 0.3230, Train Metric: 0.5684, Valid Metric: 0.5902\n",
      "Epoch:20/20, Train Loss: 0.3205, Train Metric: 0.5661, Valid Metric: 0.5717\n"
     ]
    }
   ],
   "source": [
    "def train2(model, optimizer, criterion, metric, train_loader, valid_loader,n_epochs):\n",
    "    history = {\"train_losses\":[],\"train_metrics\":[],\"valid_metrics\":[]}\n",
    "    for epoch in range(n_epochs):\n",
    "        total_loss = 0\n",
    "        metric.reset()\n",
    "        for X_batch, y_batch in train_loader:\n",
    "            model.train()\n",
    "            X_batch, y_batch = X_batch.to(device), y_batch.to(device)\n",
    "            y_pred = model(X_batch)\n",
    "            loss = criterion(y_pred, y_batch)\n",
    "            total_loss += loss.item()\n",
    "            loss.backward()\n",
    "            optimizer.step()\n",
    "            optimizer.zero_grad()\n",
    "            metric.update(y_pred, y_batch)\n",
    "        mean_loss = total_loss / len(train_loader)\n",
    "        history[\"train_losses\"].append(mean_loss)\n",
    "        history[\"train_metrics\"].append(metric.compute().item())\n",
    "        history[\"valid_metrics\"].append(evaluate_tm(model, valid_loader, metric).item())\n",
    "        print(f\"Epoch:{epoch+1}/{n_epochs}, \"\n",
    "             f\"Train Loss: {history['train_losses'][-1]:.4f}, \"\n",
    "             f\"Train Metric: {history['train_metrics'][-1]:.4f}, \"\n",
    "             f\"Valid Metric: {history['valid_metrics'][-1]:.4f}\")\n",
    "    return history\n",
    "\n",
    "torch.manual_seed(42)\n",
    "model = nn.Sequential(\n",
    "    nn.Linear(n_features, 50), nn.ReLU(),\n",
    "    nn.Linear(50, 40), nn.ReLU(),\n",
    "    nn.Linear(40, 1)\n",
    ")\n",
    "model.to(device)\n",
    "learning_rate = 0.01\n",
    "optimizer = torch.optim.SGD(model.parameters(), lr=learning_rate, momentum=0)\n",
    "mse = nn.MSELoss()\n",
    "rmse = torchmetrics.MeanSquaredError(squared=False).to(device)\n",
    "\n",
    "history = train2(model, optimizer, mse, rmse, train_loader, valid_loader, n_epochs)"
   ]
  },
  {
   "cell_type": "code",
   "execution_count": 95,
   "id": "5ef73421-9060-49fb-98b5-29f2b8b89849",
   "metadata": {},
   "outputs": [
    {
     "data": {
      "image/png": "[encoded data removed]",
      "text/plain": [
       "<Figure size 500x300 with 1 Axes>"
      ]
     },
     "metadata": {},
     "output_type": "display_data"
    }
   ],
   "source": [
    "import matplotlib.pyplot as plt\n",
    "\n",
    "plt.figure(figsize=[5,3])\n",
    "plt.plot(np.arange(n_epochs)+0.5,history[\"train_metrics\"],\".-\",label=\"Training\")\n",
    "plt.plot(np.arange(n_epochs)+1.0,history[\"valid_metrics\"],\".-\",label=\"Validation\")\n",
    "plt.legend()\n",
    "plt.grid()\n",
    "plt.xlabel(\"Epoch\")\n",
    "plt.ylabel(\"RMSE\")\n",
    "plt.title(\"Learning curves\")\n",
    "plt.axis([0.5, 20, 0.4, 1.0])\n",
    "plt.show()"
   ]
  },
  {
   "cell_type": "markdown",
   "id": "4acccc17-5fcf-408c-8fc4-fbf36a2b7a75",
   "metadata": {},
   "source": [
    "## Non Sequential Models"
   ]
  },
  {
   "cell_type": "code",
   "execution_count": 97,
   "id": "4f249c77-1548-429a-96da-a9f13203dbf2",
   "metadata": {},
   "outputs": [],
   "source": [
    "class WideAndDeep(nn.Module):\n",
    "    def __init__(self, n_features):\n",
    "        super().__init__()\n",
    "        self.deep_stack = nn.Sequential(\n",
    "            nn.Linear(n_features, 50), nn.ReLU(),\n",
    "            nn.Linear(50, 40), nn.ReLU(),\n",
    "            nn.Linear(40, 30), nn.ReLU()\n",
    "        )\n",
    "        self.output_layer = nn.Linear(30 + n_features, 1)\n",
    "    def forward(self, X):\n",
    "        deep_output = self.deep_stack(X)\n",
    "        wide_and_deep = torch.concat([X, deep_output], dim=1)\n",
    "        return self.output_layer(wide_and_deep)"
   ]
  },
  {
   "cell_type": "code",
   "execution_count": 98,
   "id": "d7080faa-5640-4e89-9883-9ef46b8950e0",
   "metadata": {},
   "outputs": [
    {
     "name": "stdout",
     "output_type": "stream",
     "text": [
      "Epoch:1/20, Train Loss: 1.7802, Train Metric: 1.3344, Valid Metric: 0.8690\n",
      "Epoch:2/20, Train Loss: 0.6249, Train Metric: 0.7904, Valid Metric: 0.7510\n",
      "Epoch:3/20, Train Loss: 0.5871, Train Metric: 0.7662, Valid Metric: 0.7700\n",
      "Epoch:4/20, Train Loss: 0.5588, Train Metric: 0.7474, Valid Metric: 0.9214\n",
      "Epoch:5/20, Train Loss: 0.5417, Train Metric: 0.7361, Valid Metric: 0.8350\n",
      "Epoch:6/20, Train Loss: 0.5265, Train Metric: 0.7256, Valid Metric: 0.8802\n",
      "Epoch:7/20, Train Loss: 0.5083, Train Metric: 0.7130, Valid Metric: 0.6872\n",
      "Epoch:8/20, Train Loss: 0.4904, Train Metric: 0.7003, Valid Metric: 0.8507\n",
      "Epoch:9/20, Train Loss: 0.4822, Train Metric: 0.6943, Valid Metric: 0.6894\n",
      "Epoch:10/20, Train Loss: 0.4681, Train Metric: 0.6843, Valid Metric: 0.7573\n",
      "Epoch:11/20, Train Loss: 0.4545, Train Metric: 0.6741, Valid Metric: 0.6933\n",
      "Epoch:12/20, Train Loss: 0.4447, Train Metric: 0.6670, Valid Metric: 0.6389\n",
      "Epoch:13/20, Train Loss: 0.4331, Train Metric: 0.6581, Valid Metric: 0.6537\n",
      "Epoch:14/20, Train Loss: 0.4239, Train Metric: 0.6511, Valid Metric: 0.6236\n",
      "Epoch:15/20, Train Loss: 0.4145, Train Metric: 0.6438, Valid Metric: 0.6200\n",
      "Epoch:16/20, Train Loss: 0.4073, Train Metric: 0.6381, Valid Metric: 0.6206\n",
      "Epoch:17/20, Train Loss: 0.3993, Train Metric: 0.6320, Valid Metric: 0.6231\n",
      "Epoch:18/20, Train Loss: 0.3939, Train Metric: 0.6276, Valid Metric: 0.6038\n",
      "Epoch:19/20, Train Loss: 0.3885, Train Metric: 0.6232, Valid Metric: 0.5980\n",
      "Epoch:20/20, Train Loss: 0.3836, Train Metric: 0.6193, Valid Metric: 0.6033\n"
     ]
    }
   ],
   "source": [
    "torch.manual_seed(42)\n",
    "model = WideAndDeep(n_features).to(device)\n",
    "learning_rate = 0.002\n",
    "\n",
    "optimizer = torch.optim.SGD(model.parameters(), lr=learning_rate, momentum=0)\n",
    "mse = nn.MSELoss()\n",
    "rmse = torchmetrics.MeanSquaredError(squared=False).to(device)\n",
    "history2 = train2(model, optimizer, mse, rmse, train_loader, valid_loader, n_epochs)"
   ]
  },
  {
   "cell_type": "code",
   "execution_count": 100,
   "id": "c5f07ad9-aae6-4d39-884e-8438d6912735",
   "metadata": {},
   "outputs": [
    {
     "data": {
      "image/png": "[encoded data removed]",
      "text/plain": [
       "<Figure size 500x300 with 1 Axes>"
      ]
     },
     "metadata": {},
     "output_type": "display_data"
    }
   ],
   "source": [
    "plt.figure(figsize=[5,3])\n",
    "plt.plot(np.arange(n_epochs)+0.5,history2[\"train_metrics\"],\".-\",label=\"Training\")\n",
    "plt.plot(np.arange(n_epochs)+1.0,history2[\"valid_metrics\"],\".-\",label=\"Validation\")\n",
    "plt.legend()\n",
    "plt.grid()\n",
    "plt.xlabel(\"Epoch\")\n",
    "plt.ylabel(\"RMSE\")\n",
    "plt.title(\"Learning curves\")\n",
    "plt.axis([0.5, 20, 0.4, 1.0])\n",
    "plt.show()"
   ]
  },
  {
   "cell_type": "code",
   "execution_count": 102,
   "id": "9d6a0559-711c-470f-9dc1-8f0a6006c763",
   "metadata": {},
   "outputs": [],
   "source": [
    "class WideAndDeepV2(nn.Module):\n",
    "    def __init__(self, n_features):\n",
    "        super().__init__()\n",
    "        self.deep_stack = nn.Sequential(\n",
    "            nn.Linear(n_features - 2, 50), nn.ReLU(),\n",
    "            nn.Linear(50, 40), nn.ReLU(),\n",
    "            nn.Linear(40, 30), nn.ReLU()\n",
    "        )\n",
    "        self.output = nn.Linear(30 + 5, 1)\n",
    "    def forward(self, X):\n",
    "        wide_X = X[:,:5]\n",
    "        deep_X = X[:,2:]\n",
    "        deep_output = self.deep_stack(deep_X)\n",
    "        wide_and_deep = torch.concat([wide_X, deep_output], dim=1)\n",
    "        return self.output(wide_and_deep)"
   ]
  },
  {
   "cell_type": "code",
   "execution_count": 104,
   "id": "63876891-3923-42a2-b861-bf8d54fbddee",
   "metadata": {},
   "outputs": [
    {
     "name": "stdout",
     "output_type": "stream",
     "text": [
      "Epoch:1/20, Train Loss: 1.8482, Train Metric: 1.3598, Valid Metric: 0.9100\n",
      "Epoch:2/20, Train Loss: 0.6281, Train Metric: 0.7925, Valid Metric: 0.8039\n",
      "Epoch:3/20, Train Loss: 0.5769, Train Metric: 0.7595, Valid Metric: 0.7621\n",
      "Epoch:4/20, Train Loss: 0.5415, Train Metric: 0.7360, Valid Metric: 0.7289\n",
      "Epoch:5/20, Train Loss: 0.5100, Train Metric: 0.7142, Valid Metric: 0.7025\n",
      "Epoch:6/20, Train Loss: 0.4844, Train Metric: 0.6960, Valid Metric: 0.6818\n",
      "Epoch:7/20, Train Loss: 0.4654, Train Metric: 0.6822, Valid Metric: 0.6681\n",
      "Epoch:8/20, Train Loss: 0.4527, Train Metric: 0.6728, Valid Metric: 0.6583\n",
      "Epoch:9/20, Train Loss: 0.4442, Train Metric: 0.6665, Valid Metric: 0.6533\n",
      "Epoch:10/20, Train Loss: 0.4375, Train Metric: 0.6614, Valid Metric: 0.6496\n",
      "Epoch:11/20, Train Loss: 0.4327, Train Metric: 0.6578, Valid Metric: 0.6486\n",
      "Epoch:12/20, Train Loss: 0.4283, Train Metric: 0.6545, Valid Metric: 0.6459\n",
      "Epoch:13/20, Train Loss: 0.4253, Train Metric: 0.6523, Valid Metric: 0.6450\n",
      "Epoch:14/20, Train Loss: 0.4217, Train Metric: 0.6494, Valid Metric: 0.6446\n",
      "Epoch:15/20, Train Loss: 0.4191, Train Metric: 0.6473, Valid Metric: 0.6458\n",
      "Epoch:16/20, Train Loss: 0.4176, Train Metric: 0.6462, Valid Metric: 0.6459\n",
      "Epoch:17/20, Train Loss: 0.4144, Train Metric: 0.6438, Valid Metric: 0.6485\n",
      "Epoch:18/20, Train Loss: 0.4118, Train Metric: 0.6417, Valid Metric: 0.6469\n",
      "Epoch:19/20, Train Loss: 0.4097, Train Metric: 0.6401, Valid Metric: 0.6466\n",
      "Epoch:20/20, Train Loss: 0.4081, Train Metric: 0.6389, Valid Metric: 0.6482\n"
     ]
    }
   ],
   "source": [
    "torch.manual_seed(42)\n",
    "model = WideAndDeepV2(n_features).to(device)\n",
    "\n",
    "learning_rate = 0.002\n",
    "optimizer = torch.optim.SGD(model.parameters(), lr=learning_rate, momentum=0)\n",
    "mse = nn.MSELoss()\n",
    "rmse = torchmetrics.MeanSquaredError(squared=False).to(device)\n",
    "\n",
    "history = train2(model, optimizer, mse, rmse, train_loader, valid_loader, n_epochs)"
   ]
  },
  {
   "cell_type": "markdown",
   "id": "dbd914e1-4a3d-4efe-9399-de273c609b78",
   "metadata": {},
   "source": [
    "## Models With Multiple Inputs"
   ]
  },
  {
   "cell_type": "code",
   "execution_count": 105,
   "id": "1942df5f-c2cc-4e70-91c4-71ae5efa77bb",
   "metadata": {},
   "outputs": [],
   "source": [
    "class WideAndDeepV3(nn.Module):\n",
    "    def __init__(self, n_features):\n",
    "        super().__init__()\n",
    "        self.deep_stack = nn.Sequential(\n",
    "            nn.Linear(n_features - 2, 50), nn.ReLU(),\n",
    "            nn.Linear(50, 40), nn.ReLU(),\n",
    "            nn.Linear(40, 30), nn.ReLU(),\n",
    "        )\n",
    "        self.output = nn.Linear(30 + 5, 1)\n",
    "        \n",
    "    def forward(self, X_wide, X_deep):\n",
    "        deep_output = self.deep_stack(X_deep)\n",
    "        wide_and_deep = torch.concat([X_wide, deep_output], dim=1)\n",
    "        return self.output(wide_and_deep)"
   ]
  },
  {
   "cell_type": "code",
   "execution_count": 106,
   "id": "57d836d2-8c08-447a-a520-c55190ceecff",
   "metadata": {},
   "outputs": [],
   "source": [
    "torch.manual_seed(42)\n",
    "train_data_wd = TensorDataset(X_train[:,:5], X_train[:,2:], y_train)\n",
    "train_loader = DataLoader(train_data_wd, batch_size=32, shuffle=True)\n",
    "valid_data_wd = TensorDataset(X_valid[:,:5], X_valid[:,2:], y_valid)\n",
    "valid_loader = DataLoader(valid_data_wd, batch_size=32, shuffle=True)"
   ]
  },
  {
   "cell_type": "code",
   "execution_count": 110,
   "id": "5ca16069-04c8-4c1e-93f0-452af5032321",
   "metadata": {},
   "outputs": [
    {
     "name": "stdout",
     "output_type": "stream",
     "text": [
      "Epoch:1/20, Train Loss: 0.8366, Train Metric: 0.9148, Valid Metric: 0.6892\n",
      "Epoch:2/20, Train Loss: 0.4657, Train Metric: 0.6825, Valid Metric: 0.6478\n",
      "Epoch:3/20, Train Loss: 0.4312, Train Metric: 0.6567, Valid Metric: 0.6474\n",
      "Epoch:4/20, Train Loss: 0.4215, Train Metric: 0.6494, Valid Metric: 0.6339\n",
      "Epoch:5/20, Train Loss: 0.4110, Train Metric: 0.6411, Valid Metric: 0.6388\n",
      "Epoch:6/20, Train Loss: 0.4043, Train Metric: 0.6359, Valid Metric: 0.6320\n",
      "Epoch:7/20, Train Loss: 0.4004, Train Metric: 0.6324, Valid Metric: 0.7613\n",
      "Epoch:8/20, Train Loss: 0.4021, Train Metric: 0.6341, Valid Metric: 0.6065\n",
      "Epoch:9/20, Train Loss: 0.3883, Train Metric: 0.6232, Valid Metric: 0.6023\n",
      "Epoch:10/20, Train Loss: 0.3797, Train Metric: 0.6161, Valid Metric: 0.6112\n",
      "Epoch:11/20, Train Loss: 0.3744, Train Metric: 0.6118, Valid Metric: 0.5965\n",
      "Epoch:12/20, Train Loss: 0.3714, Train Metric: 0.6095, Valid Metric: 0.5903\n",
      "Epoch:13/20, Train Loss: 0.3696, Train Metric: 0.6081, Valid Metric: 0.5807\n",
      "Epoch:14/20, Train Loss: 0.3602, Train Metric: 0.6001, Valid Metric: 0.5768\n",
      "Epoch:15/20, Train Loss: 0.3560, Train Metric: 0.5965, Valid Metric: 0.5851\n",
      "Epoch:16/20, Train Loss: 0.3625, Train Metric: 0.6021, Valid Metric: 0.5724\n",
      "Epoch:17/20, Train Loss: 0.3501, Train Metric: 0.5917, Valid Metric: 0.5729\n",
      "Epoch:18/20, Train Loss: 0.3446, Train Metric: 0.5871, Valid Metric: 0.5714\n",
      "Epoch:19/20, Train Loss: 0.3431, Train Metric: 0.5857, Valid Metric: 0.5700\n",
      "Epoch:20/20, Train Loss: 0.3395, Train Metric: 0.5828, Valid Metric: 0.5673\n"
     ]
    }
   ],
   "source": [
    "def evaluate_multi_in(model, data_loader, metric):\n",
    "    model.eval()\n",
    "    metric.reset()\n",
    "    with torch.no_grad():\n",
    "        for X_batch_wide, X_batch_deep, y_batch in data_loader:\n",
    "            X_batch_wide, X_batch_deep = X_batch_wide.to(device), X_batch_deep.to(device)\n",
    "            y_batch = y_batch.to(device)\n",
    "            y_pred = model(X_batch_wide, X_batch_deep)\n",
    "            metric.update(y_pred, y_batch)\n",
    "    return metric.compute()\n",
    "\n",
    "def train_multi_in(model, optimizer, criterion, metric, train_loader, valid_loader, n_epochs):\n",
    "    history = {\"train_losses\":[],\"train_metrics\":[],\"valid_metrics\":[]}\n",
    "    for epoch in range(n_epochs):\n",
    "        total_loss = 0\n",
    "        metric.reset()\n",
    "        for *X_batch_inputs, y_batch in train_loader:\n",
    "            model.train()\n",
    "            X_batch_inputs = [X.to(device) for X in X_batch_inputs]\n",
    "            y_batch = y_batch.to(device)\n",
    "            y_pred = model(*X_batch_inputs)\n",
    "            loss = criterion(y_pred, y_batch)\n",
    "            total_loss += loss\n",
    "            loss.backward()\n",
    "            optimizer.step()\n",
    "            optimizer.zero_grad()\n",
    "            metric.update(y_pred, y_batch)\n",
    "        mean_loss = total_loss / len(train_loader)\n",
    "        history[\"train_losses\"].append(mean_loss)\n",
    "        history[\"train_metrics\"].append(metric.compute().item())\n",
    "        history[\"valid_metrics\"].append(\n",
    "            evaluate_multi_in(model, valid_loader, metric).item()\n",
    "        )\n",
    "        print(f\"Epoch:{epoch+1}/{n_epochs}, \"\n",
    "             f\"Train Loss: {history['train_losses'][-1]:.4f}, \"\n",
    "             f\"Train Metric: {history['train_metrics'][-1]:.4f}, \"\n",
    "             f\"Valid Metric: {history['valid_metrics'][-1]:.4f}\")\n",
    "    return history\n",
    "\n",
    "torch.manual_seed(42)\n",
    "learning_rate = 0.01\n",
    "model = WideAndDeepV3(n_features).to(device)\n",
    "optimizer = torch.optim.SGD(model.parameters(), lr=learning_rate, momentum=0)\n",
    "mse = nn.MSELoss()\n",
    "rmse = torchmetrics.MeanSquaredError(squared=False).to(device)\n",
    "history = train_multi_in(model, optimizer, mse, rmse, train_loader, valid_loader, n_epochs)\n",
    "        "
   ]
  },
  {
   "cell_type": "code",
   "execution_count": 111,
   "id": "c90cf5d4-395c-4526-9e71-b844b077029d",
   "metadata": {},
   "outputs": [
    {
     "data": {
      "image/png": "[encoded data removed]",
      "text/plain": [
       "<Figure size 500x300 with 1 Axes>"
      ]
     },
     "metadata": {},
     "output_type": "display_data"
    }
   ],
   "source": [
    "plt.figure(figsize=[5,3])\n",
    "plt.plot(np.arange(n_epochs)+0.5,history[\"train_metrics\"],\".-\",label=\"Training\")\n",
    "plt.plot(np.arange(n_epochs)+1.0,history[\"valid_metrics\"],\".-\",label=\"Validation\")\n",
    "plt.legend()\n",
    "plt.grid()\n",
    "plt.xlabel(\"Epoch\")\n",
    "plt.ylabel(\"RMSE\")\n",
    "plt.title(\"Learning curves\")\n",
    "plt.axis([0.5, 20, 0.4, 1.0])\n",
    "plt.show()"
   ]
  },
  {
   "cell_type": "code",
   "execution_count": 112,
   "id": "3034ff9c-d049-413a-890d-a61fe8e78e7c",
   "metadata": {},
   "outputs": [],
   "source": [
    "class WideAndDeepDataset(torch.utils.data.Dataset):\n",
    "    def __init__(self, X_wide, X_deep, y):\n",
    "        self.X_wide = X_wide\n",
    "        self.X_deep = X_deep\n",
    "        self.y = y\n",
    "        \n",
    "    def __len__(self):\n",
    "        return len(self.y)\n",
    "        \n",
    "    def __getitem__(self, idx):\n",
    "        input_dict = {\"X_wide\":self.X_wide[idx],\"X_deep\":self.X_deep[idx]}\n",
    "        return input_dict, self.y[idx]"
   ]
  },
  {
   "cell_type": "code",
   "execution_count": 113,
   "id": "0efc223d-8deb-409d-b389-6c1be22f93d5",
   "metadata": {},
   "outputs": [],
   "source": [
    "torch.manual_seed(42)\n",
    "train_data_named = WideAndDeepDataset(\n",
    "    X_wide=X_train[:,:5], X_deep=X_train[:,2:], y=y_train)\n",
    "train_loader = DataLoader(train_data_named, batch_size=32, shuffle=True)\n",
    "valid_data_named = WideAndDeepDataset(\n",
    "    X_wide=X_valid[:,:5], X_deep=X_valid[:,2:], y=y_valid)\n",
    "valid_loader = DataLoader(valid_data_named, batch_size=32, shuffle=True)"
   ]
  },
  {
   "cell_type": "code",
   "execution_count": 114,
   "id": "a4bb3237-157c-4fde-af37-73b812a12e69",
   "metadata": {},
   "outputs": [
    {
     "name": "stdout",
     "output_type": "stream",
     "text": [
      "Epoch:1/20, Train Loss: 0.8366, Train Metric: 0.9148, Valid Metric: 0.6892\n",
      "Epoch:2/20, Train Loss: 0.4657, Train Metric: 0.6825, Valid Metric: 0.6478\n",
      "Epoch:3/20, Train Loss: 0.4312, Train Metric: 0.6567, Valid Metric: 0.6474\n",
      "Epoch:4/20, Train Loss: 0.4215, Train Metric: 0.6494, Valid Metric: 0.6339\n",
      "Epoch:5/20, Train Loss: 0.4110, Train Metric: 0.6411, Valid Metric: 0.6388\n",
      "Epoch:6/20, Train Loss: 0.4043, Train Metric: 0.6359, Valid Metric: 0.6320\n",
      "Epoch:7/20, Train Loss: 0.4004, Train Metric: 0.6324, Valid Metric: 0.7613\n",
      "Epoch:8/20, Train Loss: 0.4021, Train Metric: 0.6341, Valid Metric: 0.6065\n",
      "Epoch:9/20, Train Loss: 0.3883, Train Metric: 0.6232, Valid Metric: 0.6023\n",
      "Epoch:10/20, Train Loss: 0.3797, Train Metric: 0.6161, Valid Metric: 0.6112\n",
      "Epoch:11/20, Train Loss: 0.3744, Train Metric: 0.6118, Valid Metric: 0.5965\n",
      "Epoch:12/20, Train Loss: 0.3714, Train Metric: 0.6095, Valid Metric: 0.5903\n",
      "Epoch:13/20, Train Loss: 0.3696, Train Metric: 0.6081, Valid Metric: 0.5807\n",
      "Epoch:14/20, Train Loss: 0.3602, Train Metric: 0.6001, Valid Metric: 0.5768\n",
      "Epoch:15/20, Train Loss: 0.3560, Train Metric: 0.5965, Valid Metric: 0.5851\n",
      "Epoch:16/20, Train Loss: 0.3625, Train Metric: 0.6021, Valid Metric: 0.5724\n",
      "Epoch:17/20, Train Loss: 0.3501, Train Metric: 0.5917, Valid Metric: 0.5729\n",
      "Epoch:18/20, Train Loss: 0.3446, Train Metric: 0.5871, Valid Metric: 0.5714\n",
      "Epoch:19/20, Train Loss: 0.3431, Train Metric: 0.5857, Valid Metric: 0.5700\n",
      "Epoch:20/20, Train Loss: 0.3395, Train Metric: 0.5828, Valid Metric: 0.5673\n"
     ]
    }
   ],
   "source": [
    "def evaluate_named(model, data_loader, metric):\n",
    "    model.eval()\n",
    "    metric.reset()\n",
    "    with torch.no_grad():\n",
    "        for inputs, y_batch in data_loader:\n",
    "            inputs = {name:X.to(device) for name, X in inputs.items()}\n",
    "            y_batch = y_batch.to(device)\n",
    "            y_pred = model(**inputs)\n",
    "            metric.update(y_pred, y_batch)\n",
    "    return metric.compute()\n",
    "\n",
    "def train_named(model, optimizer, criterion, metric, train_loader, valid_loader, n_epochs):\n",
    "    history =  {\"train_losses\":[],\"train_metrics\":[],\"valid_metrics\":[]}\n",
    "    for epoch in range(n_epochs):\n",
    "        total_loss = 0\n",
    "        metric.reset()\n",
    "        for inputs, y_batch in train_loader:\n",
    "            model.train()\n",
    "            inputs = {name:X.to(device) for name, X in inputs.items()}\n",
    "            y_batch = y_batch.to(device)\n",
    "            y_pred = model(**inputs)\n",
    "            loss = criterion(y_pred, y_batch)\n",
    "            total_loss += loss.item()\n",
    "            loss.backward()\n",
    "            optimizer.step()\n",
    "            optimizer.zero_grad()\n",
    "            metric.update(y_pred, y_batch)\n",
    "        mean_loss = total_loss / len(train_loader)\n",
    "        history[\"train_losses\"].append(mean_loss)\n",
    "        history[\"train_metrics\"].append(metric.compute().item())\n",
    "        history[\"valid_metrics\"].append(\n",
    "            evaluate_named(model, valid_loader, metric).item())\n",
    "        print(f\"Epoch:{epoch+1}/{n_epochs}, \"\n",
    "             f\"Train Loss: {history['train_losses'][-1]:.4f}, \"\n",
    "             f\"Train Metric: {history['train_metrics'][-1]:.4f}, \"\n",
    "             f\"Valid Metric: {history['valid_metrics'][-1]:.4f}\")\n",
    "    return history\n",
    "        \n",
    "torch.manual_seed(42)\n",
    "model = WideAndDeepV3(n_features).to(device)\n",
    "learning_rate = 0.01\n",
    "optimizer = torch.optim.SGD(model.parameters(), lr=learning_rate, momentum=0)\n",
    "mse = nn.MSELoss()\n",
    "rmse = torchmetrics.MeanSquaredError(squared=False).to(device)\n",
    "\n",
    "history = train_named(model, optimizer, mse, rmse, train_loader, valid_loader, n_epochs)"
   ]
  },
  {
   "cell_type": "code",
   "execution_count": 115,
   "id": "4b0abcd5-3e39-4874-99f2-a61ed54b0912",
   "metadata": {},
   "outputs": [
    {
     "data": {
      "image/png": "[encoded data removed]",
      "text/plain": [
       "<Figure size 500x300 with 1 Axes>"
      ]
     },
     "metadata": {},
     "output_type": "display_data"
    }
   ],
   "source": [
    "plt.figure(figsize=[5,3])\n",
    "plt.plot(np.arange(n_epochs)+0.5,history[\"train_metrics\"],\".-\",label=\"Training\")\n",
    "plt.plot(np.arange(n_epochs)+1.0,history[\"valid_metrics\"],\".-\",label=\"Validation\")\n",
    "plt.legend()\n",
    "plt.grid()\n",
    "plt.xlabel(\"Epoch\")\n",
    "plt.ylabel(\"RMSE\")\n",
    "plt.title(\"Learning curves\")\n",
    "plt.axis([0.5, 20, 0.4, 1.0])\n",
    "plt.show()"
   ]
  },
  {
   "cell_type": "markdown",
   "id": "f25f3ecc-309f-46df-8486-22b3ce33dc3d",
   "metadata": {},
   "source": [
    "## Models With Multiple Outputs"
   ]
  },
  {
   "cell_type": "code",
   "execution_count": 116,
   "id": "81d88f22-2825-4b6e-840f-136db20dc215",
   "metadata": {},
   "outputs": [],
   "source": [
    "class WideAndDeepV4(nn.Module):\n",
    "    def __init__(self, n_features):\n",
    "        super().__init__()\n",
    "        self.deep_stack = nn.Sequential(\n",
    "            nn.Linear(n_features - 2, 50), nn.ReLU(),\n",
    "            nn.Linear(50, 40), nn.ReLU(),\n",
    "            nn.Linear(40, 30), nn.ReLU()\n",
    "        )\n",
    "        self.output_layer = nn.Linear(30 + 5, 1)\n",
    "        self.aux_output_layer = nn.Linear(30, 1)\n",
    "\n",
    "    def forward(self, X_wide, X_deep):\n",
    "        deep_output = self.deep_stack(X_deep)\n",
    "        deep_and_wide = torch.concat([X_wide, deep_output], dim=1)\n",
    "        main_output = self.output_layer(deep_and_wide)\n",
    "        aux_output = self.aux_output_layer(deep_output)\n",
    "        return main_output, aux_output"
   ]
  },
  {
   "cell_type": "code",
   "execution_count": 118,
   "id": "93f0d686-602d-4fcb-ba1a-3bbf20f83faf",
   "metadata": {},
   "outputs": [
    {
     "name": "stdout",
     "output_type": "stream",
     "text": [
      "Epoch:1/20, Train Loss: 1.0693, Train Metric: 0.9506, Valid Metric: 0.7085\n",
      "Epoch:2/20, Train Loss: 0.5709, Train Metric: 0.6860, Valid Metric: 0.6478\n",
      "Epoch:3/20, Train Loss: 0.4976, Train Metric: 0.6561, Valid Metric: 0.6451\n",
      "Epoch:4/20, Train Loss: 0.4688, Train Metric: 0.6494, Valid Metric: 0.6427\n",
      "Epoch:5/20, Train Loss: 0.4480, Train Metric: 0.6401, Valid Metric: 0.6516\n",
      "Epoch:6/20, Train Loss: 0.4393, Train Metric: 0.6361, Valid Metric: 0.6161\n",
      "Epoch:7/20, Train Loss: 0.4246, Train Metric: 0.6275, Valid Metric: 0.6549\n",
      "Epoch:8/20, Train Loss: 0.4247, Train Metric: 0.6298, Valid Metric: 0.6503\n",
      "Epoch:9/20, Train Loss: 0.4176, Train Metric: 0.6258, Valid Metric: 0.5981\n",
      "Epoch:10/20, Train Loss: 0.4030, Train Metric: 0.6149, Valid Metric: 0.6008\n",
      "Epoch:11/20, Train Loss: 0.3976, Train Metric: 0.6121, Valid Metric: 0.5908\n",
      "Epoch:12/20, Train Loss: 0.3894, Train Metric: 0.6065, Valid Metric: 0.5843\n",
      "Epoch:13/20, Train Loss: 0.3868, Train Metric: 0.6054, Valid Metric: 0.6007\n",
      "Epoch:14/20, Train Loss: 0.3784, Train Metric: 0.5989, Valid Metric: 0.5803\n",
      "Epoch:15/20, Train Loss: 0.3748, Train Metric: 0.5970, Valid Metric: 0.5940\n",
      "Epoch:16/20, Train Loss: 0.3847, Train Metric: 0.6074, Valid Metric: 0.5773\n",
      "Epoch:17/20, Train Loss: 0.3682, Train Metric: 0.5924, Valid Metric: 0.5673\n",
      "Epoch:18/20, Train Loss: 0.3644, Train Metric: 0.5898, Valid Metric: 0.5761\n",
      "Epoch:19/20, Train Loss: 0.3609, Train Metric: 0.5878, Valid Metric: 0.6291\n",
      "Epoch:20/20, Train Loss: 0.3577, Train Metric: 0.5850, Valid Metric: 0.5611\n"
     ]
    }
   ],
   "source": [
    "def evaluate_multi_out(model, data_loader, metric):\n",
    "    model.eval()\n",
    "    metric.reset()\n",
    "    with torch.no_grad():\n",
    "        for inputs, y_batch in data_loader:\n",
    "            inputs = {name:X.to(device) for name, X in inputs.items()}\n",
    "            y_batch = y_batch.to(device)\n",
    "            y_pred, _ = model(**inputs)\n",
    "            metric.update(y_pred, y_batch)\n",
    "    return metric.compute()\n",
    "\n",
    "def train_multi_out(model, optimizer, criterion, metric, train_loader, valid_loader, n_epochs):\n",
    "    history = {\"train_losses\":[],\"train_metrics\":[],\"valid_metrics\":[]}\n",
    "    for epoch in range(n_epochs):\n",
    "        total_loss = 0\n",
    "        metric.reset()\n",
    "        for inputs, y_batch in train_loader:\n",
    "            model.train()\n",
    "            inputs = {name:X.to(device) for name, X in inputs.items()}\n",
    "            y_batch = y_batch.to(device)\n",
    "            y_pred, y_pred_aux = model(**inputs)\n",
    "            main_loss = criterion(y_pred, y_batch)\n",
    "            aux_loss = criterion(y_pred_aux, y_batch)\n",
    "            loss = 0.8 * main_loss + 0.2 * aux_loss\n",
    "            total_loss += loss.item()\n",
    "            loss.backward()\n",
    "            optimizer.step()\n",
    "            optimizer.zero_grad()\n",
    "            metric.update(y_pred, y_batch)\n",
    "        mean_loss = total_loss / len(train_loader)\n",
    "        history[\"train_losses\"].append(mean_loss)\n",
    "        history[\"train_metrics\"].append(metric.compute().item())\n",
    "        history[\"valid_metrics\"].append(\n",
    "            evaluate_multi_out(model, valid_loader, metric).item()\n",
    "        )\n",
    "        print(f\"Epoch:{epoch+1}/{n_epochs}, \"\n",
    "             f\"Train Loss: {history['train_losses'][-1]:.4f}, \"\n",
    "             f\"Train Metric: {history['train_metrics'][-1]:.4f}, \"\n",
    "             f\"Valid Metric: {history['valid_metrics'][-1]:.4f}\")\n",
    "    return history\n",
    "\n",
    "torch.manual_seed(42)\n",
    "model = WideAndDeepV4(n_features).to(device)\n",
    "learning_rate = 0.01\n",
    "optimizer = torch.optim.SGD(model.parameters(), lr=learning_rate, momentum=0)\n",
    "mse = nn.MSELoss()\n",
    "rmse = torchmetrics.MeanSquaredError(squared=False).to(device)\n",
    "\n",
    "history = train_multi_out(model, optimizer, mse, rmse, train_loader, valid_loader, n_epochs)\n"
   ]
  },
  {
   "cell_type": "code",
   "execution_count": 119,
   "id": "5e6b3513-a568-4ae7-b611-46fcd0ececb6",
   "metadata": {},
   "outputs": [
    {
     "data": {
      "text/plain": [
       "3687"
      ]
     },
     "execution_count": 119,
     "metadata": {},
     "output_type": "execute_result"
    }
   ],
   "source": [
    "total_params = sum(p.numel() for p in model.parameters() if p.requires_grad)\n",
    "total_params"
   ]
  },
  {
   "cell_type": "code",
   "execution_count": 120,
   "id": "1e28cedf-13ba-49e9-9b71-20d3fd7604d6",
   "metadata": {},
   "outputs": [
    {
     "data": {
      "image/png": "[encoded data removed]",
      "text/plain": [
       "<Figure size 500x300 with 1 Axes>"
      ]
     },
     "metadata": {},
     "output_type": "display_data"
    }
   ],
   "source": [
    "plt.figure(figsize=[5,3])\n",
    "plt.plot(np.arange(n_epochs)+0.5,history[\"train_metrics\"],\".-\",label=\"Training\")\n",
    "plt.plot(np.arange(n_epochs)+1.0,history[\"valid_metrics\"],\".-\",label=\"Validation\")\n",
    "plt.legend()\n",
    "plt.grid()\n",
    "plt.xlabel(\"Epoch\")\n",
    "plt.ylabel(\"RMSE\")\n",
    "plt.title(\"Learning curves\")\n",
    "plt.axis([0.5, 20, 0.4, 1.0])\n",
    "plt.show()"
   ]
  },
  {
   "cell_type": "markdown",
   "id": "74e5cb5b-b04f-458f-90e5-e49b4c2a0535",
   "metadata": {},
   "source": [
    "## Image Classifier with PyTorch"
   ]
  },
  {
   "cell_type": "markdown",
   "id": "26bc1b68-0efb-4cea-a240-295ff4acea80",
   "metadata": {},
   "source": [
    "### Using PyTorch Vision to Load Dataset"
   ]
  },
  {
   "cell_type": "code",
   "execution_count": 125,
   "id": "21575fb5-7b8c-4efd-9090-f13c40b90648",
   "metadata": {},
   "outputs": [],
   "source": [
    "import torchvision\n",
    "import torchvision.transforms.v2 as T\n",
    "\n",
    "to_tensor = T.Compose([T.ToImage(), T.ToDtype(torch.float32, scale=True)])\n",
    "\n",
    "train_and_valid_data = torchvision.datasets.FashionMNIST(\n",
    "    root=\"datasets\", train=True, download=True, transform=to_tensor\n",
    ")\n",
    "test_data = torchvision.datasets.FashionMNIST(\n",
    "    root=\"datasets\", train=False, download=True, transform=to_tensor\n",
    ")\n",
    "\n",
    "train_data , valid_data = torch.utils.data.random_split(\n",
    "    train_and_valid_data, [55_000, 5_000]\n",
    ")"
   ]
  },
  {
   "cell_type": "code",
   "execution_count": 126,
   "id": "714dd8d5-563b-4f60-b24e-7eb061125c19",
   "metadata": {},
   "outputs": [],
   "source": [
    "torch.manual_seed(42)\n",
    "train_loader = DataLoader(train_data, batch_size = 32, shuffle=True)\n",
    "valid_loader = DataLoader(valid_data, batch_size = 32, shuffle=True)\n",
    "test_loader = DataLoader(test_data, batch_size = 32, shuffle=True)"
   ]
  },
  {
   "cell_type": "code",
   "execution_count": 127,
   "id": "8dd324c2-0736-4446-8587-5f6612837f4e",
   "metadata": {},
   "outputs": [],
   "source": [
    "X_sample, y_sample = train_data[0]"
   ]
  },
  {
   "cell_type": "code",
   "execution_count": 128,
   "id": "b22dc583-c3f0-4ec9-8444-2d9f9f2f816c",
   "metadata": {},
   "outputs": [
    {
     "data": {
      "text/plain": [
       "torch.Size([1, 28, 28])"
      ]
     },
     "execution_count": 128,
     "metadata": {},
     "output_type": "execute_result"
    }
   ],
   "source": [
    "X_sample.shape"
   ]
  },
  {
   "cell_type": "code",
   "execution_count": 129,
   "id": "63030929-5dfe-4176-b8cf-34e3b98732de",
   "metadata": {},
   "outputs": [
    {
     "data": {
      "text/plain": [
       "torch.float32"
      ]
     },
     "execution_count": 129,
     "metadata": {},
     "output_type": "execute_result"
    }
   ],
   "source": [
    "X_sample.dtype"
   ]
  },
  {
   "cell_type": "code",
   "execution_count": 130,
   "id": "d4bcc5b7-301f-4cd0-9600-49921fae8220",
   "metadata": {},
   "outputs": [
    {
     "data": {
      "text/plain": [
       "['T-shirt/top',\n",
       " 'Trouser',\n",
       " 'Pullover',\n",
       " 'Dress',\n",
       " 'Coat',\n",
       " 'Sandal',\n",
       " 'Shirt',\n",
       " 'Sneaker',\n",
       " 'Bag',\n",
       " 'Ankle boot']"
      ]
     },
     "execution_count": 130,
     "metadata": {},
     "output_type": "execute_result"
    }
   ],
   "source": [
    "train_and_valid_data.classes"
   ]
  },
  {
   "cell_type": "markdown",
   "id": "16c3ebeb-496c-4825-98dd-e8de994c3b79",
   "metadata": {},
   "source": [
    "## Building the Classifier"
   ]
  },
  {
   "cell_type": "code",
   "execution_count": 131,
   "id": "738e8e2b-0ad8-4ab9-aa46-0ab3009bbe17",
   "metadata": {},
   "outputs": [
    {
     "name": "stdout",
     "output_type": "stream",
     "text": [
      "Epoch:1/20, Train Loss: 0.6086, Train Metric: 0.7790, Valid Metric: 0.8090\n",
      "Epoch:2/20, Train Loss: 0.4054, Train Metric: 0.8515, Valid Metric: 0.8432\n",
      "Epoch:3/20, Train Loss: 0.3613, Train Metric: 0.8656, Valid Metric: 0.8484\n",
      "Epoch:4/20, Train Loss: 0.3321, Train Metric: 0.8752, Valid Metric: 0.8746\n",
      "Epoch:5/20, Train Loss: 0.3131, Train Metric: 0.8834, Valid Metric: 0.8780\n",
      "Epoch:6/20, Train Loss: 0.2970, Train Metric: 0.8887, Valid Metric: 0.8710\n",
      "Epoch:7/20, Train Loss: 0.2852, Train Metric: 0.8926, Valid Metric: 0.8670\n",
      "Epoch:8/20, Train Loss: 0.2704, Train Metric: 0.8987, Valid Metric: 0.8684\n",
      "Epoch:9/20, Train Loss: 0.2609, Train Metric: 0.9009, Valid Metric: 0.8718\n",
      "Epoch:10/20, Train Loss: 0.2525, Train Metric: 0.9036, Valid Metric: 0.8746\n",
      "Epoch:11/20, Train Loss: 0.2442, Train Metric: 0.9077, Valid Metric: 0.8760\n",
      "Epoch:12/20, Train Loss: 0.2360, Train Metric: 0.9101, Valid Metric: 0.8770\n",
      "Epoch:13/20, Train Loss: 0.2282, Train Metric: 0.9132, Valid Metric: 0.8764\n",
      "Epoch:14/20, Train Loss: 0.2198, Train Metric: 0.9168, Valid Metric: 0.8788\n",
      "Epoch:15/20, Train Loss: 0.2148, Train Metric: 0.9171, Valid Metric: 0.8834\n",
      "Epoch:16/20, Train Loss: 0.2086, Train Metric: 0.9202, Valid Metric: 0.8866\n",
      "Epoch:17/20, Train Loss: 0.2038, Train Metric: 0.9216, Valid Metric: 0.8902\n",
      "Epoch:18/20, Train Loss: 0.1976, Train Metric: 0.9251, Valid Metric: 0.8688\n",
      "Epoch:19/20, Train Loss: 0.1930, Train Metric: 0.9265, Valid Metric: 0.8830\n",
      "Epoch:20/20, Train Loss: 0.1874, Train Metric: 0.9282, Valid Metric: 0.8838\n"
     ]
    }
   ],
   "source": [
    "class ImageClassifier(nn.Module):\n",
    "    def __init__(self, n_inputs, n_hidden1, n_hidden2, n_classes):\n",
    "        super().__init__()\n",
    "        self.mlp = nn.Sequential(\n",
    "            nn.Flatten(),\n",
    "            nn.Linear(n_inputs, n_hidden1), nn.ReLU(),\n",
    "            nn.Linear(n_hidden1, n_hidden2), nn.ReLU(),\n",
    "            nn.Linear(n_hidden2, n_classes)\n",
    "        )\n",
    "    def forward(self, X):\n",
    "        return self.mlp(X)\n",
    "\n",
    "torch.manual_seed(42)\n",
    "model = ImageClassifier(n_inputs=1 * 28 * 28, n_hidden1=300, n_hidden2=100,\n",
    "                       n_classes=10).to(device)\n",
    "xentropy = nn.CrossEntropyLoss()\n",
    "\n",
    "optimizer = torch.optim.SGD(model.parameters(), lr=0.1)\n",
    "accuracy = torchmetrics.Accuracy(task=\"multiclass\", num_classes=10).to(device)\n",
    "history = train2(model, optimizer, xentropy, accuracy, train_loader, valid_loader,\n",
    "                n_epochs)"
   ]
  },
  {
   "cell_type": "code",
   "execution_count": 132,
   "id": "f0e21123-80ec-4f67-b8d8-e8430c3eacb2",
   "metadata": {},
   "outputs": [
    {
     "data": {
      "text/plain": [
       "tensor([9, 3, 6], device='mps:0')"
      ]
     },
     "execution_count": 132,
     "metadata": {},
     "output_type": "execute_result"
    }
   ],
   "source": [
    "model.eval()\n",
    "torch.manual_seed(42)\n",
    "X_new, y_new = next(iter(valid_loader))\n",
    "X_new = X_new[:3].to(device)\n",
    "with torch.no_grad():\n",
    "    y_pred_logits = model(X_new)\n",
    "y_pred = y_pred_logits.argmax(dim=1)\n",
    "y_pred"
   ]
  },
  {
   "cell_type": "code",
   "execution_count": 133,
   "id": "ea88b041-50a1-418f-88ce-28ae4391a251",
   "metadata": {},
   "outputs": [
    {
     "data": {
      "text/plain": [
       "tensor([9, 3, 6])"
      ]
     },
     "execution_count": 133,
     "metadata": {},
     "output_type": "execute_result"
    }
   ],
   "source": [
    "y_new[:3]"
   ]
  },
  {
   "cell_type": "code",
   "execution_count": 134,
   "id": "aaf151f2-01cc-434d-88ca-a65ea609533a",
   "metadata": {},
   "outputs": [
    {
     "data": {
      "text/plain": [
       "tensor([[0.0000, 0.0000, 0.0000, 0.0000, 0.0000, 0.0000, 0.0000, 0.0000, 0.0000,\n",
       "         1.0000],\n",
       "        [0.0000, 0.0000, 0.0000, 0.9990, 0.0000, 0.0000, 0.0010, 0.0000, 0.0000,\n",
       "         0.0000],\n",
       "        [0.0000, 0.0000, 0.0020, 0.0000, 0.0440, 0.0000, 0.9550, 0.0000, 0.0000,\n",
       "         0.0000]], device='mps:0')"
      ]
     },
     "execution_count": 134,
     "metadata": {},
     "output_type": "execute_result"
    }
   ],
   "source": [
    "import torch.nn.functional as F\n",
    "y_proba = F.softmax(y_pred_logits, dim=1)\n",
    "y_proba.round(decimals=3)\n"
   ]
  },
  {
   "cell_type": "code",
   "execution_count": 135,
   "id": "e7575ba0-7b01-47d8-b278-bb947daad48d",
   "metadata": {},
   "outputs": [
    {
     "data": {
      "text/plain": [
       "tensor([[0.0000, 0.0000, 0.0000, 0.0000, 0.0000, 0.0000, 0.0000, 0.0000, 0.0000,\n",
       "         1.0000],\n",
       "        [0.0000, 0.0000, 0.0000, 0.9990, 0.0000, 0.0000, 0.0010, 0.0000, 0.0000,\n",
       "         0.0000],\n",
       "        [0.0000, 0.0000, 0.0020, 0.0000, 0.0440, 0.0000, 0.9550, 0.0000, 0.0000,\n",
       "         0.0000]])"
      ]
     },
     "execution_count": 135,
     "metadata": {},
     "output_type": "execute_result"
    }
   ],
   "source": [
    "if device == \"mps\":\n",
    "    y_proba = y_proba.cpu()\n",
    "y_proba.cpu().round(decimals=3)"
   ]
  },
  {
   "cell_type": "code",
   "execution_count": 136,
   "id": "b3977fbe-be0b-4f3d-9155-a3c8b63dc318",
   "metadata": {},
   "outputs": [
    {
     "data": {
      "text/plain": [
       "tensor([[1.0000, 0.0000, 0.0000, 0.0000],\n",
       "        [0.9990, 0.0010, 0.0000, 0.0000],\n",
       "        [0.9550, 0.0440, 0.0020, 0.0000]], device='mps:0')"
      ]
     },
     "execution_count": 136,
     "metadata": {},
     "output_type": "execute_result"
    }
   ],
   "source": [
    "y_top4_values, y_top4_indices = torch.topk(y_pred_logits, k=4, dim=1)\n",
    "y_top4_probas = F.softmax(y_top4_values, dim=1)\n",
    "y_top4_probas.round(decimals=3)"
   ]
  },
  {
   "cell_type": "code",
   "execution_count": 137,
   "id": "bcb60df2-3377-461c-abcc-b17946fd8157",
   "metadata": {},
   "outputs": [
    {
     "data": {
      "text/plain": [
       "tensor([[9, 7, 1, 5],\n",
       "        [3, 6, 4, 8],\n",
       "        [6, 4, 2, 0]], device='mps:0')"
      ]
     },
     "execution_count": 137,
     "metadata": {},
     "output_type": "execute_result"
    }
   ],
   "source": [
    "y_top4_indices"
   ]
  },
  {
   "cell_type": "code",
   "execution_count": 138,
   "id": "01dd12fd-76b7-425f-a6c7-31308228517d",
   "metadata": {},
   "outputs": [
    {
     "data": {
      "text/plain": [
       "266610"
      ]
     },
     "execution_count": 138,
     "metadata": {},
     "output_type": "execute_result"
    }
   ],
   "source": [
    "sum(p.numel() for p in model.parameters() if p.requires_grad)"
   ]
  },
  {
   "cell_type": "markdown",
   "id": "6940b381-2199-417f-9f00-2fabb59eda54",
   "metadata": {},
   "source": [
    "## Hyperparameter Tuning using Optuna"
   ]
  },
  {
   "cell_type": "code",
   "execution_count": 141,
   "id": "14e1627d-9945-4cc3-8124-00b0085d44ef",
   "metadata": {},
   "outputs": [],
   "source": [
    "import optuna\n",
    "\n",
    "def objective(trail):\n",
    "    learning_rate = trail.suggest_float(\"learning_rate\", 1e-5, 1e-1, log=True)\n",
    "    n_hidden = trail.suggest_int(\"n_hidden\", 20, 300)\n",
    "    model = ImageClassifier(n_inputs=1 * 28 * 28, n_hidden1=n_hidden,\n",
    "                           n_hidden2=n_hidden, n_classes=10).to(device)\n",
    "    xentropy = nn.CrossEntropyLoss()\n",
    "    optimizer = torch.optim.SGD(model.parameters(), lr=learning_rate)\n",
    "    accuracy = torchmetrics.Accuracy(task=\"multiclass\", num_classes=10).to(device)\n",
    "    history = train2(model, optimizer, xentropy, accuracy, train_loader, \n",
    "                    valid_loader, n_epochs=10)\n",
    "    validation_accuracy = max(history[\"valid_metrics\"])\n",
    "    return validation_accuracy"
   ]
  },
  {
   "cell_type": "code",
   "execution_count": 143,
   "id": "3782dabb-5aaa-4128-8207-a43d643160fc",
   "metadata": {},
   "outputs": [
    {
     "name": "stderr",
     "output_type": "stream",
     "text": [
      "[I 2025-09-09 16:47:16,831] A new study created in memory with name: no-name-96d86d8f-3e44-447f-b5f5-fd3d69a011b2\n"
     ]
    },
    {
     "name": "stdout",
     "output_type": "stream",
     "text": [
      "Epoch:1/10, Train Loss: 2.2769, Train Metric: 0.1469, Valid Metric: 0.1956\n",
      "Epoch:2/10, Train Loss: 2.2093, Train Metric: 0.2835, Valid Metric: 0.3532\n",
      "Epoch:3/10, Train Loss: 2.1164, Train Metric: 0.4107, Valid Metric: 0.4562\n",
      "Epoch:4/10, Train Loss: 1.9777, Train Metric: 0.5103, Valid Metric: 0.5606\n",
      "Epoch:5/10, Train Loss: 1.7872, Train Metric: 0.5786, Valid Metric: 0.6116\n",
      "Epoch:6/10, Train Loss: 1.5783, Train Metric: 0.6192, Valid Metric: 0.6254\n",
      "Epoch:7/10, Train Loss: 1.3989, Train Metric: 0.6291, Valid Metric: 0.6252\n",
      "Epoch:8/10, Train Loss: 1.2616, Train Metric: 0.6351, Valid Metric: 0.6424\n",
      "Epoch:9/10, Train Loss: 1.1584, Train Metric: 0.6457, Valid Metric: 0.6500\n"
     ]
    },
    {
     "name": "stderr",
     "output_type": "stream",
     "text": [
      "[I 2025-09-09 16:49:10,745] Trial 0 finished with value: 0.6574000120162964 and parameters: {'learning_rate': 0.00031489116479568613, 'n_hidden': 287}. Best is trial 0 with value: 0.6574000120162964.\n"
     ]
    },
    {
     "name": "stdout",
     "output_type": "stream",
     "text": [
      "Epoch:10/10, Train Loss: 1.0795, Train Metric: 0.6522, Valid Metric: 0.6574\n",
      "Epoch:1/10, Train Loss: 1.1622, Train Metric: 0.6121, Valid Metric: 0.7310\n",
      "Epoch:2/10, Train Loss: 0.6197, Train Metric: 0.7857, Valid Metric: 0.7934\n",
      "Epoch:3/10, Train Loss: 0.5235, Train Metric: 0.8185, Valid Metric: 0.8142\n",
      "Epoch:4/10, Train Loss: 0.4817, Train Metric: 0.8323, Valid Metric: 0.8254\n",
      "Epoch:5/10, Train Loss: 0.4558, Train Metric: 0.8409, Valid Metric: 0.8322\n",
      "Epoch:6/10, Train Loss: 0.4368, Train Metric: 0.8477, Valid Metric: 0.8430\n",
      "Epoch:7/10, Train Loss: 0.4216, Train Metric: 0.8526, Valid Metric: 0.8456\n",
      "Epoch:8/10, Train Loss: 0.4084, Train Metric: 0.8579, Valid Metric: 0.8428\n",
      "Epoch:9/10, Train Loss: 0.3977, Train Metric: 0.8603, Valid Metric: 0.8490\n"
     ]
    },
    {
     "name": "stderr",
     "output_type": "stream",
     "text": [
      "[I 2025-09-09 16:51:01,768] Trial 1 finished with value: 0.8514000177383423 and parameters: {'learning_rate': 0.008471801418819975, 'n_hidden': 188}. Best is trial 1 with value: 0.8514000177383423.\n"
     ]
    },
    {
     "name": "stdout",
     "output_type": "stream",
     "text": [
      "Epoch:10/10, Train Loss: 0.3871, Train Metric: 0.8637, Valid Metric: 0.8514\n",
      "Epoch:1/10, Train Loss: 2.2996, Train Metric: 0.0997, Valid Metric: 0.1022\n",
      "Epoch:2/10, Train Loss: 2.2946, Train Metric: 0.0997, Valid Metric: 0.1024\n",
      "Epoch:3/10, Train Loss: 2.2894, Train Metric: 0.0997, Valid Metric: 0.1024\n",
      "Epoch:4/10, Train Loss: 2.2841, Train Metric: 0.0996, Valid Metric: 0.1024\n",
      "Epoch:5/10, Train Loss: 2.2786, Train Metric: 0.0996, Valid Metric: 0.1024\n",
      "Epoch:6/10, Train Loss: 2.2728, Train Metric: 0.0997, Valid Metric: 0.1026\n",
      "Epoch:7/10, Train Loss: 2.2668, Train Metric: 0.1001, Valid Metric: 0.1030\n",
      "Epoch:8/10, Train Loss: 2.2607, Train Metric: 0.1004, Valid Metric: 0.1036\n",
      "Epoch:9/10, Train Loss: 2.2544, Train Metric: 0.1011, Valid Metric: 0.1046\n"
     ]
    },
    {
     "name": "stderr",
     "output_type": "stream",
     "text": [
      "[I 2025-09-09 16:52:58,685] Trial 2 finished with value: 0.10540000349283218 and parameters: {'learning_rate': 4.207988669606632e-05, 'n_hidden': 63}. Best is trial 1 with value: 0.8514000177383423.\n"
     ]
    },
    {
     "name": "stdout",
     "output_type": "stream",
     "text": [
      "Epoch:10/10, Train Loss: 2.2477, Train Metric: 0.1020, Valid Metric: 0.1054\n",
      "Epoch:1/10, Train Loss: 2.3063, Train Metric: 0.0878, Valid Metric: 0.1094\n",
      "Epoch:2/10, Train Loss: 2.3030, Train Metric: 0.1105, Valid Metric: 0.1332\n",
      "Epoch:3/10, Train Loss: 2.2998, Train Metric: 0.1335, Valid Metric: 0.1508\n",
      "Epoch:4/10, Train Loss: 2.2966, Train Metric: 0.1429, Valid Metric: 0.1548\n",
      "Epoch:5/10, Train Loss: 2.2934, Train Metric: 0.1440, Valid Metric: 0.1530\n",
      "Epoch:6/10, Train Loss: 2.2902, Train Metric: 0.1430, Valid Metric: 0.1506\n",
      "Epoch:7/10, Train Loss: 2.2871, Train Metric: 0.1411, Valid Metric: 0.1482\n",
      "Epoch:8/10, Train Loss: 2.2840, Train Metric: 0.1388, Valid Metric: 0.1446\n",
      "Epoch:9/10, Train Loss: 2.2810, Train Metric: 0.1367, Valid Metric: 0.1412\n"
     ]
    },
    {
     "name": "stderr",
     "output_type": "stream",
     "text": [
      "[I 2025-09-09 16:54:55,343] Trial 3 finished with value: 0.15479999780654907 and parameters: {'learning_rate': 1.7073967431528103e-05, 'n_hidden': 263}. Best is trial 1 with value: 0.8514000177383423.\n"
     ]
    },
    {
     "name": "stdout",
     "output_type": "stream",
     "text": [
      "Epoch:10/10, Train Loss: 2.2779, Train Metric: 0.1346, Valid Metric: 0.1400\n",
      "Epoch:1/10, Train Loss: 1.8597, Train Metric: 0.4235, Valid Metric: 0.6150\n",
      "Epoch:2/10, Train Loss: 0.9838, Train Metric: 0.6643, Valid Metric: 0.6890\n",
      "Epoch:3/10, Train Loss: 0.7658, Train Metric: 0.7246, Valid Metric: 0.7502\n",
      "Epoch:4/10, Train Loss: 0.6741, Train Metric: 0.7643, Valid Metric: 0.7742\n",
      "Epoch:5/10, Train Loss: 0.6145, Train Metric: 0.7888, Valid Metric: 0.7878\n",
      "Epoch:6/10, Train Loss: 0.5726, Train Metric: 0.8046, Valid Metric: 0.8020\n",
      "Epoch:7/10, Train Loss: 0.5413, Train Metric: 0.8149, Valid Metric: 0.8126\n",
      "Epoch:8/10, Train Loss: 0.5176, Train Metric: 0.8221, Valid Metric: 0.8152\n",
      "Epoch:9/10, Train Loss: 0.4993, Train Metric: 0.8267, Valid Metric: 0.8190\n"
     ]
    },
    {
     "name": "stderr",
     "output_type": "stream",
     "text": [
      "[I 2025-09-09 16:56:50,856] Trial 4 finished with value: 0.8267999887466431 and parameters: {'learning_rate': 0.002537815508265664, 'n_hidden': 218}. Best is trial 1 with value: 0.8514000177383423.\n"
     ]
    },
    {
     "name": "stdout",
     "output_type": "stream",
     "text": [
      "Epoch:10/10, Train Loss: 0.4853, Train Metric: 0.8319, Valid Metric: 0.8268\n"
     ]
    }
   ],
   "source": [
    "torch.manual_seed(42)\n",
    "sampler = optuna.samplers.TPESampler(seed=42)\n",
    "study = optuna.create_study(direction=\"maximize\", sampler=sampler)\n",
    "study.optimize(objective, n_trials=5)"
   ]
  },
  {
   "cell_type": "code",
   "execution_count": 145,
   "id": "fb5c778e-dda5-4c15-bd6c-6c4e582db552",
   "metadata": {},
   "outputs": [
    {
     "data": {
      "text/plain": [
       "{'learning_rate': 0.008471801418819975, 'n_hidden': 188}"
      ]
     },
     "execution_count": 145,
     "metadata": {},
     "output_type": "execute_result"
    }
   ],
   "source": [
    "study.best_params"
   ]
  },
  {
   "cell_type": "code",
   "execution_count": 147,
   "id": "d0d354b9-3506-439e-b5e1-286e1fab4cf4",
   "metadata": {},
   "outputs": [
    {
     "data": {
      "text/plain": [
       "0.8514000177383423"
      ]
     },
     "execution_count": 147,
     "metadata": {},
     "output_type": "execute_result"
    }
   ],
   "source": [
    "study.best_value"
   ]
  }
 ],
 "metadata": {
  "kernelspec": {
   "display_name": "Python [conda env:base] *",
   "language": "python",
   "name": "conda-base-py"
  },
  "language_info": {
   "codemirror_mode": {
    "name": "ipython",
    "version": 3
   },
   "file_extension": ".py",
   "mimetype": "text/x-python",
   "name": "python",
   "nbconvert_exporter": "python",
   "pygments_lexer": "ipython3",
   "version": "3.12.2"
  }
 },
 "nbformat": 4,
 "nbformat_minor": 5
}
